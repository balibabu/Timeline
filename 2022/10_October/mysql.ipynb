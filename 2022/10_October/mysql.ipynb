{
 "cells": [
  {
   "cell_type": "markdown",
   "metadata": {},
   "source": [
    "## <font face='comic sans ms' color ='yellow'>mysql python</font>"
   ]
  },
  {
   "cell_type": "code",
   "execution_count": null,
   "metadata": {},
   "outputs": [],
   "source": [
    "import mysql.connector as con"
   ]
  },
  {
   "cell_type": "code",
   "execution_count": null,
   "metadata": {},
   "outputs": [],
   "source": [
    "mydb=con.connect(host='localhost',user='root',passwd='12345')\n",
    "mydb.is_connected()"
   ]
  },
  {
   "cell_type": "code",
   "execution_count": null,
   "metadata": {},
   "outputs": [],
   "source": [
    "mycursor=mydb.cursor()\n",
    "mycursor.execute('show databases')"
   ]
  },
  {
   "cell_type": "code",
   "execution_count": null,
   "metadata": {},
   "outputs": [],
   "source": [
    "for row in mycursor:\n",
    "    print(row)"
   ]
  },
  {
   "cell_type": "code",
   "execution_count": null,
   "metadata": {},
   "outputs": [],
   "source": [
    "mydb=con.connect(host='localhost',user='root',passwd='12345',database='semester6_db')\n",
    "mydb.is_connected()"
   ]
  },
  {
   "cell_type": "code",
   "execution_count": null,
   "metadata": {},
   "outputs": [],
   "source": [
    "mycursor=mydb.cursor()\n",
    "mycursor.execute('select * from course')"
   ]
  },
  {
   "cell_type": "code",
   "execution_count": null,
   "metadata": {},
   "outputs": [],
   "source": [
    "for row in mycursor:\n",
    "    print(row)"
   ]
  },
  {
   "cell_type": "markdown",
   "metadata": {},
   "source": [
    "## <font face='comic sans ms' color ='yellow'>Reading csv file and creating table with its data</font>"
   ]
  },
  {
   "cell_type": "code",
   "execution_count": null,
   "metadata": {},
   "outputs": [],
   "source": [
    "def readCsvFile(filePath):\n",
    "    import csv\n",
    "    with open(filePath) as f:\n",
    "        tab_reader=csv.reader(f,delimiter=',')\n",
    "        return list(tab_reader)[1:]\n",
    "        # for row in tab_reader:\n",
    "        #     print(row)\n",
    "        #     # break"
   ]
  },
  {
   "cell_type": "code",
   "execution_count": null,
   "metadata": {},
   "outputs": [],
   "source": [
    "print(len(readCsvFile('resources/books.csv')))"
   ]
  },
  {
   "cell_type": "code",
   "execution_count": null,
   "metadata": {},
   "outputs": [],
   "source": [
    "import mysql.connector as con\n",
    "mydb=con.connect(host='localhost',user='root',passwd='12345')\n",
    "mydb.is_connected()"
   ]
  },
  {
   "cell_type": "code",
   "execution_count": null,
   "metadata": {},
   "outputs": [],
   "source": [
    "mycursor=mydb.cursor()\n",
    "try:\n",
    "    mycursor.execute('create database book_db')\n",
    "    print('database book_db successfully created...')\n",
    "except:\n",
    "    print('error occured')\n",
    "mycursor.execute('show databases')\n",
    "print('list of databases are')\n",
    "print(list(mycursor))"
   ]
  },
  {
   "cell_type": "code",
   "execution_count": null,
   "metadata": {},
   "outputs": [],
   "source": [
    "mycursor.execute('use book_db')\n",
    "print(mycursor)"
   ]
  },
  {
   "cell_type": "code",
   "execution_count": null,
   "metadata": {},
   "outputs": [],
   "source": [
    "mycursor.execute('create table Book(Book_id serial primary key, Title varchar(100), Author varchar(50), Genre varchar(50), Height int, Publisher varchar(50))')\n",
    "print(mycursor)"
   ]
  },
  {
   "cell_type": "code",
   "execution_count": null,
   "metadata": {},
   "outputs": [],
   "source": [
    "mycursor.execute('show tables')\n",
    "for table in mycursor:\n",
    "    print(table[0])"
   ]
  },
  {
   "cell_type": "code",
   "execution_count": null,
   "metadata": {},
   "outputs": [],
   "source": [
    "def insert(listOfData,mycursor):\n",
    "    c=0\n",
    "    for row in listOfData:\n",
    "        for i in range(len(row)):\n",
    "            if row[i]=='': row[i]='null'\n",
    "        Title,Author,Genre,Height,Publisher=row\n",
    "        query=f'''INSERT into book(Title,Author,Genre,Height,Publisher) values(\"{Title}\",\"{Author}\",\"{Genre}\",{Height},\"{Publisher}\")'''\n",
    "        try:\n",
    "            mycursor.execute(query)\n",
    "            c+=1\n",
    "        except Exception as e:\n",
    "            print(e)\n",
    "            print(query)\n",
    "    print(c,'values inserted')"
   ]
  },
  {
   "cell_type": "code",
   "execution_count": null,
   "metadata": {},
   "outputs": [],
   "source": [
    "insert(readCsvFile('resources/books.csv'),mycursor)"
   ]
  },
  {
   "cell_type": "code",
   "execution_count": null,
   "metadata": {},
   "outputs": [],
   "source": [
    "len('Clash of Civilizations and Remaking of the World Order')"
   ]
  },
  {
   "cell_type": "code",
   "execution_count": null,
   "metadata": {},
   "outputs": [],
   "source": []
  },
  {
   "cell_type": "code",
   "execution_count": null,
   "metadata": {},
   "outputs": [],
   "source": []
  },
  {
   "cell_type": "code",
   "execution_count": null,
   "metadata": {},
   "outputs": [],
   "source": []
  },
  {
   "cell_type": "code",
   "execution_count": null,
   "metadata": {},
   "outputs": [],
   "source": [
    "def showRows(table,mycursor):\n",
    "    mycursor.execute(f'select * from {table}')\n",
    "    for row in mycursor:\n",
    "        print(row)"
   ]
  },
  {
   "cell_type": "code",
   "execution_count": null,
   "metadata": {},
   "outputs": [],
   "source": [
    "showRows('book',mycursor)"
   ]
  },
  {
   "cell_type": "code",
   "execution_count": null,
   "metadata": {},
   "outputs": [],
   "source": [
    "mycursor.execute('delete from book')"
   ]
  },
  {
   "cell_type": "code",
   "execution_count": null,
   "metadata": {},
   "outputs": [],
   "source": [
    "mycursor.execute(\"alter table book modify title varchar(100)\")"
   ]
  },
  {
   "cell_type": "code",
   "execution_count": null,
   "metadata": {},
   "outputs": [],
   "source": []
  },
  {
   "cell_type": "code",
   "execution_count": null,
   "metadata": {},
   "outputs": [],
   "source": []
  }
 ],
 "metadata": {
  "kernelspec": {
   "display_name": "Python 3.9.12 ('base')",
   "language": "python",
   "name": "python3"
  },
  "language_info": {
   "codemirror_mode": {
    "name": "ipython",
    "version": 3
   },
   "file_extension": ".py",
   "mimetype": "text/x-python",
   "name": "python",
   "nbconvert_exporter": "python",
   "pygments_lexer": "ipython3",
   "version": "3.9.12"
  },
  "orig_nbformat": 4,
  "vscode": {
   "interpreter": {
    "hash": "649e9a488baa9f755be1bd774174f13c00c6eb61d6f5988e2904ab6e22ac3fc0"
   }
  }
 },
 "nbformat": 4,
 "nbformat_minor": 2
}
