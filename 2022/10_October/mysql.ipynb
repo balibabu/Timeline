{
 "cells": [
  {
   "cell_type": "markdown",
   "metadata": {},
   "source": [
    "## <font face='comic sans ms' color ='yellow'>mysql python</font>"
   ]
  },
  {
   "cell_type": "code",
   "execution_count": null,
   "metadata": {},
   "outputs": [],
   "source": [
    "import mysql.connector as con"
   ]
  },
  {
   "cell_type": "code",
   "execution_count": null,
   "metadata": {},
   "outputs": [],
   "source": [
    "mydb=con.connect(host='localhost',user='root',passwd='12345')\n",
    "mydb.is_connected()"
   ]
  },
  {
   "cell_type": "code",
   "execution_count": null,
   "metadata": {},
   "outputs": [],
   "source": [
    "mycursor=mydb.cursor()\n",
    "mycursor.execute('show databases')"
   ]
  },
  {
   "cell_type": "code",
   "execution_count": null,
   "metadata": {},
   "outputs": [],
   "source": [
    "for row in mycursor:\n",
    "    print(row)"
   ]
  },
  {
   "cell_type": "code",
   "execution_count": null,
   "metadata": {},
   "outputs": [],
   "source": [
    "mydb=con.connect(host='localhost',user='root',passwd='12345',database='semester6_db')\n",
    "mydb.is_connected()"
   ]
  },
  {
   "cell_type": "code",
   "execution_count": null,
   "metadata": {},
   "outputs": [],
   "source": [
    "mycursor=mydb.cursor()\n",
    "mycursor.execute('select * from course')"
   ]
  },
  {
   "cell_type": "code",
   "execution_count": null,
   "metadata": {},
   "outputs": [],
   "source": [
    "for row in mycursor:\n",
    "    print(row)"
   ]
  },
  {
   "cell_type": "markdown",
   "metadata": {},
   "source": [
    "## <font face='comic sans ms' color ='yellow'>Reading csv file and creating table with its data</font>"
   ]
  },
  {
   "cell_type": "code",
   "execution_count": 1,
   "metadata": {},
   "outputs": [],
   "source": [
    "def readCsvFile(filePath):\n",
    "    import csv\n",
    "    with open(filePath) as f:\n",
    "        tab_reader=csv.reader(f,delimiter=',')\n",
    "        return list(tab_reader)[1:]\n",
    "        # for row in tab_reader:\n",
    "        #     print(row)\n",
    "        #     # break"
   ]
  },
  {
   "cell_type": "code",
   "execution_count": 10,
   "metadata": {},
   "outputs": [
    {
     "name": "stdout",
     "output_type": "stream",
     "text": [
      "211\n"
     ]
    }
   ],
   "source": [
    "print(len(readCsvFile('resources/books.csv')))"
   ]
  },
  {
   "cell_type": "code",
   "execution_count": 2,
   "metadata": {},
   "outputs": [
    {
     "data": {
      "text/plain": [
       "True"
      ]
     },
     "execution_count": 2,
     "metadata": {},
     "output_type": "execute_result"
    }
   ],
   "source": [
    "import mysql.connector as con\n",
    "mydb=con.connect(host='localhost',user='root',passwd='12345')\n",
    "mydb.is_connected()"
   ]
  },
  {
   "cell_type": "code",
   "execution_count": 3,
   "metadata": {},
   "outputs": [
    {
     "name": "stdout",
     "output_type": "stream",
     "text": [
      "error occured\n",
      "list of databases are\n",
      "[('book_db',), ('information_schema',), ('mysql',), ('performance_schema',), ('sakila',), ('semester6_db',), ('studentdb',), ('sys',), ('world',)]\n"
     ]
    }
   ],
   "source": [
    "mycursor=mydb.cursor()\n",
    "try:\n",
    "    mycursor.execute('create database book_db')\n",
    "    print('database book_db successfully created...')\n",
    "except:\n",
    "    print('error occured')\n",
    "mycursor.execute('show databases')\n",
    "print('list of databases are')\n",
    "print(list(mycursor))"
   ]
  },
  {
   "cell_type": "code",
   "execution_count": 4,
   "metadata": {},
   "outputs": [
    {
     "name": "stdout",
     "output_type": "stream",
     "text": [
      "CMySQLCursor: use book_db\n"
     ]
    }
   ],
   "source": [
    "mycursor.execute('use book_db')\n",
    "print(mycursor)"
   ]
  },
  {
   "cell_type": "code",
   "execution_count": 5,
   "metadata": {},
   "outputs": [
    {
     "ename": "ProgrammingError",
     "evalue": "1050 (42S01): Table 'book' already exists",
     "output_type": "error",
     "traceback": [
      "\u001b[1;31m---------------------------------------------------------------------------\u001b[0m",
      "\u001b[1;31mMySQLInterfaceError\u001b[0m                       Traceback (most recent call last)",
      "File \u001b[1;32mc:\\Users\\19410\\anaconda3\\lib\\site-packages\\mysql\\connector\\connection_cext.py:565\u001b[0m, in \u001b[0;36mCMySQLConnection.cmd_query\u001b[1;34m(self, query, raw, buffered, raw_as_string)\u001b[0m\n\u001b[0;32m    564\u001b[0m         query \u001b[39m=\u001b[39m query\u001b[39m.\u001b[39mencode(\u001b[39m\"\u001b[39m\u001b[39mutf-8\u001b[39m\u001b[39m\"\u001b[39m)\n\u001b[1;32m--> 565\u001b[0m     \u001b[39mself\u001b[39;49m\u001b[39m.\u001b[39;49m_cmysql\u001b[39m.\u001b[39;49mquery(\n\u001b[0;32m    566\u001b[0m         query,\n\u001b[0;32m    567\u001b[0m         raw\u001b[39m=\u001b[39;49mraw,\n\u001b[0;32m    568\u001b[0m         buffered\u001b[39m=\u001b[39;49mbuffered,\n\u001b[0;32m    569\u001b[0m         raw_as_string\u001b[39m=\u001b[39;49mraw_as_string,\n\u001b[0;32m    570\u001b[0m         query_attrs\u001b[39m=\u001b[39;49m\u001b[39mself\u001b[39;49m\u001b[39m.\u001b[39;49m_query_attrs,\n\u001b[0;32m    571\u001b[0m     )\n\u001b[0;32m    572\u001b[0m \u001b[39mexcept\u001b[39;00m MySQLInterfaceError \u001b[39mas\u001b[39;00m err:\n",
      "\u001b[1;31mMySQLInterfaceError\u001b[0m: Table 'book' already exists",
      "\nThe above exception was the direct cause of the following exception:\n",
      "\u001b[1;31mProgrammingError\u001b[0m                          Traceback (most recent call last)",
      "\u001b[1;32md:\\Works_Space\\Timeline\\2022\\10_October\\mysql.ipynb Cell 15\u001b[0m in \u001b[0;36m<cell line: 1>\u001b[1;34m()\u001b[0m\n\u001b[1;32m----> <a href='vscode-notebook-cell:/d%3A/Works_Space/Timeline/2022/10_October/mysql.ipynb#X31sZmlsZQ%3D%3D?line=0'>1</a>\u001b[0m mycursor\u001b[39m.\u001b[39;49mexecute(\u001b[39m'\u001b[39;49m\u001b[39mcreate table Book(Book_id serial primary key, Title varchar(50), Author varchar(30), Genre varchar(30), Height int, Publisher varchar(50))\u001b[39;49m\u001b[39m'\u001b[39;49m)\n\u001b[0;32m      <a href='vscode-notebook-cell:/d%3A/Works_Space/Timeline/2022/10_October/mysql.ipynb#X31sZmlsZQ%3D%3D?line=1'>2</a>\u001b[0m \u001b[39mprint\u001b[39m(mycursor)\n",
      "File \u001b[1;32mc:\\Users\\19410\\anaconda3\\lib\\site-packages\\mysql\\connector\\cursor_cext.py:279\u001b[0m, in \u001b[0;36mCMySQLCursor.execute\u001b[1;34m(self, operation, params, multi)\u001b[0m\n\u001b[0;32m    274\u001b[0m             \u001b[39mraise\u001b[39;00m ProgrammingError(\n\u001b[0;32m    275\u001b[0m                 \u001b[39m\"\u001b[39m\u001b[39mNot all parameters were used in the SQL statement\u001b[39m\u001b[39m\"\u001b[39m\n\u001b[0;32m    276\u001b[0m             )\n\u001b[0;32m    278\u001b[0m \u001b[39mtry\u001b[39;00m:\n\u001b[1;32m--> 279\u001b[0m     result \u001b[39m=\u001b[39m \u001b[39mself\u001b[39;49m\u001b[39m.\u001b[39;49m_cnx\u001b[39m.\u001b[39;49mcmd_query(\n\u001b[0;32m    280\u001b[0m         stmt,\n\u001b[0;32m    281\u001b[0m         raw\u001b[39m=\u001b[39;49m\u001b[39mself\u001b[39;49m\u001b[39m.\u001b[39;49m_raw,\n\u001b[0;32m    282\u001b[0m         buffered\u001b[39m=\u001b[39;49m\u001b[39mself\u001b[39;49m\u001b[39m.\u001b[39;49m_buffered,\n\u001b[0;32m    283\u001b[0m         raw_as_string\u001b[39m=\u001b[39;49m\u001b[39mself\u001b[39;49m\u001b[39m.\u001b[39;49m_raw_as_string,\n\u001b[0;32m    284\u001b[0m     )\n\u001b[0;32m    285\u001b[0m \u001b[39mexcept\u001b[39;00m MySQLInterfaceError \u001b[39mas\u001b[39;00m err:\n\u001b[0;32m    286\u001b[0m     \u001b[39mraise\u001b[39;00m get_mysql_exception(\n\u001b[0;32m    287\u001b[0m         msg\u001b[39m=\u001b[39merr\u001b[39m.\u001b[39mmsg, errno\u001b[39m=\u001b[39merr\u001b[39m.\u001b[39merrno, sqlstate\u001b[39m=\u001b[39merr\u001b[39m.\u001b[39msqlstate\n\u001b[0;32m    288\u001b[0m     ) \u001b[39mfrom\u001b[39;00m \u001b[39merr\u001b[39;00m\n",
      "File \u001b[1;32mc:\\Users\\19410\\anaconda3\\lib\\site-packages\\mysql\\connector\\connection_cext.py:573\u001b[0m, in \u001b[0;36mCMySQLConnection.cmd_query\u001b[1;34m(self, query, raw, buffered, raw_as_string)\u001b[0m\n\u001b[0;32m    565\u001b[0m     \u001b[39mself\u001b[39m\u001b[39m.\u001b[39m_cmysql\u001b[39m.\u001b[39mquery(\n\u001b[0;32m    566\u001b[0m         query,\n\u001b[0;32m    567\u001b[0m         raw\u001b[39m=\u001b[39mraw,\n\u001b[1;32m   (...)\u001b[0m\n\u001b[0;32m    570\u001b[0m         query_attrs\u001b[39m=\u001b[39m\u001b[39mself\u001b[39m\u001b[39m.\u001b[39m_query_attrs,\n\u001b[0;32m    571\u001b[0m     )\n\u001b[0;32m    572\u001b[0m \u001b[39mexcept\u001b[39;00m MySQLInterfaceError \u001b[39mas\u001b[39;00m err:\n\u001b[1;32m--> 573\u001b[0m     \u001b[39mraise\u001b[39;00m get_mysql_exception(\n\u001b[0;32m    574\u001b[0m         err\u001b[39m.\u001b[39merrno, msg\u001b[39m=\u001b[39merr\u001b[39m.\u001b[39mmsg, sqlstate\u001b[39m=\u001b[39merr\u001b[39m.\u001b[39msqlstate\n\u001b[0;32m    575\u001b[0m     ) \u001b[39mfrom\u001b[39;00m \u001b[39merr\u001b[39;00m\n\u001b[0;32m    576\u001b[0m \u001b[39mexcept\u001b[39;00m \u001b[39mAttributeError\u001b[39;00m \u001b[39mas\u001b[39;00m err:\n\u001b[0;32m    577\u001b[0m     addr \u001b[39m=\u001b[39m (\n\u001b[0;32m    578\u001b[0m         \u001b[39mself\u001b[39m\u001b[39m.\u001b[39m_unix_socket \u001b[39mif\u001b[39;00m \u001b[39mself\u001b[39m\u001b[39m.\u001b[39m_unix_socket \u001b[39melse\u001b[39;00m \u001b[39mf\u001b[39m\u001b[39m\"\u001b[39m\u001b[39m{\u001b[39;00m\u001b[39mself\u001b[39m\u001b[39m.\u001b[39m_host\u001b[39m}\u001b[39;00m\u001b[39m:\u001b[39m\u001b[39m{\u001b[39;00m\u001b[39mself\u001b[39m\u001b[39m.\u001b[39m_port\u001b[39m}\u001b[39;00m\u001b[39m\"\u001b[39m\n\u001b[0;32m    579\u001b[0m     )\n",
      "\u001b[1;31mProgrammingError\u001b[0m: 1050 (42S01): Table 'book' already exists"
     ]
    }
   ],
   "source": [
    "mycursor.execute('create table Book(Book_id serial primary key, Title varchar(50), Author varchar(30), Genre varchar(30), Height int, Publisher varchar(50))')\n",
    "print(mycursor)"
   ]
  },
  {
   "cell_type": "code",
   "execution_count": 6,
   "metadata": {},
   "outputs": [
    {
     "name": "stdout",
     "output_type": "stream",
     "text": [
      "book\n"
     ]
    }
   ],
   "source": [
    "mycursor.execute('show tables')\n",
    "for table in mycursor:\n",
    "    print(table[0])"
   ]
  },
  {
   "cell_type": "code",
   "execution_count": 19,
   "metadata": {},
   "outputs": [],
   "source": [
    "def insert(listOfData,mycursor):\n",
    "    c=0\n",
    "    for row in listOfData:\n",
    "        for i in range(len(row)):\n",
    "            if row[i]=='': row[i]='null'\n",
    "        Title,Author,Genre,Height,Publisher=row\n",
    "        query=f\"INSERT into book(Title,Author,Genre,Height,Publisher) values('{Title}','{Author}','{Genre}',{Height},'{Publisher}')\"\n",
    "        try:\n",
    "            mycursor.execute(query)\n",
    "            c+=1\n",
    "        except Exception as e:\n",
    "            print(e)\n",
    "            print(query)\n",
    "    print(c,'values inserted')"
   ]
  },
  {
   "cell_type": "code",
   "execution_count": 22,
   "metadata": {},
   "outputs": [
    {
     "name": "stdout",
     "output_type": "stream",
     "text": [
      "1064 (42000): You have an error in your SQL syntax; check the manual that corresponds to your MySQL server version for the right syntax to use near 's Walk, The','Mlodinow, Leonard','science',197,'Penguin')' at line 1\n",
      "INSERT into book(Title,Author,Genre,Height,Publisher) values('Drunkard's Walk, The','Mlodinow, Leonard','science',197,'Penguin')\n",
      "1064 (42000): You have an error in your SQL syntax; check the manual that corresponds to your MySQL server version for the right syntax to use near 'Pratt, John','data_science',236,'MIT Press')' at line 1\n",
      "INSERT into book(Title,Author,Genre,Height,Publisher) values('Statistical Decision Theory'','Pratt, John','data_science',236,'MIT Press')\n",
      "1064 (42000): You have an error in your SQL syntax; check the manual that corresponds to your MySQL server version for the right syntax to use near 'Reilly')' at line 1\n",
      "INSERT into book(Title,Author,Genre,Height,Publisher) values('Making Software','Oram, Andy','computer_science',232,'O'Reilly')\n",
      "1064 (42000): You have an error in your SQL syntax; check the manual that corresponds to your MySQL server version for the right syntax to use near 'Reilly')' at line 1\n",
      "INSERT into book(Title,Author,Genre,Height,Publisher) values('Machine Learning for Hackers','Conway, Drew','data_science',233,'O'Reilly')\n",
      "1064 (42000): You have an error in your SQL syntax; check the manual that corresponds to your MySQL server version for the right syntax to use near 'Reilly')' at line 1\n",
      "INSERT into book(Title,Author,Genre,Height,Publisher) values('Python for Data Analysis','McKinney, Wes','data_science',233,'O'Reilly')\n",
      "1064 (42000): You have an error in your SQL syntax; check the manual that corresponds to your MySQL server version for the right syntax to use near 're Joking Mr Feynman','Feynman, Richard','science',198,'Random House')' at line 1\n",
      "INSERT into book(Title,Author,Genre,Height,Publisher) values('Surely You're Joking Mr Feynman','Feynman, Richard','science',198,'Random House')\n",
      "1064 (42000): You have an error in your SQL syntax; check the manual that corresponds to your MySQL server version for the right syntax to use near 'Reilly')' at line 1\n",
      "INSERT into book(Title,Author,Genre,Height,Publisher) values('Learning OpenCV','Bradsky, Gary','data_science',232,'O'Reilly')\n",
      "1064 (42000): You have an error in your SQL syntax; check the manual that corresponds to your MySQL server version for the right syntax to use near 's Men','Woodward, Bob','history',177,'Random House')' at line 1\n",
      "INSERT into book(Title,Author,Genre,Height,Publisher) values('All the President's Men','Woodward, Bob','history',177,'Random House')\n",
      "1064 (42000): You have an error in your SQL syntax; check the manual that corresponds to your MySQL server version for the right syntax to use near 's Greatest Trials, The','null','history',210,'null')' at line 1\n",
      "INSERT into book(Title,Author,Genre,Height,Publisher) values('World's Greatest Trials, The','null','history',210,'null')\n",
      "1064 (42000): You have an error in your SQL syntax; check the manual that corresponds to your MySQL server version for the right syntax to use near 's Greatest Short Stories, The','null','fiction',217,'Jaico')' at line 1\n",
      "INSERT into book(Title,Author,Genre,Height,Publisher) values('World's Greatest Short Stories, The','null','fiction',217,'Jaico')\n",
      "1064 (42000): You have an error in your SQL syntax; check the manual that corresponds to your MySQL server version for the right syntax to use near 's Collected Short Stories, Vol 3','Maugham, William S','fiction',171,'Vintage')' at line 1\n",
      "INSERT into book(Title,Author,Genre,Height,Publisher) values('Maugham's Collected Short Stories, Vol 3','Maugham, William S','fiction',171,'Vintage')\n",
      "1406 (22001): Data too long for column 'Title' at row 1\n",
      "INSERT into book(Title,Author,Genre,Height,Publisher) values('Clash of Civilizations and Remaking of the World Order','Huntington, Samuel','history',228,'Simon&Schuster')\n",
      "1064 (42000): You have an error in your SQL syntax; check the manual that corresponds to your MySQL server version for the right syntax to use near 's Journey','null','comic',258,'null')' at line 1\n",
      "INSERT into book(Title,Author,Genre,Height,Publisher) values('Justice League: The Villain's Journey','null','comic',258,'null')\n",
      "1064 (42000): You have an error in your SQL syntax; check the manual that corresponds to your MySQL server version for the right syntax to use near 's Tooth','Rutherford, Alex','history',180,'null')' at line 1\n",
      "INSERT into book(Title,Author,Genre,Height,Publisher) values('Empire of the Mughal - The Serpent's Tooth','Rutherford, Alex','history',180,'null')\n",
      "1064 (42000): You have an error in your SQL syntax; check the manual that corresponds to your MySQL server version for the right syntax to use near 's Advocate, The','West, Morris','fiction',178,'null')' at line 1\n",
      "INSERT into book(Title,Author,Genre,Height,Publisher) values('Devil's Advocate, The','West, Morris','fiction',178,'null')\n",
      "1064 (42000): You have an error in your SQL syntax; check the manual that corresponds to your MySQL server version for the right syntax to use near 's Great Thinkers, The','null','philosophy',189,'null')' at line 1\n",
      "INSERT into book(Title,Author,Genre,Height,Publisher) values('World's Great Thinkers, The','null','philosophy',189,'null')\n",
      "1064 (42000): You have an error in your SQL syntax; check the manual that corresponds to your MySQL server version for the right syntax to use near 's Brain','Sagan, Carl','science',174,'null')' at line 1\n",
      "INSERT into book(Title,Author,Genre,Height,Publisher) values('Broca's Brain','Sagan, Carl','science',174,'null')\n",
      "1064 (42000): You have an error in your SQL syntax; check the manual that corresponds to your MySQL server version for the right syntax to use near 's Legal System','Nariman','nonfiction',177,'null')' at line 1\n",
      "INSERT into book(Title,Author,Genre,Height,Publisher) values('India's Legal System','Nariman','nonfiction',177,'null')\n",
      "1064 (42000): You have an error in your SQL syntax; check the manual that corresponds to your MySQL server version for the right syntax to use near 's Nest','Larsson, Steig','fiction',179,'null')' at line 1\n",
      "INSERT into book(Title,Author,Genre,Height,Publisher) values('Girl who kicked the Hornet's Nest','Larsson, Steig','fiction',179,'null')\n",
      "1064 (42000): You have an error in your SQL syntax; check the manual that corresponds to your MySQL server version for the right syntax to use near 's Law','null','nonfiction',178,'null')' at line 1\n",
      "INSERT into book(Title,Author,Genre,Height,Publisher) values('Murphy's Law','null','nonfiction',178,'null')\n",
      "191 values inserted\n"
     ]
    }
   ],
   "source": [
    "insert(readCsvFile('resources/books.csv'),mycursor)"
   ]
  },
  {
   "cell_type": "code",
   "execution_count": null,
   "metadata": {},
   "outputs": [],
   "source": []
  },
  {
   "cell_type": "code",
   "execution_count": null,
   "metadata": {},
   "outputs": [],
   "source": []
  },
  {
   "cell_type": "code",
   "execution_count": null,
   "metadata": {},
   "outputs": [],
   "source": []
  },
  {
   "cell_type": "code",
   "execution_count": null,
   "metadata": {},
   "outputs": [],
   "source": []
  },
  {
   "cell_type": "code",
   "execution_count": 13,
   "metadata": {},
   "outputs": [],
   "source": [
    "def showRows(table,mycursor):\n",
    "    mycursor.execute(f'select * from {table}')\n",
    "    for row in mycursor:\n",
    "        print(row)"
   ]
  },
  {
   "cell_type": "code",
   "execution_count": 21,
   "metadata": {},
   "outputs": [],
   "source": [
    "showRows('book',mycursor)"
   ]
  },
  {
   "cell_type": "code",
   "execution_count": 20,
   "metadata": {},
   "outputs": [],
   "source": [
    "mycursor.execute('delete from book')"
   ]
  },
  {
   "cell_type": "code",
   "execution_count": null,
   "metadata": {},
   "outputs": [],
   "source": []
  }
 ],
 "metadata": {
  "kernelspec": {
   "display_name": "Python 3.9.12 ('base')",
   "language": "python",
   "name": "python3"
  },
  "language_info": {
   "codemirror_mode": {
    "name": "ipython",
    "version": 3
   },
   "file_extension": ".py",
   "mimetype": "text/x-python",
   "name": "python",
   "nbconvert_exporter": "python",
   "pygments_lexer": "ipython3",
   "version": "3.9.12"
  },
  "orig_nbformat": 4,
  "vscode": {
   "interpreter": {
    "hash": "649e9a488baa9f755be1bd774174f13c00c6eb61d6f5988e2904ab6e22ac3fc0"
   }
  }
 },
 "nbformat": 4,
 "nbformat_minor": 2
}
