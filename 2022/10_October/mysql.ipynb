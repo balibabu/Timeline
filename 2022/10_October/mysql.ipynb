{
 "cells": [
  {
   "cell_type": "markdown",
   "metadata": {},
   "source": [
    "## <font face='comic sans ms' color ='yellow'>mysql python</font>"
   ]
  },
  {
   "cell_type": "code",
   "execution_count": null,
   "metadata": {},
   "outputs": [],
   "source": [
    "import mysql.connector as con"
   ]
  },
  {
   "cell_type": "code",
   "execution_count": null,
   "metadata": {},
   "outputs": [],
   "source": [
    "mydb=con.connect(host='localhost',user='root',passwd='12345')\n",
    "mydb.is_connected()"
   ]
  },
  {
   "cell_type": "code",
   "execution_count": null,
   "metadata": {},
   "outputs": [],
   "source": [
    "mycursor=mydb.cursor()\n",
    "mycursor.execute('show databases')"
   ]
  },
  {
   "cell_type": "code",
   "execution_count": null,
   "metadata": {},
   "outputs": [],
   "source": [
    "for row in mycursor:\n",
    "    print(row)"
   ]
  },
  {
   "cell_type": "code",
   "execution_count": null,
   "metadata": {},
   "outputs": [],
   "source": [
    "mydb=con.connect(host='localhost',user='root',passwd='12345',database='semester6_db')\n",
    "mydb.is_connected()"
   ]
  },
  {
   "cell_type": "code",
   "execution_count": null,
   "metadata": {},
   "outputs": [],
   "source": [
    "mycursor=mydb.cursor()\n",
    "mycursor.execute('select * from course')"
   ]
  },
  {
   "cell_type": "code",
   "execution_count": null,
   "metadata": {},
   "outputs": [],
   "source": [
    "for row in mycursor:\n",
    "    print(row)"
   ]
  },
  {
   "cell_type": "markdown",
   "metadata": {},
   "source": [
    "## <font face='comic sans ms' color ='yellow'>Reading csv file and creating table with its data</font>"
   ]
  },
  {
   "cell_type": "code",
   "execution_count": 1,
   "metadata": {},
   "outputs": [],
   "source": [
    "def readCsvFile(filePath):\n",
    "    import csv\n",
    "    with open(filePath) as f:\n",
    "        tab_reader=csv.reader(f,delimiter=',')\n",
    "        return list(tab_reader)[1:]\n",
    "        # for row in tab_reader:\n",
    "        #     print(row)\n",
    "        #     # break"
   ]
  },
  {
   "cell_type": "code",
   "execution_count": 7,
   "metadata": {},
   "outputs": [],
   "source": [
    "ls=readCsvFile('resources/books.csv')\n"
   ]
  },
  {
   "cell_type": "code",
   "execution_count": 11,
   "metadata": {},
   "outputs": [
    {
     "data": {
      "text/plain": [
       "str"
      ]
     },
     "execution_count": 11,
     "metadata": {},
     "output_type": "execute_result"
    }
   ],
   "source": [
    "type(ls[0][0])"
   ]
  },
  {
   "cell_type": "code",
   "execution_count": 21,
   "metadata": {},
   "outputs": [
    {
     "name": "stdout",
     "output_type": "stream",
     "text": [
      "Fundamentals of Wavelets/Goswami, Jaideva/signal_processing/228/Wiley\n",
      "Data Smart/Foreman, John/data_science/235/Wiley\n",
      "God Created the Integers/Hawking, Stephen/mathematics/197/Penguin\n",
      "Superfreakonomics/Dubner, Stephen/economics/179/HarperCollins\n",
      "Orientalism/Said, Edward/history/197/Penguin\n",
      "Nature of Statistical Learning Theory, The/Vapnik, Vladimir/data_science/230/Springer\n",
      "Integration of the Indian States/Menon, V P/history/217/Orient Blackswan\n",
      "Drunkard's Walk, The/Mlodinow, Leonard/science/197/Penguin\n",
      "Image Processing & Mathematical Morphology/Shih, Frank/signal_processing/241/CRC\n",
      "How to Think Like Sherlock Holmes/Konnikova, Maria/psychology/240/Penguin\n",
      "Data Scientists at Work/Sebastian Gutierrez/data_science/230/Apress\n",
      "Slaughterhouse Five/Vonnegut, Kurt/fiction/198/Random House\n",
      "Birth of a Theorem/Villani, Cedric/mathematics/234/Bodley Head\n",
      "Structure & Interpretation of Computer Programs/Sussman, Gerald/computer_science/240/MIT Press\n",
      "Age of Wrath, The/Eraly, Abraham/history/238/Penguin\n",
      "Trial, The/Kafka, Frank/fiction/198/Random House\n",
      "Statistical Decision Theory'/Pratt, John/data_science/236/MIT Press\n",
      "Data Mining Handbook/Nisbet, Robert/data_science/242/Apress\n",
      "New Machiavelli, The/Wells, H. G./fiction/180/Penguin\n",
      "Physics & Philosophy/Heisenberg, Werner/science/197/Penguin\n",
      "Making Software/Oram, Andy/computer_science/232/O'Reilly\n",
      "Analysis, Vol I/Tao, Terence/mathematics/248/HBA\n",
      "Machine Learning for Hackers/Conway, Drew/data_science/233/O'Reilly\n",
      "Signal and the Noise, The/Silver, Nate/data_science/233/Penguin\n",
      "Python for Data Analysis/McKinney, Wes/data_science/233/O'Reilly\n",
      "Introduction to Algorithms/Cormen, Thomas/computer_science/234/MIT Press\n",
      "Beautiful and the Damned, The/Deb, Siddhartha/nonfiction/198/Penguin\n",
      "Outsider, The/Camus, Albert/fiction/198/Penguin\n",
      "Complete Sherlock Holmes, The - Vol I/Doyle, Arthur Conan/fiction/176/Random House\n",
      "Complete Sherlock Holmes, The - Vol II/Doyle, Arthur Conan/fiction/176/Random House\n",
      "Wealth of Nations, The/Smith, Adam/economics/175/Random House\n",
      "Pillars of the Earth, The/Follett, Ken/fiction/176/Random House\n",
      "Mein Kampf/Hitler, Adolf/nonfiction/212/Rupa\n",
      "Tao of Physics, The/Capra, Fritjof/science/179/Penguin\n",
      "Surely You're Joking Mr Feynman/Feynman, Richard/science/198/Random House\n",
      "Farewell to Arms, A/Hemingway, Ernest/fiction/179/Rupa\n",
      "Veteran, The/Forsyth, Frederick/fiction/177/Transworld\n",
      "False Impressions/Archer, Jeffery/fiction/177/Pan\n",
      "Last Lecture, The/Pausch, Randy/nonfiction/197/Hyperion\n",
      "Return of the Primitive/Rand, Ayn/philosophy/202/Penguin\n",
      "Jurassic Park/Crichton, Michael/fiction/174/Random House\n",
      "Russian Journal, A/Steinbeck, John/nonfiction/196/Penguin\n",
      "Tales of Mystery and Imagination/Poe, Edgar Allen/fiction/172/HarperCollins\n",
      "Freakonomics/Dubner, Stephen/economics/197/Penguin\n",
      "Hidden Connections, The/Capra, Fritjof/science/197/HarperCollins\n",
      "Story of Philosophy, The/Durant, Will/philosophy/170/Pocket\n",
      "Asami Asami/Deshpande, P L/fiction/205/Mauj\n",
      "Journal of a Novel/Steinbeck, John/fiction/196/Penguin\n",
      "Once There Was a War/Steinbeck, John/nonfiction/196/Penguin\n",
      "Moon is Down, The/Steinbeck, John/fiction/196/Penguin\n",
      "Brethren, The/Grisham, John/fiction/174/Random House\n",
      "In a Free State/Naipaul, V. S./fiction/196/Rupa\n",
      "Catch 22/Heller, Joseph/fiction/178/Random House\n",
      "Complete Mastermind, The/BBC/nonfiction/178/BBC\n",
      "Dylan on Dylan/Dylan, Bob/nonfiction/197/Random House\n",
      "Soft Computing & Intelligent Systems/Gupta, Madan/data_science/242/Elsevier\n",
      "Textbook of Economic Theory/Stonier, Alfred/economics/242/Pearson\n",
      "Econometric Analysis/Greene, W. H./economics/242/Pearson\n",
      "Learning OpenCV/Bradsky, Gary/data_science/232/O'Reilly\n",
      "Data Structures Using C & C++/Tanenbaum, Andrew/computer_science/235/Prentice Hall\n",
      "Computer Vision, A Modern Approach/Forsyth, David/data_science/255/Pearson\n",
      "Principles of Communication Systems/Taub, Schilling/computer_science/240/TMH\n",
      "Let Us C/Kanetkar, Yashwant/computer_science/213/Prentice Hall\n",
      "Amulet of Samarkand, The/Stroud, Jonathan/fiction/179/Random House\n",
      "Crime and Punishment/Dostoevsky, Fyodor/fiction/180/Penguin\n",
      "Angels & Demons/Brown, Dan/fiction/178/Random House\n",
      "Argumentative Indian, The/Sen, Amartya/nonfiction/209/Picador\n",
      "Sea of Poppies/Ghosh, Amitav/fiction/197/Penguin\n",
      "Idea of Justice, The/Sen, Amartya/nonfiction/212/Penguin\n",
      "Raisin in the Sun, A/Hansberry, Lorraine/fiction/175/Penguin\n",
      "All the President's Men/Woodward, Bob/history/177/Random House\n",
      "Prisoner of Birth, A/Archer, Jeffery/fiction/176/Pan\n",
      "Scoop!/Nayar, Kuldip/history/216/HarperCollins\n",
      "Ahe Manohar Tari/Deshpande, Sunita/nonfiction/213/Mauj\n",
      "Last Mughal, The/Dalrymple, William/history/199/Penguin\n",
      "Social Choice & Welfare, Vol 39 No. 1/Various/economics/235/Springer\n",
      "Radiowaril Bhashane & Shrutika/Deshpande, P L/nonfiction/213/Mauj\n",
      "Gun Gayin Awadi/Deshpande, P L/nonfiction/212/Mauj\n",
      "Aghal Paghal/Deshpande, P L/nonfiction/212/Mauj\n",
      "Maqta-e-Ghalib/Garg, Sanjay/fiction/221/Mauj\n",
      "Beyond Degrees/null/nonfiction/222/HarperCollins\n",
      "Manasa/Kale, V P/nonfiction/213/Mauj\n",
      "India from Midnight to Milennium/Tharoor, Shashi/history/198/Penguin\n",
      "World's Greatest Trials, The/null/history/210/null\n",
      "Great Indian Novel, The/Tharoor, Shashi/fiction/198/Penguin\n",
      "O Jerusalem!/Lapierre, Dominique/history/217/vikas\n",
      "City of Joy, The/Lapierre, Dominique/fiction/177/vikas\n",
      "Freedom at Midnight/Lapierre, Dominique/history/167/vikas\n",
      "Winter of Our Discontent, The/Steinbeck, John/fiction/196/Penguin\n",
      "On Education/Russell, Bertrand/philosophy/203/Routledge\n",
      "Free Will/Harris, Sam/philosophy/203/FreePress\n",
      "Bookless in Baghdad/Tharoor, Shashi/nonfiction/206/Penguin\n",
      "Case of the Lame Canary, The/Gardner, Earle Stanley/fiction/179/null\n",
      "Theory of Everything, The/Hawking, Stephen/science/217/Jaico\n",
      "New Markets & Other Essays/Drucker, Peter/economics/176/Penguin\n",
      "Electric Universe/Bodanis, David/science/201/Penguin\n",
      "Hunchback of Notre Dame, The/Hugo, Victor/fiction/175/Random House\n",
      "Burning Bright/Steinbeck, John/fiction/175/Penguin\n",
      "Age of Discontuinity, The/Drucker, Peter/economics/178/Random House\n",
      "Doctor in the Nude/Gordon, Richard/fiction/179/Penguin\n",
      "Down and Out in Paris & London/Orwell, George/nonfiction/179/Penguin\n",
      "Identity & Violence/Sen, Amartya/philosophy/219/Penguin\n",
      "Beyond the Three Seas/Dalrymple, William/history/197/Random House\n",
      "World's Greatest Short Stories, The/null/fiction/217/Jaico\n",
      "Talking Straight/Iacoca, Lee/nonfiction/175/null\n",
      "Maugham's Collected Short Stories, Vol 3/Maugham, William S/fiction/171/Vintage\n",
      "Phantom of Manhattan, The/Forsyth, Frederick/fiction/180/null\n",
      "Ashenden of The British Agent/Maugham, William S/fiction/160/Vintage\n",
      "Zen & The Art of Motorcycle Maintenance/Pirsig, Robert/philosophy/172/Vintage\n",
      "Great War for Civilization, The/Fisk, Robert/history/197/HarperCollins\n",
      "We the Living/Rand, Ayn/fiction/178/Penguin\n",
      "Artist and the Mathematician, The/Aczel, Amir/science/186/HighStakes\n",
      "History of Western Philosophy/Russell, Bertrand/philosophy/213/Routledge\n",
      "Selected Short Stories/null/fiction/215/Jaico\n",
      "Rationality & Freedom/Sen, Amartya/economics/213/Springer\n",
      "Clash of Civilizations and Remaking of the World Order/Huntington, Samuel/history/228/Simon&Schuster\n",
      "Uncommon Wisdom/Capra, Fritjof/nonfiction/197/Fontana\n",
      "One/Bach, Richard/nonfiction/172/Dell\n",
      "Karl Marx Biography/null/nonfiction/162/null\n",
      "To Sir With Love/Braithwaite/fiction/197/Penguin\n",
      "Half A Life/Naipaul, V S/fiction/196/null\n",
      "Discovery of India, The/Nehru, Jawaharlal/history/230/null\n",
      "Apulki/Deshpande, P L/nonfiction/211/null\n",
      "Unpopular Essays/Russell, Bertrand/philosophy/198/null\n",
      "Deceiver, The/Forsyth, Frederick/fiction/178/null\n",
      "Veil: Secret Wars of the CIA/Woodward, Bob/history/171/null\n",
      "Char Shabda/Deshpande, P L/nonfiction/214/null\n",
      "Rosy is My Relative/Durrell, Gerald/fiction/176/null\n",
      "Moon and Sixpence, The/Maugham, William S/fiction/180/null\n",
      "Political Philosophers/null/philosophy/162/null\n",
      "Short History of the World, A/Wells, H G/history/197/null\n",
      "Trembling of a Leaf, The/Maugham, William S/fiction/205/null\n",
      "Doctor on the Brain/Gordon, Richard/fiction/204/null\n",
      "Simpsons & Their Mathematical Secrets/Singh, Simon/science/233/null\n",
      "Pattern Classification/Duda, Hart/data_science/241/null\n",
      "From Beirut to Jerusalem/Friedman, Thomas/history/202/null\n",
      "Code Book, The/Singh, Simon/science/197/null\n",
      "Age of the Warrior, The/Fisk, Robert/history/197/null\n",
      "Final Crisis/null/comic/257/null\n",
      "Killing Joke, The/null/comic/283/null\n",
      "Flashpoint/null/comic/265/null\n",
      "Batman Earth One/null/comic/265/null\n",
      "Crisis on Infinite Earths/null/comic/258/null\n",
      "Numbers Behind Numb3rs, The/Devlin, Keith/science/202/null\n",
      "Superman Earth One - 1/null/comic/259/null\n",
      "Superman Earth One - 2/null/comic/258/null\n",
      "Justice League: Throne of Atlantis/null/comic/258/null\n",
      "Justice League: The Villain's Journey/null/comic/258/null\n",
      "Death of Superman, The/null/comic/258/null\n",
      "History of the DC Universe/null/comic/258/null\n",
      "Batman: The Long Halloween/null/comic/258/null\n",
      "Life in Letters, A/Steinbeck, John/nonfiction/196/null\n",
      "Information, The/Gleick, James/science/233/null\n",
      "Journal of Economics, vol 106 No 3/null/economics/235/null\n",
      "Elements of Information Theory/Thomas, Joy/data_science/229/null\n",
      "Power Electronics - Rashid/Rashid, Muhammad/computer_science/235/null\n",
      "Power Electronics - Mohan/Mohan, Ned/computer_science/237/null\n",
      "Neural Networks/Haykin, Simon/data_science/240/null\n",
      "Grapes of Wrath, The/Steinbeck, John/fiction/196/null\n",
      "Vyakti ani Valli/Deshpande, P L/nonfiction/211/null\n",
      "Statistical Learning Theory/Vapnik, Vladimir/data_science/228/null\n",
      "Empire of the Mughal - The Tainted Throne/Rutherford, Alex/history/180/null\n",
      "Empire of the Mughal - Brothers at War/Rutherford, Alex/history/180/null\n",
      "Empire of the Mughal - Ruler of the World/Rutherford, Alex/history/180/null\n",
      "Empire of the Mughal - The Serpent's Tooth/Rutherford, Alex/history/180/null\n",
      "Empire of the Mughal - Raiders from the North/Rutherford, Alex/history/180/null\n",
      "Mossad/Baz-Zohar, Michael/history/236/null\n",
      "Jim Corbett Omnibus/Corbett, Jim/nonfiction/223/null\n",
      "20000 Leagues Under the Sea/Verne, Jules/fiction/190/null\n",
      "Batatyachi Chal/Deshpande P L/fiction/200/null\n",
      "Hafasavnuk/Deshpande P L/fiction/211/null\n",
      "Urlasurla/Deshpande P L/fiction/211/null\n",
      "Pointers in C/Kanetkar, Yashwant/computer_science/213/null\n",
      "Cathedral and the Bazaar, The/Raymond, Eric/computer_science/217/null\n",
      "Design with OpAmps/Franco, Sergio/computer_science/240/null\n",
      "Think Complexity/Downey, Allen/data_science/230/null\n",
      "Devil's Advocate, The/West, Morris/fiction/178/null\n",
      "Ayn Rand Answers/Rand, Ayn/philosophy/203/null\n",
      "Philosophy: Who Needs It/Rand, Ayn/philosophy/171/null\n",
      "World's Great Thinkers, The/null/philosophy/189/null\n",
      "Data Analysis with Open Source Tools/Janert, Phillip/data_science/230/null\n",
      "Broca's Brain/Sagan, Carl/science/174/null\n",
      "Men of Mathematics/Bell, E T/mathematics/217/null\n",
      "Oxford book of Modern Science Writing/Dawkins, Richard/science/240/null\n",
      "Justice, Judiciary and Democracy/Ranjan, Sudhanshu/philosophy/224/null\n",
      "Arthashastra, The/Kautiyla/philosophy/214/null\n",
      "We the People/Palkhivala/philosophy/216/null\n",
      "We the Nation/Palkhivala/philosophy/216/null\n",
      "Courtroom Genius, The/Sorabjee/nonfiction/217/null\n",
      "Dongri to Dubai/Zaidi, Hussain/nonfiction/216/null\n",
      "History of England, Foundation/Ackroyd, Peter/history/197/null\n",
      "City of Djinns/Dalrymple, William/history/198/null\n",
      "India's Legal System/Nariman/nonfiction/177/null\n",
      "More Tears to Cry/Sassoon, Jean/fiction/235/null\n",
      "Ropemaker, The/Dickinson, Peter/fiction/196/null\n",
      "Angels & Demons/Brown, Dan/fiction/170/null\n",
      "Judge, The/null/fiction/170/null\n",
      "Attorney, The/null/fiction/170/null\n",
      "Prince, The/Machiavelli/philosophy/173/null\n",
      "Eyeless in Gaza/Huxley, Aldous/fiction/180/null\n",
      "Tales of Beedle the Bard/Rowling, J K/fiction/184/null\n",
      "Girl with the Dragon Tattoo/Larsson, Steig/fiction/179/null\n",
      "Girl who kicked the Hornet's Nest/Larsson, Steig/fiction/179/null\n",
      "Girl who played with Fire/Larsson, Steig/fiction/179/null\n",
      "Batman Handbook/null/comic/270/null\n",
      "Murphy's Law/null/nonfiction/178/null\n",
      "Structure and Randomness/Tao, Terence/mathematics/252/null\n",
      "Image Processing with MATLAB/Eddins, Steve/signal_processing/241/null\n",
      "Animal Farm/Orwell, George/fiction/180/null\n",
      "Idiot, The/Dostoevsky, Fyodor/fiction/197/null\n",
      "Christmas Carol, A/Dickens, Charles/fiction/196/null\n"
     ]
    }
   ],
   "source": [
    "for i in ls:\n",
    "    for j in range(4):\n",
    "        if i[j]=='':\n",
    "            print('null',end='/')\n",
    "        else:\n",
    "            print(i[j],end='/')\n",
    "    # print(i[-1])\n",
    "    if i[-1]=='':\n",
    "        print('null')\n",
    "    else:\n",
    "        print(i[-1])\n",
    "    # print()"
   ]
  },
  {
   "cell_type": "code",
   "execution_count": 3,
   "metadata": {},
   "outputs": [
    {
     "data": {
      "text/plain": [
       "True"
      ]
     },
     "execution_count": 3,
     "metadata": {},
     "output_type": "execute_result"
    }
   ],
   "source": [
    "import mysql.connector as con\n",
    "mydb=con.connect(host='localhost',user='root',passwd='12345')\n",
    "mydb.is_connected()"
   ]
  },
  {
   "cell_type": "code",
   "execution_count": 8,
   "metadata": {},
   "outputs": [
    {
     "name": "stdout",
     "output_type": "stream",
     "text": [
      "error occured\n",
      "list of databases are\n",
      "[('book_db',), ('information_schema',), ('mysql',), ('performance_schema',), ('sakila',), ('semester6_db',), ('studentdb',), ('sys',), ('world',)]\n"
     ]
    }
   ],
   "source": [
    "mycursor=mydb.cursor()\n",
    "try:\n",
    "    mycursor.execute('create database book_db')\n",
    "    print('database book_db successfully created...')\n",
    "except:\n",
    "    print('error occured')\n",
    "mycursor.execute('show databases')\n",
    "print('list of databases are')\n",
    "print(list(mycursor))"
   ]
  },
  {
   "cell_type": "code",
   "execution_count": 11,
   "metadata": {},
   "outputs": [
    {
     "name": "stdout",
     "output_type": "stream",
     "text": [
      "CMySQLCursor: use book_db\n"
     ]
    }
   ],
   "source": [
    "mycursor.execute('use book_db')\n",
    "print(mycursor)"
   ]
  },
  {
   "cell_type": "code",
   "execution_count": null,
   "metadata": {},
   "outputs": [],
   "source": [
    "mycursor.execute('create table Book(Book_id serial primary key, Title varchar(100) unique, Author varchar(50), Genre varchar(50), Height int, Publisher varchar(50))')\n",
    "print(mycursor)"
   ]
  },
  {
   "cell_type": "code",
   "execution_count": null,
   "metadata": {},
   "outputs": [],
   "source": [
    "mycursor.execute('show tables')\n",
    "for table in mycursor:\n",
    "    print(table[0])"
   ]
  },
  {
   "cell_type": "code",
   "execution_count": null,
   "metadata": {},
   "outputs": [],
   "source": [
    "def insert(listOfData,mycursor):\n",
    "    c=0\n",
    "    for row in listOfData:\n",
    "        for i in range(len(row)):\n",
    "            if row[i]=='': row[i]='null'\n",
    "        Title,Author,Genre,Height,Publisher=row\n",
    "        query=f'''INSERT into book(Title,Author,Genre,Height,Publisher) values(\"{Title}\",\"{Author}\",\"{Genre}\",{Height},\"{Publisher}\")'''\n",
    "        try:\n",
    "            mycursor.execute(query)\n",
    "            c+=1\n",
    "        except Exception as e:\n",
    "            print(e)\n",
    "            print(query)\n",
    "    print(c,'values inserted')"
   ]
  },
  {
   "cell_type": "code",
   "execution_count": null,
   "metadata": {},
   "outputs": [],
   "source": [
    "insert(readCsvFile('resources/books.csv'),mycursor)"
   ]
  },
  {
   "cell_type": "code",
   "execution_count": null,
   "metadata": {},
   "outputs": [],
   "source": [
    "len('Clash of Civilizations and Remaking of the World Order')"
   ]
  },
  {
   "cell_type": "code",
   "execution_count": null,
   "metadata": {},
   "outputs": [],
   "source": []
  },
  {
   "cell_type": "code",
   "execution_count": null,
   "metadata": {},
   "outputs": [],
   "source": []
  },
  {
   "cell_type": "code",
   "execution_count": null,
   "metadata": {},
   "outputs": [],
   "source": []
  },
  {
   "cell_type": "code",
   "execution_count": 6,
   "metadata": {},
   "outputs": [],
   "source": [
    "def showRows(table,mycursor):\n",
    "    mycursor.execute(f'select * from {table}')\n",
    "    for row in mycursor:\n",
    "        print(row)"
   ]
  },
  {
   "cell_type": "code",
   "execution_count": 12,
   "metadata": {},
   "outputs": [],
   "source": [
    "showRows('book',mycursor)"
   ]
  },
  {
   "cell_type": "code",
   "execution_count": 10,
   "metadata": {},
   "outputs": [
    {
     "ename": "ProgrammingError",
     "evalue": "1046 (3D000): No database selected",
     "output_type": "error",
     "traceback": [
      "\u001b[1;31m---------------------------------------------------------------------------\u001b[0m",
      "\u001b[1;31mMySQLInterfaceError\u001b[0m                       Traceback (most recent call last)",
      "File \u001b[1;32mc:\\Users\\19410\\anaconda3\\lib\\site-packages\\mysql\\connector\\connection_cext.py:565\u001b[0m, in \u001b[0;36mCMySQLConnection.cmd_query\u001b[1;34m(self, query, raw, buffered, raw_as_string)\u001b[0m\n\u001b[0;32m    564\u001b[0m         query \u001b[39m=\u001b[39m query\u001b[39m.\u001b[39mencode(\u001b[39m\"\u001b[39m\u001b[39mutf-8\u001b[39m\u001b[39m\"\u001b[39m)\n\u001b[1;32m--> 565\u001b[0m     \u001b[39mself\u001b[39;49m\u001b[39m.\u001b[39;49m_cmysql\u001b[39m.\u001b[39;49mquery(\n\u001b[0;32m    566\u001b[0m         query,\n\u001b[0;32m    567\u001b[0m         raw\u001b[39m=\u001b[39;49mraw,\n\u001b[0;32m    568\u001b[0m         buffered\u001b[39m=\u001b[39;49mbuffered,\n\u001b[0;32m    569\u001b[0m         raw_as_string\u001b[39m=\u001b[39;49mraw_as_string,\n\u001b[0;32m    570\u001b[0m         query_attrs\u001b[39m=\u001b[39;49m\u001b[39mself\u001b[39;49m\u001b[39m.\u001b[39;49m_query_attrs,\n\u001b[0;32m    571\u001b[0m     )\n\u001b[0;32m    572\u001b[0m \u001b[39mexcept\u001b[39;00m MySQLInterfaceError \u001b[39mas\u001b[39;00m err:\n",
      "\u001b[1;31mMySQLInterfaceError\u001b[0m: No database selected",
      "\nThe above exception was the direct cause of the following exception:\n",
      "\u001b[1;31mProgrammingError\u001b[0m                          Traceback (most recent call last)",
      "\u001b[1;32md:\\Works_Space\\Timeline\\2022\\10_October\\mysql.ipynb Cell 25\u001b[0m in \u001b[0;36m<cell line: 1>\u001b[1;34m()\u001b[0m\n\u001b[1;32m----> <a href='vscode-notebook-cell:/d%3A/Works_Space/Timeline/2022/10_October/mysql.ipynb#X33sZmlsZQ%3D%3D?line=0'>1</a>\u001b[0m mycursor\u001b[39m.\u001b[39;49mexecute(\u001b[39m'\u001b[39;49m\u001b[39mdelete from book\u001b[39;49m\u001b[39m'\u001b[39;49m)\n",
      "File \u001b[1;32mc:\\Users\\19410\\anaconda3\\lib\\site-packages\\mysql\\connector\\cursor_cext.py:279\u001b[0m, in \u001b[0;36mCMySQLCursor.execute\u001b[1;34m(self, operation, params, multi)\u001b[0m\n\u001b[0;32m    274\u001b[0m             \u001b[39mraise\u001b[39;00m ProgrammingError(\n\u001b[0;32m    275\u001b[0m                 \u001b[39m\"\u001b[39m\u001b[39mNot all parameters were used in the SQL statement\u001b[39m\u001b[39m\"\u001b[39m\n\u001b[0;32m    276\u001b[0m             )\n\u001b[0;32m    278\u001b[0m \u001b[39mtry\u001b[39;00m:\n\u001b[1;32m--> 279\u001b[0m     result \u001b[39m=\u001b[39m \u001b[39mself\u001b[39;49m\u001b[39m.\u001b[39;49m_cnx\u001b[39m.\u001b[39;49mcmd_query(\n\u001b[0;32m    280\u001b[0m         stmt,\n\u001b[0;32m    281\u001b[0m         raw\u001b[39m=\u001b[39;49m\u001b[39mself\u001b[39;49m\u001b[39m.\u001b[39;49m_raw,\n\u001b[0;32m    282\u001b[0m         buffered\u001b[39m=\u001b[39;49m\u001b[39mself\u001b[39;49m\u001b[39m.\u001b[39;49m_buffered,\n\u001b[0;32m    283\u001b[0m         raw_as_string\u001b[39m=\u001b[39;49m\u001b[39mself\u001b[39;49m\u001b[39m.\u001b[39;49m_raw_as_string,\n\u001b[0;32m    284\u001b[0m     )\n\u001b[0;32m    285\u001b[0m \u001b[39mexcept\u001b[39;00m MySQLInterfaceError \u001b[39mas\u001b[39;00m err:\n\u001b[0;32m    286\u001b[0m     \u001b[39mraise\u001b[39;00m get_mysql_exception(\n\u001b[0;32m    287\u001b[0m         msg\u001b[39m=\u001b[39merr\u001b[39m.\u001b[39mmsg, errno\u001b[39m=\u001b[39merr\u001b[39m.\u001b[39merrno, sqlstate\u001b[39m=\u001b[39merr\u001b[39m.\u001b[39msqlstate\n\u001b[0;32m    288\u001b[0m     ) \u001b[39mfrom\u001b[39;00m \u001b[39merr\u001b[39;00m\n",
      "File \u001b[1;32mc:\\Users\\19410\\anaconda3\\lib\\site-packages\\mysql\\connector\\connection_cext.py:573\u001b[0m, in \u001b[0;36mCMySQLConnection.cmd_query\u001b[1;34m(self, query, raw, buffered, raw_as_string)\u001b[0m\n\u001b[0;32m    565\u001b[0m     \u001b[39mself\u001b[39m\u001b[39m.\u001b[39m_cmysql\u001b[39m.\u001b[39mquery(\n\u001b[0;32m    566\u001b[0m         query,\n\u001b[0;32m    567\u001b[0m         raw\u001b[39m=\u001b[39mraw,\n\u001b[1;32m   (...)\u001b[0m\n\u001b[0;32m    570\u001b[0m         query_attrs\u001b[39m=\u001b[39m\u001b[39mself\u001b[39m\u001b[39m.\u001b[39m_query_attrs,\n\u001b[0;32m    571\u001b[0m     )\n\u001b[0;32m    572\u001b[0m \u001b[39mexcept\u001b[39;00m MySQLInterfaceError \u001b[39mas\u001b[39;00m err:\n\u001b[1;32m--> 573\u001b[0m     \u001b[39mraise\u001b[39;00m get_mysql_exception(\n\u001b[0;32m    574\u001b[0m         err\u001b[39m.\u001b[39merrno, msg\u001b[39m=\u001b[39merr\u001b[39m.\u001b[39mmsg, sqlstate\u001b[39m=\u001b[39merr\u001b[39m.\u001b[39msqlstate\n\u001b[0;32m    575\u001b[0m     ) \u001b[39mfrom\u001b[39;00m \u001b[39merr\u001b[39;00m\n\u001b[0;32m    576\u001b[0m \u001b[39mexcept\u001b[39;00m \u001b[39mAttributeError\u001b[39;00m \u001b[39mas\u001b[39;00m err:\n\u001b[0;32m    577\u001b[0m     addr \u001b[39m=\u001b[39m (\n\u001b[0;32m    578\u001b[0m         \u001b[39mself\u001b[39m\u001b[39m.\u001b[39m_unix_socket \u001b[39mif\u001b[39;00m \u001b[39mself\u001b[39m\u001b[39m.\u001b[39m_unix_socket \u001b[39melse\u001b[39;00m \u001b[39mf\u001b[39m\u001b[39m\"\u001b[39m\u001b[39m{\u001b[39;00m\u001b[39mself\u001b[39m\u001b[39m.\u001b[39m_host\u001b[39m}\u001b[39;00m\u001b[39m:\u001b[39m\u001b[39m{\u001b[39;00m\u001b[39mself\u001b[39m\u001b[39m.\u001b[39m_port\u001b[39m}\u001b[39;00m\u001b[39m\"\u001b[39m\n\u001b[0;32m    579\u001b[0m     )\n",
      "\u001b[1;31mProgrammingError\u001b[0m: 1046 (3D000): No database selected"
     ]
    }
   ],
   "source": [
    "mycursor.execute('delete from book')"
   ]
  },
  {
   "cell_type": "code",
   "execution_count": null,
   "metadata": {},
   "outputs": [],
   "source": [
    "mycursor.execute(\"alter table book modify title varchar(100)\")"
   ]
  },
  {
   "cell_type": "code",
   "execution_count": null,
   "metadata": {},
   "outputs": [],
   "source": [
    "mycursor.execute(\"drop table book\")"
   ]
  },
  {
   "cell_type": "code",
   "execution_count": null,
   "metadata": {},
   "outputs": [],
   "source": []
  }
 ],
 "metadata": {
  "kernelspec": {
   "display_name": "Python 3.9.12 ('base')",
   "language": "python",
   "name": "python3"
  },
  "language_info": {
   "codemirror_mode": {
    "name": "ipython",
    "version": 3
   },
   "file_extension": ".py",
   "mimetype": "text/x-python",
   "name": "python",
   "nbconvert_exporter": "python",
   "pygments_lexer": "ipython3",
   "version": "3.9.12"
  },
  "orig_nbformat": 4,
  "vscode": {
   "interpreter": {
    "hash": "649e9a488baa9f755be1bd774174f13c00c6eb61d6f5988e2904ab6e22ac3fc0"
   }
  }
 },
 "nbformat": 4,
 "nbformat_minor": 2
}
