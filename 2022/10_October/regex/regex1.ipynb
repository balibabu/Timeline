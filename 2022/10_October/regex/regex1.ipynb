{
 "cells": [
  {
   "cell_type": "markdown",
   "metadata": {},
   "source": [
    "# <font face='comic sans ms' color ='PaleTurquoise'>Basic sets</font>"
   ]
  },
  {
   "cell_type": "code",
   "execution_count": 4,
   "metadata": {},
   "outputs": [],
   "source": [
    "import re"
   ]
  },
  {
   "cell_type": "code",
   "execution_count": 9,
   "metadata": {},
   "outputs": [
    {
     "name": "stdout",
     "output_type": "stream",
     "text": [
      "fooaaaabar\n",
      "fooabar\n",
      "foobar\n",
      "fooaabar\n"
     ]
    }
   ],
   "source": [
    "with open('ExerciseInputFiles/regex01.txt','r') as f:\n",
    "    lines=f.readlines()\n",
    "    reg=re.compile('fooa*bar')\n",
    "    for line in lines:\n",
    "        result=reg.search(line)\n",
    "        if result: print(result.group())\n"
   ]
  },
  {
   "cell_type": "code",
   "execution_count": 12,
   "metadata": {},
   "outputs": [
    {
     "name": "stdout",
     "output_type": "stream",
     "text": [
      "fooabar\n",
      "fooxbar\n",
      "foocbar\n"
     ]
    }
   ],
   "source": [
    "with open('ExerciseInputFiles/regex02.txt','r') as f:\n",
    "    lines=f.readlines()\n",
    "    reg=re.compile('foo.bar')\n",
    "    for line in lines:\n",
    "        result=reg.search(line)\n",
    "        if result: print(result.group())\n"
   ]
  },
  {
   "cell_type": "code",
   "execution_count": 16,
   "metadata": {},
   "outputs": [
    {
     "name": "stdout",
     "output_type": "stream",
     "text": [
      "foobar\n",
      "fooabcbar\n",
      "foobxcbar\n",
      "foozbar\n"
     ]
    }
   ],
   "source": [
    "with open('ExerciseInputFiles/regex03.txt','r') as f:\n",
    "    lines=f.readlines()\n",
    "    reg=re.compile('foo.*bar')\n",
    "    for line in lines:\n",
    "        result=reg.search(line)\n",
    "        if result: print(result.group())\n"
   ]
  },
  {
   "cell_type": "markdown",
   "metadata": {},
   "source": [
    "representing whitespace"
   ]
  },
  {
   "cell_type": "code",
   "execution_count": 20,
   "metadata": {},
   "outputs": [
    {
     "name": "stdout",
     "output_type": "stream",
     "text": [
      "foo   bar\n",
      "foo bar\n",
      "foo      bar\n",
      "foobar\n"
     ]
    }
   ],
   "source": [
    "with open('ExerciseInputFiles/regex04.txt','r') as f:\n",
    "    lines=f.readlines()\n",
    "    reg=re.compile('foo\\s*bar')\n",
    "    for line in lines:\n",
    "        result=reg.search(line)\n",
    "        if result: print(result.group())\n"
   ]
  },
  {
   "cell_type": "code",
   "execution_count": 22,
   "metadata": {},
   "outputs": [
    {
     "name": "stdout",
     "output_type": "stream",
     "text": [
      "foo\n",
      "coo\n",
      "loo\n"
     ]
    }
   ],
   "source": [
    "with open('ExerciseInputFiles/regex05.txt','r') as f:\n",
    "    lines=f.readlines()\n",
    "    reg=re.compile('[fcl]oo')\n",
    "    for line in lines:\n",
    "        result=reg.search(line)\n",
    "        if result: print(result.group())\n"
   ]
  },
  {
   "cell_type": "code",
   "execution_count": 26,
   "metadata": {},
   "outputs": [
    {
     "name": "stdout",
     "output_type": "stream",
     "text": [
      "foo\n",
      "coo\n",
      "doo\n",
      "poo\n",
      "loo\n",
      "boo\n"
     ]
    }
   ],
   "source": [
    "with open('ExerciseInputFiles/regex06.txt','r') as f:\n",
    "    lines=f.readlines()\n",
    "    reg=re.compile('[^mh]oo')\n",
    "    for line in lines:\n",
    "        result=reg.search(line)\n",
    "        if result: print(result.group())\n"
   ]
  },
  {
   "cell_type": "code",
   "execution_count": 28,
   "metadata": {},
   "outputs": [
    {
     "name": "stdout",
     "output_type": "stream",
     "text": [
      "joo\n",
      "koo\n",
      "loo\n",
      "moo\n"
     ]
    }
   ],
   "source": [
    "with open('ExerciseInputFiles/regex08.txt','r') as f:\n",
    "    lines=f.readlines()\n",
    "    reg=re.compile('[j-m]oo')\n",
    "    for line in lines:\n",
    "        result=reg.search(line)\n",
    "        if result: print(result.group())\n"
   ]
  },
  {
   "cell_type": "markdown",
   "metadata": {},
   "source": [
    "outlier"
   ]
  },
  {
   "cell_type": "code",
   "execution_count": 29,
   "metadata": {},
   "outputs": [
    {
     "name": "stdout",
     "output_type": "stream",
     "text": [
      "joo\n",
      "koo\n",
      "loo\n",
      "moo\n",
      "zoo\n"
     ]
    }
   ],
   "source": [
    "with open('ExerciseInputFiles/regex09.txt','r') as f:\n",
    "    lines=f.readlines()\n",
    "    reg=re.compile('[j-mz]oo')\n",
    "    for line in lines:\n",
    "        result=reg.search(line)\n",
    "        if result: print(result.group())"
   ]
  },
  {
   "cell_type": "code",
   "execution_count": 33,
   "metadata": {},
   "outputs": [
    {
     "name": "stdout",
     "output_type": "stream",
     "text": [
      "joo\n",
      "Koo\n",
      "Loo\n",
      "moo\n",
      "zoo\n"
     ]
    }
   ],
   "source": [
    "with open('ExerciseInputFiles/regex10.txt','r') as f:\n",
    "    lines=f.readlines()\n",
    "    reg=re.compile('[j-mJ-Mz]oo')\n",
    "    for line in lines:\n",
    "        result=reg.search(line)\n",
    "        if result: print(result.group())"
   ]
  },
  {
   "cell_type": "markdown",
   "metadata": {},
   "source": [
    "Escaping with backslash"
   ]
  },
  {
   "cell_type": "code",
   "execution_count": 36,
   "metadata": {},
   "outputs": [
    {
     "name": "stdout",
     "output_type": "stream",
     "text": [
      "xxx.yy\n",
      "xx.yyyy\n",
      "x.yy\n"
     ]
    }
   ],
   "source": [
    "with open('ExerciseInputFiles/regex11.txt','r') as f:\n",
    "    lines=f.readlines()\n",
    "    reg=re.compile('x*\\.y*')\n",
    "    for line in lines:\n",
    "        result=reg.search(line)\n",
    "        if result: print(result.group())"
   ]
  },
  {
   "cell_type": "markdown",
   "metadata": {},
   "source": [
    "if '.' is inside bracket it need not be escaped"
   ]
  },
  {
   "cell_type": "code",
   "execution_count": 37,
   "metadata": {},
   "outputs": [
    {
     "name": "stdout",
     "output_type": "stream",
     "text": [
      "x#y\n",
      "x:y\n",
      "x.y\n"
     ]
    }
   ],
   "source": [
    "with open('ExerciseInputFiles/regex12.txt','r') as f:\n",
    "    lines=f.readlines()\n",
    "    reg=re.compile('x[#:.]y')\n",
    "    for line in lines:\n",
    "        result=reg.search(line)\n",
    "        if result: print(result.group())"
   ]
  },
  {
   "cell_type": "code",
   "execution_count": 42,
   "metadata": {},
   "outputs": [
    {
     "name": "stdout",
     "output_type": "stream",
     "text": [
      "x#y\n",
      "x:y\n",
      "x^y\n"
     ]
    }
   ],
   "source": [
    "with open('ExerciseInputFiles/regex13.txt','r') as f:\n",
    "    lines=f.readlines()\n",
    "    reg=re.compile('x[#:\\^]y')\n",
    "    for line in lines:\n",
    "        result=reg.search(line)\n",
    "        if result: print(result.group())"
   ]
  },
  {
   "cell_type": "code",
   "execution_count": 44,
   "metadata": {},
   "outputs": [
    {
     "name": "stdout",
     "output_type": "stream",
     "text": [
      "x#y\n",
      "x\\y\n",
      "x^y\n"
     ]
    }
   ],
   "source": [
    "with open('ExerciseInputFiles/regex14.txt','r') as f:\n",
    "    lines=f.readlines()\n",
    "    reg=re.compile('x[#\\\\\\^]y')\n",
    "    for line in lines:\n",
    "        result=reg.search(line)\n",
    "        if result: print(result.group())"
   ]
  },
  {
   "cell_type": "markdown",
   "metadata": {},
   "source": [
    "starting symbol carat ^"
   ]
  },
  {
   "cell_type": "code",
   "execution_count": 47,
   "metadata": {},
   "outputs": [
    {
     "name": "stdout",
     "output_type": "stream",
     "text": [
      "foo bar baz\n",
      "foo baz bar\n"
     ]
    }
   ],
   "source": [
    "with open('ExerciseInputFiles/regex15.txt','r') as f:\n",
    "    lines=f.readlines()\n",
    "    reg=re.compile('^foo.*')    # the line should begin with foo\n",
    "    for line in lines:\n",
    "        result=reg.search(line)\n",
    "        if result: print(result.group())"
   ]
  },
  {
   "cell_type": "markdown",
   "metadata": {},
   "source": [
    "ending symbol $"
   ]
  },
  {
   "cell_type": "code",
   "execution_count": 50,
   "metadata": {},
   "outputs": [
    {
     "name": "stdout",
     "output_type": "stream",
     "text": [
      "baz foo bar\n",
      "foo baz bar\n"
     ]
    }
   ],
   "source": [
    "with open('ExerciseInputFiles/regex16.txt','r') as f:\n",
    "    lines=f.readlines()\n",
    "    reg=re.compile('.*bar$')    # $ segnifies the end of a line\n",
    "    for line in lines:\n",
    "        result=reg.search(line)\n",
    "        if result: print(result.group())"
   ]
  },
  {
   "cell_type": "markdown",
   "metadata": {},
   "source": [
    "begining and ending of the line ^....$"
   ]
  },
  {
   "cell_type": "code",
   "execution_count": 53,
   "metadata": {},
   "outputs": [
    {
     "name": "stdout",
     "output_type": "stream",
     "text": [
      "foo\n"
     ]
    }
   ],
   "source": [
    "with open('ExerciseInputFiles/regex17.txt','r') as f:\n",
    "    lines=f.readlines()\n",
    "    reg=re.compile('^foo$')\n",
    "    for line in lines:\n",
    "        result=reg.search(line)\n",
    "        if result: print(result.group())"
   ]
  },
  {
   "cell_type": "markdown",
   "metadata": {},
   "source": [
    "# <font face='comic sans ms' color ='PaleTurquoise'>Practice Arena</font>"
   ]
  },
  {
   "cell_type": "code",
   "execution_count": null,
   "metadata": {},
   "outputs": [],
   "source": []
  }
 ],
 "metadata": {
  "kernelspec": {
   "display_name": "Python 3.9.12 ('base')",
   "language": "python",
   "name": "python3"
  },
  "language_info": {
   "codemirror_mode": {
    "name": "ipython",
    "version": 3
   },
   "file_extension": ".py",
   "mimetype": "text/x-python",
   "name": "python",
   "nbconvert_exporter": "python",
   "pygments_lexer": "ipython3",
   "version": "3.9.12"
  },
  "orig_nbformat": 4,
  "vscode": {
   "interpreter": {
    "hash": "649e9a488baa9f755be1bd774174f13c00c6eb61d6f5988e2904ab6e22ac3fc0"
   }
  }
 },
 "nbformat": 4,
 "nbformat_minor": 2
}
