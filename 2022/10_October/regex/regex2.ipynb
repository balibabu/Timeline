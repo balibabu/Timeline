{
 "cells": [
  {
   "cell_type": "markdown",
   "metadata": {},
   "source": [
    "# <font face='comic sans ms' color ='PaleTurquoise'>Extented Set</font>"
   ]
  },
  {
   "cell_type": "code",
   "execution_count": 3,
   "metadata": {},
   "outputs": [],
   "source": [
    "import re"
   ]
  },
  {
   "cell_type": "markdown",
   "metadata": {},
   "source": [
    "curly braces repeater {n}"
   ]
  },
  {
   "cell_type": "code",
   "execution_count": 8,
   "metadata": {},
   "outputs": [
    {
     "name": "stdout",
     "output_type": "stream",
     "text": [
      "834\n",
      "519\n",
      "645\n"
     ]
    }
   ],
   "source": [
    "with open('ExerciseInputFiles/regex18.txt','r') as f:\n",
    "    lines=f.readlines()\n",
    "    reg=re.compile('^[0-9]{3}$')\n",
    "    for line in lines:\n",
    "        result=reg.search(line)\n",
    "        if result: print(result.group())"
   ]
  },
  {
   "cell_type": "markdown",
   "metadata": {},
   "source": [
    "curly braces also represent range {n,m}"
   ]
  },
  {
   "cell_type": "code",
   "execution_count": 12,
   "metadata": {},
   "outputs": [
    {
     "name": "stdout",
     "output_type": "stream",
     "text": [
      "lion\n",
      "tiger\n",
      "mouse\n",
      "cuckoo\n",
      "deer\n"
     ]
    }
   ],
   "source": [
    "with open('ExerciseInputFiles/regex19.txt','r') as f:\n",
    "    lines=f.readlines()\n",
    "    reg=re.compile('^[a-z]{4,6}$')\n",
    "    for line in lines:\n",
    "        result=reg.search(line)\n",
    "        if result: print(result.group())"
   ]
  },
  {
   "cell_type": "markdown",
   "metadata": {},
   "source": [
    "parenthesis () is used to group and treat as a single entity"
   ]
  },
  {
   "cell_type": "code",
   "execution_count": 16,
   "metadata": {},
   "outputs": [
    {
     "name": "stdout",
     "output_type": "stream",
     "text": [
      "hahahahaha\n",
      "hahahaha\n",
      "hahahahahaha\n",
      "hahahahahahahaha\n",
      "hahahahahahahahaha\n"
     ]
    }
   ],
   "source": [
    "with open('ExerciseInputFiles/regex20.txt','r') as f:\n",
    "    lines=f.readlines()\n",
    "    reg=re.compile('(ha){4,}')\n",
    "    for line in lines:\n",
    "        result=reg.search(line)\n",
    "        if result: print(result.group())"
   ]
  },
  {
   "cell_type": "code",
   "execution_count": 18,
   "metadata": {},
   "outputs": [
    {
     "name": "stdout",
     "output_type": "stream",
     "text": [
      "ha\n",
      "haha\n"
     ]
    }
   ],
   "source": [
    "with open('ExerciseInputFiles/regex21.txt','r') as f:\n",
    "    lines=f.readlines()\n",
    "    reg=re.compile('^(ha){,2}$')\n",
    "    for line in lines:\n",
    "        result=reg.search(line)\n",
    "        if result: print(result.group())"
   ]
  },
  {
   "cell_type": "markdown",
   "metadata": {},
   "source": [
    "plus + : represent one or more recurrences"
   ]
  },
  {
   "cell_type": "code",
   "execution_count": 20,
   "metadata": {},
   "outputs": [
    {
     "name": "stdout",
     "output_type": "stream",
     "text": [
      "fooaaaabar\n",
      "fooabar\n",
      "fooaabar\n"
     ]
    }
   ],
   "source": [
    "with open('ExerciseInputFiles/regex22.txt','r') as f:\n",
    "    lines=f.readlines()\n",
    "    reg=re.compile('fooa+bar')\n",
    "    for line in lines:\n",
    "        result=reg.search(line)\n",
    "        if result: print(result.group())"
   ]
  },
  {
   "cell_type": "markdown",
   "metadata": {},
   "source": [
    "character preceding ? represents 0 or 1 occurences"
   ]
  },
  {
   "cell_type": "code",
   "execution_count": 22,
   "metadata": {},
   "outputs": [
    {
     "name": "stdout",
     "output_type": "stream",
     "text": [
      "https://website\n",
      "http://website\n"
     ]
    }
   ],
   "source": [
    "with open('ExerciseInputFiles/regex23.txt','r') as f:\n",
    "    lines=f.readlines()\n",
    "    reg=re.compile('https?://website')\n",
    "    for line in lines:\n",
    "        result=reg.search(line)\n",
    "        if result: print(result.group())"
   ]
  },
  {
   "cell_type": "markdown",
   "metadata": {},
   "source": [
    "pipe | gives either or choice"
   ]
  },
  {
   "cell_type": "code",
   "execution_count": 24,
   "metadata": {},
   "outputs": [
    {
     "name": "stdout",
     "output_type": "stream",
     "text": [
      "logwood\n",
      "plywood\n"
     ]
    }
   ],
   "source": [
    "with open('ExerciseInputFiles/regex24.txt','r') as f:\n",
    "    lines=f.readlines()\n",
    "    reg=re.compile('(log|ply)wood')\n",
    "    for line in lines:\n",
    "        result=reg.search(line)\n",
    "        if result: print(result.group())"
   ]
  },
  {
   "cell_type": "markdown",
   "metadata": {},
   "source": [
    "# <font face='comic sans ms' color ='PaleTurquoise'>Find and Replace with Capture Groups</font>"
   ]
  },
  {
   "cell_type": "markdown",
   "metadata": {},
   "source": [
    "() () first parenthesis represent group1 and other group2"
   ]
  },
  {
   "cell_type": "code",
   "execution_count": 33,
   "metadata": {},
   "outputs": [
    {
     "name": "stdout",
     "output_type": "stream",
     "text": [
      "1280 pix by 720 pix\n",
      "1920 pix by 1080 pix\n",
      "1600 pix by 900 pix\n",
      "1280 pix by 1024 pix\n",
      "800 pix by 600 pix\n",
      "1024 pix by 768 pix\n"
     ]
    }
   ],
   "source": [
    "with open('ExerciseInputFiles/regex25.txt','r') as f:\n",
    "    lines=f.readlines()\n",
    "    reg=re.compile('([0-9]+)x([0-9]+)')\n",
    "    for line in lines:\n",
    "        result=reg.search(line)\n",
    "        if result: \n",
    "            print(result.groups()[0],'pix by',result.groups()[1],'pix')"
   ]
  },
  {
   "cell_type": "code",
   "execution_count": 45,
   "metadata": {},
   "outputs": [
    {
     "name": "stdout",
     "output_type": "stream",
     "text": [
      "Wallace,John\n",
      "King,Steve\n",
      "Cook,Martin\n",
      "Smith,Adam\n",
      "Peter,Irene\n",
      "Johnson,Alice\n"
     ]
    }
   ],
   "source": [
    "with open('ExerciseInputFiles/regex26.txt','r') as f:\n",
    "    lines=f.readlines()\n",
    "    reg=re.compile('([a-zA-Z]+)\\s([a-zA-Z]+)')\n",
    "    for line in lines:\n",
    "        result=reg.search(line)\n",
    "        if result: \n",
    "            print(f'{result.groups()[1]},{result.groups()[0]}')"
   ]
  },
  {
   "cell_type": "code",
   "execution_count": null,
   "metadata": {},
   "outputs": [],
   "source": []
  }
 ],
 "metadata": {
  "kernelspec": {
   "display_name": "Python 3.9.12 ('base')",
   "language": "python",
   "name": "python3"
  },
  "language_info": {
   "codemirror_mode": {
    "name": "ipython",
    "version": 3
   },
   "file_extension": ".py",
   "mimetype": "text/x-python",
   "name": "python",
   "nbconvert_exporter": "python",
   "pygments_lexer": "ipython3",
   "version": "3.9.12"
  },
  "orig_nbformat": 4,
  "vscode": {
   "interpreter": {
    "hash": "649e9a488baa9f755be1bd774174f13c00c6eb61d6f5988e2904ab6e22ac3fc0"
   }
  }
 },
 "nbformat": 4,
 "nbformat_minor": 2
}
