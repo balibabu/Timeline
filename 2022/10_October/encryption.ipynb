{
 "cells": [
  {
   "cell_type": "code",
   "execution_count": 1,
   "metadata": {},
   "outputs": [],
   "source": [
    "import cv2\n",
    "import numpy"
   ]
  },
  {
   "cell_type": "code",
   "execution_count": 34,
   "metadata": {},
   "outputs": [],
   "source": [
    "img=cv2.imread('resources/sample1.jpg',1)"
   ]
  },
  {
   "cell_type": "code",
   "execution_count": 38,
   "metadata": {},
   "outputs": [],
   "source": [
    "cv2.imshow('window',img)\n",
    "cv2.waitKey(0)\n",
    "cv2.destroyAllWindows()"
   ]
  },
  {
   "cell_type": "code",
   "execution_count": 27,
   "metadata": {},
   "outputs": [
    {
     "data": {
      "text/plain": [
       "numpy.ndarray"
      ]
     },
     "execution_count": 27,
     "metadata": {},
     "output_type": "execute_result"
    }
   ],
   "source": [
    "type(img)"
   ]
  },
  {
   "cell_type": "code",
   "execution_count": 36,
   "metadata": {},
   "outputs": [],
   "source": [
    "for rows in img:\n",
    "    for row in rows:\n",
    "        for i in range(3):\n",
    "            row[i]-=row[i]%10"
   ]
  },
  {
   "cell_type": "code",
   "execution_count": 37,
   "metadata": {},
   "outputs": [
    {
     "name": "stdout",
     "output_type": "stream",
     "text": [
      "[[[250 250 250]\n",
      "  [250 250 250]\n",
      "  [250 240 240]\n",
      "  ...\n",
      "  [250 250 250]\n",
      "  [250 250 250]\n",
      "  [250 250 250]]\n",
      "\n",
      " [[250 250 250]\n",
      "  [250 250 250]\n",
      "  [250 250 250]\n",
      "  ...\n",
      "  [250 250 250]\n",
      "  [250 250 250]\n",
      "  [250 250 250]]\n",
      "\n",
      " [[250 250 250]\n",
      "  [250 250 250]\n",
      "  [250 250 250]\n",
      "  ...\n",
      "  [250 250 250]\n",
      "  [250 250 250]\n",
      "  [250 250 250]]\n",
      "\n",
      " ...\n",
      "\n",
      " [[250 250 250]\n",
      "  [250 250 250]\n",
      "  [250 250 250]\n",
      "  ...\n",
      "  [250 250 250]\n",
      "  [250 250 250]\n",
      "  [250 250 250]]\n",
      "\n",
      " [[250 250 250]\n",
      "  [250 240 250]\n",
      "  [250 250 250]\n",
      "  ...\n",
      "  [250 250 250]\n",
      "  [250 250 250]\n",
      "  [250 250 250]]\n",
      "\n",
      " [[250 240 250]\n",
      "  [250 250 250]\n",
      "  [250 250 250]\n",
      "  ...\n",
      "  [250 250 250]\n",
      "  [250 250 250]\n",
      "  [250 250 250]]]\n"
     ]
    }
   ],
   "source": [
    "print(img)"
   ]
  },
  {
   "cell_type": "code",
   "execution_count": 33,
   "metadata": {},
   "outputs": [
    {
     "data": {
      "text/plain": [
       "(313, 837, 3)"
      ]
     },
     "execution_count": 33,
     "metadata": {},
     "output_type": "execute_result"
    }
   ],
   "source": [
    "len(img),len(img[0]),len(img[0][0])"
   ]
  },
  {
   "cell_type": "code",
   "execution_count": 8,
   "metadata": {},
   "outputs": [
    {
     "data": {
      "text/plain": [
       "(465, 660, 3)"
      ]
     },
     "execution_count": 8,
     "metadata": {},
     "output_type": "execute_result"
    }
   ],
   "source": [
    "img.shape"
   ]
  },
  {
   "cell_type": "code",
   "execution_count": 43,
   "metadata": {},
   "outputs": [],
   "source": [
    "img[0][0][0]=259"
   ]
  },
  {
   "cell_type": "code",
   "execution_count": 47,
   "metadata": {},
   "outputs": [
    {
     "name": "stdout",
     "output_type": "stream",
     "text": [
      "b 98\n",
      "a 97\n",
      "l 108\n",
      "i 105\n",
      "z 122\n"
     ]
    }
   ],
   "source": [
    "for i in 'baliz':\n",
    "    print(i,ord(i))"
   ]
  },
  {
   "cell_type": "code",
   "execution_count": null,
   "metadata": {},
   "outputs": [],
   "source": []
  },
  {
   "cell_type": "code",
   "execution_count": null,
   "metadata": {},
   "outputs": [],
   "source": []
  }
 ],
 "metadata": {
  "kernelspec": {
   "display_name": "Python 3.9.12 ('base')",
   "language": "python",
   "name": "python3"
  },
  "language_info": {
   "codemirror_mode": {
    "name": "ipython",
    "version": 3
   },
   "file_extension": ".py",
   "mimetype": "text/x-python",
   "name": "python",
   "nbconvert_exporter": "python",
   "pygments_lexer": "ipython3",
   "version": "3.9.12"
  },
  "orig_nbformat": 4,
  "vscode": {
   "interpreter": {
    "hash": "649e9a488baa9f755be1bd774174f13c00c6eb61d6f5988e2904ab6e22ac3fc0"
   }
  }
 },
 "nbformat": 4,
 "nbformat_minor": 2
}
