{
 "cells": [
  {
   "cell_type": "markdown",
   "metadata": {},
   "source": [
    "## <font face='comic sans ms' color ='yellow'>Beautiful Soup Tutorial</font>"
   ]
  },
  {
   "cell_type": "code",
   "execution_count": null,
   "metadata": {},
   "outputs": [],
   "source": [
    "import requests\n",
    "from bs4 import BeautifulSoup"
   ]
  },
  {
   "cell_type": "code",
   "execution_count": null,
   "metadata": {},
   "outputs": [],
   "source": [
    "# url='https://www.imdb.com/find?q=zootopia&ref_=nv_sr_sm'\n",
    "# url='https://www.imdb.com/'\n",
    "url='https://music.youtube.com/playlist?list=PLXtldp7_lCzyQn5tFr3r1CClUOOYn7t3d'\n",
    "req=requests.get(url)\n",
    "soup=BeautifulSoup(req.content,'html.parser')"
   ]
  },
  {
   "cell_type": "code",
   "execution_count": null,
   "metadata": {},
   "outputs": [],
   "source": [
    "print(soup.prettify()) # prints the html page"
   ]
  },
  {
   "cell_type": "code",
   "execution_count": null,
   "metadata": {},
   "outputs": [],
   "source": [
    "soup.get_text() # all texts except the tags"
   ]
  },
  {
   "cell_type": "code",
   "execution_count": null,
   "metadata": {},
   "outputs": [],
   "source": [
    "titles=soup.title"
   ]
  },
  {
   "cell_type": "code",
   "execution_count": null,
   "metadata": {},
   "outputs": [],
   "source": [
    "titles.get_text()   # get title of the page"
   ]
  },
  {
   "cell_type": "code",
   "execution_count": null,
   "metadata": {},
   "outputs": [],
   "source": [
    "list_of_songs=soup.findAll('h3',attrs={'class':'a-no-trucate','id':'title-of-a-story'})"
   ]
  },
  {
   "cell_type": "markdown",
   "metadata": {},
   "source": [
    "## <font face='comic sans ms' color ='yellow'>Experiment</font>"
   ]
  },
  {
   "cell_type": "markdown",
   "metadata": {},
   "source": [
    "### <font face='comic sans ms' color ='magenta'>youtube music</font>"
   ]
  },
  {
   "cell_type": "code",
   "execution_count": null,
   "metadata": {},
   "outputs": [],
   "source": [
    "# url='https://www.youtube.com/playlist?list=PLXtldp7_lCzyQn5tFr3r1CClUOOYn7t3d'\n",
    "url='https://www.youtube.com/playlist?list=PLXtldp7_lCzwXBqzWEfi8dLRdOp-V1_pD'\n",
    "req=requests.get(url)"
   ]
  },
  {
   "cell_type": "code",
   "execution_count": null,
   "metadata": {},
   "outputs": [],
   "source": [
    "soup=BeautifulSoup(req.content,'html.parser')\n",
    "soup.get_text() # all texts except the tags"
   ]
  },
  {
   "cell_type": "code",
   "execution_count": null,
   "metadata": {},
   "outputs": [],
   "source": [
    "print(soup.prettify()) # prints the html page"
   ]
  },
  {
   "cell_type": "code",
   "execution_count": null,
   "metadata": {},
   "outputs": [],
   "source": [
    "# attributes in soup findAll\n",
    "list_of_songs=soup.findAll('h3',attrs={'class':'a-no-trucate','id':'title-of-a-story'})"
   ]
  },
  {
   "cell_type": "code",
   "execution_count": null,
   "metadata": {},
   "outputs": [],
   "source": [
    "html_doc = \"\"\"<html><head><title>The Dormouse's story</title></head>\n",
    "<body>\n",
    "<p class=\"title\"><b>The Dormouse's story</b></p>\n",
    "\n",
    "<p class=\"story\">Once upon a time there were three little sisters; and their names were\n",
    "<a href=\"http://example.com/elsie\" class=\"sister\" id=\"link1\">Elsie</a>,\n",
    "<a href=\"http://example.com/lacie\" class=\"sister\" id=\"link2\">Lacie</a> and\n",
    "<a href=\"http://example.com/tillie\" class=\"sister\" id=\"link3\">Tillie</a>;\n",
    "and they lived at the bottom of a well.</p>\n",
    "\n",
    "<p class=\"story\">...</p>\"\"\""
   ]
  },
  {
   "cell_type": "code",
   "execution_count": null,
   "metadata": {},
   "outputs": [],
   "source": [
    "soup = BeautifulSoup(html_doc, 'html.parser')"
   ]
  },
  {
   "cell_type": "code",
   "execution_count": null,
   "metadata": {},
   "outputs": [],
   "source": [
    "print(soup.title)\n",
    "print(soup.title.get_text())\n",
    "print(soup.title.name)\n",
    "print(soup.title.string)"
   ]
  },
  {
   "cell_type": "code",
   "execution_count": null,
   "metadata": {},
   "outputs": [],
   "source": [
    "print(soup.p)\n",
    "print(soup.p.string)"
   ]
  },
  {
   "cell_type": "code",
   "execution_count": null,
   "metadata": {},
   "outputs": [],
   "source": [
    "print(soup.a)"
   ]
  },
  {
   "cell_type": "code",
   "execution_count": null,
   "metadata": {},
   "outputs": [],
   "source": [
    "soup.find_all('a')"
   ]
  },
  {
   "cell_type": "markdown",
   "metadata": {},
   "source": [
    "### <font face='comic sans ms' color ='magenta'>testing</font>"
   ]
  },
  {
   "cell_type": "code",
   "execution_count": null,
   "metadata": {},
   "outputs": [],
   "source": [
    "html = open('testing.html', encoding=\"utf8\")\n",
    "soup = BeautifulSoup(html, 'html.parser')"
   ]
  },
  {
   "cell_type": "code",
   "execution_count": null,
   "metadata": {},
   "outputs": [],
   "source": [
    "print(soup.title.string.strip())"
   ]
  },
  {
   "cell_type": "code",
   "execution_count": null,
   "metadata": {},
   "outputs": [],
   "source": [
    "print(soup.head)"
   ]
  },
  {
   "cell_type": "code",
   "execution_count": null,
   "metadata": {},
   "outputs": [],
   "source": [
    "print(soup.body)"
   ]
  },
  {
   "cell_type": "code",
   "execution_count": null,
   "metadata": {},
   "outputs": [],
   "source": [
    "print(soup.body.script.string)"
   ]
  },
  {
   "cell_type": "code",
   "execution_count": null,
   "metadata": {},
   "outputs": [],
   "source": [
    "print(soup.body.find_all('script'))"
   ]
  },
  {
   "cell_type": "code",
   "execution_count": null,
   "metadata": {},
   "outputs": [],
   "source": [
    "scripts=soup.body.find_all('script')\n",
    "s=''\n",
    "for i in scripts:\n",
    "    # print(i,len(i.string),type(i),'\\n')\n",
    "    if len(i.string)>200:\n",
    "        s=i\n",
    "        "
   ]
  },
  {
   "cell_type": "code",
   "execution_count": null,
   "metadata": {},
   "outputs": [],
   "source": [
    "ls=[len(i.string) for i in scripts]"
   ]
  },
  {
   "cell_type": "code",
   "execution_count": null,
   "metadata": {},
   "outputs": [],
   "source": [
    "for i in soup.body.find_all('script'):\n",
    "    print(type(i),'\\n')"
   ]
  },
  {
   "cell_type": "code",
   "execution_count": null,
   "metadata": {},
   "outputs": [],
   "source": []
  },
  {
   "cell_type": "markdown",
   "metadata": {},
   "source": [
    "### <font face='comic sans ms' color ='magenta'>Bill Board</font>"
   ]
  },
  {
   "cell_type": "code",
   "execution_count": null,
   "metadata": {},
   "outputs": [],
   "source": [
    "url='https://www.billboard.com/charts/hot-100/'"
   ]
  },
  {
   "cell_type": "code",
   "execution_count": null,
   "metadata": {},
   "outputs": [],
   "source": [
    "req=requests.get(url)\n",
    "soup=BeautifulSoup(req.content,'html.parser')"
   ]
  },
  {
   "cell_type": "code",
   "execution_count": null,
   "metadata": {},
   "outputs": [],
   "source": [
    "content=open('billboard.html', encoding=\"utf8\")\n",
    "soup=BeautifulSoup(content,'html.parser')"
   ]
  },
  {
   "cell_type": "code",
   "execution_count": null,
   "metadata": {},
   "outputs": [],
   "source": [
    "soup.body.main"
   ]
  },
  {
   "cell_type": "code",
   "execution_count": null,
   "metadata": {},
   "outputs": [],
   "source": [
    "h3s=soup.body.find( class_ = 'u-max-width-960 lrv-u-margin-lr-auto').find_all('ul')\n",
    "print(h3s)"
   ]
  },
  {
   "cell_type": "code",
   "execution_count": null,
   "metadata": {},
   "outputs": [],
   "source": [
    "for i in h3s:\n",
    "    inside_ul=i.find_all('h3')\n",
    "    if len(inside_ul):\n",
    "        print(inside_ul,inside_ul,len(inside_ul))"
   ]
  },
  {
   "cell_type": "code",
   "execution_count": null,
   "metadata": {},
   "outputs": [],
   "source": []
  },
  {
   "cell_type": "code",
   "execution_count": null,
   "metadata": {},
   "outputs": [],
   "source": []
  },
  {
   "cell_type": "code",
   "execution_count": null,
   "metadata": {},
   "outputs": [],
   "source": []
  },
  {
   "cell_type": "code",
   "execution_count": null,
   "metadata": {},
   "outputs": [],
   "source": [
    "print(soup.prettify())"
   ]
  },
  {
   "cell_type": "code",
   "execution_count": null,
   "metadata": {},
   "outputs": [],
   "source": [
    "soup.title.string"
   ]
  },
  {
   "cell_type": "code",
   "execution_count": null,
   "metadata": {},
   "outputs": [],
   "source": [
    "songs=soup.body.find_all('h3')"
   ]
  },
  {
   "cell_type": "code",
   "execution_count": null,
   "metadata": {},
   "outputs": [],
   "source": [
    "len(songs)"
   ]
  },
  {
   "cell_type": "code",
   "execution_count": null,
   "metadata": {},
   "outputs": [],
   "source": [
    "others='''Songwriter(s):\n",
    "Producer(s):\n",
    "Imprint/Promotion Label:\n",
    "Gains in Weekly Performance\n",
    "Additional Awards'''.split('\\n')"
   ]
  },
  {
   "cell_type": "code",
   "execution_count": null,
   "metadata": {},
   "outputs": [],
   "source": [
    "print(others)"
   ]
  },
  {
   "cell_type": "code",
   "execution_count": null,
   "metadata": {},
   "outputs": [],
   "source": [
    "for i in songs:\n",
    "    try:\n",
    "        if i.string.strip() in others: \n",
    "            continue\n",
    "        print(i.string.strip())\n",
    "        # print(i.string.strip() in others)\n",
    "    except:\n",
    "        pass"
   ]
  },
  {
   "cell_type": "code",
   "execution_count": null,
   "metadata": {},
   "outputs": [],
   "source": [
    "len(others)"
   ]
  },
  {
   "cell_type": "code",
   "execution_count": null,
   "metadata": {},
   "outputs": [],
   "source": [
    "len(soup)\n",
    "for i in soup:\n",
    "    print(len(i),type(i))"
   ]
  },
  {
   "cell_type": "code",
   "execution_count": null,
   "metadata": {},
   "outputs": [],
   "source": [
    "tags=list(soup)"
   ]
  },
  {
   "cell_type": "code",
   "execution_count": null,
   "metadata": {},
   "outputs": [],
   "source": [
    "len(tags)"
   ]
  },
  {
   "cell_type": "code",
   "execution_count": null,
   "metadata": {},
   "outputs": [],
   "source": [
    "for i in tags:\n",
    "    print(i)"
   ]
  },
  {
   "cell_type": "code",
   "execution_count": null,
   "metadata": {},
   "outputs": [],
   "source": [
    "soup.body"
   ]
  },
  {
   "cell_type": "code",
   "execution_count": null,
   "metadata": {},
   "outputs": [],
   "source": [
    "doc=\"\"\"<!DOCTYPE html>\n",
    "<html>\n",
    "    <head>\n",
    "        <meta charset=\"utf-8\">\n",
    "        <meta http-equiv=\"X-UA-Compatible\" content=\"IE=edge\">\n",
    "        <title>Bali Babu Chauhan's Website</title>\n",
    "        <meta name=\"description\" content=\"\">\n",
    "        <meta name=\"viewport\" content=\"width=device-width, initial-scale=1\">\n",
    "        <link rel=\"stylesheet\" href=\"css/styles.css\">\n",
    "        <link rel=\"icon\" href=\"favicon.ico\">\n",
    "        <link rel=\"preconnect\" href=\"https://fonts.googleapis.com\">\n",
    "        <link rel=\"preconnect\" href=\"https://fonts.gstatic.com\" crossorigin>\n",
    "        <link href=\"https://fonts.googleapis.com/css2?family=Merriweather&family=Montserrat&family=Sacramento&display=swap\" rel=\"stylesheet\">\n",
    "        <div class=\"top-container\">hi\n",
    "        </div>\n",
    "        <div class=\"bottom-container\">baby\n",
    "          </div>\n",
    "    </head>\n",
    "    <body>\n",
    "        \n",
    "        <div class=\"top-container\">hi\n",
    "        </div>\n",
    "        \n",
    "\n",
    "        <div class=\"middle-container\">\n",
    "            <div class=\"bottom-container\">cat\n",
    "              </div>\n",
    "        </div>\n",
    "          \n",
    "          \n",
    "          <div class=\"bottom-container\">baby\n",
    "          </div>\n",
    "          <div class=\"bottom-container\">boy\n",
    "          </div>\n",
    "          \n",
    "    </body>\n",
    "</html> \"\"\""
   ]
  },
  {
   "cell_type": "code",
   "execution_count": null,
   "metadata": {},
   "outputs": [],
   "source": [
    "soup1=BeautifulSoup(doc,'html.parser')"
   ]
  },
  {
   "cell_type": "code",
   "execution_count": null,
   "metadata": {},
   "outputs": [],
   "source": [
    "divs=soup1.body.find_all('div')"
   ]
  },
  {
   "cell_type": "code",
   "execution_count": null,
   "metadata": {},
   "outputs": [],
   "source": [
    "len(divs)"
   ]
  },
  {
   "cell_type": "code",
   "execution_count": null,
   "metadata": {},
   "outputs": [],
   "source": [
    "classes=soup1.find_all(class_='bottom-container')\n",
    "classes"
   ]
  },
  {
   "cell_type": "code",
   "execution_count": null,
   "metadata": {},
   "outputs": [],
   "source": []
  },
  {
   "cell_type": "markdown",
   "metadata": {},
   "source": [
    "## <font face='comic sans ms' color ='yellow'>Class BeautifulSoup</font>"
   ]
  },
  {
   "cell_type": "code",
   "execution_count": null,
   "metadata": {},
   "outputs": [],
   "source": [
    "import urllib.request\n",
    "from bs4 import BeautifulSoup\n",
    "\n",
    "\n",
    "class htmlDB:\n",
    "    def getHtmlFromUrl(link):\n",
    "        fp = urllib.request.urlopen(link)\n",
    "        mybytes = fp.read()\n",
    "\n",
    "        htmlContent = mybytes.decode(\"utf8\")\n",
    "        fp.close()\n",
    "        return htmlContent\n",
    "\n",
    "    def getParsedData(pageContent, parser = 'html.parser'):\n",
    "        return BeautifulSoup(pageContent, parser)\n",
    "\n",
    "    def getAttrIndex(tag, attr):\n",
    "        return tag[attr]\n",
    "    \n",
    "    def downloadPdf(link, name):\n",
    "        import requests\n",
    "        r = requests.get(link, stream = True)\n",
    "        with open(name,\"wb\") as pdf: \n",
    "            for chunk in r.iter_content(chunk_size=1024):\n",
    "                if (chunk): \n",
    "                    pdf.write(chunk)\n",
    "    \n",
    "    def getTags(name, soup):\n",
    "        return soup.findAll(name)\n",
    "\n",
    "    def searchOnSoup(dic, soup):\n",
    "        if(not('tagName' in dic and 'attr' in dic)):\n",
    "            print('give dictionary containing {\"tagName\":\"name\", \"attr\":{\"attrName\": \"attrValue\"}}')\n",
    "            return\n",
    "        return soup.findAll(dic['tagName'], dic[\"attr\"])\n",
    "\n",
    "    def urlDecode(value):\n",
    "        import urllib.parse\n",
    "        return urllib.parse.unquote(value)\n",
    "        \n",
    "    def urlEncode(value):\n",
    "        import urllib.parse\n",
    "        return urllib.parse.quote(value)\n",
    "\n",
    "    def htmlDecode(value):\n",
    "        import html\n",
    "        return html.unescape(value)\n",
    "\n",
    "    def displayTableFromArray(arr, displayIt = True):\n",
    "        from IPython.display import HTML, display\n",
    "        arrHtmlTxt = \"\".join([f\"<th>{head}</th>\\n  \" for head in arr[0]])\n",
    "        arrHtmlTxt = f\"<tr>{arrHtmlTxt}</tr>\\n\"\n",
    "        for row in arr[1:]:\n",
    "            vals = \"\"\n",
    "            for val in row:\n",
    "                vals += f\"<td>{val}</td>\\n  \"\n",
    "            arrHtmlTxt += f\"<tr>{vals}</tr>\\n\"\n",
    "        if(displayIt):\n",
    "            display(HTML(f\"<table>{arrHtmlTxt}</table>\"))\n",
    "            return\n",
    "        return f\"<table>{arrHtmlTxt}</table>\"\n",
    "\n",
    "    def fetchApiResults(link):\n",
    "        import requests\n",
    "        import json\n",
    "        r = requests.get(link)\n",
    "        jsonData = json.loads(r.text)\n",
    "        return jsonData\n",
    "    \n",
    "class HtmlCssJavascript:\n",
    "    def calender():\n",
    "        from IPython.display import HTML\n",
    "        return HTML('<input type=\"date\">')\n",
    "        \n",
    "    def valuePairDisplay(dic):\n",
    "        content = \"\"\n",
    "        for key in dic:\n",
    "            content += f'<div class =\"row\"><span class=\"key\">{key} ::</span> <span class=\"value\">{dic[key]}</span> </div>'\n",
    "        content = f'<div class=\"container\"> {content}</div>'\n",
    "        return content\n",
    "    \n",
    "    def getDiv(content):\n",
    "        return f\"<div>{content} </div>\"\n",
    "\n",
    "    def getTextArea(content):\n",
    "        return f\"<textarea>{content} </textarea>\"\n",
    "\n",
    "    def horizontalBox(contentList):\n",
    "        k = \"<div style='width:100%;display:flex;'>\"\n",
    "        for val in contentList:\n",
    "            k += \" <div style='float: left; margin:5px;'>\" + val + \"</div>\"\n",
    "        k += \"</div>\"\n",
    "        return k"
   ]
  },
  {
   "cell_type": "code",
   "execution_count": null,
   "metadata": {},
   "outputs": [],
   "source": [
    "page=htmlDB.getHtmlFromUrl('https://www.billboard.com/charts/hot-100/')"
   ]
  },
  {
   "cell_type": "code",
   "execution_count": null,
   "metadata": {},
   "outputs": [],
   "source": [
    "soup = htmlDB.getParsedData(page)\n",
    "res = htmlDB.searchOnSoup({\"tagName\":\"h3\",\"attr\":{'id':'title-of-a-story', 'class': 'a-no-trucate'}},soup)\n",
    "for ele in res:\n",
    "    print(ele.text.strip())"
   ]
  },
  {
   "cell_type": "code",
   "execution_count": null,
   "metadata": {},
   "outputs": [],
   "source": [
    "# attributes in soup findAll\n",
    "list_of_songs=soup.findAll('h3',attrs={'class':'a-no-trucate','id':'title-of-a-story'})"
   ]
  },
  {
   "cell_type": "code",
   "execution_count": null,
   "metadata": {},
   "outputs": [],
   "source": [
    "len(list_of_songs)"
   ]
  },
  {
   "cell_type": "code",
   "execution_count": null,
   "metadata": {},
   "outputs": [],
   "source": [
    "for i in range(len(list_of_songs)):\n",
    "    print(i+1,list_of_songs[i].getText().strip())"
   ]
  },
  {
   "cell_type": "code",
   "execution_count": null,
   "metadata": {},
   "outputs": [],
   "source": []
  }
 ],
 "metadata": {
  "kernelspec": {
   "display_name": "Python 3.9.12 ('base')",
   "language": "python",
   "name": "python3"
  },
  "language_info": {
   "codemirror_mode": {
    "name": "ipython",
    "version": 3
   },
   "file_extension": ".py",
   "mimetype": "text/x-python",
   "name": "python",
   "nbconvert_exporter": "python",
   "pygments_lexer": "ipython3",
   "version": "3.9.12"
  },
  "orig_nbformat": 4,
  "vscode": {
   "interpreter": {
    "hash": "649e9a488baa9f755be1bd774174f13c00c6eb61d6f5988e2904ab6e22ac3fc0"
   }
  }
 },
 "nbformat": 4,
 "nbformat_minor": 2
}
