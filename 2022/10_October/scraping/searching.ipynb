{
 "cells": [
  {
   "cell_type": "code",
   "execution_count": 2,
   "metadata": {},
   "outputs": [],
   "source": [
    "import requests\n",
    "from bs4 import BeautifulSoup"
   ]
  },
  {
   "cell_type": "code",
   "execution_count": 1,
   "metadata": {},
   "outputs": [],
   "source": [
    "url='https://music.youtube.com/search?q=bones'"
   ]
  },
  {
   "cell_type": "code",
   "execution_count": 3,
   "metadata": {},
   "outputs": [],
   "source": [
    "req=requests.get(url)\n",
    "soup=BeautifulSoup(req.content,'html.parser')"
   ]
  },
  {
   "cell_type": "code",
   "execution_count": 4,
   "metadata": {},
   "outputs": [
    {
     "name": "stdout",
     "output_type": "stream",
     "text": [
      "<!DOCTYPE html>\n",
      "<html dir=\"ltr\" lang=\"en-GB\">\n",
      " <head>\n",
      "  <title>\n",
      "   Your browser is deprecated, please upgrade.\n",
      "  </title>\n",
      "  <meta content=\"width=device-width, initial-scale=1.0, maximum-scale=1.0, user-scalable=no\" name=\"viewport\"/>\n",
      "  <link href=\"https://fonts.googleapis.com/css?family=Roboto:500\" nonce=\"WFtZz6Ko86I7a42p_jbeTw\" rel=\"stylesheet\"/>\n",
      "  <link href=\"https://music.youtube.com/favicon.ico\" rel=\"icon\" sizes=\"16x16\" type=\"image/x-icon\"/>\n",
      "  <link href=\"https://music.youtube.com/img/favicon_32.png\" rel=\"icon\" sizes=\"32x32\" type=\"image/png\"/>\n",
      "  <link href=\"https://music.youtube.com/img/favicon_48.png\" rel=\"icon\" sizes=\"48x48\" type=\"image/png\"/>\n",
      "  <link href=\"https://music.youtube.com/img/favicon_96.png\" rel=\"icon\" sizes=\"96x96\" type=\"image/png\"/>\n",
      "  <link href=\"https://music.youtube.com/img/favicon_144.png\" rel=\"icon\" sizes=\"144x144\" type=\"image/png\"/>\n",
      "  <style nonce=\"WFtZz6Ko86I7a42p_jbeTw\">\n",
      "   body {display: flex; height: 100vh; width: 100vw; align-items: center; justify-content: center; margin: 0; background-color: #131313; overflow: hidden; font-family: 'Roboto', arial, sans-serif}.content {display: flex; flex-direction: column; align-items: center;}.logo {width: 160px;}.message {max-width: 400px; box-sizing: border-box; padding: 32px 24px; font-size: 18px; line-height: 22px; font-weight: 500; text-align: center; color: rgba(255, 255, 255, 0.8);}.cta-wrapper {display: flex; justify-content: center;}.cta {display: flex; align-items: center; justify-content: center; background-color: #fff; font-size: 14px; font-weight: 500; text-decoration: none; text-transform: uppercase; color: #131313; height: 36px; min-width: 88px; border-radius: 2px; padding: 0 24px;}\n",
      "  </style>\n",
      " </head>\n",
      " <body>\n",
      "  <div class=\"content\">\n",
      "   <img alt=\"\" class=\"logo\" src=\"//music.youtube.com/img/on_platform_logo_dark.svg\"/>\n",
      "   <div class=\"message\">\n",
      "    Sorry, YouTube Music is not optimised for your browser. Check for updates or try Google Chrome.\n",
      "   </div>\n",
      "   <div class=\"cta-wrapper\">\n",
      "    <a class=\"cta\" href=\"http://www.google.com/chrome/index.html\">\n",
      "     Get Chrome\n",
      "    </a>\n",
      "   </div>\n",
      "  </div>\n",
      " </body>\n",
      "</html>\n"
     ]
    }
   ],
   "source": [
    "print(soup.prettify()) # prints the html page"
   ]
  },
  {
   "cell_type": "code",
   "execution_count": null,
   "metadata": {},
   "outputs": [],
   "source": []
  }
 ],
 "metadata": {
  "kernelspec": {
   "display_name": "Python 3.9.12 ('base')",
   "language": "python",
   "name": "python3"
  },
  "language_info": {
   "codemirror_mode": {
    "name": "ipython",
    "version": 3
   },
   "file_extension": ".py",
   "mimetype": "text/x-python",
   "name": "python",
   "nbconvert_exporter": "python",
   "pygments_lexer": "ipython3",
   "version": "3.9.12"
  },
  "orig_nbformat": 4,
  "vscode": {
   "interpreter": {
    "hash": "649e9a488baa9f755be1bd774174f13c00c6eb61d6f5988e2904ab6e22ac3fc0"
   }
  }
 },
 "nbformat": 4,
 "nbformat_minor": 2
}
