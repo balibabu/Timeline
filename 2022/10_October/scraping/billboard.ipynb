{
 "cells": [
  {
   "cell_type": "code",
   "execution_count": null,
   "metadata": {},
   "outputs": [],
   "source": [
    "import requests\n",
    "from bs4 import BeautifulSoup"
   ]
  },
  {
   "cell_type": "code",
   "execution_count": null,
   "metadata": {},
   "outputs": [],
   "source": [
    "url='https://www.billboard.com/charts/hot-100/'\n",
    "req=requests.get(url)\n",
    "soup=BeautifulSoup(req.content,'html.parser')"
   ]
  },
  {
   "cell_type": "code",
   "execution_count": null,
   "metadata": {},
   "outputs": [],
   "source": [
    "# print(soup.prettify())"
   ]
  },
  {
   "cell_type": "code",
   "execution_count": 58,
   "metadata": {},
   "outputs": [],
   "source": [
    "ls=soup.findAll('h3',attrs={'id':'title-of-a-story','class':'a-no-trucate'})"
   ]
  },
  {
   "cell_type": "code",
   "execution_count": 59,
   "metadata": {},
   "outputs": [
    {
     "data": {
      "text/plain": [
       "100"
      ]
     },
     "execution_count": 59,
     "metadata": {},
     "output_type": "execute_result"
    }
   ],
   "source": [
    "len(ls)"
   ]
  },
  {
   "cell_type": "code",
   "execution_count": 62,
   "metadata": {},
   "outputs": [
    {
     "name": "stdout",
     "output_type": "stream",
     "text": [
      "Bad Habit\n",
      "As It Was\n",
      "Unholy\n",
      "I Like You (A Happier Song)\n",
      "Sunroof\n",
      "Super Freaky Girl\n",
      "I Ain't Worried\n",
      "You Proof\n",
      "Tomorrow 2\n",
      "About Damn Time\n",
      "The Kind Of Love We Make\n",
      "Wait For U\n",
      "Late Night Talking\n",
      "Vegas\n",
      "Me Porto Bonito\n",
      "Titi Me Pregunto\n",
      "Wasted On You\n",
      "She Had Me At Heads Carolina\n",
      "Heat Waves\n",
      "Jimmy Cooks\n",
      "I'm Good (Blue)\n",
      "5 Foot 9\n",
      "Something In The Orange\n",
      "First Class\n",
      "Under The Influence\n",
      "Running Up That Hill (A Deal With God)\n",
      "Hold Me Closer\n",
      "Glimpse Of Us\n",
      "Rock And A Hard Place\n",
      "Fall In Love\n",
      "Son Of A Sinner\n",
      "Star Walkin' (League Of Legends Worlds Anthem)\n",
      "Unstoppable\n",
      "Betty (Get Money)\n",
      "Romantic Homicide\n",
      "Moscow Mule\n",
      "Big Energy\n",
      "Thank God\n",
      "Break My Soul\n",
      "In A Minute\n",
      "Die For You\n",
      "Staying Alive\n",
      "Left And Right\n",
      "F.N.F. (Let's Go)\n",
      "Whiskey On You\n",
      "What My World Spins Around\n",
      "Numb\n",
      "Efecto\n",
      "Last Last\n",
      "Free Mind\n",
      "Bones\n",
      "Victoria’s Secret\n",
      "Evergreen\n",
      "Cuff It\n",
      "Wishful Drinking\n",
      "Last Night Lonely\n",
      "Until I Found You\n",
      "2 Be Loved (Am I Ready)\n",
      "Don't Come Lookin'\n",
      "Golden Hour\n",
      "Sleazy Flow\n",
      "Gatubela\n",
      "Billie Eilish.\n",
      "Despecha\n",
      "Freestyle\n",
      "Half Of Me\n",
      "Shut Down\n",
      "Ghost Story\n",
      "All Mine\n",
      "Put It On Me\n",
      "Truth About You\n",
      "Music For A Sushi Restaurant\n",
      "Dah Dah DahDah\n",
      "She Likes It\n",
      "Neverita\n",
      "So Good\n",
      "La Bachata\n",
      "Static\n",
      "Dark Red\n",
      "Calm Down\n",
      "Pick Me Up\n",
      "Wait In The Truck\n",
      "Country On\n",
      "Wild As Her\n",
      "Soul\n",
      "Bzrp Music Sessions, Vol. 52\n",
      "Pink Venom\n",
      "Good Love\n",
      "With A Woman You Love\n",
      "Snap\n",
      "Like I Love Country Music\n",
      "Mary On A Cross\n",
      "Talk\n",
      "Detox\n",
      "Out In The Middle\n",
      "Blow\n",
      "World's Smallest Violin\n",
      "Oklahoma Smoke Show\n",
      "No Se Va\n",
      "Down Home\n"
     ]
    }
   ],
   "source": [
    "for i in ls:\n",
    "    print(i.string.strip())"
   ]
  },
  {
   "cell_type": "code",
   "execution_count": null,
   "metadata": {},
   "outputs": [],
   "source": []
  }
 ],
 "metadata": {
  "kernelspec": {
   "display_name": "Python 3.9.12 ('base')",
   "language": "python",
   "name": "python3"
  },
  "language_info": {
   "codemirror_mode": {
    "name": "ipython",
    "version": 3
   },
   "file_extension": ".py",
   "mimetype": "text/x-python",
   "name": "python",
   "nbconvert_exporter": "python",
   "pygments_lexer": "ipython3",
   "version": "3.9.12"
  },
  "orig_nbformat": 4,
  "vscode": {
   "interpreter": {
    "hash": "649e9a488baa9f755be1bd774174f13c00c6eb61d6f5988e2904ab6e22ac3fc0"
   }
  }
 },
 "nbformat": 4,
 "nbformat_minor": 2
}
