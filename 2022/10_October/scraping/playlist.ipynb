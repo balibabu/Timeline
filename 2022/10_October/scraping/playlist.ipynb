{
 "cells": [
  {
   "cell_type": "code",
   "execution_count": null,
   "metadata": {},
   "outputs": [],
   "source": [
    "from bs4 import BeautifulSoup\n",
    "import requests"
   ]
  },
  {
   "cell_type": "code",
   "execution_count": null,
   "metadata": {},
   "outputs": [],
   "source": [
    "content=open('youtubePlaylist.html',encoding=\"utf8\")\n",
    "soup=BeautifulSoup(content,'html.parser')"
   ]
  },
  {
   "cell_type": "code",
   "execution_count": null,
   "metadata": {},
   "outputs": [],
   "source": [
    "print(soup.prettify())"
   ]
  },
  {
   "cell_type": "code",
   "execution_count": null,
   "metadata": {},
   "outputs": [],
   "source": [
    "soup.head"
   ]
  },
  {
   "cell_type": "code",
   "execution_count": null,
   "metadata": {},
   "outputs": [],
   "source": [
    "len(soup.body.findAll('script'))"
   ]
  },
  {
   "cell_type": "code",
   "execution_count": null,
   "metadata": {},
   "outputs": [],
   "source": []
  },
  {
   "cell_type": "code",
   "execution_count": null,
   "metadata": {},
   "outputs": [],
   "source": []
  },
  {
   "cell_type": "code",
   "execution_count": null,
   "metadata": {},
   "outputs": [],
   "source": []
  },
  {
   "cell_type": "code",
   "execution_count": null,
   "metadata": {},
   "outputs": [],
   "source": []
  },
  {
   "cell_type": "code",
   "execution_count": null,
   "metadata": {},
   "outputs": [],
   "source": []
  },
  {
   "cell_type": "code",
   "execution_count": null,
   "metadata": {},
   "outputs": [],
   "source": []
  },
  {
   "cell_type": "code",
   "execution_count": null,
   "metadata": {},
   "outputs": [],
   "source": []
  },
  {
   "cell_type": "code",
   "execution_count": null,
   "metadata": {},
   "outputs": [],
   "source": [
    "url='https://www.youtube.com/playlist?list=PLXtldp7_lCzwXBqzWEfi8dLRdOp-V1_pD'"
   ]
  },
  {
   "cell_type": "code",
   "execution_count": null,
   "metadata": {},
   "outputs": [],
   "source": [
    "req=requests.get(url)\n",
    "soup=BeautifulSoup(req.content,'html.parser')"
   ]
  },
  {
   "cell_type": "code",
   "execution_count": null,
   "metadata": {},
   "outputs": [],
   "source": [
    "print(soup.prettify())"
   ]
  },
  {
   "cell_type": "code",
   "execution_count": 21,
   "metadata": {},
   "outputs": [
    {
     "data": {
      "text/plain": [
       "19"
      ]
     },
     "execution_count": 21,
     "metadata": {},
     "output_type": "execute_result"
    }
   ],
   "source": [
    "len(soup.body.findAll('script',attrs={}))"
   ]
  },
  {
   "cell_type": "code",
   "execution_count": 22,
   "metadata": {},
   "outputs": [
    {
     "name": "stdout",
     "output_type": "stream",
     "text": [
      "name@email.com\n"
     ]
    }
   ],
   "source": [
    "import re\n",
    "\n",
    "from bs4 import BeautifulSoup\n",
    "\n",
    "\n",
    "data = \"\"\"\n",
    "<body>\n",
    "    <script>jQuery(window).load(function () {\n",
    "      setTimeout(function(){\n",
    "        jQuery(\"input[name=Email]\").val(\"name@email.com\");\n",
    "      }, 1000);\n",
    "    });</script>\n",
    "</body>\n",
    "\"\"\"\n",
    "pattern = re.compile(r'\\.val\\(\"([^@]+@[^@]+\\.[^@]+)\"\\);', re.MULTILINE | re.DOTALL)\n",
    "soup = BeautifulSoup(data, \"html.parser\")\n",
    "\n",
    "script = soup.find(\"script\", text=pattern)\n",
    "if script:\n",
    "    match = pattern.search(script.text)\n",
    "    if match:\n",
    "        email = match.group(1)\n",
    "        print(email)"
   ]
  },
  {
   "cell_type": "markdown",
   "metadata": {},
   "source": [
    "### <font face='comic sans ms' color ='magenta'>regex</font>"
   ]
  },
  {
   "cell_type": "code",
   "execution_count": 24,
   "metadata": {},
   "outputs": [],
   "source": [
    "lines='''url: \"https://i.ytimg.com/vi/GAT7PmsAfVE/hqdefault.jpg?sqp=-oaymwEjCNACELwBSFryq4qpAxUIARUAAAAAGAElAADIQj0AgKJDeAE=\\u0026rs=AOn4CLA3s3nv4EaGdVAqzTdPL4qRNg5I_g\",\n",
    "          width: 336,\n",
    "          height: 188,\n",
    "        },\n",
    "      ],\n",
    "    },\n",
    "    title: {\n",
    "      runs: [\n",
    "        {\n",
    "          text: 'Run To Me (From The \"Home\" Soundtrack)',\n",
    "        },\n",
    "      ],\n",
    "      accessibility: {\n",
    "        accessibilityData: {\n",
    "          label:'''"
   ]
  },
  {
   "cell_type": "code",
   "execution_count": 41,
   "metadata": {},
   "outputs": [
    {
     "ename": "IndexError",
     "evalue": "no such group",
     "output_type": "error",
     "traceback": [
      "\u001b[1;31m---------------------------------------------------------------------------\u001b[0m",
      "\u001b[1;31mIndexError\u001b[0m                                Traceback (most recent call last)",
      "\u001b[1;32md:\\Works_Space\\Timeline\\2022\\10_October\\scraping\\playlist.ipynb Cell 20\u001b[0m in \u001b[0;36m<cell line: 4>\u001b[1;34m()\u001b[0m\n\u001b[0;32m      <a href='vscode-notebook-cell:/d%3A/Works_Space/Timeline/2022/10_October/scraping/playlist.ipynb#X26sZmlsZQ%3D%3D?line=2'>3</a>\u001b[0m match \u001b[39m=\u001b[39m pattern\u001b[39m.\u001b[39msearch(str1)\n\u001b[0;32m      <a href='vscode-notebook-cell:/d%3A/Works_Space/Timeline/2022/10_October/scraping/playlist.ipynb#X26sZmlsZQ%3D%3D?line=3'>4</a>\u001b[0m \u001b[39mif\u001b[39;00m match:\n\u001b[1;32m----> <a href='vscode-notebook-cell:/d%3A/Works_Space/Timeline/2022/10_October/scraping/playlist.ipynb#X26sZmlsZQ%3D%3D?line=4'>5</a>\u001b[0m     str2 \u001b[39m=\u001b[39m match\u001b[39m.\u001b[39;49mgroup(\u001b[39m1\u001b[39;49m)\n\u001b[0;32m      <a href='vscode-notebook-cell:/d%3A/Works_Space/Timeline/2022/10_October/scraping/playlist.ipynb#X26sZmlsZQ%3D%3D?line=5'>6</a>\u001b[0m     \u001b[39mprint\u001b[39m(str2)\n",
      "\u001b[1;31mIndexError\u001b[0m: no such group"
     ]
    }
   ],
   "source": [
    "str1='balibabu@gmail.com'\n",
    "pattern = re.compile('[i]', re.MULTILINE | re.DOTALL)\n",
    "match = pattern.search(str1)\n",
    "if match:\n",
    "    str2 = match.group(1)\n",
    "    print(str2)"
   ]
  },
  {
   "cell_type": "code",
   "execution_count": null,
   "metadata": {},
   "outputs": [],
   "source": []
  }
 ],
 "metadata": {
  "kernelspec": {
   "display_name": "Python 3.9.12 ('base')",
   "language": "python",
   "name": "python3"
  },
  "language_info": {
   "codemirror_mode": {
    "name": "ipython",
    "version": 3
   },
   "file_extension": ".py",
   "mimetype": "text/x-python",
   "name": "python",
   "nbconvert_exporter": "python",
   "pygments_lexer": "ipython3",
   "version": "3.9.12"
  },
  "orig_nbformat": 4,
  "vscode": {
   "interpreter": {
    "hash": "649e9a488baa9f755be1bd774174f13c00c6eb61d6f5988e2904ab6e22ac3fc0"
   }
  }
 },
 "nbformat": 4,
 "nbformat_minor": 2
}
