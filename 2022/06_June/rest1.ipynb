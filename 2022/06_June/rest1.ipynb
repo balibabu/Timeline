{
 "cells": [
  {
   "cell_type": "code",
   "execution_count": 17,
   "metadata": {},
   "outputs": [],
   "source": [
    "import requests\n",
    "import json\n",
    "response=requests.get('https://api.stackexchange.com/2.3/questions?order=desc&sort=activity&site=stackoverflow')\n"
   ]
  },
  {
   "cell_type": "code",
   "execution_count": null,
   "metadata": {},
   "outputs": [],
   "source": [
    "print(response)\n",
    "print(response.json())"
   ]
  },
  {
   "cell_type": "code",
   "execution_count": 18,
   "metadata": {},
   "outputs": [
    {
     "name": "stdout",
     "output_type": "stream",
     "text": [
      "skipped\n",
      "skipped\n",
      "onValueChange is not called on dynamically generated picker items\n",
      "https://stackoverflow.com/questions/72593373/onvaluechange-is-not-called-on-dynamically-generated-picker-items\n",
      "Set a Minimum Width for Python Rich Logging (RichHandler)\n",
      "https://stackoverflow.com/questions/72593372/set-a-minimum-width-for-python-rich-logging-richhandler\n",
      "Android writing to a file causes repeated lines and end of the file is not getting modified\n",
      "https://stackoverflow.com/questions/72593371/android-writing-to-a-file-causes-repeated-lines-and-end-of-the-file-is-not-getti\n",
      "skipped\n",
      "Web Session scrapping\n",
      "https://stackoverflow.com/questions/72592991/web-session-scrapping\n",
      "skipped\n",
      "im trying to update record into a table of myql workbench through python but its giving the following error\n",
      "https://stackoverflow.com/questions/72593370/im-trying-to-update-record-into-a-table-of-myql-workbench-through-python-but-its\n",
      "C# problems if add numbers long.Parse(Console.ReadLine())\n",
      "https://stackoverflow.com/questions/72593369/c-problems-if-add-numbers-long-parseconsole-readline\n",
      "Erro page nginx\n",
      "https://stackoverflow.com/questions/72593368/erro-page-nginx\n",
      "skipped\n",
      "skipped\n",
      "skipped\n",
      "When open live server tab keeps refresing\n",
      "https://stackoverflow.com/questions/72543267/when-open-live-server-tab-keeps-refresing\n",
      "skipped\n",
      "SQL row number partitioned by a repeated value\n",
      "https://stackoverflow.com/questions/72593366/sql-row-number-partitioned-by-a-repeated-value\n",
      "skipped\n",
      "skipped\n",
      "skipped\n",
      "skipped\n",
      "skipped\n",
      "skipped\n",
      "skipped\n",
      "skipped\n",
      "try-except does not work python --version 3.10.5\n",
      "https://stackoverflow.com/questions/72593350/try-except-does-not-work-python-version-3-10-5\n",
      "skipped\n",
      "skipped\n",
      "skipped\n",
      "cannot unpack non-iterable ForeignKeyDeferredAttribute object\n",
      "https://stackoverflow.com/questions/72587278/cannot-unpack-non-iterable-foreignkeydeferredattribute-object\n"
     ]
    }
   ],
   "source": [
    "for data in response.json()['items']:\n",
    "    if data['answer_count']==0:  \n",
    "        print(data['title'])\n",
    "        print(data['link'])\n",
    "    else:\n",
    "        print('skipped')"
   ]
  },
  {
   "cell_type": "code",
   "execution_count": null,
   "metadata": {},
   "outputs": [],
   "source": []
  }
 ],
 "metadata": {
  "interpreter": {
   "hash": "649e9a488baa9f755be1bd774174f13c00c6eb61d6f5988e2904ab6e22ac3fc0"
  },
  "kernelspec": {
   "display_name": "Python 3.9.7 ('base')",
   "language": "python",
   "name": "python3"
  },
  "language_info": {
   "codemirror_mode": {
    "name": "ipython",
    "version": 3
   },
   "file_extension": ".py",
   "mimetype": "text/x-python",
   "name": "python",
   "nbconvert_exporter": "python",
   "pygments_lexer": "ipython3",
   "version": "3.9.7"
  },
  "orig_nbformat": 4
 },
 "nbformat": 4,
 "nbformat_minor": 2
}
