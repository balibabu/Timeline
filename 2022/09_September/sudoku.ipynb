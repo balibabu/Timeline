{
 "cells": [
  {
   "cell_type": "markdown",
   "metadata": {},
   "source": [
    "## <font face='comic sans ms' color ='yellow'>SUDOKU</font>"
   ]
  },
  {
   "cell_type": "code",
   "execution_count": 24,
   "metadata": {},
   "outputs": [],
   "source": [
    "a=[ [6,0,0,3,0,0,1,0,0],\n",
    "    [0,7,1,6,2,0,0,0,0],\n",
    "    [8,0,5,0,0,1,0,0,0],\n",
    "    [5,0,0,8,7,0,9,0,1],\n",
    "    [0,0,9,0,0,0,6,0,0],\n",
    "    [4,0,7,0,6,9,0,0,8],\n",
    "    [0,0,0,2,0,0,8,0,7],\n",
    "    [0,0,0,0,8,6,4,1,0],\n",
    "    [0,0,8,0,0,3,0,0,2]]"
   ]
  },
  {
   "cell_type": "code",
   "execution_count": null,
   "metadata": {},
   "outputs": [],
   "source": [
    "def underRules(matrix,num,x,y):\n",
    "    for i in range(9):\n",
    "        if num==matrix[x][i] or num==matrix[i][y]:   # condition for row and column\n",
    "            return False \n",
    "    # in sub boxes\n",
    "    row=(x//3)*3\n",
    "    col=(y//3)*3\n",
    "    for i in range(row,row+3):\n",
    "        for j in range(col,col+3):\n",
    "            if num==matrix[x][y]:\n",
    "                return False\n",
    "    return True"
   ]
  },
  {
   "cell_type": "code",
   "execution_count": null,
   "metadata": {},
   "outputs": [],
   "source": [
    "def solve(mat,r,c):\n",
    "    if c==9:\n",
    "        r+=1\n",
    "        c=0\n",
    "    if r==9:\n",
    "        return True\n",
    "    if mat[r][c]==0:\n",
    "        for i in range(1,10):\n",
    "            if underRules(mat,i,r,c):\n",
    "                mat[r][c]=i\n",
    "                if solve(mat,r,c+1):\n",
    "                    return True\n",
    "                else:\n",
    "                    mat[r][c]=0\n",
    "        return False\n",
    "    else:\n",
    "        return solve(mat,r,c+1)"
   ]
  },
  {
   "cell_type": "code",
   "execution_count": null,
   "metadata": {},
   "outputs": [],
   "source": [
    "solve(a,0,0)"
   ]
  },
  {
   "cell_type": "code",
   "execution_count": null,
   "metadata": {},
   "outputs": [],
   "source": []
  },
  {
   "cell_type": "code",
   "execution_count": null,
   "metadata": {},
   "outputs": [],
   "source": [
    "a"
   ]
  },
  {
   "cell_type": "code",
   "execution_count": null,
   "metadata": {},
   "outputs": [],
   "source": []
  },
  {
   "cell_type": "code",
   "execution_count": null,
   "metadata": {},
   "outputs": [],
   "source": [
    "b=[[3, 0, 6, 5, 0, 8, 4, 0, 0],\n",
    " [5, 2, 0, 0, 0, 0, 0, 0, 0],\n",
    " [0, 8, 7, 0, 0, 0, 0, 3, 1],\n",
    " [0, 0, 3, 0, 1, 0, 0, 8, 0],\n",
    " [9, 0, 0, 8, 6, 3, 0, 0, 5],\n",
    " [0, 5, 0, 0, 9, 0, 6, 0, 0],\n",
    " [1, 3, 0, 0, 0, 0, 2, 5, 0],\n",
    " [0, 0, 0, 0, 0, 0, 0, 7, 4],\n",
    " [0, 0, 5, 2, 0, 6, 3, 0, 0]]"
   ]
  },
  {
   "cell_type": "code",
   "execution_count": null,
   "metadata": {},
   "outputs": [],
   "source": [
    "solve(b,0,0)"
   ]
  },
  {
   "cell_type": "code",
   "execution_count": null,
   "metadata": {},
   "outputs": [],
   "source": [
    "b"
   ]
  },
  {
   "cell_type": "code",
   "execution_count": null,
   "metadata": {},
   "outputs": [],
   "source": [
    "3 1 6 5 7 8 4 9 2\n",
    "5 2 9 1 3 4 7 6 8\n",
    "4 8 7 6 2 9 5 3 1\n",
    "2 6 3 4 1 5 9 8 7\n",
    "9 7 4 8 6 3 1 2 5\n",
    "8 5 1 7 9 2 6 4 3\n",
    "1 3 8 9 4 7 2 5 6\n",
    "6 9 2 3 5 1 8 7 4\n",
    "7 4 5 2 8 6 3 1 9"
   ]
  },
  {
   "cell_type": "code",
   "execution_count": null,
   "metadata": {},
   "outputs": [],
   "source": [
    "c=[ [ 3, 1, 6, 5, 7, 8, 4, 9, 2 ],\n",
    "    [ 5, 2, 9, 1, 3, 4, 7, 6, 8 ],\n",
    "    [ 4, 8, 7, 6, 2, 9, 5, 3, 1 ],\n",
    "    [ 2, 6, 3, 0, 1, 5, 9, 8, 7 ],\n",
    "    [ 9, 7, 4, 8, 6, 0, 1, 2, 5 ],\n",
    "    [ 8, 5, 1, 7, 9, 2, 6, 4, 3 ],\n",
    "    [ 1, 3, 8, 0, 4, 7, 2, 0, 6 ],\n",
    "    [ 6, 9, 2, 3, 5, 1, 8, 7, 4 ],\n",
    "    [ 7, 4, 5, 0, 8, 6, 3, 1, 0 ] ]"
   ]
  },
  {
   "cell_type": "code",
   "execution_count": null,
   "metadata": {},
   "outputs": [],
   "source": [
    "solve(c,0,0)"
   ]
  },
  {
   "cell_type": "code",
   "execution_count": null,
   "metadata": {},
   "outputs": [],
   "source": [
    "c"
   ]
  },
  {
   "cell_type": "code",
   "execution_count": null,
   "metadata": {},
   "outputs": [],
   "source": [
    "3 1 6 5 7 8 4 9 2 \n",
    "5 2 9 1 3 4 7 6 8 \n",
    "4 8 7 6 2 9 5 3 1 \n",
    "2 6 3 4 1 5 9 8 7 \n",
    "9 7 4 8 6 3 1 2 5 \n",
    "8 5 1 7 9 2 6 4 3 \n",
    "1 3 8 9 4 7 2 5 6 \n",
    "6 9 2 3 5 1 8 7 4 \n",
    "7 4 5 2 8 6 3 1 9 "
   ]
  },
  {
   "cell_type": "markdown",
   "metadata": {},
   "source": [
    "## <font face='comic sans ms' color ='yellow'>EXTRACTION</font>"
   ]
  },
  {
   "cell_type": "code",
   "execution_count": 12,
   "metadata": {},
   "outputs": [],
   "source": [
    "import cv2\n",
    "import numpy\n",
    "import pytesseract\n",
    "class ImageProcess:\n",
    "    def setImage(self,path):\n",
    "        self.img=cv2.imread(path,0)\n",
    "        self.xstart,self.ystart=0,0\n",
    "        self.height,self.width=self.img.shape\n",
    "    def setTopLeft(self,x,y):\n",
    "        self.xstart=x\n",
    "        self.ystart=y\n",
    "    def setBottomRight(self,x,y):\n",
    "        self.height=x\n",
    "        self.width=y\n",
    "    \n",
    "    def extract(self):\n",
    "        x_step=(self.height-self.xstart)//9\n",
    "        y_step=(self.width-self.ystart)//9\n",
    "        for i in range(9):\n",
    "            for j in range(9):\n",
    "                num=self._matchNumber(self.img[(self.xstart+x_step*i):(self.xstart+(i+1)*x_step), (self.ystart+y_step*j):(self.ystart+(j+1)*y_step)])\n",
    "                print(num,end=' ')\n",
    "            print()\n",
    "        \n",
    "    def _matchNumber(self,cell_img):\n",
    "        cv2.imshow('img',cell_img)\n",
    "        cv2.waitKey(500)\n",
    "        cv2.destroyAllWindows()\n",
    "        _,img=cv2.threshold(cell_img,0,255,cv2.THRESH_OTSU+cv2.THRESH_BINARY_INV)\n",
    "        text=pytesseract.image_to_string(img,config='--psm 10')\n",
    "        return 0 if text=='' else text\n",
    "\n",
    "        "
   ]
  },
  {
   "cell_type": "code",
   "execution_count": 14,
   "metadata": {},
   "outputs": [
    {
     "name": "stdout",
     "output_type": "stream",
     "text": [
      "6\n",
      " 7\n",
      " 7\n",
      " a\n",
      " 4\n",
      " ;\n",
      " |\n",
      " }\n",
      " 5\n",
      " \n",
      "|\n",
      " 0 0 |\n",
      " (5\n",
      " 6\n",
      " |\n",
      " |\n",
      " |\n",
      " \n",
      "p\n",
      " 3\n",
      " 5\n",
      " ;\n",
      " ry\n",
      " ;\n",
      " |\n",
      " }\n",
      " }\n",
      " \n",
      "p\n",
      " 7\n",
      " 3\n",
      " 2\n",
      " a\n",
      " 1\n",
      " 17\n",
      " 4\n",
      " |\n",
      " \n",
      "p\n",
      " 1\n",
      " va\n",
      " ;\n",
      " 3\n",
      " p\n",
      " 12\n",
      " }\n",
      " }\n",
      " \n",
      "p\n",
      " 7\n",
      " 2\n",
      " 7\n",
      " 6\n",
      " p\n",
      " @\n",
      " }\n",
      " 1\n",
      " \n",
      "p\n",
      " a\n",
      " 1\n",
      " a\n",
      " a\n",
      " ry\n",
      " 15\n",
      " }\n",
      " 13.\n",
      " \n",
      "p\n",
      " ry\n",
      " 7\n",
      " ;\n",
      " 1\n",
      " 7\n",
      " Ey\n",
      " |\n",
      " A\n",
      " \n",
      "p\n",
      " 7\n",
      " 6\n",
      " ;\n",
      " 7\n",
      " ry\n",
      " 1\n",
      " ry\n",
      " Zz\n",
      " \n"
     ]
    }
   ],
   "source": [
    "pytesseract.pytesseract.tesseract_cmd = r'C:\\Program Files\\Tesseract-OCR\\tesseract.exe'\n",
    "obj=ImageProcess()\n",
    "obj.setImage('img.jpg')\n",
    "obj.extract()"
   ]
  },
  {
   "cell_type": "code",
   "execution_count": null,
   "metadata": {},
   "outputs": [],
   "source": [
    "obj=ImageProcess()\n",
    "obj.setImage('Screenshot_20220929-233511.jpg')\n",
    "obj.setTopLeft(600,30)\n",
    "obj.setBottomRight(1620,1050)\n",
    "obj.extract()"
   ]
  },
  {
   "cell_type": "code",
   "execution_count": null,
   "metadata": {},
   "outputs": [],
   "source": [
    "def matchNumber(cell_img):\n",
    "    for i in range(1,10):\n",
    "        template=cv2.imread('digitsImg/s{i}.jpg',0)\n",
    "        gray=cv2.cvtColor(cell_img,cv2.COLOR_BGR2GRAY)\n",
    "        res=cv2.matchTemplate(gray,template,cv2.TM_CCOEFF_NORMED)\n",
    "        threshold=0.9\n",
    "        loc=where(res>=threshold)\n",
    "        w,h=template.shape[::-1]\n",
    "        for pt in zip(*loc[::-1]):\n",
    "            return i\n",
    "    return 0"
   ]
  },
  {
   "cell_type": "code",
   "execution_count": null,
   "metadata": {},
   "outputs": [],
   "source": [
    "def getArray(img,p1,p2):\n",
    "    f1=(p2[0]-p1[0])//9\n",
    "    f2=(p2[1]-p1[1])//9\n",
    "    global data\n",
    "    for i in range(9):\n",
    "        for j in range(9):\n",
    "            image=img[(p1[0]+f1*i):(p1[0]+f1*(i+1)), (p1[1]+f2*j):(p1[1]+f2*(j+1))]\n",
    "            data[i][j]=Number(image)"
   ]
  },
  {
   "cell_type": "code",
   "execution_count": null,
   "metadata": {},
   "outputs": [],
   "source": [
    "img=cv2.imread(f'digitsImg/s{1}.jpg',1)\n",
    "\n",
    "# cv2.circle(img,(50,50),5,255,-1)\n",
    "# cv2.circle(img,(50,50),240,10,-1)\n",
    "\n",
    "# print(img[0:10,0:5].shape)\n",
    "cv2.imshow('img',img)\n",
    "# cv2.imshow('img2',img[20:50,20:30])\n",
    "cv2.waitKey(0)\n",
    "cv2.destroyAllWindows()"
   ]
  },
  {
   "cell_type": "code",
   "execution_count": null,
   "metadata": {},
   "outputs": [],
   "source": [
    "import cv2\n",
    "for i in range(1,10):\n",
    "    template=cv2.imread(f'digitsImg/s{i}.jpg',1)\n",
    "    cv2.imshow('img',template)\n",
    "    cv2.waitKey(0)\n",
    "cv2.destroyAllWindows()"
   ]
  },
  {
   "cell_type": "code",
   "execution_count": null,
   "metadata": {},
   "outputs": [],
   "source": [
    "import numpy"
   ]
  },
  {
   "cell_type": "code",
   "execution_count": null,
   "metadata": {},
   "outputs": [],
   "source": [
    "b=numpy.array(a)"
   ]
  },
  {
   "cell_type": "code",
   "execution_count": null,
   "metadata": {},
   "outputs": [],
   "source": [
    "b[0:5,4:6]"
   ]
  },
  {
   "cell_type": "code",
   "execution_count": null,
   "metadata": {},
   "outputs": [],
   "source": [
    "cv2.imshow('img{i}{j}',self.img[(self.xstart+x_step*i):(self.xstart+(i+1)*x_step), (self.ystart+y_step*j):(self.ystart+(j+1)*y_step)])\n",
    "                # a,b,c,d=(self.xstart+x_step*i),(self.xstart+(i+1)*x_step), (self.ystart+y_step*j),(self.ystart+(j+1)*y_step)\n",
    "                # print(a,b,c,d)\n",
    "                # # img[(p1[0]+f1*i):(p1[0]+f1*(i+1)), (p1[1]+f2*j):(p1[1]+f2*(j+1))]"
   ]
  },
  {
   "cell_type": "code",
   "execution_count": null,
   "metadata": {},
   "outputs": [],
   "source": [
    "img=cv2.imread(f'Screenshot_20220929-233511.jpg',1)\n",
    "print(img.shape)\n",
    "# cv2.imshow('img',img)\n",
    "cv2.imwrite('img2.png',img[600:1620,30:1050])\n",
    "cv2.waitKey(0)\n",
    "cv2.destroyAllWindows()"
   ]
  },
  {
   "cell_type": "markdown",
   "metadata": {},
   "source": [
    "## <font face='comic sans ms' color ='yellow'>Rendering</font>"
   ]
  },
  {
   "cell_type": "code",
   "execution_count": 20,
   "metadata": {},
   "outputs": [],
   "source": [
    "class Image:\n",
    "    def setImage(self,path):\n",
    "        self.img=cv2.imread(path,1)\n",
    "        self.xstart,self.ystart=0,0\n",
    "        self.height,self.width,_=self.img.shape\n",
    "    def setTopLeft(self,x,y):\n",
    "        self.xstart=x\n",
    "        self.ystart=y\n",
    "    def setBottomRight(self,x,y):\n",
    "        self.height=x\n",
    "        self.width=y\n",
    "    "
   ]
  },
  {
   "cell_type": "code",
   "execution_count": 62,
   "metadata": {},
   "outputs": [],
   "source": [
    "def render(imgObj,mat1,mat2):\n",
    "    x_step=(imgObj.height-imgObj.xstart)//9\n",
    "    y_step=(imgObj.width-imgObj.ystart)//9\n",
    "    for i in range(9):\n",
    "        for j in range(9):\n",
    "            if mat1[i][j]==0:\n",
    "                loc=(y_step//3+y_step*j,int(x_step*2/3)+x_step*i)\n",
    "                cv2.putText(imgObj.img,f'{mat2[i][j]}',loc,cv2.FONT_HERSHEY_SCRIPT_COMPLEX,1.5,(255,0,0),2)"
   ]
  },
  {
   "cell_type": "code",
   "execution_count": 66,
   "metadata": {},
   "outputs": [],
   "source": [
    "b=[[6, 7, 8, 1, 4, 2, 9, 3, 5], [3, 2, 9, 8, 5, 6, 4, 1, 7], [1, 3, 5, 4, 9, 7, 6, 2, 8], [5, 6, 3, 2, 8, 1, 7, 4, 9], [7, 1, 4, 9, 3, 5, 2, 8, 6], [9, 8, 2, 7, 6, 4, 3, 5, 1], [8, 4, 1, 6, 2, 9, 5, 7, 3], [2, 9, 7, 5, 1, 3, 8, 6, 4], [4, 5, 6, 3, 7, 8, 1, 9, 2]]\n",
    "a=[[6, 7, 0, 0, 4, 0, 0, 0, 5], [0, 0, 0, 0, 5, 6, 0, 0, 0], [0, 3, 5, 0, 9, 0, 0, 0, 0], [0, 0, 3, 2, 0, 1, 7, 4, 0], [0, 1, 4, 0, 3, 0, 2, 0, 0], [0, 0, 2, 7, 6, 0, 0, 0, 1], [0, 0, 1, 0, 0, 9, 5, 0, 3], [0, 9, 0, 0, 1, 0, 8, 0, 4], [0, 0, 6, 0, 7, 8, 1, 9, 0]]"
   ]
  },
  {
   "cell_type": "code",
   "execution_count": null,
   "metadata": {},
   "outputs": [],
   "source": []
  },
  {
   "cell_type": "code",
   "execution_count": 64,
   "metadata": {},
   "outputs": [],
   "source": [
    "imgObj=Image()\n",
    "imgObj.setImage('img.jpg')\n",
    "render(imgObj,a,b)"
   ]
  },
  {
   "cell_type": "code",
   "execution_count": 65,
   "metadata": {},
   "outputs": [],
   "source": [
    "cv2.imshow('img',imgObj.img)\n",
    "cv2.waitKey(0)\n",
    "cv2.destroyAllWindows()"
   ]
  },
  {
   "cell_type": "code",
   "execution_count": null,
   "metadata": {},
   "outputs": [],
   "source": [
    "cv2.putText(img1,'{}'.format(data[i[0]][i[1]]),(35+f1*(i[1]),70+f2*(i[0])),cv2.FONT_HERSHEY_SCRIPT_COMPLEX,1.5,(255,0,0),thick)\n",
    "# cv2.circle(imgObj.img,loc,10,(255,0,0),-1,lineType=cv2.LINE_AA)\n"
   ]
  },
  {
   "cell_type": "code",
   "execution_count": 16,
   "metadata": {},
   "outputs": [
    {
     "name": "stdout",
     "output_type": "stream",
     "text": [
      "(672, 671, 3)\n"
     ]
    }
   ],
   "source": [
    "import cv2\n",
    "img=cv2.imread('img.jpg',1)\n",
    "print(img.shape)\n",
    "cv2.putText(img,'9',(50,100),cv2.FONT_HERSHEY_SCRIPT_COMPLEX,1.5,(255,0,0),2)\n",
    "cv2.imshow('img',img)\n",
    "cv2.waitKey(0)\n",
    "cv2.destroyAllWindows()"
   ]
  },
  {
   "cell_type": "code",
   "execution_count": null,
   "metadata": {},
   "outputs": [],
   "source": []
  },
  {
   "cell_type": "code",
   "execution_count": null,
   "metadata": {},
   "outputs": [],
   "source": [
    "'''\n",
    "imgObj=Image()\n",
    "imgObj.setImage('img2.png')\n",
    "\n",
    "mat1=Extraction.extract(imgObj)\n",
    "print(mat1)\n",
    "\n",
    "mat2=Sudoku.solve(mat1)\n",
    "print(mat2)\n",
    "\n",
    "Render.render(imgObj, mat1, mat2)\n",
    "imgObj.display()\n",
    "'''"
   ]
  }
 ],
 "metadata": {
  "kernelspec": {
   "display_name": "Python 3.9.12 ('base')",
   "language": "python",
   "name": "python3"
  },
  "language_info": {
   "codemirror_mode": {
    "name": "ipython",
    "version": 3
   },
   "file_extension": ".py",
   "mimetype": "text/x-python",
   "name": "python",
   "nbconvert_exporter": "python",
   "pygments_lexer": "ipython3",
   "version": "3.9.12"
  },
  "orig_nbformat": 4,
  "vscode": {
   "interpreter": {
    "hash": "649e9a488baa9f755be1bd774174f13c00c6eb61d6f5988e2904ab6e22ac3fc0"
   }
  }
 },
 "nbformat": 4,
 "nbformat_minor": 2
}
