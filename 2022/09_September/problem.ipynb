{
 "cells": [
  {
   "cell_type": "code",
   "execution_count": 30,
   "metadata": {},
   "outputs": [],
   "source": [
    "def allZero(arr):\n",
    "    for i in arr:\n",
    "        if i!=0:\n",
    "            return False\n",
    "    return True\n",
    "\n",
    "def perFormAllEven(arr):\n",
    "    for i in arr:\n",
    "        if i%2==1:\n",
    "            return 0\n",
    "    for i in range(len(arr)):\n",
    "        arr[i]//=2\n",
    "    return 1\n",
    "\n",
    "def performOneOdd(arr):\n",
    "    c=0\n",
    "    for i in range(len(arr)):\n",
    "        if arr[i]%2==1:\n",
    "            arr[i]-=1\n",
    "            c+=1\n",
    "    return c\n",
    "\n",
    "def minimumSteps(arr):\n",
    "    if allZero(arr):\n",
    "        return 0\n",
    "    c=0\n",
    "    while not allZero(arr):\n",
    "        c+=perFormAllEven(arr)\n",
    "        c+=performOneOdd(arr)\n",
    "    return c"
   ]
  },
  {
   "cell_type": "code",
   "execution_count": 31,
   "metadata": {},
   "outputs": [
    {
     "data": {
      "text/plain": [
       "7"
      ]
     },
     "execution_count": 31,
     "metadata": {},
     "output_type": "execute_result"
    }
   ],
   "source": [
    "minimumSteps([16,16,16])"
   ]
  },
  {
   "cell_type": "code",
   "execution_count": 33,
   "metadata": {},
   "outputs": [
    {
     "data": {
      "text/plain": [
       "4"
      ]
     },
     "execution_count": 33,
     "metadata": {},
     "output_type": "execute_result"
    }
   ],
   "source": [
    "minimumSteps([2,3])"
   ]
  },
  {
   "cell_type": "code",
   "execution_count": null,
   "metadata": {},
   "outputs": [],
   "source": []
  }
 ],
 "metadata": {
  "kernelspec": {
   "display_name": "Python 3.9.12 ('base')",
   "language": "python",
   "name": "python3"
  },
  "language_info": {
   "codemirror_mode": {
    "name": "ipython",
    "version": 3
   },
   "file_extension": ".py",
   "mimetype": "text/x-python",
   "name": "python",
   "nbconvert_exporter": "python",
   "pygments_lexer": "ipython3",
   "version": "3.9.12"
  },
  "orig_nbformat": 4,
  "vscode": {
   "interpreter": {
    "hash": "649e9a488baa9f755be1bd774174f13c00c6eb61d6f5988e2904ab6e22ac3fc0"
   }
  }
 },
 "nbformat": 4,
 "nbformat_minor": 2
}
