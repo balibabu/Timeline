{
 "cells": [
  {
   "cell_type": "code",
   "execution_count": 1,
   "id": "c65dfd5b",
   "metadata": {},
   "outputs": [],
   "source": [
    "from LibPath import *\n",
    "exec(runBasic())"
   ]
  },
  {
   "cell_type": "code",
   "execution_count": null,
   "id": "40c26c59",
   "metadata": {},
   "outputs": [],
   "source": []
  },
  {
   "cell_type": "markdown",
   "id": "be7709bb",
   "metadata": {},
   "source": [
    "# <font face='comic sans ms' color ='red'>Working Area</font>"
   ]
  },
  {
   "cell_type": "markdown",
   "id": "d50690d1",
   "metadata": {},
   "source": [
    "## <font face='comic sans ms' color ='MediumSeaGreen'>Sunday, 08.05.2022</font>"
   ]
  },
  {
   "cell_type": "code",
   "execution_count": 1,
   "id": "73e7058c",
   "metadata": {},
   "outputs": [],
   "source": [
    "import sys\n",
    "sys.path.insert(0, r\"D:\\Works_Space\\Global\\Git\\Project-Logs-And-Messages\\flow\\Visualize\")\n",
    "import visualizer"
   ]
  },
  {
   "cell_type": "code",
   "execution_count": 2,
   "id": "ad8d2c00",
   "metadata": {},
   "outputs": [],
   "source": [
    "visualizer.Test.example_1()"
   ]
  },
  {
   "cell_type": "code",
   "execution_count": 2,
   "id": "61e69e80",
   "metadata": {},
   "outputs": [
    {
     "data": {
      "text/plain": [
       "<visualizer.Visualizer at 0x267f6a924f0>"
      ]
     },
     "execution_count": 2,
     "metadata": {},
     "output_type": "execute_result"
    }
   ],
   "source": [
    "visualizer.Test.example_2()"
   ]
  },
  {
   "cell_type": "code",
   "execution_count": 2,
   "id": "c724e7f6",
   "metadata": {},
   "outputs": [
    {
     "ename": "TypeError",
     "evalue": "display() takes 1 positional argument but 2 were given",
     "output_type": "error",
     "traceback": [
      "\u001b[1;31m---------------------------------------------------------------------------\u001b[0m",
      "\u001b[1;31mTypeError\u001b[0m                                 Traceback (most recent call last)",
      "\u001b[1;32m~\\AppData\\Local\\Temp/ipykernel_17376/731119986.py\u001b[0m in \u001b[0;36m<module>\u001b[1;34m\u001b[0m\n\u001b[1;32m----> 1\u001b[1;33m \u001b[0mvisualizer\u001b[0m\u001b[1;33m.\u001b[0m\u001b[0mTest\u001b[0m\u001b[1;33m.\u001b[0m\u001b[0mexample_4\u001b[0m\u001b[1;33m(\u001b[0m\u001b[1;33m)\u001b[0m\u001b[1;33m\u001b[0m\u001b[1;33m\u001b[0m\u001b[0m\n\u001b[0m",
      "\u001b[1;32mD:\\Works_Space\\Global\\Git\\Project-Logs-And-Messages\\flow\\Visualize\\visualizer.py\u001b[0m in \u001b[0;36mexample_4\u001b[1;34m()\u001b[0m\n\u001b[0;32m    191\u001b[0m             \u001b[0mcv2\u001b[0m\u001b[1;33m.\u001b[0m\u001b[0mdestroyAllWindows\u001b[0m\u001b[1;33m(\u001b[0m\u001b[1;33m)\u001b[0m\u001b[1;33m\u001b[0m\u001b[1;33m\u001b[0m\u001b[0m\n\u001b[0;32m    192\u001b[0m             \u001b[0mviz\u001b[0m\u001b[1;33m.\u001b[0m\u001b[0mdisplay\u001b[0m\u001b[1;33m(\u001b[0m\u001b[1;33m)\u001b[0m\u001b[1;33m\u001b[0m\u001b[1;33m\u001b[0m\u001b[0m\n\u001b[1;32m--> 193\u001b[1;33m         \u001b[0mviz\u001b[0m\u001b[1;33m.\u001b[0m\u001b[0mdisplay\u001b[0m\u001b[1;33m(\u001b[0m\u001b[1;36m0\u001b[0m\u001b[1;33m)\u001b[0m\u001b[1;33m\u001b[0m\u001b[1;33m\u001b[0m\u001b[0m\n\u001b[0m\u001b[0;32m    194\u001b[0m         \u001b[0mcv2\u001b[0m\u001b[1;33m.\u001b[0m\u001b[0mdestroyAllWindows\u001b[0m\u001b[1;33m(\u001b[0m\u001b[1;33m)\u001b[0m\u001b[1;33m\u001b[0m\u001b[1;33m\u001b[0m\u001b[0m\n\u001b[0;32m    195\u001b[0m         \u001b[1;32mreturn\u001b[0m \u001b[0mviz\u001b[0m\u001b[1;33m\u001b[0m\u001b[1;33m\u001b[0m\u001b[0m\n",
      "\u001b[1;31mTypeError\u001b[0m: display() takes 1 positional argument but 2 were given"
     ]
    },
    {
     "ename": "",
     "evalue": "",
     "output_type": "error",
     "traceback": [
      "\u001b[1;31mThe Kernel crashed while executing code in the the current cell or a previous cell. Please review the code in the cell(s) to identify a possible cause of the failure. Click <a href='https://aka.ms/vscodeJupyterKernelCrash'>here</a> for more info. View Jupyter <a href='command:jupyter.viewOutput'>log</a> for further details."
     ]
    }
   ],
   "source": [
    "visualizer.Test.example_4()"
   ]
  },
  {
   "cell_type": "code",
   "execution_count": 3,
   "id": "6934fa29",
   "metadata": {},
   "outputs": [
    {
     "data": {
      "text/plain": [
       "<visualizer.Visualizer at 0x208c8748220>"
      ]
     },
     "execution_count": 3,
     "metadata": {},
     "output_type": "execute_result"
    }
   ],
   "source": [
    "visualizer.Test.example_2()\n",
    "# cv2.destroyAllWindows()"
   ]
  },
  {
   "cell_type": "markdown",
   "id": "b147f93e",
   "metadata": {},
   "source": [
    "### testing and modifying visualizer"
   ]
  },
  {
   "cell_type": "code",
   "execution_count": 26,
   "id": "7ba180ab",
   "metadata": {},
   "outputs": [
    {
     "data": {
      "text/plain": [
       "<visualizer.Visualizer at 0x2c88cf9cbb0>"
      ]
     },
     "execution_count": 26,
     "metadata": {},
     "output_type": "execute_result"
    }
   ],
   "source": [
    "from visualizer import Test\n",
    "Test.example_2()"
   ]
  },
  {
   "cell_type": "code",
   "execution_count": 5,
   "id": "97bdf588",
   "metadata": {},
   "outputs": [
    {
     "data": {
      "text/plain": [
       "[(0, 0), (1, 0), (2, 0), (3, 0), (4, 0), (4, 1)]"
      ]
     },
     "execution_count": 5,
     "metadata": {},
     "output_type": "execute_result"
    }
   ],
   "source": []
  },
  {
   "cell_type": "code",
   "execution_count": null,
   "id": "b5a9d0f2",
   "metadata": {},
   "outputs": [],
   "source": [
    "[(0,0),(1,0),(2,0),(3,0),(4,0),(4,1)]\n",
    "[(0,2),(0,1),(1,1),(2,1),(3,1)]\n",
    "[(1,2),(2,2),(3,2),(4,2)]\n",
    "[(0,4),(0,3),(1,3),(2,3),(3,3)]"
   ]
  },
  {
   "cell_type": "code",
   "execution_count": 5,
   "id": "5bb09cda",
   "metadata": {},
   "outputs": [],
   "source": [
    "import cv2\n",
    "img=cv2.imread('sss.png',1)\n",
    "cv2.circle(img,eval(input()),2,(0,0,0),-1)\n",
    "cv2.imshow('win name',img)\n",
    "cv2.waitKey(0)\n",
    "cv2.destroyAllWindows()"
   ]
  },
  {
   "cell_type": "code",
   "execution_count": 3,
   "id": "5015839a",
   "metadata": {},
   "outputs": [],
   "source": [
    "import cv2\n",
    "def color(img,p):\n",
    "    cv2.line(img,(0,0),p,(0,0,0),2)"
   ]
  },
  {
   "cell_type": "code",
   "execution_count": 4,
   "id": "e0dbdfde",
   "metadata": {},
   "outputs": [],
   "source": [
    "img=cv2.imread('sss.png',1)\n",
    "while True:\n",
    "    cv2.imshow('running',img)\n",
    "    cv2.waitKey(200)\n",
    "    try:\n",
    "        point=eval(input())\n",
    "    except:\n",
    "        break\n",
    "    # cv2.circle(img,center,2,(0,0,0),-1)\n",
    "    color(img,point)\n",
    "    cv2.destroyAllWindows()\n",
    "cv2.destroyAllWindows()"
   ]
  },
  {
   "cell_type": "code",
   "execution_count": null,
   "id": "4b1320c0",
   "metadata": {},
   "outputs": [],
   "source": []
  },
  {
   "cell_type": "code",
   "execution_count": null,
   "id": "8af56694",
   "metadata": {},
   "outputs": [],
   "source": []
  },
  {
   "cell_type": "code",
   "execution_count": null,
   "id": "9f19c1d6",
   "metadata": {},
   "outputs": [],
   "source": []
  },
  {
   "cell_type": "code",
   "execution_count": 18,
   "id": "bf7999bc",
   "metadata": {},
   "outputs": [
    {
     "name": "stdout",
     "output_type": "stream",
     "text": [
      "bark\n",
      "vow vow\n",
      "loyal\n",
      "loyal and humble\n"
     ]
    }
   ],
   "source": [
    "class Dog:\n",
    "    def __init__(self):\n",
    "        self.voice='bark'\n",
    "        self.feature='loyal'\n",
    "    def speak(self):\n",
    "        print(self.voice)\n",
    "    def features(self):\n",
    "        print(self.feature)\n",
    "\n",
    "class Pet:\n",
    "    def __init__(self):\n",
    "        pass\n",
    "    def set(self,d:Dog):\n",
    "        self._dog=d\n",
    "    def speak(self):\n",
    "        self._dog.speak()\n",
    "\n",
    "class Animal:\n",
    "    def __init__(self):\n",
    "        pass\n",
    "    def set(self,p:Pet):\n",
    "        self._pet=p\n",
    "    def speak(self):\n",
    "        self._pet.speak()\n",
    "\n",
    "animal=Animal()\n",
    "pet=Pet()\n",
    "dog=Dog()\n",
    "animal.set(pet)\n",
    "pet.set(dog)\n",
    "\n",
    "animal.speak()\n",
    "animal._pet._dog.voice='vow vow'\n",
    "animal.speak()\n",
    "animal._pet._dog.features()\n",
    "animal._pet._dog.feature='loyal and humble'\n",
    "animal._pet._dog.features()"
   ]
  },
  {
   "cell_type": "code",
   "execution_count": null,
   "id": "cde08778",
   "metadata": {},
   "outputs": [],
   "source": []
  },
  {
   "cell_type": "code",
   "execution_count": 7,
   "id": "c474fd9d",
   "metadata": {},
   "outputs": [
    {
     "name": "stdout",
     "output_type": "stream",
     "text": [
      "print val\n"
     ]
    }
   ],
   "source": [
    "def cc(val):\n",
    "    dd(val)\n",
    "def aa(val):\n",
    "    bb(val)\n",
    "def bb(val):\n",
    "    cc(val)\n",
    "def dd(val):\n",
    "    print(\"print\" + \" \"+ val)\n",
    "aa(\"val\")"
   ]
  },
  {
   "cell_type": "code",
   "execution_count": 11,
   "id": "2395e8a6",
   "metadata": {},
   "outputs": [
    {
     "name": "stdout",
     "output_type": "stream",
     "text": [
      "print  \n",
      "print 12 \n",
      "print 12 secondArgument\n"
     ]
    }
   ],
   "source": [
    "class D:\n",
    "    def __init__(self):\n",
    "        self.set_val('')\n",
    "        self.val2=''\n",
    "    def display(self):\n",
    "        print('print' + \" \"+ self._val,self.val2)\n",
    "    def set_val(self, val):\n",
    "        self._val = val\n",
    "class C:\n",
    "    def set_d(self, d: D):\n",
    "        self._d = d\n",
    "    def display(self):\n",
    "        self._d.display()\n",
    "class B:\n",
    "    def set_c(self, c: C):\n",
    "        self._c = c\n",
    "    def display(self):\n",
    "        self._c.display()\n",
    "class A:\n",
    "    def set_b(self, b: B):\n",
    "        self._b = b\n",
    "    def display(self):\n",
    "        self._b.display()\n",
    "\n",
    "a = A()\n",
    "b = B()\n",
    "c = C()\n",
    "d = D()\n",
    "\n",
    "a.set_b(b)\n",
    "b.set_c(c)\n",
    "c.set_d(d)\n",
    "\n",
    "a.display()\n",
    "\n",
    "a._b._c._d.set_val(\"12\")\n",
    "a.display()\n",
    "a._b._c._d.val2='secondArgument'\n",
    "a.display()"
   ]
  },
  {
   "cell_type": "markdown",
   "id": "c7dfdea5",
   "metadata": {},
   "source": [
    "# <font face='comic sans ms' color ='Olive'>Sunday, 03.07.2022</font>"
   ]
  },
  {
   "cell_type": "markdown",
   "id": "0d58d698",
   "metadata": {},
   "source": [
    "# <font face='comic sans ms' color ='BurlyWood'>path, file, jupyter</font>"
   ]
  },
  {
   "cell_type": "code",
   "execution_count": 3,
   "id": "5dd5accc",
   "metadata": {},
   "outputs": [
    {
     "name": "stdout",
     "output_type": "stream",
     "text": [
      "# <font face='comic sans ms' color ='Olive'>Sunday, 03.07.2022</font>\n"
     ]
    }
   ],
   "source": [
    "_ = jupyterDB.header(TimeDB.getTimeStamp())"
   ]
  },
  {
   "cell_type": "code",
   "execution_count": null,
   "id": "cab79b1f",
   "metadata": {},
   "outputs": [],
   "source": [
    "Path.openExplorerAt()"
   ]
  },
  {
   "cell_type": "code",
   "execution_count": null,
   "id": "5ccb7bd8",
   "metadata": {},
   "outputs": [],
   "source": [
    "rlib.modb.search(\"videoDB\")"
   ]
  },
  {
   "cell_type": "markdown",
   "id": "585e155b",
   "metadata": {},
   "source": [
    "## <font face='comic sans ms' color ='LimeGreen'>pickle</font>"
   ]
  },
  {
   "cell_type": "code",
   "execution_count": null,
   "id": "c551783c",
   "metadata": {},
   "outputs": [],
   "source": [
    "jupyterDB.pickle().listDir()"
   ]
  },
  {
   "cell_type": "code",
   "execution_count": null,
   "id": "c5a31ce6",
   "metadata": {},
   "outputs": [],
   "source": [
    "name = \"jupyterDB\"\n",
    "k = jupyterDB.pickle().read(name)"
   ]
  },
  {
   "cell_type": "code",
   "execution_count": null,
   "id": "d7962d97",
   "metadata": {},
   "outputs": [],
   "source": [
    "k = jupyterDB.pickle().write(k, name)"
   ]
  },
  {
   "cell_type": "code",
   "execution_count": null,
   "id": "af783276",
   "metadata": {},
   "outputs": [],
   "source": [
    "k"
   ]
  },
  {
   "cell_type": "code",
   "execution_count": 2,
   "id": "10542dc3",
   "metadata": {},
   "outputs": [
    {
     "name": "stdout",
     "output_type": "stream",
     "text": [
      "d:/Works_Space/Timeline/2022/05_May/name.ipynb\n"
     ]
    }
   ],
   "source": [
    "#create a new notebook\n",
    "jupyterDB.createJupyterNotebook(\"name\")"
   ]
  },
  {
   "cell_type": "code",
   "execution_count": null,
   "id": "f728fb04",
   "metadata": {},
   "outputs": [],
   "source": []
  }
 ],
 "metadata": {
  "interpreter": {
   "hash": "649e9a488baa9f755be1bd774174f13c00c6eb61d6f5988e2904ab6e22ac3fc0"
  },
  "kernelspec": {
   "display_name": "Python 3.9.7 ('base')",
   "language": "python",
   "name": "python3"
  },
  "language_info": {
   "codemirror_mode": {
    "name": "ipython",
    "version": 3
   },
   "file_extension": ".py",
   "mimetype": "text/x-python",
   "name": "python",
   "nbconvert_exporter": "python",
   "pygments_lexer": "ipython3",
   "version": "3.9.7"
  }
 },
 "nbformat": 4,
 "nbformat_minor": 5
}
