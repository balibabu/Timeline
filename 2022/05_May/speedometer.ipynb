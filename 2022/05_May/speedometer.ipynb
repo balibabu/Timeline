{
 "cells": [
  {
   "cell_type": "code",
   "execution_count": null,
   "id": "21987fad",
   "metadata": {},
   "outputs": [],
   "source": [
    "from LibPath import *\n",
    "exec(runBasic())"
   ]
  },
  {
   "cell_type": "code",
   "execution_count": null,
   "id": "a221a80b",
   "metadata": {},
   "outputs": [],
   "source": []
  },
  {
   "cell_type": "markdown",
   "id": "e31332fd",
   "metadata": {},
   "source": [
    "# <font face='comic sans ms' color ='red'>Working Area</font>"
   ]
  },
  {
   "cell_type": "code",
   "execution_count": 1,
   "id": "1f0b8431",
   "metadata": {},
   "outputs": [],
   "source": [
    "import pyautogui as pg\n",
    "import time"
   ]
  },
  {
   "cell_type": "code",
   "execution_count": 10,
   "id": "4af3bca3",
   "metadata": {},
   "outputs": [],
   "source": [
    "# some variables\n",
    "posOfTaskmanager_inTaskbar=148,1080\n",
    "posOnLeft_ofTaskmanager=(858,20)\n",
    "posOfEdgeOfColapTaskM=(348,211)"
   ]
  },
  {
   "cell_type": "code",
   "execution_count": 7,
   "id": "b982cbd5",
   "metadata": {},
   "outputs": [],
   "source": [
    "# pg.click(*(1636,56),duration=1)\n",
    "# time.sleep(1)\n",
    "# pg.click()\n",
    "pg.click(posOnLeft_ofTaskmanager, clicks=2, interval=1)"
   ]
  },
  {
   "cell_type": "code",
   "execution_count": 11,
   "id": "83dd469e",
   "metadata": {},
   "outputs": [],
   "source": [
    "def openTaskmanager():\n",
    "    pg.moveTo(*posOfTaskmanager_inTaskbar)\n",
    "    time.sleep(0.25)\n",
    "    pg.click()"
   ]
  },
  {
   "cell_type": "code",
   "execution_count": 18,
   "id": "730ff180",
   "metadata": {},
   "outputs": [
    {
     "name": "stdout",
     "output_type": "stream",
     "text": [
      "(116,311)\n"
     ]
    }
   ],
   "source": [
    "point=pg.position()  #print(pg.position())\n",
    "print(f'({point[0]},{point[1]})')"
   ]
  },
  {
   "cell_type": "code",
   "execution_count": null,
   "id": "6b822d4a",
   "metadata": {},
   "outputs": [],
   "source": []
  },
  {
   "cell_type": "code",
   "execution_count": 11,
   "id": "9379af7f",
   "metadata": {},
   "outputs": [],
   "source": [
    "pg.click(*posOfEdgeOfColapTaskM)\n",
    "pg.mouseDown(*posOfEdgeOfColapTaskM,button='right')\n",
    "pg.moveRel(-90,0,duration=0.5)\n",
    "pg.mouseUp()"
   ]
  },
  {
   "cell_type": "code",
   "execution_count": null,
   "id": "194fbf09",
   "metadata": {},
   "outputs": [],
   "source": []
  },
  {
   "cell_type": "code",
   "execution_count": null,
   "id": "c673f226",
   "metadata": {},
   "outputs": [],
   "source": []
  },
  {
   "cell_type": "code",
   "execution_count": null,
   "id": "4dd6cd26",
   "metadata": {},
   "outputs": [],
   "source": []
  },
  {
   "cell_type": "code",
   "execution_count": null,
   "id": "cfde5181",
   "metadata": {},
   "outputs": [],
   "source": []
  },
  {
   "cell_type": "code",
   "execution_count": 12,
   "id": "da1f8ed1",
   "metadata": {},
   "outputs": [],
   "source": [
    "openTaskmanager()"
   ]
  },
  {
   "cell_type": "markdown",
   "id": "9dd8a452",
   "metadata": {},
   "source": [
    "### Rough"
   ]
  },
  {
   "cell_type": "code",
   "execution_count": 9,
   "id": "7023576a",
   "metadata": {},
   "outputs": [],
   "source": [
    "time.sleep(0.5)\n",
    "pg.press('super')\n",
    "pg.press('1')"
   ]
  },
  {
   "cell_type": "code",
   "execution_count": 11,
   "id": "b5d395dd",
   "metadata": {},
   "outputs": [],
   "source": [
    "time.sleep(0.5)\n",
    "pg.keyDown('super')\n",
    "pg.press('1')\n",
    "time.sleep(0.5)\n",
    "pg.press('super')"
   ]
  },
  {
   "cell_type": "code",
   "execution_count": null,
   "id": "e9348f8b",
   "metadata": {},
   "outputs": [],
   "source": []
  },
  {
   "cell_type": "code",
   "execution_count": null,
   "id": "bc1ad61e",
   "metadata": {},
   "outputs": [],
   "source": []
  },
  {
   "cell_type": "code",
   "execution_count": null,
   "id": "a2c3edab",
   "metadata": {},
   "outputs": [],
   "source": []
  },
  {
   "cell_type": "code",
   "execution_count": null,
   "id": "1fdb15f9",
   "metadata": {},
   "outputs": [],
   "source": []
  },
  {
   "cell_type": "code",
   "execution_count": null,
   "id": "a21d0589",
   "metadata": {},
   "outputs": [],
   "source": []
  },
  {
   "cell_type": "code",
   "execution_count": null,
   "id": "ba1aca90",
   "metadata": {},
   "outputs": [],
   "source": []
  },
  {
   "cell_type": "code",
   "execution_count": null,
   "id": "4d8e2b24",
   "metadata": {},
   "outputs": [],
   "source": []
  },
  {
   "cell_type": "code",
   "execution_count": null,
   "id": "3de6a669",
   "metadata": {},
   "outputs": [],
   "source": []
  },
  {
   "cell_type": "code",
   "execution_count": null,
   "id": "bf1d6e94",
   "metadata": {},
   "outputs": [],
   "source": []
  },
  {
   "cell_type": "code",
   "execution_count": null,
   "id": "bb313aae",
   "metadata": {},
   "outputs": [],
   "source": []
  },
  {
   "cell_type": "code",
   "execution_count": null,
   "id": "29224d8e",
   "metadata": {},
   "outputs": [],
   "source": []
  },
  {
   "cell_type": "markdown",
   "id": "e3ca74f1",
   "metadata": {},
   "source": [
    "# <font face='comic sans ms' color ='BurlyWood'>path, file, jupyter</font>"
   ]
  },
  {
   "cell_type": "code",
   "execution_count": null,
   "id": "ee8cceb5",
   "metadata": {},
   "outputs": [],
   "source": [
    "_ = jupyterDB.header(TimeDB.getTimeStamp())"
   ]
  },
  {
   "cell_type": "code",
   "execution_count": null,
   "id": "696d1eee",
   "metadata": {},
   "outputs": [],
   "source": [
    "Path.openExplorerAt()"
   ]
  },
  {
   "cell_type": "code",
   "execution_count": null,
   "id": "47785f9b",
   "metadata": {},
   "outputs": [],
   "source": [
    "rlib.modb.search(\"videoDB\")"
   ]
  },
  {
   "cell_type": "markdown",
   "id": "bb1d0413",
   "metadata": {},
   "source": [
    "## <font face='comic sans ms' color ='LimeGreen'>pickle</font>"
   ]
  },
  {
   "cell_type": "code",
   "execution_count": null,
   "id": "10f26fe4",
   "metadata": {},
   "outputs": [],
   "source": [
    "jupyterDB.pickle().listDir()"
   ]
  },
  {
   "cell_type": "code",
   "execution_count": null,
   "id": "8f3a46a0",
   "metadata": {},
   "outputs": [],
   "source": [
    "name = \"jupyterDB\"\n",
    "k = jupyterDB.pickle().read(name)"
   ]
  },
  {
   "cell_type": "code",
   "execution_count": null,
   "id": "ae54c486",
   "metadata": {},
   "outputs": [],
   "source": [
    "k = jupyterDB.pickle().write(k, name)"
   ]
  },
  {
   "cell_type": "code",
   "execution_count": null,
   "id": "6238f073",
   "metadata": {},
   "outputs": [],
   "source": [
    "k"
   ]
  },
  {
   "cell_type": "code",
   "execution_count": null,
   "id": "37ba4f43",
   "metadata": {},
   "outputs": [],
   "source": [
    "#create a new notebook\n",
    "jupyterDB.createJupyterNotebook(\"name\")"
   ]
  }
 ],
 "metadata": {
  "interpreter": {
   "hash": "649e9a488baa9f755be1bd774174f13c00c6eb61d6f5988e2904ab6e22ac3fc0"
  },
  "kernelspec": {
   "display_name": "Python 3.9.7 ('base')",
   "language": "python",
   "name": "python3"
  },
  "language_info": {
   "codemirror_mode": {
    "name": "ipython",
    "version": 3
   },
   "file_extension": ".py",
   "mimetype": "text/x-python",
   "name": "python",
   "nbconvert_exporter": "python",
   "pygments_lexer": "ipython3",
   "version": "3.9.7"
  }
 },
 "nbformat": 4,
 "nbformat_minor": 5
}
