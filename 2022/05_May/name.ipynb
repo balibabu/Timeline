{
 "cells": [
  {
   "cell_type": "code",
   "execution_count": null,
   "id": "e9902999",
   "metadata": {},
   "outputs": [],
   "source": [
    "from LibPath import *\r\n",
    "exec(runBasic())"
   ]
  },
  {
   "cell_type": "code",
   "execution_count": null,
   "id": "83de0364",
   "metadata": {},
   "outputs": [],
   "source": []
  },
  {
   "cell_type": "markdown",
   "id": "2bbf8a89",
   "metadata": {},
   "source": [
    "# <font face='comic sans ms' color ='red'>Working Area</font>"
   ]
  },
  {
   "cell_type": "code",
   "execution_count": null,
   "id": "ef76774f",
   "metadata": {},
   "outputs": [],
   "source": []
  },
  {
   "cell_type": "code",
   "execution_count": null,
   "id": "18180a51",
   "metadata": {},
   "outputs": [],
   "source": []
  },
  {
   "cell_type": "code",
   "execution_count": null,
   "id": "304c93c8",
   "metadata": {},
   "outputs": [],
   "source": []
  },
  {
   "cell_type": "code",
   "execution_count": null,
   "id": "c8c41466",
   "metadata": {},
   "outputs": [],
   "source": []
  },
  {
   "cell_type": "code",
   "execution_count": null,
   "id": "e88d1c66",
   "metadata": {},
   "outputs": [],
   "source": []
  },
  {
   "cell_type": "code",
   "execution_count": null,
   "id": "0ee47043",
   "metadata": {},
   "outputs": [],
   "source": []
  },
  {
   "cell_type": "code",
   "execution_count": null,
   "id": "68683be7",
   "metadata": {},
   "outputs": [],
   "source": []
  },
  {
   "cell_type": "code",
   "execution_count": null,
   "id": "9ebeed53",
   "metadata": {},
   "outputs": [],
   "source": []
  },
  {
   "cell_type": "code",
   "execution_count": null,
   "id": "264d3a4a",
   "metadata": {},
   "outputs": [],
   "source": []
  },
  {
   "cell_type": "code",
   "execution_count": null,
   "id": "e4d16f6f",
   "metadata": {},
   "outputs": [],
   "source": []
  },
  {
   "cell_type": "code",
   "execution_count": null,
   "id": "aef39a60",
   "metadata": {},
   "outputs": [],
   "source": []
  },
  {
   "cell_type": "code",
   "execution_count": null,
   "id": "307b864d",
   "metadata": {},
   "outputs": [],
   "source": []
  },
  {
   "cell_type": "code",
   "execution_count": null,
   "id": "980e646f",
   "metadata": {},
   "outputs": [],
   "source": []
  },
  {
   "cell_type": "code",
   "execution_count": null,
   "id": "09b25a5b",
   "metadata": {},
   "outputs": [],
   "source": []
  },
  {
   "cell_type": "markdown",
   "id": "2eb81d33",
   "metadata": {},
   "source": [
    "# <font face='comic sans ms' color ='BurlyWood'>path, file, jupyter</font>"
   ]
  },
  {
   "cell_type": "code",
   "execution_count": null,
   "id": "4994391e",
   "metadata": {},
   "outputs": [],
   "source": [
    "_ = jupyterDB.header(TimeDB.getTimeStamp())"
   ]
  },
  {
   "cell_type": "code",
   "execution_count": null,
   "id": "322ff535",
   "metadata": {},
   "outputs": [],
   "source": [
    "Path.openExplorerAt()"
   ]
  },
  {
   "cell_type": "code",
   "execution_count": null,
   "id": "cf85d6b7",
   "metadata": {},
   "outputs": [],
   "source": [
    "rlib.modb.search(\"videoDB\")"
   ]
  },
  {
   "cell_type": "markdown",
   "id": "eaa18f6e",
   "metadata": {},
   "source": [
    "## <font face='comic sans ms' color ='LimeGreen'>pickle</font>"
   ]
  },
  {
   "cell_type": "code",
   "execution_count": null,
   "id": "4b4cc138",
   "metadata": {},
   "outputs": [],
   "source": [
    "jupyterDB.pickle().listDir()"
   ]
  },
  {
   "cell_type": "code",
   "execution_count": null,
   "id": "7612ba67",
   "metadata": {},
   "outputs": [],
   "source": [
    "name = \"jupyterDB\"\n",
    "k = jupyterDB.pickle().read(name)"
   ]
  },
  {
   "cell_type": "code",
   "execution_count": null,
   "id": "b518bb39",
   "metadata": {},
   "outputs": [],
   "source": [
    "k = jupyterDB.pickle().write(k, name)"
   ]
  },
  {
   "cell_type": "code",
   "execution_count": null,
   "id": "6be540f8",
   "metadata": {},
   "outputs": [],
   "source": [
    "k"
   ]
  },
  {
   "cell_type": "code",
   "execution_count": null,
   "id": "358b4f2e",
   "metadata": {},
   "outputs": [],
   "source": [
    "#create a new notebook\n",
    "jupyterDB.createJupyterNotebook(\"name\")"
   ]
  }
 ],
 "metadata": {},
 "nbformat": 4,
 "nbformat_minor": 5
}
