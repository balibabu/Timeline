{
 "cells": [
  {
   "cell_type": "code",
   "execution_count": null,
   "id": "43f43b90",
   "metadata": {},
   "outputs": [],
   "source": [
    "from LibPath import *\r\n",
    "exec(runBasic())"
   ]
  },
  {
   "cell_type": "code",
   "execution_count": null,
   "id": "7aa835d2",
   "metadata": {},
   "outputs": [],
   "source": []
  },
  {
   "cell_type": "markdown",
   "id": "c498ed54",
   "metadata": {},
   "source": [
    "# <font face='comic sans ms' color ='red'>Working Area</font>"
   ]
  },
  {
   "cell_type": "code",
   "execution_count": null,
   "id": "5aca03a4",
   "metadata": {},
   "outputs": [],
   "source": [
    "UrlDB.db(\"daily\")"
   ]
  },
  {
   "cell_type": "code",
   "execution_count": null,
   "id": "5bf306b7",
   "metadata": {},
   "outputs": [],
   "source": [
    "Path.paths().searchInDB(\"ihk\")"
   ]
  },
  {
   "cell_type": "code",
   "execution_count": null,
   "id": "fa3c5f3f",
   "metadata": {},
   "outputs": [],
   "source": [
    "jupyterDB.plan().copyTemporalPlanDataStructure().waterFall(0)"
   ]
  },
  {
   "cell_type": "code",
   "execution_count": null,
   "id": "44488f61",
   "metadata": {},
   "outputs": [],
   "source": [
    "Database.forestDB(\"sh\")"
   ]
  },
  {
   "cell_type": "code",
   "execution_count": null,
   "id": "37169100",
   "metadata": {},
   "outputs": [],
   "source": [
    "jupyterDB.startUp().office()"
   ]
  },
  {
   "cell_type": "code",
   "execution_count": null,
   "id": "5180d7a6",
   "metadata": {},
   "outputs": [],
   "source": []
  },
  {
   "cell_type": "code",
   "execution_count": null,
   "id": "ceaec4b2",
   "metadata": {},
   "outputs": [],
   "source": []
  },
  {
   "cell_type": "code",
   "execution_count": null,
   "id": "4a6ef6e4",
   "metadata": {},
   "outputs": [],
   "source": []
  },
  {
   "cell_type": "code",
   "execution_count": null,
   "id": "4c2f48e5",
   "metadata": {},
   "outputs": [],
   "source": []
  },
  {
   "cell_type": "code",
   "execution_count": null,
   "id": "17619010",
   "metadata": {},
   "outputs": [],
   "source": []
  },
  {
   "cell_type": "code",
   "execution_count": null,
   "id": "10085618",
   "metadata": {},
   "outputs": [],
   "source": []
  },
  {
   "cell_type": "code",
   "execution_count": null,
   "id": "5d9b62d2",
   "metadata": {},
   "outputs": [],
   "source": []
  },
  {
   "cell_type": "code",
   "execution_count": null,
   "id": "643169fc",
   "metadata": {},
   "outputs": [],
   "source": []
  },
  {
   "cell_type": "code",
   "execution_count": null,
   "id": "c1bc2bf7",
   "metadata": {},
   "outputs": [],
   "source": []
  },
  {
   "cell_type": "code",
   "execution_count": null,
   "id": "8e976ee5",
   "metadata": {},
   "outputs": [],
   "source": []
  },
  {
   "cell_type": "code",
   "execution_count": null,
   "id": "fb1c5600",
   "metadata": {},
   "outputs": [],
   "source": []
  },
  {
   "cell_type": "code",
   "execution_count": null,
   "id": "a8c07a33",
   "metadata": {},
   "outputs": [],
   "source": []
  },
  {
   "cell_type": "code",
   "execution_count": null,
   "id": "af82c75b",
   "metadata": {},
   "outputs": [],
   "source": []
  },
  {
   "cell_type": "code",
   "execution_count": null,
   "id": "7f3c25d4",
   "metadata": {},
   "outputs": [],
   "source": []
  },
  {
   "cell_type": "code",
   "execution_count": null,
   "id": "7a169987",
   "metadata": {},
   "outputs": [],
   "source": []
  },
  {
   "cell_type": "markdown",
   "id": "36c82556",
   "metadata": {},
   "source": [
    "# <font face='comic sans ms' color ='BurlyWood'>path, file, jupyter</font>"
   ]
  },
  {
   "cell_type": "code",
   "execution_count": null,
   "id": "23a31e62",
   "metadata": {},
   "outputs": [],
   "source": [
    "_ = jupyterDB.header(TimeDB.getTimeStamp())"
   ]
  },
  {
   "cell_type": "code",
   "execution_count": null,
   "id": "acae8916",
   "metadata": {},
   "outputs": [],
   "source": [
    "Path.openExplorerAt()"
   ]
  },
  {
   "cell_type": "code",
   "execution_count": null,
   "id": "35921fc1",
   "metadata": {},
   "outputs": [],
   "source": [
    "rlib.modb.search(\"videoDB\")"
   ]
  },
  {
   "cell_type": "markdown",
   "id": "95f7fc86",
   "metadata": {},
   "source": [
    "## <font face='comic sans ms' color ='LimeGreen'>pickle</font>"
   ]
  },
  {
   "cell_type": "code",
   "execution_count": null,
   "id": "1cecf2f4",
   "metadata": {},
   "outputs": [],
   "source": [
    "jupyterDB.pickle().listDir()"
   ]
  },
  {
   "cell_type": "code",
   "execution_count": null,
   "id": "4ffbf027",
   "metadata": {},
   "outputs": [],
   "source": [
    "name = \"jupyterDB\"\n",
    "k = jupyterDB.pickle().read(name)"
   ]
  },
  {
   "cell_type": "code",
   "execution_count": null,
   "id": "2a1336e3",
   "metadata": {},
   "outputs": [],
   "source": [
    "k = jupyterDB.pickle().write(k, name)"
   ]
  },
  {
   "cell_type": "code",
   "execution_count": null,
   "id": "2c7d1268",
   "metadata": {},
   "outputs": [],
   "source": [
    "k"
   ]
  }
 ],
 "metadata": {},
 "nbformat": 4,
 "nbformat_minor": 5
}
