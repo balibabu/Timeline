{
 "cells": [
  {
   "cell_type": "code",
   "execution_count": 1,
   "metadata": {},
   "outputs": [],
   "source": [
    "from LibPath import *\n",
    "exec(runBasic())"
   ]
  },
  {
   "cell_type": "code",
   "execution_count": 2,
   "metadata": {},
   "outputs": [
    {
     "name": "stdout",
     "output_type": "stream",
     "text": [
      "d:/Works_Space/Timeline/2022/05_May/speedometer.ipynb\n"
     ]
    }
   ],
   "source": [
    "jupyterDB.createJupyterNotebook('speedometer')"
   ]
  },
  {
   "cell_type": "code",
   "execution_count": 2,
   "metadata": {},
   "outputs": [],
   "source": [
    "name = \"jupyterDB\"\n",
    "k = jupyterDB.pickle().read(name)"
   ]
  },
  {
   "cell_type": "markdown",
   "metadata": {},
   "source": [
    "k = jupyterDB.pickle().write(k, name)"
   ]
  },
  {
   "cell_type": "markdown",
   "metadata": {},
   "source": []
  },
  {
   "cell_type": "markdown",
   "metadata": {},
   "source": [
    "# k"
   ]
  },
  {
   "cell_type": "code",
   "execution_count": null,
   "metadata": {},
   "outputs": [],
   "source": [
    "k={'createNotebook': [('code', 'from LibPath import *\\r\\nexec(runBasic())'),\n",
    "  ('code', ''),\n",
    "  ('md', \"# <font face='comic sans ms' color ='red'>Working Area</font>\"),\n",
    "\n",
    "  ('code', ''),\n",
    "  ('code', ''),\n",
    "  ('code', ''),\n",
    "  ('code', ''),\n",
    "  ('code', ''),\n",
    "  ('code', ''),\n",
    "  ('code', ''),\n",
    "  ('code', ''),\n",
    "  ('code', ''),\n",
    "  ('code', ''),\n",
    "  ('code', ''),\n",
    "  ('code', ''),\n",
    "  ('code', ''),\n",
    "  ('code', ''),\n",
    "  ('md',\n",
    "   \"# <font face='comic sans ms' color ='BurlyWood'>path, file, jupyter</font>\"),\n",
    "  ('code', '_ = jupyterDB.header(TimeDB.getTimeStamp())'),\n",
    "  ('code', 'Path.openExplorerAt()'),\n",
    "  ('code', 'rlib.modb.search(\"videoDB\")'),\n",
    "  ('md', \"## <font face='comic sans ms' color ='LimeGreen'>pickle</font>\"),\n",
    "  ('code', 'jupyterDB.pickle().listDir()'),\n",
    "  ('code', 'name = \"jupyterDB\"\\nk = jupyterDB.pickle().read(name)'),\n",
    "  ('code', 'k = jupyterDB.pickle().write(k, name)'),\n",
    "  ('code', 'k'),\n",
    "  ('code','#create a new notebook\\njupyterDB.createJupyterNotebook(\"name\")')],\n",
    " 'fonts': ['purisa', 'comic sans ms', 'ubuntu mono']}"
   ]
  }
 ],
 "metadata": {
  "interpreter": {
   "hash": "649e9a488baa9f755be1bd774174f13c00c6eb61d6f5988e2904ab6e22ac3fc0"
  },
  "kernelspec": {
   "display_name": "Python 3.9.7 ('base')",
   "language": "python",
   "name": "python3"
  },
  "language_info": {
   "codemirror_mode": {
    "name": "ipython",
    "version": 3
   },
   "file_extension": ".py",
   "mimetype": "text/x-python",
   "name": "python",
   "nbconvert_exporter": "python",
   "pygments_lexer": "ipython3",
   "version": "3.9.7"
  },
  "orig_nbformat": 4
 },
 "nbformat": 4,
 "nbformat_minor": 2
}
