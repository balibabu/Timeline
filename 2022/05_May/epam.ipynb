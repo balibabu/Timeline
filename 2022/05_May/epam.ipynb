{
 "cells": [
  {
   "cell_type": "code",
   "execution_count": 1,
   "metadata": {},
   "outputs": [],
   "source": [
    "from sys import stdin\n",
    "lines=stdin.read().splitlines()"
   ]
  },
  {
   "cell_type": "code",
   "execution_count": 57,
   "metadata": {},
   "outputs": [],
   "source": [
    "row=int(lines[0])\n",
    "col=int(lines[1])\n",
    "mat=[]\n",
    "for i in range(row):\n",
    "    row=[]\n",
    "    for j in range(col):\n",
    "        row.append(int(lines.pop(2)))\n",
    "    mat.append(row)\n",
    "    "
   ]
  },
  {
   "cell_type": "code",
   "execution_count": 58,
   "metadata": {},
   "outputs": [
    {
     "data": {
      "text/plain": [
       "[[1, 0, 0], [0, 0, 1]]"
      ]
     },
     "execution_count": 58,
     "metadata": {},
     "output_type": "execute_result"
    }
   ],
   "source": [
    "mat"
   ]
  },
  {
   "cell_type": "code",
   "execution_count": 59,
   "metadata": {},
   "outputs": [
    {
     "name": "stdout",
     "output_type": "stream",
     "text": [
      "set()\n",
      "set()\n"
     ]
    },
    {
     "data": {
      "text/plain": [
       "0"
      ]
     },
     "execution_count": 59,
     "metadata": {},
     "output_type": "execute_result"
    }
   ],
   "source": [
    "get(mat)"
   ]
  },
  {
   "cell_type": "code",
   "execution_count": 56,
   "metadata": {},
   "outputs": [],
   "source": [
    "f=open('sample.txt','r')\n",
    "lines=f.read().splitlines()\n",
    "f.close()"
   ]
  },
  {
   "cell_type": "code",
   "execution_count": 19,
   "metadata": {},
   "outputs": [
    {
     "data": {
      "text/plain": [
       "'2 4 4'"
      ]
     },
     "execution_count": 19,
     "metadata": {},
     "output_type": "execute_result"
    }
   ],
   "source": [
    "lines.pop(2)"
   ]
  },
  {
   "cell_type": "code",
   "execution_count": 18,
   "metadata": {},
   "outputs": [],
   "source": [
    "def canBeArranged(aGroup):\n",
    "    aGroup.sort()\n",
    "    for i,j,k in zip(aGroup[0],aGroup[1],aGroup[2]):\n",
    "        if not (i<=j<=k):\n",
    "            return 'no'\n",
    "    return 'yes'"
   ]
  },
  {
   "cell_type": "code",
   "execution_count": 26,
   "metadata": {},
   "outputs": [
    {
     "name": "stdout",
     "output_type": "stream",
     "text": [
      "yes\n",
      "no\n"
     ]
    }
   ],
   "source": [
    "t=int(lines[0])\n",
    "for i in range(t):\n",
    "    aGroup=[]\n",
    "    for j in range(i*3+1,i*3+4):\n",
    "        row=[]\n",
    "        line=lines[j].split()\n",
    "        for k in line:\n",
    "            row.append(int(k))\n",
    "        aGroup.append(row)\n",
    "    print(canBeArranged(aGroup))\n",
    "\n"
   ]
  },
  {
   "cell_type": "code",
   "execution_count": 18,
   "metadata": {},
   "outputs": [],
   "source": [
    "a=[[1,1,3],[1,2,5],[6,7,8]]"
   ]
  },
  {
   "cell_type": "code",
   "execution_count": 8,
   "metadata": {},
   "outputs": [
    {
     "name": "stdout",
     "output_type": "stream",
     "text": [
      "[[1, 2, 5], [5, 2, 3], [6, 7, 8]]\n"
     ]
    }
   ],
   "source": [
    "a.sort()\n",
    "print(a)"
   ]
  },
  {
   "cell_type": "code",
   "execution_count": 19,
   "metadata": {},
   "outputs": [
    {
     "data": {
      "text/plain": [
       "'yes'"
      ]
     },
     "execution_count": 19,
     "metadata": {},
     "output_type": "execute_result"
    }
   ],
   "source": [
    "canBeArranged(a)"
   ]
  },
  {
   "cell_type": "code",
   "execution_count": 54,
   "metadata": {},
   "outputs": [],
   "source": [
    "def get(mat):\n",
    "    set1=set()\n",
    "    for i in range(len(mat)):\n",
    "        c=0\n",
    "        ls=[]\n",
    "        for j in range(len(mat[i])):\n",
    "            if mat[i][j]==1: \n",
    "                c+=1\n",
    "                ls.append((i,j))\n",
    "        if c>1:\n",
    "            for s in ls:\n",
    "                set1.add(s)\n",
    "    # for column wise\n",
    "    print(set1)\n",
    "    for jj in range(len(mat[0])):\n",
    "        c=0\n",
    "        ls=[]\n",
    "        for ii in range(len(mat)):\n",
    "            if mat[ii][jj]==1: \n",
    "                c+=1\n",
    "                ls.append((ii,jj))\n",
    "        if c>1:\n",
    "            for s in ls:\n",
    "                set1.add(s)\n",
    "    print(set1)\n",
    "    return len(set1)"
   ]
  },
  {
   "cell_type": "code",
   "execution_count": 55,
   "metadata": {},
   "outputs": [
    {
     "name": "stdout",
     "output_type": "stream",
     "text": [
      "{(0, 1), (0, 2), (3, 3), (3, 2)}\n",
      "{(0, 1), (1, 2), (0, 2), (3, 3), (3, 2)}\n"
     ]
    },
    {
     "data": {
      "text/plain": [
       "5"
      ]
     },
     "execution_count": 55,
     "metadata": {},
     "output_type": "execute_result"
    }
   ],
   "source": [
    "mat=[[0,1,1,0],[0,0,1,0],[1,0,0,0],[0,0,1,1]]\n",
    "get(mat)"
   ]
  },
  {
   "cell_type": "code",
   "execution_count": 52,
   "metadata": {},
   "outputs": [],
   "source": [
    "# for i in mat:\n",
    "#     for j in i:\n",
    "\n",
    "#         print(j)"
   ]
  },
  {
   "cell_type": "code",
   "execution_count": 43,
   "metadata": {},
   "outputs": [
    {
     "name": "stdout",
     "output_type": "stream",
     "text": [
      "[[1, 0, 0], [0, 0, 1]]\n"
     ]
    }
   ],
   "source": [
    "m=int(lines[0])\n",
    "n=int(lines[1])\n",
    "k=2\n",
    "mat=[]\n",
    "for i in range(m):\n",
    "    mat.append([])\n",
    "    for j in range(n):\n",
    "        mat[i].append(int(lines[k]))\n",
    "        k+=1\n",
    "print(mat)"
   ]
  },
  {
   "cell_type": "code",
   "execution_count": 33,
   "metadata": {},
   "outputs": [],
   "source": [
    "m=[]\n"
   ]
  },
  {
   "cell_type": "code",
   "execution_count": 35,
   "metadata": {},
   "outputs": [],
   "source": [
    "m.append([])"
   ]
  },
  {
   "cell_type": "code",
   "execution_count": 37,
   "metadata": {},
   "outputs": [
    {
     "data": {
      "text/plain": [
       "[]"
      ]
     },
     "execution_count": 37,
     "metadata": {},
     "output_type": "execute_result"
    }
   ],
   "source": [
    "m[0]"
   ]
  },
  {
   "cell_type": "code",
   "execution_count": null,
   "metadata": {},
   "outputs": [],
   "source": []
  }
 ],
 "metadata": {
  "interpreter": {
   "hash": "649e9a488baa9f755be1bd774174f13c00c6eb61d6f5988e2904ab6e22ac3fc0"
  },
  "kernelspec": {
   "display_name": "Python 3.9.7 ('base')",
   "language": "python",
   "name": "python3"
  },
  "language_info": {
   "codemirror_mode": {
    "name": "ipython",
    "version": 3
   },
   "file_extension": ".py",
   "mimetype": "text/x-python",
   "name": "python",
   "nbconvert_exporter": "python",
   "pygments_lexer": "ipython3",
   "version": "3.9.7"
  },
  "orig_nbformat": 4
 },
 "nbformat": 4,
 "nbformat_minor": 2
}
