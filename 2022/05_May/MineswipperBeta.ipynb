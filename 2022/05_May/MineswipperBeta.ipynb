{
 "cells": [
  {
   "cell_type": "code",
   "execution_count": 1,
   "id": "4b27a383",
   "metadata": {},
   "outputs": [],
   "source": [
    "from LibPath import *\n",
    "exec(runBasic())"
   ]
  },
  {
   "cell_type": "raw",
   "id": "0c91435d",
   "metadata": {},
   "source": [
    "extract numbers from screenshot and put them in array\n",
    "    revealed blank space -> -1\n",
    "    non-revealed balnk space -> 0\n",
    "    if bomb detected on image end the game system.exit\n",
    "    \n",
    "1st click randomly on the board\n",
    "\n",
    "create a augumented matrix put the confirmed bombs in it and numbers surrounded\n",
    "update the sur. value whenever comf. bomb is kept in aug mat.\n",
    "reveal all the sur. box if value of aug mat. matches with ss matrix except bombs\n",
    "check rule1 whenever rule2 change something\n"
   ]
  },
  {
   "cell_type": "markdown",
   "id": "8bbb289a",
   "metadata": {},
   "source": [
    "# <font face='comic sans ms' color ='red'>Working Area</font>"
   ]
  },
  {
   "cell_type": "markdown",
   "id": "92159184",
   "metadata": {},
   "source": [
    "## <font face='comic sans ms' color ='DarkRed'>Sunday, 08.05.2022</font>"
   ]
  },
  {
   "cell_type": "code",
   "execution_count": 2,
   "id": "fe6c6334",
   "metadata": {},
   "outputs": [],
   "source": [
    "import pyautogui as pg\n",
    "import cv2\n",
    "import time"
   ]
  },
  {
   "cell_type": "code",
   "execution_count": 3,
   "id": "cd34ea10",
   "metadata": {},
   "outputs": [],
   "source": [
    "class Board:\n",
    "    def __init__(self):\n",
    "        self.RowCol=(10,6)\n",
    "        self.TopLeftCorner=(1266,114)\n",
    "        self.BottomRightCorner=(1832,1060)\n",
    "        self.matrix=[[0 for i in range(6)] for j in range(10)]\n",
    "    def setRowCol(self,rc:tuple):\n",
    "        self.RowCol=rc\n",
    "    def setTopLeftCorner(self,tlc:tuple):\n",
    "        self.TopLeftCorner=tlc\n",
    "    def setBottomRightCorner(self,brc:tuple):\n",
    "        self.BottomRightCorner=brc\n",
    "\n",
    "    def _getSteps(self):\n",
    "        x1,y1=self.TopLeftCorner\n",
    "        x2,y2=self.BottomRightCorner\n",
    "        r,c=self.RowCol\n",
    "        xStep=(x2-x1)//c\n",
    "        yStep=(y2-y1)//r\n",
    "        return xStep,yStep\n",
    "\n",
    "    def takeSS(self):\n",
    "        x1,y1=self.TopLeftCorner\n",
    "        x2,y2=self.BottomRightCorner\n",
    "        width=x2-x1\n",
    "        height=y2-y1\n",
    "        pg.screenshot('ss.png',region=(*self.TopLeftCorner, width, height))\n",
    "\n",
    "    def execute(self):\n",
    "        xStep,yStep=self._getSteps()\n",
    "        start=(self.TopLeftCorner[0]+xStep//2,self.TopLeftCorner[1]+yStep//2)\n",
    "        pg.click(start[0],start[1],duration=.5)\n",
    "\n",
    "    def getArray(self,img):\n",
    "        matrix=[]\n",
    "        x,y=self.TopLeftCorner\n",
    "        xStep,yStep=self._getSteps()\n",
    "        for i in range(self.RowCol[0]):\n",
    "            col=[]\n",
    "            for j in range(self.RowCol[1]):\n",
    "                image=img[xStep*i:xStep*(i+1),yStep*j:yStep*(j+1)]\n",
    "                col.append(self.getNumber(image))\n",
    "            matrix.append(col)\n",
    "        return matrix\n",
    "\n",
    "    def getNumber(self,image):\n",
    "        for i in range(0,7):\n",
    "            errorL2 = cv2.norm( image, cv2.imread(f'{i}.jpg',1), cv2.NORM_L2 )\n",
    "            similarity = 1 - errorL2 / ( image.shape[0] * image.shape[1] )\n",
    "            print(i,similarity)\n",
    "        print()\n",
    "        return 0"
   ]
  },
  {
   "cell_type": "code",
   "execution_count": null,
   "id": "217a0a43",
   "metadata": {},
   "outputs": [],
   "source": []
  },
  {
   "cell_type": "code",
   "execution_count": 4,
   "id": "44195315",
   "metadata": {},
   "outputs": [],
   "source": [
    "b=Board()\n",
    "# b.execute()\n",
    "# b.takeSS()\n"
   ]
  },
  {
   "cell_type": "code",
   "execution_count": 6,
   "id": "2edd13f1",
   "metadata": {},
   "outputs": [],
   "source": [
    "im=cv2.imread('ss1.png',1)\n",
    "# image=im[0:93,0:94]\n",
    "# # image=im[93:186,0:94]\n",
    "# cv2.imshow('sdjn',im)\n",
    "# cv2.imwrite('img\\\\filename.jpg',im)\n",
    "# cv2.waitKey(0)\n",
    "# cv2.destroyAllWindows()"
   ]
  },
  {
   "cell_type": "code",
   "execution_count": 7,
   "id": "7f7e8a66",
   "metadata": {},
   "outputs": [
    {
     "data": {
      "text/plain": [
       "(946, 566, 3)"
      ]
     },
     "execution_count": 7,
     "metadata": {},
     "output_type": "execute_result"
    }
   ],
   "source": [
    "im.shape"
   ]
  },
  {
   "cell_type": "code",
   "execution_count": 8,
   "id": "f6d4daff",
   "metadata": {},
   "outputs": [
    {
     "ename": "error",
     "evalue": "OpenCV(4.5.5) D:\\a\\opencv-python\\opencv-python\\opencv\\modules\\core\\src\\norm.cpp:671: error: (-215:Assertion failed) mask.empty() || mask.type() == CV_8U in function 'cv::norm'\n",
     "output_type": "error",
     "traceback": [
      "\u001b[1;31m---------------------------------------------------------------------------\u001b[0m",
      "\u001b[1;31merror\u001b[0m                                     Traceback (most recent call last)",
      "\u001b[1;32m~\\AppData\\Local\\Temp/ipykernel_18228/1055651222.py\u001b[0m in \u001b[0;36m<module>\u001b[1;34m\u001b[0m\n\u001b[1;32m----> 1\u001b[1;33m \u001b[0mmat\u001b[0m\u001b[1;33m=\u001b[0m\u001b[0mb\u001b[0m\u001b[1;33m.\u001b[0m\u001b[0mgetArray\u001b[0m\u001b[1;33m(\u001b[0m\u001b[0mim\u001b[0m\u001b[1;33m)\u001b[0m\u001b[1;33m\u001b[0m\u001b[1;33m\u001b[0m\u001b[0m\n\u001b[0m\u001b[0;32m      2\u001b[0m \u001b[0mcv2\u001b[0m\u001b[1;33m.\u001b[0m\u001b[0mdestroyAllWindows\u001b[0m\u001b[1;33m(\u001b[0m\u001b[1;33m)\u001b[0m\u001b[1;33m\u001b[0m\u001b[1;33m\u001b[0m\u001b[0m\n",
      "\u001b[1;32m~\\AppData\\Local\\Temp/ipykernel_18228/2464898616.py\u001b[0m in \u001b[0;36mgetArray\u001b[1;34m(self, img)\u001b[0m\n\u001b[0;32m     40\u001b[0m             \u001b[1;32mfor\u001b[0m \u001b[0mj\u001b[0m \u001b[1;32min\u001b[0m \u001b[0mrange\u001b[0m\u001b[1;33m(\u001b[0m\u001b[0mself\u001b[0m\u001b[1;33m.\u001b[0m\u001b[0mRowCol\u001b[0m\u001b[1;33m[\u001b[0m\u001b[1;36m1\u001b[0m\u001b[1;33m]\u001b[0m\u001b[1;33m)\u001b[0m\u001b[1;33m:\u001b[0m\u001b[1;33m\u001b[0m\u001b[1;33m\u001b[0m\u001b[0m\n\u001b[0;32m     41\u001b[0m                 \u001b[0mimage\u001b[0m\u001b[1;33m=\u001b[0m\u001b[0mimg\u001b[0m\u001b[1;33m[\u001b[0m\u001b[0mxStep\u001b[0m\u001b[1;33m*\u001b[0m\u001b[0mi\u001b[0m\u001b[1;33m:\u001b[0m\u001b[0mxStep\u001b[0m\u001b[1;33m*\u001b[0m\u001b[1;33m(\u001b[0m\u001b[0mi\u001b[0m\u001b[1;33m+\u001b[0m\u001b[1;36m1\u001b[0m\u001b[1;33m)\u001b[0m\u001b[1;33m,\u001b[0m\u001b[0myStep\u001b[0m\u001b[1;33m*\u001b[0m\u001b[0mj\u001b[0m\u001b[1;33m:\u001b[0m\u001b[0myStep\u001b[0m\u001b[1;33m*\u001b[0m\u001b[1;33m(\u001b[0m\u001b[0mj\u001b[0m\u001b[1;33m+\u001b[0m\u001b[1;36m1\u001b[0m\u001b[1;33m)\u001b[0m\u001b[1;33m]\u001b[0m\u001b[1;33m\u001b[0m\u001b[1;33m\u001b[0m\u001b[0m\n\u001b[1;32m---> 42\u001b[1;33m                 \u001b[0mcol\u001b[0m\u001b[1;33m.\u001b[0m\u001b[0mappend\u001b[0m\u001b[1;33m(\u001b[0m\u001b[0mself\u001b[0m\u001b[1;33m.\u001b[0m\u001b[0mgetNumber\u001b[0m\u001b[1;33m(\u001b[0m\u001b[0mimage\u001b[0m\u001b[1;33m)\u001b[0m\u001b[1;33m)\u001b[0m\u001b[1;33m\u001b[0m\u001b[1;33m\u001b[0m\u001b[0m\n\u001b[0m\u001b[0;32m     43\u001b[0m             \u001b[0mmatrix\u001b[0m\u001b[1;33m.\u001b[0m\u001b[0mappend\u001b[0m\u001b[1;33m(\u001b[0m\u001b[0mcol\u001b[0m\u001b[1;33m)\u001b[0m\u001b[1;33m\u001b[0m\u001b[1;33m\u001b[0m\u001b[0m\n\u001b[0;32m     44\u001b[0m         \u001b[1;32mreturn\u001b[0m \u001b[0mmatrix\u001b[0m\u001b[1;33m\u001b[0m\u001b[1;33m\u001b[0m\u001b[0m\n",
      "\u001b[1;32m~\\AppData\\Local\\Temp/ipykernel_18228/2464898616.py\u001b[0m in \u001b[0;36mgetNumber\u001b[1;34m(self, image)\u001b[0m\n\u001b[0;32m     46\u001b[0m     \u001b[1;32mdef\u001b[0m \u001b[0mgetNumber\u001b[0m\u001b[1;33m(\u001b[0m\u001b[0mself\u001b[0m\u001b[1;33m,\u001b[0m\u001b[0mimage\u001b[0m\u001b[1;33m)\u001b[0m\u001b[1;33m:\u001b[0m\u001b[1;33m\u001b[0m\u001b[1;33m\u001b[0m\u001b[0m\n\u001b[0;32m     47\u001b[0m         \u001b[1;32mfor\u001b[0m \u001b[0mi\u001b[0m \u001b[1;32min\u001b[0m \u001b[0mrange\u001b[0m\u001b[1;33m(\u001b[0m\u001b[1;36m0\u001b[0m\u001b[1;33m,\u001b[0m\u001b[1;36m7\u001b[0m\u001b[1;33m)\u001b[0m\u001b[1;33m:\u001b[0m\u001b[1;33m\u001b[0m\u001b[1;33m\u001b[0m\u001b[0m\n\u001b[1;32m---> 48\u001b[1;33m             \u001b[0merrorL2\u001b[0m \u001b[1;33m=\u001b[0m \u001b[0mcv2\u001b[0m\u001b[1;33m.\u001b[0m\u001b[0mnorm\u001b[0m\u001b[1;33m(\u001b[0m \u001b[0mimage\u001b[0m\u001b[1;33m,\u001b[0m \u001b[0mcv2\u001b[0m\u001b[1;33m.\u001b[0m\u001b[0mimread\u001b[0m\u001b[1;33m(\u001b[0m\u001b[1;34mf'{i}.jpg'\u001b[0m\u001b[1;33m,\u001b[0m\u001b[1;36m1\u001b[0m\u001b[1;33m)\u001b[0m\u001b[1;33m,\u001b[0m \u001b[0mcv2\u001b[0m\u001b[1;33m.\u001b[0m\u001b[0mNORM_L2\u001b[0m \u001b[1;33m)\u001b[0m\u001b[1;33m\u001b[0m\u001b[1;33m\u001b[0m\u001b[0m\n\u001b[0m\u001b[0;32m     49\u001b[0m             \u001b[0msimilarity\u001b[0m \u001b[1;33m=\u001b[0m \u001b[1;36m1\u001b[0m \u001b[1;33m-\u001b[0m \u001b[0merrorL2\u001b[0m \u001b[1;33m/\u001b[0m \u001b[1;33m(\u001b[0m \u001b[0mimage\u001b[0m\u001b[1;33m.\u001b[0m\u001b[0mshape\u001b[0m\u001b[1;33m[\u001b[0m\u001b[1;36m0\u001b[0m\u001b[1;33m]\u001b[0m \u001b[1;33m*\u001b[0m \u001b[0mimage\u001b[0m\u001b[1;33m.\u001b[0m\u001b[0mshape\u001b[0m\u001b[1;33m[\u001b[0m\u001b[1;36m1\u001b[0m\u001b[1;33m]\u001b[0m \u001b[1;33m)\u001b[0m\u001b[1;33m\u001b[0m\u001b[1;33m\u001b[0m\u001b[0m\n\u001b[0;32m     50\u001b[0m             \u001b[0mprint\u001b[0m\u001b[1;33m(\u001b[0m\u001b[0mi\u001b[0m\u001b[1;33m,\u001b[0m\u001b[0msimilarity\u001b[0m\u001b[1;33m)\u001b[0m\u001b[1;33m\u001b[0m\u001b[1;33m\u001b[0m\u001b[0m\n",
      "\u001b[1;31merror\u001b[0m: OpenCV(4.5.5) D:\\a\\opencv-python\\opencv-python\\opencv\\modules\\core\\src\\norm.cpp:671: error: (-215:Assertion failed) mask.empty() || mask.type() == CV_8U in function 'cv::norm'\n"
     ]
    }
   ],
   "source": [
    "mat=b.getArray(im)\n",
    "cv2.destroyAllWindows()"
   ]
  },
  {
   "cell_type": "code",
   "execution_count": 4,
   "id": "1610cde0",
   "metadata": {},
   "outputs": [],
   "source": [
    "def Number(roi):\n",
    "    for i in range(1,10):\n",
    "        template=cv2.imread('s{}.jpg'.format(i),0)\n",
    "        gray=cv2.cvtColor(roi,cv2.COLOR_BGR2GRAY)\n",
    "        res=cv2.matchTemplate(gray,template,cv2.TM_CCOEFF_NORMED)\n",
    "        threshold=0.9\n",
    "        loc=where(res>=threshold)\n",
    "        w,h=template.shape[::-1]\n",
    "        for pt in zip(*loc[::-1]):\n",
    "            return i\n",
    "    return 0"
   ]
  },
  {
   "cell_type": "raw",
   "id": "0c91435d",
   "metadata": {},
   "source": [
    "extract numbers from screenshot and put them in array\n",
    "    revealed blank space -> -1\n",
    "    non-revealed balnk space -> 0\n",
    "    if bomb detected on image end the game system.exit\n",
    "    \n",
    "1st click randomly on the board\n",
    "\n",
    "create a augumented matrix put the confirmed bombs in it and numbers surrounded\n",
    "update the sur. value whenever comf. bomb is kept in aug mat.\n",
    "reveal all the sur. box if value of aug mat. matches with ss matrix except bombs\n",
    "check rule1 whenever rule2 change something\n"
   ]
  },
  {
   "cell_type": "code",
   "execution_count": 16,
   "id": "a2f0a0d4",
   "metadata": {},
   "outputs": [
    {
     "data": {
      "text/plain": [
       "(93, 94)"
      ]
     },
     "execution_count": 16,
     "metadata": {},
     "output_type": "execute_result"
    }
   ],
   "source": [
    "b._getSteps()"
   ]
  },
  {
   "cell_type": "code",
   "execution_count": null,
   "id": "a7cb2755",
   "metadata": {},
   "outputs": [],
   "source": []
  },
  {
   "cell_type": "markdown",
   "id": "b9c49af9",
   "metadata": {},
   "source": [
    "## <font face='comic sans ms' color ='DarkTurquoise'>Monday, 09.05.2022</font>"
   ]
  },
  {
   "cell_type": "markdown",
   "id": "a2fd2a5b",
   "metadata": {},
   "source": [
    "### Old code"
   ]
  },
  {
   "cell_type": "code",
   "execution_count": null,
   "id": "ad08016e",
   "metadata": {},
   "outputs": [],
   "source": [
    "import cv2\n",
    "from numpy import *\n",
    "        \n",
    "def fillNum(given,thick,expt):\n",
    "    f1=(p2[0]-p1[0])//9\n",
    "    f2=(p2[1]-p1[1])//9\n",
    "    for i in given:\n",
    "        c=0\n",
    "        for j in expt:\n",
    "            if i==j:\n",
    "                c=1\n",
    "        if c==0:\n",
    "            cv2.putText(img1,'{}'.format(data[i[0]][i[1]]),(35+f1*(i[1]),70+f2*(i[0])),cv2.FONT_HERSHEY_SCRIPT_COMPLEX,1.5,(255,0,0),thick)\n",
    "\n",
    "def Number(roi):\n",
    "    for i in range(1,10):\n",
    "        template=cv2.imread('s{}.jpg'.format(i),0)\n",
    "        gray=cv2.cvtColor(roi,cv2.COLOR_BGR2GRAY)\n",
    "        res=cv2.matchTemplate(gray,template,cv2.TM_CCOEFF_NORMED)\n",
    "        threshold=0.9\n",
    "        loc=where(res>=threshold)\n",
    "        w,h=template.shape[::-1]\n",
    "        for pt in zip(*loc[::-1]):\n",
    "            return i\n",
    "    return 0\n",
    "\n",
    "def clearImage():\n",
    "    _,th=cv2.threshold(img,120,255,cv2.THRESH_BINARY)\n",
    "    kernal=ones([3,3],uint8)\n",
    "    erosion=cv2.erode(th,kernal)\n",
    "    return erosion\n",
    "\n",
    "def detect(temp):\n",
    "    corners=cv2.goodFeaturesToTrack(temp,150,0.01,10)\n",
    "    corners =int0(corners)\n",
    "    points=[]\n",
    "    for i in corners:\n",
    "        x,y=i.ravel()\n",
    "        points.append((x,y))\n",
    "    return min(points),max(points)\n",
    "\n",
    "def getPoints(erosion):\n",
    "    temp=zeros([img.shape[0],img.shape[1]],uint8)\n",
    "    temp[:]=255\n",
    "    edge=cv2.Canny(erosion,108,22,apertureSize=3)\n",
    "    lines=cv2.HoughLines(edge,1,pi/180,200)\n",
    "    for line in lines:\n",
    "        rho,theta=line[0]\n",
    "        a=cos(theta)\n",
    "        b=sin(theta)\n",
    "        x0=a*rho\n",
    "        y0=b*rho\n",
    "        x1=int(x0+1000*(-b))\n",
    "        y1=int(y0+1000*a)\n",
    "        x2=int(x0-1000*(-b))\n",
    "        y2=int(y0-1000*a)\n",
    "        cv2.line(temp,(x1,y1),(x2,y2),0,2)\n",
    "    return detect(temp)\n",
    "    \n",
    "def getArray(img,p1,p2):\n",
    "    f1=(p2[0]-p1[0])//9\n",
    "    f2=(p2[1]-p1[1])//9\n",
    "    global data\n",
    "    for i in range(9):\n",
    "        for j in range(9):\n",
    "            image=img[(p1[0]+f1*i):(p1[0]+f1*(i+1)), (p1[1]+f2*j):(p1[1]+f2*(j+1))]\n",
    "            data[i][j]=Number(image)\n",
    "\n",
    "def rules(value,x,y):\n",
    "    for i in range(9):\n",
    "        if value==data[x][i] or value==data[i][y]:\n",
    "            return False\n",
    "    r1=(x//3)*3\n",
    "    r2=(y//3)*3\n",
    "    for i in range(r1,r1+3):\n",
    "        for j in range(r2,r2+3):\n",
    "            if value==data[i][j]:\n",
    "                return False\n",
    "    return True\n",
    "    \n",
    "def filled():\n",
    "    given=[]\n",
    "    for i in range(9):\n",
    "        for j in range(9):\n",
    "            if data[i][j]!=0:\n",
    "                given.append((i,j))\n",
    "    return given\n",
    "\n",
    "def isVacant(a):\n",
    "    given=filled()\n",
    "    for i in given:\n",
    "        if a==i:\n",
    "            return False\n",
    "    return True\n",
    "\n",
    "def UniqueNumber(data):\n",
    "    for i in range(9):\n",
    "        for j in range(9):\n",
    "            if isVacant((i,j)):\n",
    "                possibility=0\n",
    "                possValue=0\n",
    "                for value in range(1,10):\n",
    "                    if rules(value,i,j):\n",
    "                        possibility+=1\n",
    "                        possValue=value\n",
    "                if possibility==1:\n",
    "                    data[i][j]=possValue\n",
    "\n",
    "def EliminatingBoxes(data):\n",
    "    for row in range(0,9,3):\n",
    "        for column in range(0,9,3):\n",
    "            for value in range(1,10):\n",
    "                position=None\n",
    "                positionValue=None\n",
    "                occurence=0\n",
    "                for i in range(row,row+3):\n",
    "                    for j in range(column,column+3):\n",
    "                        if isVacant((i,j)) and rules(value,i,j):\n",
    "                            position=(i,j)\n",
    "                            occurence+=1\n",
    "                            positionValue=value\n",
    "                if occurence==1:\n",
    "                    data[position[0]][position[1]]=positionValue\n",
    "                                        \n",
    "def solve(data):\n",
    "    while True:\n",
    "        temp=len(filled())\n",
    "        UniqueNumber(data)\n",
    "        EliminatingBoxes(data)\n",
    "        if temp-len(filled())==0:\n",
    "            break\n",
    "\n",
    "            \n",
    "img=cv2.imread('ImgSud2.jpg',1)\n",
    "cv2.imshow('img',img)\n",
    "erosion=clearImage()\n",
    "p1,p2=getPoints(erosion)\n",
    "\n",
    "img1=img\n",
    "\n",
    "data=array([[0 for x in range(9)] for y in range(9)])\n",
    "getArray(img,p1,p2)\n",
    "\n",
    "given=filled()\n",
    "\n",
    "solve(data)  \n",
    "\n",
    "fillNum(filled(),1,given)\n",
    "cv2.imshow('Answer',img1)\n",
    "\n",
    "cv2.waitKey(0)\n",
    "cv2.destroyAllWindows()"
   ]
  },
  {
   "cell_type": "markdown",
   "id": "cbcc58f3",
   "metadata": {},
   "source": [
    "### New Code"
   ]
  },
  {
   "cell_type": "code",
   "execution_count": 9,
   "id": "27368e6e",
   "metadata": {},
   "outputs": [],
   "source": [
    "def Number(roi):\n",
    "    for i in range(1,10):\n",
    "        template=cv2.imread('s{}.jpg'.format(i),0)\n",
    "        gray=cv2.cvtColor(roi,cv2.COLOR_BGR2GRAY)\n",
    "        res=cv2.matchTemplate(gray,template,cv2.TM_CCOEFF_NORMED)\n",
    "        threshold=0.9\n",
    "        loc=where(res>=threshold)\n",
    "        w,h=template.shape[::-1]\n",
    "        for pt in zip(*loc[::-1]):\n",
    "            return i\n",
    "    return 0\n",
    "\n",
    "def getArray(img,p1,p2):\n",
    "    f1=(p2[0]-p1[0])//9\n",
    "    f2=(p2[1]-p1[1])//9\n",
    "    global data\n",
    "    for i in range(9):\n",
    "        for j in range(9):\n",
    "            image=img[(p1[0]+f1*i):(p1[0]+f1*(i+1)), (p1[1]+f2*j):(p1[1]+f2*(j+1))]\n",
    "            data[i][j]=Number(image)"
   ]
  },
  {
   "cell_type": "code",
   "execution_count": null,
   "id": "fcbeb09f",
   "metadata": {},
   "outputs": [],
   "source": [
    "getArray(img)"
   ]
  },
  {
   "cell_type": "markdown",
   "id": "04624f06",
   "metadata": {},
   "source": [
    "## <font face='comic sans ms' color ='HotPink'>Tuesday, 10.05.2022</font>"
   ]
  },
  {
   "cell_type": "code",
   "execution_count": 5,
   "id": "fd5bcc57",
   "metadata": {},
   "outputs": [],
   "source": [
    "class MatchPics:\n",
    "    def setImage1(self,img):\n",
    "        self.img1=img\n",
    "    def setImage2(self,img):\n",
    "        self.img2=img\n",
    "    def match(self):\n",
    "        img_gray = cv2.cvtColor(self.img1, cv2.COLOR_BGR2GRAY)\n",
    "        template = cv2.cvtColor(self.img2, cv2.COLOR_BGR2GRAY)\n",
    "        # w, h = template.shape[::-1]\n",
    "        res = cv2.matchTemplate(img_gray,template,cv2.TM_CCOEFF_NORMED)\n",
    "        threshold = 0.8\n",
    "        loc = np.where( res >= threshold)\n",
    "        for pt in zip(*loc[::-1]):\n",
    "            return 1\n",
    "        return 0"
   ]
  },
  {
   "cell_type": "code",
   "execution_count": 26,
   "id": "50191f34",
   "metadata": {},
   "outputs": [],
   "source": [
    "img1=cv2.imread('ss1.png')\n",
    "img2=cv2.imread('2.jpg')"
   ]
  },
  {
   "cell_type": "code",
   "execution_count": 24,
   "id": "7d317907",
   "metadata": {},
   "outputs": [
    {
     "data": {
      "text/plain": [
       "0"
      ]
     },
     "execution_count": 24,
     "metadata": {},
     "output_type": "execute_result"
    }
   ],
   "source": [
    "m=MatchPics()\n",
    "m.setImage1(img1)\n",
    "m.setImage2(img2)\n",
    "m.match()"
   ]
  },
  {
   "cell_type": "code",
   "execution_count": 13,
   "id": "3e20b95f",
   "metadata": {},
   "outputs": [],
   "source": [
    "import cv2 as cv\n",
    "import numpy as np\n",
    "from matplotlib import pyplot as plt\n",
    "img_rgb = cv.imread('ss2.png')\n",
    "img_gray = cv.cvtColor(img_rgb, cv.COLOR_BGR2GRAY)\n",
    "template = cv.imread('0.png',0)\n",
    "w, h = template.shape[::-1]\n",
    "res = cv.matchTemplate(img_gray,template,cv.TM_CCOEFF_NORMED)\n",
    "threshold = 0.8\n",
    "loc = np.where( res >= threshold)\n",
    "for pt in zip(*loc[::-1]):\n",
    "    # print('True')\n",
    "    cv.rectangle(img_rgb, pt, (pt[0] + w, pt[1] + h), (0,0,255), 2)\n",
    "    cv.rectangle(template, pt, (pt[0] + w, pt[1] + h), (0,0,255), 2)\n",
    "\n",
    "cv2.imshow('img_rgb',img_rgb)\n",
    "cv2.imshow('template',template)\n",
    "cv2.waitKey(0)\n",
    "cv2.destroyAllWindows()"
   ]
  },
  {
   "cell_type": "code",
   "execution_count": 12,
   "id": "41e8d036",
   "metadata": {},
   "outputs": [],
   "source": [
    "import cv2\n",
    "import numpy as np\n",
    "import matplotlib.pyplot as plt"
   ]
  },
  {
   "cell_type": "code",
   "execution_count": 27,
   "id": "8e4a6cbf",
   "metadata": {},
   "outputs": [
    {
     "data": {
      "text/plain": [
       "1"
      ]
     },
     "execution_count": 27,
     "metadata": {},
     "output_type": "execute_result"
    }
   ],
   "source": [
    "from Minesweeper import MatchPics\n",
    "m=MatchPics()\n",
    "m.setImage1(img1)\n",
    "m.setImage2(img2)\n",
    "m.match()"
   ]
  },
  {
   "cell_type": "markdown",
   "id": "664c23fe",
   "metadata": {},
   "source": [
    "## <font face='comic sans ms' color ='DarkBlue'>Wednesday, 11.05.2022</font>"
   ]
  },
  {
   "cell_type": "code",
   "execution_count": 2,
   "id": "39d37f86",
   "metadata": {},
   "outputs": [
    {
     "name": "stdout",
     "output_type": "stream",
     "text": [
      "5\n"
     ]
    },
    {
     "ename": "",
     "evalue": "",
     "output_type": "error",
     "traceback": [
      "\u001b[1;31mThe Kernel crashed while executing code in the the current cell or a previous cell. Please review the code in the cell(s) to identify a possible cause of the failure. Click <a href='https://aka.ms/vscodeJupyterKernelCrash'>here</a> for more info. View Jupyter <a href='command:jupyter.viewOutput'>log</a> for further details."
     ]
    }
   ],
   "source": [
    "# exit()\n",
    "quit()\n",
    "print(5)"
   ]
  },
  {
   "cell_type": "code",
   "execution_count": 8,
   "id": "8ad25be0",
   "metadata": {},
   "outputs": [
    {
     "data": {
      "text/plain": [
       "[[0, 0, 0, 2, 9, 9],\n",
       " [0, 0, 0, 2, 9, 9],\n",
       " [0, 0, 0, 3, 1, 9],\n",
       " [0, 0, 0, 0, 1, 9],\n",
       " [0, 2, 2, 2, 1, 9],\n",
       " [1, 1, 9, 9, 9, 9],\n",
       " [9, 9, 1, 1, 1, 9],\n",
       " [9, 9, 1, 0, 2, 1],\n",
       " [9, 9, 1, 3, 0, 0],\n",
       " [9, 9, 9, 2, 0, 0]]"
      ]
     },
     "execution_count": 8,
     "metadata": {},
     "output_type": "execute_result"
    }
   ],
   "source": [
    "import cv2\n",
    "import Minesweeper as ms\n",
    "b=ms.Board()\n",
    "b.extractArray(cv2.imread('ss.png'))\n",
    "# b.takeSS()"
   ]
  },
  {
   "cell_type": "code",
   "execution_count": 3,
   "id": "eff7569f",
   "metadata": {},
   "outputs": [
    {
     "data": {
      "text/plain": [
       "(94, 94)"
      ]
     },
     "execution_count": 3,
     "metadata": {},
     "output_type": "execute_result"
    }
   ],
   "source": [
    "b._getSteps()"
   ]
  },
  {
   "cell_type": "code",
   "execution_count": 4,
   "id": "f0332c4d",
   "metadata": {},
   "outputs": [
    {
     "ename": "error",
     "evalue": "OpenCV(4.5.5) D:\\a\\opencv-python\\opencv-python\\opencv\\modules\\imgproc\\src\\color.cpp:182: error: (-215:Assertion failed) !_src.empty() in function 'cv::cvtColor'\n",
     "output_type": "error",
     "traceback": [
      "\u001b[1;31m---------------------------------------------------------------------------\u001b[0m",
      "\u001b[1;31merror\u001b[0m                                     Traceback (most recent call last)",
      "\u001b[1;32m~\\AppData\\Local\\Temp/ipykernel_17324/1303984311.py\u001b[0m in \u001b[0;36m<module>\u001b[1;34m\u001b[0m\n\u001b[0;32m      1\u001b[0m \u001b[0mimg1\u001b[0m\u001b[1;33m=\u001b[0m\u001b[0mcv2\u001b[0m\u001b[1;33m.\u001b[0m\u001b[0mimread\u001b[0m\u001b[1;33m(\u001b[0m\u001b[1;34m'img/(2,0).png'\u001b[0m\u001b[1;33m)\u001b[0m\u001b[1;33m\u001b[0m\u001b[1;33m\u001b[0m\u001b[0m\n\u001b[0;32m      2\u001b[0m \u001b[0mimg2\u001b[0m\u001b[1;33m=\u001b[0m\u001b[0mcv2\u001b[0m\u001b[1;33m.\u001b[0m\u001b[0mimread\u001b[0m\u001b[1;33m(\u001b[0m\u001b[1;34m'ss.png'\u001b[0m\u001b[1;33m)\u001b[0m\u001b[1;33m\u001b[0m\u001b[1;33m\u001b[0m\u001b[0m\n\u001b[1;32m----> 3\u001b[1;33m \u001b[0mcv2\u001b[0m\u001b[1;33m.\u001b[0m\u001b[0mimshow\u001b[0m\u001b[1;33m(\u001b[0m\u001b[1;34m'img1'\u001b[0m\u001b[1;33m,\u001b[0m\u001b[0mimg1\u001b[0m\u001b[1;33m)\u001b[0m\u001b[1;33m\u001b[0m\u001b[1;33m\u001b[0m\u001b[0m\n\u001b[0m\u001b[0;32m      4\u001b[0m \u001b[0mcv2\u001b[0m\u001b[1;33m.\u001b[0m\u001b[0mimshow\u001b[0m\u001b[1;33m(\u001b[0m\u001b[1;34m'img2'\u001b[0m\u001b[1;33m,\u001b[0m\u001b[0mimg2\u001b[0m\u001b[1;33m)\u001b[0m\u001b[1;33m\u001b[0m\u001b[1;33m\u001b[0m\u001b[0m\n\u001b[0;32m      5\u001b[0m \u001b[0mcv2\u001b[0m\u001b[1;33m.\u001b[0m\u001b[0mwaitKey\u001b[0m\u001b[1;33m(\u001b[0m\u001b[1;36m0\u001b[0m\u001b[1;33m)\u001b[0m\u001b[1;33m\u001b[0m\u001b[1;33m\u001b[0m\u001b[0m\n",
      "\u001b[1;31merror\u001b[0m: OpenCV(4.5.5) D:\\a\\opencv-python\\opencv-python\\opencv\\modules\\imgproc\\src\\color.cpp:182: error: (-215:Assertion failed) !_src.empty() in function 'cv::cvtColor'\n"
     ]
    }
   ],
   "source": [
    "img1=cv2.imread('img/(2,0).png')\n",
    "img2=cv2.imread('ss.png')\n",
    "cv2.imshow('img1',img1)\n",
    "cv2.imshow('img2',img2)\n",
    "cv2.waitKey(0)\n",
    "cv2.destroyAllWindows()"
   ]
  },
  {
   "cell_type": "code",
   "execution_count": 1,
   "id": "784e495e",
   "metadata": {},
   "outputs": [],
   "source": [
    "a=[[9, 2, 6, 6, 6, 2],\n",
    " [1, 3, 6, 5, 6, 2],\n",
    " [1, 6, 2, 2, 1, 1],\n",
    " [1, 1, 1, 9, 9, 9],\n",
    " [9, 9, 9, 9, 9, 9],\n",
    " [1, 1, 2, 2, 3, 2],\n",
    " [3, 6, 3, 6, 6, 6],\n",
    " [6, 6, 4, 3, 5, 0],\n",
    " [0, 6, 0, 0, 6, 6],\n",
    " [6, 0, 0, 0, 0, 0]]"
   ]
  },
  {
   "cell_type": "code",
   "execution_count": 7,
   "id": "d2821f0d",
   "metadata": {},
   "outputs": [
    {
     "data": {
      "text/plain": [
       "1"
      ]
     },
     "execution_count": 7,
     "metadata": {},
     "output_type": "execute_result"
    }
   ],
   "source": [
    "m=ms.MatchPics()\n",
    "m.setImage1(img2)\n",
    "m.setImage2(img1)\n",
    "m.match()"
   ]
  },
  {
   "cell_type": "code",
   "execution_count": 20,
   "id": "809b163f",
   "metadata": {},
   "outputs": [
    {
     "data": {
      "text/plain": [
       "[[0, 0, 0, 0, 0, 0],\n",
       " [0, 0, 0, 0, 0, 0],\n",
       " [0, 0, 0, 0, 0, 0],\n",
       " [0, 0, 0, 0, 5, 0],\n",
       " [0, 0, 0, 0, 0, 0],\n",
       " [0, 0, 0, 0, 0, 0],\n",
       " [0, 0, 0, 0, 0, 0],\n",
       " [0, 0, 0, 0, 0, 0],\n",
       " [0, 0, 0, 0, 0, 0],\n",
       " [0, 0, 0, 0, 0, 0]]"
      ]
     },
     "execution_count": 20,
     "metadata": {},
     "output_type": "execute_result"
    }
   ],
   "source": [
    "a[3][4]=5\n",
    "a"
   ]
  },
  {
   "cell_type": "code",
   "execution_count": 13,
   "id": "9d1f4764",
   "metadata": {},
   "outputs": [
    {
     "data": {
      "text/plain": [
       "[(0, 0), (0, 1), (0, 2), (1, 0), (1, 2), (2, 0), (2, 1), (2, 2)]"
      ]
     },
     "execution_count": 13,
     "metadata": {},
     "output_type": "execute_result"
    }
   ],
   "source": [
    "r,c=1,1\n",
    "[(r-1,c-1),(r-1,c),(r-1,c+1),(r,c-1),(r,c+1),(r+1,c-1),(r+1,c),(r+1,c+1)]"
   ]
  },
  {
   "cell_type": "code",
   "execution_count": 1,
   "id": "8d1a57c6",
   "metadata": {},
   "outputs": [],
   "source": [
    "aug=[[0 for i in range(6)] for j in range(10)]\n",
    "a=[[0, 0, 0, 2, 9, 9],\n",
    " [0, 0, 0, 2, 9, 9],\n",
    " [0, 0, 0, 3, 1, 9],\n",
    " [0, 0, 0, 0, 1, 9],\n",
    " [0, 2, 2, 2, 1, 9],\n",
    " [1, 1, 9, 9, 9, 9],\n",
    " [9, 9, 1, 1, 1, 9],\n",
    " [9, 9, 1, 0, 2, 1],\n",
    " [9, 9, 1, 3, 0, 0],\n",
    " [9, 9, 9, 2, 0, 0]]"
   ]
  },
  {
   "cell_type": "code",
   "execution_count": 2,
   "id": "5fbc2bfb",
   "metadata": {},
   "outputs": [
    {
     "name": "stdout",
     "output_type": "stream",
     "text": [
      "set()\n"
     ]
    }
   ],
   "source": [
    "import cv2\n",
    "import Minesweeper as ms\n",
    "b=ms.Rule()\n",
    "b.set_matrix(a)\n",
    "b.rule_1(aug)"
   ]
  },
  {
   "cell_type": "code",
   "execution_count": 3,
   "id": "b8c5f904",
   "metadata": {},
   "outputs": [
    {
     "data": {
      "text/plain": [
       "[[0, 0, 0, 0, 0, 0],\n",
       " [0, 0, 0, 0, 0, 0],\n",
       " [0, 0, 0, 0, 0, 0],\n",
       " [0, 0, 0, 0, 0, 0],\n",
       " [0, 0, 0, 0, 0, 0],\n",
       " [0, 0, 0, 0, 0, 0],\n",
       " [0, 0, 0, 0, 0, 0],\n",
       " [0, 0, 0, 0, 0, 0],\n",
       " [0, 0, 0, 0, 0, 0],\n",
       " [0, 0, 0, 0, 0, 0]]"
      ]
     },
     "execution_count": 3,
     "metadata": {},
     "output_type": "execute_result"
    }
   ],
   "source": [
    "aug"
   ]
  },
  {
   "cell_type": "code",
   "execution_count": 4,
   "id": "96331365",
   "metadata": {},
   "outputs": [
    {
     "data": {
      "text/plain": [
       "[[0, 0, 0, 2, 9, 9],\n",
       " [0, 0, 0, 2, 9, 9],\n",
       " [0, 0, 0, 3, 1, 9],\n",
       " [0, 0, 0, 0, 1, 9],\n",
       " [0, 2, 2, 2, 1, 9],\n",
       " [1, 1, 9, 9, 9, 9],\n",
       " [9, 9, 1, 1, 1, 9],\n",
       " [9, 9, 1, 0, 2, 1],\n",
       " [9, 9, 1, 3, 0, 0],\n",
       " [9, 9, 9, 2, 0, 0]]"
      ]
     },
     "execution_count": 4,
     "metadata": {},
     "output_type": "execute_result"
    }
   ],
   "source": [
    "a"
   ]
  },
  {
   "cell_type": "code",
   "execution_count": 12,
   "id": "21874e4e",
   "metadata": {},
   "outputs": [
    {
     "name": "stdout",
     "output_type": "stream",
     "text": [
      "hi\n"
     ]
    }
   ],
   "source": [
    "if {()}:\n",
    "    print('hi')"
   ]
  },
  {
   "cell_type": "code",
   "execution_count": 5,
   "id": "a7de6668",
   "metadata": {},
   "outputs": [
    {
     "data": {
      "text/plain": [
       "{1, 2, 3, 4}"
      ]
     },
     "execution_count": 5,
     "metadata": {},
     "output_type": "execute_result"
    }
   ],
   "source": [
    "{1,2}.union({3,4})"
   ]
  },
  {
   "cell_type": "code",
   "execution_count": null,
   "id": "43a91073",
   "metadata": {},
   "outputs": [],
   "source": []
  },
  {
   "cell_type": "markdown",
   "id": "91bd8970",
   "metadata": {},
   "source": [
    "# <font face='comic sans ms' color ='BurlyWood'>path, file, jupyter</font>"
   ]
  },
  {
   "cell_type": "code",
   "execution_count": 6,
   "id": "1dcaf04b",
   "metadata": {},
   "outputs": [
    {
     "name": "stdout",
     "output_type": "stream",
     "text": [
      "# <font face='comic sans ms' color ='DarkBlue'>Wednesday, 11.05.2022</font>\n"
     ]
    }
   ],
   "source": [
    "_ = jupyterDB.header(TimeDB.getTimeStamp())"
   ]
  },
  {
   "cell_type": "code",
   "execution_count": null,
   "id": "e8d4abf2",
   "metadata": {},
   "outputs": [],
   "source": [
    "Path.openExplorerAt()"
   ]
  },
  {
   "cell_type": "code",
   "execution_count": null,
   "id": "ce8c3ad0",
   "metadata": {},
   "outputs": [],
   "source": [
    "rlib.modb.search(\"videoDB\")"
   ]
  },
  {
   "cell_type": "markdown",
   "id": "a579d0ec",
   "metadata": {},
   "source": [
    "## <font face='comic sans ms' color ='LimeGreen'>pickle</font>"
   ]
  },
  {
   "cell_type": "code",
   "execution_count": 30,
   "id": "af2495f8",
   "metadata": {},
   "outputs": [
    {
     "data": {
      "text/plain": [
       "['jupyterDB.pkl', 'logs.pkl', 'paths.pkl', 'runBasic.pkl']"
      ]
     },
     "execution_count": 30,
     "metadata": {},
     "output_type": "execute_result"
    }
   ],
   "source": [
    "jupyterDB.pickle().listDir()"
   ]
  },
  {
   "cell_type": "code",
   "execution_count": 39,
   "id": "4ee725c9",
   "metadata": {},
   "outputs": [],
   "source": [
    "name = \"jupyterDB\"\n",
    "k = jupyterDB.pickle().read(name)"
   ]
  },
  {
   "cell_type": "code",
   "execution_count": 45,
   "id": "0a741b6f",
   "metadata": {},
   "outputs": [],
   "source": [
    "k = jupyterDB.pickle().write(k, name)"
   ]
  },
  {
   "cell_type": "code",
   "execution_count": 43,
   "id": "bb38ba3a",
   "metadata": {},
   "outputs": [],
   "source": [
    "# k"
   ]
  },
  {
   "cell_type": "code",
   "execution_count": 44,
   "id": "85c10e60",
   "metadata": {},
   "outputs": [],
   "source": [
    "k={'createNotebook': [('code', 'from LibPath import *\\r\\nexec(runBasic())'),\n",
    "  ('code', ''),\n",
    "  ('md', \"# <font face='comic sans ms' color ='red'>Working Area</font>\"),\n",
    "\n",
    "  ('code', ''),\n",
    "  ('code', ''),\n",
    "  ('code', ''),\n",
    "  ('code', ''),\n",
    "  ('code', ''),\n",
    "  ('code', ''),\n",
    "  ('code', ''),\n",
    "  ('code', ''),\n",
    "  ('code', ''),\n",
    "  ('code', ''),\n",
    "  ('code', ''),\n",
    "  ('code', ''),\n",
    "  ('code', ''),\n",
    "  ('code', ''),\n",
    "  ('md',\n",
    "   \"# <font face='comic sans ms' color ='BurlyWood'>path, file, jupyter</font>\"),\n",
    "  ('code', '_ = jupyterDB.header(TimeDB.getTimeStamp())'),\n",
    "  ('code', 'Path.openExplorerAt()'),\n",
    "  ('code', 'rlib.modb.search(\"videoDB\")'),\n",
    "  ('md', \"## <font face='comic sans ms' color ='LimeGreen'>pickle</font>\"),\n",
    "  ('code', 'jupyterDB.pickle().listDir()'),\n",
    "  ('code', 'name = \"jupyterDB\"\\nk = jupyterDB.pickle().read(name)'),\n",
    "  ('code', 'k = jupyterDB.pickle().write(k, name)'),\n",
    "  ('code', 'k'),\n",
    "  ('code','#create a new notebook\\njupyterDB.createJupyterNotebook(\"name\")')],\n",
    " 'fonts': ['purisa', 'comic sans ms', 'ubuntu mono']}"
   ]
  },
  {
   "cell_type": "code",
   "execution_count": null,
   "id": "7c313ef8",
   "metadata": {},
   "outputs": [],
   "source": []
  }
 ],
 "metadata": {
  "interpreter": {
   "hash": "649e9a488baa9f755be1bd774174f13c00c6eb61d6f5988e2904ab6e22ac3fc0"
  },
  "kernelspec": {
   "display_name": "Python 3.9.7 ('base')",
   "language": "python",
   "name": "python3"
  },
  "language_info": {
   "codemirror_mode": {
    "name": "ipython",
    "version": 3
   },
   "file_extension": ".py",
   "mimetype": "text/x-python",
   "name": "python",
   "nbconvert_exporter": "python",
   "pygments_lexer": "ipython3",
   "version": "3.9.7"
  }
 },
 "nbformat": 4,
 "nbformat_minor": 5
}
