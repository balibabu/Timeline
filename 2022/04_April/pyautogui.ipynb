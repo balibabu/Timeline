{
 "cells": [
  {
   "cell_type": "markdown",
   "id": "73255898",
   "metadata": {},
   "source": [
    "## Basics"
   ]
  },
  {
   "cell_type": "code",
   "execution_count": null,
   "id": "92af9921",
   "metadata": {
    "ExecuteTime": {
     "end_time": "2022-04-17T15:12:49.699947Z",
     "start_time": "2022-04-17T15:12:49.672945Z"
    }
   },
   "outputs": [],
   "source": [
    "import pyautogui as pg\n",
    "import time"
   ]
  },
  {
   "cell_type": "code",
   "execution_count": null,
   "id": "eb818678",
   "metadata": {
    "ExecuteTime": {
     "end_time": "2022-04-17T10:03:16.330379Z",
     "start_time": "2022-04-17T10:03:16.317373Z"
    }
   },
   "outputs": [],
   "source": [
    "print(pg.size()) #gives size of screen resolution"
   ]
  },
  {
   "cell_type": "code",
   "execution_count": null,
   "id": "09cdc8d1",
   "metadata": {
    "ExecuteTime": {
     "end_time": "2022-04-17T11:43:45.180425Z",
     "start_time": "2022-04-17T11:43:45.164422Z"
    }
   },
   "outputs": [],
   "source": [
    "print(pg.position()) #gives the position of mouse in x and y coordinate"
   ]
  },
  {
   "cell_type": "markdown",
   "id": "52a762b6",
   "metadata": {
    "heading_collapsed": true
   },
   "source": [
    "### mouse function"
   ]
  },
  {
   "cell_type": "code",
   "execution_count": null,
   "id": "ef7ec67a",
   "metadata": {
    "ExecuteTime": {
     "end_time": "2022-04-17T10:03:18.992373Z",
     "start_time": "2022-04-17T10:03:16.347373Z"
    },
    "hidden": true
   },
   "outputs": [],
   "source": [
    "#move the cursor to the given position in given time\n",
    "pg.moveTo(100,200,2) #3rd parameter is time of impact, it can be left blank"
   ]
  },
  {
   "cell_type": "code",
   "execution_count": null,
   "id": "b6af6481",
   "metadata": {
    "ExecuteTime": {
     "end_time": "2022-04-17T10:03:19.115372Z",
     "start_time": "2022-04-17T10:03:18.993373Z"
    },
    "hidden": true
   },
   "outputs": [],
   "source": [
    "pg.moveRel(100,200) #this is relative move"
   ]
  },
  {
   "cell_type": "markdown",
   "id": "2ce5c7d8",
   "metadata": {
    "heading_collapsed": true
   },
   "source": [
    "### click function"
   ]
  },
  {
   "cell_type": "code",
   "execution_count": null,
   "id": "33162a20",
   "metadata": {
    "ExecuteTime": {
     "end_time": "2022-04-17T10:50:46.397612Z",
     "start_time": "2022-04-17T10:50:44.252486Z"
    },
    "hidden": true
   },
   "outputs": [],
   "source": [
    "pg.click(897,234,clicks=2,interval=1)"
   ]
  },
  {
   "cell_type": "code",
   "execution_count": null,
   "id": "88c2bea2",
   "metadata": {
    "ExecuteTime": {
     "end_time": "2022-04-17T11:43:33.479935Z",
     "start_time": "2022-04-17T11:43:32.336481Z"
    },
    "hidden": true
   },
   "outputs": [],
   "source": [
    "pg.click(1396,362,1,1,button=\"left\")"
   ]
  },
  {
   "cell_type": "markdown",
   "id": "835444d0",
   "metadata": {
    "heading_collapsed": true
   },
   "source": [
    "### scroll function"
   ]
  },
  {
   "cell_type": "code",
   "execution_count": null,
   "id": "520084bf",
   "metadata": {
    "ExecuteTime": {
     "end_time": "2022-04-17T10:03:22.517923Z",
     "start_time": "2022-04-17T10:03:22.394825Z"
    },
    "hidden": true
   },
   "outputs": [],
   "source": [
    "#scroll up 500\n",
    "pg.scroll(500)"
   ]
  },
  {
   "cell_type": "code",
   "execution_count": null,
   "id": "b067f3f1",
   "metadata": {
    "ExecuteTime": {
     "end_time": "2022-04-17T10:03:22.641427Z",
     "start_time": "2022-04-17T10:03:22.519924Z"
    },
    "hidden": true
   },
   "outputs": [],
   "source": [
    "#scroll down 500\n",
    "pg.scroll(-500)"
   ]
  },
  {
   "cell_type": "markdown",
   "id": "d61515b3",
   "metadata": {
    "ExecuteTime": {
     "end_time": "2022-04-17T09:17:26.582854Z",
     "start_time": "2022-04-17T09:17:26.575853Z"
    }
   },
   "source": [
    "### mouse up and down"
   ]
  },
  {
   "cell_type": "code",
   "execution_count": null,
   "id": "03f39e6d",
   "metadata": {
    "ExecuteTime": {
     "end_time": "2022-04-17T15:13:23.553061Z",
     "start_time": "2022-04-17T15:13:23.201771Z"
    }
   },
   "outputs": [],
   "source": [
    "pg.mouseDown(1165,417,button='left')\n",
    "pg.moveRel(200,0)\n",
    "pg.mouseUp()"
   ]
  },
  {
   "cell_type": "markdown",
   "id": "b1321ab1",
   "metadata": {
    "heading_collapsed": true
   },
   "source": [
    "### keyboard function"
   ]
  },
  {
   "cell_type": "code",
   "execution_count": null,
   "id": "bde70fbb",
   "metadata": {
    "ExecuteTime": {
     "end_time": "2022-04-17T10:21:11.635556Z",
     "start_time": "2022-04-17T10:21:09.074400Z"
    },
    "hidden": true
   },
   "outputs": [],
   "source": [
    "import time\n",
    "time.sleep(3)\n",
    "pg.write('hello')\n",
    "pg.press('space')\n",
    "pg.write('world')\n",
    "pg.press('enter')\n",
    "pg.write('bye')\n"
   ]
  },
  {
   "cell_type": "code",
   "execution_count": null,
   "id": "33c4884b",
   "metadata": {
    "hidden": true,
    "scrolled": true
   },
   "outputs": [],
   "source": [
    "hello world\n",
    "bye"
   ]
  },
  {
   "cell_type": "markdown",
   "id": "5d850585",
   "metadata": {
    "heading_collapsed": true
   },
   "source": [
    "### Screenshot"
   ]
  },
  {
   "cell_type": "code",
   "execution_count": null,
   "id": "5144f521",
   "metadata": {
    "ExecuteTime": {
     "end_time": "2022-04-17T11:03:26.602511Z",
     "start_time": "2022-04-17T11:03:26.510543Z"
    },
    "hidden": true
   },
   "outputs": [],
   "source": [
    "im = pg.screenshot('temp.png',region=(0,0, 300, 400))\n"
   ]
  },
  {
   "cell_type": "markdown",
   "id": "fdc7c8b2",
   "metadata": {
    "heading_collapsed": true
   },
   "source": [
    "## Experiment"
   ]
  },
  {
   "cell_type": "markdown",
   "id": "5e683d45",
   "metadata": {
    "hidden": true
   },
   "source": [
    "### experiment 1"
   ]
  },
  {
   "cell_type": "code",
   "execution_count": null,
   "id": "7ebbd7a6",
   "metadata": {
    "ExecuteTime": {
     "end_time": "2022-04-17T10:05:56.202544Z",
     "start_time": "2022-04-17T10:05:48.350150Z"
    },
    "hidden": true
   },
   "outputs": [],
   "source": [
    "for i in range(0,100,9):\n",
    "    pg.mouseDown(1165+i,417+i,button='left')\n",
    "    pg.moveRel(200-i*2,0)\n",
    "    pg.moveRel(0,200-i*2)\n",
    "    pg.moveRel(-200+i*2,0)\n",
    "    pg.moveRel(0,-200+i*2)\n",
    "    pg.mouseUp()"
   ]
  },
  {
   "cell_type": "markdown",
   "id": "5c7f660d",
   "metadata": {
    "hidden": true
   },
   "source": [
    "### experiment 2"
   ]
  },
  {
   "cell_type": "code",
   "execution_count": null,
   "id": "cc1c8f72",
   "metadata": {
    "ExecuteTime": {
     "end_time": "2022-04-17T10:06:15.396917Z",
     "start_time": "2022-04-17T10:06:10.818395Z"
    },
    "hidden": true
   },
   "outputs": [],
   "source": [
    "pg.mouseDown(1530,417,button='left')\n",
    "x,c=200,10\n",
    "for i in range(0,10):\n",
    "    pg.moveRel(x,0)\n",
    "    pg.moveRel(0,x)\n",
    "    x-=c\n",
    "    pg.moveRel(-x,0)\n",
    "    pg.moveRel(0,-x)\n",
    "    x-=c\n",
    "    \n",
    "pg.mouseUp()"
   ]
  },
  {
   "cell_type": "markdown",
   "id": "820dabe7",
   "metadata": {
    "ExecuteTime": {
     "end_time": "2022-04-17T10:00:17.897827Z",
     "start_time": "2022-04-17T10:00:13.317478Z"
    }
   },
   "source": [
    "## Working Area"
   ]
  },
  {
   "cell_type": "code",
   "execution_count": null,
   "id": "9a067f1f",
   "metadata": {
    "ExecuteTime": {
     "end_time": "2022-04-17T10:54:05.758361Z",
     "start_time": "2022-04-17T10:54:03.613395Z"
    }
   },
   "outputs": [],
   "source": [
    "time.sleep(1)\n",
    "pg.click(1396,362,clicks=1,interval=1)"
   ]
  },
  {
   "cell_type": "code",
   "execution_count": null,
   "id": "ede7c6de",
   "metadata": {
    "ExecuteTime": {
     "end_time": "2022-04-17T15:21:15.836179Z",
     "start_time": "2022-04-17T15:21:09.265917Z"
    }
   },
   "outputs": [],
   "source": [
    "for i in range(4):\n",
    "    print(i)\n",
    "    pg.mouseDown(1500,700,button='left')\n",
    "    pg.moveRel(-200,0,.2)\n",
    "    pg.mouseUp()\n",
    "    time.sleep(1)"
   ]
  },
  {
   "cell_type": "code",
   "execution_count": null,
   "id": "5c44bc88",
   "metadata": {},
   "outputs": [],
   "source": []
  }
 ],
 "metadata": {
  "kernelspec": {
   "display_name": "Python 3.9.7 ('base')",
   "language": "python",
   "name": "python3"
  },
  "language_info": {
   "codemirror_mode": {
    "name": "ipython",
    "version": 3
   },
   "file_extension": ".py",
   "mimetype": "text/x-python",
   "name": "python",
   "nbconvert_exporter": "python",
   "pygments_lexer": "ipython3",
   "version": "3.9.7"
  },
  "varInspector": {
   "cols": {
    "lenName": 16,
    "lenType": 16,
    "lenVar": 40
   },
   "kernels_config": {
    "python": {
     "delete_cmd_postfix": "",
     "delete_cmd_prefix": "del ",
     "library": "var_list.py",
     "varRefreshCmd": "print(var_dic_list())"
    },
    "r": {
     "delete_cmd_postfix": ") ",
     "delete_cmd_prefix": "rm(",
     "library": "var_list.r",
     "varRefreshCmd": "cat(var_dic_list()) "
    }
   },
   "types_to_exclude": [
    "module",
    "function",
    "builtin_function_or_method",
    "instance",
    "_Feature"
   ],
   "window_display": false
  },
  "vscode": {
   "interpreter": {
    "hash": "649e9a488baa9f755be1bd774174f13c00c6eb61d6f5988e2904ab6e22ac3fc0"
   }
  }
 },
 "nbformat": 4,
 "nbformat_minor": 5
}
