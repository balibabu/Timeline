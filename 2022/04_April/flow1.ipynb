{
 "cells": [
  {
   "cell_type": "code",
   "execution_count": 1,
   "id": "fd3c1a66",
   "metadata": {
    "ExecuteTime": {
     "end_time": "2022-04-19T22:11:59.905897Z",
     "start_time": "2022-04-19T22:11:59.872230Z"
    }
   },
   "outputs": [],
   "source": [
    "import cv2\n",
    "import numpy as np"
   ]
  },
  {
   "cell_type": "code",
   "execution_count": 2,
   "id": "9799bf20",
   "metadata": {
    "ExecuteTime": {
     "end_time": "2022-04-19T22:12:00.199116Z",
     "start_time": "2022-04-19T22:12:00.189116Z"
    }
   },
   "outputs": [],
   "source": [
    "import sys\n",
    "sys.path.insert(0, r\"C:\\Users\\19410\\My Drive\\Raju Dai\\Rlib-main\")"
   ]
  },
  {
   "cell_type": "code",
   "execution_count": 3,
   "id": "76896eaf",
   "metadata": {
    "ExecuteTime": {
     "end_time": "2022-04-19T22:12:01.030662Z",
     "start_time": "2022-04-19T22:12:00.970552Z"
    }
   },
   "outputs": [],
   "source": [
    "from LibPath import *\n",
    "exec(runBasic())"
   ]
  },
  {
   "cell_type": "markdown",
   "id": "35686d0c",
   "metadata": {
    "ExecuteTime": {
     "end_time": "2022-04-16T14:21:27.022477Z",
     "start_time": "2022-04-16T14:21:27.006992Z"
    }
   },
   "source": [
    "# Old Code"
   ]
  },
  {
   "cell_type": "code",
   "execution_count": null,
   "id": "f2d1d26f",
   "metadata": {
    "ExecuteTime": {
     "end_time": "2022-04-16T14:35:58.812952Z",
     "start_time": "2022-04-16T14:35:55.534305Z"
    }
   },
   "outputs": [],
   "source": [
    "import cv2\n",
    "from numpy import *\n",
    "img=cv2.imread('game.jpeg',1)\n",
    "print(img.shape)\n",
    "gray=cv2.cvtColor(img,cv2.COLOR_BGR2GRAY)\n",
    "edge=cv2.Canny(gray,108,22,apertureSize=3)\n",
    "lines=cv2.HoughLines(edge,1,pi/180,200)\n",
    "\n",
    "print(len(lines))\n",
    "points=[]\n",
    "\n",
    "for line in lines:\n",
    "    rho,theta=line[0]\n",
    "    a=cos(theta)\n",
    "    b=sin(theta)\n",
    "    x0=a*rho\n",
    "    y0=b*rho\n",
    "    x1=int(x0+1000*(-b))\n",
    "    y1=int(y0+1000*a)\n",
    "    x2=int(x0-1000*(-b))\n",
    "    y2=int(y0-1000*a)\n",
    "    cv2.line(img,(x1,y1),(x2,y2),(0,255,0),2)\n",
    "    \n",
    "    points.append((x1,y1))\n",
    "    points.append((x2,y2))\n",
    "    print((x1,y1),(x2,y2))\n",
    "    \n",
    "cv2.imshow('original',img)\n",
    "# cv2.imshow('edge',edge)\n",
    "cv2.waitKey(0)\n",
    "cv2.destroyAllWindows()"
   ]
  },
  {
   "cell_type": "code",
   "execution_count": null,
   "id": "ee2abb23",
   "metadata": {
    "ExecuteTime": {
     "end_time": "2022-04-16T14:00:09.167054Z",
     "start_time": "2022-04-16T14:00:09.148479Z"
    }
   },
   "outputs": [],
   "source": [
    "points.sort()\n",
    "points"
   ]
  },
  {
   "cell_type": "code",
   "execution_count": 11,
   "id": "52307aca",
   "metadata": {
    "ExecuteTime": {
     "end_time": "2022-04-20T10:00:30.306626Z",
     "start_time": "2022-04-20T10:00:28.801967Z"
    }
   },
   "outputs": [
    {
     "name": "stdout",
     "output_type": "stream",
     "text": [
      "(570, 573, 3)\n"
     ]
    }
   ],
   "source": [
    "import cv2\n",
    "img=cv2.imread('pic.png',1)\n",
    "print(img.shape)\n",
    "\n",
    "cv2.circle(img,(60+115*2, 60+115*1),2,(0,255,0),2)\n",
    "# cv2.circle(img,(107, 200),2,(0,255,0),2)\n",
    "# cv2.circle(img,(535, 735),2,(0,255,0),2)\n",
    "# cv2.circle(img,(0, 307),2,(0,255,0),2)\n",
    "\n",
    "cv2.imshow('original',img)\n",
    "cv2.waitKey(0)\n",
    "cv2.destroyAllWindows()"
   ]
  },
  {
   "cell_type": "markdown",
   "id": "a5db3102",
   "metadata": {},
   "source": [
    "# new Code"
   ]
  },
  {
   "cell_type": "code",
   "execution_count": 196,
   "id": "544f07d5",
   "metadata": {
    "ExecuteTime": {
     "end_time": "2022-04-17T14:26:02.456056Z",
     "start_time": "2022-04-17T14:26:02.441060Z"
    },
    "code_folding": []
   },
   "outputs": [],
   "source": [
    "# class Image:\n",
    "#     def readImage(self,name):\n",
    "#         img=cv2.imread(name,1)\n",
    "#         return img\n",
    "    \n",
    "#     def show(self,img):\n",
    "#         cv2.imshow('showing window',img)\n",
    "#         cv2.waitKey(0)\n",
    "#         cv2.destroyAllWindows()\n",
    "        \n",
    "#     def getArray(self,img,point1=(0, 200),point2=(107, 200),size=5): \n",
    "#         mid=(point1[0]+point2[0])//2\n",
    "#         midPoint=(point1[0]+mid,point1[1]+mid)\n",
    "#         gap=point2[0]-point1[0]\n",
    "        \n",
    "#         c=1\n",
    "#         totalColor={}\n",
    "#         arr=[]\n",
    "        \n",
    "#         for i in range(size):\n",
    "#             row=[]\n",
    "#             for j in range(size):\n",
    "#                 point=(midPoint[0]+gap*j,midPoint[1]+gap*i)\n",
    "#                 b,g,r = (img[point[1], point[0]])\n",
    "#                 if(sum((b,g,r))<100):\n",
    "#                     totalColor[(b,g,r)]=0\n",
    "#                     row.append(0)\n",
    "#                 elif(not (b,g,r) in totalColor):\n",
    "#                     row.append(c)\n",
    "#                     totalColor[(b,g,r)]=c\n",
    "#                     c+=1\n",
    "#                 else:\n",
    "#                     row.append(totalColor[(b,g,r)])\n",
    "#             arr.append(row)\n",
    "#         return arr\n",
    "    \n",
    "# i=Image()\n",
    "# image=i.readImage('game.jpeg')\n",
    "# i.show(image)\n",
    "# arr=i.getArray(image)\n",
    "# print(arr)"
   ]
  },
  {
   "cell_type": "code",
   "execution_count": 211,
   "id": "ac63596f",
   "metadata": {
    "ExecuteTime": {
     "end_time": "2022-04-17T14:42:31.012212Z",
     "start_time": "2022-04-17T14:42:30.995213Z"
    },
    "code_folding": [
     0
    ]
   },
   "outputs": [
    {
     "name": "stdout",
     "output_type": "stream",
     "text": [
      "107\n",
      "53\n"
     ]
    }
   ],
   "source": [
    "# def getArray(point1=(0, 200),point2=(535, 735),size=5):\n",
    "#     gap=(point2[0]-point1[0])//size\n",
    "#     mid=gap//2\n",
    "#     midPoint=(point1[0]+mid,point1[1]+mid)\n",
    "#     print(gap)\n",
    "#     print(mid)\n",
    "# getArray()"
   ]
  },
  {
   "cell_type": "code",
   "execution_count": 241,
   "id": "1e45dcd2",
   "metadata": {
    "ExecuteTime": {
     "end_time": "2022-04-17T15:26:05.078221Z",
     "start_time": "2022-04-17T15:26:05.060702Z"
    },
    "code_folding": [
     25
    ]
   },
   "outputs": [],
   "source": [
    "class Image:\n",
    "    def readImage(self,name):\n",
    "        img=cv2.imread(name,1)\n",
    "        return img\n",
    "    \n",
    "    def show(self,img):\n",
    "        cv2.imshow('showing window',img)\n",
    "        cv2.waitKey(0)\n",
    "        cv2.destroyAllWindows()\n",
    "        \n",
    "    def getArray(self,img,point1=(0, 200),point2=(535, 735),size=5): \n",
    "        gap=(point2[0]-point1[0])//size\n",
    "        mid=gap//2\n",
    "        midPoint=(point1[0]+mid,point1[1]+mid)\n",
    "        \n",
    "        arr=[]\n",
    "        for i in range(size):\n",
    "            row=[]\n",
    "            for j in range(size):\n",
    "                point=(midPoint[0]+gap*j,midPoint[1]+gap*i)\n",
    "                b,g,r = (img[point[1], point[0]])\n",
    "                row.append((b,g,r))\n",
    "            arr.append(row)\n",
    "        return self._getColorCode(arr)\n",
    "    \n",
    "    def _getColorCode(self,arr):\n",
    "        from itertools import chain\n",
    "        flatten_list = list(chain.from_iterable(arr))\n",
    "\n",
    "        for i in range(len(flatten_list)):\n",
    "            if sum(flatten_list[i])<50 or flatten_list.count(flatten_list[i])!=2:\n",
    "                flatten_list[i]=0\n",
    "        c=1\n",
    "        for i in range(len(flatten_list)):\n",
    "            if type(flatten_list[i])==tuple:\n",
    "                temp=flatten_list[i]\n",
    "                flatten_list[i]=c\n",
    "                pos=flatten_list.index(temp)\n",
    "                flatten_list[pos]=c\n",
    "                c+=1\n",
    "        new_arr=[[0 for i in range(len(arr))] for j in range(len(arr[0]))]\n",
    "        for i in range(len(arr)):\n",
    "            for j in range(len(arr[i])):\n",
    "                new_arr[i][j]=flatten_list[i*len(arr[0])+j]\n",
    "        return new_arr\n",
    "    \n",
    "# i=Image()\n",
    "# image=i.readImage('temp.png')\n",
    "\n",
    "# arr=i.getArray(image,(0,0),(570,570),6)\n",
    "# print(arr)\n",
    "# i.show(image)"
   ]
  },
  {
   "cell_type": "code",
   "execution_count": 186,
   "id": "6334d634",
   "metadata": {
    "ExecuteTime": {
     "end_time": "2022-04-17T14:12:38.177578Z",
     "start_time": "2022-04-17T14:12:38.167567Z"
    },
    "code_folding": [
     0
    ]
   },
   "outputs": [],
   "source": [
    "# def getColorCode(arr):\n",
    "#     from itertools import chain\n",
    "#     flatten_list = list(chain.from_iterable(arr))\n",
    "    \n",
    "#     for i in range(len(flatten_list)):\n",
    "#         if sum(flatten_list[i])<50 or flatten_list.count(flatten_list[i])!=2:\n",
    "#             flatten_list[i]=0\n",
    "#     c=1\n",
    "#     for i in range(len(flatten_list)):\n",
    "#         if type(flatten_list[i])==tuple:\n",
    "#             temp=flatten_list[i]\n",
    "#             flatten_list[i]=c\n",
    "#             pos=flatten_list.index(temp)\n",
    "#             flatten_list[pos]=c\n",
    "#             c+=1\n",
    "#     new_arr=[[0 for i in range(len(arr))] for j in range(len(arr[0]))]\n",
    "#     for i in range(len(arr)):\n",
    "#         for j in range(len(arr[i])):\n",
    "#             new_arr[i][j]=flatten_list[i*len(arr[0])+j]\n",
    "#     return new_arr"
   ]
  },
  {
   "cell_type": "code",
   "execution_count": 172,
   "id": "e36d8835",
   "metadata": {
    "ExecuteTime": {
     "end_time": "2022-04-17T13:55:26.492496Z",
     "start_time": "2022-04-17T13:55:26.475496Z"
    }
   },
   "outputs": [
    {
     "data": {
      "text/plain": [
       "[1, 2, 3, 0, 1]"
      ]
     },
     "execution_count": 172,
     "metadata": {},
     "output_type": "execute_result"
    }
   ],
   "source": [
    "aa=[1,2,3,4,1]\n",
    "temp=aa.index(4)\n",
    "aa[temp]=0\n",
    "aa"
   ]
  },
  {
   "cell_type": "code",
   "execution_count": 187,
   "id": "c3368fd0",
   "metadata": {
    "ExecuteTime": {
     "end_time": "2022-04-17T14:12:41.283758Z",
     "start_time": "2022-04-17T14:12:41.271760Z"
    }
   },
   "outputs": [
    {
     "data": {
      "text/plain": [
       "[[1, 0, 2, 0, 3],\n",
       " [0, 0, 4, 0, 5],\n",
       " [0, 0, 0, 0, 0],\n",
       " [0, 2, 0, 3, 0],\n",
       " [0, 1, 4, 5, 0]]"
      ]
     },
     "execution_count": 187,
     "metadata": {},
     "output_type": "execute_result"
    }
   ],
   "source": [
    "getColorCode(arr)"
   ]
  },
  {
   "cell_type": "code",
   "execution_count": null,
   "id": "2ca02dea",
   "metadata": {},
   "outputs": [],
   "source": [
    "[[1, 0, 2, 0, 3], [0, 0, 4, 0, 5], [0, 0, 0, 0, 0], [0, 2, 0, 3, 0], [0, 1, 4, 5, 0]]\n",
    "bb=(13,1,23)\n",
    "cc=(1,23,12)"
   ]
  },
  {
   "cell_type": "code",
   "execution_count": 156,
   "id": "a67ad143",
   "metadata": {
    "ExecuteTime": {
     "end_time": "2022-04-17T13:42:21.469956Z",
     "start_time": "2022-04-17T13:42:21.464955Z"
    }
   },
   "outputs": [
    {
     "data": {
      "text/plain": [
       "[(0, 0, 255), (0, 0, 0), (0, 141, 0), (12, 6, 15), (0, 224, 234)]"
      ]
     },
     "execution_count": 156,
     "metadata": {},
     "output_type": "execute_result"
    }
   ],
   "source": [
    "arr[0]"
   ]
  },
  {
   "cell_type": "markdown",
   "id": "493f6336",
   "metadata": {},
   "source": [
    "# practice"
   ]
  },
  {
   "cell_type": "markdown",
   "id": "29a3f682",
   "metadata": {},
   "source": [
    "## Testing"
   ]
  },
  {
   "cell_type": "code",
   "execution_count": null,
   "id": "bd3ba1cd",
   "metadata": {
    "code_folding": [
     0
    ]
   },
   "outputs": [],
   "source": [
    "def getColorCode(arr):\n",
    "    from itertools import chain\n",
    "    flatten_list = list(chain.from_iterable(arr))\n",
    "    \n",
    "    for i in range(len(flatten_list)):\n",
    "        if sum(flatten_list[i])<50 or flatten_list.count(flatten_list[i])!=2:\n",
    "            flatten_list[i]=0\n",
    "    c=1\n",
    "    for i in range(len(flatten_list)):\n",
    "        if type(flatten_list[i])==tuple:\n",
    "            temp=flatten_list[i]\n",
    "            flatten_list[i]=c\n",
    "            pos=flatten_list.index(temp)\n",
    "            flatten_list[pos]=c\n",
    "            c+=1\n",
    "    new_arr=[[0 for i in range(len(arr))] for j in range(len(arr[0]))]\n",
    "    for i in range(len(arr)):\n",
    "        for j in range(len(arr[i])):\n",
    "            new_arr[i][j]=flatten_list[i*len(arr[0])+j]\n",
    "    return new_arr"
   ]
  },
  {
   "cell_type": "code",
   "execution_count": null,
   "id": "ee649e4c",
   "metadata": {
    "ExecuteTime": {
     "end_time": "2022-04-17T12:14:29.396631Z",
     "start_time": "2022-04-17T12:14:25.787176Z"
    }
   },
   "outputs": [],
   "source": [
    "import time\n",
    "\n",
    "list_of_array=[]\n",
    "obj=Image()\n",
    "for i in range(2):\n",
    "    for j in range(1):\n",
    "        x,y=(1396+82*j,362+82*i)\n",
    "        pg.click(x,y,duration=0.5)\n",
    "        pg.moveTo(1300,90,0.35)\n",
    "        pg.screenshot('temp.png',region=(1270,270, 570, 570))\n",
    "        time.sleep(.3)\n",
    "        img=obj.readImage('temp.png')\n",
    "        arr=obj.getArray(img,point1=(0,0),point2=(110,0))\n",
    "        list_of_array.append(arr)\n",
    "        pg.click(1300,90)\n",
    "        \n",
    "list_of_array"
   ]
  },
  {
   "cell_type": "code",
   "execution_count": null,
   "id": "e8e603dd",
   "metadata": {
    "ExecuteTime": {
     "end_time": "2022-04-17T12:18:59.311550Z",
     "start_time": "2022-04-17T12:18:59.291551Z"
    }
   },
   "outputs": [],
   "source": [
    "a=str(list_of_array)\n",
    "type(a)\n",
    "type(list_of_array)\n",
    "b=eval(a)\n",
    "b\n",
    "type(b)"
   ]
  },
  {
   "cell_type": "code",
   "execution_count": null,
   "id": "bcaa4e6f",
   "metadata": {
    "ExecuteTime": {
     "end_time": "2022-04-17T11:33:46.971822Z",
     "start_time": "2022-04-17T11:33:46.965826Z"
    }
   },
   "outputs": [],
   "source": [
    "# pg.screenshot('temp.png',region=(1270,270, 570, 570))"
   ]
  },
  {
   "cell_type": "code",
   "execution_count": null,
   "id": "bcf829bc",
   "metadata": {},
   "outputs": [],
   "source": []
  },
  {
   "cell_type": "code",
   "execution_count": null,
   "id": "38cf7be7",
   "metadata": {},
   "outputs": [],
   "source": []
  },
  {
   "cell_type": "code",
   "execution_count": null,
   "id": "a8373508",
   "metadata": {
    "code_folding": [
     0
    ]
   },
   "outputs": [],
   "source": [
    "def getColorCode(arr):\n",
    "    array=[]\n",
    "    c=1\n",
    "    totalColor={}\n",
    "    for i in arr:\n",
    "        row=[]\n",
    "        for j in i:\n",
    "            if(sum(j)<50):\n",
    "                totalColor[j]=0\n",
    "                row.append(0)\n",
    "            elif(not j in totalColor):\n",
    "                row.append(c)\n",
    "                totalColor[j]=c\n",
    "                c+=1\n",
    "            else:\n",
    "                row.append(totalColor[j])\n",
    "        array.append(row)\n",
    "    print(array)"
   ]
  },
  {
   "cell_type": "code",
   "execution_count": null,
   "id": "59b4ddc0",
   "metadata": {
    "ExecuteTime": {
     "end_time": "2022-04-16T15:05:03.393959Z",
     "start_time": "2022-04-16T15:05:03.362130Z"
    }
   },
   "outputs": [],
   "source": [
    "img1 = cv2.imread('game.jpeg', 1)\n",
    "b,g,r = (img1[681 , 374])\n",
    "print (r)\n",
    "print (g)\n",
    "print (b)"
   ]
  },
  {
   "cell_type": "code",
   "execution_count": null,
   "id": "a6fc202a",
   "metadata": {
    "ExecuteTime": {
     "end_time": "2022-04-16T15:20:08.292271Z",
     "start_time": "2022-04-16T15:20:08.271016Z"
    }
   },
   "outputs": [],
   "source": [
    "dic={2:4,3:9}\n",
    "print(4 in dic)"
   ]
  },
  {
   "cell_type": "code",
   "execution_count": null,
   "id": "397af608",
   "metadata": {
    "ExecuteTime": {
     "end_time": "2022-04-16T15:21:11.765060Z",
     "start_time": "2022-04-16T15:21:11.749381Z"
    }
   },
   "outputs": [],
   "source": [
    "def getColorCode(arr):\n",
    "    c=1\n",
    "    totalColor={}\n",
    "    for i in arr:\n",
    "        for j in i:\n",
    "            if not (j in totalColor):\n",
    "                totalColor[j]=c\n",
    "                c+=1\n",
    "    print(totalColor)"
   ]
  },
  {
   "cell_type": "code",
   "execution_count": null,
   "id": "42c07fed",
   "metadata": {
    "ExecuteTime": {
     "end_time": "2022-04-16T15:21:25.103324Z",
     "start_time": "2022-04-16T15:21:25.072541Z"
    }
   },
   "outputs": [],
   "source": [
    "d={}\n",
    "d[1]=3\n",
    "d"
   ]
  },
  {
   "cell_type": "code",
   "execution_count": null,
   "id": "05ca582f",
   "metadata": {
    "ExecuteTime": {
     "end_time": "2022-04-16T15:29:27.395745Z",
     "start_time": "2022-04-16T15:29:27.364513Z"
    }
   },
   "outputs": [],
   "source": [
    "a=(15, 6, 12)\n",
    "sum(a)"
   ]
  },
  {
   "cell_type": "markdown",
   "id": "16cfbc32",
   "metadata": {},
   "source": [
    "## saturday"
   ]
  },
  {
   "cell_type": "code",
   "execution_count": 263,
   "id": "8e1b3b89",
   "metadata": {
    "ExecuteTime": {
     "end_time": "2022-04-17T16:51:01.433539Z",
     "start_time": "2022-04-17T16:51:01.405539Z"
    }
   },
   "outputs": [],
   "source": [
    "from LibPath import insertPath\n",
    "insertPath()"
   ]
  },
  {
   "cell_type": "code",
   "execution_count": 264,
   "id": "7f4762f3",
   "metadata": {
    "ExecuteTime": {
     "end_time": "2022-04-17T16:51:04.199952Z",
     "start_time": "2022-04-17T16:51:03.114786Z"
    }
   },
   "outputs": [
    {
     "data": {
      "application/vnd.jupyter.widget-view+json": {
       "model_id": "883ceebf2ed542f4b4673f77bf0433c9",
       "version_major": 2,
       "version_minor": 0
      },
      "text/plain": [
       "VBox(children=(Output(), Output()))"
      ]
     },
     "metadata": {},
     "output_type": "display_data"
    },
    {
     "data": {
      "text/plain": [
       "<SearchSystem.FilesContentSearchEngine at 0x1c150650df0>"
      ]
     },
     "execution_count": 264,
     "metadata": {},
     "output_type": "execute_result"
    }
   ],
   "source": [
    "from Database import Database\n",
    "Database.moduleDB('display_in_window')"
   ]
  },
  {
   "cell_type": "code",
   "execution_count": null,
   "id": "4b333b43",
   "metadata": {
    "ExecuteTime": {
     "end_time": "2022-04-16T17:03:46.034600Z",
     "start_time": "2022-04-16T17:03:45.895603Z"
    }
   },
   "outputs": [],
   "source": [
    "c.display()"
   ]
  },
  {
   "cell_type": "code",
   "execution_count": null,
   "id": "4675414c",
   "metadata": {
    "ExecuteTime": {
     "end_time": "2022-04-16T17:03:46.265597Z",
     "start_time": "2022-04-16T17:03:46.159608Z"
    }
   },
   "outputs": [],
   "source": [
    "c.open_in_program()"
   ]
  },
  {
   "cell_type": "code",
   "execution_count": null,
   "id": "60b959e8",
   "metadata": {
    "ExecuteTime": {
     "end_time": "2022-04-16T17:03:51.481536Z",
     "start_time": "2022-04-16T17:03:46.444599Z"
    }
   },
   "outputs": [],
   "source": [
    "c.display_in_window()"
   ]
  },
  {
   "cell_type": "code",
   "execution_count": null,
   "id": "9de44dc2",
   "metadata": {
    "ExecuteTime": {
     "end_time": "2022-04-16T17:29:55.592236Z",
     "start_time": "2022-04-16T17:29:55.574235Z"
    }
   },
   "outputs": [],
   "source": [
    "from ModuleDB import ModuleDB\n",
    "ModuleDB.reloadClass(jupyterDB,globals())"
   ]
  },
  {
   "cell_type": "code",
   "execution_count": null,
   "id": "3cebe9cc",
   "metadata": {
    "ExecuteTime": {
     "end_time": "2022-04-16T17:13:34.255966Z",
     "start_time": "2022-04-16T17:13:34.214964Z"
    }
   },
   "outputs": [],
   "source": [
    "!start"
   ]
  },
  {
   "cell_type": "code",
   "execution_count": null,
   "id": "9d37e1e2",
   "metadata": {
    "ExecuteTime": {
     "end_time": "2022-04-16T17:30:02.985018Z",
     "start_time": "2022-04-16T17:30:02.975017Z"
    }
   },
   "outputs": [],
   "source": [
    "from jupyterDB import jupyterDB"
   ]
  },
  {
   "cell_type": "code",
   "execution_count": null,
   "id": "c9a3ff23",
   "metadata": {
    "ExecuteTime": {
     "end_time": "2022-04-16T17:33:30.266948Z",
     "start_time": "2022-04-16T17:33:30.230951Z"
    }
   },
   "outputs": [],
   "source": [
    "jupyterDB.createJupyterNotebook('index')"
   ]
  },
  {
   "cell_type": "code",
   "execution_count": null,
   "id": "28e92083",
   "metadata": {
    "ExecuteTime": {
     "end_time": "2022-04-16T17:51:11.912087Z",
     "start_time": "2022-04-16T17:51:11.803965Z"
    }
   },
   "outputs": [],
   "source": [
    "jupyterDB.resource().folder()"
   ]
  },
  {
   "cell_type": "markdown",
   "id": "627f4e34",
   "metadata": {
    "ExecuteTime": {
     "end_time": "2022-04-17T12:21:33.455406Z",
     "start_time": "2022-04-17T12:21:33.450130Z"
    }
   },
   "source": [
    "## Sunday"
   ]
  },
  {
   "cell_type": "code",
   "execution_count": 130,
   "id": "d690273b",
   "metadata": {
    "ExecuteTime": {
     "end_time": "2022-04-17T13:17:13.910321Z",
     "start_time": "2022-04-17T13:17:13.899322Z"
    },
    "code_folding": []
   },
   "outputs": [],
   "source": [
    "def readGameData(name,location=r\"C:\\Users\\19410\\My Drive\\Raju Dai\\current\\gameData\"):\n",
    "    f1=open(location+'\\\\'+name,'r')\n",
    "    content=f1.readline()\n",
    "    f1.close()\n",
    "    return eval(content)\n"
   ]
  },
  {
   "cell_type": "code",
   "execution_count": 1,
   "id": "596d43cb",
   "metadata": {
    "ExecuteTime": {
     "end_time": "2022-04-19T22:12:53.130732Z",
     "start_time": "2022-04-19T22:12:53.040732Z"
    },
    "code_folding": [
     4
    ]
   },
   "outputs": [],
   "source": [
    "import cv2\n",
    "import pyautogui as pg\n",
    "import time\n",
    "\n",
    "class Image:\n",
    "    def readImage(self,name):\n",
    "        img=cv2.imread(name,1)\n",
    "        return img\n",
    "    \n",
    "    def show(self,img):\n",
    "        cv2.imshow('showing window',img)\n",
    "        cv2.waitKey(0)\n",
    "        cv2.destroyAllWindows()\n",
    "        \n",
    "    def getArray(self,img,point1=(0, 200),point2=(535, 735),size=5): \n",
    "        gap=(point2[0]-point1[0])//size\n",
    "        mid=gap//2\n",
    "        midPoint=(point1[0]+mid,point1[1]+mid)\n",
    "        \n",
    "        arr=[]\n",
    "        for i in range(size):\n",
    "            row=[]\n",
    "            for j in range(size):\n",
    "                point=(midPoint[0]+gap*j,midPoint[1]+gap*i)\n",
    "                b,g,r = (img[point[1], point[0]])\n",
    "                row.append((b,g,r))\n",
    "            arr.append(row)\n",
    "        return self._getColorCode(arr)\n",
    "    \n",
    "    def _getColorCode(self,arr):\n",
    "        from itertools import chain\n",
    "        flatten_list = list(chain.from_iterable(arr))\n",
    "\n",
    "        for i in range(len(flatten_list)):\n",
    "            if max(flatten_list[i])<50 or flatten_list.count(flatten_list[i])!=2:\n",
    "                flatten_list[i]=0\n",
    "        c=1\n",
    "        for i in range(len(flatten_list)):\n",
    "            if type(flatten_list[i])==tuple:\n",
    "                temp=flatten_list[i]\n",
    "                flatten_list[i]=c\n",
    "                pos=flatten_list.index(temp)\n",
    "                flatten_list[pos]=c\n",
    "                c+=1\n",
    "        new_arr=[[0 for i in range(len(arr))] for j in range(len(arr[0]))]\n",
    "        for i in range(len(arr)):\n",
    "            for j in range(len(arr[i])):\n",
    "                new_arr[i][j]=flatten_list[i*len(arr[0])+j]\n",
    "        return new_arr"
   ]
  },
  {
   "cell_type": "code",
   "execution_count": 2,
   "id": "40003ef7",
   "metadata": {
    "ExecuteTime": {
     "end_time": "2022-04-19T22:45:28.426480Z",
     "start_time": "2022-04-19T22:45:28.417483Z"
    },
    "code_folding": [
     0
    ]
   },
   "outputs": [],
   "source": [
    "class GameDB:\n",
    "    def scanStoreData(self,nof_pages=5):\n",
    "        for i in range(1,nof_pages+1):\n",
    "            self._singlePage(page=i,boardSize=4+i)\n",
    "            pg.mouseDown(1500,700,button='left')\n",
    "            pg.moveRel(-200,0,.1)\n",
    "            pg.mouseUp()\n",
    "            time.sleep(0.1)\n",
    "            \n",
    "        \n",
    "    def _singlePage(self,page,boardSize,row=6,col=5):\n",
    "        obj=Image()\n",
    "        for i in range(row):\n",
    "            for j in range(col):\n",
    "                x,y=(1396+82*j,362+82*i)\n",
    "                pg.click(x,y)\n",
    "                pg.moveTo(1300,90,0.3)\n",
    "                pg.screenshot('temp.png',region=(1270,270, 570, 570))\n",
    "#                 time.sleep(.05)\n",
    "                img=obj.readImage('temp.png')\n",
    "                arr=obj.getArray(img,(0,0),(570, 570),boardSize)\n",
    "                self.storeArray('page'+str(page)+'-game'+str(col*i+j+1),arr)\n",
    "                pg.click(1300,90)\n",
    "                \n",
    "    def storeArray(self,filename,array,location=r\"C:\\Users\\19410\\My Drive\\Raju Dai\\current\\gameData\"):\n",
    "        f1=open(location+\"\\\\\"+filename+'.txt',\"w\")\n",
    "        content=str(array)\n",
    "        f1.write(content)\n",
    "        f1.close()\n",
    "        \n",
    "    def readGameData(self,page,game,location=r\"C:\\Users\\19410\\My Drive\\Raju Dai\\current\\gameData\"):\n",
    "        name=location+'\\\\'+'page'+str(page)+'-game'+str(game)+'.txt'\n",
    "        f1=open(name,'r')\n",
    "        content=f1.readline()\n",
    "        f1.close()\n",
    "        return eval(content)\n"
   ]
  },
  {
   "cell_type": "code",
   "execution_count": 4,
   "id": "fd846e83",
   "metadata": {
    "ExecuteTime": {
     "end_time": "2022-04-19T22:47:32.393757Z",
     "start_time": "2022-04-19T22:45:38.000412Z"
    }
   },
   "outputs": [],
   "source": [
    "gameObj=GameDB()\n",
    "\n",
    "time.sleep(0)\n",
    "gameObj.scanStoreData()"
   ]
  },
  {
   "cell_type": "code",
   "execution_count": 2,
   "id": "88c78829",
   "metadata": {
    "ExecuteTime": {
     "end_time": "2022-04-20T08:53:13.469470Z",
     "start_time": "2022-04-20T08:53:13.458474Z"
    },
    "code_folding": [
     0
    ]
   },
   "outputs": [],
   "source": [
    "# t=GameDB()\n",
    "# r=True\n",
    "# for j in range(1,6):\n",
    "#     for i in range(1,31):\n",
    "#         t1=t.readGameData(j,i,r\"C:\\Users\\19410\\My Drive\\Raju Dai\\current\\temp\")\n",
    "#         t2=t.readGameData(j,i)\n",
    "#         r=r and t1==t2\n",
    "# #         print(j,i,t1==t2)\n",
    "# r"
   ]
  },
  {
   "cell_type": "code",
   "execution_count": 259,
   "id": "1b167f22",
   "metadata": {
    "ExecuteTime": {
     "end_time": "2022-04-17T16:06:48.128508Z",
     "start_time": "2022-04-17T16:06:48.113510Z"
    }
   },
   "outputs": [
    {
     "data": {
      "text/plain": [
       "[[0, 1, 2, 0, 0, 0, 0],\n",
       " [0, 0, 3, 4, 0, 4, 0],\n",
       " [0, 0, 5, 0, 0, 0, 0],\n",
       " [0, 0, 6, 7, 0, 5, 0],\n",
       " [0, 0, 0, 0, 7, 6, 0],\n",
       " [0, 0, 3, 0, 0, 0, 0],\n",
       " [0, 0, 1, 2, 0, 0, 0]]"
      ]
     },
     "execution_count": 259,
     "metadata": {},
     "output_type": "execute_result"
    }
   ],
   "source": [
    "gameObj.readGameData(3,2)"
   ]
  },
  {
   "cell_type": "code",
   "execution_count": null,
   "id": "5ea673e6",
   "metadata": {},
   "outputs": [],
   "source": []
  }
 ],
 "metadata": {
  "kernelspec": {
   "display_name": "Python 3 (ipykernel)",
   "language": "python",
   "name": "python3"
  },
  "language_info": {
   "codemirror_mode": {
    "name": "ipython",
    "version": 3
   },
   "file_extension": ".py",
   "mimetype": "text/x-python",
   "name": "python",
   "nbconvert_exporter": "python",
   "pygments_lexer": "ipython3",
   "version": "3.9.7"
  },
  "varInspector": {
   "cols": {
    "lenName": 16,
    "lenType": 16,
    "lenVar": 40
   },
   "kernels_config": {
    "python": {
     "delete_cmd_postfix": "",
     "delete_cmd_prefix": "del ",
     "library": "var_list.py",
     "varRefreshCmd": "print(var_dic_list())"
    },
    "r": {
     "delete_cmd_postfix": ") ",
     "delete_cmd_prefix": "rm(",
     "library": "var_list.r",
     "varRefreshCmd": "cat(var_dic_list()) "
    }
   },
   "types_to_exclude": [
    "module",
    "function",
    "builtin_function_or_method",
    "instance",
    "_Feature"
   ],
   "window_display": false
  }
 },
 "nbformat": 4,
 "nbformat_minor": 5
}
