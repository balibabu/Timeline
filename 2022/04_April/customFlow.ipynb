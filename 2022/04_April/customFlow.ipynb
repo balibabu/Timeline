{
 "cells": [
  {
   "cell_type": "markdown",
   "metadata": {},
   "source": [
    "## testing"
   ]
  },
  {
   "cell_type": "code",
   "execution_count": 35,
   "metadata": {},
   "outputs": [],
   "source": [
    "import cv2\n",
    "import numpy as np\n",
    "img=cv2.space=np.zeros([700,500,3],np.uint8)\n",
    "img[:]=(0,255,0)\n",
    "cv2.imshow('showing',img)\n",
    "cv2.waitKey(0)\n",
    "cv2.destroyAllWindows()\n"
   ]
  },
  {
   "cell_type": "code",
   "execution_count": 82,
   "metadata": {},
   "outputs": [],
   "source": [
    "def createWindow(dim=(5,5),screenDim=(600,600)):\n",
    "    img=cv2.space=np.zeros([*screenDim,3],np.uint8)\n",
    "    img[:]=(20,20,20)\n",
    "    row=screenDim[0]//dim[0]\n",
    "    col=screenDim[1]//dim[1]\n",
    "    for i in range(dim[0]):\n",
    "        cv2.line(img,(0,row*(i+1)),(screenDim[1],row*(i+1)),(200,200,200),2)\n",
    "    for i in range(dim[1]):\n",
    "        cv2.line(img,(col*(i+1),0),(col*(i+1),screenDim[0]),(200,200,200),2)\n",
    "\n",
    "    cv2.line(img,(0,0),(0,screenDim[0]),(200,200,200),8)\n",
    "    cv2.line(img,(0,0),(screenDim[1],0),(200,200,200),8)\n",
    "    cv2.line(img,(0,screenDim[0]-1),(screenDim[1],screenDim[0]-1),(200,200,200),10)\n",
    "    cv2.line(img,(screenDim[1],0),(screenDim[1],screenDim[0]-1),(200,200,200),10)\n",
    "    return img,row\n",
    "\n",
    "def plotBalls(matrix):\n",
    "    colors={1:(0,0,255),2:(255,0,0),3:(0,255,0),4:(0,255,255),5:(255,255,0),6:(255,0,255),7:(250,125,0),8:(0,125,250),9:(125,0,250)}\n",
    "    img,size=createWindow((len(matrix),len(matrix[0])))\n",
    "    midP=size//2\n",
    "    for i in range(len(matrix)):\n",
    "        for j in range(len(matrix[0])):\n",
    "            if matrix[i][j]!=0:\n",
    "                cv2.circle(img,(midP+size*j,midP+size*i),midP*2//3,colors[matrix[i][j]],-1,lineType=cv2.LINE_AA)\n",
    "    return img\n",
    "\n",
    "mat2=[[1, 2, 3, 0, 4, 5], [0, 0, 0, 0, 6, 0], [0, 0, 3, 0, 0, 0], [0, 0, 4, 0, 0, 0], [1, 0, 6, 0, 0, 0], [2, 0, 5, 0, 0, 0]]\n",
    "mat3=[[0, 0, 0, 0, 0, 0, 1], [0, 0, 0, 0, 0, 2, 3], [0, 2, 0, 0, 0, 0, 0], [0, 0, 0, 4, 5, 0, 0], [0, 0, 4, 0, 6, 0, 0], [0, 0, 0, 0, 3, 6, 0], [0, 0, 0, 0, 0, 1, 5]]\n",
    "mat4=[[0, 0, 0, 0, 1, 0, 0, 0], [0, 0, 0, 0, 2, 0, 3, 4], [0, 0, 0, 0, 3, 4, 0, 2], [0, 0, 0, 5, 6, 0, 0, 0], [0, 0, 0, 0, 5, 0, 0, 0], [0, 0, 0, 0, 6, 0, 0, 0], [0, 0, 0, 0, 0, 0, 0, 0], [0, 1, 0, 0, 0, 0, 0, 0]]\n",
    "mat5=[[0, 0, 0, 0, 0, 0, 0, 0, 0], [0, 1, 2, 3, 0, 0, 0, 0, 0], [0, 0, 0, 2, 4, 0, 4, 3, 0], [0, 0, 0, 0, 0, 0, 0, 5, 0], [0, 6, 0, 6, 1, 0, 0, 0, 0], [7, 5, 0, 0, 0, 0, 0, 8, 9], [0, 9, 7, 0, 0, 0, 0, 0, 0], [0, 8, 0, 0, 0, 0, 0, 0, 0], [0, 0, 0, 0, 0, 0, 0, 0, 0]]\n",
    "img=plotBalls(mat5)\n",
    "cv2.imshow('showing',img)\n",
    "cv2.waitKey(0)\n",
    "cv2.destroyAllWindows()"
   ]
  },
  {
   "cell_type": "markdown",
   "metadata": {},
   "source": [
    "## final"
   ]
  },
  {
   "cell_type": "code",
   "execution_count": 38,
   "metadata": {},
   "outputs": [],
   "source": [
    "import cv2\n",
    "import numpy as np\n",
    "class GBoard:\n",
    "    screenSize=(600,600)\n",
    "    def set_screenSize(self,size):\n",
    "        self.screenSize=size\n",
    "    def set_Matrix(self,mat):\n",
    "        self.matrix=mat\n",
    "\n",
    "    def _createWindow(self):\n",
    "        screenDim=self.screenSize\n",
    "        dim=np.array(self.matrix).shape\n",
    "        img=cv2.space=np.zeros([*screenDim,3],np.uint8)\n",
    "        img[:]=(50,50,50)\n",
    "        row=screenDim[0]//dim[0]\n",
    "        col=screenDim[1]//dim[1]\n",
    "        for i in range(dim[0]):\n",
    "            cv2.line(img,(0,row*(i+1)),(screenDim[1],row*(i+1)),(200,200,200),2)\n",
    "        for i in range(dim[1]):\n",
    "            cv2.line(img,(col*(i+1),0),(col*(i+1),screenDim[0]),(200,200,200),2)\n",
    "\n",
    "        cv2.line(img,(0,0),(0,screenDim[0]),(200,200,200),8)\n",
    "        cv2.line(img,(0,0),(screenDim[1],0),(200,200,200),8)\n",
    "        cv2.line(img,(0,screenDim[0]-1),(screenDim[1],screenDim[0]-1),(200,200,200),10)\n",
    "        cv2.line(img,(screenDim[1],0),(screenDim[1],screenDim[0]-1),(200,200,200),10)\n",
    "        self.img=img\n",
    "    \n",
    "    def _plotBalls(self):\n",
    "        matrix=self.matrix\n",
    "        colors={1:(0,0,255),2:(255,0,0),3:(0,255,0),4:(0,255,255),5:(255,255,0),6:(255,0,255),7:(250,125,0),8:(0,125,250),9:(125,0,250)}\n",
    "        size=self.screenSize[0]//len(self.matrix)\n",
    "        midP=size//2\n",
    "        for i in range(len(matrix)):\n",
    "            for j in range(len(matrix[0])):\n",
    "                if matrix[i][j]!=0:\n",
    "                    cv2.circle(self.img,(midP+size*j,midP+size*i),midP*2//3,colors[matrix[i][j]],-1,lineType=cv2.LINE_AA)\n",
    "\n",
    "    def getBoard(self):\n",
    "        self._createWindow()\n",
    "        self._plotBalls()\n",
    "        return self.img\n",
    "        \n",
    "\n",
    "\n"
   ]
  },
  {
   "cell_type": "code",
   "execution_count": 36,
   "metadata": {},
   "outputs": [],
   "source": [
    "mat2=[[1, 2, 3, 0, 4, 5], [0, 0, 0, 0, 6, 0], [0, 0, 3, 0, 0, 0], [0, 0, 4, 0, 0, 0], [1, 0, 6, 0, 0, 0], [2, 0, 5, 0, 0, 0]]\n",
    "obj=GBoard()\n",
    "obj.set_Matrix(mat2)\n",
    "img=obj.getBoard()\n"
   ]
  },
  {
   "cell_type": "code",
   "execution_count": 37,
   "metadata": {},
   "outputs": [],
   "source": [
    "cv2.imshow('showing',img)\n",
    "cv2.waitKey(0)\n",
    "cv2.destroyAllWindows()"
   ]
  },
  {
   "cell_type": "code",
   "execution_count": null,
   "metadata": {},
   "outputs": [],
   "source": [
    "a=97\n",
    "w=119\n",
    "d=100\n",
    "s=115"
   ]
  }
 ],
 "metadata": {
  "interpreter": {
   "hash": "729e4875927a45cd4b0f1bebf86ee4beee5ea77652997e46e0b841730c785033"
  },
  "kernelspec": {
   "display_name": "Python 3.9.7 ('base')",
   "language": "python",
   "name": "python3"
  },
  "language_info": {
   "codemirror_mode": {
    "name": "ipython",
    "version": 3
   },
   "file_extension": ".py",
   "mimetype": "text/x-python",
   "name": "python",
   "nbconvert_exporter": "python",
   "pygments_lexer": "ipython3",
   "version": "3.9.7"
  },
  "orig_nbformat": 4
 },
 "nbformat": 4,
 "nbformat_minor": 2
}
