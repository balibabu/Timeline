{
 "cells": [
  {
   "cell_type": "code",
   "execution_count": 2,
   "id": "1d06b6ea",
   "metadata": {
    "ExecuteTime": {
     "end_time": "2022-03-31T17:47:30.265764Z",
     "start_time": "2022-03-31T17:47:30.247765Z"
    }
   },
   "outputs": [],
   "source": [
    "import sys\n",
    "sys.path.insert(0, r\"C:\\Users\\19410\\My Drive\\Raju Dai\\Rlib-main\")"
   ]
  },
  {
   "cell_type": "markdown",
   "id": "90896b6a",
   "metadata": {},
   "source": [
    "tricks\n",
    "1.select those dot pair who are in the edge\n",
    "2.repeat step 1 unless there is no dots"
   ]
  },
  {
   "cell_type": "code",
   "execution_count": null,
   "id": "1a1daf84",
   "metadata": {
    "ExecuteTime": {
     "end_time": "2022-03-30T17:18:20.344200Z",
     "start_time": "2022-03-30T17:18:20.328202Z"
    }
   },
   "outputs": [],
   "source": [
    "board=[[0]*5]*5\n",
    "board"
   ]
  },
  {
   "cell_type": "code",
   "execution_count": null,
   "id": "cb2509ea",
   "metadata": {
    "ExecuteTime": {
     "end_time": "2022-03-30T17:28:21.977564Z",
     "start_time": "2022-03-30T17:28:21.961564Z"
    }
   },
   "outputs": [],
   "source": [
    "def last(n):\n",
    "    return n[-1]  \n",
    "   \n",
    "def sort(tuples):\n",
    "    return sorted(tuples, key=last)"
   ]
  },
  {
   "cell_type": "code",
   "execution_count": null,
   "id": "e1772a07",
   "metadata": {
    "ExecuteTime": {
     "end_time": "2022-03-30T17:28:23.269718Z",
     "start_time": "2022-03-30T17:28:23.260720Z"
    }
   },
   "outputs": [],
   "source": [
    "dots=[(0,0,'r'),(0,2,'g'),(0,4,'y'),(1,2,'b'),(1,4,'o'),(3,1,'g'),(3,3,'y'),(4,1,'r'),(4,2,'b'),(4,3,'o')]\n",
    "d=sort(dots)\n",
    "d"
   ]
  },
  {
   "cell_type": "code",
   "execution_count": null,
   "id": "4552ad7d",
   "metadata": {
    "ExecuteTime": {
     "end_time": "2022-03-30T17:17:27.521859Z",
     "start_time": "2022-03-30T17:17:27.511860Z"
    }
   },
   "outputs": [],
   "source": [
    "ep=set()\n",
    "for i in range(5):\n",
    "    ep.add((0,i))\n",
    "    ep.add((i,0))\n",
    "    ep.add((4,i))\n",
    "    ep.add((i,4))\n",
    "list(ep)"
   ]
  },
  {
   "cell_type": "code",
   "execution_count": null,
   "id": "39afe31d",
   "metadata": {
    "ExecuteTime": {
     "end_time": "2022-03-29T15:11:42.911737Z",
     "start_time": "2022-03-29T15:11:42.895722Z"
    }
   },
   "outputs": [],
   "source": [
    "def isAtEdge(board,p1,p2):\n",
    "    a=board[p1[0]][p1[1]]"
   ]
  },
  {
   "cell_type": "code",
   "execution_count": null,
   "id": "4a1524c9",
   "metadata": {},
   "outputs": [],
   "source": [
    "def getDots_onEdge(board,dots,req_dots=[]):\n",
    "    for i in range(len(dots)):\n",
    "        \n",
    "        "
   ]
  },
  {
   "cell_type": "code",
   "execution_count": null,
   "id": "4326266c",
   "metadata": {},
   "outputs": [],
   "source": []
  },
  {
   "cell_type": "code",
   "execution_count": 8,
   "id": "257fc29d",
   "metadata": {
    "ExecuteTime": {
     "end_time": "2022-04-20T09:11:19.903277Z",
     "start_time": "2022-04-20T09:11:19.888279Z"
    }
   },
   "outputs": [],
   "source": [
    "class Solver:\n",
    "    def __init__(self, board_vals):\n",
    "        self._filled_map = None\n",
    "        self._set_up(vals)\n",
    "    def _set_up(self, vals: list[list]):\n",
    "        self._board = vals\n",
    "        nx, ny = vals.shape\n",
    "        self._all_pos = list(itertools.product(range(nx), range(ny)))\n",
    "        self._edges = set(filter(lambda x: len(set([0, -1 % ny, -1 % nx]).intersection(set(x))) > 0, \n",
    "                                 self._all_pos ))\n",
    "        self._nebors_direction = np.array([[-1, 0], [1, 0], [0, 1], [0, -1]])\n",
    "    def is_inside_board(self, pos):\n",
    "        x, y= pos\n",
    "        nx, ny = self._board.shape\n",
    "        if x < 0 or y < 0 or x >= nx or y >= ny:\n",
    "            return False\n",
    "        return True\n",
    "    def get_pair_on_edges(self):\n",
    "        val = {}\n",
    "        for x, y in edges:\n",
    "            color = self._board[x][y]\n",
    "            if not color in val:\n",
    "                val[color] = []\n",
    "            val[color].append((x, y))\n",
    "        return {k: val[k] for k in (filter(lambda x: len(val[x]) == 2, val))}"
   ]
  },
  {
   "cell_type": "code",
   "execution_count": 2,
   "id": "370f359b",
   "metadata": {
    "ExecuteTime": {
     "end_time": "2022-04-20T09:10:00.719831Z",
     "start_time": "2022-04-20T09:10:00.706831Z"
    }
   },
   "outputs": [],
   "source": [
    "class FlowGrid:\n",
    "    def __init__(self):\n",
    "        self._dimension = None\n",
    "        self._value = None\n",
    "    \n",
    "    def load(self, file):\n",
    "        content = File.getFileContent(file)\n",
    "        vals= content.split()\n",
    "        x, y= list(map(int,vals[:2]))\n",
    "        self._dimension = x,y\n",
    "        arr = np.zeros((x,y), dtype=int)\n",
    "        arr = arr.flatten()\n",
    "        n = int(vals[2])\n",
    "        i = 3\n",
    "        count = 0\n",
    "        while True:\n",
    "            arr[int(vals[i])-1] = int(vals[i+1])\n",
    "            count += 1\n",
    "            i += 2\n",
    "            if count == n:\n",
    "                break\n",
    "        self._value = arr.reshape((x,y))\n",
    "    def get_value(self):\n",
    "        return self._value"
   ]
  },
  {
   "cell_type": "code",
   "execution_count": null,
   "id": "3eb206e0",
   "metadata": {
    "ExecuteTime": {
     "end_time": "2022-03-30T17:53:50.236816Z",
     "start_time": "2022-03-30T17:53:50.232819Z"
    }
   },
   "outputs": [],
   "source": [
    "True and not 'a' in 'as'"
   ]
  },
  {
   "cell_type": "code",
   "execution_count": 4,
   "id": "a64a1183",
   "metadata": {
    "ExecuteTime": {
     "end_time": "2022-04-20T09:10:13.964750Z",
     "start_time": "2022-04-20T09:10:13.958749Z"
    }
   },
   "outputs": [],
   "source": [
    "def getEdges(row,col):\n",
    "    edges=[]\n",
    "    for i in range(row):\n",
    "        edges.append((i,0))\n",
    "        edges.append((i,col-1))\n",
    "    for i in range(1,col-1):\n",
    "        edges.append((0,i))\n",
    "        edges.append((row-1,i))\n",
    "    \n",
    "    return edges"
   ]
  },
  {
   "cell_type": "code",
   "execution_count": 5,
   "id": "0c700e52",
   "metadata": {
    "ExecuteTime": {
     "end_time": "2022-04-20T09:10:22.478457Z",
     "start_time": "2022-04-20T09:10:22.471937Z"
    }
   },
   "outputs": [],
   "source": [
    "a=getEdges(5,6)"
   ]
  },
  {
   "cell_type": "code",
   "execution_count": 6,
   "id": "692b3f0b",
   "metadata": {
    "ExecuteTime": {
     "end_time": "2022-04-20T09:10:24.451000Z",
     "start_time": "2022-04-20T09:10:24.446992Z"
    }
   },
   "outputs": [],
   "source": [
    "a.sort()"
   ]
  },
  {
   "cell_type": "code",
   "execution_count": 26,
   "id": "aee847fa",
   "metadata": {
    "ExecuteTime": {
     "end_time": "2022-03-31T17:28:03.747425Z",
     "start_time": "2022-03-31T17:28:03.740427Z"
    }
   },
   "outputs": [
    {
     "data": {
      "text/plain": [
       "18"
      ]
     },
     "execution_count": 26,
     "metadata": {},
     "output_type": "execute_result"
    }
   ],
   "source": [
    "len(a)"
   ]
  },
  {
   "cell_type": "code",
   "execution_count": 27,
   "id": "e8161088",
   "metadata": {
    "ExecuteTime": {
     "end_time": "2022-03-31T17:29:33.911335Z",
     "start_time": "2022-03-31T17:29:33.904337Z"
    }
   },
   "outputs": [
    {
     "data": {
      "text/plain": [
       "1534005423936"
      ]
     },
     "execution_count": 27,
     "metadata": {},
     "output_type": "execute_result"
    }
   ],
   "source": [
    "ed=[1,2]\n",
    "id(ed)"
   ]
  },
  {
   "cell_type": "code",
   "execution_count": 29,
   "id": "0ce3f076",
   "metadata": {
    "ExecuteTime": {
     "end_time": "2022-03-31T17:29:53.559473Z",
     "start_time": "2022-03-31T17:29:53.545471Z"
    }
   },
   "outputs": [],
   "source": [
    "ed+=[1,23,4]"
   ]
  },
  {
   "cell_type": "code",
   "execution_count": 30,
   "id": "38c4e421",
   "metadata": {
    "ExecuteTime": {
     "end_time": "2022-03-31T17:30:00.258581Z",
     "start_time": "2022-03-31T17:30:00.247063Z"
    }
   },
   "outputs": [
    {
     "data": {
      "text/plain": [
       "1534005423936"
      ]
     },
     "execution_count": 30,
     "metadata": {},
     "output_type": "execute_result"
    }
   ],
   "source": [
    "id(ed)"
   ]
  },
  {
   "cell_type": "code",
   "execution_count": 36,
   "id": "d6340737",
   "metadata": {
    "ExecuteTime": {
     "end_time": "2022-03-31T17:52:28.373869Z",
     "start_time": "2022-03-31T17:52:28.331869Z"
    }
   },
   "outputs": [],
   "source": [
    "!start"
   ]
  },
  {
   "cell_type": "code",
   "execution_count": 9,
   "id": "78299b3b",
   "metadata": {
    "ExecuteTime": {
     "end_time": "2022-04-20T09:27:03.654765Z",
     "start_time": "2022-04-20T09:27:03.511766Z"
    }
   },
   "outputs": [],
   "source": [
    "class PathFinder:\n",
    "    def __init__(self):\n",
    "        self._path=None\n",
    "    def setStartPos(self,start):\n",
    "        self._path=None\n",
    "        self._start=start\n",
    "    def setEndPos(self,end):\n",
    "        self._path=None\n",
    "        self._end=end\n",
    "    def setEdges(self,edges):\n",
    "        self._path=None\n",
    "        self._edges=edges\n",
    "    \n",
    "    def calculatePath(self):\n",
    "        if self._path is None:\n",
    "            self._path=self._calculatePath(self._start, self._end, self._edges)\n",
    "        return self._path\n",
    "    \n",
    "    def _calculatePath(self,start, end, edges):\n",
    "        print('calculating...')\n",
    "        path = [start]\n",
    "        last_mov = start\n",
    "        point = edges[start].nebors.pop()\n",
    "        otherP = edges[start].nebors.pop()\n",
    "        edges[start].nebors.add(point)\n",
    "        edges[start].nebors.add(otherP)\n",
    "        point = point.pos\n",
    "        path.append(point)\n",
    "\n",
    "        while point != end:\n",
    "            for x in edges[point].nebors:\n",
    "                if x.pos != last_mov:\n",
    "                    last_mov = point\n",
    "                    point = x.pos\n",
    "                    break\n",
    "            path.append(point)\n",
    "\n",
    "        c = 0\n",
    "        for i in range(1, len(path) - 1):\n",
    "            if fg.get_value_at_pos(path[i]) != 0:\n",
    "                c = 1\n",
    "                break\n",
    "        if c == 0:\n",
    "            return path\n",
    "\n",
    "        path = [start]\n",
    "        last_mov = start\n",
    "        point = otherP.pos\n",
    "        path.append(point)\n",
    "\n",
    "        while point != end:\n",
    "            for x in edges[point].nebors:\n",
    "                if x.pos != last_mov:\n",
    "                    last_mov = point\n",
    "                    point = x.pos\n",
    "                    break\n",
    "            path.append(point)\n",
    "        return path\n",
    "\n",
    "# pf=PathFinder()\n",
    "# pf.setStartPos((0,4))\n",
    "# pf.setEndPos((3,0))\n",
    "# pf.setEdges(edges)\n",
    "# pf.calculatePath()\n"
   ]
  },
  {
   "cell_type": "code",
   "execution_count": 1,
   "id": "fc0d17db",
   "metadata": {
    "ExecuteTime": {
     "end_time": "2022-04-20T09:38:33.790159Z",
     "start_time": "2022-04-20T09:38:33.734160Z"
    }
   },
   "outputs": [],
   "source": [
    "from LibPath import insertPath\n",
    "insertPath()\n",
    "from OpsDB import IOps\n",
    "import numpy as np\n",
    "from FileDatabase import File\n",
    "class IBoard:\n",
    "    def get_value_at_pos(self, pos: tuple):\n",
    "        pass\n",
    "    def get_board(self) -> np.ndarray:\n",
    "        pass\n",
    "class FlowGrid(IBoard):\n",
    "    def __init__(self):\n",
    "        self._dimension = None\n",
    "        self._value = None\n",
    "\n",
    "    def load(self, file):\n",
    "        content = File.getFileContent(file)\n",
    "        vals= content.split()\n",
    "        x, y= list(map(int,vals[:2]))\n",
    "        self._dimension = x,y\n",
    "        arr = np.zeros((x,y), dtype=int)\n",
    "        arr = arr.flatten()\n",
    "        n = int(vals[2])\n",
    "        i = 3\n",
    "        count = 0\n",
    "        while True:\n",
    "            arr[int(vals[i])-1] = int(vals[i+1])\n",
    "            count += 1\n",
    "            i += 2\n",
    "            if count == n:\n",
    "                break\n",
    "        self._value = arr.reshape((x,y))\n",
    "    def get_board(self):\n",
    "        return self._value\n",
    "    def get_value_at_pos(self, pos):\n",
    "        x,y = pos\n",
    "        return self._value[x][y]\n",
    "    def is_inside_board(self, pos):\n",
    "        x, y= pos\n",
    "        nx, ny = self._value.shape\n",
    "        if x < 0 or y < 0 or x >= nx or y >= ny:\n",
    "            return False\n",
    "        return True\n",
    "    def set_data(self, data):\n",
    "        self._value = np.array(data)\n",
    "    def get_nebors(self, pos):\n",
    "        direction = np.array([(1,0), (0,1), (-1, 0), (0, -1)])\n",
    "        return list(filter(self.is_inside_board, [tuple(v) for v in pos + direction]))\n",
    "class EdgePairFinder(IOps):\n",
    "    def __init__(self):\n",
    "        self._nebors_direction = np.array([[-1, 0], [1, 0], [0, 1], [0, -1]])\n",
    "    def set_board(self, board: IBoard):\n",
    "        self._board = board\n",
    "    def set_edges(self, edges: set):\n",
    "        self._edges = edges\n",
    "    def execute(self):\n",
    "        val = {}\n",
    "        for x, y in self._edges:\n",
    "            color = self._board.get_value_at_pos((x,y))\n",
    "            if not color in val:\n",
    "                val[color] = []\n",
    "            val[color].append((x, y))\n",
    "        return {k: val[k] for k in (filter(lambda x: len(val[x]) == 2, val))}\n",
    "class GridPos:\n",
    "    def __init__(self, x,y ):\n",
    "        self.pos = x,y\n",
    "        self.nebors = set()\n",
    "    def __str__(self) -> str:\n",
    "        return str(self.pos)\n",
    "class FindEdges(IOps):\n",
    "    def __init__(self):\n",
    "        self._pos_map = {}\n",
    "    def set_board(self, board: IBoard):\n",
    "        self._board = board\n",
    "    def execute(self):\n",
    "        nx, ny = self._board.get_board().shape\n",
    "        self._left_right(nx, ny)\n",
    "        self._left_right(ny, nx)\n",
    "        return self._pos_map\n",
    "    def _left_right(self, nx, ny):\n",
    "        for i in [0, nx-1]:\n",
    "            for j in range(1, ny):\n",
    "                self._add_nebor((i, j-1), (i,j))\n",
    "        for i in range(1, nx):\n",
    "            for j in [0, ny-1]:\n",
    "                self._add_nebor((i-1, j), (i,j))\n",
    "    def _add_nebor(self, pos1, pos2):\n",
    "        self.get_pos(pos1).nebors.add(self.get_pos(pos2))\n",
    "        self.get_pos(pos2).nebors.add(self.get_pos(pos1))\n",
    "    def get_pos(self, pos):\n",
    "        if pos not in self._pos_map:\n",
    "            self._pos_map[pos] = GridPos(*pos)\n",
    "        return self._pos_map[pos]\n",
    "class PathFind(IOps):\n",
    "    def set_start_point(self, start_pos: tuple):\n",
    "        self._start_pos = start_pos\n",
    "    def set_end_pos(self, end_pos: tuple):\n",
    "        self._final_pos = end_pos\n",
    "    def set_edges(self, edges: dict):\n",
    "        self._edges = edges\n",
    "    def set_board(self, board: IBoard):\n",
    "        self._board = board\n",
    "\n",
    "    def execute(self):\n",
    "        return self._find(self._edges[self._start_pos], set(), [])\n",
    "        \n",
    "    def _find(self, node, visited, path):\n",
    "        visited.add(node.pos)\n",
    "        path.append(node.pos)\n",
    "        if node.pos == self._final_pos:\n",
    "            return path\n",
    "        if node.pos != self._start_pos:\n",
    "            if self._board.get_value_at_pos(node.pos) != 0:\n",
    "                return path\n",
    "        for neb in node.nebors:\n",
    "            if neb.pos in visited:\n",
    "                continue\n",
    "            path = self._find(neb, visited, path)\n",
    "            if path[-1] != self._final_pos:\n",
    "                path = [self._start_pos]\n",
    "            else:\n",
    "                return path\n",
    "        return path\n",
    "class DynamicEdgeUpdater:\n",
    "    def __init__(self):\n",
    "        self._visited = set()\n",
    "        self._pos_map = {}\n",
    "        self._set_one_position_on_edges((0,0))\n",
    "    def set_board(self, board: FlowGrid):\n",
    "        self._board = board\n",
    "    def update(self, path: list):\n",
    "        self._visited = self._visited.union(set(path))\n",
    "        for pos in path:\n",
    "            edegs = self._edge_filter_func(pos)\n",
    "            if len(edegs) > 0:\n",
    "                self._set_one_position_on_edges(edegs.pop()) \n",
    "                break\n",
    "    def _set_one_position_on_edges(self, pos: tuple):\n",
    "        self._first_pos = pos\n",
    "    def get_edges(self):\n",
    "        self._pos_map.clear()\n",
    "        from projects.kami.kami import GraphIterator\n",
    "        gi = GraphIterator()\n",
    "        gi.set_child_func(lambda st, pos: self._edge_filter_func(pos))\n",
    "        gi.set_initial_value(self._first_pos)\n",
    "        for pos in gi:\n",
    "            for neb in self._edge_filter_func(pos):\n",
    "                self._add_nebor(pos, neb)\n",
    "        return self._pos_map\n",
    "    \n",
    "    def _add_nebor(self, pos1, pos2):\n",
    "        self._get_node(pos1).nebors.add(self._get_node(pos2))\n",
    "        self._get_node(pos2).nebors.add(self._get_node(pos1))\n",
    "    \n",
    "    def _get_node(self, pos):\n",
    "        if pos not in self._pos_map:\n",
    "            self._pos_map[pos] = GridPos(*pos)\n",
    "        return self._pos_map[pos]\n",
    "    \n",
    "    def _edge_filter_func(self,pos):\n",
    "        vals = list(filter(lambda x: x not in self._visited, self._board.get_nebors(pos)))\n",
    "        if len(vals) == 2:\n",
    "            return vals\n",
    "        sm = {a: len(list(filter(lambda x: x not in self._visited, self._board.get_nebors(a)))) for a in vals}\n",
    "        return [pos for pos in sm if sm[pos] < 4]\n",
    "class Main:\n",
    "    def path_find(file_inp):\n",
    "        fg = FlowGrid()\n",
    "        fg.load(file_inp)\n",
    "        fg.get_board()\n",
    "\n",
    "        fe = DynamicEdgeUpdater()\n",
    "        fe.set_board(fg)\n",
    "        fe.set_one_position_on_edges((0,0))\n",
    "        edges = fe.get_edges()\n",
    "\n",
    "        epf = EdgePairFinder()\n",
    "        epf.set_board(fg)\n",
    "        epf.set_edges(edges)\n",
    "\n",
    "        print(epf.execute())\n",
    "        a = (0, 4)\n",
    "        b = (3, 0)\n",
    "\n",
    "        pf = PathFind()\n",
    "        pf.set_board(fg)\n",
    "        pf.set_start_point(a)\n",
    "        pf.set_end_pos(b)\n",
    "        pf.set_edges(edges)\n",
    "\n",
    "        print(pf.execute())"
   ]
  },
  {
   "cell_type": "code",
   "execution_count": 4,
   "id": "1396a02d",
   "metadata": {
    "ExecuteTime": {
     "end_time": "2022-04-20T10:13:01.579787Z",
     "start_time": "2022-04-20T10:13:01.570788Z"
    }
   },
   "outputs": [
    {
     "ename": "NameError",
     "evalue": "name 'FlowGrid' is not defined",
     "output_type": "error",
     "traceback": [
      "\u001b[1;31m---------------------------------------------------------------------------\u001b[0m",
      "\u001b[1;31mNameError\u001b[0m                                 Traceback (most recent call last)",
      "\u001b[1;32m~\\AppData\\Local\\Temp/ipykernel_15424/1783316610.py\u001b[0m in \u001b[0;36m<module>\u001b[1;34m\u001b[0m\n\u001b[1;32m----> 1\u001b[1;33m \u001b[0mfg\u001b[0m \u001b[1;33m=\u001b[0m \u001b[0mFlowGrid\u001b[0m\u001b[1;33m(\u001b[0m\u001b[1;33m)\u001b[0m\u001b[1;33m\u001b[0m\u001b[1;33m\u001b[0m\u001b[0m\n\u001b[0m\u001b[0;32m      2\u001b[0m \u001b[0mfg\u001b[0m\u001b[1;33m.\u001b[0m\u001b[0mset_data\u001b[0m\u001b[1;33m(\u001b[0m\u001b[1;33m[\u001b[0m\u001b[1;33m[\u001b[0m\u001b[1;36m1\u001b[0m\u001b[1;33m,\u001b[0m \u001b[1;36m0\u001b[0m\u001b[1;33m,\u001b[0m \u001b[1;36m2\u001b[0m\u001b[1;33m,\u001b[0m \u001b[1;36m0\u001b[0m\u001b[1;33m,\u001b[0m \u001b[1;36m3\u001b[0m\u001b[1;33m]\u001b[0m\u001b[1;33m,\u001b[0m \u001b[1;33m[\u001b[0m\u001b[1;36m0\u001b[0m\u001b[1;33m,\u001b[0m \u001b[1;36m0\u001b[0m\u001b[1;33m,\u001b[0m \u001b[1;36m4\u001b[0m\u001b[1;33m,\u001b[0m \u001b[1;36m0\u001b[0m\u001b[1;33m,\u001b[0m \u001b[1;36m5\u001b[0m\u001b[1;33m]\u001b[0m\u001b[1;33m,\u001b[0m \u001b[1;33m[\u001b[0m\u001b[1;36m0\u001b[0m\u001b[1;33m,\u001b[0m \u001b[1;36m0\u001b[0m\u001b[1;33m,\u001b[0m \u001b[1;36m0\u001b[0m\u001b[1;33m,\u001b[0m \u001b[1;36m0\u001b[0m\u001b[1;33m,\u001b[0m \u001b[1;36m0\u001b[0m\u001b[1;33m]\u001b[0m\u001b[1;33m,\u001b[0m \u001b[1;33m[\u001b[0m\u001b[1;36m0\u001b[0m\u001b[1;33m,\u001b[0m \u001b[1;36m2\u001b[0m\u001b[1;33m,\u001b[0m \u001b[1;36m0\u001b[0m\u001b[1;33m,\u001b[0m \u001b[1;36m3\u001b[0m\u001b[1;33m,\u001b[0m \u001b[1;36m0\u001b[0m\u001b[1;33m]\u001b[0m\u001b[1;33m,\u001b[0m \u001b[1;33m[\u001b[0m\u001b[1;36m0\u001b[0m\u001b[1;33m,\u001b[0m \u001b[1;36m1\u001b[0m\u001b[1;33m,\u001b[0m \u001b[1;36m4\u001b[0m\u001b[1;33m,\u001b[0m \u001b[1;36m5\u001b[0m\u001b[1;33m,\u001b[0m \u001b[1;36m0\u001b[0m\u001b[1;33m]\u001b[0m\u001b[1;33m]\u001b[0m\u001b[1;33m)\u001b[0m\u001b[1;33m\u001b[0m\u001b[1;33m\u001b[0m\u001b[0m\n",
      "\u001b[1;31mNameError\u001b[0m: name 'FlowGrid' is not defined"
     ]
    }
   ],
   "source": [
    "fg = FlowGrid()\n",
    "fg.set_data([[1, 0, 2, 0, 3], [0, 0, 4, 0, 5], [0, 0, 0, 0, 0], [0, 2, 0, 3, 0], [0, 1, 4, 5, 0]])\n"
   ]
  },
  {
   "cell_type": "code",
   "execution_count": 3,
   "id": "b1b2a5d9",
   "metadata": {
    "ExecuteTime": {
     "end_time": "2022-04-20T10:13:28.424860Z",
     "start_time": "2022-04-20T10:13:28.390838Z"
    }
   },
   "outputs": [
    {
     "ename": "NameError",
     "evalue": "name 'DynamicEdgeUpdater' is not defined",
     "output_type": "error",
     "traceback": [
      "\u001b[1;31m---------------------------------------------------------------------------\u001b[0m",
      "\u001b[1;31mNameError\u001b[0m                                 Traceback (most recent call last)",
      "\u001b[1;32m~\\AppData\\Local\\Temp/ipykernel_15424/1667311377.py\u001b[0m in \u001b[0;36m<module>\u001b[1;34m\u001b[0m\n\u001b[1;32m----> 1\u001b[1;33m \u001b[0mfe\u001b[0m \u001b[1;33m=\u001b[0m \u001b[0mDynamicEdgeUpdater\u001b[0m\u001b[1;33m(\u001b[0m\u001b[1;33m)\u001b[0m\u001b[1;33m\u001b[0m\u001b[1;33m\u001b[0m\u001b[0m\n\u001b[0m\u001b[0;32m      2\u001b[0m \u001b[0mfe\u001b[0m\u001b[1;33m.\u001b[0m\u001b[0mset_board\u001b[0m\u001b[1;33m(\u001b[0m\u001b[0mfg\u001b[0m\u001b[1;33m)\u001b[0m\u001b[1;33m\u001b[0m\u001b[1;33m\u001b[0m\u001b[0m\n\u001b[0;32m      3\u001b[0m \u001b[1;31m# fe.set_one_position_on_edges((0,0))\u001b[0m\u001b[1;33m\u001b[0m\u001b[1;33m\u001b[0m\u001b[0m\n\u001b[0;32m      4\u001b[0m \u001b[0medges\u001b[0m \u001b[1;33m=\u001b[0m \u001b[0mfe\u001b[0m\u001b[1;33m.\u001b[0m\u001b[0mget_edges\u001b[0m\u001b[1;33m(\u001b[0m\u001b[1;33m)\u001b[0m\u001b[1;33m\u001b[0m\u001b[1;33m\u001b[0m\u001b[0m\n\u001b[0;32m      5\u001b[0m \u001b[1;33m\u001b[0m\u001b[0m\n",
      "\u001b[1;31mNameError\u001b[0m: name 'DynamicEdgeUpdater' is not defined"
     ]
    }
   ],
   "source": [
    "fe = DynamicEdgeUpdater()\n",
    "fe.set_board(fg)\n",
    "# fe.set_one_position_on_edges((0,0))\n",
    "edges = fe.get_edges()\n",
    "\n",
    "epf = EdgePairFinder()\n",
    "epf.set_board(fg)\n",
    "epf.set_edges(edges)\n",
    "\n",
    "print(epf.execute())\n",
    "a = (4, 3)\n",
    "b = (1, 4)\n",
    "\n",
    "pf = PathFind()\n",
    "pf.set_board(fg)\n",
    "pf.set_start_point(a)\n",
    "pf.set_end_pos(b)\n",
    "pf.set_edges(edges)\n",
    "\n",
    "path=pf.execute()\n",
    "print(path)\n"
   ]
  },
  {
   "cell_type": "code",
   "execution_count": 34,
   "id": "6dcbac75",
   "metadata": {
    "ExecuteTime": {
     "end_time": "2022-04-20T10:26:38.662102Z",
     "start_time": "2022-04-20T10:26:38.644104Z"
    }
   },
   "outputs": [],
   "source": [
    "def colorizePath(img,path,MidPointOf1stBox=(60,60),lengthOfBox=115):\n",
    "    def getCoordinate(point):\n",
    "        x,y=MidPointOf1stBox[0],MidPointOf1stBox[1]\n",
    "        return x+lengthOfBox*point[1],y+lengthOfBox*point[0]\n",
    "    initialP=getCoordinate(path[0])\n",
    "    color=img[(initialP[1],initialP[0])]\n",
    "    print(color)\n",
    "    print(initialP)\n",
    "    for i in range(1,len(path)):\n",
    "        finalP=getCoordinate(path[i])\n",
    "        cv2.line(img,initialP,finalP,(int(color[0]),int(color[1]),int(color[2])),20)\n",
    "        initialP=finalP\n",
    "    "
   ]
  },
  {
   "cell_type": "code",
   "execution_count": 1,
   "id": "c1a736b5",
   "metadata": {},
   "outputs": [],
   "source": [
    "class Box:\n",
    "    def set_MidPointOf1stBox(self,point:tuple):\n",
    "        self.pos=point\n",
    "    def set_lengthOfBox(self,size:int):\n",
    "        self.size=size\n",
    "    \n",
    "class ColorizePath:\n",
    "    def set_path(self,path:list):\n",
    "        self.path=path\n",
    "    def colorit(self,img,box:Box):\n",
    "        def getCoordinate(point):\n",
    "            x,y=box.pos[0],box.pos[1]\n",
    "            return x+box.size*point[1],y+box.size*point[0]\n",
    "        initialP=getCoordinate(path[0])\n",
    "        color=img[(initialP[1],initialP[0])]\n",
    "        for i in range(1,len(path)):\n",
    "            finalP=getCoordinate(path[i])\n",
    "            cv2.line(img,initialP,finalP,(int(color[0]),int(color[1]),int(color[2])),30)\n",
    "            initialP=finalP\n",
    "\n"
   ]
  },
  {
   "cell_type": "code",
   "execution_count": 2,
   "id": "f0faf8b2",
   "metadata": {},
   "outputs": [],
   "source": [
    "import cv2\n",
    "\n",
    "box=Box()\n",
    "box.set_MidPointOf1stBox((60,60))\n",
    "box.set_lengthOfBox(115)\n",
    "\n",
    "cp=ColorizePath()\n",
    "path=[(4, 3), (4, 4), (3, 4), (2, 4), (1, 4)]\n",
    "cp.set_path(path)\n",
    "img =cv2.imread('pic.png',1)\n",
    "cp.colorit(img,box)\n",
    "\n",
    "cv2.imshow('original',img)\n",
    "cv2.waitKey(0)\n",
    "cv2.destroyAllWindows()"
   ]
  },
  {
   "cell_type": "code",
   "execution_count": 35,
   "id": "4a3178b1",
   "metadata": {},
   "outputs": [
    {
     "name": "stdout",
     "output_type": "stream",
     "text": [
      "[(0, 0), (1, 0), (2, 0), (3, 0), (4, 0), (4, 1)]\n"
     ]
    }
   ],
   "source": [
    "class Sample:\n",
    "    def testCase1(self):\n",
    "        box=Box()\n",
    "        box.set_MidPointOf1stBox((60,60))\n",
    "        box.set_lengthOfBox(115)\n",
    "\n",
    "        cp=ColorizePath()\n",
    "        path=[(4, 3), (4, 4), (3, 4), (2, 4), (1, 4)]\n",
    "        cp.set_path(path)\n",
    "        img =cv2.imread('pic.png',1)\n",
    "        cp.colorit(img,box)\n",
    "\n",
    "        cv2.imshow('original',img)\n",
    "        cv2.waitKey(0)\n",
    "        cv2.destroyAllWindows()\n",
    "    def Addcolor(self,img,path):\n",
    "        box=Box()\n",
    "        box.set_MidPointOf1stBox((60,60))\n",
    "        box.set_lengthOfBox(115)\n",
    "\n",
    "        cp=ColorizePath()\n",
    "        cp.set_path(path)\n",
    "        cp.colorit(img,box)\n",
    "\n",
    "        return img\n",
    "\n",
    "\n",
    "s1=Sample()\n",
    "# s1.testCase1()\n",
    "img =cv2.imread('pic.png',1)\n",
    "path=[(4, 3), (4, 4), (3, 4), (2, 4), (1, 4)]\n",
    "s1.Addcolor(img,path)\n",
    "while True:\n",
    "    cv2.imshow('original',img)\n",
    "    cv2.waitKey(100)\n",
    "    p=input()\n",
    "    if p=='':\n",
    "        break\n",
    "    else:\n",
    "        try:\n",
    "            p=eval(p)\n",
    "            img=s1.Addcolor(img,p)\n",
    "            cv2.destroyAllWindows()\n",
    "        except:\n",
    "            pass\n",
    "        print(p)\n",
    "cv2.destroyAllWindows()"
   ]
  },
  {
   "cell_type": "code",
   "execution_count": 20,
   "id": "fa293eb9",
   "metadata": {},
   "outputs": [
    {
     "name": "stdout",
     "output_type": "stream",
     "text": [
      "[(4, 3), (4, 4), (3, 4), (2, 4), (1, 4)]\n"
     ]
    }
   ],
   "source": [
    "print(path)\n",
    "cv2.imshow('original',img)\n",
    "cv2.waitKey(0)\n",
    "cv2.destroyAllWindows()\n"
   ]
  },
  {
   "cell_type": "code",
   "execution_count": 21,
   "id": "1fa40bd1",
   "metadata": {},
   "outputs": [
    {
     "data": {
      "text/plain": [
       "[(0, 0), (1, 0), (2, 0), (3, 0), (4, 0), (4, 1)]"
      ]
     },
     "execution_count": 21,
     "metadata": {},
     "output_type": "execute_result"
    }
   ],
   "source": [
    "[(0,0),(1,0),(2,0),(3,0),(4,0),(4,1)]"
   ]
  },
  {
   "cell_type": "code",
   "execution_count": 8,
   "id": "e321e186",
   "metadata": {},
   "outputs": [
    {
     "name": "stdout",
     "output_type": "stream",
     "text": [
      "C:\\Users\\19410\\anaconda3\\python.exe\n",
      "3.9.7 (default, Sep 16 2021, 16:59:28) [MSC v.1916 64 bit (AMD64)]\n",
      "sys.version_info(major=3, minor=9, micro=7, releaselevel='final', serial=0)\n"
     ]
    }
   ],
   "source": [
    "import sys\n",
    "print(sys.executable)\n",
    "print(sys.version)\n",
    "print(sys.version_info)"
   ]
  },
  {
   "cell_type": "code",
   "execution_count": 38,
   "id": "2f11926a",
   "metadata": {
    "ExecuteTime": {
     "end_time": "2022-04-20T10:26:52.251840Z",
     "start_time": "2022-04-20T10:26:39.185464Z"
    }
   },
   "outputs": [
    {
     "name": "stdout",
     "output_type": "stream",
     "text": [
      "[  0   0 255]\n",
      "(60, 60)\n"
     ]
    }
   ],
   "source": [
    "import cv2\n",
    "img =cv2.imread('pic.png',1)\n",
    "colorizePath(img,path)\n",
    "\n",
    "cv2.imshow('original',img)\n",
    "cv2.waitKey(0)\n",
    "cv2.destroyAllWindows()"
   ]
  },
  {
   "cell_type": "code",
   "execution_count": 28,
   "id": "bcbd0365",
   "metadata": {},
   "outputs": [],
   "source": [
    "# cv2.circle(img,(520,405),3,(255,255,255),5)\n",
    "# cv2.imshow('original',img)\n",
    "# cv2.waitKey(0)\n",
    "# cv2.destroyAllWindows()"
   ]
  },
  {
   "cell_type": "code",
   "execution_count": 11,
   "id": "405dc51a",
   "metadata": {},
   "outputs": [
    {
     "name": "stdout",
     "output_type": "stream",
     "text": [
      "(1, 2)\n"
     ]
    }
   ],
   "source": [
    "def test(* a):\n",
    "    print(a)\n",
    "test(1, 2)"
   ]
  },
  {
   "cell_type": "code",
   "execution_count": 12,
   "id": "58f46882",
   "metadata": {},
   "outputs": [
    {
     "name": "stdout",
     "output_type": "stream",
     "text": [
      "{'a': 1, 'b': 2}\n"
     ]
    }
   ],
   "source": [
    "def test2(**a):\n",
    "    print(a)\n",
    "test2(a=1,b =2)"
   ]
  },
  {
   "cell_type": "code",
   "execution_count": 13,
   "id": "0c7b9fc4",
   "metadata": {},
   "outputs": [
    {
     "name": "stdout",
     "output_type": "stream",
     "text": [
      "(1, 2)\n",
      "{}\n"
     ]
    }
   ],
   "source": [
    "def test3(*a, **b):\n",
    "    print(a)\n",
    "    print(b)\n",
    "\n",
    "test3(1,2)\n",
    "\n"
   ]
  },
  {
   "cell_type": "code",
   "execution_count": 14,
   "id": "5dedb20a",
   "metadata": {},
   "outputs": [
    {
     "name": "stdout",
     "output_type": "stream",
     "text": [
      "(1, 23, 4)\n",
      "{'c': 2}\n"
     ]
    }
   ],
   "source": [
    "test3(1,23,4, c=2)"
   ]
  },
  {
   "cell_type": "code",
   "execution_count": null,
   "id": "32f24d20",
   "metadata": {},
   "outputs": [],
   "source": []
  }
 ],
 "metadata": {
  "interpreter": {
   "hash": "649e9a488baa9f755be1bd774174f13c00c6eb61d6f5988e2904ab6e22ac3fc0"
  },
  "kernelspec": {
   "display_name": "Python 3.9.7 ('base')",
   "language": "python",
   "name": "python3"
  },
  "language_info": {
   "codemirror_mode": {
    "name": "ipython",
    "version": 3
   },
   "file_extension": ".py",
   "mimetype": "text/x-python",
   "name": "python",
   "nbconvert_exporter": "python",
   "pygments_lexer": "ipython3",
   "version": "3.9.12"
  },
  "varInspector": {
   "cols": {
    "lenName": 16,
    "lenType": 16,
    "lenVar": 40
   },
   "kernels_config": {
    "python": {
     "delete_cmd_postfix": "",
     "delete_cmd_prefix": "del ",
     "library": "var_list.py",
     "varRefreshCmd": "print(var_dic_list())"
    },
    "r": {
     "delete_cmd_postfix": ") ",
     "delete_cmd_prefix": "rm(",
     "library": "var_list.r",
     "varRefreshCmd": "cat(var_dic_list()) "
    }
   },
   "types_to_exclude": [
    "module",
    "function",
    "builtin_function_or_method",
    "instance",
    "_Feature"
   ],
   "window_display": false
  }
 },
 "nbformat": 4,
 "nbformat_minor": 5
}
