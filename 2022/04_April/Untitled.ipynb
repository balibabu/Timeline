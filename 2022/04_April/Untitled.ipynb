{
 "cells": [
  {
   "cell_type": "code",
   "execution_count": 1,
   "id": "dd5dc912",
   "metadata": {
    "ExecuteTime": {
     "end_time": "2022-04-19T22:04:39.779170Z",
     "start_time": "2022-04-19T22:04:39.716178Z"
    }
   },
   "outputs": [],
   "source": [
    "from LibPath import *\n",
    "exec(runBasic())"
   ]
  },
  {
   "cell_type": "code",
   "execution_count": 4,
   "id": "7eda80e9",
   "metadata": {},
   "outputs": [],
   "source": [
    "import sys\n",
    "sys.path.insert(0, r\"D:\\Works_Space\\Global\\Rlib\")"
   ]
  },
  {
   "cell_type": "code",
   "execution_count": 5,
   "id": "6367b20a",
   "metadata": {},
   "outputs": [],
   "source": [
    "from FileDatabase import File"
   ]
  },
  {
   "cell_type": "code",
   "execution_count": 4,
   "id": "6b8539f6",
   "metadata": {
    "ExecuteTime": {
     "end_time": "2022-04-19T21:19:22.346231Z",
     "start_time": "2022-04-19T21:19:22.333230Z"
    },
    "code_folding": [
     0
    ]
   },
   "outputs": [],
   "source": [
    "# try:\n",
    "#     while True:\n",
    "#         x,y=pg.position()\n",
    "        \n",
    "\n",
    "# except KeyboardInterrupt:\n",
    "#     print(\"\\nDone...\")"
   ]
  },
  {
   "cell_type": "markdown",
   "id": "55dc29bb",
   "metadata": {
    "ExecuteTime": {
     "end_time": "2022-04-18T09:46:23.333034Z",
     "start_time": "2022-04-18T09:46:23.326035Z"
    }
   },
   "source": [
    "### Practice"
   ]
  },
  {
   "cell_type": "code",
   "execution_count": 3,
   "id": "3c0a1310",
   "metadata": {
    "ExecuteTime": {
     "end_time": "2022-04-19T21:22:31.396125Z",
     "start_time": "2022-04-19T21:22:31.377120Z"
    },
    "code_folding": [
     0,
     11,
     19,
     25,
     34
    ]
   },
   "outputs": [],
   "source": [
    "def soundTester():\n",
    "    print('place your cursor at left edge of screen to stop')\n",
    "    import winsound\n",
    "    while True:\n",
    "        x,y=pg.position()\n",
    "        if x<38:\n",
    "            break\n",
    "        print_no_newline('current sound has '+str(x)+' Hz')\n",
    "        winsound.Beep(x,500)\n",
    "        time.sleep(.5)\n",
    "\n",
    "def playSound(filename,location=None):\n",
    "    import os\n",
    "    try:\n",
    "        os.system(filename)\n",
    "    except:\n",
    "        print('some error occured')\n",
    "    time.sleep(3.5)\n",
    "    \n",
    "def print_no_newline(string):\n",
    "    import sys\n",
    "    sys.stdout.write(\"\\r\")\n",
    "    sys.stdout.write(string)\n",
    "    sys.stdout.flush()\n",
    "    \n",
    "def countDown(sec):\n",
    "    import winsound\n",
    "    for i in range(sec,0,-1):\n",
    "        print_no_newline(str(i))\n",
    "        winsound.Beep(600,500)\n",
    "        time.sleep(.5)\n",
    "    print_no_newline('0')\n",
    "    winsound.Beep(800,800)\n",
    "    \n",
    "def getPosition(delay=3):\n",
    "    print(f'place your cursor tip to get the location under {delay} beeps')\n",
    "#     playSound('voice1.mp3')\n",
    "    countDown(delay)\n",
    "    return tuple(pg.position())"
   ]
  },
  {
   "cell_type": "markdown",
   "id": "def1aab5",
   "metadata": {},
   "source": [
    "## My Custom Class"
   ]
  },
  {
   "cell_type": "code",
   "execution_count": 189,
   "id": "d263322c",
   "metadata": {
    "ExecuteTime": {
     "end_time": "2022-04-18T11:27:02.546757Z",
     "start_time": "2022-04-18T11:27:02.530992Z"
    },
    "code_folding": [
     0
    ]
   },
   "outputs": [],
   "source": [
    "class MyOpenCV:\n",
    "    \n",
    "    def readImage(self,name,location=None):\n",
    "        if location is not None:\n",
    "            name=location+'\\\\'+name\n",
    "        self.img=cv2.imread(name,1)\n",
    "        return self.img\n",
    "    \n",
    "    def showImage(self,img=None,windowName='showing',duration=0):\n",
    "        if img is None:\n",
    "            img=self.img\n",
    "        cv2.imshow(windowName,img)\n",
    "        cv2.waitKey(duration)\n",
    "        cv2.destroyAllWindows()\n",
    "    \n",
    "    def getColorAt(self,position=(0,0),img=None):\n",
    "        if img is None:\n",
    "            img=self.img\n",
    "        b,g,r = (img[position[1], position[0]])\n",
    "        return (b,g,r)"
   ]
  },
  {
   "cell_type": "code",
   "execution_count": 10,
   "id": "61929c5e",
   "metadata": {
    "ExecuteTime": {
     "end_time": "2022-04-18T15:46:53.136546Z",
     "start_time": "2022-04-18T15:46:53.120832Z"
    },
    "code_folding": [
     0
    ]
   },
   "outputs": [],
   "source": [
    "class MyAytoGUI:\n",
    "    def print_no_newline(string):\n",
    "        import sys\n",
    "        sys.stdout.write(\"\\r\")\n",
    "        sys.stdout.write(string)\n",
    "        sys.stdout.flush()\n",
    "\n",
    "    def countDown(sec):\n",
    "        import winsound\n",
    "        for i in range(sec,0,-1):\n",
    "            print_no_newline(str(i))\n",
    "            winsound.Beep(600,400)\n",
    "            time.sleep(.6)\n",
    "        print_no_newline('0')\n",
    "        winsound.Beep(800,800)\n",
    "\n",
    "    def getPosition(delay=3):\n",
    "        print(f'place your cursor tip to get the location in {delay} beeps')\n",
    "        countDown(delay)\n",
    "        return tuple(pg.position())"
   ]
  },
  {
   "cell_type": "code",
   "execution_count": 14,
   "id": "74b16bcf",
   "metadata": {
    "ExecuteTime": {
     "end_time": "2022-04-19T21:26:53.600615Z",
     "start_time": "2022-04-19T21:26:53.590616Z"
    },
    "code_folding": [
     0
    ]
   },
   "outputs": [],
   "source": [
    "# p=MyAytoGUI()\n",
    "# point=p.getPosition()\n",
    "# point"
   ]
  },
  {
   "cell_type": "code",
   "execution_count": 191,
   "id": "24635a19",
   "metadata": {
    "ExecuteTime": {
     "end_time": "2022-04-18T11:27:10.425330Z",
     "start_time": "2022-04-18T11:27:06.247961Z"
    },
    "code_folding": [
     0
    ]
   },
   "outputs": [
    {
     "data": {
      "text/plain": [
       "(19, 19, 19)"
      ]
     },
     "execution_count": 191,
     "metadata": {},
     "output_type": "execute_result"
    }
   ],
   "source": [
    "# obj=MyOpenCV()\n",
    "# obj.readImage('temp.png',r'C:\\Users\\19410\\My Drive\\Raju Dai\\current')\n",
    "# obj.showImage()\n",
    "# obj.getColorAt((500,20))"
   ]
  },
  {
   "cell_type": "code",
   "execution_count": null,
   "id": "2c2857fb",
   "metadata": {
    "code_folding": [
     0
    ]
   },
   "outputs": [],
   "source": [
    "#     while True:\n",
    "#         x, y = pyautogui.position()\n",
    "#         pixelColor = pyautogui.screenshot().getpixel((x, y))\n",
    "#         ss = 'X: ' + str(x).rjust(4) + ' Y: ' + str(y).rjust(4)\n",
    "#         ss += ' RGB: (' + str(pixelColor[0]).rjust(3)\n",
    "#         ss += ', ' + str(pixelColor[1]).rjust(3)\n",
    "#         ss += ', ' + str(pixelColor[2]).rjust(3) + ')'\n",
    "#         print_no_newline(ss)\n",
    "#         time.sleep(1.0)"
   ]
  },
  {
   "cell_type": "code",
   "execution_count": 2,
   "id": "d42f3404",
   "metadata": {
    "ExecuteTime": {
     "end_time": "2022-04-19T22:05:52.392774Z",
     "start_time": "2022-04-19T22:05:52.363259Z"
    },
    "code_folding": []
   },
   "outputs": [],
   "source": [
    "import pyautogui as pg\n",
    "import time\n",
    "from FileDatabase import File\n",
    "import cv2\n",
    "\n",
    "class Image:\n",
    "    def set_img_path(self, name: str):\n",
    "        self._path = name\n",
    "        self._data = cv2.imread(name,1)\n",
    "    @property\n",
    "    def data(self):\n",
    "        return self._data\n",
    "    def show(self,img):\n",
    "        cv2.imshow('showing window',img)\n",
    "        cv2.waitKey(0)\n",
    "        cv2.destroyAllWindows()\n",
    "\n",
    "class ArrayFromImage:\n",
    "    def __init__(self):\n",
    "        self.set_top_left((0, 0))\n",
    "        self.set_bottom_right((570, 570))\n",
    "    def set_image(self, img: Image):\n",
    "        self._img = img\n",
    "    def set_dimension(self, dim:tuple):\n",
    "        self._dim = dim\n",
    "    def set_top_left(self, point: tuple):\n",
    "        self._p1 = point\n",
    "    def set_bottom_right(self, point: tuple):\n",
    "        self._p2 = point\n",
    "    def getArray(self):\n",
    "        size = self._dim[0]\n",
    "        point1 = self._p1\n",
    "        point2 = self._p2\n",
    "\n",
    "        gap= (point2[0]-point1[0]) // size\n",
    "        mid=gap//2\n",
    "        midPoint=(point1[0]+mid,point1[1]+mid)\n",
    "\n",
    "        arr=[]\n",
    "        for i in range(size):\n",
    "            row=[]\n",
    "            for j in range(size):\n",
    "                point = (midPoint[0]+gap*j, midPoint[1]+gap*i)\n",
    "                b,g,r = (self._img.data[point[1], point[0]])\n",
    "                row.append((b,g,r))\n",
    "            arr.append(row)\n",
    "        return self._getColorCode(arr)\n",
    "\n",
    "    def _getColorCode(self,arr):\n",
    "        from itertools import chain\n",
    "        flatten_list = list(chain.from_iterable(arr))\n",
    "\n",
    "        for i in range(len(flatten_list)):\n",
    "            if max(flatten_list[i]) < 50 or flatten_list.count(flatten_list[i])!=2:\n",
    "                flatten_list[i]=0\n",
    "        c=1\n",
    "        for i in range(len(flatten_list)):\n",
    "            if type(flatten_list[i])==tuple:\n",
    "                temp=flatten_list[i]\n",
    "                flatten_list[i]=c\n",
    "                pos=flatten_list.index(temp)\n",
    "                flatten_list[pos]=c\n",
    "                c+=1\n",
    "        new_arr=[[0 for i in range(len(arr))] for j in range(len(arr[0]))]\n",
    "        for i in range(len(arr)):\n",
    "            for j in range(len(arr[i])):\n",
    "                new_arr[i][j]=flatten_list[i*len(arr[0])+j]\n",
    "        return new_arr\n",
    "    def save(self, filename: str):\n",
    "        if filename.endswith(filename):\n",
    "            filename += \".txt\"\n",
    "        File.createFile(filename, str(self.getArray()))\n",
    "class IPosition:\n",
    "    def get_position(self):\n",
    "        pass\n",
    "    def about(self):\n",
    "        pass\n",
    "class IConfigurable:\n",
    "    def set_position(self, pos: tuple):\n",
    "        pass\n",
    "class GConfPos(IPosition, IConfigurable):\n",
    "    def get_position(self):\n",
    "        return self._pos\n",
    "    def set_position(self, pos: tuple):\n",
    "        self._pos = pos\n",
    "class GoBack(GConfPos):\n",
    "    def about(self):\n",
    "        return \"position pixel of back method\"\n",
    "class CalculableLevelPos(IPosition):\n",
    "    def set_level1_box_position(self, box1: IPosition):\n",
    "        self._b1_pos = box1\n",
    "    def set_indices(self, pos: tuple):\n",
    "        self._pos = pos\n",
    "    def get_position(self):\n",
    "        i, j = self._pos\n",
    "        x,y = self._b1_pos.get_position()\n",
    "        return x + 82*j, y + 82*i\n",
    "class TopLeftPlayArea(GConfPos):\n",
    "    def about(self):\n",
    "        return \"top left point of play area\"\n",
    "class Level1SmallBoxPosition(GConfPos):\n",
    "    def about(self):\n",
    "        return \"in level sections, position of first level box\"\n",
    "class CentralRandomPosition(GConfPos):\n",
    "    def about(self):\n",
    "        return \"random position on the game area screen\"\n",
    "\n",
    "class FlowAutoLevelExtraction:\n",
    "    def __init__(self):\n",
    "        self._goback =GoBack()\n",
    "        self._lvl1pos = Level1SmallBoxPosition()\n",
    "        self._topleft = TopLeftPlayArea()\n",
    "        self._crp = CentralRandomPosition()\n",
    "        self._cal_pos = CalculableLevelPos()\n",
    "        self._cal_pos.set_level1_box_position(self._lvl1pos)\n",
    "\n",
    "    def scanStoreData(self,nof_pages=5):\n",
    "        for i in range(1,nof_pages+1):\n",
    "            self._singlePage(page=i,boardSize=4+i)\n",
    "            pg.mouseDown(*self._crp.get_position(),button='left')\n",
    "            pg.moveRel(-200,0,.2)\n",
    "            pg.mouseUp()\n",
    "            time.sleep(0.5)\n",
    "\n",
    "    def _singlePage(self,page,boardSize,row=6,col=5):\n",
    "        afi = ArrayFromImage()\n",
    "        img = Image()\n",
    "        board_dim = (570, 570)\n",
    "        afi.set_dimension(board_dim)\n",
    "        for i in range(row):\n",
    "            for j in range(col):\n",
    "                self._cal_pos.set_indices((i, j))\n",
    "                x,y= self._cal_pos.get_position()\n",
    "                pg.click(x,y,duration=0.5)\n",
    "                pg.moveTo(*self._goback.get_position(),0.35)\n",
    "                pg.screenshot('temp.png',region=(*self._topleft.get_position(), *board_dim))\n",
    "                time.sleep(.3)\n",
    "                img.set_img_path(\"temp.png\")\n",
    "                afi.set_image(img)\n",
    "                afi.save('page'+str(page)+'-game'+str(col*i+j+1))\n",
    "                pg.click(*self._goback.get_position())\n",
    "\n",
    "    def readGameData(self,page,game,location=r\"C:\\Users\\19410\\My Drive\\Raju Dai\\current\\gameData\"):\n",
    "        name=location+'\\\\'+'page'+str(page)+'-game'+str(game)+'.txt'\n",
    "        return eval(File.getFileContent(name))\n",
    "\n",
    "class Main:\n",
    "    def extract_array(img_path,top_left, bottom_right, dim = (5,5)):\n",
    "        afi = ArrayFromImage()\n",
    "        img = Image()\n",
    "        img.set_img_path(img_path)   \n",
    "        afi.set_image(img)\n",
    "        afi.set_top_left(top_left)\n",
    "        afi.set_bottom_right(bottom_right)\n",
    "        afi.set_dimension(dim)\n",
    "        return afi.getArray()\n",
    "    def automate_extraction(goback_pos,\n",
    "                            level1_box_position,\n",
    "                            random_pos_on_game_area,\n",
    "                            top_left_board_area_pos ):\n",
    "        fale = FlowAutoLevelExtraction()\n",
    "        fale._goback.set_position(goback_pos)\n",
    "        fale._lvl1pos.set_position(level1_box_position)\n",
    "        fale._crp.set_position(random_pos_on_game_area)\n",
    "        fale._topleft.set_position(top_left_board_area_pos)\n",
    "        fale.scanStoreData()\n",
    "\n"
   ]
  },
  {
   "cell_type": "code",
   "execution_count": 1,
   "id": "17844d11",
   "metadata": {
    "ExecuteTime": {
     "end_time": "2022-04-20T08:48:07.975494Z",
     "start_time": "2022-04-20T08:48:07.959492Z"
    }
   },
   "outputs": [],
   "source": [
    "# Main.automate_extraction((1300, 90),(1390, 358),(1720, 799),(1268, 265))"
   ]
  },
  {
   "cell_type": "code",
   "execution_count": 4,
   "id": "d4f9cdad",
   "metadata": {
    "ExecuteTime": {
     "end_time": "2022-04-19T22:35:03.025539Z",
     "start_time": "2022-04-19T22:35:03.012538Z"
    }
   },
   "outputs": [
    {
     "data": {
      "text/plain": [
       "[[0, 0, 0, 0, 0, 0, 1, 2, 3],\n",
       " [0, 4, 0, 0, 0, 0, 0, 0, 0],\n",
       " [5, 0, 0, 1, 0, 0, 0, 0, 0],\n",
       " [0, 0, 0, 2, 0, 0, 0, 0, 0],\n",
       " [0, 3, 0, 0, 0, 0, 0, 6, 0],\n",
       " [0, 0, 0, 0, 7, 0, 0, 0, 0],\n",
       " [0, 0, 0, 0, 0, 0, 8, 0, 8],\n",
       " [0, 0, 0, 5, 0, 0, 7, 6, 9],\n",
       " [4, 0, 0, 0, 0, 9, 0, 0, 0]]"
      ]
     },
     "execution_count": 4,
     "metadata": {},
     "output_type": "execute_result"
    }
   ],
   "source": [
    "Main.extract_array('temp.png',(0, 0),(570, 570),(9,9))"
   ]
  },
  {
   "cell_type": "code",
   "execution_count": null,
   "id": "c6c8e157",
   "metadata": {},
   "outputs": [],
   "source": []
  }
 ],
 "metadata": {
  "kernelspec": {
   "display_name": "Python 3 (ipykernel)",
   "language": "python",
   "name": "python3"
  },
  "language_info": {
   "codemirror_mode": {
    "name": "ipython",
    "version": 3
   },
   "file_extension": ".py",
   "mimetype": "text/x-python",
   "name": "python",
   "nbconvert_exporter": "python",
   "pygments_lexer": "ipython3",
   "version": "3.9.7"
  },
  "varInspector": {
   "cols": {
    "lenName": 16,
    "lenType": 16,
    "lenVar": 40
   },
   "kernels_config": {
    "python": {
     "delete_cmd_postfix": "",
     "delete_cmd_prefix": "del ",
     "library": "var_list.py",
     "varRefreshCmd": "print(var_dic_list())"
    },
    "r": {
     "delete_cmd_postfix": ") ",
     "delete_cmd_prefix": "rm(",
     "library": "var_list.r",
     "varRefreshCmd": "cat(var_dic_list()) "
    }
   },
   "position": {
    "height": "450.85px",
    "left": "816.333px",
    "right": "20px",
    "top": "325px",
    "width": "347.667px"
   },
   "types_to_exclude": [
    "module",
    "function",
    "builtin_function_or_method",
    "instance",
    "_Feature"
   ],
   "window_display": false
  }
 },
 "nbformat": 4,
 "nbformat_minor": 5
}
