{
 "cells": [
  {
   "cell_type": "markdown",
   "metadata": {},
   "source": [
    "## <font face='comic sans ms' color ='yellow'>initial</font>"
   ]
  },
  {
   "cell_type": "code",
   "execution_count": null,
   "metadata": {},
   "outputs": [],
   "source": [
    "import cv2"
   ]
  },
  {
   "cell_type": "code",
   "execution_count": null,
   "metadata": {},
   "outputs": [],
   "source": [
    "img=cv2.imread('plus.png',0)"
   ]
  },
  {
   "cell_type": "code",
   "execution_count": null,
   "metadata": {},
   "outputs": [],
   "source": [
    "cv2.imshow('window',img)\n",
    "cv2.waitKey(0)\n",
    "cv2.destroyAllWindows()"
   ]
  },
  {
   "cell_type": "code",
   "execution_count": null,
   "metadata": {},
   "outputs": [],
   "source": [
    "img.shape"
   ]
  },
  {
   "cell_type": "code",
   "execution_count": null,
   "metadata": {},
   "outputs": [],
   "source": [
    "for i in binImg:\n",
    "    print(i)"
   ]
  },
  {
   "cell_type": "code",
   "execution_count": null,
   "metadata": {},
   "outputs": [],
   "source": [
    "img2=[1 if i==255 else 0 for i in ]"
   ]
  },
  {
   "cell_type": "code",
   "execution_count": null,
   "metadata": {},
   "outputs": [],
   "source": [
    "img2=cv2.resize(img,(128,64))"
   ]
  },
  {
   "cell_type": "code",
   "execution_count": null,
   "metadata": {},
   "outputs": [],
   "source": [
    "half = cv2.resize(img, (0, 0), fx = 0.5, fy = 0.5)"
   ]
  },
  {
   "cell_type": "code",
   "execution_count": null,
   "metadata": {},
   "outputs": [],
   "source": [
    "cv2.imshow('window',binImg)\n",
    "cv2.waitKey(0)\n",
    "cv2.destroyAllWindows()"
   ]
  },
  {
   "cell_type": "code",
   "execution_count": null,
   "metadata": {},
   "outputs": [],
   "source": [
    "redP.shape"
   ]
  },
  {
   "cell_type": "code",
   "execution_count": null,
   "metadata": {},
   "outputs": [],
   "source": [
    "redP=cv2.imread('100.jpg',0)"
   ]
  },
  {
   "cell_type": "code",
   "execution_count": null,
   "metadata": {},
   "outputs": [],
   "source": [
    "def converter(grey_img):\n",
    "    binImg=[]\n",
    "    for row in grey_img:\n",
    "        binRow=[]\n",
    "        for col in row:\n",
    "            binRow.append(int(col>170))\n",
    "        binImg.append(binRow)\n",
    "    return binImg\n",
    "\n",
    "\n",
    "def resizer(ori_img):\n",
    "    height,width=ori_img.shape\n",
    "    if 2*height>width:\n",
    "        reFact=height/64\n",
    "    else:\n",
    "        reFact=width/128\n",
    "    newSize=(int(width/reFact),int(height/reFact))\n",
    "    return cv2.resize(ori_img,newSize)\n",
    "    \n",
    "    "
   ]
  },
  {
   "cell_type": "code",
   "execution_count": null,
   "metadata": {},
   "outputs": [],
   "source": [
    "neImg=resizer(redP)\n",
    "binImg=converter(redP)"
   ]
  },
  {
   "cell_type": "code",
   "execution_count": null,
   "metadata": {},
   "outputs": [],
   "source": [
    "for i in redP:\n",
    "    print(i)"
   ]
  },
  {
   "cell_type": "code",
   "execution_count": null,
   "metadata": {},
   "outputs": [],
   "source": [
    "cv2.imshow('window',a)\n",
    "cv2.waitKey(0)\n",
    "cv2.destroyAllWindows()"
   ]
  },
  {
   "cell_type": "code",
   "execution_count": null,
   "metadata": {},
   "outputs": [],
   "source": [
    "redP.shape"
   ]
  },
  {
   "cell_type": "code",
   "execution_count": null,
   "metadata": {},
   "outputs": [],
   "source": [
    "import numpy"
   ]
  },
  {
   "cell_type": "code",
   "execution_count": null,
   "metadata": {},
   "outputs": [],
   "source": [
    "a=numpy.array(binImg)"
   ]
  },
  {
   "cell_type": "markdown",
   "metadata": {},
   "source": [
    "# <font face='comic sans ms' color ='PaleTurquoise'>Friday 2022-12-02</font>"
   ]
  },
  {
   "cell_type": "code",
   "execution_count": null,
   "metadata": {},
   "outputs": [],
   "source": [
    "import cv2\n",
    "img=cv2.imread('penguin.jpg',0)\n",
    "\n",
    "# img=resizer(img)\n",
    "\n",
    "\n",
    "for row in img:\n",
    "    for i in range(len(row)):\n",
    "        row[i]=255 if row[i]>170 else 0\n",
    "\n",
    "cv2.imshow('win',img)\n",
    "cv2.waitKey(0)\n",
    "cv2.destroyAllWindows()"
   ]
  },
  {
   "cell_type": "code",
   "execution_count": null,
   "metadata": {},
   "outputs": [],
   "source": [
    "img.shape"
   ]
  },
  {
   "cell_type": "code",
   "execution_count": null,
   "metadata": {},
   "outputs": [],
   "source": [
    "\n",
    "cv2.imshow('win',grayImage)\n",
    "cv2.waitKey(0)\n",
    "cv2.destroyAllWindows()"
   ]
  },
  {
   "cell_type": "code",
   "execution_count": null,
   "metadata": {},
   "outputs": [],
   "source": [
    "import cv2\n",
    "img=cv2.imread('micky.jpg',0)\n",
    "img=resizer(img)\n",
    "(thresh, blackAndWhiteImage) = cv2.threshold(img, 150, 255, cv2.THRESH_BINARY)\n",
    "cv2.imshow('Black white image', blackAndWhiteImage)\n",
    "cv2.waitKey(0)\n",
    "cv2.destroyAllWindows()"
   ]
  },
  {
   "cell_type": "markdown",
   "metadata": {},
   "source": [
    "# <font face='comic sans ms' color ='PaleTurquoise'>Saturday 2022-12-03</font>"
   ]
  },
  {
   "cell_type": "code",
   "execution_count": null,
   "metadata": {},
   "outputs": [],
   "source": [
    "import cv2, numpy as np\n",
    "img=cv2.imread('pratistha.png',0)\n",
    "img=resizer(img)\n",
    "value=0\n",
    "t=1\n",
    "def on_change(v):\n",
    "    global t\n",
    "    ret, thresh1 = cv2.threshold(img, v, 255, cv2.THRESH_BINARY)\n",
    "    t=thresh1\n",
    "    cv2.imshow('windowName',thresh1)\n",
    "\n",
    "bar = np.zeros((100,512,3), np.uint8)\n",
    "ret, thresh1 = cv2.threshold(img, value, 255, cv2.THRESH_BINARY)\n",
    "cv2.imshow('windowName',thresh1)\n",
    "cv2.imshow('bar',bar)\n",
    "cv2.createTrackbar('slider', 'bar', 0, 255, on_change)\n",
    "cv2.waitKey(0)\n",
    "cv2.destroyAllWindows()\n",
    "print(t)"
   ]
  },
  {
   "cell_type": "code",
   "execution_count": 17,
   "metadata": {},
   "outputs": [],
   "source": [
    "import cv2, numpy\n",
    "\n",
    "class Encoder:\n",
    "    reqImg=None\n",
    "\n",
    "    def encode(imgPath):\n",
    "        def on_change(v):\n",
    "            ret, thresh1 = cv2.threshold(img, v, 255, cv2.THRESH_BINARY)\n",
    "            Encoder.reqImg=thresh1\n",
    "            cv2.imshow('windowName',thresh1)\n",
    "\n",
    "        bar = numpy.zeros((100,512,3), numpy.uint8)\n",
    "        cv2.imshow('bar',bar)\n",
    "        cv2.createTrackbar('slider', 'bar', 0, 255, on_change)\n",
    "\n",
    "        img=cv2.imread(imgPath,0)\n",
    "        img=Encoder.resizer(img)\n",
    "        (thresh, blc) = cv2.threshold(img, 0, 255, cv2.THRESH_BINARY)\n",
    "        cv2.imshow('windowName',blc)\n",
    "\n",
    "        cv2.waitKey(0)\n",
    "        cv2.destroyAllWindows()\n",
    "        value=Encoder.converter(Encoder.reqImg)\n",
    "        print(value)\n",
    "\n",
    "\n",
    "    def converter(grey_img):\n",
    "        binImg=''\n",
    "        for row in grey_img:\n",
    "            binRow=''\n",
    "            for col in row:\n",
    "                binRow+=str(int(col==255))\n",
    "            binImg+=' '+Encoder.compresser(binRow)\n",
    "        return binImg[1:]\n",
    "\n",
    "    def resizer(ori_img):\n",
    "        height,width=ori_img.shape\n",
    "        if 2*height>width:\n",
    "            reFact=height/64\n",
    "        else:\n",
    "            reFact=width/128\n",
    "        newSize=(int(width/reFact),int(height/reFact))\n",
    "        return cv2.resize(ori_img,newSize)\n",
    "\n",
    "    def compresser(string):\n",
    "        newStr=''\n",
    "        pointer=string[0]\n",
    "        c=0\n",
    "        for i in string:\n",
    "            if pointer==i:\n",
    "                c+=1\n",
    "            else:\n",
    "                newStr+=pointer+str(c)+','\n",
    "                c=1\n",
    "                pointer=i\n",
    "        return newStr+pointer+str(c)"
   ]
  },
  {
   "cell_type": "code",
   "execution_count": 20,
   "metadata": {},
   "outputs": [
    {
     "name": "stdout",
     "output_type": "stream",
     "text": [
      "192 192 111,08,173 111,012,169 110,01,12,01,15,08,165 110,01,13,01,16,010,161 110,01,13,01,17,011,159 111,01,12,01,17,01,12,09,158 111,01,110,01,13,01,14,04,157 111,01,19,01,14,01,16,03,156 112,01,12,07,13,01,18,03,155 110,09,11,05,110,02,155 19,03,11,01,18,01,11,01,110,02,155 18,03,11,06,16,03,18,03,154 19,011,16,03,15,01,11,02,154 19,013,11,03,11,03,12,02,12,02,144,05,15 18,020,18,02,142,07,15 17,021,19,01,141,08,15 16,016,11,01,11,03,19,01,140,09,15 15,017,11,05,19,02,139,09,15 15,018,11,01,11,03,18,02,137,011,15 14,012,15,02,13,03,19,01,134,015,14 14,09,112,04,19,01,131,018,14 13,09,12,03,18,04,19,02,126,022,14 13,06,11,01,11,07,17,03,110,01,123,025,14 12,08,12,01,12,04,17,02,111,03,119,027,14 12,08,11,01,12,05,18,02,112,03,114,030,14 12,07,12,01,12,04,14,01,14,02,113,05,18,032,15 12,06,14,01,12,03,12,04,14,01,114,06,14,034,15 11,07,15,02,11,02,13,04,13,02,114,07,11,035,15 11,06,18,01,11,01,13,05,11,03,116,042,14 11,010,17,01,12,01,11,04,11,01,118,041,14 11,06,11,04,15,01,11,01,11,01,11,04,11,01,11,01,117,040,14 11,05,111,01,11,01,11,01,11,04,11,01,11,02,110,01,16,039,14 11,04,112,01,11,01,11,05,11,02,11,03,18,01,18,038,14 11,04,18,06,12,04,13,03,11,01,18,01,18,039,13 12,04,12,01,13,01,11,04,13,02,15,01,11,01,11,01,17,01,19,039,13 12,05,11,01,12,01,12,02,11,01,12,02,15,01,12,03,17,01,19,039,13 12,06,11,01,11,01,12,04,13,01,15,01,112,01,19,039,13 12,08,12,01,12,03,18,02,112,01,19,039,13 13,04,13,09,17,01,14,01,18,01,19,039,13 13,03,112,02,15,01,12,01,13,01,17,01,110,038,13 119,03,12,01,13,01,14,02,15,01,110,038,13 122,01,15,02,14,03,113,038,14 128,01,11,02,12,05,14,07,12,036,14 128,01,13,06,11,03,112,034,14 114,07,17,01,17,02,123,027,14 113,01,12,02,11,01,11,02,15,01,16,03,127,025,12 113,01,11,03,12,01,11,06,11,01,15,02,132,021,12 112,01,11,01,12,02,11,06,19,02,136,017,12 112,02,11,07,11,01,12,01,17,03,139,014,12 112,02,14,02,12,05,16,04,142,012,11 114,01,12,02,12,04,11,01,14,05,146,09,11 116,02,14,02,12,01,13,05,147,09,11 118,02,11,05,12,06,148,09,11 120,012,150,09,11 125,04,153,09,11 182,09,11 183,08,11 183,08,11 185,06,11 186,05,11 192 192\n"
     ]
    }
   ],
   "source": [
    "Encoder.encode('bheem.jpg')"
   ]
  },
  {
   "cell_type": "code",
   "execution_count": 37,
   "metadata": {},
   "outputs": [
    {
     "data": {
      "text/plain": [
       "'192 192 192 192 192 192 192 192 192 192 192 192 192 192 192 192 192 192 192 192 192 192 192 192 192 115,01,176 192 192 192 192 192 192 192 192 192 192 192 192 115,01,176 192 192 192 192 192 192 192 192 192 192 192 192 187,01,14 192 192 192 192 192 192 192 192 192 192 192 192'"
      ]
     },
     "execution_count": 37,
     "metadata": {},
     "output_type": "execute_result"
    }
   ],
   "source": [
    "'''192 192 192 192 192 192 192 192 192 192 192 192 192 192 192 192 192 192 192 192 192 192 192 192 192 115,01,176 192 192 192 192 192 192 192 192 192 192 192 192 115,01,176 192 192 192 192 192 192 192 192 192 192 192 192 187,01,14 192 192 192 192 192 192 192 192 192 192 192 192'''"
   ]
  },
  {
   "cell_type": "code",
   "execution_count": null,
   "metadata": {},
   "outputs": [],
   "source": []
  }
 ],
 "metadata": {
  "kernelspec": {
   "display_name": "Python 3.9.12 ('base')",
   "language": "python",
   "name": "python3"
  },
  "language_info": {
   "codemirror_mode": {
    "name": "ipython",
    "version": 3
   },
   "file_extension": ".py",
   "mimetype": "text/x-python",
   "name": "python",
   "nbconvert_exporter": "python",
   "pygments_lexer": "ipython3",
   "version": "3.9.12"
  },
  "orig_nbformat": 4,
  "vscode": {
   "interpreter": {
    "hash": "649e9a488baa9f755be1bd774174f13c00c6eb61d6f5988e2904ab6e22ac3fc0"
   }
  }
 },
 "nbformat": 4,
 "nbformat_minor": 2
}
