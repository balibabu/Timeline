{
 "cells": [
  {
   "cell_type": "code",
   "execution_count": null,
   "metadata": {},
   "outputs": [],
   "source": [
    "import cv2"
   ]
  },
  {
   "cell_type": "code",
   "execution_count": null,
   "metadata": {},
   "outputs": [],
   "source": [
    "def converter(grey_img):\n",
    "    binImg=[]\n",
    "    for row in grey_img:\n",
    "        binRow=[]\n",
    "        for col in row:\n",
    "            binRow.append(int(col>170))\n",
    "        binImg.append(binRow)\n",
    "    return binImg\n"
   ]
  },
  {
   "cell_type": "code",
   "execution_count": null,
   "metadata": {},
   "outputs": [],
   "source": [
    "\n",
    "def resizer(ori_img):\n",
    "    height,width=ori_img.shape\n",
    "    if 2*height>width:\n",
    "        reFact=height/64\n",
    "    else:\n",
    "        reFact=width/128\n",
    "    newSize=(int(width/reFact),int(height/reFact))\n",
    "    return cv2.resize(ori_img,newSize)"
   ]
  },
  {
   "cell_type": "code",
   "execution_count": null,
   "metadata": {},
   "outputs": [],
   "source": [
    "import cv2\n",
    "img=cv2.imread('penguin.jpg',0)\n",
    "img=resizer(img)\n",
    "(thresh, blackAndWhiteImage) = cv2.threshold(img, 150, 255, cv2.THRESH_BINARY)\n",
    "cv2.imshow('Black white image', blackAndWhiteImage)\n",
    "cv2.waitKey(0)\n",
    "cv2.destroyAllWindows()"
   ]
  },
  {
   "cell_type": "code",
   "execution_count": null,
   "metadata": {},
   "outputs": [],
   "source": [
    "matrix=converter(blackAndWhiteImage)\n",
    "print(matrix)"
   ]
  },
  {
   "cell_type": "code",
   "execution_count": null,
   "metadata": {},
   "outputs": [],
   "source": [
    "def plot(matrix,screen):\n",
    "    for i in range(len(matrix)):\n",
    "        for j in range(len(matrix[i])):\n",
    "            screen.pixel(i,j,matrix[i][j])\n",
    "    screen.show()"
   ]
  },
  {
   "cell_type": "code",
   "execution_count": null,
   "metadata": {},
   "outputs": [],
   "source": []
  },
  {
   "cell_type": "markdown",
   "metadata": {},
   "source": [
    "# <font face='comic sans ms' color ='PaleTurquoise'>Friday 2022-12-02</font>"
   ]
  },
  {
   "cell_type": "code",
   "execution_count": null,
   "metadata": {},
   "outputs": [],
   "source": [
    "def converter(grey_img):\n",
    "    binImg=[]\n",
    "    for row in grey_img:\n",
    "        binRow=''\n",
    "        for col in row:\n",
    "            binRow+=str(int(col>170))\n",
    "        binImg.append(binRow)\n",
    "    return binImg"
   ]
  },
  {
   "cell_type": "code",
   "execution_count": null,
   "metadata": {},
   "outputs": [],
   "source": [
    "def compresser(string):\n",
    "    newStr=''\n",
    "    pointer=string[0]\n",
    "    c=0\n",
    "    for i in string:\n",
    "        if pointer==i:\n",
    "            c+=1\n",
    "        else:\n",
    "            newStr+=pointer+str(c)+','\n",
    "            c=1\n",
    "            pointer=i\n",
    "    return newStr+pointer+str(c)"
   ]
  },
  {
   "cell_type": "code",
   "execution_count": null,
   "metadata": {},
   "outputs": [],
   "source": [
    "def decompresser(string):\n",
    "    cols=string.split(',')\n",
    "    newStr=''\n",
    "    for i in cols:\n",
    "        newStr+=i[0]*int(i[1:])\n",
    "    return newStr\n"
   ]
  },
  {
   "cell_type": "code",
   "execution_count": null,
   "metadata": {},
   "outputs": [],
   "source": [
    "compresser(matrix[1])"
   ]
  },
  {
   "cell_type": "code",
   "execution_count": null,
   "metadata": {},
   "outputs": [],
   "source": [
    "decompresser('127,02,14,02,127')"
   ]
  },
  {
   "cell_type": "code",
   "execution_count": null,
   "metadata": {},
   "outputs": [],
   "source": [
    "print(matrix[1])"
   ]
  },
  {
   "cell_type": "code",
   "execution_count": null,
   "metadata": {},
   "outputs": [],
   "source": [
    "len('1111111111111111111111111111111111111111111111111111111111111111111111111111111111111111111111111111111111111111111111111111111')"
   ]
  },
  {
   "cell_type": "code",
   "execution_count": 73,
   "metadata": {},
   "outputs": [],
   "source": [
    "def converter(grey_img):\n",
    "    binImg=''\n",
    "    for row in grey_img:\n",
    "        binRow=''\n",
    "        for col in row:\n",
    "            binRow+=str(int(col>170))\n",
    "        binImg+=compresser(binRow)+' '\n",
    "    return binImg[:-1]"
   ]
  },
  {
   "cell_type": "code",
   "execution_count": 75,
   "metadata": {},
   "outputs": [],
   "source": [
    "a=converter(blackAndWhiteImage).split()"
   ]
  },
  {
   "cell_type": "code",
   "execution_count": 76,
   "metadata": {},
   "outputs": [
    {
     "data": {
      "text/plain": [
       "64"
      ]
     },
     "execution_count": 76,
     "metadata": {},
     "output_type": "execute_result"
    }
   ],
   "source": [
    "len(a)"
   ]
  },
  {
   "cell_type": "code",
   "execution_count": 69,
   "metadata": {},
   "outputs": [
    {
     "data": {
      "text/plain": [
       "62"
      ]
     },
     "execution_count": 69,
     "metadata": {},
     "output_type": "execute_result"
    }
   ],
   "source": [
    "35+27"
   ]
  },
  {
   "cell_type": "code",
   "execution_count": 74,
   "metadata": {},
   "outputs": [
    {
     "data": {
      "text/plain": [
       "'162 127,02,14,02,127 124,02,110,02,124 122,02,114,02,122 120,02,118,02,120 119,02,120,02,119 118,03,120,02,119 118,02,122,02,118 117,03,122,03,117 116,03,15,01,117,03,117 116,04,11,07,115,03,116 115,07,15,019,116 115,06,17,018,116 114,06,19,07,13,08,115 114,06,110,03,18,06,115 114,05,111,02,110,05,115 114,05,111,02,111,05,114 114,05,18,05,11,01,19,05,114 113,06,18,07,19,05,114 113,06,18,07,19,05,114 113,06,18,07,19,06,113 113,07,19,03,110,07,113 113,07,121,08,113 113,08,118,010,113 112,010,117,011,112 112,010,11,03,115,09,112 111,09,122,09,111 110,09,17,01,18,01,17,09,110 19,09,19,01,16,01,19,09,19 18,010,110,01,14,01,111,09,18 17,010,112,01,12,01,112,011,16 15,011,114,02,114,011,15 14,012,130,012,14 13,013,131,012,13 12,013,132,013,12 11,014,132,014,11 015,133,04,11,08,11 07,13,04,134,04,14,06 05,15,04,134,04,15,05 03,17,04,134,04,17,03 11,01,18,04,134,04,18,01,11 110,04,134,04,110 110,04,134,04,110 111,03,134,03,111 111,03,134,03,111 111,03,134,03,111 112,02,134,02,112 112,03,133,02,112 113,02,132,03,112 113,03,11,05,118,06,11,02,113 114,01,17,03,112,02,18,02,113 125,02,19,01,125 126,02,17,01,126 134,01,127 128,01,14,01,128 129,01,132 129,01,132 162 129,04,129 17,02,119,06,120,01,17 17,048,17 112,038,112 162 162'"
      ]
     },
     "execution_count": 74,
     "metadata": {},
     "output_type": "execute_result"
    }
   ],
   "source": [
    "converter(blackAndWhiteImage)"
   ]
  },
  {
   "cell_type": "code",
   "execution_count": 8,
   "metadata": {},
   "outputs": [
    {
     "name": "stdout",
     "output_type": "stream",
     "text": [
      "164 164 164 164 118,04,142 116,07,116,01,124 115,09,114,04,122 114,011,113,04,122 114,011,12,04,12,02,13,04,122 113,012,15,02,13,01,11,05,122 113,012,18,01,12,01,12,03,122 113,012,19,03,16,01,120 113,013,16,01,13,01,127 114,012,17,03,128 114,013,137 115,06,11,07,114,01,120 121,09,134 121,07,114,01,121 121,06,114,01,122 118,01,13,04,113,02,123 115,010,14,02,15,04,11,01,122 114,011,13,01,11,011,123 114,011,16,08,18,04,113 113,012,17,03,11,02,12,012,112 113,013,17,010,11,08,112 113,012,12,02,12,01,11,05,11,09,12,02,112 114,011,15,03,12,01,11,010,12,01,11,01,112 114,011,14,019,12,02,112 115,09,14,020,116 116,07,13,05,12,015,116 118,04,13,05,15,07,12,05,115 125,04,11,01,17,04,11,04,11,01,11,01,113 125,04,110,01,12,01,11,03,11,01,115 125,04,110,01,12,01,11,05,115 126,04,13,01,15,02,11,01,11,05,11,01,113 128,02,18,04,11,06,115 129,01,18,010,116 132,01,14,011,116 130,01,16,012,115 132,01,12,014,115 135,014,115 134,015,115 133,014,117 132,012,120 131,01,11,010,121 129,02,11,010,122 127,02,13,04,11,04,12,02,12,02,115 125,01,15,04,12,05,17,01,114 122,02,17,03,11,07,122 119,01,110,05,11,03,11,01,123 116,01,15,04,12,05,16,01,124 113,02,14,01,19,04,11,05,125 111,01,112,03,16,01,115,01,114 110,01,119,01,11,01,11,01,129 18,01,155 116,01,117,01,111,01,117 134,01,11,03,13,03,119 117,01,115,01,130 14,01,127,01,131 119,01,110,02,132 121,03,12,03,135 164 16,01,157 164\n"
     ]
    }
   ],
   "source": [
    "Encoder.encode('micky.jpg')"
   ]
  },
  {
   "cell_type": "code",
   "execution_count": null,
   "metadata": {},
   "outputs": [],
   "source": []
  }
 ],
 "metadata": {
  "kernelspec": {
   "display_name": "Python 3.9.12 ('base')",
   "language": "python",
   "name": "python3"
  },
  "language_info": {
   "codemirror_mode": {
    "name": "ipython",
    "version": 3
   },
   "file_extension": ".py",
   "mimetype": "text/x-python",
   "name": "python",
   "nbconvert_exporter": "python",
   "pygments_lexer": "ipython3",
   "version": "3.9.12"
  },
  "orig_nbformat": 4,
  "vscode": {
   "interpreter": {
    "hash": "649e9a488baa9f755be1bd774174f13c00c6eb61d6f5988e2904ab6e22ac3fc0"
   }
  }
 },
 "nbformat": 4,
 "nbformat_minor": 2
}
