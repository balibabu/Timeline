{
 "cells": [
  {
   "cell_type": "code",
   "execution_count": 28,
   "metadata": {},
   "outputs": [],
   "source": [
    "def printer(table):\n",
    "    for i in table:\n",
    "        print(i)"
   ]
  },
  {
   "cell_type": "markdown",
   "metadata": {},
   "source": [
    "# <font face='comic sans ms' color ='PaleTurquoise'>Unbounded Knapsack Problem</font>"
   ]
  },
  {
   "cell_type": "markdown",
   "metadata": {},
   "source": [
    "here we can use an item multiple times unlike 0-1 knapsack"
   ]
  },
  {
   "cell_type": "markdown",
   "metadata": {},
   "source": [
    "##### <font face='comic sans ms' color ='yellow'>Recursion and Memoization Approach</font>"
   ]
  },
  {
   "cell_type": "code",
   "execution_count": 7,
   "metadata": {},
   "outputs": [],
   "source": [
    "def unbndKnapsackMem(weight:list,value:list,W,n): # items list, max Weight bag can hold, no. of items in list\n",
    "    table=[[-1 for _ in range(W+1)]for _ in range(n+1)]\n",
    "    def solve(weight,value,W,n):\n",
    "        if W==0 or n==0:\n",
    "            return 0\n",
    "        if table[n][W]!=-1:\n",
    "            return table[n][W]\n",
    "        if weight[n-1]<=W:\n",
    "            table[n][W]= max( value[n-1]+solve(weight,value,W-weight[n-1],n),  solve(weight,value,W,n-1))\n",
    "            return table[n][W]\n",
    "        else:\n",
    "            table[n][W]= solve(weight,value,W,n-1)\n",
    "            return table[n][W]\n",
    "    return solve(weight,value,W,n)"
   ]
  },
  {
   "cell_type": "code",
   "execution_count": 16,
   "metadata": {},
   "outputs": [
    {
     "data": {
      "text/plain": [
       "100"
      ]
     },
     "execution_count": 16,
     "metadata": {},
     "output_type": "execute_result"
    }
   ],
   "source": [
    "W = 100\n",
    "val  = [1, 30]\n",
    "wt = [1, 50]\n",
    "unbndKnapsackMem(wt,val,W,len(wt))"
   ]
  },
  {
   "cell_type": "markdown",
   "metadata": {},
   "source": [
    "##### <font face='comic sans ms' color ='yellow'>Top Down approach </font>"
   ]
  },
  {
   "cell_type": "code",
   "execution_count": 24,
   "metadata": {},
   "outputs": [],
   "source": [
    "def unbndKnapsackTD(weight:list,value:list,W):\n",
    "    table=[[-1 for _ in range(W+1)]for _ in range(len(weight)+1)]\n",
    "    for i in range(W+1):    # base condition when w==0\n",
    "        table[0][i]=0\n",
    "    for i in range(len(table)):  # base condition when n==0\n",
    "        table[i][0]=0\n",
    "    \n",
    "    for i in range(1,len(table)):\n",
    "        for j in range(1,len(table[0])):\n",
    "            if weight[i-1]<=j:\n",
    "                table[i][j]=max(value[i-1]+table[i][j-weight[i-1]], table[i-1][j])\n",
    "            else:\n",
    "                table[i][j]=table[i-1][j]\n",
    "\n",
    "    return table[-1][-1]"
   ]
  },
  {
   "cell_type": "code",
   "execution_count": 25,
   "metadata": {},
   "outputs": [
    {
     "data": {
      "text/plain": [
       "100"
      ]
     },
     "execution_count": 25,
     "metadata": {},
     "output_type": "execute_result"
    }
   ],
   "source": [
    "unbndKnapsackTD(wt,val,W)"
   ]
  },
  {
   "cell_type": "markdown",
   "metadata": {},
   "source": [
    "# <font face='comic sans ms' color ='PaleTurquoise'>Rod cutting Problem</font>"
   ]
  },
  {
   "cell_type": "code",
   "execution_count": 35,
   "metadata": {},
   "outputs": [],
   "source": [
    "def rodCutting(lengths,prices,size):\n",
    "    table=[[-1 for _ in range(size+1)] for _ in lengths+[1]]\n",
    "\n",
    "    for i in range(len(table)):\n",
    "        table[i][0]=0   # base cond : if size=0 then profit=0\n",
    "    for i in range(len(table[0])):\n",
    "        table[0][i]=0   # base cond : if profit=0 then size=0\n",
    "    \n",
    "    for i in range(len(table)): # this is piece : n\n",
    "        for j in range(len(table[0])):  # this is size : w\n",
    "            if lengths[i-1]<=j:\n",
    "                table[i][j]=max(prices[i-1]+table[i][j-lengths[i-1]],table[i-1][j])\n",
    "            else:\n",
    "                table[i][j]=table[i-1][j]\n",
    "    return table[-1][-1]\n"
   ]
  },
  {
   "cell_type": "code",
   "execution_count": 36,
   "metadata": {},
   "outputs": [
    {
     "data": {
      "text/plain": [
       "12"
      ]
     },
     "execution_count": 36,
     "metadata": {},
     "output_type": "execute_result"
    }
   ],
   "source": [
    "rodLength=5\n",
    "lengths=[1,2,3,4]\n",
    "prices=[2,5,7,8]\n",
    "rodCutting(lengths,prices,rodLength)"
   ]
  },
  {
   "cell_type": "markdown",
   "metadata": {},
   "source": [
    "# <font face='comic sans ms' color ='PaleTurquoise'>Coin Change Problem Type - 1</font>"
   ]
  },
  {
   "cell_type": "markdown",
   "metadata": {},
   "source": [
    "find number of ways you can give change using coins(given)"
   ]
  },
  {
   "cell_type": "code",
   "execution_count": 41,
   "metadata": {},
   "outputs": [],
   "source": [
    "# recursion and memoization approach\n",
    "def coinChangeMem(coins,change):\n",
    "    table=[[-1 for _ in range(change+1)]for _ in coins+[1]]\n",
    "    def _solve(coins,change,n):\n",
    "        if change==0:\n",
    "            return 1    # base cond: if change=0 then we can give {}\n",
    "        if n==0:\n",
    "            return 0    # base cond: if change>0 and no. of coins is 0 then we can't give\n",
    "        \n",
    "        if table[n][change]!=-1:\n",
    "            return table[n][change]\n",
    "\n",
    "        if coins[n-1]<=change:\n",
    "            table[n][change]= _solve(coins,change-coins[n-1],n)+_solve(coins,change,n-1)\n",
    "            return table[n][change]\n",
    "        else:\n",
    "            table[n][change]= _solve(coins,change,n-1)\n",
    "            return table[n][change]\n",
    "    return _solve(coins,change,len(coins))"
   ]
  },
  {
   "cell_type": "code",
   "execution_count": 43,
   "metadata": {},
   "outputs": [],
   "source": [
    "# topdown approach\n",
    "def coinChangeTD(coins,change):\n",
    "    table=[[-1 for _ in range(change+1)]for _ in coins+[1]]\n",
    "    for i in range(len(table[0])):\n",
    "        table[0][i]=0       # base cond: if change>0 and no. of coins is 0 then we can't give\n",
    "    for i in range(len(table)):\n",
    "        table[i][0]=1       # base cond: if change=0 then we can give {}\n",
    "    \n",
    "    for i in range(1,len(table)):   # coins --> index: i-1\n",
    "        for j in range(1,len(table[0])): #change --> j\n",
    "            if coins[i-1]<=j:\n",
    "                table[i][j]=table[i][j-coins[i-1]]+table[i-1][j]\n",
    "            else:\n",
    "                table[i][j]=table[i-1][j]\n",
    "    return table[-1][-1]"
   ]
  },
  {
   "cell_type": "code",
   "execution_count": 46,
   "metadata": {},
   "outputs": [
    {
     "name": "stdout",
     "output_type": "stream",
     "text": [
      "5\n",
      "5\n"
     ]
    }
   ],
   "source": [
    "coins=[1,2,3]\n",
    "change=5\n",
    "print(coinChangeMem(coins,change))\n",
    "print(coinChangeTD(coins,change))"
   ]
  },
  {
   "cell_type": "markdown",
   "metadata": {},
   "source": [
    "# <font face='comic sans ms' color ='PaleTurquoise'>Coin Change Problem Type - 2</font>"
   ]
  },
  {
   "cell_type": "markdown",
   "metadata": {},
   "source": [
    "find minimum no. of coins to give change from the given coins"
   ]
  },
  {
   "cell_type": "code",
   "execution_count": 58,
   "metadata": {},
   "outputs": [],
   "source": [
    "# the main problem is with the initialization because its ini. is different than others\n",
    "# here first 2 rows and 1st column are initialized \n",
    "# if we can not make the change with given coins then we put infinity\n",
    "def minCoinChangeTD(coins,change):\n",
    "    import sys\n",
    "    table=[[-1 for _ in range(change+1)] for _ in coins+[1]]\n",
    "\n",
    "    # filling the 1st column first becoz of its table(see screenshot of its table)\n",
    "    for i in range(len(table)):\n",
    "        table[i][0]=0 #minimum no of coin req. for sum=0 is 0 except when we have no coins\n",
    "    \n",
    "    for i in range(len(table[0])):\n",
    "        table[0][i]=sys.maxsize-1   # for first row its infinity\n",
    "    \n",
    "    for i in range(1,len(table[0])):    # for 2nd row excluding 1st element\n",
    "        table[1][i]=i//coins[0] if i%coins[0]==0 else sys.maxsize-1 # here coins[0] means first coin we are using\n",
    "\n",
    "    for i in range(2,len(table)):\n",
    "        for j in range(1,len(table[0])):\n",
    "            if coins[i-1]<=j:\n",
    "                table[i][j]=min(table[i][j-coins[i-1]]+1,table[i-1][j])\n",
    "            else:\n",
    "                table[i][j]=table[i-1][j]\n",
    "    # printer(table)\n",
    "    return table[-1][-1]"
   ]
  },
  {
   "cell_type": "code",
   "execution_count": 60,
   "metadata": {},
   "outputs": [
    {
     "data": {
      "text/plain": [
       "4"
      ]
     },
     "execution_count": 60,
     "metadata": {},
     "output_type": "execute_result"
    }
   ],
   "source": [
    "coins=[1,2,3]\n",
    "change=10\n",
    "minCoinChangeTD(coins,change)"
   ]
  },
  {
   "cell_type": "code",
   "execution_count": 61,
   "metadata": {},
   "outputs": [
    {
     "data": {
      "text/plain": [
       "2"
      ]
     },
     "execution_count": 61,
     "metadata": {},
     "output_type": "execute_result"
    }
   ],
   "source": [
    "coins=[25,10,5]\n",
    "change=30\n",
    "minCoinChangeTD(coins,change)"
   ]
  },
  {
   "cell_type": "code",
   "execution_count": null,
   "metadata": {},
   "outputs": [],
   "source": []
  },
  {
   "cell_type": "code",
   "execution_count": null,
   "metadata": {},
   "outputs": [],
   "source": []
  }
 ],
 "metadata": {
  "kernelspec": {
   "display_name": "Python 3.9.7 ('base')",
   "language": "python",
   "name": "python3"
  },
  "language_info": {
   "codemirror_mode": {
    "name": "ipython",
    "version": 3
   },
   "file_extension": ".py",
   "mimetype": "text/x-python",
   "name": "python",
   "nbconvert_exporter": "python",
   "pygments_lexer": "ipython3",
   "version": "3.9.7"
  },
  "orig_nbformat": 4,
  "vscode": {
   "interpreter": {
    "hash": "649e9a488baa9f755be1bd774174f13c00c6eb61d6f5988e2904ab6e22ac3fc0"
   }
  }
 },
 "nbformat": 4,
 "nbformat_minor": 2
}
