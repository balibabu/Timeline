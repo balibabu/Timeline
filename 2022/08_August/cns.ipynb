{
 "cells": [
  {
   "cell_type": "code",
   "execution_count": 8,
   "metadata": {},
   "outputs": [],
   "source": [
    "def getMulInverse(n,mod):\n",
    "    for i in range(1,mod+1):\n",
    "        if (n*i)%mod==1:\n",
    "            return i\n",
    "    return ''"
   ]
  },
  {
   "cell_type": "code",
   "execution_count": 9,
   "metadata": {},
   "outputs": [
    {
     "name": "stdout",
     "output_type": "stream",
     "text": [
      "1  -->  1\n",
      "2  -->  \n",
      "3  -->  9\n",
      "4  -->  \n",
      "5  -->  21\n",
      "6  -->  \n",
      "7  -->  15\n",
      "8  -->  \n",
      "9  -->  3\n",
      "10  -->  \n",
      "11  -->  19\n",
      "12  -->  \n",
      "13  -->  \n",
      "14  -->  \n",
      "15  -->  7\n",
      "16  -->  \n",
      "17  -->  23\n",
      "18  -->  \n",
      "19  -->  11\n",
      "20  -->  \n",
      "21  -->  5\n",
      "22  -->  \n",
      "23  -->  17\n",
      "24  -->  \n",
      "25  -->  25\n"
     ]
    }
   ],
   "source": [
    "for i in range(1,26):\n",
    "    print(i,' --> ',getMulInverse(i,26))"
   ]
  },
  {
   "cell_type": "code",
   "execution_count": null,
   "metadata": {},
   "outputs": [],
   "source": []
  }
 ],
 "metadata": {
  "kernelspec": {
   "display_name": "Python 3.9.7 ('base')",
   "language": "python",
   "name": "python3"
  },
  "language_info": {
   "codemirror_mode": {
    "name": "ipython",
    "version": 3
   },
   "file_extension": ".py",
   "mimetype": "text/x-python",
   "name": "python",
   "nbconvert_exporter": "python",
   "pygments_lexer": "ipython3",
   "version": "3.9.7"
  },
  "orig_nbformat": 4,
  "vscode": {
   "interpreter": {
    "hash": "649e9a488baa9f755be1bd774174f13c00c6eb61d6f5988e2904ab6e22ac3fc0"
   }
  }
 },
 "nbformat": 4,
 "nbformat_minor": 2
}
