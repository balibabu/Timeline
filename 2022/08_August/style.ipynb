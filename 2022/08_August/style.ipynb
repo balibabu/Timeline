{
 "cells": [
  {
   "cell_type": "code",
   "execution_count": 14,
   "metadata": {},
   "outputs": [
    {
     "data": {
      "text/plain": [
       "7491"
      ]
     },
     "execution_count": 14,
     "metadata": {},
     "output_type": "execute_result"
    }
   ],
   "source": [
    "ord('ᵃ')"
   ]
  },
  {
   "cell_type": "code",
   "execution_count": 13,
   "metadata": {},
   "outputs": [
    {
     "data": {
      "text/plain": [
       "8336"
      ]
     },
     "execution_count": 13,
     "metadata": {},
     "output_type": "execute_result"
    }
   ],
   "source": [
    "ord('ₐ')"
   ]
  },
  {
   "cell_type": "code",
   "execution_count": 15,
   "metadata": {},
   "outputs": [
    {
     "name": "stdout",
     "output_type": "stream",
     "text": [
      "ᵃ\n",
      "ᵄ\n",
      "ᵅ\n",
      "ᵆ\n",
      "ᵇ\n",
      "ᵈ\n",
      "ᵉ\n",
      "ᵊ\n",
      "ᵋ\n",
      "ᵌ\n",
      "ᵍ\n",
      "ᵎ\n",
      "ᵏ\n",
      "ᵐ\n",
      "ᵑ\n",
      "ᵒ\n",
      "ᵓ\n",
      "ᵔ\n",
      "ᵕ\n",
      "ᵖ\n",
      "ᵗ\n",
      "ᵘ\n",
      "ᵙ\n",
      "ᵚ\n",
      "ᵛ\n",
      "ᵜ\n"
     ]
    }
   ],
   "source": [
    "for i in range(7491,7491+26):\n",
    "    print(chr(i))"
   ]
  },
  {
   "cell_type": "code",
   "execution_count": null,
   "metadata": {},
   "outputs": [],
   "source": [
    "ₙᶠₘʸₛᵗᵣᵉₛˢ\n",
    "𝓃𝒻𝓅𝒶𝓇𝒶𝓁𝓎𝓏𝑒𝒹\n",
    "ₐ\n",
    "ᵃ"
   ]
  }
 ],
 "metadata": {
  "kernelspec": {
   "display_name": "Python 3.9.7 ('base')",
   "language": "python",
   "name": "python3"
  },
  "language_info": {
   "codemirror_mode": {
    "name": "ipython",
    "version": 3
   },
   "file_extension": ".py",
   "mimetype": "text/x-python",
   "name": "python",
   "nbconvert_exporter": "python",
   "pygments_lexer": "ipython3",
   "version": "3.9.7"
  },
  "orig_nbformat": 4,
  "vscode": {
   "interpreter": {
    "hash": "649e9a488baa9f755be1bd774174f13c00c6eb61d6f5988e2904ab6e22ac3fc0"
   }
  }
 },
 "nbformat": 4,
 "nbformat_minor": 2
}
