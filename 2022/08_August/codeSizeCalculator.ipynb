{
 "cells": [
  {
   "cell_type": "code",
   "execution_count": 14,
   "metadata": {},
   "outputs": [],
   "source": [
    "import re"
   ]
  },
  {
   "cell_type": "code",
   "execution_count": 15,
   "metadata": {},
   "outputs": [],
   "source": [
    "\n",
    "def getListOfFiles(dirName):\n",
    "    fTypes=['java','py','c','ipynb','cpp']\n",
    "    listOfFile = os.listdir(dirName)\n",
    "    allFiles = list()\n",
    "    for item in listOfFile:\n",
    "        if re.search('^\\.|^djangorest',item):\n",
    "            continue #djangorest\n",
    "        fullPath = os.path.join(dirName, item)\n",
    "        if os.path.isdir(fullPath):\n",
    "            allFiles = allFiles + getListOfFiles(fullPath)\n",
    "        else:\n",
    "            if not os.path.splitext(item)[1][1:] in fTypes:\n",
    "                continue\n",
    "            allFiles.append(fullPath)\n",
    "    return allFiles"
   ]
  },
  {
   "cell_type": "code",
   "execution_count": 16,
   "metadata": {},
   "outputs": [],
   "source": [
    "path=r'D:\\Works_Space\\Timeline\\2022\\08_August'"
   ]
  },
  {
   "cell_type": "code",
   "execution_count": 17,
   "metadata": {},
   "outputs": [],
   "source": [
    "def readIpynb(filename):\n",
    "    import codecs\n",
    "    import json\n",
    "    f = codecs.open(filename, 'r')\n",
    "    source = f.read()\n",
    "    y = json.loads(source)\n",
    "    pySource = '##Python .py code from .jpynb:\\n'\n",
    "    for x in y['cells']:\n",
    "        for x2 in x['source']:\n",
    "            pySource = pySource + x2\n",
    "            if x2[-1] != '\\n':\n",
    "                pySource = pySource + '\\n'\n",
    "    return pySource"
   ]
  },
  {
   "cell_type": "code",
   "execution_count": 18,
   "metadata": {},
   "outputs": [],
   "source": [
    "def readfiles(fname):\n",
    "    f=open(fname,'r')\n",
    "    temp= f.read()\n",
    "    return temp"
   ]
  },
  {
   "cell_type": "code",
   "execution_count": 21,
   "metadata": {},
   "outputs": [],
   "source": [
    "def getAllSize(files):\n",
    "    content=''\n",
    "    size=0\n",
    "    for i in files:\n",
    "        try:\n",
    "            if i[-5:]=='ipynb':\n",
    "                content+='\\n'+readIpynb(i)\n",
    "            else:\n",
    "                size += os.path.getsize(i)\n",
    "        except:\n",
    "            pass\n",
    "    with open('temp.txt','w') as f:\n",
    "        f.write(content)\n",
    "    print(f'size of program files except ipynb:{round(size/1024,3)} KB')\n",
    "    size=os.path.getsize('temp.txt')\n",
    "    print(f'size of only programs in notebook file:{round(size/1024,3)} KB')\n",
    "    os.remove(\"temp.txt\")\n",
    "            "
   ]
  },
  {
   "cell_type": "code",
   "execution_count": 22,
   "metadata": {},
   "outputs": [
    {
     "name": "stdout",
     "output_type": "stream",
     "text": [
      "total program files:47\n",
      "size of program files except ipynb:29.78 KB\n",
      "size of only programs in notebook file:55.075 KB\n"
     ]
    }
   ],
   "source": [
    "lists=getListOfFiles(path)\n",
    "print(f'total program files:{len(lists)}')\n",
    "getAllSize(lists)"
   ]
  },
  {
   "cell_type": "code",
   "execution_count": null,
   "metadata": {},
   "outputs": [],
   "source": []
  },
  {
   "cell_type": "code",
   "execution_count": null,
   "metadata": {},
   "outputs": [],
   "source": []
  }
 ],
 "metadata": {
  "kernelspec": {
   "display_name": "Python 3.9.7 ('base')",
   "language": "python",
   "name": "python3"
  },
  "language_info": {
   "codemirror_mode": {
    "name": "ipython",
    "version": 3
   },
   "file_extension": ".py",
   "mimetype": "text/x-python",
   "name": "python",
   "nbconvert_exporter": "python",
   "pygments_lexer": "ipython3",
   "version": "3.9.7"
  },
  "orig_nbformat": 4,
  "vscode": {
   "interpreter": {
    "hash": "649e9a488baa9f755be1bd774174f13c00c6eb61d6f5988e2904ab6e22ac3fc0"
   }
  }
 },
 "nbformat": 4,
 "nbformat_minor": 2
}
