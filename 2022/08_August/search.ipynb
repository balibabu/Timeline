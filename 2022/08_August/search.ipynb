{
 "cells": [
  {
   "cell_type": "markdown",
   "metadata": {},
   "source": [
    "# <font face='comic sans ms' color ='PaleTurquoise'>adding configuration</font>"
   ]
  },
  {
   "cell_type": "code",
   "execution_count": 1,
   "metadata": {},
   "outputs": [],
   "source": [
    "import os\n",
    "import re\n",
    "import pyperclip\n",
    "import pyautogui as pg\n",
    "import time"
   ]
  },
  {
   "cell_type": "code",
   "execution_count": 25,
   "metadata": {},
   "outputs": [],
   "source": [
    "class Paths:\n",
    "    fTypes=['java','py','c','txt','cpp','ipynb']\n",
    "    parentPaths=[]\n",
    "    filesList=[]\n",
    "\n",
    "    def __init__(self):\n",
    "        pass\n",
    "    def getFilesList():\n",
    "        def getListOfFiles(dirName):\n",
    "            listOfFile = os.listdir(dirName)\n",
    "            allFiles = list()\n",
    "            for item in listOfFile:\n",
    "                if re.search('^\\.|^djangorest',item):\n",
    "                    continue #djangorest\n",
    "                fullPath = os.path.join(dirName, item)\n",
    "                if os.path.isdir(fullPath):\n",
    "                    allFiles = allFiles + getListOfFiles(fullPath)\n",
    "                else:\n",
    "                    if not os.path.splitext(item)[1][1:] in Paths.fTypes:\n",
    "                        continue\n",
    "                    allFiles.append(fullPath)\n",
    "            return allFiles\n",
    "        \n",
    "        list1=[]\n",
    "        for i in Paths.parentPaths:\n",
    "            list1+=getListOfFiles(i)\n",
    "        Paths.filesList=list1\n",
    "\n",
    "    def setFileType():\n",
    "        pass\n",
    "    def shortPath(path):\n",
    "        if len(path)>70:\n",
    "            return path[:26]+'....'+path[-40::1]\n",
    "        else:\n",
    "            return path"
   ]
  },
  {
   "cell_type": "code",
   "execution_count": 43,
   "metadata": {},
   "outputs": [],
   "source": [
    "class File:\n",
    "    def readFile(filename):\n",
    "        f=open(filename)\n",
    "        temp= f.read()\n",
    "        return temp\n",
    "\n",
    "    def isPresent(key,content):\n",
    "        x=re.search(key,content,re.IGNORECASE)\n",
    "        return x!=None\n",
    "        \n",
    "    def openInNotepad(path):\n",
    "        print(path)\n",
    "        os.startfile(path, 'open')\n",
    "        if path[-5:]=='ipynb': time.sleep(2)\n",
    "        time.sleep(0.5)\n",
    "        pg.hotkey('ctrl', 'f') \n",
    "        time.sleep(0.5)\n",
    "        pg.hotkey('ctrl', 'v')\n",
    "        pg.press('enter')\n",
    "\n",
    "    def insights(*args):\n",
    "        print('=================== insights ===================')\n",
    "        print('found match:',args[0])\n",
    "        print('Total file searched:',args[1])\n",
    "        print('================================================')"
   ]
  },
  {
   "cell_type": "code",
   "execution_count": null,
   "metadata": {},
   "outputs": [],
   "source": []
  },
  {
   "cell_type": "code",
   "execution_count": 46,
   "metadata": {},
   "outputs": [],
   "source": [
    "class Runner:\n",
    "    matchedFilesPath=[]\n",
    "\n",
    "    def __init__(self):\n",
    "        try:\n",
    "           self.providePaths()\n",
    "        except Exception as e:\n",
    "            print('No default path found',e)\n",
    "            self.addPath()\n",
    "            self.providePaths()\n",
    "        Paths.getFilesList()\n",
    "\n",
    "    def providePaths(self):\n",
    "        f=File.readFile('parentPaths').split('\\n')[:-1]\n",
    "        Paths.parentPaths=f\n",
    "        print(f)\n",
    "\n",
    "    def customizeSearch():\n",
    "        pass\n",
    "\n",
    "    def addPath(self):\n",
    "        with open('parentPaths','a') as file:\n",
    "            file.write(input('enter a path:')+'\\n')\n",
    "    \n",
    "    def match(self,regex):\n",
    "        count=0\n",
    "        for i in Paths.filesList:\n",
    "            try:\n",
    "                if File.isPresent(regex,File.readFile(i)):\n",
    "                    self.matchedFilesPath.append(i)\n",
    "                    count+=1\n",
    "                    print(count,'=>',Paths.shortPath(i))\n",
    "            except:\n",
    "                pass\n",
    "        File.insights(count,len(Paths.filesList))\n",
    "        return count\n",
    "    \n",
    "    def run(self):\n",
    "        regex=input('enter keyword:')\n",
    "        pyperclip.copy(regex)\n",
    "        count=self.match(regex)\n",
    "        if count==0:\n",
    "            print('No matching found')\n",
    "        elif count==1:\n",
    "            File.openInNotepad(self.matchedFilesPath[0])\n",
    "        else:\n",
    "            while(1):\n",
    "                choice = int(input('enter an option number or 0 to quit:'))\n",
    "                if choice == 0: break\n",
    "                File.openInNotepad(self.matchedFilesPath[choice-1])\n",
    "\n"
   ]
  },
  {
   "cell_type": "code",
   "execution_count": 47,
   "metadata": {},
   "outputs": [
    {
     "name": "stdout",
     "output_type": "stream",
     "text": [
      "['D:\\\\Works_Space\\\\Timeline', 'D:\\\\Works_Space\\\\SOA_University']\n",
      "1 => D:\\Works_Space\\Timeline\\2022\\07_July\\IDP_Major_Assignment_Code.ipynb\n",
      "2 => D:\\Works_Space\\SOA_Univers....\\01_Assignment\\10_plotAge_male_female.py\n",
      "3 => D:\\Works_Space\\SOA_Univers....er_6\\IDP\\Programes\\LAB_notes\\june7.ipynb\n",
      "4 => D:\\Works_Space\\SOA_Univers....er_6\\IDP\\Programes\\LAB_notes\\may12.ipynb\n",
      "5 => D:\\Works_Space\\SOA_Univers....er_6\\IDP\\Programes\\LAB_notes\\may18.ipynb\n",
      "=================== insights ===================\n",
      "found match: 5\n",
      "Total file searched: 792\n",
      "================================================\n",
      "D:\\Works_Space\\SOA_University\\Semester_6\\IDP\\Programes\\01_Assignment\\10_plotAge_male_female.py\n"
     ]
    }
   ],
   "source": [
    "instance = Runner()\n",
    "instance.run()"
   ]
  },
  {
   "cell_type": "code",
   "execution_count": 35,
   "metadata": {},
   "outputs": [
    {
     "name": "stdout",
     "output_type": "stream",
     "text": [
      "1 => D:\\Works_Space\\Timeline\\2022\\07_July\\IDP_Major_Assignment_Code.ipynb\n",
      "2 => D:\\Works_Space\\Timeline\\2022\\08_August\\search.ipynb\n",
      "3 => D:\\Works_Space\\SOA_University\\Semester_6\\ID\\assignment 1\\course.txt\n",
      "4 => D:\\Works_Space\\SOA_Univers....emester_6\\ID\\assignment 1\\department.txt\n",
      "5 => D:\\Works_Space\\SOA_Univers....emester_6\\ID\\assignment 1\\instructor.txt\n",
      "6 => D:\\Works_Space\\SOA_Univers....\\01_Assignment\\10_plotAge_male_female.py\n",
      "7 => D:\\Works_Space\\SOA_Univers....er_6\\IDP\\Programes\\LAB_notes\\june7.ipynb\n",
      "8 => D:\\Works_Space\\SOA_Univers....er_6\\IDP\\Programes\\LAB_notes\\may12.ipynb\n",
      "9 => D:\\Works_Space\\SOA_Univers....er_6\\IDP\\Programes\\LAB_notes\\may18.ipynb\n",
      "=================== insights ===================\n",
      "found match: 9\n",
      "Total file searched: 792\n",
      "================================================\n",
      "press ctrl f and then ctrl v in the notepad\n"
     ]
    }
   ],
   "source": [
    "instance.match('histo')"
   ]
  },
  {
   "cell_type": "code",
   "execution_count": 20,
   "metadata": {},
   "outputs": [
    {
     "data": {
      "text/plain": [
       "792"
      ]
     },
     "execution_count": 20,
     "metadata": {},
     "output_type": "execute_result"
    }
   ],
   "source": [
    "len(Paths.filesList)"
   ]
  },
  {
   "cell_type": "code",
   "execution_count": 7,
   "metadata": {},
   "outputs": [
    {
     "data": {
      "text/plain": [
       "['D:\\\\Works_Space\\\\Timeline\\\\2022\\\\03_March\\\\aayush\\\\src\\\\aayush\\\\Hurkle.java',\n",
       " 'D:\\\\Works_Space\\\\Timeline\\\\2022\\\\03_March\\\\aayush\\\\src\\\\aayush\\\\test.java',\n",
       " 'D:\\\\Works_Space\\\\Timeline\\\\2022\\\\03_March\\\\aayush\\\\src\\\\aayush\\\\testing.java',\n",
       " 'D:\\\\Works_Space\\\\Timeline\\\\2022\\\\03_March\\\\aayush\\\\src\\\\aayush\\\\Tree.java',\n",
       " 'D:\\\\Works_Space\\\\Timeline\\\\2022\\\\03_March\\\\aayush\\\\src\\\\lab8\\\\Bug.java']"
      ]
     },
     "execution_count": 7,
     "metadata": {},
     "output_type": "execute_result"
    }
   ],
   "source": [
    "Paths.filesList[:5]"
   ]
  },
  {
   "cell_type": "code",
   "execution_count": 17,
   "metadata": {},
   "outputs": [
    {
     "data": {
      "text/plain": [
       "False"
      ]
     },
     "execution_count": 17,
     "metadata": {},
     "output_type": "execute_result"
    }
   ],
   "source": [
    "File.isPresent('move',content)"
   ]
  },
  {
   "cell_type": "code",
   "execution_count": 11,
   "metadata": {},
   "outputs": [],
   "source": [
    "content=File.readFile(Paths.filesList[0])"
   ]
  },
  {
   "cell_type": "code",
   "execution_count": 13,
   "metadata": {},
   "outputs": [
    {
     "data": {
      "text/plain": [
       "'package aayush;\\n\\nimport java.util.Random;\\nimport java.util.Scanner;\\n\\npublic class Hurkle {\\n\\tstatic int[] hurkle= {0,0};\\n\\tstatic int[] player= {0,0};\\n\\tstatic int[] holes= {0,0,0,0};\\n\\t\\n\\tpublic static void main(String[] args) {\\n\\t\\tScanner sc=new Scanner(System.in);\\n\\t\\tplotHoles();\\n\\t\\tplotHurkle();\\n\\t\\tchar[][] board=getBoard();\\n\\t\\tint score=0;\\n\\t\\twhile(true) {\\n\\t\\t\\tdisplayBoard(board);\\n\\t\\t\\tSystem.out.print(\"enter your move: \");\\n\\t\\t\\tchar d=sc.next().charAt(0);\\n\\t\\t\\tif(d==\\'q\\') {\\n\\t\\t\\t\\tSystem.out.println(\"You Lose\");\\n\\t\\t\\t\\tbreak;\\n\\t\\t\\t}\\n\\t\\t\\tint s=sc.nextInt();\\n\\t\\t\\tmove(d,s);\\n\\t\\t\\tif(isWin()) {\\n\\t\\t\\t\\tSystem.out.println(\"your score is \"+score);\\n\\t\\t\\t\\tbreak;\\n\\t\\t\\t}\\n\\t\\t\\tscore++;\\n\\t\\t}\\n\\t\\t\\n\\t}\\n\\t\\n\\tpublic static void plotHoles() {\\n\\t\\tRandom r=new Random();\\n\\t\\tint pos=0;\\n\\t\\twhile(pos!=4) {\\n\\t\\t\\tint a=r.nextInt(1,100);\\n\\t\\t\\tif(!isPresent(holes, a))\\n\\t\\t\\t\\tholes[pos++]=a;\\n\\t\\t}\\n\\t}\\n\\tpublic static void plotHurkle() {\\n\\t\\tRandom r=new Random();\\n\\t\\tint h=r.nextInt(1,100);\\n\\t\\twhile(isPresent(holes, h)) {\\n//\\t\\t\\tdisplay(holes);\\n\\t\\t\\th=r.nextInt(1,100);\\n//\\t\\t\\tSystem.out.println(h);\\n\\t\\t}\\n\\t\\thurkle[0]=h/10;\\n\\t\\thurkle[1]=h%10;\\n\\t}\\n\\t\\n\\tpublic static char[][] getBoard(){\\n\\t\\tchar[][] board=new char[10][10];\\n\\t\\tfor(int i=0;i<10;i++) {\\n\\t\\t\\tfor(int j=0;j<10;j++) {\\n\\t\\t\\t\\tboard[i][j]=\\'.\\';\\n\\t\\t\\t}\\n\\t\\t}\\n\\t\\treturn board;\\n\\t}\\t\\n\\t\\n\\tpublic static boolean isPresent(int[] arr,int x) {\\n\\t\\tfor(int i:arr) {\\n\\t\\t\\tif(i==x)\\n\\t\\t\\t\\treturn true;\\n\\t\\t}\\n\\t\\treturn false;\\n\\t}\\n\\t\\n\\tpublic static void displayBoard(char[][] board) {\\n\\t\\tfor(int i=0;i<board.length;i++) {\\n\\t\\t\\tfor(int j=0;j< board[0].length;j++) {\\n\\t\\t\\t\\tint temp=i*10+j;\\n\\t\\t\\t\\tif(temp==holes[0]||temp==holes[1]||temp==holes[2]||temp==holes[3])\\n\\t\\t\\t\\t\\tSystem.out.print(\"0 \");\\n\\t\\t\\t\\telse if(i==player[0] && j==player[1])\\n\\t\\t\\t\\t\\tSystem.out.print(\"@ \");\\n//\\t\\t\\t\\telse if(i==hurkle[0] && j==hurkle[1])\\n//\\t\\t\\t\\t\\tSystem.out.print(\"H \");\\n\\t\\t\\t\\telse\\n\\t\\t\\t\\t\\tSystem.out.print(\". \");\\n\\t\\t\\t}\\n\\t\\t\\tSystem.out.println();\\n\\t\\t}\\n\\t}\\n\\tpublic static void move(char direction,int step) {\\n\\t\\tdirection=Character.toLowerCase(direction);\\n\\t\\tif(direction==\\'n\\') \\n\\t\\t\\tplayer[0]-=step;\\n\\t\\telse if(direction==\\'e\\') \\n\\t\\t\\tplayer[1]+=step;\\n\\t\\telse if(direction==\\'w\\') \\n\\t\\t\\tplayer[1]-=step;\\n\\t\\telse if(direction==\\'s\\') \\n\\t\\t\\tplayer[0]+=step;\\n\\t\\telse\\n\\t\\t\\tSystem.out.println(\"Invalid direction\");\\n\\t\\t\\n\\t\\tif(isPresent(holes, player[0]*10+player[1])) {\\n\\t\\t\\tSystem.out.println(\"You fell in the Hole\");\\n\\t\\t\\tplayer[0]=0;\\n\\t\\t\\tplayer[1]=0;\\n\\t\\t}\\n\\t}\\n\\tpublic static boolean isWin() {\\n\\t\\tboolean win=false;\\n\\t\\tif(hurkle[0]==player[0] && hurkle[1]==player[1]) {\\n\\t\\t\\tSystem.out.println(\"You Won\");\\n\\t\\t\\twin=true;\\n\\t\\t}else {\\n\\t\\t\\tshowHint();\\n\\t\\t}\\n\\t\\treturn win;\\n\\t}\\n\\tpublic static void showHint() {\\n\\t\\tint r=hurkle[0]-player[0];\\n\\t\\tint c=hurkle[1]-player[1];\\n\\t\\tif(r<0 && c<0)\\n\\t\\t\\tSystem.out.println(\"The Hurkle is: NW\");\\n\\t\\telse if(r>0 && c>0)\\n\\t\\t\\tSystem.out.println(\"The Hurkle is: SE\");\\n\\t\\telse if(r<0 && c==0)\\n\\t\\t\\tSystem.out.println(\"The Hurkle is: N\");\\n\\t\\telse if(r>0 && c==0)\\n\\t\\t\\tSystem.out.println(\"The Hurkle is: S\");\\n\\t\\telse if(r<0 && c>0)\\n\\t\\t\\tSystem.out.println(\"The Hurkle is: NE\");\\n\\t\\telse if(r>0 && c<0)\\n\\t\\t\\tSystem.out.println(\"The Hurkle is: SW\");\\n\\t\\telse if(r==0 && c<0)\\n\\t\\t\\tSystem.out.println(\"The Hurkle is: W\");\\n\\t\\telse if(r==0 && c>0)\\n\\t\\t\\tSystem.out.println(\"The Hurkle is: E\");\\n\\t}\\n\\n}\\n'"
      ]
     },
     "execution_count": 13,
     "metadata": {},
     "output_type": "execute_result"
    }
   ],
   "source": [
    "content"
   ]
  },
  {
   "cell_type": "code",
   "execution_count": null,
   "metadata": {},
   "outputs": [],
   "source": []
  },
  {
   "cell_type": "code",
   "execution_count": null,
   "metadata": {},
   "outputs": [],
   "source": []
  },
  {
   "cell_type": "code",
   "execution_count": null,
   "metadata": {},
   "outputs": [],
   "source": []
  },
  {
   "cell_type": "code",
   "execution_count": null,
   "metadata": {},
   "outputs": [],
   "source": []
  },
  {
   "cell_type": "code",
   "execution_count": null,
   "metadata": {},
   "outputs": [],
   "source": []
  },
  {
   "cell_type": "code",
   "execution_count": 9,
   "metadata": {},
   "outputs": [],
   "source": [
    "with open('parentPath','w') as file:   # we do not have to close file\n",
    "    file.write('Hello\\nworld') "
   ]
  },
  {
   "cell_type": "code",
   "execution_count": 24,
   "metadata": {},
   "outputs": [],
   "source": [
    "with open('parentPath','a') as file:\n",
    "    file.write(input()+'\\n') "
   ]
  },
  {
   "cell_type": "code",
   "execution_count": null,
   "metadata": {},
   "outputs": [],
   "source": [
    "import os\n",
    "import re\n",
    "import pyperclip\n",
    "\n",
    "def getListOfFiles(dirName):\n",
    "    fTypes=['java','py','c','txt','inpynb','cpp']\n",
    "    listOfFile = os.listdir(dirName)\n",
    "    allFiles = list()\n",
    "    for item in listOfFile:\n",
    "        if re.search('^\\.|^djangorest',item):\n",
    "            continue #djangorest\n",
    "        fullPath = os.path.join(dirName, item)\n",
    "        if os.path.isdir(fullPath):\n",
    "            allFiles = allFiles + getListOfFiles(fullPath)\n",
    "        else:\n",
    "            if not os.path.splitext(item)[1][1:] in fTypes:\n",
    "                continue\n",
    "            allFiles.append(fullPath)\n",
    "    return allFiles\n",
    "\n",
    "def readfiles(fname):\n",
    "    f=open(fname)\n",
    "    temp= f.read()\n",
    "    return temp\n",
    "\n",
    "def isPresent(regex,string):\n",
    "\tx=re.search(regex,string,re.IGNORECASE)\n",
    "\treturn x!=None\n",
    "\n",
    "def shortPath(path):\n",
    "    if len(path)>70:\n",
    "        return path[:26]+'....'+path[-40::1]\n",
    "    else:\n",
    "        return path\n",
    "\n",
    "def insights(*args):\n",
    "    print('=================== insights ===================')\n",
    "    print('found match:',args[0])\n",
    "    print('Total file searched:',args[1])\n",
    "    print('================================================')\n",
    "    print('press ctrl f and then ctrl v in the notepad')\n",
    "\n",
    "\n",
    "def main():\n",
    "    path1=r'D:\\Works_Space\\SOA_University'\n",
    "    path2=r'D:\\Works_Space\\Timeline'\n",
    "    x=getListOfFiles(path1)+getListOfFiles(path2)\n",
    "\n",
    "    regex=input('enter keyword(regex) ')\n",
    "    pyperclip.copy(regex)\n",
    "    count=0\n",
    "    outcome=list()\n",
    "    for i in x:\n",
    "        try:\n",
    "            file=(readfiles(i))\n",
    "            if isPresent(regex,file):\n",
    "                outcome.append(i)\n",
    "                count+=1\n",
    "                print(count,'=>',shortPath(i))\n",
    "        except:\n",
    "            pass\n",
    "\n",
    "    insights(count,len(x))\n",
    "\n",
    "    if count==0:\n",
    "        print('No matching found')\n",
    "    elif count==1:\n",
    "        print(outcome[0])\n",
    "        os.startfile(outcome[0], 'open')\n",
    "    else:\n",
    "        while(1):\n",
    "            choice = int(input('enter an option number or 0 to quit:'))\n",
    "            if choice == 0: break\n",
    "            print(outcome[choice-1])\n",
    "            os.startfile(outcome[choice-1], 'open')\n",
    "\n",
    "if __name__ == '__main__':\n",
    "    main()"
   ]
  },
  {
   "cell_type": "code",
   "execution_count": 1,
   "metadata": {},
   "outputs": [
    {
     "name": "stdout",
     "output_type": "stream",
     "text": [
      "\u001b[44;33mHello World!\u001b[m\n"
     ]
    }
   ],
   "source": [
    "print(\"\\033[44;33mHello World!\\033[m\")"
   ]
  },
  {
   "cell_type": "code",
   "execution_count": null,
   "metadata": {},
   "outputs": [],
   "source": []
  },
  {
   "cell_type": "code",
   "execution_count": null,
   "metadata": {},
   "outputs": [],
   "source": []
  },
  {
   "cell_type": "markdown",
   "metadata": {},
   "source": [
    "# <font face='comic sans ms' color ='PaleTurquoise'>Experiment 1</font>"
   ]
  },
  {
   "cell_type": "code",
   "execution_count": null,
   "metadata": {},
   "outputs": [],
   "source": [
    "from threading import Thread\n",
    "import re"
   ]
  },
  {
   "cell_type": "code",
   "execution_count": null,
   "metadata": {},
   "outputs": [],
   "source": [
    "if __name__ == '__main__':\n",
    "    main()"
   ]
  },
  {
   "cell_type": "code",
   "execution_count": null,
   "metadata": {},
   "outputs": [],
   "source": [
    "class FilesPath(Thread):\n",
    "    def setPath(self,path1):\n",
    "        self.path=path1\n",
    "    def run(self):\n",
    "        def getListOfFiles(dirName):\n",
    "            fTypes=['java','py','c','txt','inpynb','cpp']\n",
    "            listOfFile = os.listdir(dirName)\n",
    "            allFiles = list()\n",
    "            for item in listOfFile:\n",
    "                if re.search('^\\.',item):\n",
    "                    continue\n",
    "                fullPath = os.path.join(dirName, item)\n",
    "                if os.path.isdir(fullPath):\n",
    "                    allFiles = allFiles + getListOfFiles(fullPath)\n",
    "                else:\n",
    "                    if not os.path.splitext(item)[1][1:] in fTypes:\n",
    "                        continue\n",
    "                    allFiles.append(fullPath)\n",
    "                    # f.write(item+\"\\n\")\n",
    "            return allFiles\n",
    "        # dirName=r'D:\\Works_Space\\SOA_University'\n",
    "        self.allFiles=getListOfFiles(self.path)"
   ]
  },
  {
   "cell_type": "code",
   "execution_count": null,
   "metadata": {},
   "outputs": [],
   "source": [
    "class Search:\n",
    "    def readFile(self,fname):\n",
    "        with open(fname,'r') as f:\n",
    "            temp= f.read()\n",
    "            return temp\n",
    "        return ''\n",
    "\n",
    "    def isPresent(self,regex,string):\n",
    "        x=re.search(regex,string,re.IGNORECASE)\n",
    "        return x!=None\n",
    "\n",
    "    def showMatch(self,regex,files):\n",
    "        count=0\n",
    "        outcome=list()\n",
    "        for file in files:\n",
    "            try:\n",
    "                content=self.readFile(file)\n",
    "                if self.isPresent(regex,content):\n",
    "                    outcome.append(file)\n",
    "                    count+=1\n",
    "                    print(count,'=>',file)\n",
    "            except:\n",
    "                pass\n",
    "        print('found match:',count)\n",
    "        print('Total file searched:',len(files))\n",
    "        self.nofMatch=count\n",
    "        self.matchedFiles=outcome\n",
    "        if count==0:\n",
    "            print('no match found')\n",
    "        elif count==1:\n",
    "            print(readFile(self,outcome[0]))\n",
    "        return count\n",
    "\n",
    "    def showMatchPos(self,choice):\n",
    "        print(self.readFile(self.matchedFiles[choice-1]))\n",
    "            "
   ]
  },
  {
   "cell_type": "code",
   "execution_count": null,
   "metadata": {},
   "outputs": [],
   "source": [
    "def getMetaFiles()->list:\n",
    "    with open('metadata.bb','r') as f:\n",
    "        content=f.read()\n",
    "        return content.split('\\n')"
   ]
  },
  {
   "cell_type": "code",
   "execution_count": null,
   "metadata": {},
   "outputs": [],
   "source": [
    "def updateMetaData(metaFiles,allFiles):\n",
    "    # print('size of metafiles',len(metaFiles),'all files',len(allFiles))\n",
    "    if len(metaFiles)-1==len(files):\n",
    "        False\n",
    "    c=0\n",
    "    with open('metadata.bb','a') as f:\n",
    "        for file in allFiles:\n",
    "            if not file in metaFiles:\n",
    "                c=1\n",
    "                f.write(file+'\\n')\n",
    "        \n",
    "    return True if c==0 else False"
   ]
  },
  {
   "cell_type": "code",
   "execution_count": null,
   "metadata": {},
   "outputs": [],
   "source": [
    "path1=r'D:\\Works_Space\\SOA_University'\n",
    "path2=r'D:\\Works_Space\\Timeline'\n",
    "thread1=FilesPath()\n",
    "thread2=FilesPath()\n",
    "thread1.setPath(path1)\n",
    "thread2.setPath(path2)\n",
    "thread1.start()\n",
    "thread2.start()\n",
    "\n",
    "files=getMetaFiles()\n",
    "if not files[0]:\n",
    "    thread1.join()\n",
    "    files=thread1.allFiles\n",
    "\n",
    "regex=input('enter keyword ')\n",
    "search=Search()\n",
    "search.showMatch(regex,files)\n",
    "while(1):\n",
    "    choice=int(input('enter your choice or 0 to exit '))\n",
    "    if not choice:break\n",
    "    search.showMatchPos(choice)\n",
    "    if not (Thread.is_alive(thread1) and Thread.is_alive(thread2)):\n",
    "        print('========================================inside is alive')\n",
    "        tempFiles=thread1.allFiles+thread2.allFiles\n",
    "        if updateMetaData(getMetaFiles(),tempFiles):\n",
    "            print('=========================================if changes')\n",
    "            search.showMatch(regex,files)\n",
    "            # files=tempFiles\n",
    "\n",
    "thread1.join()\n",
    "thread2.join()\n",
    "updateMetaData(getMetaFiles(),thread1.allFiles+thread2.allFiles)\n",
    "print('program exits')"
   ]
  },
  {
   "cell_type": "code",
   "execution_count": null,
   "metadata": {},
   "outputs": [],
   "source": [
    "not False and True"
   ]
  },
  {
   "cell_type": "code",
   "execution_count": null,
   "metadata": {},
   "outputs": [],
   "source": [
    "path1=r'D:\\Works_Space\\SOA_University'\n",
    "path2=r'D:\\Works_Space\\Timeline'\n",
    "f=FilesPath()\n",
    "f.setPath(path1)\n",
    "f.start()\n",
    "\n",
    "f.join()\n",
    "print('working')"
   ]
  },
  {
   "cell_type": "code",
   "execution_count": null,
   "metadata": {},
   "outputs": [],
   "source": [
    "files=f.allFiles"
   ]
  },
  {
   "cell_type": "code",
   "execution_count": null,
   "metadata": {},
   "outputs": [],
   "source": [
    "# files[100:110]"
   ]
  },
  {
   "cell_type": "code",
   "execution_count": null,
   "metadata": {},
   "outputs": [],
   "source": [
    "s=Search()\n",
    "content=s.readFile(files[100])\n",
    "s.isPresent('main',content)\n",
    "s.showMatch('main',files[100:110])"
   ]
  },
  {
   "cell_type": "code",
   "execution_count": null,
   "metadata": {},
   "outputs": [],
   "source": [
    "s.showMatchPos(1)"
   ]
  },
  {
   "cell_type": "code",
   "execution_count": null,
   "metadata": {},
   "outputs": [],
   "source": [
    "print(content)"
   ]
  },
  {
   "cell_type": "code",
   "execution_count": null,
   "metadata": {},
   "outputs": [],
   "source": []
  },
  {
   "cell_type": "code",
   "execution_count": null,
   "metadata": {},
   "outputs": [],
   "source": [
    "len(files)"
   ]
  },
  {
   "cell_type": "code",
   "execution_count": null,
   "metadata": {},
   "outputs": [],
   "source": []
  },
  {
   "cell_type": "code",
   "execution_count": null,
   "metadata": {},
   "outputs": [],
   "source": []
  },
  {
   "cell_type": "code",
   "execution_count": null,
   "metadata": {},
   "outputs": [],
   "source": [
    "path1=r'D:\\Works_Space\\SOA_University'\n",
    "path2=r'D:\\Works_Space\\Timeline'\n",
    "f=FilesPath()\n",
    "f.setPath(path2)\n",
    "f.start()\n",
    "\n",
    "f.join()\n",
    "print('working')\n",
    "type(f.allFiles)"
   ]
  },
  {
   "cell_type": "code",
   "execution_count": null,
   "metadata": {},
   "outputs": [],
   "source": []
  },
  {
   "cell_type": "code",
   "execution_count": null,
   "metadata": {},
   "outputs": [],
   "source": [
    "import os\n",
    "import re\n",
    "f=open('temp.txt','w')\n",
    "def getListOfFiles(dirName):\n",
    "    fTypes=['java','py','c','txt','inpynb','cpp']\n",
    "    listOfFile = os.listdir(dirName)\n",
    "    allFiles = list()\n",
    "    for item in listOfFile:\n",
    "        if re.search('^\\.',item):\n",
    "            continue\n",
    "        fullPath = os.path.join(dirName, item)\n",
    "        if os.path.isdir(fullPath):\n",
    "            allFiles = allFiles + getListOfFiles(fullPath)\n",
    "        else:\n",
    "            if not os.path.splitext(item)[1][1:] in fTypes:\n",
    "                continue\n",
    "            allFiles.append(fullPath)\n",
    "            f.write(item+\"\\n\")\n",
    "    return allFiles\n",
    "\n",
    "def readfiles(fname):\n",
    "    f=open(fname)\n",
    "    temp= f.read()\n",
    "    return temp\n",
    "\n",
    "def isPresent(regex,string):\n",
    "\tx=re.search(regex,string,re.IGNORECASE)\n",
    "\treturn x!=None\n",
    "\n",
    "def main():\n",
    "    path1=r'D:\\Works_Space\\SOA_University'\n",
    "    path2=r'D:\\Works_Space\\Timeline'\n",
    "    x=getListOfFiles(path1)+getListOfFiles(path2)\n",
    "\n",
    "    regex=input('enter keyword(regex) ')\n",
    "    count=0\n",
    "    outcome=list()\n",
    "    for i in x:\n",
    "        try:\n",
    "            file=(readfiles(i))\n",
    "            if isPresent(regex,file):\n",
    "                outcome.append(i)\n",
    "                count+=1\n",
    "                print(count,'=>',i)\n",
    "        except:\n",
    "            pass\n",
    "    print('found match:',count)\n",
    "    print('Total file searched:',len(x))\n",
    "\n",
    "    \n",
    "    if count==0:\n",
    "        print('No matching found')\n",
    "        choice = input('press enter to exit')\n",
    "    elif count==1:\n",
    "        print(readfiles(outcome[0]))\n",
    "        choice = input('press enter to exit')\n",
    "    else:\n",
    "        while(1):\n",
    "            choice = int(input('enter an option number or 0 to quit:'))\n",
    "            if choice == 0: break\n",
    "            print(readfiles(outcome[choice-1]))\n"
   ]
  },
  {
   "cell_type": "markdown",
   "metadata": {},
   "source": [
    "#### <font face='comic sans ms' color ='PaleTurquoise'>Dumper</font>"
   ]
  },
  {
   "cell_type": "code",
   "execution_count": null,
   "metadata": {},
   "outputs": [],
   "source": [
    "from threading import Thread"
   ]
  },
  {
   "cell_type": "code",
   "execution_count": null,
   "metadata": {},
   "outputs": [],
   "source": [
    "class OnThread(Thread):\n",
    "    def setTime(self,time):\n",
    "        self.time=time\n",
    "    def run(self):\n",
    "        sleep(self.time)\n",
    "        print(self.time)"
   ]
  },
  {
   "cell_type": "code",
   "execution_count": null,
   "metadata": {},
   "outputs": [],
   "source": [
    "from time import sleep\n",
    "t1=OnThread()\n",
    "t2=OnThread()\n",
    "t1.setTime(1)\n",
    "t2.setTime(5)\n",
    "t1.start()\n",
    "t2.start()\n",
    "\n",
    "while(1):\n",
    "    if Thread.is_alive(t1):\n",
    "        print('yes')\n",
    "        input()\n",
    "    else:\n",
    "        break\n",
    "t1.join()\n",
    "t2.join()\n",
    "print('done')"
   ]
  },
  {
   "cell_type": "code",
   "execution_count": null,
   "metadata": {},
   "outputs": [],
   "source": [
    "with open('.metadata','w') as f:\n",
    "    f.write('bali')"
   ]
  },
  {
   "cell_type": "code",
   "execution_count": null,
   "metadata": {},
   "outputs": [],
   "source": [
    "with open('cns.ipynb','r') as f:\n",
    "    str1=f.read()\n",
    "    print(str1)"
   ]
  },
  {
   "cell_type": "code",
   "execution_count": null,
   "metadata": {},
   "outputs": [],
   "source": [
    "if re.search('^\\.','cbabu.bali'):\n",
    "    print('yes')\n",
    "else:\n",
    "    print('no')"
   ]
  },
  {
   "cell_type": "code",
   "execution_count": null,
   "metadata": {},
   "outputs": [],
   "source": [
    "dire=r'C:\\Users\\19410\\My Drive\\interview'\n",
    "files=getListOfFiles(dire)\n",
    "files"
   ]
  },
  {
   "cell_type": "code",
   "execution_count": null,
   "metadata": {},
   "outputs": [],
   "source": [
    "fTypes=['java','py','c','txt','inpynb','cpp']"
   ]
  },
  {
   "cell_type": "code",
   "execution_count": null,
   "metadata": {},
   "outputs": [],
   "source": [
    "for file in files:\n",
    "    print(re.search(fTypes[3],file,re.IGNORECASE))\n",
    "    "
   ]
  },
  {
   "cell_type": "code",
   "execution_count": null,
   "metadata": {},
   "outputs": [],
   "source": [
    "for file in files:\n",
    "    print(os.path.splitext(file)[1][1:])"
   ]
  },
  {
   "cell_type": "code",
   "execution_count": null,
   "metadata": {},
   "outputs": [],
   "source": [
    "regexCustom('[0-9]+')"
   ]
  },
  {
   "cell_type": "code",
   "execution_count": null,
   "metadata": {},
   "outputs": [],
   "source": [
    "def regexCustom(str1):\n",
    "    try:\n",
    "        m=re.search(str1,'bali babu 404 chauhan')\n",
    "        print(m.group())\n",
    "    except:\n",
    "        print('error')"
   ]
  },
  {
   "cell_type": "code",
   "execution_count": null,
   "metadata": {},
   "outputs": [],
   "source": [
    "for i in  range(10):\n",
    "    if not i in [3,4]:\n",
    "        continue\n",
    "    print(i)"
   ]
  },
  {
   "cell_type": "code",
   "execution_count": null,
   "metadata": {},
   "outputs": [],
   "source": [
    "import os\n",
    "import re\n",
    "def getListOfFiles(dirName):\n",
    "    fTypes=['java','py','c','txt','inpynb','cpp']\n",
    "    listOfFile = os.listdir(dirName)\n",
    "    allFiles = list()\n",
    "    for item in listOfFile:\n",
    "        if re.search('^\\.',item):\n",
    "            continue\n",
    "        # if not os.path.splitext(item)[1][1:] in fTypes:\n",
    "        #     continue\n",
    "        fullPath = os.path.join(dirName, item)\n",
    "        if os.path.isdir(fullPath):\n",
    "            allFiles = allFiles + getListOfFiles(fullPath)\n",
    "        else:\n",
    "            if not os.path.splitext(item)[1][1:] in fTypes:\n",
    "                continue\n",
    "            allFiles.append(fullPath)\n",
    "    return allFiles\n"
   ]
  },
  {
   "cell_type": "code",
   "execution_count": null,
   "metadata": {},
   "outputs": [],
   "source": [
    "\n",
    "def readfiles(fname):\n",
    "    f=open(fname)\n",
    "    temp= f.read()\n",
    "    return temp\n",
    "    \n"
   ]
  },
  {
   "cell_type": "code",
   "execution_count": null,
   "metadata": {},
   "outputs": [],
   "source": [
    "def isPresent(regex,string):\n",
    "\tx=re.search(regex,string,re.IGNORECASE)\n",
    "\treturn x!=None\n"
   ]
  },
  {
   "cell_type": "code",
   "execution_count": null,
   "metadata": {},
   "outputs": [],
   "source": [
    "\n",
    "\n",
    "# path=r'C:\\Users\\19410\\My Drive\\interview'\n",
    "path=r'D:\\Works_Space\\SOA_University\\Semester_6\\IDP'\n",
    "#print('give a path or just press enter for default')\n",
    "#x=input('default:C:\\\\Users\\\\19410\\\\My Drive\\\\ \\n')\n",
    "#if x!='':\n",
    "#    path=x\n",
    "x=(getListOfFiles(path))    \n",
    "\n",
    "regex=input('enter keyword(regex) ')\n",
    "count=0\n",
    "outcome=list()\n",
    "for i in x:\n",
    "    try:\n",
    "        file=(readfiles(i))\n",
    "        if isPresent(regex,file):\n",
    "            outcome.append(i)\n",
    "            count+=1\n",
    "            print(count,'=>',i)\n",
    "    except:\n",
    "        pass\n",
    "print('found match:',count)\n",
    "print('Total file searched:',len(x))\n",
    "if count==0:\n",
    "    print('No matching found')\n",
    "    #choice = input('press enter to exit')\n",
    "elif count==1:\n",
    "    print(readfiles(outcome[0]))\n",
    "    # choice = input('press enter to exit')\n",
    "else:\n",
    "    while(1):\n",
    "        choice = int(input('enter an option number or 0 to quit:'))\n",
    "        if choice == 0: break\n",
    "        print(readfiles(outcome[choice-1]))\n",
    "\n",
    "\n",
    "\n"
   ]
  },
  {
   "cell_type": "code",
   "execution_count": null,
   "metadata": {},
   "outputs": [],
   "source": [
    "path=r'D:\\Works_Space\\SOA_University\\Semester_6\\IDP'\n",
    "x=(getListOfFiles(path)) \n",
    "x   "
   ]
  },
  {
   "cell_type": "code",
   "execution_count": null,
   "metadata": {},
   "outputs": [],
   "source": [
    "import re"
   ]
  },
  {
   "cell_type": "code",
   "execution_count": null,
   "metadata": {},
   "outputs": [],
   "source": [
    "re.search('ca|b1a|n1','balibabuchuahan1')"
   ]
  },
  {
   "cell_type": "code",
   "execution_count": 50,
   "metadata": {},
   "outputs": [],
   "source": [
    "c='''bali babu\n",
    "chauhan'''"
   ]
  },
  {
   "cell_type": "code",
   "execution_count": 52,
   "metadata": {},
   "outputs": [
    {
     "name": "stdout",
     "output_type": "stream",
     "text": [
      "hello\n",
      "world\n"
     ]
    }
   ],
   "source": [
    "print('hello\\nworld')"
   ]
  },
  {
   "cell_type": "code",
   "execution_count": 53,
   "metadata": {},
   "outputs": [
    {
     "name": "stdout",
     "output_type": "stream",
     "text": [
      "bali babu\n",
      "chauhan\n"
     ]
    }
   ],
   "source": [
    "print(c)"
   ]
  },
  {
   "cell_type": "code",
   "execution_count": 55,
   "metadata": {},
   "outputs": [],
   "source": [
    "fTypes=['java','py','c','txt','cpp','ipynb']"
   ]
  },
  {
   "cell_type": "code",
   "execution_count": 56,
   "metadata": {},
   "outputs": [],
   "source": [
    "fTypes.remove('cpp')"
   ]
  },
  {
   "cell_type": "code",
   "execution_count": 58,
   "metadata": {},
   "outputs": [],
   "source": [
    "fTypes=['cpp']"
   ]
  },
  {
   "cell_type": "code",
   "execution_count": 60,
   "metadata": {},
   "outputs": [
    {
     "data": {
      "text/plain": [
       "['cpp']"
      ]
     },
     "execution_count": 60,
     "metadata": {},
     "output_type": "execute_result"
    }
   ],
   "source": [
    "fTypes"
   ]
  },
  {
   "cell_type": "code",
   "execution_count": 62,
   "metadata": {},
   "outputs": [
    {
     "data": {
      "text/plain": [
       "'123'"
      ]
     },
     "execution_count": 62,
     "metadata": {},
     "output_type": "execute_result"
    }
   ],
   "source": [
    "'123'\n"
   ]
  },
  {
   "cell_type": "code",
   "execution_count": null,
   "metadata": {},
   "outputs": [],
   "source": []
  }
 ],
 "metadata": {
  "kernelspec": {
   "display_name": "Python 3.9.7 ('base')",
   "language": "python",
   "name": "python3"
  },
  "language_info": {
   "codemirror_mode": {
    "name": "ipython",
    "version": 3
   },
   "file_extension": ".py",
   "mimetype": "text/x-python",
   "name": "python",
   "nbconvert_exporter": "python",
   "pygments_lexer": "ipython3",
   "version": "3.9.7"
  },
  "orig_nbformat": 4,
  "vscode": {
   "interpreter": {
    "hash": "649e9a488baa9f755be1bd774174f13c00c6eb61d6f5988e2904ab6e22ac3fc0"
   }
  }
 },
 "nbformat": 4,
 "nbformat_minor": 2
}
