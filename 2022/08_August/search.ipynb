{
 "cells": [
  {
   "cell_type": "code",
   "execution_count": 1,
   "metadata": {},
   "outputs": [],
   "source": [
    "from threading import Thread\n",
    "import re"
   ]
  },
  {
   "cell_type": "code",
   "execution_count": null,
   "metadata": {},
   "outputs": [],
   "source": [
    "if __name__ == '__main__':\n",
    "    main()"
   ]
  },
  {
   "cell_type": "code",
   "execution_count": 97,
   "metadata": {},
   "outputs": [],
   "source": [
    "class FilesPath(Thread):\n",
    "    def setPath(self,path1):\n",
    "        self.path=path1\n",
    "    def run(self):\n",
    "        def getListOfFiles(dirName):\n",
    "            fTypes=['java','py','c','txt','inpynb','cpp']\n",
    "            listOfFile = os.listdir(dirName)\n",
    "            allFiles = list()\n",
    "            for item in listOfFile:\n",
    "                if re.search('^\\.',item):\n",
    "                    continue\n",
    "                fullPath = os.path.join(dirName, item)\n",
    "                if os.path.isdir(fullPath):\n",
    "                    allFiles = allFiles + getListOfFiles(fullPath)\n",
    "                else:\n",
    "                    if not os.path.splitext(item)[1][1:] in fTypes:\n",
    "                        continue\n",
    "                    allFiles.append(fullPath)\n",
    "                    # f.write(item+\"\\n\")\n",
    "            return allFiles\n",
    "        # dirName=r'D:\\Works_Space\\SOA_University'\n",
    "        self.allFiles=getListOfFiles(self.path)"
   ]
  },
  {
   "cell_type": "code",
   "execution_count": 103,
   "metadata": {},
   "outputs": [],
   "source": [
    "class Search:\n",
    "    def readFile(self,fname):\n",
    "        with open(fname,'r') as f:\n",
    "            temp= f.read()\n",
    "            return temp\n",
    "        return ''\n",
    "\n",
    "    def isPresent(self,regex,string):\n",
    "        x=re.search(regex,string,re.IGNORECASE)\n",
    "        return x!=None\n",
    "\n",
    "    def showMatch(self,regex,files):\n",
    "        count=0\n",
    "        outcome=list()\n",
    "        for file in files:\n",
    "            try:\n",
    "                content=self.readFile(file)\n",
    "                if self.isPresent(regex,content):\n",
    "                    outcome.append(file)\n",
    "                    count+=1\n",
    "                    print(count,'=>',file)\n",
    "            except:\n",
    "                pass\n",
    "        print('found match:',count)\n",
    "        print('Total file searched:',len(files))\n",
    "        self.nofMatch=count\n",
    "        self.matchedFiles=outcome\n",
    "        if count==0:\n",
    "            print('no match found')\n",
    "        elif count==1:\n",
    "            print(readFile(self,outcome[0]))\n",
    "        return count\n",
    "\n",
    "    def showMatchPos(self,choice):\n",
    "        print(self.readFile(self.matchedFiles[choice-1]))\n",
    "            "
   ]
  },
  {
   "cell_type": "code",
   "execution_count": 104,
   "metadata": {},
   "outputs": [],
   "source": [
    "def getMetaFiles()->list:\n",
    "    with open('metadata.bb','r') as f:\n",
    "        content=f.read()\n",
    "        return content.split('\\n')"
   ]
  },
  {
   "cell_type": "code",
   "execution_count": 116,
   "metadata": {},
   "outputs": [],
   "source": [
    "def updateMetaData(metaFiles,allFiles):\n",
    "    # print('size of metafiles',len(metaFiles),'all files',len(allFiles))\n",
    "    if len(metaFiles)-1==len(files):\n",
    "        False\n",
    "    c=0\n",
    "    with open('metadata.bb','a') as f:\n",
    "        for file in allFiles:\n",
    "            if not file in metaFiles:\n",
    "                c=1\n",
    "                f.write(file+'\\n')\n",
    "        \n",
    "    return True if c==0 else False"
   ]
  },
  {
   "cell_type": "code",
   "execution_count": 119,
   "metadata": {},
   "outputs": [
    {
     "name": "stdout",
     "output_type": "stream",
     "text": [
      "1 => D:\\Works_Space\\SOA_University\\Semester_6\\ID\\assignment 6\\jdbc\\database\\src\\examQuestions\\hashRelated.java\n",
      "2 => D:\\Works_Space\\SOA_University\\Semester_6\\ID\\assignment 6\\jdbc\\database\\src\\examQuestions\\UserMainCode.java\n",
      "3 => D:\\Works_Space\\SOA_University\\Semester_6\\UNP\\Programes\\June24\\bali.txt\n",
      "found match: 3\n",
      "Total file searched: 154\n",
      "package examQuestions;\n",
      "\n",
      "import java.util.HashMap;\n",
      "import java.util.Map;\n",
      "import java.util.Map.Entry;\n",
      "import java.util.Set;\n",
      "\n",
      "public class hashRelated {\n",
      "\n",
      "\tpublic static void main(String[] args) {\n",
      "\t\tHashMap<Integer, String> map=new HashMap<Integer, String>();\n",
      "\t\tmap.put(123, \"bali\");\n",
      "\t\tmap.put(124, \"amrit\");\n",
      "\t\tmap.put(125, \"rajshri\");\n",
      "\t\tmap.put(126, \"priya\");\n",
      "\t\tmap.put(127, \"komal\");\n",
      "\t\t\n",
      "\t\tSystem.out.println(map.size());\n",
      "\t\tHashMap<Integer, String> map2=map;\n",
      "\t\tmap2.put(128,\"Anusha\");\n",
      "\t\tSystem.out.println(map.size());\n",
      "\t\t\n",
      "//\t\tmethod1(map);\n",
      "//\t\tmethod2(map);\n",
      "//\t\tmethod3(map);\n",
      "//\t\tmethod4(map);\n",
      "\t\tSystem.out.println(\"Done execution.......\");\n",
      "\t}\n",
      "\t\n",
      "\tpublic static void method1(HashMap<Integer, String> map) {\n",
      "\t\tSystem.out.println(map.get(126));\n",
      "\t}\t\n",
      "\tpublic static void method2(HashMap<Integer, String> map) {\n",
      "\t\tSet<Integer> keys=map.keySet();\n",
      "\t\tfor(int i:keys) {\n",
      "\t\t\tSystem.out.println(map.get(i));\n",
      "\t\t}\n",
      "\t}\n",
      "\tpublic static void method3(HashMap<Integer, String> map) {\n",
      "\t\tSet<Entry<Integer, String>> values=map.entrySet();\n",
      "\t\tfor(Map.Entry<Integer, String> e: values) {\n",
      "//\t\t\te.setValue(\"babu\");\n",
      "\t\t\tSystem.out.println(e.getKey()+\":\"+e.getValue());\n",
      "\t\t}\n",
      "//\t\tmethod2(map);\n",
      "\t}\n",
      "\n",
      "\tpublic static void method4(HashMap<Integer, String> map) {\n",
      "\t\tSystem.out.println((map.containsKey(123)));\n",
      "\t\t\n",
      "\t}\n",
      "}\n",
      "\n",
      "========================================inside is alive\n",
      "package examQuestions;\n",
      "\n",
      "import java.util.HashMap;\n",
      "import java.util.Map;\n",
      "import java.util.Map.Entry;\n",
      "import java.util.Set;\n",
      "\n",
      "public class hashRelated {\n",
      "\n",
      "\tpublic static void main(String[] args) {\n",
      "\t\tHashMap<Integer, String> map=new HashMap<Integer, String>();\n",
      "\t\tmap.put(123, \"bali\");\n",
      "\t\tmap.put(124, \"amrit\");\n",
      "\t\tmap.put(125, \"rajshri\");\n",
      "\t\tmap.put(126, \"priya\");\n",
      "\t\tmap.put(127, \"komal\");\n",
      "\t\t\n",
      "\t\tSystem.out.println(map.size());\n",
      "\t\tHashMap<Integer, String> map2=map;\n",
      "\t\tmap2.put(128,\"Anusha\");\n",
      "\t\tSystem.out.println(map.size());\n",
      "\t\t\n",
      "//\t\tmethod1(map);\n",
      "//\t\tmethod2(map);\n",
      "//\t\tmethod3(map);\n",
      "//\t\tmethod4(map);\n",
      "\t\tSystem.out.println(\"Done execution.......\");\n",
      "\t}\n",
      "\t\n",
      "\tpublic static void method1(HashMap<Integer, String> map) {\n",
      "\t\tSystem.out.println(map.get(126));\n",
      "\t}\t\n",
      "\tpublic static void method2(HashMap<Integer, String> map) {\n",
      "\t\tSet<Integer> keys=map.keySet();\n",
      "\t\tfor(int i:keys) {\n",
      "\t\t\tSystem.out.println(map.get(i));\n",
      "\t\t}\n",
      "\t}\n",
      "\tpublic static void method3(HashMap<Integer, String> map) {\n",
      "\t\tSet<Entry<Integer, String>> values=map.entrySet();\n",
      "\t\tfor(Map.Entry<Integer, String> e: values) {\n",
      "//\t\t\te.setValue(\"babu\");\n",
      "\t\t\tSystem.out.println(e.getKey()+\":\"+e.getValue());\n",
      "\t\t}\n",
      "//\t\tmethod2(map);\n",
      "\t}\n",
      "\n",
      "\tpublic static void method4(HashMap<Integer, String> map) {\n",
      "\t\tSystem.out.println((map.containsKey(123)));\n",
      "\t\t\n",
      "\t}\n",
      "}\n",
      "\n",
      "========================================inside is alive\n",
      "=========================================if changes\n",
      "1 => D:\\Works_Space\\SOA_University\\Semester_6\\ID\\assignment 6\\jdbc\\database\\src\\examQuestions\\hashRelated.java\n",
      "2 => D:\\Works_Space\\SOA_University\\Semester_6\\ID\\assignment 6\\jdbc\\database\\src\\examQuestions\\UserMainCode.java\n",
      "3 => D:\\Works_Space\\SOA_University\\Semester_6\\UNP\\Programes\\June24\\bali.txt\n",
      "found match: 3\n",
      "Total file searched: 154\n",
      "package examQuestions;\n",
      "\n",
      "import java.nio.channels.UnsupportedAddressTypeException;\n",
      "\n",
      "public class UserMainCode {\n",
      "\n",
      "\tpublic static void main(String[] args) {\n",
      "\t\tString str=\"Bali bAbu\";\n",
      "\t\tSystem.out.println(reverseWordsAndCase(\"Wipro Technologies, Banglore,1\",1));\n",
      "\t\t\n",
      "\t}\n",
      "\tpublic static String reverseWordsAndCase(String input1,int input2) {\n",
      "\t\tif(input2==0) {\n",
      "\t\t\treturn case1(input1);\n",
      "\t\t}\n",
      "\t\treturn case2(input1);\n",
      "\t}\n",
      "\tpublic static String case2(String str) {\n",
      "\t\tString[] arrOfStr = str.split(\" \");\n",
      "\t\tString newStr=reverse2(arrOfStr[0]);\n",
      "\t\tfor(int i=1;i<arrOfStr.length;i++) {\n",
      "\t\t\tnewStr+=\" \"+reverse2(arrOfStr[i]);\n",
      "\t\t}\n",
      "\t\treturn newStr;\n",
      "\t}\n",
      "\t\n",
      "\tpublic static String case1(String str) {\n",
      "\t\tString[] arrOfStr = str.split(\" \");\n",
      "\t\tString newStr=reverse(arrOfStr[0]);\n",
      "\t\t\n",
      "\t\tfor(int i=1;i<arrOfStr.length;i++) {\n",
      "\t\t\tnewStr+=\" \"+reverse(arrOfStr[i]);\n",
      "\t\t}\n",
      "\t\treturn newStr;\n",
      "\t}\n",
      "\t\n",
      "\tpublic static String reverse(String str) {\n",
      "\t\tString newStr=\"\";\n",
      "\t\tfor(int i=str.length()-1;i>=0;i--) {\n",
      "\t\t\tnewStr+=str.charAt(i);\n",
      "\t\t}\n",
      "\t\treturn newStr;\n",
      "\t}\n",
      "\tpublic static String reverse2(String str) {\n",
      "\t\tint[] arr=new int[str.length()];\n",
      "\t\tfor(int i=0;i<str.length();i++) {\n",
      "\t\t\tif(str.charAt(i)>=65 && str.charAt(i)<=90) {\n",
      "\t\t\t\tarr[i]=1;\n",
      "\t\t\t}\n",
      "\t\t}\n",
      "\t\tstr=str.toLowerCase();\n",
      "\t\tchar[] charArr=reverse(str).toCharArray();\n",
      "\t\tfor(int i=0;i<charArr.length;i++) {\n",
      "\t\t\tif(arr[i]==1) {\n",
      "\t\t\t\tif(charArr[i]>=97 && charArr[i]<=122) {\n",
      "\t\t\t\t\tcharArr[i]-=32;\n",
      "\t\t\t\t}else {\n",
      "\t\t\t\t\tcharArr[charArr.length-i-1]-=32;\n",
      "\t\t\t\t}\n",
      "\t\t\t}\n",
      "\t\t}\n",
      "\t\tString newStr=new String(charArr);\n",
      "\t\treturn newStr;\n",
      "\t}\n",
      "\n",
      "}\n",
      "\n",
      "========================================inside is alive\n",
      "=========================================if changes\n",
      "1 => D:\\Works_Space\\SOA_University\\Semester_6\\ID\\assignment 6\\jdbc\\database\\src\\examQuestions\\hashRelated.java\n",
      "2 => D:\\Works_Space\\SOA_University\\Semester_6\\ID\\assignment 6\\jdbc\\database\\src\\examQuestions\\UserMainCode.java\n",
      "3 => D:\\Works_Space\\SOA_University\\Semester_6\\UNP\\Programes\\June24\\bali.txt\n",
      "found match: 3\n",
      "Total file searched: 154\n",
      "program exits\n"
     ]
    }
   ],
   "source": [
    "path1=r'D:\\Works_Space\\SOA_University'\n",
    "path2=r'D:\\Works_Space\\Timeline'\n",
    "thread1=FilesPath()\n",
    "thread2=FilesPath()\n",
    "thread1.setPath(path1)\n",
    "thread2.setPath(path2)\n",
    "thread1.start()\n",
    "thread2.start()\n",
    "\n",
    "files=getMetaFiles()\n",
    "if not files[0]:\n",
    "    thread1.join()\n",
    "    files=thread1.allFiles\n",
    "\n",
    "regex=input('enter keyword ')\n",
    "search=Search()\n",
    "search.showMatch(regex,files)\n",
    "while(1):\n",
    "    choice=int(input('enter your choice or 0 to exit '))\n",
    "    if not choice:break\n",
    "    search.showMatchPos(choice)\n",
    "    if not (Thread.is_alive(thread1) and Thread.is_alive(thread2)):\n",
    "        print('========================================inside is alive')\n",
    "        tempFiles=thread1.allFiles+thread2.allFiles\n",
    "        if updateMetaData(getMetaFiles(),tempFiles):\n",
    "            print('=========================================if changes')\n",
    "            search.showMatch(regex,files)\n",
    "            # files=tempFiles\n",
    "\n",
    "thread1.join()\n",
    "thread2.join()\n",
    "updateMetaData(getMetaFiles(),thread1.allFiles+thread2.allFiles)\n",
    "print('program exits')"
   ]
  },
  {
   "cell_type": "code",
   "execution_count": 61,
   "metadata": {},
   "outputs": [
    {
     "data": {
      "text/plain": [
       "True"
      ]
     },
     "execution_count": 61,
     "metadata": {},
     "output_type": "execute_result"
    }
   ],
   "source": [
    "not False and True"
   ]
  },
  {
   "cell_type": "code",
   "execution_count": 49,
   "metadata": {},
   "outputs": [
    {
     "name": "stdout",
     "output_type": "stream",
     "text": [
      "working\n"
     ]
    }
   ],
   "source": [
    "path1=r'D:\\Works_Space\\SOA_University'\n",
    "path2=r'D:\\Works_Space\\Timeline'\n",
    "f=FilesPath()\n",
    "f.setPath(path1)\n",
    "f.start()\n",
    "\n",
    "f.join()\n",
    "print('working')"
   ]
  },
  {
   "cell_type": "code",
   "execution_count": 50,
   "metadata": {},
   "outputs": [],
   "source": [
    "files=f.allFiles"
   ]
  },
  {
   "cell_type": "code",
   "execution_count": 51,
   "metadata": {},
   "outputs": [],
   "source": [
    "# files[100:110]"
   ]
  },
  {
   "cell_type": "code",
   "execution_count": 52,
   "metadata": {},
   "outputs": [
    {
     "name": "stdout",
     "output_type": "stream",
     "text": [
      "1 => D:\\Works_Space\\SOA_University\\Semester_6\\UNP\\Programes\\June7\\tcpechoclient.c\n",
      "2 => D:\\Works_Space\\SOA_University\\Semester_6\\UNP\\Programes\\June7\\tcpechoserver.c\n",
      "3 => D:\\Works_Space\\SOA_University\\Semester_6\\UNP\\Programes\\June7\\UDPclient.c\n",
      "4 => D:\\Works_Space\\SOA_University\\Semester_6\\UNP\\Programes\\June7\\UDPserver.c\n",
      "5 => D:\\Works_Space\\SOA_University\\Semester_6\\UNP\\server.c\n",
      "6 => D:\\Works_Space\\SOA_University\\Semester_6\\UNP\\socket.txt\n",
      "7 => D:\\Works_Space\\SOA_University\\Virtusa\\practiceandreferencefortheonlinetestvirtusa\\1.java\n",
      "8 => D:\\Works_Space\\SOA_University\\Virtusa\\practiceandreferencefortheonlinetestvirtusa\\10.java\n",
      "9 => D:\\Works_Space\\SOA_University\\Virtusa\\practiceandreferencefortheonlinetestvirtusa\\11.java\n",
      "10 => D:\\Works_Space\\SOA_University\\Virtusa\\practiceandreferencefortheonlinetestvirtusa\\12.java\n",
      "found match: 10\n",
      "Total file searched: 10\n"
     ]
    },
    {
     "data": {
      "text/plain": [
       "10"
      ]
     },
     "execution_count": 52,
     "metadata": {},
     "output_type": "execute_result"
    }
   ],
   "source": [
    "s=Search()\n",
    "content=s.readFile(files[100])\n",
    "s.isPresent('main',content)\n",
    "s.showMatch('main',files[100:110])"
   ]
  },
  {
   "cell_type": "code",
   "execution_count": 53,
   "metadata": {},
   "outputs": [
    {
     "name": "stdout",
     "output_type": "stream",
     "text": [
      "#include<stdio.h>\n",
      "#include<sys/types.h>\n",
      "#include<sys/socket.h>\n",
      "#include<netinet/in.h>\n",
      "#include<netdb.h>\n",
      "#define SERV_TCP_PORT 5035\n",
      "int main(int argc,char*argv[])\n",
      "{\n",
      "       int sockfd;\n",
      "       struct sockaddr_in serv_addr;\n",
      "       struct hostent *server;\n",
      "       char buffer[4096];\n",
      "       sockfd=socket(AF_INET,SOCK_STREAM,0);\n",
      "       serv_addr.sin_family=AF_INET;\n",
      "       serv_addr.sin_addr.s_addr=inet_addr(\"127.0.0.1\");\n",
      "       serv_addr.sin_port=htons(SERV_TCP_PORT);\n",
      "       printf(\"\\nReady for sending...\");\n",
      "       connect(sockfd,(struct sockaddr*)&serv_addr,sizeof(serv_addr));\n",
      "       printf(\"\\nEnter the message to send\\n\");\n",
      "       printf(\"\\nClient: \");\n",
      "       fgets(buffer,4096,stdin);\n",
      "       write(sockfd,buffer,4096);\n",
      "       printf(\"Serverecho:%s\",buffer);\n",
      "       printf(\"\\n\");\n",
      "       close(sockfd);\n",
      "       return 0;\n",
      "}\n",
      "\n"
     ]
    }
   ],
   "source": [
    "s.showMatchPos(1)"
   ]
  },
  {
   "cell_type": "code",
   "execution_count": 11,
   "metadata": {},
   "outputs": [
    {
     "name": "stdout",
     "output_type": "stream",
     "text": [
      "#include<stdio.h>\n",
      "#include<sys/types.h>\n",
      "#include<sys/socket.h>\n",
      "#include<netinet/in.h>\n",
      "#include<netdb.h>\n",
      "#define SERV_TCP_PORT 5035\n",
      "int main(int argc,char*argv[])\n",
      "{\n",
      "       int sockfd;\n",
      "       struct sockaddr_in serv_addr;\n",
      "       struct hostent *server;\n",
      "       char buffer[4096];\n",
      "       sockfd=socket(AF_INET,SOCK_STREAM,0);\n",
      "       serv_addr.sin_family=AF_INET;\n",
      "       serv_addr.sin_addr.s_addr=inet_addr(\"127.0.0.1\");\n",
      "       serv_addr.sin_port=htons(SERV_TCP_PORT);\n",
      "       printf(\"\\nReady for sending...\");\n",
      "       connect(sockfd,(struct sockaddr*)&serv_addr,sizeof(serv_addr));\n",
      "       printf(\"\\nEnter the message to send\\n\");\n",
      "       printf(\"\\nClient: \");\n",
      "       fgets(buffer,4096,stdin);\n",
      "       write(sockfd,buffer,4096);\n",
      "       printf(\"Serverecho:%s\",buffer);\n",
      "       printf(\"\\n\");\n",
      "       close(sockfd);\n",
      "       return 0;\n",
      "}\n",
      "\n"
     ]
    }
   ],
   "source": [
    "print(content)"
   ]
  },
  {
   "cell_type": "code",
   "execution_count": null,
   "metadata": {},
   "outputs": [],
   "source": []
  },
  {
   "cell_type": "code",
   "execution_count": 123,
   "metadata": {},
   "outputs": [
    {
     "data": {
      "text/plain": [
       "153"
      ]
     },
     "execution_count": 123,
     "metadata": {},
     "output_type": "execute_result"
    }
   ],
   "source": [
    "len(files)"
   ]
  },
  {
   "cell_type": "code",
   "execution_count": null,
   "metadata": {},
   "outputs": [],
   "source": []
  },
  {
   "cell_type": "code",
   "execution_count": null,
   "metadata": {},
   "outputs": [],
   "source": []
  },
  {
   "cell_type": "code",
   "execution_count": 52,
   "metadata": {},
   "outputs": [
    {
     "name": "stdout",
     "output_type": "stream",
     "text": [
      "working\n"
     ]
    },
    {
     "data": {
      "text/plain": [
       "list"
      ]
     },
     "execution_count": 52,
     "metadata": {},
     "output_type": "execute_result"
    }
   ],
   "source": [
    "path1=r'D:\\Works_Space\\SOA_University'\n",
    "path2=r'D:\\Works_Space\\Timeline'\n",
    "f=FilesPath()\n",
    "f.setPath(path2)\n",
    "f.start()\n",
    "\n",
    "f.join()\n",
    "print('working')\n",
    "type(f.allFiles)"
   ]
  },
  {
   "cell_type": "code",
   "execution_count": 48,
   "metadata": {},
   "outputs": [
    {
     "data": {
      "text/plain": [
       "list"
      ]
     },
     "execution_count": 48,
     "metadata": {},
     "output_type": "execute_result"
    }
   ],
   "source": []
  },
  {
   "cell_type": "code",
   "execution_count": 41,
   "metadata": {},
   "outputs": [],
   "source": [
    "import os\n",
    "import re\n",
    "f=open('temp.txt','w')\n",
    "def getListOfFiles(dirName):\n",
    "    fTypes=['java','py','c','txt','inpynb','cpp']\n",
    "    listOfFile = os.listdir(dirName)\n",
    "    allFiles = list()\n",
    "    for item in listOfFile:\n",
    "        if re.search('^\\.',item):\n",
    "            continue\n",
    "        fullPath = os.path.join(dirName, item)\n",
    "        if os.path.isdir(fullPath):\n",
    "            allFiles = allFiles + getListOfFiles(fullPath)\n",
    "        else:\n",
    "            if not os.path.splitext(item)[1][1:] in fTypes:\n",
    "                continue\n",
    "            allFiles.append(fullPath)\n",
    "            f.write(item+\"\\n\")\n",
    "    return allFiles\n",
    "\n",
    "def readfiles(fname):\n",
    "    f=open(fname)\n",
    "    temp= f.read()\n",
    "    return temp\n",
    "\n",
    "def isPresent(regex,string):\n",
    "\tx=re.search(regex,string,re.IGNORECASE)\n",
    "\treturn x!=None\n",
    "\n",
    "def main():\n",
    "    path1=r'D:\\Works_Space\\SOA_University'\n",
    "    path2=r'D:\\Works_Space\\Timeline'\n",
    "    x=getListOfFiles(path1)+getListOfFiles(path2)\n",
    "\n",
    "    regex=input('enter keyword(regex) ')\n",
    "    count=0\n",
    "    outcome=list()\n",
    "    for i in x:\n",
    "        try:\n",
    "            file=(readfiles(i))\n",
    "            if isPresent(regex,file):\n",
    "                outcome.append(i)\n",
    "                count+=1\n",
    "                print(count,'=>',i)\n",
    "        except:\n",
    "            pass\n",
    "    print('found match:',count)\n",
    "    print('Total file searched:',len(x))\n",
    "\n",
    "    \n",
    "    if count==0:\n",
    "        print('No matching found')\n",
    "        choice = input('press enter to exit')\n",
    "    elif count==1:\n",
    "        print(readfiles(outcome[0]))\n",
    "        choice = input('press enter to exit')\n",
    "    else:\n",
    "        while(1):\n",
    "            choice = int(input('enter an option number or 0 to quit:'))\n",
    "            if choice == 0: break\n",
    "            print(readfiles(outcome[choice-1]))\n"
   ]
  },
  {
   "cell_type": "markdown",
   "metadata": {},
   "source": [
    "#### <font face='comic sans ms' color ='PaleTurquoise'>Dumper</font>"
   ]
  },
  {
   "cell_type": "code",
   "execution_count": null,
   "metadata": {},
   "outputs": [],
   "source": [
    "from threading import Thread"
   ]
  },
  {
   "cell_type": "code",
   "execution_count": 57,
   "metadata": {},
   "outputs": [],
   "source": [
    "class OnThread(Thread):\n",
    "    def setTime(self,time):\n",
    "        self.time=time\n",
    "    def run(self):\n",
    "        sleep(self.time)\n",
    "        print(self.time)"
   ]
  },
  {
   "cell_type": "code",
   "execution_count": 69,
   "metadata": {},
   "outputs": [
    {
     "name": "stdout",
     "output_type": "stream",
     "text": [
      "yes\n",
      "1\n",
      "5\n",
      "done\n"
     ]
    }
   ],
   "source": [
    "from time import sleep\n",
    "t1=OnThread()\n",
    "t2=OnThread()\n",
    "t1.setTime(1)\n",
    "t2.setTime(5)\n",
    "t1.start()\n",
    "t2.start()\n",
    "\n",
    "while(1):\n",
    "    if Thread.is_alive(t1):\n",
    "        print('yes')\n",
    "        input()\n",
    "    else:\n",
    "        break\n",
    "t1.join()\n",
    "t2.join()\n",
    "print('done')"
   ]
  },
  {
   "cell_type": "code",
   "execution_count": 1,
   "metadata": {},
   "outputs": [],
   "source": [
    "with open('.metadata','w') as f:\n",
    "    f.write('bali')"
   ]
  },
  {
   "cell_type": "code",
   "execution_count": 9,
   "metadata": {},
   "outputs": [],
   "source": [
    "with open('cns.ipynb','r') as f:\n",
    "    str1=f.read()\n",
    "    print(str1)"
   ]
  },
  {
   "cell_type": "code",
   "execution_count": 24,
   "metadata": {},
   "outputs": [
    {
     "name": "stdout",
     "output_type": "stream",
     "text": [
      "no\n"
     ]
    }
   ],
   "source": [
    "if re.search('^\\.','cbabu.bali'):\n",
    "    print('yes')\n",
    "else:\n",
    "    print('no')"
   ]
  },
  {
   "cell_type": "code",
   "execution_count": 4,
   "metadata": {},
   "outputs": [
    {
     "data": {
      "text/plain": [
       "['C:\\\\Users\\\\19410\\\\My Drive\\\\interview\\\\que1.txt']"
      ]
     },
     "execution_count": 4,
     "metadata": {},
     "output_type": "execute_result"
    }
   ],
   "source": [
    "dire=r'C:\\Users\\19410\\My Drive\\interview'\n",
    "files=getListOfFiles(dire)\n",
    "files"
   ]
  },
  {
   "cell_type": "code",
   "execution_count": 22,
   "metadata": {},
   "outputs": [],
   "source": [
    "fTypes=['java','py','c','txt','inpynb','cpp']"
   ]
  },
  {
   "cell_type": "code",
   "execution_count": 30,
   "metadata": {},
   "outputs": [
    {
     "name": "stdout",
     "output_type": "stream",
     "text": [
      "None\n",
      "None\n",
      "<re.Match object; span=(54, 57), match='txt'>\n",
      "None\n",
      "None\n",
      "<re.Match object; span=(39, 42), match='txt'>\n"
     ]
    }
   ],
   "source": [
    "for file in files:\n",
    "    print(re.search(fTypes[3],file,re.IGNORECASE))\n",
    "    "
   ]
  },
  {
   "cell_type": "code",
   "execution_count": 33,
   "metadata": {},
   "outputs": [
    {
     "name": "stdout",
     "output_type": "stream",
     "text": [
      "pdf\n",
      "png\n",
      "txt\n",
      "pdf\n",
      "pdf\n",
      "txt\n"
     ]
    }
   ],
   "source": [
    "for file in files:\n",
    "    print(os.path.splitext(file)[1][1:])"
   ]
  },
  {
   "cell_type": "code",
   "execution_count": 86,
   "metadata": {},
   "outputs": [
    {
     "name": "stdout",
     "output_type": "stream",
     "text": [
      "404\n"
     ]
    }
   ],
   "source": [
    "regexCustom('[0-9]+')"
   ]
  },
  {
   "cell_type": "code",
   "execution_count": 54,
   "metadata": {},
   "outputs": [],
   "source": [
    "def regexCustom(str1):\n",
    "    try:\n",
    "        m=re.search(str1,'bali babu 404 chauhan')\n",
    "        print(m.group())\n",
    "    except:\n",
    "        print('error')"
   ]
  },
  {
   "cell_type": "code",
   "execution_count": 88,
   "metadata": {},
   "outputs": [
    {
     "name": "stdout",
     "output_type": "stream",
     "text": [
      "3\n",
      "4\n"
     ]
    }
   ],
   "source": [
    "for i in  range(10):\n",
    "    if not i in [3,4]:\n",
    "        continue\n",
    "    print(i)"
   ]
  },
  {
   "cell_type": "code",
   "execution_count": 39,
   "metadata": {},
   "outputs": [],
   "source": [
    "import os\n",
    "import re\n",
    "def getListOfFiles(dirName):\n",
    "    fTypes=['java','py','c','txt','inpynb','cpp']\n",
    "    listOfFile = os.listdir(dirName)\n",
    "    allFiles = list()\n",
    "    for item in listOfFile:\n",
    "        if re.search('^\\.',item):\n",
    "            continue\n",
    "        # if not os.path.splitext(item)[1][1:] in fTypes:\n",
    "        #     continue\n",
    "        fullPath = os.path.join(dirName, item)\n",
    "        if os.path.isdir(fullPath):\n",
    "            allFiles = allFiles + getListOfFiles(fullPath)\n",
    "        else:\n",
    "            if not os.path.splitext(item)[1][1:] in fTypes:\n",
    "                continue\n",
    "            allFiles.append(fullPath)\n",
    "    return allFiles\n"
   ]
  },
  {
   "cell_type": "code",
   "execution_count": 6,
   "metadata": {},
   "outputs": [],
   "source": [
    "\n",
    "def readfiles(fname):\n",
    "    f=open(fname)\n",
    "    temp= f.read()\n",
    "    return temp\n",
    "    \n"
   ]
  },
  {
   "cell_type": "code",
   "execution_count": 7,
   "metadata": {},
   "outputs": [],
   "source": [
    "def isPresent(regex,string):\n",
    "\tx=re.search(regex,string,re.IGNORECASE)\n",
    "\treturn x!=None\n"
   ]
  },
  {
   "cell_type": "code",
   "execution_count": 14,
   "metadata": {},
   "outputs": [
    {
     "name": "stdout",
     "output_type": "stream",
     "text": [
      "found match: 0\n",
      "Total file searched: 0\n",
      "No matching found\n"
     ]
    }
   ],
   "source": [
    "\n",
    "\n",
    "# path=r'C:\\Users\\19410\\My Drive\\interview'\n",
    "path=r'D:\\Works_Space\\SOA_University\\Semester_6\\IDP'\n",
    "#print('give a path or just press enter for default')\n",
    "#x=input('default:C:\\\\Users\\\\19410\\\\My Drive\\\\ \\n')\n",
    "#if x!='':\n",
    "#    path=x\n",
    "x=(getListOfFiles(path))    \n",
    "\n",
    "regex=input('enter keyword(regex) ')\n",
    "count=0\n",
    "outcome=list()\n",
    "for i in x:\n",
    "    try:\n",
    "        file=(readfiles(i))\n",
    "        if isPresent(regex,file):\n",
    "            outcome.append(i)\n",
    "            count+=1\n",
    "            print(count,'=>',i)\n",
    "    except:\n",
    "        pass\n",
    "print('found match:',count)\n",
    "print('Total file searched:',len(x))\n",
    "if count==0:\n",
    "    print('No matching found')\n",
    "    #choice = input('press enter to exit')\n",
    "elif count==1:\n",
    "    print(readfiles(outcome[0]))\n",
    "    # choice = input('press enter to exit')\n",
    "else:\n",
    "    while(1):\n",
    "        choice = int(input('enter an option number or 0 to quit:'))\n",
    "        if choice == 0: break\n",
    "        print(readfiles(outcome[choice-1]))\n",
    "\n",
    "\n",
    "\n"
   ]
  },
  {
   "cell_type": "code",
   "execution_count": 40,
   "metadata": {},
   "outputs": [
    {
     "data": {
      "text/plain": [
       "['D:\\\\Works_Space\\\\SOA_University\\\\Semester_6\\\\IDP\\\\Programes\\\\01_Assignment\\\\01_salary_tenure.py',\n",
       " 'D:\\\\Works_Space\\\\SOA_University\\\\Semester_6\\\\IDP\\\\Programes\\\\01_Assignment\\\\02_paid_unpaid.py',\n",
       " 'D:\\\\Works_Space\\\\SOA_University\\\\Semester_6\\\\IDP\\\\Programes\\\\01_Assignment\\\\03_password.py',\n",
       " 'D:\\\\Works_Space\\\\SOA_University\\\\Semester_6\\\\IDP\\\\Programes\\\\01_Assignment\\\\04_alphaCount.py',\n",
       " 'D:\\\\Works_Space\\\\SOA_University\\\\Semester_6\\\\IDP\\\\Programes\\\\01_Assignment\\\\06_stringlist.py',\n",
       " 'D:\\\\Works_Space\\\\SOA_University\\\\Semester_6\\\\IDP\\\\Programes\\\\01_Assignment\\\\08_applicationsPerYear.py',\n",
       " 'D:\\\\Works_Space\\\\SOA_University\\\\Semester_6\\\\IDP\\\\Programes\\\\01_Assignment\\\\09_xsinx.py',\n",
       " 'D:\\\\Works_Space\\\\SOA_University\\\\Semester_6\\\\IDP\\\\Programes\\\\01_Assignment\\\\10_plotAge_male_female.py',\n",
       " 'D:\\\\Works_Space\\\\SOA_University\\\\Semester_6\\\\IDP\\\\Programes\\\\01_Assignment\\\\11_temperature.py',\n",
       " 'D:\\\\Works_Space\\\\SOA_University\\\\Semester_6\\\\IDP\\\\Programes\\\\01_Assignment\\\\12_perfectSquare.py',\n",
       " 'D:\\\\Works_Space\\\\SOA_University\\\\Semester_6\\\\IDP\\\\Programes\\\\01_Assignment\\\\13_barChart.py',\n",
       " 'D:\\\\Works_Space\\\\SOA_University\\\\Semester_6\\\\IDP\\\\Programes\\\\01_Assignment\\\\14_scatterplot_axis.py',\n",
       " 'D:\\\\Works_Space\\\\SOA_University\\\\Semester_6\\\\IDP\\\\Programes\\\\01_Assignment\\\\MyPasswords.txt',\n",
       " 'D:\\\\Works_Space\\\\SOA_University\\\\Semester_6\\\\IDP\\\\Programes\\\\01_Assignment\\\\MyText.txt',\n",
       " 'D:\\\\Works_Space\\\\SOA_University\\\\Semester_6\\\\IDP\\\\Programes\\\\03_Assignment\\\\tesing.java',\n",
       " 'D:\\\\Works_Space\\\\SOA_University\\\\Semester_6\\\\IDP\\\\Programes\\\\ClassTest\\\\4th_may.py',\n",
       " 'D:\\\\Works_Space\\\\SOA_University\\\\Semester_6\\\\IDP\\\\Programes\\\\file.txt',\n",
       " 'D:\\\\Works_Space\\\\SOA_University\\\\Semester_6\\\\IDP\\\\Programes\\\\LAB_notes\\\\june30\\\\colon_delimited_stock_prices.txt',\n",
       " 'D:\\\\Works_Space\\\\SOA_University\\\\Semester_6\\\\IDP\\\\Programes\\\\LAB_notes\\\\june30\\\\egrep.py',\n",
       " 'D:\\\\Works_Space\\\\SOA_University\\\\Semester_6\\\\IDP\\\\Programes\\\\LAB_notes\\\\june30\\\\filename1_comma.txt',\n",
       " 'D:\\\\Works_Space\\\\SOA_University\\\\Semester_6\\\\IDP\\\\Programes\\\\LAB_notes\\\\june30\\\\line_count.py',\n",
       " 'D:\\\\Works_Space\\\\SOA_University\\\\Semester_6\\\\IDP\\\\Programes\\\\LAB_notes\\\\june30\\\\program1.py',\n",
       " 'D:\\\\Works_Space\\\\SOA_University\\\\Semester_6\\\\IDP\\\\Programes\\\\LAB_notes\\\\june30\\\\tab_delimited_stock_prices.txt',\n",
       " 'D:\\\\Works_Space\\\\SOA_University\\\\Semester_6\\\\IDP\\\\Programes\\\\LAB_notes\\\\june30\\\\untitled.txt',\n",
       " 'D:\\\\Works_Space\\\\SOA_University\\\\Semester_6\\\\IDP\\\\Programes\\\\LAB_notes\\\\test.c',\n",
       " 'D:\\\\Works_Space\\\\SOA_University\\\\Semester_6\\\\IDP\\\\Programes\\\\PhoharMalai\\\\customeCounterF.py',\n",
       " 'D:\\\\Works_Space\\\\SOA_University\\\\Semester_6\\\\IDP\\\\Programes\\\\PhoharMalai\\\\interest.py',\n",
       " 'D:\\\\Works_Space\\\\SOA_University\\\\Semester_6\\\\IDP\\\\Programes\\\\PhoharMalai\\\\mutual.py',\n",
       " 'D:\\\\Works_Space\\\\SOA_University\\\\Semester_6\\\\IDP\\\\Programes\\\\PhoharMalai\\\\plotting.py',\n",
       " 'D:\\\\Works_Space\\\\SOA_University\\\\Semester_6\\\\IDP\\\\Programes\\\\PhoharMalai\\\\totalFriends.py']"
      ]
     },
     "execution_count": 40,
     "metadata": {},
     "output_type": "execute_result"
    }
   ],
   "source": [
    "path=r'D:\\Works_Space\\SOA_University\\Semester_6\\IDP'\n",
    "x=(getListOfFiles(path)) \n",
    "x   "
   ]
  },
  {
   "cell_type": "code",
   "execution_count": 1,
   "metadata": {},
   "outputs": [],
   "source": [
    "import re"
   ]
  },
  {
   "cell_type": "code",
   "execution_count": 7,
   "metadata": {},
   "outputs": [
    {
     "data": {
      "text/plain": [
       "<re.Match object; span=(14, 16), match='n1'>"
      ]
     },
     "execution_count": 7,
     "metadata": {},
     "output_type": "execute_result"
    }
   ],
   "source": [
    "re.search('ca|b1a|n1','balibabuchuahan1')"
   ]
  },
  {
   "cell_type": "code",
   "execution_count": null,
   "metadata": {},
   "outputs": [],
   "source": []
  }
 ],
 "metadata": {
  "kernelspec": {
   "display_name": "Python 3.9.7 ('base')",
   "language": "python",
   "name": "python3"
  },
  "language_info": {
   "codemirror_mode": {
    "name": "ipython",
    "version": 3
   },
   "file_extension": ".py",
   "mimetype": "text/x-python",
   "name": "python",
   "nbconvert_exporter": "python",
   "pygments_lexer": "ipython3",
   "version": "3.9.7"
  },
  "orig_nbformat": 4,
  "vscode": {
   "interpreter": {
    "hash": "649e9a488baa9f755be1bd774174f13c00c6eb61d6f5988e2904ab6e22ac3fc0"
   }
  }
 },
 "nbformat": 4,
 "nbformat_minor": 2
}
