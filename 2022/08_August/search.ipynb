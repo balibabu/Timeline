{
 "cells": [
  {
   "cell_type": "code",
   "execution_count": 1,
   "metadata": {},
   "outputs": [],
   "source": [
    "with open('.metadata','w') as f:\n",
    "    f.write('bali')"
   ]
  },
  {
   "cell_type": "code",
   "execution_count": 9,
   "metadata": {},
   "outputs": [],
   "source": [
    "with open('cns.ipynb','r') as f:\n",
    "    str1=f.read()\n",
    "    print(str1)"
   ]
  },
  {
   "cell_type": "code",
   "execution_count": 24,
   "metadata": {},
   "outputs": [
    {
     "name": "stdout",
     "output_type": "stream",
     "text": [
      "no\n"
     ]
    }
   ],
   "source": [
    "if re.search('^\\.','cbabu.bali'):\n",
    "    print('yes')\n",
    "else:\n",
    "    print('no')"
   ]
  },
  {
   "cell_type": "code",
   "execution_count": 4,
   "metadata": {},
   "outputs": [
    {
     "data": {
      "text/plain": [
       "['C:\\\\Users\\\\19410\\\\My Drive\\\\interview\\\\que1.txt']"
      ]
     },
     "execution_count": 4,
     "metadata": {},
     "output_type": "execute_result"
    }
   ],
   "source": [
    "dire=r'C:\\Users\\19410\\My Drive\\interview'\n",
    "files=getListOfFiles(dire)\n",
    "files"
   ]
  },
  {
   "cell_type": "code",
   "execution_count": 22,
   "metadata": {},
   "outputs": [],
   "source": [
    "fTypes=['java','py','c','txt','inpynb','cpp']"
   ]
  },
  {
   "cell_type": "code",
   "execution_count": 30,
   "metadata": {},
   "outputs": [
    {
     "name": "stdout",
     "output_type": "stream",
     "text": [
      "None\n",
      "None\n",
      "<re.Match object; span=(54, 57), match='txt'>\n",
      "None\n",
      "None\n",
      "<re.Match object; span=(39, 42), match='txt'>\n"
     ]
    }
   ],
   "source": [
    "for file in files:\n",
    "    print(re.search(fTypes[3],file,re.IGNORECASE))\n",
    "    "
   ]
  },
  {
   "cell_type": "code",
   "execution_count": 33,
   "metadata": {},
   "outputs": [
    {
     "name": "stdout",
     "output_type": "stream",
     "text": [
      "pdf\n",
      "png\n",
      "txt\n",
      "pdf\n",
      "pdf\n",
      "txt\n"
     ]
    }
   ],
   "source": [
    "for file in files:\n",
    "    print(os.path.splitext(file)[1][1:])"
   ]
  },
  {
   "cell_type": "code",
   "execution_count": 86,
   "metadata": {},
   "outputs": [
    {
     "name": "stdout",
     "output_type": "stream",
     "text": [
      "404\n"
     ]
    }
   ],
   "source": [
    "regexCustom('[0-9]+')"
   ]
  },
  {
   "cell_type": "code",
   "execution_count": 54,
   "metadata": {},
   "outputs": [],
   "source": [
    "def regexCustom(str1):\n",
    "    try:\n",
    "        m=re.search(str1,'bali babu 404 chauhan')\n",
    "        print(m.group())\n",
    "    except:\n",
    "        print('error')"
   ]
  },
  {
   "cell_type": "code",
   "execution_count": 88,
   "metadata": {},
   "outputs": [
    {
     "name": "stdout",
     "output_type": "stream",
     "text": [
      "3\n",
      "4\n"
     ]
    }
   ],
   "source": [
    "for i in  range(10):\n",
    "    if not i in [3,4]:\n",
    "        continue\n",
    "    print(i)"
   ]
  },
  {
   "cell_type": "code",
   "execution_count": 39,
   "metadata": {},
   "outputs": [],
   "source": [
    "import os\n",
    "import re\n",
    "def getListOfFiles(dirName):\n",
    "    fTypes=['java','py','c','txt','inpynb','cpp']\n",
    "    listOfFile = os.listdir(dirName)\n",
    "    allFiles = list()\n",
    "    for item in listOfFile:\n",
    "        if re.search('^\\.',item):\n",
    "            continue\n",
    "        # if not os.path.splitext(item)[1][1:] in fTypes:\n",
    "        #     continue\n",
    "        fullPath = os.path.join(dirName, item)\n",
    "        if os.path.isdir(fullPath):\n",
    "            allFiles = allFiles + getListOfFiles(fullPath)\n",
    "        else:\n",
    "            if not os.path.splitext(item)[1][1:] in fTypes:\n",
    "                continue\n",
    "            allFiles.append(fullPath)\n",
    "    return allFiles\n"
   ]
  },
  {
   "cell_type": "code",
   "execution_count": 6,
   "metadata": {},
   "outputs": [],
   "source": [
    "\n",
    "def readfiles(fname):\n",
    "    f=open(fname)\n",
    "    temp= f.read()\n",
    "    return temp\n",
    "    \n"
   ]
  },
  {
   "cell_type": "code",
   "execution_count": 7,
   "metadata": {},
   "outputs": [],
   "source": [
    "def isPresent(regex,string):\n",
    "\tx=re.search(regex,string,re.IGNORECASE)\n",
    "\treturn x!=None\n"
   ]
  },
  {
   "cell_type": "code",
   "execution_count": 14,
   "metadata": {},
   "outputs": [
    {
     "name": "stdout",
     "output_type": "stream",
     "text": [
      "found match: 0\n",
      "Total file searched: 0\n",
      "No matching found\n"
     ]
    }
   ],
   "source": [
    "\n",
    "\n",
    "# path=r'C:\\Users\\19410\\My Drive\\interview'\n",
    "path=r'D:\\Works_Space\\SOA_University\\Semester_6\\IDP'\n",
    "#print('give a path or just press enter for default')\n",
    "#x=input('default:C:\\\\Users\\\\19410\\\\My Drive\\\\ \\n')\n",
    "#if x!='':\n",
    "#    path=x\n",
    "x=(getListOfFiles(path))    \n",
    "\n",
    "regex=input('enter keyword(regex) ')\n",
    "count=0\n",
    "outcome=list()\n",
    "for i in x:\n",
    "    try:\n",
    "        file=(readfiles(i))\n",
    "        if isPresent(regex,file):\n",
    "            outcome.append(i)\n",
    "            count+=1\n",
    "            print(count,'=>',i)\n",
    "    except:\n",
    "        pass\n",
    "print('found match:',count)\n",
    "print('Total file searched:',len(x))\n",
    "if count==0:\n",
    "    print('No matching found')\n",
    "    #choice = input('press enter to exit')\n",
    "elif count==1:\n",
    "    print(readfiles(outcome[0]))\n",
    "    # choice = input('press enter to exit')\n",
    "else:\n",
    "    while(1):\n",
    "        choice = int(input('enter an option number or 0 to quit:'))\n",
    "        if choice == 0: break\n",
    "        print(readfiles(outcome[choice-1]))\n",
    "\n",
    "\n",
    "\n"
   ]
  },
  {
   "cell_type": "code",
   "execution_count": 40,
   "metadata": {},
   "outputs": [
    {
     "data": {
      "text/plain": [
       "['D:\\\\Works_Space\\\\SOA_University\\\\Semester_6\\\\IDP\\\\Programes\\\\01_Assignment\\\\01_salary_tenure.py',\n",
       " 'D:\\\\Works_Space\\\\SOA_University\\\\Semester_6\\\\IDP\\\\Programes\\\\01_Assignment\\\\02_paid_unpaid.py',\n",
       " 'D:\\\\Works_Space\\\\SOA_University\\\\Semester_6\\\\IDP\\\\Programes\\\\01_Assignment\\\\03_password.py',\n",
       " 'D:\\\\Works_Space\\\\SOA_University\\\\Semester_6\\\\IDP\\\\Programes\\\\01_Assignment\\\\04_alphaCount.py',\n",
       " 'D:\\\\Works_Space\\\\SOA_University\\\\Semester_6\\\\IDP\\\\Programes\\\\01_Assignment\\\\06_stringlist.py',\n",
       " 'D:\\\\Works_Space\\\\SOA_University\\\\Semester_6\\\\IDP\\\\Programes\\\\01_Assignment\\\\08_applicationsPerYear.py',\n",
       " 'D:\\\\Works_Space\\\\SOA_University\\\\Semester_6\\\\IDP\\\\Programes\\\\01_Assignment\\\\09_xsinx.py',\n",
       " 'D:\\\\Works_Space\\\\SOA_University\\\\Semester_6\\\\IDP\\\\Programes\\\\01_Assignment\\\\10_plotAge_male_female.py',\n",
       " 'D:\\\\Works_Space\\\\SOA_University\\\\Semester_6\\\\IDP\\\\Programes\\\\01_Assignment\\\\11_temperature.py',\n",
       " 'D:\\\\Works_Space\\\\SOA_University\\\\Semester_6\\\\IDP\\\\Programes\\\\01_Assignment\\\\12_perfectSquare.py',\n",
       " 'D:\\\\Works_Space\\\\SOA_University\\\\Semester_6\\\\IDP\\\\Programes\\\\01_Assignment\\\\13_barChart.py',\n",
       " 'D:\\\\Works_Space\\\\SOA_University\\\\Semester_6\\\\IDP\\\\Programes\\\\01_Assignment\\\\14_scatterplot_axis.py',\n",
       " 'D:\\\\Works_Space\\\\SOA_University\\\\Semester_6\\\\IDP\\\\Programes\\\\01_Assignment\\\\MyPasswords.txt',\n",
       " 'D:\\\\Works_Space\\\\SOA_University\\\\Semester_6\\\\IDP\\\\Programes\\\\01_Assignment\\\\MyText.txt',\n",
       " 'D:\\\\Works_Space\\\\SOA_University\\\\Semester_6\\\\IDP\\\\Programes\\\\03_Assignment\\\\tesing.java',\n",
       " 'D:\\\\Works_Space\\\\SOA_University\\\\Semester_6\\\\IDP\\\\Programes\\\\ClassTest\\\\4th_may.py',\n",
       " 'D:\\\\Works_Space\\\\SOA_University\\\\Semester_6\\\\IDP\\\\Programes\\\\file.txt',\n",
       " 'D:\\\\Works_Space\\\\SOA_University\\\\Semester_6\\\\IDP\\\\Programes\\\\LAB_notes\\\\june30\\\\colon_delimited_stock_prices.txt',\n",
       " 'D:\\\\Works_Space\\\\SOA_University\\\\Semester_6\\\\IDP\\\\Programes\\\\LAB_notes\\\\june30\\\\egrep.py',\n",
       " 'D:\\\\Works_Space\\\\SOA_University\\\\Semester_6\\\\IDP\\\\Programes\\\\LAB_notes\\\\june30\\\\filename1_comma.txt',\n",
       " 'D:\\\\Works_Space\\\\SOA_University\\\\Semester_6\\\\IDP\\\\Programes\\\\LAB_notes\\\\june30\\\\line_count.py',\n",
       " 'D:\\\\Works_Space\\\\SOA_University\\\\Semester_6\\\\IDP\\\\Programes\\\\LAB_notes\\\\june30\\\\program1.py',\n",
       " 'D:\\\\Works_Space\\\\SOA_University\\\\Semester_6\\\\IDP\\\\Programes\\\\LAB_notes\\\\june30\\\\tab_delimited_stock_prices.txt',\n",
       " 'D:\\\\Works_Space\\\\SOA_University\\\\Semester_6\\\\IDP\\\\Programes\\\\LAB_notes\\\\june30\\\\untitled.txt',\n",
       " 'D:\\\\Works_Space\\\\SOA_University\\\\Semester_6\\\\IDP\\\\Programes\\\\LAB_notes\\\\test.c',\n",
       " 'D:\\\\Works_Space\\\\SOA_University\\\\Semester_6\\\\IDP\\\\Programes\\\\PhoharMalai\\\\customeCounterF.py',\n",
       " 'D:\\\\Works_Space\\\\SOA_University\\\\Semester_6\\\\IDP\\\\Programes\\\\PhoharMalai\\\\interest.py',\n",
       " 'D:\\\\Works_Space\\\\SOA_University\\\\Semester_6\\\\IDP\\\\Programes\\\\PhoharMalai\\\\mutual.py',\n",
       " 'D:\\\\Works_Space\\\\SOA_University\\\\Semester_6\\\\IDP\\\\Programes\\\\PhoharMalai\\\\plotting.py',\n",
       " 'D:\\\\Works_Space\\\\SOA_University\\\\Semester_6\\\\IDP\\\\Programes\\\\PhoharMalai\\\\totalFriends.py']"
      ]
     },
     "execution_count": 40,
     "metadata": {},
     "output_type": "execute_result"
    }
   ],
   "source": [
    "path=r'D:\\Works_Space\\SOA_University\\Semester_6\\IDP'\n",
    "x=(getListOfFiles(path)) \n",
    "x   "
   ]
  },
  {
   "cell_type": "code",
   "execution_count": null,
   "metadata": {},
   "outputs": [],
   "source": []
  }
 ],
 "metadata": {
  "kernelspec": {
   "display_name": "Python 3.9.7 ('base')",
   "language": "python",
   "name": "python3"
  },
  "language_info": {
   "codemirror_mode": {
    "name": "ipython",
    "version": 3
   },
   "file_extension": ".py",
   "mimetype": "text/x-python",
   "name": "python",
   "nbconvert_exporter": "python",
   "pygments_lexer": "ipython3",
   "version": "3.9.7"
  },
  "orig_nbformat": 4,
  "vscode": {
   "interpreter": {
    "hash": "649e9a488baa9f755be1bd774174f13c00c6eb61d6f5988e2904ab6e22ac3fc0"
   }
  }
 },
 "nbformat": 4,
 "nbformat_minor": 2
}
