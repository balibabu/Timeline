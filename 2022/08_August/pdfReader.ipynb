{
 "cells": [
  {
   "cell_type": "code",
   "execution_count": null,
   "metadata": {},
   "outputs": [],
   "source": [
    "import PyPDF2 as pdf"
   ]
  },
  {
   "cell_type": "code",
   "execution_count": null,
   "metadata": {},
   "outputs": [],
   "source": [
    "pdfObj=open(\"SQL Operators.pdf\",'rb')\n",
    "pdfReader=pdf.PdfFileReader(pdfObj)\n",
    "# printing number of pages in pdf file\n",
    "print(pdfReader.numPages)\n",
    "# creating a page object\n",
    "pageObj = pdfReader.getPage(1)\n",
    "# extracting text from page\n",
    "print(pageObj.extractText())\n",
    "# closing the pdf file object\n",
    "pdfObj.close()"
   ]
  },
  {
   "cell_type": "code",
   "execution_count": null,
   "metadata": {},
   "outputs": [],
   "source": []
  },
  {
   "cell_type": "code",
   "execution_count": null,
   "metadata": {},
   "outputs": [],
   "source": [
    "binaryPdf=open(r\"D:\\Works_Space\\SOA_University\\Semester_6\\UNP\\assignment\\assignment7.pdf\",'rb')\n",
    "pdfReader=pdf.PdfFileReader(binaryPdf)\n",
    "for i in range(pdfReader.numPages):\n",
    "    pageObj=pdfReader.getPage(i)\n",
    "    content=pageObj.extractText()\n",
    "    print(content)\n",
    "binaryPdf.close()"
   ]
  },
  {
   "cell_type": "code",
   "execution_count": 5,
   "metadata": {},
   "outputs": [],
   "source": [
    "file_size = os.path.getsize(r\"D:\\Works_Space\\SOA_University\\Semester_6\\UNP\\assignment\\assignment7.pdf\")"
   ]
  },
  {
   "cell_type": "code",
   "execution_count": 7,
   "metadata": {},
   "outputs": [
    {
     "data": {
      "text/plain": [
       "257173"
      ]
     },
     "execution_count": 7,
     "metadata": {},
     "output_type": "execute_result"
    }
   ],
   "source": [
    "file_size # file size in python (bytes)"
   ]
  },
  {
   "cell_type": "code",
   "execution_count": null,
   "metadata": {},
   "outputs": [],
   "source": []
  }
 ],
 "metadata": {
  "kernelspec": {
   "display_name": "Python 3.9.7 ('base')",
   "language": "python",
   "name": "python3"
  },
  "language_info": {
   "codemirror_mode": {
    "name": "ipython",
    "version": 3
   },
   "file_extension": ".py",
   "mimetype": "text/x-python",
   "name": "python",
   "nbconvert_exporter": "python",
   "pygments_lexer": "ipython3",
   "version": "3.9.7"
  },
  "orig_nbformat": 4,
  "vscode": {
   "interpreter": {
    "hash": "649e9a488baa9f755be1bd774174f13c00c6eb61d6f5988e2904ab6e22ac3fc0"
   }
  }
 },
 "nbformat": 4,
 "nbformat_minor": 2
}
