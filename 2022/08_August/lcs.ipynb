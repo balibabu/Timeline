{
 "cells": [
  {
   "cell_type": "markdown",
   "metadata": {},
   "source": [
    "# <font face='comic sans ms' color ='PaleTurquoise'>Longest Common Subsequence</font>"
   ]
  },
  {
   "cell_type": "code",
   "execution_count": 1,
   "metadata": {},
   "outputs": [],
   "source": [
    "def size_of_lcs(str1,str2,n,m): #first string, second string, length of first string:n, lenght of second string:m\n",
    "    if n==0 or m==0:    # minimal valid condition | string length can't be negative but can be zero\n",
    "        return 0\n",
    "    \n",
    "    if str1[n-1]==str2[m-1]:\n",
    "        return 1+size_of_lcs(str1,str2,n-1,m-1)\n",
    "    else:\n",
    "        return max(size_of_lcs(str1,str2,n-1,m),size_of_lcs(str1,str2,n,m-1))"
   ]
  },
  {
   "cell_type": "code",
   "execution_count": 4,
   "metadata": {},
   "outputs": [
    {
     "data": {
      "text/plain": [
       "4"
      ]
     },
     "execution_count": 4,
     "metadata": {},
     "output_type": "execute_result"
    }
   ],
   "source": [
    "str1=\"abcde\"\n",
    "str2=\"bacade\"\n",
    "size_of_lcs(str1,str2,len(str1),len(str2))"
   ]
  },
  {
   "cell_type": "code",
   "execution_count": 12,
   "metadata": {},
   "outputs": [],
   "source": [
    "def lcsRecMem(str1,str2): #recursion and memoization approach\n",
    "    n,m=len(str1),len(str2)\n",
    "    table=[[-1 for _ in range(m+1)] for _ in range(n+1)]\n",
    "    def lcs(str1,str2,n,m):\n",
    "        if n==0 or m==0:\n",
    "            return 0\n",
    "\n",
    "        if table[n][m]!=-1:     #memoization\n",
    "            return table[n][m]\n",
    "\n",
    "        if str1[n-1]==str2[m-1]:\n",
    "            table[n][m]= 1+lcs(str1,str2,n-1,m-1)\n",
    "            return table[n][m]\n",
    "        else:\n",
    "            table[n][m]= max(lcs(str1,str2,n-1,m),lcs(str1,str2,n,m-1))\n",
    "            return table[n][m]\n",
    "    return lcs(str1,str2,n,m)"
   ]
  },
  {
   "cell_type": "code",
   "execution_count": 33,
   "metadata": {},
   "outputs": [
    {
     "data": {
      "text/plain": [
       "4"
      ]
     },
     "execution_count": 33,
     "metadata": {},
     "output_type": "execute_result"
    }
   ],
   "source": [
    "X = \"pmjghexybyrgzc\"\n",
    "Y = \"hafcdqbgncrcbihk\"\n",
    "lcsRecMem(X,Y)"
   ]
  },
  {
   "cell_type": "code",
   "execution_count": 34,
   "metadata": {},
   "outputs": [
    {
     "data": {
      "text/plain": [
       "4"
      ]
     },
     "execution_count": 34,
     "metadata": {},
     "output_type": "execute_result"
    }
   ],
   "source": [
    "size_of_lcs(X,Y,len(X),len(Y))"
   ]
  },
  {
   "cell_type": "code",
   "execution_count": null,
   "metadata": {},
   "outputs": [],
   "source": []
  }
 ],
 "metadata": {
  "kernelspec": {
   "display_name": "Python 3.9.7 ('base')",
   "language": "python",
   "name": "python3"
  },
  "language_info": {
   "codemirror_mode": {
    "name": "ipython",
    "version": 3
   },
   "file_extension": ".py",
   "mimetype": "text/x-python",
   "name": "python",
   "nbconvert_exporter": "python",
   "pygments_lexer": "ipython3",
   "version": "3.9.7"
  },
  "orig_nbformat": 4,
  "vscode": {
   "interpreter": {
    "hash": "649e9a488baa9f755be1bd774174f13c00c6eb61d6f5988e2904ab6e22ac3fc0"
   }
  }
 },
 "nbformat": 4,
 "nbformat_minor": 2
}
