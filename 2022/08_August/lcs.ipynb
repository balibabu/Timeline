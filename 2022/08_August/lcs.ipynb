{
 "cells": [
  {
   "cell_type": "markdown",
   "metadata": {},
   "source": [
    "# <font face='comic sans ms' color ='PaleTurquoise'>Longest Common Subsequence</font>"
   ]
  },
  {
   "cell_type": "markdown",
   "metadata": {},
   "source": [
    "### <font face='comic sans ms' color ='magenta'>Count the LCS</font>"
   ]
  },
  {
   "cell_type": "code",
   "execution_count": 1,
   "metadata": {},
   "outputs": [],
   "source": [
    "def size_of_lcs(str1,str2,n,m): #first string, second string, length of first string:n, lenght of second string:m\n",
    "    if n==0 or m==0:    # minimal valid condition | string length can't be negative but can be zero\n",
    "        return 0\n",
    "    \n",
    "    if str1[n-1]==str2[m-1]:\n",
    "        return 1+size_of_lcs(str1,str2,n-1,m-1)\n",
    "    else:\n",
    "        return max(size_of_lcs(str1,str2,n-1,m),size_of_lcs(str1,str2,n,m-1))"
   ]
  },
  {
   "cell_type": "code",
   "execution_count": 4,
   "metadata": {},
   "outputs": [
    {
     "data": {
      "text/plain": [
       "4"
      ]
     },
     "execution_count": 4,
     "metadata": {},
     "output_type": "execute_result"
    }
   ],
   "source": [
    "str1=\"abcde\"\n",
    "str2=\"bacade\"\n",
    "size_of_lcs(str1,str2,len(str1),len(str2))"
   ]
  },
  {
   "cell_type": "code",
   "execution_count": 12,
   "metadata": {},
   "outputs": [],
   "source": [
    "def lcsRecMem(str1,str2): #recursion and memoization approach\n",
    "    n,m=len(str1),len(str2)\n",
    "    table=[[-1 for _ in range(m+1)] for _ in range(n+1)]\n",
    "    def lcs(str1,str2,n,m):\n",
    "        if n==0 or m==0:\n",
    "            return 0\n",
    "\n",
    "        if table[n][m]!=-1:     #memoization\n",
    "            return table[n][m]\n",
    "\n",
    "        if str1[n-1]==str2[m-1]:\n",
    "            table[n][m]= 1+lcs(str1,str2,n-1,m-1)\n",
    "            return table[n][m]\n",
    "        else:\n",
    "            table[n][m]= max(lcs(str1,str2,n-1,m),lcs(str1,str2,n,m-1))\n",
    "            return table[n][m]\n",
    "    return lcs(str1,str2,n,m)"
   ]
  },
  {
   "cell_type": "code",
   "execution_count": 33,
   "metadata": {},
   "outputs": [
    {
     "data": {
      "text/plain": [
       "4"
      ]
     },
     "execution_count": 33,
     "metadata": {},
     "output_type": "execute_result"
    }
   ],
   "source": [
    "X = \"pmjghexybyrgzc\"\n",
    "Y = \"hafcdqbgncrcbihk\"\n",
    "lcsRecMem(X,Y)"
   ]
  },
  {
   "cell_type": "code",
   "execution_count": 34,
   "metadata": {},
   "outputs": [
    {
     "data": {
      "text/plain": [
       "4"
      ]
     },
     "execution_count": 34,
     "metadata": {},
     "output_type": "execute_result"
    }
   ],
   "source": [
    "size_of_lcs(X,Y,len(X),len(Y))"
   ]
  },
  {
   "cell_type": "code",
   "execution_count": 30,
   "metadata": {},
   "outputs": [],
   "source": [
    "def lcsTD(str1,str2):\n",
    "    n,m=len(str1),len(str2)\n",
    "    table=[[-1 for _ in range(m+1)] for _ in range(n+1)]\n",
    "\n",
    "    for i in range(len(table)):\n",
    "        table[i][0]=0\n",
    "    for j in range(len(table[0])):\n",
    "        table[0][j]=0\n",
    "    \n",
    "    for i in range(1,len(table)):\n",
    "        for j in range(1,len(table[0])):\n",
    "            if str1[i-1]==str2[j-1]:\n",
    "                table[i][j]=1+table[i-1][j-1]\n",
    "            else:\n",
    "                table[i][j]=max(table[i-1][j],table[i][j-1])\n",
    "    return table[-1][-1]\n"
   ]
  },
  {
   "cell_type": "code",
   "execution_count": 31,
   "metadata": {},
   "outputs": [
    {
     "data": {
      "text/plain": [
       "5"
      ]
     },
     "execution_count": 31,
     "metadata": {},
     "output_type": "execute_result"
    }
   ],
   "source": [
    "lcsTD('abefcd','abcfbcd')"
   ]
  },
  {
   "cell_type": "code",
   "execution_count": 14,
   "metadata": {},
   "outputs": [
    {
     "data": {
      "text/plain": [
       "4"
      ]
     },
     "execution_count": 14,
     "metadata": {},
     "output_type": "execute_result"
    }
   ],
   "source": [
    "X = \"pmjghexybyrgzc\"\n",
    "Y = \"hafcdqbgncrcbihk\"\n",
    "lcsTD(X,Y)"
   ]
  },
  {
   "cell_type": "markdown",
   "metadata": {},
   "source": [
    "### <font face='comic sans ms' color ='magenta'>Print the LCS</font>"
   ]
  },
  {
   "cell_type": "code",
   "execution_count": 10,
   "metadata": {},
   "outputs": [],
   "source": [
    "def get_lcsTD(str1,str2):\n",
    "    n,m=len(str1),len(str2)\n",
    "    table=[[-1 for _ in range(m+1)] for _ in range(n+1)]\n",
    "\n",
    "    for i in range(len(table)):\n",
    "        table[i][0]=0\n",
    "    for j in range(len(table[0])):\n",
    "        table[0][j]=0\n",
    "    \n",
    "    for i in range(1,len(table)):\n",
    "        for j in range(1,len(table[0])):\n",
    "            if str1[i-1]==str2[j-1]:\n",
    "                table[i][j]=1+table[i-1][j-1]\n",
    "            else:\n",
    "                table[i][j]=max(table[i-1][j],table[i][j-1])\n",
    "    \n",
    "    # ectracting string\n",
    "    string=''\n",
    "    while(n>0 and m>0):\n",
    "        if str1[n-1]==str2[m-1]:\n",
    "            string=str1[n-1]+string\n",
    "            n-=1\n",
    "            m-=1\n",
    "        elif table[n][m-1]>table[n-1][m]:\n",
    "            m-=1\n",
    "        else:\n",
    "            n-=1\n",
    "    return string\n"
   ]
  },
  {
   "cell_type": "code",
   "execution_count": 14,
   "metadata": {},
   "outputs": [
    {
     "name": "stdout",
     "output_type": "stream",
     "text": [
      "abfcd\n",
      "hbrc\n"
     ]
    }
   ],
   "source": [
    "print(get_lcsTD('abefcd','abcfbcd'))\n",
    "print(get_lcsTD('pmjghexybyrgzc','hafcdqbgncrcbihk'))"
   ]
  },
  {
   "cell_type": "markdown",
   "metadata": {},
   "source": [
    "# <font face='comic sans ms' color ='PaleTurquoise'>Longest Common Substring</font>"
   ]
  },
  {
   "cell_type": "code",
   "execution_count": 44,
   "metadata": {},
   "outputs": [],
   "source": [
    "def lcsubstring(str1,str2): # top down approach\n",
    "    n,m=len(str1),len(str2)\n",
    "    table=[[-1 for _ in range(m+1)] for _ in range(n+1)]\n",
    "\n",
    "    for i in range(len(table)):\n",
    "        table[i][0]=0\n",
    "    for j in range(len(table[0])):\n",
    "        table[0][j]=0\n",
    "    \n",
    "    substrLen=0\n",
    "\n",
    "    for i in range(1,len(table)):\n",
    "        for j in range(1,len(table[0])):\n",
    "            if str1[i-1]==str2[j-1]:\n",
    "                table[i][j]=1+table[i-1][j-1]\n",
    "                substrLen=max(substrLen,table[i][j])\n",
    "            else:\n",
    "                table[i][j]=0\n",
    "    # print(table)\n",
    "    # return max([max(i) for i in table])\n",
    "    # return table[-1][-1]\n",
    "    return substrLen\n",
    "\n"
   ]
  },
  {
   "cell_type": "code",
   "execution_count": 45,
   "metadata": {},
   "outputs": [
    {
     "data": {
      "text/plain": [
       "4"
      ]
     },
     "execution_count": 45,
     "metadata": {},
     "output_type": "execute_result"
    }
   ],
   "source": [
    "lcsubstring('abefbcd','abcfbcd')"
   ]
  },
  {
   "cell_type": "code",
   "execution_count": 46,
   "metadata": {},
   "outputs": [
    {
     "data": {
      "text/plain": [
       "10"
      ]
     },
     "execution_count": 46,
     "metadata": {},
     "output_type": "execute_result"
    }
   ],
   "source": [
    "X = 'OldSite:GeeksforGeeks.org'\n",
    "Y = 'NewSite:GeeksQuiz.com'\n",
    "lcsubstring(X,Y)"
   ]
  },
  {
   "cell_type": "code",
   "execution_count": 47,
   "metadata": {},
   "outputs": [
    {
     "data": {
      "text/plain": [
       "6"
      ]
     },
     "execution_count": 47,
     "metadata": {},
     "output_type": "execute_result"
    }
   ],
   "source": [
    "x = \"zxabcdezy\"\n",
    "y = \"yzabcdezx\"\n",
    "lcsubstring(x,y)"
   ]
  },
  {
   "cell_type": "markdown",
   "metadata": {},
   "source": [
    "##### <font face='comic sans ms' color ='blue'>recursion approach</font>"
   ]
  },
  {
   "cell_type": "code",
   "execution_count": 48,
   "metadata": {},
   "outputs": [],
   "source": [
    "# def lc_substring(str1,str2):\n",
    "#     n,m=len(str1),len(str2)\n",
    "#     table=[[-1 for _ in range(m+1)] for _ in range(n+1)]\n",
    "#     def _substring(str1,str2,n,m):\n",
    "#         if n==0 or m==0:\n",
    "#             return 0\n",
    "#         # if table[n-1]\n",
    "#         if str1[n-1]==str2[m-1]:\n",
    "#             return 1+_substring(str1,str2,n-1,m-1)\n",
    "#         else:\n",
    "#             return _substring(str1,str2,n-1,m)\n",
    "            \n",
    "#     return _substring(str1,str2,n,m)\n",
    "\n"
   ]
  },
  {
   "cell_type": "code",
   "execution_count": 49,
   "metadata": {},
   "outputs": [],
   "source": [
    "# lc_substring('abefbcd','abcfbcd')"
   ]
  },
  {
   "cell_type": "code",
   "execution_count": 50,
   "metadata": {},
   "outputs": [],
   "source": [
    "# x=\"GeeksforGeeks\"\n",
    "# y = \"GeeksQuiz\" \n",
    "# lc_substring(x,y)"
   ]
  },
  {
   "cell_type": "markdown",
   "metadata": {},
   "source": [
    "# <font face='comic sans ms' color ='PaleTurquoise'>Shortest Common SuperSequence</font>"
   ]
  },
  {
   "cell_type": "markdown",
   "metadata": {},
   "source": [
    "### <font face='comic sans ms' color ='magenta'>Length of Shortest Common SuperSequence</font>"
   ]
  },
  {
   "cell_type": "code",
   "execution_count": 15,
   "metadata": {},
   "outputs": [],
   "source": [
    "def getLength_SCS(str1,str2):\n",
    "    def lcsTD(str1,str2):\n",
    "        n,m=len(str1),len(str2)\n",
    "        table=[[-1 for _ in range(m+1)] for _ in range(n+1)]\n",
    "\n",
    "        for i in range(len(table)):\n",
    "            table[i][0]=0\n",
    "        for j in range(len(table[0])):\n",
    "            table[0][j]=0\n",
    "        \n",
    "        for i in range(1,len(table)):\n",
    "            for j in range(1,len(table[0])):\n",
    "                if str1[i-1]==str2[j-1]:\n",
    "                    table[i][j]=1+table[i-1][j-1]\n",
    "                else:\n",
    "                    table[i][j]=max(table[i-1][j],table[i][j-1])\n",
    "        return table[-1][-1]\n",
    "    return len(str1)+len(str2)-lcsTD(str1,str2)"
   ]
  },
  {
   "cell_type": "code",
   "execution_count": 16,
   "metadata": {},
   "outputs": [
    {
     "data": {
      "text/plain": [
       "26"
      ]
     },
     "execution_count": 16,
     "metadata": {},
     "output_type": "execute_result"
    }
   ],
   "source": [
    "X = \"pmjghexybyrgzc\"\n",
    "Y = \"hafcdqbgncrcbihk\"\n",
    "getLength_SCS(X,Y)"
   ]
  },
  {
   "cell_type": "markdown",
   "metadata": {},
   "source": [
    "### <font face='comic sans ms' color ='magenta'>Printing of Shortest Common SuperSequence</font>"
   ]
  },
  {
   "cell_type": "code",
   "execution_count": 59,
   "metadata": {},
   "outputs": [],
   "source": [
    "def print_lcsTD(str1,str2):\n",
    "    n,m=len(str1),len(str2)\n",
    "    table=[[-1 for _ in range(m+1)] for _ in range(n+1)]\n",
    "\n",
    "    for i in range(len(table)):\n",
    "        table[i][0]=0\n",
    "    for j in range(len(table[0])):\n",
    "        table[0][j]=0\n",
    "    \n",
    "    for i in range(1,len(table)):\n",
    "        for j in range(1,len(table[0])):\n",
    "            if str1[i-1]==str2[j-1]:\n",
    "                table[i][j]=1+table[i-1][j-1]\n",
    "            else:\n",
    "                table[i][j]=max(table[i-1][j],table[i][j-1])\n",
    "    \n",
    "    # ectracting string\n",
    "    string=''\n",
    "    while(n>0 and m>0):\n",
    "        if str1[n-1]==str2[m-1]:\n",
    "            string=str1[n-1]+string\n",
    "            n-=1\n",
    "            m-=1\n",
    "        elif table[n][m-1]>table[n-1][m]:\n",
    "            string=str2[m-1]+string\n",
    "            m-=1\n",
    "        else:\n",
    "            string=str1[n-1]+string\n",
    "            n-=1\n",
    "    string=str1[:n]+str2[:m]+string     # to satisfy (\"abc\",\"\")-->\"abc\"\n",
    "    return string\n"
   ]
  },
  {
   "cell_type": "code",
   "execution_count": 60,
   "metadata": {},
   "outputs": [
    {
     "data": {
      "text/plain": [
       "'acbcdaf'"
      ]
     },
     "execution_count": 60,
     "metadata": {},
     "output_type": "execute_result"
    }
   ],
   "source": [
    "X = \"abcdaf\"\n",
    "Y = \"acbcf\"\n",
    "print_lcsTD(X,Y)"
   ]
  },
  {
   "cell_type": "code",
   "execution_count": 61,
   "metadata": {},
   "outputs": [
    {
     "data": {
      "text/plain": [
       "'abcdaf'"
      ]
     },
     "execution_count": 61,
     "metadata": {},
     "output_type": "execute_result"
    }
   ],
   "source": [
    "X = \"abcdaf\"\n",
    "Y = \"\"\n",
    "print_lcsTD(X,Y)"
   ]
  },
  {
   "cell_type": "markdown",
   "metadata": {},
   "source": [
    "# <font face='comic sans ms' color ='PaleTurquoise'>Minimum Number of Insertion and Deletion</font>"
   ]
  },
  {
   "cell_type": "code",
   "execution_count": 17,
   "metadata": {},
   "outputs": [],
   "source": [
    "# heap -> pea\n",
    "# no. of deletion -> 2 {h,p}    hint: len(heap)-lcs     where lcs=2 {ea}\n",
    "# no. of insertion -> 1 {p}     hint: len(pea)-lcs"
   ]
  },
  {
   "cell_type": "code",
   "execution_count": 18,
   "metadata": {},
   "outputs": [],
   "source": [
    "def lcsTD(str1,str2):\n",
    "    n,m=len(str1),len(str2)\n",
    "    table=[[-1 for _ in range(m+1)] for _ in range(n+1)]\n",
    "\n",
    "    for i in range(len(table)):\n",
    "        table[i][0]=0\n",
    "    for j in range(len(table[0])):\n",
    "        table[0][j]=0\n",
    "    \n",
    "    for i in range(1,len(table)):\n",
    "        for j in range(1,len(table[0])):\n",
    "            if str1[i-1]==str2[j-1]:\n",
    "                table[i][j]=1+table[i-1][j-1]\n",
    "            else:\n",
    "                table[i][j]=max(table[i-1][j],table[i][j-1])\n",
    "    \n",
    "    # calculating no. of deletion and insertion\n",
    "    deletion=len(str1)-table[-1][-1]\n",
    "    insertion=len(str2)-table[-1][-1]\n",
    "    print('no. of deletion: ',deletion)\n",
    "    print('no. of insertion: ',insertion)"
   ]
  },
  {
   "cell_type": "code",
   "execution_count": 19,
   "metadata": {},
   "outputs": [
    {
     "name": "stdout",
     "output_type": "stream",
     "text": [
      "no. of deletion:  2\n",
      "no. of insertion:  1\n"
     ]
    }
   ],
   "source": [
    "lcsTD('heap','pea')"
   ]
  },
  {
   "cell_type": "markdown",
   "metadata": {},
   "source": [
    "# <font face='comic sans ms' color ='PaleTurquoise'>Longest Palindromic Subsequence</font>"
   ]
  },
  {
   "cell_type": "code",
   "execution_count": 35,
   "metadata": {},
   "outputs": [],
   "source": [
    "def getLPS(str1):\n",
    "    str2=str1[-1::-1]\n",
    "    n,m=len(str1),len(str2)\n",
    "    table=[[-1 for _ in range(m+1)] for _ in range(n+1)]\n",
    "\n",
    "    for i in range(len(table)):\n",
    "        table[i][0]=0\n",
    "    for j in range(len(table[0])):\n",
    "        table[0][j]=0\n",
    "    \n",
    "    for i in range(1,len(table)):\n",
    "        for j in range(1,len(table[0])):\n",
    "            if str1[i-1]==str2[j-1]:\n",
    "                table[i][j]=1+table[i-1][j-1]\n",
    "            else:\n",
    "                table[i][j]=max(table[i-1][j],table[i][j-1])\n",
    "    return table[-1][-1]\n"
   ]
  },
  {
   "cell_type": "code",
   "execution_count": 36,
   "metadata": {},
   "outputs": [
    {
     "data": {
      "text/plain": [
       "5"
      ]
     },
     "execution_count": 36,
     "metadata": {},
     "output_type": "execute_result"
    }
   ],
   "source": [
    "X='agbcba'\n",
    "getLPS(X)"
   ]
  },
  {
   "cell_type": "markdown",
   "metadata": {},
   "source": [
    "# <font face='comic sans ms' color ='PaleTurquoise'>Min. no. of Deletion in a str to make it Palindrome</font>"
   ]
  },
  {
   "cell_type": "code",
   "execution_count": 37,
   "metadata": {},
   "outputs": [],
   "source": [
    "# minimum number of deletion in a string to make it palindrome\n",
    "def getMinDel(str1):\n",
    "    str2=str1[-1::-1]\n",
    "    n,m=len(str1),len(str2)\n",
    "    table=[[-1 for _ in range(m+1)] for _ in range(n+1)]\n",
    "\n",
    "    for i in range(len(table)):\n",
    "        table[i][0]=0\n",
    "    for j in range(len(table[0])):\n",
    "        table[0][j]=0\n",
    "    \n",
    "    for i in range(1,len(table)):\n",
    "        for j in range(1,len(table[0])):\n",
    "            if str1[i-1]==str2[j-1]:\n",
    "                table[i][j]=1+table[i-1][j-1]\n",
    "            else:\n",
    "                table[i][j]=max(table[i-1][j],table[i][j-1])\n",
    "    \n",
    "    return len(str1)-table[-1][-1]\n"
   ]
  },
  {
   "cell_type": "code",
   "execution_count": 38,
   "metadata": {},
   "outputs": [
    {
     "data": {
      "text/plain": [
       "1"
      ]
     },
     "execution_count": 38,
     "metadata": {},
     "output_type": "execute_result"
    }
   ],
   "source": [
    "X='agbcba'\n",
    "getMinDel(X)"
   ]
  },
  {
   "cell_type": "markdown",
   "metadata": {},
   "source": [
    "# <font face='comic sans ms' color ='PaleTurquoise'>Testing</font>"
   ]
  },
  {
   "cell_type": "code",
   "execution_count": 3,
   "metadata": {},
   "outputs": [],
   "source": [
    "def lcsRecMem(str1,str2): #recursion and memoization approach\n",
    "    n,m=len(str1),len(str2)\n",
    "    table=[['' for _ in range(m+1)] for _ in range(n+1)]\n",
    "    def lcs(str1,str2,n,m):\n",
    "        if n==0 or m==0:\n",
    "            return ''\n",
    "\n",
    "        if table[n][m]!='':     #memoization\n",
    "            return table[n][m]\n",
    "\n",
    "        if str1[n-1]==str2[m-1]:\n",
    "            table[n][m]= lcs(str1,str2,n-1,m-1)+str2[n-1]\n",
    "            return table[n][m]\n",
    "        else:\n",
    "            a1,a2=lcs(str1,str2,n-1,m),lcs(str1,str2,n,m-1)\n",
    "            table[n][m]= a1 if len(a1)>len(a2) else a2\n",
    "            return table[n][m]\n",
    "    return lcs(str1,str2,n,m)"
   ]
  },
  {
   "cell_type": "code",
   "execution_count": 4,
   "metadata": {},
   "outputs": [
    {
     "data": {
      "text/plain": [
       "'dnci'"
      ]
     },
     "execution_count": 4,
     "metadata": {},
     "output_type": "execute_result"
    }
   ],
   "source": [
    "X = \"pmjghexybyrgzc\"\n",
    "Y = \"hafcdqbgncrcbihk\"\n",
    "lcsRecMem(X,Y)"
   ]
  },
  {
   "cell_type": "code",
   "execution_count": 5,
   "metadata": {},
   "outputs": [
    {
     "data": {
      "text/plain": [
       "'abfbc'"
      ]
     },
     "execution_count": 5,
     "metadata": {},
     "output_type": "execute_result"
    }
   ],
   "source": [
    "lcsRecMem('abefcd','abcfbcd')"
   ]
  },
  {
   "cell_type": "code",
   "execution_count": null,
   "metadata": {},
   "outputs": [],
   "source": []
  }
 ],
 "metadata": {
  "kernelspec": {
   "display_name": "Python 3.9.7 ('base')",
   "language": "python",
   "name": "python3"
  },
  "language_info": {
   "codemirror_mode": {
    "name": "ipython",
    "version": 3
   },
   "file_extension": ".py",
   "mimetype": "text/x-python",
   "name": "python",
   "nbconvert_exporter": "python",
   "pygments_lexer": "ipython3",
   "version": "3.9.7"
  },
  "orig_nbformat": 4,
  "vscode": {
   "interpreter": {
    "hash": "649e9a488baa9f755be1bd774174f13c00c6eb61d6f5988e2904ab6e22ac3fc0"
   }
  }
 },
 "nbformat": 4,
 "nbformat_minor": 2
}
