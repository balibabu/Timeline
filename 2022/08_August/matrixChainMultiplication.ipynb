{
 "cells": [
  {
   "cell_type": "markdown",
   "metadata": {},
   "source": [
    "# <font face='comic sans ms' color ='PaleTurquoise'>Introduction plus Format</font>"
   ]
  },
  {
   "cell_type": "code",
   "execution_count": 1,
   "metadata": {},
   "outputs": [],
   "source": [
    "def solve(array,i,j):\n",
    "    # base condition, this time we take minimum invalid input\n",
    "    if i>j:\n",
    "        return 0 #depends on question what we have to return\n",
    "    \n",
    "    # now we divide array into k parts\n",
    "    for k in range(i,j):\n",
    "        tempAns=solve(array,i,k)+solve(array,k+1,j) # here we get bunch of temporary ans, here + depends on que\n",
    "        ans=fun(tempAns)    # using all the temporary ans we find actual answer\n",
    "    return ans"
   ]
  },
  {
   "cell_type": "markdown",
   "metadata": {},
   "source": [
    "# <font face='comic sans ms' color ='PaleTurquoise'>Matrix Chain Multiplication</font>"
   ]
  },
  {
   "cell_type": "code",
   "execution_count": 1,
   "metadata": {},
   "outputs": [],
   "source": [
    "# arr=[2,3,4,5,6] : orders of matrices : like 2*3,3*4,..\n",
    "# order of mat1=arr[i-1]*arr[i] i.e. starting point of i is 1\n",
    "# order of last matrix=arr[j-1]*arr[j] so starting position of j is len(arr)-1"
   ]
  },
  {
   "cell_type": "code",
   "execution_count": 21,
   "metadata": {},
   "outputs": [],
   "source": [
    "import sys\n",
    "def minCost(arr,i,j):\n",
    "    if i>=j:\n",
    "        return 0\n",
    "    minVal=sys.maxsize\n",
    "    for k in range(i,j):\n",
    "        tempVal=minCost(arr,i,k)+minCost(arr,k+1,j)+arr[i-1]*arr[k]*arr[j]\n",
    "        if tempVal<minVal:minVal=tempVal\n",
    "    return minVal"
   ]
  },
  {
   "cell_type": "code",
   "execution_count": 25,
   "metadata": {},
   "outputs": [
    {
     "data": {
      "text/plain": [
       "18"
      ]
     },
     "execution_count": 25,
     "metadata": {},
     "output_type": "execute_result"
    }
   ],
   "source": [
    "# arr=[40,20,30,10,30]\n",
    "arr = [1, 2, 3, 4]\n",
    "i,j=1,len(arr)-1\n",
    "minCost(arr,i,j)"
   ]
  },
  {
   "cell_type": "markdown",
   "metadata": {},
   "source": [
    "##### <font face='comic sans ms' color ='blue'>using memoization</font>"
   ]
  },
  {
   "cell_type": "code",
   "execution_count": 26,
   "metadata": {},
   "outputs": [],
   "source": [
    "import sys\n",
    "def mcm(arr):\n",
    "    i,j=1,len(arr)-1\n",
    "    table=[[-1 for _ in range(len(arr)+1)] for _ in range(len(arr)+1)]\n",
    "    def minCost(arr,i,j):\n",
    "        if i>=j:\n",
    "            return 0\n",
    "        if table[i][j]!=-1:\n",
    "            return table[i][j]\n",
    "        minVal=sys.maxsize\n",
    "        for k in range(i,j):\n",
    "            tempVal=minCost(arr,i,k)+minCost(arr,k+1,j)+arr[i-1]*arr[k]*arr[j]\n",
    "            if tempVal<minVal:minVal=tempVal\n",
    "        table[i][j]=minVal\n",
    "        return minVal\n",
    "    return minCost(arr,i,j)"
   ]
  },
  {
   "cell_type": "code",
   "execution_count": 27,
   "metadata": {},
   "outputs": [
    {
     "data": {
      "text/plain": [
       "18"
      ]
     },
     "execution_count": 27,
     "metadata": {},
     "output_type": "execute_result"
    }
   ],
   "source": [
    "mcm(arr)"
   ]
  },
  {
   "cell_type": "markdown",
   "metadata": {},
   "source": [
    "# <font face='comic sans ms' color ='PaleTurquoise'>Palindrome Partitioning</font>"
   ]
  },
  {
   "cell_type": "code",
   "execution_count": 53,
   "metadata": {},
   "outputs": [],
   "source": [
    "def isPalindrome(str1,i,j):\n",
    "    print(str1[i:j+1])\n",
    "    print(str1[j:i-1:-1])\n",
    "    if str1[i:j+1]==str1[j:i-1:-1]:\n",
    "        return True\n",
    "    return False"
   ]
  },
  {
   "cell_type": "code",
   "execution_count": 46,
   "metadata": {},
   "outputs": [],
   "source": [
    "import sys\n",
    "def minPart(str1,i,j):\n",
    "    minVal=sys.maxsize\n",
    "    if i>=j:\n",
    "        return 0\n",
    "    if isPalindrome(str1,i,j):\n",
    "        return 0\n",
    "    for k in range(i,j):\n",
    "        tempVal=minPart(str1,i,k)+minPart(str1,k+1,j)+1\n",
    "        if tempVal<minVal: minVal=tempVal\n",
    "    return minVal\n"
   ]
  },
  {
   "cell_type": "code",
   "execution_count": 47,
   "metadata": {},
   "outputs": [
    {
     "data": {
      "text/plain": [
       "3"
      ]
     },
     "execution_count": 47,
     "metadata": {},
     "output_type": "execute_result"
    }
   ],
   "source": [
    "str1=\"ababbbabbababa\"\n",
    "minPart(str1,0,len(str1)-1)"
   ]
  },
  {
   "cell_type": "code",
   "execution_count": 51,
   "metadata": {},
   "outputs": [
    {
     "data": {
      "text/plain": [
       "2"
      ]
     },
     "execution_count": 51,
     "metadata": {},
     "output_type": "execute_result"
    }
   ],
   "source": [
    "str1=\"nitin\"\n",
    "minPart(str1,0,len(str1)-1)"
   ]
  },
  {
   "cell_type": "code",
   "execution_count": 54,
   "metadata": {},
   "outputs": [
    {
     "name": "stdout",
     "output_type": "stream",
     "text": [
      "nitin\n",
      "\n"
     ]
    },
    {
     "data": {
      "text/plain": [
       "False"
      ]
     },
     "execution_count": 54,
     "metadata": {},
     "output_type": "execute_result"
    }
   ],
   "source": [
    "str1=\"nitin\"\n",
    "# isPalindrome(str1,0,len(str1)-1)\n",
    "str1[]"
   ]
  },
  {
   "cell_type": "markdown",
   "metadata": {},
   "source": [
    "##### <font face='comic sans ms' color ='blue'>using memoization</font>"
   ]
  },
  {
   "cell_type": "code",
   "execution_count": 49,
   "metadata": {},
   "outputs": [],
   "source": [
    "def minPalinPart(str1):\n",
    "    import sys\n",
    "    i,j=0,len(str1)-1\n",
    "    table=[[-1 for _ in range(len(str1)+1)]for _ in range(len(str1)+1)]\n",
    "    def minPart(str1,i,j):\n",
    "        minVal=sys.maxsize\n",
    "        if i>=j:\n",
    "            return 0\n",
    "        if isPalindrome(str1,i,j):\n",
    "            return 0\n",
    "        if table[i][j]!=-1: return table[i][j]\n",
    "        for k in range(i,j):\n",
    "            tempVal=minPart(str1,i,k)+minPart(str1,k+1,j)+1\n",
    "            if tempVal<minVal: minVal=tempVal\n",
    "        table[i][j]=minVal\n",
    "        return minVal\n",
    "    return minPart(str1,i,j)"
   ]
  },
  {
   "cell_type": "code",
   "execution_count": 50,
   "metadata": {},
   "outputs": [
    {
     "data": {
      "text/plain": [
       "3"
      ]
     },
     "execution_count": 50,
     "metadata": {},
     "output_type": "execute_result"
    }
   ],
   "source": [
    "str1=\"ababbbabbababa\"\n",
    "minPalinPart(str1)"
   ]
  },
  {
   "cell_type": "code",
   "execution_count": null,
   "metadata": {},
   "outputs": [],
   "source": []
  }
 ],
 "metadata": {
  "kernelspec": {
   "display_name": "Python 3.9.7 ('base')",
   "language": "python",
   "name": "python3"
  },
  "language_info": {
   "codemirror_mode": {
    "name": "ipython",
    "version": 3
   },
   "file_extension": ".py",
   "mimetype": "text/x-python",
   "name": "python",
   "nbconvert_exporter": "python",
   "pygments_lexer": "ipython3",
   "version": "3.9.7"
  },
  "orig_nbformat": 4,
  "vscode": {
   "interpreter": {
    "hash": "649e9a488baa9f755be1bd774174f13c00c6eb61d6f5988e2904ab6e22ac3fc0"
   }
  }
 },
 "nbformat": 4,
 "nbformat_minor": 2
}
