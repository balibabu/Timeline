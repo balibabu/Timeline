{
 "cells": [
  {
   "cell_type": "markdown",
   "metadata": {},
   "source": [
    "# <font face='comic sans ms' color ='PaleTurquoise'>Introduction plus Format</font>"
   ]
  },
  {
   "cell_type": "code",
   "execution_count": 1,
   "metadata": {},
   "outputs": [],
   "source": [
    "def solve(array,i,j):\n",
    "    # base condition, this time we take minimum invalid input\n",
    "    if i>j:\n",
    "        return 0 #depends on question what we have to return\n",
    "    \n",
    "    # now we divide array into k parts\n",
    "    for k in range(i,j):\n",
    "        tempAns=solve(array,i,k)+solve(array,k+1,j) # here we get bunch of temporary ans, here + depends on que\n",
    "        ans=fun(tempAns)    # using all the temporary ans we find actual answer\n",
    "    return ans"
   ]
  },
  {
   "cell_type": "markdown",
   "metadata": {},
   "source": [
    "# <font face='comic sans ms' color ='PaleTurquoise'>Matrix Chain Multiplication</font>"
   ]
  },
  {
   "cell_type": "code",
   "execution_count": 1,
   "metadata": {},
   "outputs": [],
   "source": [
    "# arr=[2,3,4,5,6] : orders of matrices : like 2*3,3*4,..\n",
    "# order of mat1=arr[i-1]*arr[i] i.e. starting point of i is 1\n",
    "# order of last matrix=arr[j-1]*arr[j] so starting position of j is len(arr)-1"
   ]
  },
  {
   "cell_type": "code",
   "execution_count": 21,
   "metadata": {},
   "outputs": [],
   "source": [
    "import sys\n",
    "def minCost(arr,i,j):\n",
    "    if i>=j:\n",
    "        return 0\n",
    "    minVal=sys.maxsize\n",
    "    for k in range(i,j):\n",
    "        tempVal=minCost(arr,i,k)+minCost(arr,k+1,j)+arr[i-1]*arr[k]*arr[j]\n",
    "        if tempVal<minVal:minVal=tempVal\n",
    "    return minVal"
   ]
  },
  {
   "cell_type": "code",
   "execution_count": 25,
   "metadata": {},
   "outputs": [
    {
     "data": {
      "text/plain": [
       "18"
      ]
     },
     "execution_count": 25,
     "metadata": {},
     "output_type": "execute_result"
    }
   ],
   "source": [
    "# arr=[40,20,30,10,30]\n",
    "arr = [1, 2, 3, 4]\n",
    "i,j=1,len(arr)-1\n",
    "minCost(arr,i,j)"
   ]
  },
  {
   "cell_type": "markdown",
   "metadata": {},
   "source": [
    "##### <font face='comic sans ms' color ='blue'>using memoization</font>"
   ]
  },
  {
   "cell_type": "code",
   "execution_count": 26,
   "metadata": {},
   "outputs": [],
   "source": [
    "import sys\n",
    "def mcm(arr):\n",
    "    i,j=1,len(arr)-1\n",
    "    table=[[-1 for _ in range(len(arr)+1)] for _ in range(len(arr)+1)]\n",
    "    def minCost(arr,i,j):\n",
    "        if i>=j:\n",
    "            return 0\n",
    "        if table[i][j]!=-1:\n",
    "            return table[i][j]\n",
    "        minVal=sys.maxsize\n",
    "        for k in range(i,j):\n",
    "            tempVal=minCost(arr,i,k)+minCost(arr,k+1,j)+arr[i-1]*arr[k]*arr[j]\n",
    "            if tempVal<minVal:minVal=tempVal\n",
    "        table[i][j]=minVal\n",
    "        return minVal\n",
    "    return minCost(arr,i,j)"
   ]
  },
  {
   "cell_type": "code",
   "execution_count": 27,
   "metadata": {},
   "outputs": [
    {
     "data": {
      "text/plain": [
       "18"
      ]
     },
     "execution_count": 27,
     "metadata": {},
     "output_type": "execute_result"
    }
   ],
   "source": [
    "mcm(arr)"
   ]
  },
  {
   "cell_type": "markdown",
   "metadata": {},
   "source": [
    "# <font face='comic sans ms' color ='PaleTurquoise'>Palindrome Partitioning</font>"
   ]
  },
  {
   "cell_type": "code",
   "execution_count": 4,
   "metadata": {},
   "outputs": [],
   "source": [
    "def isPalindrome(str1,i,j):\n",
    "    while i<j:\n",
    "        if str1[i]!=str1[j]:return False\n",
    "        i+=1\n",
    "        j-=1\n",
    "    return True"
   ]
  },
  {
   "cell_type": "code",
   "execution_count": 5,
   "metadata": {},
   "outputs": [],
   "source": [
    "import sys\n",
    "def minPart(str1,i,j):\n",
    "    minVal=sys.maxsize\n",
    "    if i>=j:\n",
    "        return 0\n",
    "    if isPalindrome(str1,i,j):\n",
    "        return 0\n",
    "    for k in range(i,j):\n",
    "        tempVal=minPart(str1,i,k)+minPart(str1,k+1,j)+1\n",
    "        if tempVal<minVal: minVal=tempVal\n",
    "    return minVal\n"
   ]
  },
  {
   "cell_type": "code",
   "execution_count": 6,
   "metadata": {},
   "outputs": [
    {
     "data": {
      "text/plain": [
       "3"
      ]
     },
     "execution_count": 6,
     "metadata": {},
     "output_type": "execute_result"
    }
   ],
   "source": [
    "str1=\"ababbbabbababa\"\n",
    "minPart(str1,0,len(str1)-1)"
   ]
  },
  {
   "cell_type": "code",
   "execution_count": 7,
   "metadata": {},
   "outputs": [
    {
     "data": {
      "text/plain": [
       "0"
      ]
     },
     "execution_count": 7,
     "metadata": {},
     "output_type": "execute_result"
    }
   ],
   "source": [
    "str1=\"nitin\"\n",
    "minPart(str1,0,len(str1)-1)"
   ]
  },
  {
   "cell_type": "code",
   "execution_count": null,
   "metadata": {},
   "outputs": [],
   "source": []
  },
  {
   "cell_type": "markdown",
   "metadata": {},
   "source": [
    "##### <font face='comic sans ms' color ='blue'>using memoization</font>"
   ]
  },
  {
   "cell_type": "code",
   "execution_count": 8,
   "metadata": {},
   "outputs": [],
   "source": [
    "def minPalinPart(str1):\n",
    "    import sys\n",
    "    i,j=0,len(str1)-1\n",
    "    table=[[-1 for _ in range(len(str1)+1)]for _ in range(len(str1)+1)]\n",
    "    def minPart(str1,i,j):\n",
    "        if table[i][j]!=-1: return table[i][j]\n",
    "        minVal=sys.maxsize\n",
    "        if i>=j:\n",
    "            return 0\n",
    "        if isPalindrome(str1,i,j):\n",
    "            return 0\n",
    "        for k in range(i,j):\n",
    "            tempVal=minPart(str1,i,k)+minPart(str1,k+1,j)+1\n",
    "            if tempVal<minVal: minVal=tempVal\n",
    "        table[i][j]=minVal\n",
    "        return minVal\n",
    "    return minPart(str1,i,j)"
   ]
  },
  {
   "cell_type": "code",
   "execution_count": 9,
   "metadata": {},
   "outputs": [
    {
     "data": {
      "text/plain": [
       "3"
      ]
     },
     "execution_count": 9,
     "metadata": {},
     "output_type": "execute_result"
    }
   ],
   "source": [
    "str1=\"ababbbabbababa\"\n",
    "minPalinPart(str1)"
   ]
  },
  {
   "cell_type": "markdown",
   "metadata": {},
   "source": [
    "# <font face='comic sans ms' color ='PaleTurquoise'>Evaluate Expression to True  Boolean Parenthesization</font>"
   ]
  },
  {
   "cell_type": "code",
   "execution_count": 12,
   "metadata": {},
   "outputs": [],
   "source": [
    "# expn='T&F|T' : how many ways we can make this true by putting brackets\n",
    "# eg: (T)&(F|T) -> T\n",
    "#     (T&F)|(T) -> T    so there are two ways to make the exp true\n",
    "\n",
    "# Tricks:\n",
    "# exp1 , exp2 , no. of way exp1 to be true is x1, false is y1 and similarly for exp2 is x2, y2\n",
    "#  then no. of ways to make expn true is x1*x2 for '&' operation (both T gives True else False)\n",
    "# and for 'or' operation no. of ways = x1*x2 + x1*y2 + y1*x2  (any 1 T gives True)\n",
    "# and for '^' operation no. of ways = x1*y2 + x2*y1 (T,F and F,T gives True)"
   ]
  },
  {
   "cell_type": "code",
   "execution_count": 87,
   "metadata": {},
   "outputs": [],
   "source": [
    "def evaluate(exp,i,j,isTrue):\n",
    "    if i>j: return 0\n",
    "    if i==j:\n",
    "        if exp[i]=='T': return int(isTrue==True)\n",
    "        else: return int(isTrue==False)\n",
    "    ans=0\n",
    "    for k in range(i+1,j,2):\n",
    "        lt=evaluate(exp,i,k-1,True)  # lt -> left true   x1\n",
    "        lf=evaluate(exp,i,k-1,False) # lf -> left false  y1\n",
    "        rt=evaluate(exp,k+1,j,True)  # rt -> right true  x2\n",
    "        rf=evaluate(exp,k+1,j,False) # rf -> right false y2\n",
    "        \n",
    "        if exp[k]=='&':\n",
    "            if isTrue: ans += lt*rt   # for true\n",
    "            else: ans += lt*rf + lf*rt + lf*rf # for false\n",
    "        elif exp[k]=='|':\n",
    "            if isTrue: ans += lt*rt + lf*rt + lt*rf \n",
    "            else: ans += lf*rf # for false in or both need to br false\n",
    "        elif exp[k]=='^':\n",
    "            if isTrue: ans += lt*rf + lf*rt # in xor opposite bool gives true\n",
    "            else: ans += lf*rf + lt*rt # same bool gives false\n",
    "    return ans \n",
    "\n"
   ]
  },
  {
   "cell_type": "code",
   "execution_count": 88,
   "metadata": {},
   "outputs": [
    {
     "data": {
      "text/plain": [
       "4"
      ]
     },
     "execution_count": 88,
     "metadata": {},
     "output_type": "execute_result"
    }
   ],
   "source": [
    "exp='T|T&F^T'\n",
    "evaluate(exp,0,len(exp)-1,True)"
   ]
  },
  {
   "cell_type": "markdown",
   "metadata": {},
   "source": [
    "##### <font face='comic sans ms' color ='blue'>using memoization or bottom up</font>"
   ]
  },
  {
   "cell_type": "code",
   "execution_count": 47,
   "metadata": {},
   "outputs": [],
   "source": [
    "def evaluateExpression(exp,isTrue):\n",
    "    i,j=0,len(exp)-1\n",
    "    table=[[[-1 for _ in range(2)] for _ in range(len(exp)+1)]  for _ in range(len(exp)+1)]\n",
    "\n",
    "    def evaluate(exp,i,j,isTrue):\n",
    "        if table[i][j][isTrue]!=-1: return table[i][j][isTrue]\n",
    "        if i>j: return 0\n",
    "        if i==j:\n",
    "            if exp[i]=='T': return int(isTrue==True)\n",
    "            else: return int(isTrue==False)\n",
    "        ans=0\n",
    "        for k in range(i+1,j,2):\n",
    "            lt=evaluate(exp,i,k-1,True)  # lt -> left true   x1\n",
    "            lf=evaluate(exp,i,k-1,False) # lf -> left false  y1\n",
    "            rt=evaluate(exp,k+1,j,True)  # rt -> right true  x2\n",
    "            rf=evaluate(exp,k+1,j,False) # rf -> right false y2\n",
    "            \n",
    "            if exp[k]=='&':\n",
    "                if isTrue: ans += lt*rt   # for true\n",
    "                else: ans += lt*rf + lf*rt + lf*rf # for false\n",
    "            elif exp[k]=='|':\n",
    "                if isTrue: ans += lt*rt + lf*rt + lt*rf \n",
    "                else: ans += lf*rf # for false in or both need to br false\n",
    "            else:\n",
    "                if isTrue: ans += lt*rf + lf*rt # in xor opposite bool gives true\n",
    "                else: ans += lf*rf + lt*rt # same bool gives false\n",
    "        table[i][j][isTrue]=ans\n",
    "        return ans \n",
    "    \n",
    "    return evaluate(exp,i,j,isTrue)\n",
    "\n"
   ]
  },
  {
   "cell_type": "code",
   "execution_count": 85,
   "metadata": {},
   "outputs": [
    {
     "data": {
      "text/plain": [
       "1026"
      ]
     },
     "execution_count": 85,
     "metadata": {},
     "output_type": "execute_result"
    }
   ],
   "source": [
    "exp='T|F^F&T|F^F^F^T|T' # 638 &T^T|F^T^F&F^T|T^F\n",
    "\n",
    "evaluateExpression(exp,True)"
   ]
  },
  {
   "cell_type": "code",
   "execution_count": 86,
   "metadata": {},
   "outputs": [
    {
     "data": {
      "text/plain": [
       "1026"
      ]
     },
     "execution_count": 86,
     "metadata": {},
     "output_type": "execute_result"
    }
   ],
   "source": [
    "evaluate(exp,0,len(exp)-1,True)"
   ]
  },
  {
   "cell_type": "code",
   "execution_count": 84,
   "metadata": {},
   "outputs": [
    {
     "name": "stdout",
     "output_type": "stream",
     "text": [
      "4\n"
     ]
    }
   ],
   "source": [
    "# Returns count of all possible\n",
    "# parenthesizations that lead to\n",
    "# result true for a boolean\n",
    "# expression with symbols like\n",
    "# true and false and operators\n",
    "# like &, | and ^ filled between symbols\n",
    "\n",
    "\n",
    "def countParenth(symb, oper, n):\n",
    "\tF = [[0 for i in range(n + 1)]\n",
    "\t\tfor i in range(n + 1)]\n",
    "\tT = [[0 for i in range(n + 1)]\n",
    "\t\tfor i in range(n + 1)]\n",
    "\n",
    "\t# Fill diagonal entries first\n",
    "\t# All diagonal entries in\n",
    "\t# T[i][i] are 1 if symbol[i]\n",
    "\t# is T (true). Similarly, all\n",
    "\t# F[i][i] entries are 1 if\n",
    "\t# symbol[i] is F (False)\n",
    "\tfor i in range(n):\n",
    "\t\tif symb[i] == 'F':\n",
    "\t\t\tF[i][i] = 1\n",
    "\t\telse:\n",
    "\t\t\tF[i][i] = 0\n",
    "\n",
    "\t\tif symb[i] == 'T':\n",
    "\t\t\tT[i][i] = 1\n",
    "\t\telse:\n",
    "\t\t\tT[i][i] = 0\n",
    "\n",
    "\t# Now fill T[i][i+1], T[i][i+2],\n",
    "\t# T[i][i+3]... in order And\n",
    "\t# F[i][i+1], F[i][i+2],\n",
    "\t# F[i][i+3]... in order\n",
    "\tfor gap in range(1, n):\n",
    "\t\ti = 0\n",
    "\t\tfor j in range(gap, n):\n",
    "\t\t\tT[i][j] = F[i][j] = 0\n",
    "\t\t\tfor g in range(gap):\n",
    "\n",
    "\t\t\t\t# Find place of parenthesization\n",
    "\t\t\t\t# using current value of gap\n",
    "\t\t\t\tk = i + g\n",
    "\n",
    "\t\t\t\t# Store Total[i][k] and Total[k+1][j]\n",
    "\t\t\t\ttik = T[i][k] + F[i][k]\n",
    "\t\t\t\ttkj = T[k + 1][j] + F[k + 1][j]\n",
    "\n",
    "\t\t\t\t# Follow the recursive formulas\n",
    "\t\t\t\t# according to the current operator\n",
    "\t\t\t\tif oper[k] == '&':\n",
    "\t\t\t\t\tT[i][j] += T[i][k] * T[k + 1][j]\n",
    "\t\t\t\t\tF[i][j] += (tik * tkj - T[i][k] *\n",
    "\t\t\t\t\t\t\t\tT[k + 1][j])\n",
    "\t\t\t\tif oper[k] == '|':\n",
    "\t\t\t\t\tF[i][j] += F[i][k] * F[k + 1][j]\n",
    "\t\t\t\t\tT[i][j] += (tik * tkj - F[i][k] *\n",
    "\t\t\t\t\t\t\t\tF[k + 1][j])\n",
    "\t\t\t\tif oper[k] == '^':\n",
    "\t\t\t\t\tT[i][j] += (F[i][k] * T[k + 1][j] +\n",
    "\t\t\t\t\t\t\t\tT[i][k] * F[k + 1][j])\n",
    "\t\t\t\t\tF[i][j] += (T[i][k] * T[k + 1][j] +\n",
    "\t\t\t\t\t\t\t\tF[i][k] * F[k + 1][j])\n",
    "\t\t\ti += 1\n",
    "\treturn T[0][n - 1]\n",
    "\n",
    "\n",
    "# Driver Code\n",
    "symbols = 'TTFT'\n",
    "operators = \"|&^\"\n",
    "n = len(symbols)\n",
    "\n",
    "# There are 4 ways\n",
    "# ((T|T)&(F^T)), (T|(T&(F^T))),\n",
    "# (((T|T)&F)^T) and (T|((T&F)^T))\n",
    "print(countParenth(symbols, operators, n))\n",
    "\n",
    "# This code is contributed by\n",
    "# sahil shelangia\n"
   ]
  },
  {
   "cell_type": "code",
   "execution_count": 76,
   "metadata": {},
   "outputs": [
    {
     "data": {
      "text/plain": [
       "['TF', 'FTF', 'F', 'F', 'TTT', 'TF', 'T', 'FF', 'TT', 'F']"
      ]
     },
     "execution_count": 76,
     "metadata": {},
     "output_type": "execute_result"
    }
   ],
   "source": [
    "e=exp.split('^')\n",
    "e"
   ]
  },
  {
   "cell_type": "code",
   "execution_count": 77,
   "metadata": {},
   "outputs": [],
   "source": [
    "exp=''\n",
    "for i in e:\n",
    "    exp+=str(i)"
   ]
  },
  {
   "cell_type": "code",
   "execution_count": 78,
   "metadata": {},
   "outputs": [
    {
     "data": {
      "text/plain": [
       "'TFFTFFFTTTTFTFFTTF'"
      ]
     },
     "execution_count": 78,
     "metadata": {},
     "output_type": "execute_result"
    }
   ],
   "source": [
    "exp"
   ]
  },
  {
   "cell_type": "code",
   "execution_count": null,
   "metadata": {},
   "outputs": [],
   "source": []
  }
 ],
 "metadata": {
  "kernelspec": {
   "display_name": "Python 3.9.7 ('base')",
   "language": "python",
   "name": "python3"
  },
  "language_info": {
   "codemirror_mode": {
    "name": "ipython",
    "version": 3
   },
   "file_extension": ".py",
   "mimetype": "text/x-python",
   "name": "python",
   "nbconvert_exporter": "python",
   "pygments_lexer": "ipython3",
   "version": "3.9.7"
  },
  "orig_nbformat": 4,
  "vscode": {
   "interpreter": {
    "hash": "649e9a488baa9f755be1bd774174f13c00c6eb61d6f5988e2904ab6e22ac3fc0"
   }
  }
 },
 "nbformat": 4,
 "nbformat_minor": 2
}
