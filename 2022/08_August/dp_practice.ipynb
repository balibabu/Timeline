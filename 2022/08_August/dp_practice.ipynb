{
 "cells": [
  {
   "cell_type": "code",
   "execution_count": 26,
   "metadata": {},
   "outputs": [],
   "source": [
    "def substring(str1,str2):\n",
    "    table=[[-1 for _ in range(len(str2)+1)] for _ in range(len(str1)+1)]    # str1: row, str2:col\n",
    "    for i in range(len(table[0])):\n",
    "        table[0][i]=0\n",
    "    for i in range(len(table)):\n",
    "        table[i][0]=0\n",
    "\n",
    "    for i in range(1,len(table)): # row\n",
    "        for j in range(1,len(table[0])): # col\n",
    "            if str1[i-1]==str2[j-1]:\n",
    "                table[i][j]=1+table[i-1][j-1]\n",
    "            else:\n",
    "                table[i][j]=max(table[i-1][j],table[i][j-1])\n",
    "    return table"
   ]
  },
  {
   "cell_type": "code",
   "execution_count": 27,
   "metadata": {},
   "outputs": [
    {
     "data": {
      "text/plain": [
       "4"
      ]
     },
     "execution_count": 27,
     "metadata": {},
     "output_type": "execute_result"
    }
   ],
   "source": [
    "str1=\"abcde\"\n",
    "str2=\"bacade\"\n",
    "substring(str1,str2)[-1][-1]"
   ]
  },
  {
   "cell_type": "code",
   "execution_count": 1,
   "metadata": {},
   "outputs": [],
   "source": [
    "def minAttempts(e,f):\n",
    "    if e==1: return f \n",
    "    if f==0 or f==1: return f \n",
    "\n",
    "    m=sys.maxsize\n",
    "    for k in range(1,f+1):\n",
    "        temp=1+max(minAttempts(e-1,k-1),minAttempts(e,f-k))\n",
    "        m=min(m,temp)\n",
    "    return m "
   ]
  },
  {
   "cell_type": "code",
   "execution_count": 2,
   "metadata": {},
   "outputs": [
    {
     "data": {
      "text/plain": [
       "3"
      ]
     },
     "execution_count": 2,
     "metadata": {},
     "output_type": "execute_result"
    }
   ],
   "source": [
    "minAttempts(3,5)"
   ]
  },
  {
   "cell_type": "code",
   "execution_count": null,
   "metadata": {},
   "outputs": [],
   "source": []
  },
  {
   "cell_type": "code",
   "execution_count": 19,
   "metadata": {},
   "outputs": [],
   "source": [
    "def sunsetSumTD(nums,sum1,n):\n",
    "    table=[[False for _ in range(sum1+1)]for _ in range(n+1)]\n",
    "\n",
    "    for i in range(len(table[0])):\n",
    "        table[0][i]=False\n",
    "    \n",
    "    for i in range(len(table)):\n",
    "        table[i][0]=True\n",
    "\n",
    "    for i in range(1,len(table)):\n",
    "        for j in range(1,len(table[0])):\n",
    "            if nums[i-1]<=j:\n",
    "                table[i][j]=table[i-1][j-nums[i-1]] or table[i-1][j]\n",
    "            else:\n",
    "                table[i][j]=table[i-1][j]\n",
    "    return table"
   ]
  },
  {
   "cell_type": "code",
   "execution_count": 20,
   "metadata": {},
   "outputs": [
    {
     "data": {
      "text/plain": [
       "True"
      ]
     },
     "execution_count": 20,
     "metadata": {},
     "output_type": "execute_result"
    }
   ],
   "source": [
    "nums=[2,3,5,9,10]\n",
    "sum1=20\n",
    "sunsetSumTD(nums,sum1,len(nums))[-1][-1]"
   ]
  },
  {
   "cell_type": "code",
   "execution_count": 24,
   "metadata": {},
   "outputs": [],
   "source": [
    "def minSubsetSumDiff(nums):\n",
    "    table=sunsetSumTD(nums,sum(nums),len(nums))\n",
    "    row=[]\n",
    "    for i in range(len(table[0])//2):\n",
    "        if table[-1][i]:\n",
    "            row.append(i)\n",
    "    return sum(nums)-2*row[-1]"
   ]
  },
  {
   "cell_type": "code",
   "execution_count": 25,
   "metadata": {},
   "outputs": [
    {
     "data": {
      "text/plain": [
       "1"
      ]
     },
     "execution_count": 25,
     "metadata": {},
     "output_type": "execute_result"
    }
   ],
   "source": [
    "minSubsetSumDiff([1, 6, 11, 5])"
   ]
  },
  {
   "cell_type": "code",
   "execution_count": null,
   "metadata": {},
   "outputs": [],
   "source": []
  },
  {
   "cell_type": "code",
   "execution_count": null,
   "metadata": {},
   "outputs": [],
   "source": []
  },
  {
   "cell_type": "code",
   "execution_count": 11,
   "metadata": {},
   "outputs": [],
   "source": [
    "def subsetSum(nums,sum1,n):\n",
    "    if sum1==0:\n",
    "        return True\n",
    "    if n==0:\n",
    "        return False\n",
    "    \n",
    "    if nums[n-1]<=sum1:\n",
    "        return subsetSum(nums,sum1-nums[n-1],n-1) or subsetSum(nums,sum1,n-1)\n",
    "    else:\n",
    "        return subsetSum(nums,sum1,n-1)"
   ]
  },
  {
   "cell_type": "code",
   "execution_count": 14,
   "metadata": {},
   "outputs": [
    {
     "data": {
      "text/plain": [
       "True"
      ]
     },
     "execution_count": 14,
     "metadata": {},
     "output_type": "execute_result"
    }
   ],
   "source": [
    "nums=[2,3,5,9,10]\n",
    "sum1=20\n",
    "subsetSum(nums,sum1,len(nums))"
   ]
  },
  {
   "cell_type": "code",
   "execution_count": 15,
   "metadata": {},
   "outputs": [],
   "source": [
    "def isEqualSumPart(nums):\n",
    "    if sum(nums)%2==1:\n",
    "        return False\n",
    "    \n",
    "    return subsetSum(nums,sum(nums)//2,len(nums))"
   ]
  },
  {
   "cell_type": "code",
   "execution_count": 16,
   "metadata": {},
   "outputs": [
    {
     "name": "stdout",
     "output_type": "stream",
     "text": [
      "True\n",
      "False\n"
     ]
    }
   ],
   "source": [
    "print(isEqualSumPart([12,3,4,5]))\n",
    "print(isEqualSumPart([12,3,4,15]))"
   ]
  },
  {
   "cell_type": "code",
   "execution_count": null,
   "metadata": {},
   "outputs": [],
   "source": []
  },
  {
   "cell_type": "code",
   "execution_count": null,
   "metadata": {},
   "outputs": [],
   "source": []
  },
  {
   "cell_type": "code",
   "execution_count": null,
   "metadata": {},
   "outputs": [],
   "source": []
  },
  {
   "cell_type": "code",
   "execution_count": 17,
   "metadata": {},
   "outputs": [],
   "source": [
    "def countSubSet(nums,sum1,n):\n",
    "    if sum1==0: return 1\n",
    "    if n==0: return 0\n",
    "\n",
    "    if nums[n-1]<=sum1:\n",
    "        return countSubSet(nums,sum1-nums[n-1],n-1) + countSubSet(nums,sum1,n-1)\n",
    "    else:\n",
    "        return countSubSet(nums,sum1,n-1)"
   ]
  },
  {
   "cell_type": "code",
   "execution_count": 18,
   "metadata": {},
   "outputs": [
    {
     "data": {
      "text/plain": [
       "3"
      ]
     },
     "execution_count": 18,
     "metadata": {},
     "output_type": "execute_result"
    }
   ],
   "source": [
    "a=[2,3,5,8,10]\n",
    "sum1=10\n",
    "countSubSet(a,sum1,len(a))"
   ]
  },
  {
   "cell_type": "code",
   "execution_count": null,
   "metadata": {},
   "outputs": [],
   "source": []
  },
  {
   "cell_type": "code",
   "execution_count": 4,
   "metadata": {},
   "outputs": [],
   "source": [
    "def knapsack_dp(weights,profits,maxW,n):\n",
    "    table=[[-1 for _ in range(n+1)] for _ in range(maxW+1)]\n",
    "    def knapsack(weights,profits,maxW,n):\n",
    "        if table[maxW][n]!=-1: return table[maxW][n]\n",
    "        if maxW==0 or n==0:\n",
    "            return 0\n",
    "        \n",
    "        if weights[n-1]<=maxW:\n",
    "            table[maxW][n]= max(profits[n-1]+knapsack(weights,profits,maxW-weights[n-1],n-1),knapsack(weights,profits,maxW,n-1))\n",
    "            return table[maxW][n]\n",
    "        else:\n",
    "            table[maxW][n]= knapsack(weights,profits,maxW,n-1)\n",
    "            return table[maxW][n]\n",
    "    return knapsack(weights,profits,maxW,n)"
   ]
  },
  {
   "cell_type": "code",
   "execution_count": 9,
   "metadata": {},
   "outputs": [
    {
     "name": "stdout",
     "output_type": "stream",
     "text": [
      "436\n"
     ]
    }
   ],
   "source": [
    "weight=[10,20,30,12,42]\n",
    "profits=[60, 100,120,122,134]\n",
    "maxWeight=100\n",
    "print(knapsack(weight,profits,maxWeight,len(weight)))"
   ]
  },
  {
   "cell_type": "code",
   "execution_count": 10,
   "metadata": {},
   "outputs": [
    {
     "data": {
      "text/plain": [
       "436"
      ]
     },
     "execution_count": 10,
     "metadata": {},
     "output_type": "execute_result"
    }
   ],
   "source": [
    "knapsack_dp(weight,profits,maxWeight,len(weight))"
   ]
  },
  {
   "cell_type": "code",
   "execution_count": null,
   "metadata": {},
   "outputs": [],
   "source": []
  }
 ],
 "metadata": {
  "kernelspec": {
   "display_name": "Python 3.9.7 ('base')",
   "language": "python",
   "name": "python3"
  },
  "language_info": {
   "codemirror_mode": {
    "name": "ipython",
    "version": 3
   },
   "file_extension": ".py",
   "mimetype": "text/x-python",
   "name": "python",
   "nbconvert_exporter": "python",
   "pygments_lexer": "ipython3",
   "version": "3.9.7"
  },
  "orig_nbformat": 4,
  "vscode": {
   "interpreter": {
    "hash": "649e9a488baa9f755be1bd774174f13c00c6eb61d6f5988e2904ab6e22ac3fc0"
   }
  }
 },
 "nbformat": 4,
 "nbformat_minor": 2
}
