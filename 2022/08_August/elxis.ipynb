{
 "cells": [
  {
   "cell_type": "code",
   "execution_count": 2,
   "metadata": {},
   "outputs": [],
   "source": [
    "s=bin(10)"
   ]
  },
  {
   "cell_type": "code",
   "execution_count": 7,
   "metadata": {},
   "outputs": [
    {
     "data": {
      "text/plain": [
       "'1010'"
      ]
     },
     "execution_count": 7,
     "metadata": {},
     "output_type": "execute_result"
    }
   ],
   "source": [
    "s[2:]"
   ]
  },
  {
   "cell_type": "code",
   "execution_count": 9,
   "metadata": {},
   "outputs": [
    {
     "name": "stdout",
     "output_type": "stream",
     "text": [
      "0b110011\n",
      "0b110100\n",
      "0b110101\n",
      "0b110110\n",
      "0b110111\n"
     ]
    }
   ],
   "source": [
    "for i in range(51,56):\n",
    "    print(bin(i))"
   ]
  },
  {
   "cell_type": "code",
   "execution_count": 11,
   "metadata": {},
   "outputs": [
    {
     "data": {
      "text/plain": [
       "27"
      ]
     },
     "execution_count": 11,
     "metadata": {},
     "output_type": "execute_result"
    }
   ],
   "source": [
    "eval('0b11011')"
   ]
  },
  {
   "cell_type": "code",
   "execution_count": 65,
   "metadata": {},
   "outputs": [],
   "source": [
    "def evenLen(str1):\n",
    "    str2=''\n",
    "    c1,c2=0,0\n",
    "    for i in str1:\n",
    "        if i=='1':\n",
    "            if c2>3 and c2%2==0:\n",
    "                str2+='0'\n",
    "            else:\n",
    "                str2+='0'*c2\n",
    "            c1+=1\n",
    "            c2=0\n",
    "        else:\n",
    "            if c1>3 and c1%2==0:\n",
    "                str2+='1'\n",
    "            else:\n",
    "                str2+='1'*c1\n",
    "            c2+=1\n",
    "            c1=0\n",
    "    if c2>3 and c2%2==0:\n",
    "        str2+='0'\n",
    "    else:\n",
    "        str2+='0'*c2\n",
    "    if c1>3 and c1%2==0:\n",
    "        str2+='1'\n",
    "    else:\n",
    "        str2+='1'*c1\n",
    "    return str2\n",
    "        "
   ]
  },
  {
   "cell_type": "code",
   "execution_count": 68,
   "metadata": {},
   "outputs": [
    {
     "data": {
      "text/plain": [
       "'0101000'"
      ]
     },
     "execution_count": 68,
     "metadata": {},
     "output_type": "execute_result"
    }
   ],
   "source": [
    "evenLen('0101111000')"
   ]
  },
  {
   "cell_type": "code",
   "execution_count": 54,
   "metadata": {},
   "outputs": [],
   "source": [
    "def oddLen(str1):\n",
    "    str2=''\n",
    "    c1,c2=0,0\n",
    "    for i in str1:\n",
    "        if i=='1':\n",
    "            if c2>2 and c2%2==1:\n",
    "                str2+='00'\n",
    "            else:\n",
    "                str2+='0'*c2\n",
    "            c1+=1\n",
    "            c2=0\n",
    "        else:\n",
    "            if c1>2 and c1%2==1:\n",
    "                str2+='11'\n",
    "            else:\n",
    "                str2+='1'*c1\n",
    "            c2+=1\n",
    "            c1=0\n",
    "\n",
    "    if c2>2 and c2%2==1:\n",
    "        str2+='00'\n",
    "    else:\n",
    "        str2+='0'*c2\n",
    "    if c1>2 and c1%2==1:\n",
    "        str2+='11'\n",
    "    else:\n",
    "        str2+='1'*c1\n",
    "\n",
    "    return str2\n",
    "        "
   ]
  },
  {
   "cell_type": "code",
   "execution_count": 69,
   "metadata": {},
   "outputs": [
    {
     "data": {
      "text/plain": [
       "'010110000'"
      ]
     },
     "execution_count": 69,
     "metadata": {},
     "output_type": "execute_result"
    }
   ],
   "source": [
    "oddLen('010111110000')"
   ]
  },
  {
   "cell_type": "code",
   "execution_count": 1,
   "metadata": {},
   "outputs": [],
   "source": [
    "def rem(str1):\n",
    "    str2=''\n",
    "    c1,c2=0,0\n",
    "    for i in str1:\n",
    "        if i=='1':\n",
    "            if c2%2==0:\n",
    "                if c2>3:\n",
    "                    str2+='0'\n",
    "                else:\n",
    "                    str2+='0'*c2\n",
    "            else:\n",
    "                if c2>2:\n",
    "                    str2+='00'\n",
    "                else:\n",
    "                    str2+='0'*c2\n",
    "\n",
    "            c1+=1\n",
    "            c2=0\n",
    "        else:\n",
    "            if c1%2==0:\n",
    "                if c1>3:\n",
    "                    str2+='1'\n",
    "                else:\n",
    "                    str2+='1'*c1\n",
    "            else:\n",
    "                if c1>2:\n",
    "                    str2+='11'\n",
    "                else:\n",
    "                    str2+='1'*c1\n",
    "            c2+=1\n",
    "            c1=0\n",
    "    if c2%2==0:\n",
    "        if c2>3:\n",
    "            str2+='0'\n",
    "        else:\n",
    "            str2+='0'*c2\n",
    "    else:\n",
    "        if c2>2:\n",
    "            str2+='00'\n",
    "        else:\n",
    "            str2+='0'*c2\n",
    "            \n",
    "    if c1%2==0:\n",
    "        if c1>3:\n",
    "            str2+='1'\n",
    "        else:\n",
    "            str2+='1'*c1\n",
    "    else:\n",
    "        if c1>2:\n",
    "            str2+='11'\n",
    "        else:\n",
    "            str2+='1'*c1\n",
    "    return str2\n",
    "        "
   ]
  },
  {
   "cell_type": "code",
   "execution_count": 2,
   "metadata": {},
   "outputs": [],
   "source": [
    "def decimalInt(m,n):\n",
    "    for i in range(m+1,n):\n",
    "        str1=bin(i)[2:]\n",
    "        str1='0b'+rem(str1)\n",
    "        print(eval(str1))"
   ]
  },
  {
   "cell_type": "code",
   "execution_count": 3,
   "metadata": {},
   "outputs": [
    {
     "name": "stdout",
     "output_type": "stream",
     "text": [
      "51\n",
      "52\n",
      "53\n",
      "54\n",
      "27\n"
     ]
    }
   ],
   "source": [
    "decimalInt(50,56)"
   ]
  },
  {
   "cell_type": "code",
   "execution_count": null,
   "metadata": {},
   "outputs": [],
   "source": []
  }
 ],
 "metadata": {
  "kernelspec": {
   "display_name": "Python 3.9.7 ('base')",
   "language": "python",
   "name": "python3"
  },
  "language_info": {
   "codemirror_mode": {
    "name": "ipython",
    "version": 3
   },
   "file_extension": ".py",
   "mimetype": "text/x-python",
   "name": "python",
   "nbconvert_exporter": "python",
   "pygments_lexer": "ipython3",
   "version": "3.9.7"
  },
  "orig_nbformat": 4,
  "vscode": {
   "interpreter": {
    "hash": "649e9a488baa9f755be1bd774174f13c00c6eb61d6f5988e2904ab6e22ac3fc0"
   }
  }
 },
 "nbformat": 4,
 "nbformat_minor": 2
}
