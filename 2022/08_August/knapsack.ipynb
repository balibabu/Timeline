{
 "cells": [
  {
   "cell_type": "markdown",
   "metadata": {},
   "source": [
    "# <font face='comic sans ms' color ='PaleTurquoise'>0-1 Knapsack Problem</font>"
   ]
  },
  {
   "cell_type": "markdown",
   "metadata": {},
   "source": [
    "### <font face='comic sans ms' color ='yellow'>Using Recursion Approach</font>"
   ]
  },
  {
   "cell_type": "markdown",
   "metadata": {},
   "source": [
    "#### <font face='comic sans ms' color ='blue'>without dynamic</font>"
   ]
  },
  {
   "cell_type": "code",
   "execution_count": 1,
   "metadata": {},
   "outputs": [],
   "source": [
    "def knapsack(weight:list,value:list,W:int,n:int)->int:\n",
    "    if n==0 or W==0:    # base condition: minimum valid input\n",
    "        return 0\n",
    "\n",
    "    if weight[n-1]<=W:\n",
    "        return max(value[n-1]+knapsack(weight,value,W-weight[n-1],n-1),knapsack(weight,value,W,n-1))\n",
    "    else:\n",
    "        return knapsack(weight,value,W,n-1)\n",
    "    "
   ]
  },
  {
   "cell_type": "markdown",
   "metadata": {},
   "source": [
    "##### <font face='comic sans ms' color ='blue'>question 1</font>"
   ]
  },
  {
   "cell_type": "code",
   "execution_count": 3,
   "metadata": {},
   "outputs": [
    {
     "name": "stdout",
     "output_type": "stream",
     "text": [
      "220\n"
     ]
    }
   ],
   "source": [
    "weight=[10,20,30]\n",
    "profits=[60, 100,120]\n",
    "maxWeight=50\n",
    "print(knapsack(weight,profits,maxWeight,len(weight)))"
   ]
  },
  {
   "cell_type": "markdown",
   "metadata": {},
   "source": [
    "##### <font face='comic sans ms' color ='blue'>question 2</font>"
   ]
  },
  {
   "cell_type": "code",
   "execution_count": 97,
   "metadata": {},
   "outputs": [
    {
     "name": "stdout",
     "output_type": "stream",
     "text": [
      "7\n",
      "no. of iterations 44\n"
     ]
    }
   ],
   "source": [
    "c=0\n",
    "weight=[7,9,5,12,14,6,12]\n",
    "profits=[3,4,2,6,7,3,5]\n",
    "maxWeight=15\n",
    "print(knapsack(weight,profits,maxWeight,len(weight)))\n",
    "print('no. of iterations',c)"
   ]
  },
  {
   "cell_type": "code",
   "execution_count": null,
   "metadata": {},
   "outputs": [],
   "source": []
  },
  {
   "cell_type": "markdown",
   "metadata": {},
   "source": [
    "#### <font face='comic sans ms' color ='blue'>with dynamic</font>"
   ]
  },
  {
   "cell_type": "markdown",
   "metadata": {},
   "source": [
    "##### <font face='comic sans ms' color ='yellow'>using array</font>"
   ]
  },
  {
   "cell_type": "code",
   "execution_count": null,
   "metadata": {},
   "outputs": [],
   "source": [
    "\n",
    "def knapsack(weight:list,value:list,W:int,n:int)->int:\n",
    "    global array\n",
    "    if n==0 or W==0:    # base condition: minimum valid input\n",
    "        return 0\n",
    "\n",
    "    if array[W][n]!=-1:\n",
    "        return array[W][n]\n",
    "\n",
    "    if weight[n-1]<=W:\n",
    "        array[W][n]=max(value[n-1]+knapsack(weight,value,W-weight[n-1],n-1),knapsack(weight,value,W,n-1))\n",
    "        return array[W][n]\n",
    "    else:\n",
    "        array[W][n]=knapsack(weight,value,W,n-1)\n",
    "        return array[W][n]\n",
    "    "
   ]
  },
  {
   "cell_type": "markdown",
   "metadata": {},
   "source": [
    "##### <font face='comic sans ms' color ='blue'>question 1</font>"
   ]
  },
  {
   "cell_type": "code",
   "execution_count": 39,
   "metadata": {},
   "outputs": [
    {
     "data": {
      "text/plain": [
       "6"
      ]
     },
     "execution_count": 39,
     "metadata": {},
     "output_type": "execute_result"
    }
   ],
   "source": [
    "weight=[3, 4, 6, 5]\n",
    "profits=[2, 3, 1, 4]\n",
    "maxWeight=8\n",
    "array=[[-1 for _ in range(len(weight)+1)] for _ in range(maxWeight+1)]\n",
    "knapsack(weight,profits,maxWeight,len(weight))"
   ]
  },
  {
   "cell_type": "markdown",
   "metadata": {},
   "source": [
    "##### <font face='comic sans ms' color ='blue'>question 2</font>"
   ]
  },
  {
   "cell_type": "code",
   "execution_count": 41,
   "metadata": {},
   "outputs": [
    {
     "data": {
      "text/plain": [
       "220"
      ]
     },
     "execution_count": 41,
     "metadata": {},
     "output_type": "execute_result"
    }
   ],
   "source": [
    "weight=[10,20,30]\n",
    "profits=[60, 100,120]\n",
    "maxWeight=50\n",
    "array=[[-1 for _ in range(len(weight)+1)] for _ in range(maxWeight+1)]\n",
    "knapsack(weight,profits,maxWeight,len(weight))"
   ]
  },
  {
   "cell_type": "code",
   "execution_count": 43,
   "metadata": {},
   "outputs": [],
   "source": [
    "# array"
   ]
  },
  {
   "cell_type": "code",
   "execution_count": null,
   "metadata": {},
   "outputs": [],
   "source": []
  },
  {
   "cell_type": "code",
   "execution_count": null,
   "metadata": {},
   "outputs": [],
   "source": []
  },
  {
   "cell_type": "code",
   "execution_count": null,
   "metadata": {},
   "outputs": [],
   "source": []
  },
  {
   "cell_type": "markdown",
   "metadata": {},
   "source": [
    "##### <font face='comic sans ms' color ='blue'>using dictionary</font>"
   ]
  },
  {
   "cell_type": "code",
   "execution_count": 98,
   "metadata": {},
   "outputs": [],
   "source": [
    "\n",
    "def knapsack(weight:list,value:list,W:int,n:int)->int:\n",
    "    global hashmap,c\n",
    "    c+=1\n",
    "    if n==0 or W==0:    # base condition: minimum valid input\n",
    "        return 0\n",
    "\n",
    "    if (W,n) in hashmap:\n",
    "        return hashmap[(W,n)]\n",
    "\n",
    "    if weight[n-1]<=W:\n",
    "        hashmap[(W,n)]=max(value[n-1]+knapsack(weight,value,W-weight[n-1],n-1),knapsack(weight,value,W,n-1))\n",
    "        return hashmap[(W,n)]\n",
    "    else:\n",
    "        hashmap[(W,n)]=knapsack(weight,value,W,n-1)\n",
    "        return hashmap[(W,n)]\n",
    "    "
   ]
  },
  {
   "cell_type": "markdown",
   "metadata": {},
   "source": [
    "###### <font face='comic sans ms' color ='yellow'>question 1</font>"
   ]
  },
  {
   "cell_type": "code",
   "execution_count": 94,
   "metadata": {},
   "outputs": [
    {
     "name": "stdout",
     "output_type": "stream",
     "text": [
      "220\n",
      "no. of iterations 13\n"
     ]
    }
   ],
   "source": [
    "c=0\n",
    "weight=[10,20,30]\n",
    "profits=[60, 100,120]\n",
    "maxWeight=50\n",
    "hashmap={}\n",
    "print(knapsack(weight,profits,maxWeight,len(weight)))\n",
    "print('no. of iterations',c)"
   ]
  },
  {
   "cell_type": "markdown",
   "metadata": {},
   "source": [
    "###### <font face='comic sans ms' color ='yellow'>question 2</font>"
   ]
  },
  {
   "cell_type": "code",
   "execution_count": 99,
   "metadata": {},
   "outputs": [
    {
     "name": "stdout",
     "output_type": "stream",
     "text": [
      "7\n",
      "no. of iterations 40\n"
     ]
    }
   ],
   "source": [
    "weight=[7,9,5,12,14,6,12]\n",
    "profits=[3,4,2,6,7,3,5]\n",
    "maxWeight=15\n",
    "c=0\n",
    "hashmap={}\n",
    "print(knapsack(weight,profits,maxWeight,len(weight)))\n",
    "print('no. of iterations',c)"
   ]
  },
  {
   "cell_type": "markdown",
   "metadata": {},
   "source": [
    "### <font face='comic sans ms' color ='yellow'>Using Top Down Approach</font>"
   ]
  },
  {
   "cell_type": "code",
   "execution_count": 26,
   "metadata": {},
   "outputs": [
    {
     "name": "stdout",
     "output_type": "stream",
     "text": [
      "7\n"
     ]
    }
   ],
   "source": [
    "weight=[7,9,5,12,14,6,12]\n",
    "profits=[3,4,2,6,7,3,5]\n",
    "maxWeight=15\n",
    "\n",
    "n=len(weight)\n",
    "array=[[None for _ in range(maxWeight+1)] for _ in weight+[1]] \n",
    "for i in range(len(weight)+1):\n",
    "    for j in range(maxWeight+1):\n",
    "        if i==0 or j==0: array[i][j]=0 # we are filling with zero for base condition\n",
    "\n",
    "\n",
    "for i in range(1,len(weight)+1): # n : no of items          (rows)\n",
    "    for j in range(1,maxWeight+1): # W : maximum weight     (columns)\n",
    "        if weight[i-1]<=j:\n",
    "            array[i][j]=max(profits[i-1]+array[i-1][j-weight[i-1]],array[i-1][j])\n",
    "        else:\n",
    "            array[i][j]=array[i-1][j]\n",
    "\n",
    "print(array[-1][-1])"
   ]
  },
  {
   "cell_type": "markdown",
   "metadata": {},
   "source": [
    "# <font face='comic sans ms' color ='PaleTurquoise'>Subset Sum Type - 1</font>"
   ]
  },
  {
   "cell_type": "markdown",
   "metadata": {},
   "source": [
    "### <font face='comic sans ms' color ='yellow'>Using Recursion Approach</font>"
   ]
  },
  {
   "cell_type": "markdown",
   "metadata": {},
   "source": [
    "##### <font face='comic sans ms' color ='yellow'>is sum possible</font>"
   ]
  },
  {
   "cell_type": "code",
   "execution_count": 107,
   "metadata": {},
   "outputs": [],
   "source": [
    "def subsetSum(array,sum1,n):\n",
    "    if sum1==0:             # base condition\n",
    "        return True\n",
    "    elif n==0:\n",
    "        return False\n",
    "    \n",
    "    if sum1>=array[n-1]:\n",
    "        return subsetSum(array,sum1-array[n-1],n-1) or subsetSum(array,sum1,n-1)\n",
    "    else:\n",
    "        return subsetSum(array,sum1,n-1)"
   ]
  },
  {
   "cell_type": "code",
   "execution_count": 108,
   "metadata": {},
   "outputs": [
    {
     "data": {
      "text/plain": [
       "True"
      ]
     },
     "execution_count": 108,
     "metadata": {},
     "output_type": "execute_result"
    }
   ],
   "source": [
    "nums=[2,3,5,9,10]\n",
    "sum1=11\n",
    "subsetSum(nums,sum1,len(nums))"
   ]
  },
  {
   "cell_type": "markdown",
   "metadata": {},
   "source": [
    "### <font face='comic sans ms' color ='yellow'>Using Top Down Approach</font>"
   ]
  },
  {
   "cell_type": "markdown",
   "metadata": {},
   "source": [
    "##### <font face='comic sans ms' color ='yellow'>is sum possible</font>"
   ]
  },
  {
   "cell_type": "code",
   "execution_count": 6,
   "metadata": {},
   "outputs": [
    {
     "data": {
      "text/plain": [
       "True"
      ]
     },
     "execution_count": 6,
     "metadata": {},
     "output_type": "execute_result"
    }
   ],
   "source": [
    "def subsetSumTD(nums,sum1):\n",
    "    array=[[False for _ in range(sum1+1)] for _ in range(len(nums)+1)]\n",
    "    for i in range(len(nums)+1):\n",
    "        array[i][0]=True\n",
    "\n",
    "    for i in range(1,len(nums)+1): # n : row -->  i\n",
    "        for j in range(1,sum1+1): # sums : col -> j\n",
    "            if nums[i-1]<=j:\n",
    "                array[i][j]=array[i-1][j-nums[i-1]] or array[i-1][j]\n",
    "            else:\n",
    "                array[i][j]=array[i-1][j]\n",
    "    return array[-1][-1]\n",
    "\n",
    "nums=[2,3,5,9,10]\n",
    "sum1=11\n",
    "subsetSumTD(nums,sum1)"
   ]
  },
  {
   "cell_type": "code",
   "execution_count": null,
   "metadata": {},
   "outputs": [],
   "source": []
  },
  {
   "cell_type": "markdown",
   "metadata": {},
   "source": [
    "# <font face='comic sans ms' color ='PaleTurquoise'>Equal Sum Partition Type - 2 </font>"
   ]
  },
  {
   "cell_type": "code",
   "execution_count": 112,
   "metadata": {},
   "outputs": [
    {
     "name": "stdout",
     "output_type": "stream",
     "text": [
      "True\n",
      "False\n"
     ]
    }
   ],
   "source": [
    "def isEqualSumPart(array):\n",
    "    sum1=sum(array)\n",
    "    if sum1%2!=0:\n",
    "        return False\n",
    "    \n",
    "    return subsetSum(array,sum1/2,len(array))\n",
    "\n",
    "print(isEqualSumPart([12,3,4,5]))\n",
    "print(isEqualSumPart([12,3,4,15]))"
   ]
  },
  {
   "cell_type": "markdown",
   "metadata": {},
   "source": [
    "# <font face='comic sans ms' color ='PaleTurquoise'>Count no. of Subset Sum Type - 3</font>"
   ]
  },
  {
   "cell_type": "code",
   "execution_count": 15,
   "metadata": {},
   "outputs": [],
   "source": [
    "# without dynamic programming approach\n",
    "def countSubset(array,sum1,n):\n",
    "    if sum1==0:\n",
    "        return 1\n",
    "    elif n==0:\n",
    "        return 0\n",
    "    if array[n-1]<=sum1:\n",
    "        return countSubset(array,sum1-array[n-1],n-1) + countSubset(array,sum1,n-1)\n",
    "    else:\n",
    "        return countSubset(array,sum1,n-1)"
   ]
  },
  {
   "cell_type": "markdown",
   "metadata": {},
   "source": [
    "### <font face='comic sans ms' color ='yellow'>Using recursion approach</font>"
   ]
  },
  {
   "cell_type": "code",
   "execution_count": 24,
   "metadata": {},
   "outputs": [],
   "source": [
    "def countSubSet(array,sum1,n):\n",
    "    table=[[-1 for _ in range(sum1+1)]for _ in a+[1]]\n",
    "    def countSubset(array,sum1,n):\n",
    "        global table\n",
    "        if sum1==0:\n",
    "            return 1\n",
    "        elif n==0:\n",
    "            return 0\n",
    "        if table[n][sum1]!=-1:\n",
    "            return table[n][sum1]\n",
    "        if array[n-1]<=sum1:\n",
    "            table[n][sum1]= countSubset(array,sum1-array[n-1],n-1) + countSubset(array,sum1,n-1)\n",
    "            return table[n][sum1]\n",
    "        else:\n",
    "            table[n][sum1]= countSubset(array,sum1,n-1)\n",
    "            return table[n][sum1]\n",
    "    return countSubset(array,sum1,n)"
   ]
  },
  {
   "cell_type": "code",
   "execution_count": 26,
   "metadata": {},
   "outputs": [
    {
     "data": {
      "text/plain": [
       "3"
      ]
     },
     "execution_count": 26,
     "metadata": {},
     "output_type": "execute_result"
    }
   ],
   "source": [
    "a=[2,3,5,8,10]\n",
    "sum1=10\n",
    "countSubSet(a,sum1,len(a))"
   ]
  },
  {
   "cell_type": "markdown",
   "metadata": {},
   "source": [
    "### <font face='comic sans ms' color ='yellow'>Using top down approach</font>"
   ]
  },
  {
   "cell_type": "code",
   "execution_count": 1,
   "metadata": {},
   "outputs": [],
   "source": [
    "def countSubsetTD(array,sum1):\n",
    "    table=[[0 for _ in range(sum1+1)] for _ in range(len(array)+1)]\n",
    "    \n",
    "    # base condition\n",
    "    for i in range(len(table)):\n",
    "        table[i][0]=1\n",
    "    \n",
    "    for i in range(1,len(table)): # i-> no. of items, n\n",
    "        for j in range(1,len(table[0])): # j-> max wt, W\n",
    "            if array[i-1]<=j:\n",
    "                table[i][j]=table[i-1][j-array[i-1]]+table[i-1][j]\n",
    "            else:\n",
    "                table[i][j]=table[i-1][j]\n",
    "    return table[-1][-1]"
   ]
  },
  {
   "cell_type": "code",
   "execution_count": 2,
   "metadata": {},
   "outputs": [
    {
     "data": {
      "text/plain": [
       "3"
      ]
     },
     "execution_count": 2,
     "metadata": {},
     "output_type": "execute_result"
    }
   ],
   "source": [
    "a=[2,3,5,8,10]\n",
    "sum1=10\n",
    "countSubsetTD(a,sum1)"
   ]
  },
  {
   "cell_type": "markdown",
   "metadata": {},
   "source": [
    "# <font face='comic sans ms' color ='PaleTurquoise'>Minimum Subset Sum Difference Type - 4</font>"
   ]
  },
  {
   "cell_type": "code",
   "execution_count": null,
   "metadata": {},
   "outputs": [],
   "source": [
    "# Given a set of integers, the task is to divide it into two sets S1 and S2 such that the \n",
    "# absolute difference between their sums is minimum."
   ]
  },
  {
   "cell_type": "code",
   "execution_count": 11,
   "metadata": {},
   "outputs": [],
   "source": [
    "def subsetSumTDHelp(nums,sum1):  # this is same as subset sum top down approach\n",
    "    table=[[False for _ in range(sum1+1)] for _ in nums+[1]]\n",
    "    for i in range(len(nums)+1):\n",
    "        table[i][0]=True   # base condition\n",
    "    \n",
    "    for i in range(1,len(nums)+1):\n",
    "        for j in range(1,sum1+1):\n",
    "            if nums[i-1]<=j:\n",
    "                table[i][j]=table[i-1][j-nums[i-1]] or table[i-1][j]\n",
    "            else:\n",
    "                table[i][j]=table[i-1][j]\n",
    "    return table    # we need table for our actual problem"
   ]
  },
  {
   "cell_type": "code",
   "execution_count": 37,
   "metadata": {},
   "outputs": [],
   "source": [
    "def minSubsetSumDiff(nums):\n",
    "    mrange=sum(nums)\n",
    "    table=subsetSumTDHelp(nums,mrange) # last row gives all possible subset sum\n",
    "    halfSubsetsSum=[]\n",
    "    for i in range(round(len(table[-1])//2)):\n",
    "        if table[-1][i]:\n",
    "            halfSubsetsSum.append(i)\n",
    "    print(halfSubsetsSum)\n",
    "    return mrange-2*halfSubsetsSum[-1]"
   ]
  },
  {
   "cell_type": "code",
   "execution_count": 38,
   "metadata": {},
   "outputs": [
    {
     "name": "stdout",
     "output_type": "stream",
     "text": [
      "[0, 1, 5, 6, 7, 11]\n"
     ]
    },
    {
     "data": {
      "text/plain": [
       "1"
      ]
     },
     "execution_count": 38,
     "metadata": {},
     "output_type": "execute_result"
    }
   ],
   "source": [
    "minSubsetSumDiff([1, 6, 11, 5])"
   ]
  },
  {
   "cell_type": "markdown",
   "metadata": {},
   "source": [
    "# <font face='comic sans ms' color ='PaleTurquoise'>Count no of subset with given diff Type - 5</font>"
   ]
  },
  {
   "cell_type": "code",
   "execution_count": 29,
   "metadata": {},
   "outputs": [],
   "source": [
    "def nofSubset(array,diff):\n",
    "    # s1-s2=diff\n",
    "    # s1+s2=sum(array)\n",
    "    # 2*s1 =diff+sum(array)\n",
    "    sum1=(diff+sum(array))//2\n",
    "    return countSubSet(array,sum1,len(array))"
   ]
  },
  {
   "cell_type": "code",
   "execution_count": 30,
   "metadata": {},
   "outputs": [
    {
     "data": {
      "text/plain": [
       "3"
      ]
     },
     "execution_count": 30,
     "metadata": {},
     "output_type": "execute_result"
    }
   ],
   "source": [
    "arr=[1,1,2,3]\n",
    "nofSubset(arr,1)"
   ]
  },
  {
   "cell_type": "code",
   "execution_count": null,
   "metadata": {},
   "outputs": [],
   "source": []
  },
  {
   "cell_type": "markdown",
   "metadata": {},
   "source": [
    "# <font face='comic sans ms' color ='PaleTurquoise'>Target sum Type - 6</font>"
   ]
  },
  {
   "cell_type": "markdown",
   "metadata": {},
   "source": [
    "##### <font face='comic sans ms' color ='yellow'>Target sum proble is same as count no of subset with give diff</font>"
   ]
  },
  {
   "cell_type": "markdown",
   "metadata": {},
   "source": [
    "for eg:\n",
    "[1,1,2,3]\n",
    "[1,2]-[1,3] -> [1,-1,2,-3]"
   ]
  },
  {
   "cell_type": "code",
   "execution_count": 14,
   "metadata": {},
   "outputs": [
    {
     "data": {
      "text/plain": [
       "6462"
      ]
     },
     "execution_count": 14,
     "metadata": {},
     "output_type": "execute_result"
    }
   ],
   "source": [
    "arr=[7,7,17,1,46,38,8,32,35,18,43,48,9,17,6,6,42,10,2,32]\n",
    "sum1=38\n",
    "nofSubset(arr,sum1)"
   ]
  },
  {
   "cell_type": "code",
   "execution_count": null,
   "metadata": {},
   "outputs": [],
   "source": []
  },
  {
   "cell_type": "code",
   "execution_count": null,
   "metadata": {},
   "outputs": [],
   "source": []
  },
  {
   "cell_type": "code",
   "execution_count": 2,
   "metadata": {},
   "outputs": [],
   "source": [
    "# this one is mine technique which has very high time complexity\n",
    "def fun(arr,n,sum1):\n",
    "    if n==0:\n",
    "        if sum(arr)==sum1:\n",
    "            return 1\n",
    "        else:\n",
    "            return 0\n",
    "    \n",
    "    a=fun(arr,n-1,sum1)\n",
    "    arr[n-1]=-arr[n-1]\n",
    "    a+=fun(arr,n-1,sum1)\n",
    "    arr[n-1]=-arr[n-1]\n",
    "    return a"
   ]
  },
  {
   "cell_type": "code",
   "execution_count": 5,
   "metadata": {},
   "outputs": [],
   "source": [
    "arr=[1,1,2,3]\n",
    "sum1=1"
   ]
  },
  {
   "cell_type": "code",
   "execution_count": 6,
   "metadata": {},
   "outputs": [],
   "source": [
    "arr=[1,1,1,1,1]\n",
    "sum1=3"
   ]
  },
  {
   "cell_type": "code",
   "execution_count": 7,
   "metadata": {},
   "outputs": [],
   "source": [
    "arr=[7,7,17,1,46,38,8,32,35,18,43,48,9,17,6,6,42,10,2,32]\n",
    "sum1=38"
   ]
  },
  {
   "cell_type": "code",
   "execution_count": 8,
   "metadata": {},
   "outputs": [
    {
     "data": {
      "text/plain": [
       "6462"
      ]
     },
     "execution_count": 8,
     "metadata": {},
     "output_type": "execute_result"
    }
   ],
   "source": [
    "fun(arr,len(arr),sum1)"
   ]
  },
  {
   "cell_type": "code",
   "execution_count": null,
   "metadata": {},
   "outputs": [],
   "source": []
  }
 ],
 "metadata": {
  "kernelspec": {
   "display_name": "Python 3.9.7 ('base')",
   "language": "python",
   "name": "python3"
  },
  "language_info": {
   "codemirror_mode": {
    "name": "ipython",
    "version": 3
   },
   "file_extension": ".py",
   "mimetype": "text/x-python",
   "name": "python",
   "nbconvert_exporter": "python",
   "pygments_lexer": "ipython3",
   "version": "3.9.7"
  },
  "orig_nbformat": 4,
  "vscode": {
   "interpreter": {
    "hash": "649e9a488baa9f755be1bd774174f13c00c6eb61d6f5988e2904ab6e22ac3fc0"
   }
  }
 },
 "nbformat": 4,
 "nbformat_minor": 2
}
