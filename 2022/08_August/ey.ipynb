{
 "cells": [
  {
   "cell_type": "code",
   "execution_count": 1,
   "metadata": {},
   "outputs": [],
   "source": [
    "def NthPentonacci(N):\n",
    "    table={}\n",
    "    def P(n):\n",
    "        if n in table: return table[n]\n",
    "        if 0<=n<5:return n\n",
    "        if n<0: return 0\n",
    "        table[n]=P(n-1)+P(n-2)+P(N-3)+P(N-4)+P(n-5)\n",
    "        return table[n]\n",
    "    return P(N)\n",
    "        "
   ]
  },
  {
   "cell_type": "code",
   "execution_count": 1,
   "metadata": {},
   "outputs": [],
   "source": [
    "\n",
    "def get(n):\n",
    "    table=[0,1,2,3,4]\n",
    "    if n<0: return 0\n",
    "    if n<5: return table[n]\n",
    "\n",
    "    for i in range(5,n+1):\n",
    "        table.append(table[i-1]+table[i-2]+table[i-3]+table[i-4]+table[i-5])\n",
    "\n",
    "    return table[-1]"
   ]
  },
  {
   "cell_type": "code",
   "execution_count": 5,
   "metadata": {},
   "outputs": [
    {
     "data": {
      "text/plain": [
       "294"
      ]
     },
     "execution_count": 5,
     "metadata": {},
     "output_type": "execute_result"
    }
   ],
   "source": [
    "get(10)"
   ]
  },
  {
   "cell_type": "code",
   "execution_count": null,
   "metadata": {},
   "outputs": [],
   "source": [
    "def getP(list1):\n",
    "    for i in list1:\n",
    "        for j in list1:\n",
    "            "
   ]
  }
 ],
 "metadata": {
  "kernelspec": {
   "display_name": "Python 3.9.7 ('base')",
   "language": "python",
   "name": "python3"
  },
  "language_info": {
   "codemirror_mode": {
    "name": "ipython",
    "version": 3
   },
   "file_extension": ".py",
   "mimetype": "text/x-python",
   "name": "python",
   "nbconvert_exporter": "python",
   "pygments_lexer": "ipython3",
   "version": "3.9.7"
  },
  "orig_nbformat": 4,
  "vscode": {
   "interpreter": {
    "hash": "649e9a488baa9f755be1bd774174f13c00c6eb61d6f5988e2904ab6e22ac3fc0"
   }
  }
 },
 "nbformat": 4,
 "nbformat_minor": 2
}
