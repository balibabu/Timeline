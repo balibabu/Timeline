{
 "cells": [
  {
   "cell_type": "code",
   "execution_count": null,
   "metadata": {},
   "outputs": [],
   "source": []
  },
  {
   "cell_type": "code",
   "execution_count": null,
   "metadata": {},
   "outputs": [],
   "source": [
    "def fun(s):\n",
    "    p1,p2,p3=0,0,0\n",
    "    s2=''\n",
    "    for i in range(len(s)):\n",
    "        if not (s[i] in s2):\n",
    "            s2+=s[i]\n",
    "            p1+=1\n",
    "        elif(p2==0):\n",
    "            p2=i"
   ]
  },
  {
   "cell_type": "code",
   "execution_count": 12,
   "metadata": {},
   "outputs": [],
   "source": [
    "s='xabbcacpqr'"
   ]
  },
  {
   "cell_type": "code",
   "execution_count": 9,
   "metadata": {},
   "outputs": [
    {
     "data": {
      "text/plain": [
       "4"
      ]
     },
     "execution_count": 9,
     "metadata": {},
     "output_type": "execute_result"
    }
   ],
   "source": [
    "s.find('c')"
   ]
  },
  {
   "cell_type": "code",
   "execution_count": 11,
   "metadata": {},
   "outputs": [
    {
     "data": {
      "text/plain": [
       "1"
      ]
     },
     "execution_count": 11,
     "metadata": {},
     "output_type": "execute_result"
    }
   ],
   "source": [
    "s[5:].find('c')"
   ]
  },
  {
   "cell_type": "code",
   "execution_count": 22,
   "metadata": {},
   "outputs": [
    {
     "name": "stdout",
     "output_type": "stream",
     "text": [
      "4\n"
     ]
    }
   ],
   "source": [
    "p=0\n",
    "c=1\n",
    "temp=s[p:].find('c')\n",
    "print(temp)\n",
    "while(temp>0):\n",
    "    c+=temp\n",
    "    temp=s[c:].find('c')+1"
   ]
  },
  {
   "cell_type": "code",
   "execution_count": 23,
   "metadata": {},
   "outputs": [
    {
     "name": "stdout",
     "output_type": "stream",
     "text": [
      "7\n"
     ]
    }
   ],
   "source": [
    "print(c)"
   ]
  },
  {
   "cell_type": "code",
   "execution_count": 25,
   "metadata": {},
   "outputs": [
    {
     "data": {
      "text/plain": [
       "'aabcd'"
      ]
     },
     "execution_count": 25,
     "metadata": {},
     "output_type": "execute_result"
    }
   ],
   "source": [
    "min(['aabdc','aabcd'])"
   ]
  },
  {
   "cell_type": "code",
   "execution_count": 37,
   "metadata": {},
   "outputs": [],
   "source": [
    "def isLex(str1,str2):\n",
    "    if str1==str2:\n",
    "        return True\n",
    "    if len(str1)!=len(str2):\n",
    "        return False\n",
    "    for i in str1:\n",
    "        if str1.count(i)!=str2.count(i):\n",
    "            return False\n",
    "    return True"
   ]
  },
  {
   "cell_type": "code",
   "execution_count": 56,
   "metadata": {},
   "outputs": [],
   "source": [
    "def countSentences(wordSet,sent):\n",
    "    dic={}  \n",
    "    for i in wordSet:\n",
    "        c=0\n",
    "        for j in wordSet:\n",
    "            if isLex(i,j):\n",
    "                c+=1\n",
    "        dic[i]=c\n",
    "    \n",
    "    num=[]\n",
    "    for i in sent:\n",
    "        strA=i.split()\n",
    "        count=1\n",
    "        for j in strA:\n",
    "            count*=dic[j]\n",
    "        num.append(count)\n",
    "    return num\n"
   ]
  },
  {
   "cell_type": "code",
   "execution_count": 57,
   "metadata": {},
   "outputs": [
    {
     "data": {
      "text/plain": [
       "[4, 2, 4]"
      ]
     },
     "execution_count": 57,
     "metadata": {},
     "output_type": "execute_result"
    }
   ],
   "source": [
    "wordSet=['the','bats','tabs','in','cat','act']\n",
    "sent=['cat the bats','in the act','act tabs in']\n",
    "countSentences(wordSet,sent)"
   ]
  },
  {
   "cell_type": "code",
   "execution_count": 51,
   "metadata": {},
   "outputs": [],
   "source": [
    "for i in wordSet:\n",
    "    c=0\n",
    "    for j in wordSet:\n",
    "        if isLex(i,j):\n",
    "            c+=1\n",
    "    dic[i]=c\n",
    "\n"
   ]
  },
  {
   "cell_type": "code",
   "execution_count": 52,
   "metadata": {},
   "outputs": [
    {
     "data": {
      "text/plain": [
       "{'abc': 2, 'vds': 1, 'bac': 2}"
      ]
     },
     "execution_count": 52,
     "metadata": {},
     "output_type": "execute_result"
    }
   ],
   "source": [
    "dic"
   ]
  },
  {
   "cell_type": "code",
   "execution_count": null,
   "metadata": {},
   "outputs": [],
   "source": []
  },
  {
   "cell_type": "code",
   "execution_count": 62,
   "metadata": {},
   "outputs": [],
   "source": [
    "def distinct(arr):\n",
    "    c=0\n",
    "    for i in range(1,len(arr)+1):\n",
    "        c+=len(set(arr[:i]))\n",
    "    return c"
   ]
  },
  {
   "cell_type": "code",
   "execution_count": 63,
   "metadata": {},
   "outputs": [
    {
     "data": {
      "text/plain": [
       "9"
      ]
     },
     "execution_count": 63,
     "metadata": {},
     "output_type": "execute_result"
    }
   ],
   "source": [
    "distinct([2,2,1,1,3])"
   ]
  },
  {
   "cell_type": "code",
   "execution_count": null,
   "metadata": {},
   "outputs": [],
   "source": []
  },
  {
   "cell_type": "code",
   "execution_count": null,
   "metadata": {},
   "outputs": [],
   "source": []
  },
  {
   "cell_type": "code",
   "execution_count": null,
   "metadata": {},
   "outputs": [],
   "source": []
  },
  {
   "cell_type": "code",
   "execution_count": null,
   "metadata": {},
   "outputs": [],
   "source": []
  }
 ],
 "metadata": {
  "kernelspec": {
   "display_name": "Python 3.9.7 ('base')",
   "language": "python",
   "name": "python3"
  },
  "language_info": {
   "codemirror_mode": {
    "name": "ipython",
    "version": 3
   },
   "file_extension": ".py",
   "mimetype": "text/x-python",
   "name": "python",
   "nbconvert_exporter": "python",
   "pygments_lexer": "ipython3",
   "version": "3.9.7"
  },
  "orig_nbformat": 4,
  "vscode": {
   "interpreter": {
    "hash": "649e9a488baa9f755be1bd774174f13c00c6eb61d6f5988e2904ab6e22ac3fc0"
   }
  }
 },
 "nbformat": 4,
 "nbformat_minor": 2
}
