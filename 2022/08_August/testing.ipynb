{
 "cells": [
  {
   "cell_type": "code",
   "execution_count": null,
   "metadata": {},
   "outputs": [],
   "source": [
    "import re"
   ]
  },
  {
   "cell_type": "code",
   "execution_count": null,
   "metadata": {},
   "outputs": [],
   "source": [
    "x=re.search('key','content key is bali',re.IGNORECASE)"
   ]
  },
  {
   "cell_type": "code",
   "execution_count": null,
   "metadata": {},
   "outputs": [],
   "source": [
    "x==None"
   ]
  },
  {
   "cell_type": "code",
   "execution_count": null,
   "metadata": {},
   "outputs": [],
   "source": [
    "if re.search('key','content is bali',re.IGNORECASE):\n",
    "    print('yes')"
   ]
  },
  {
   "cell_type": "code",
   "execution_count": null,
   "metadata": {},
   "outputs": [],
   "source": [
    "def readIpynb(filename):  #reading jupyter notebook file\n",
    "    import codecs\n",
    "    import json\n",
    "    f = codecs.open(filename, 'r')\n",
    "    source = f.read()\n",
    "    y = json.loads(source)\n",
    "    pySource = '##Python .py code from .jpynb:\\n'\n",
    "    for x in y['cells']:\n",
    "        for x2 in x['source']:\n",
    "            pySource = pySource + x2\n",
    "            if x2[-1] != '\\n':\n",
    "                pySource = pySource + '\\n'\n",
    "    print(pySource)"
   ]
  },
  {
   "cell_type": "code",
   "execution_count": null,
   "metadata": {},
   "outputs": [],
   "source": [
    "# import codecs\n",
    "# import json\n",
    "\n",
    "# f = codecs.open(\"ey.ipynb\", 'r')\n",
    "# source = f.read()\n",
    "\n",
    "# y = json.loads(source)\n",
    "# pySource = '##Python .py code from .jpynb:\\n'\n",
    "# for x in y['cells']:\n",
    "#      for x2 in x['source']:\n",
    "#          pySource = pySource + x2\n",
    "#          if x2[-1] != '\\n':\n",
    "#             pySource = pySource + '\\n'\n",
    "\n",
    "# print(pySource)"
   ]
  },
  {
   "cell_type": "code",
   "execution_count": null,
   "metadata": {},
   "outputs": [],
   "source": [
    "readIpynb('subsets.ipynb')"
   ]
  },
  {
   "cell_type": "code",
   "execution_count": null,
   "metadata": {},
   "outputs": [],
   "source": [
    " import codecs\n",
    " f=codecs.open(\"ey.ipynb\", 'r')\n",
    " print(f.read())"
   ]
  },
  {
   "cell_type": "code",
   "execution_count": null,
   "metadata": {},
   "outputs": [],
   "source": [
    "'ipynb'[-5:]"
   ]
  },
  {
   "cell_type": "code",
   "execution_count": null,
   "metadata": {},
   "outputs": [],
   "source": []
  }
 ],
 "metadata": {
  "kernelspec": {
   "display_name": "Python 3.9.7 ('base')",
   "language": "python",
   "name": "python3"
  },
  "language_info": {
   "codemirror_mode": {
    "name": "ipython",
    "version": 3
   },
   "file_extension": ".py",
   "mimetype": "text/x-python",
   "name": "python",
   "nbconvert_exporter": "python",
   "pygments_lexer": "ipython3",
   "version": "3.9.7"
  },
  "orig_nbformat": 4,
  "vscode": {
   "interpreter": {
    "hash": "649e9a488baa9f755be1bd774174f13c00c6eb61d6f5988e2904ab6e22ac3fc0"
   }
  }
 },
 "nbformat": 4,
 "nbformat_minor": 2
}
