{
 "cells": [
  {
   "cell_type": "code",
   "execution_count": null,
   "metadata": {},
   "outputs": [],
   "source": []
  },
  {
   "cell_type": "code",
   "execution_count": 2,
   "metadata": {},
   "outputs": [
    {
     "name": "stdout",
     "output_type": "stream",
     "text": [
      "you have 5 seconds goto whatsapp in full screen mode\n"
     ]
    }
   ],
   "source": [
    "# from pyexpat.errors import messages\n",
    "import pyautogui as pg\n",
    "import time\n",
    "class WhatsAppSpammer:\n",
    "    def __init__(self):\n",
    "        '''Full screen defaults'''\n",
    "        self.message='hello'\n",
    "        self.times=5\n",
    "        self.pos=(750,1041)\n",
    "    def setMessage(self,message):\n",
    "        self.message=message\n",
    "    def setTimes(self,times):\n",
    "        self.times=times\n",
    "    def execute(self):\n",
    "        print('you have 5 seconds goto whatsapp in full screen mode')\n",
    "        time.sleep(5)\n",
    "        pg.click(self.pos,duration=1,clicks=2)\n",
    "        time.sleep(2)\n",
    "        pg.click(self.pos)\n",
    "        for i in range(self.times):\n",
    "            pg.write(message)\n",
    "            pg.press('enter')\n",
    "        \n",
    "\n",
    "message=input('enter message: ')\n",
    "times=(input('enter no of times :'))\n",
    "obj=WhatsAppSpammer()\n",
    "if message:\n",
    "    obj.setMessage(message)\n",
    "if times:\n",
    "    obj.setTimes(int(times))\n",
    "obj.execute()"
   ]
  },
  {
   "cell_type": "markdown",
   "metadata": {},
   "source": []
  },
  {
   "cell_type": "code",
   "execution_count": 8,
   "metadata": {},
   "outputs": [],
   "source": [
    "import pyautogui as pg\n",
    "import time\n",
    "pg.PAUSE=0.1\n",
    "def spam(message,times):\n",
    "    print('you have 5 seconds goto whatsapp and place your cursor in chat box')\n",
    "    time.sleep(5)\n",
    "    for i in range(times):\n",
    "        pg.write(str(i)+message)\n",
    "        pg.press('enter')\n",
    "    "
   ]
  },
  {
   "cell_type": "code",
   "execution_count": 9,
   "metadata": {},
   "outputs": [
    {
     "name": "stdout",
     "output_type": "stream",
     "text": [
      "you have 5 seconds goto whatsapp and place your cursor in chat box\n"
     ]
    }
   ],
   "source": [
    "spam(\"hi bali\",5)"
   ]
  },
  {
   "cell_type": "code",
   "execution_count": null,
   "metadata": {},
   "outputs": [],
   "source": []
  }
 ],
 "metadata": {
  "kernelspec": {
   "display_name": "Python 3.9.7 ('base')",
   "language": "python",
   "name": "python3"
  },
  "language_info": {
   "codemirror_mode": {
    "name": "ipython",
    "version": 3
   },
   "file_extension": ".py",
   "mimetype": "text/x-python",
   "name": "python",
   "nbconvert_exporter": "python",
   "pygments_lexer": "ipython3",
   "version": "3.9.7"
  },
  "orig_nbformat": 4,
  "vscode": {
   "interpreter": {
    "hash": "649e9a488baa9f755be1bd774174f13c00c6eb61d6f5988e2904ab6e22ac3fc0"
   }
  }
 },
 "nbformat": 4,
 "nbformat_minor": 2
}
