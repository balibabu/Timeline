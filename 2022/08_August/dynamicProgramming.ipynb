{
 "cells": [
  {
   "cell_type": "markdown",
   "metadata": {},
   "source": [
    "# <font face='comic sans ms' color ='PaleTurquoise'>0-1 Knapsack Problem    Type - 1</font>"
   ]
  },
  {
   "cell_type": "markdown",
   "metadata": {},
   "source": [
    "### <font face='comic sans ms' color ='yellow'>Using Recursion Approach</font>"
   ]
  },
  {
   "cell_type": "markdown",
   "metadata": {},
   "source": [
    "#### <font face='comic sans ms' color ='blue'>without dynamic</font>"
   ]
  },
  {
   "cell_type": "code",
   "execution_count": 96,
   "metadata": {},
   "outputs": [],
   "source": [
    "\n",
    "def knapsack(weight:list,value:list,W:int,n:int)->int:\n",
    "    global c\n",
    "    c+=1\n",
    "    if n==0 or W==0:    # base condition: minimum valid input\n",
    "        return 0\n",
    "\n",
    "    if weight[n-1]<=W:\n",
    "        return max(value[n-1]+knapsack(weight,value,W-weight[n-1],n-1),knapsack(weight,value,W,n-1))\n",
    "    else:\n",
    "        return knapsack(weight,value,W,n-1)\n",
    "    "
   ]
  },
  {
   "cell_type": "markdown",
   "metadata": {},
   "source": [
    "##### <font face='comic sans ms' color ='blue'>question 1</font>"
   ]
  },
  {
   "cell_type": "code",
   "execution_count": 80,
   "metadata": {},
   "outputs": [
    {
     "name": "stdout",
     "output_type": "stream",
     "text": [
      "220\n",
      "no. of iterations 13\n"
     ]
    }
   ],
   "source": [
    "c=0\n",
    "weight=[10,20,30]\n",
    "profits=[60, 100,120]\n",
    "maxWeight=50\n",
    "print(knapsack(weight,profits,maxWeight,len(weight)))\n",
    "print('no. of iterations',c)"
   ]
  },
  {
   "cell_type": "markdown",
   "metadata": {},
   "source": [
    "##### <font face='comic sans ms' color ='blue'>question 2</font>"
   ]
  },
  {
   "cell_type": "code",
   "execution_count": 97,
   "metadata": {},
   "outputs": [
    {
     "name": "stdout",
     "output_type": "stream",
     "text": [
      "7\n",
      "no. of iterations 44\n"
     ]
    }
   ],
   "source": [
    "c=0\n",
    "weight=[7,9,5,12,14,6,12]\n",
    "profits=[3,4,2,6,7,3,5]\n",
    "maxWeight=15\n",
    "print(knapsack(weight,profits,maxWeight,len(weight)))\n",
    "print('no. of iterations',c)"
   ]
  },
  {
   "cell_type": "code",
   "execution_count": null,
   "metadata": {},
   "outputs": [],
   "source": []
  },
  {
   "cell_type": "markdown",
   "metadata": {},
   "source": [
    "#### <font face='comic sans ms' color ='blue'>with dynamic</font>"
   ]
  },
  {
   "cell_type": "markdown",
   "metadata": {},
   "source": [
    "##### <font face='comic sans ms' color ='yellow'>using array</font>"
   ]
  },
  {
   "cell_type": "code",
   "execution_count": null,
   "metadata": {},
   "outputs": [],
   "source": [
    "\n",
    "def knapsack(weight:list,value:list,W:int,n:int)->int:\n",
    "    global array\n",
    "    if n==0 or W==0:    # base condition: minimum valid input\n",
    "        return 0\n",
    "\n",
    "    if array[W][n]!=-1:\n",
    "        return array[W][n]\n",
    "\n",
    "    if weight[n-1]<=W:\n",
    "        array[W][n]=max(value[n-1]+knapsack(weight,value,W-weight[n-1],n-1),knapsack(weight,value,W,n-1))\n",
    "        return array[W][n]\n",
    "    else:\n",
    "        array[W][n]=knapsack(weight,value,W,n-1)\n",
    "        return array[W][n]\n",
    "    "
   ]
  },
  {
   "cell_type": "markdown",
   "metadata": {},
   "source": [
    "##### <font face='comic sans ms' color ='blue'>question 1</font>"
   ]
  },
  {
   "cell_type": "code",
   "execution_count": 39,
   "metadata": {},
   "outputs": [
    {
     "data": {
      "text/plain": [
       "6"
      ]
     },
     "execution_count": 39,
     "metadata": {},
     "output_type": "execute_result"
    }
   ],
   "source": [
    "weight=[3, 4, 6, 5]\n",
    "profits=[2, 3, 1, 4]\n",
    "maxWeight=8\n",
    "array=[[-1 for _ in range(len(weight)+1)] for _ in range(maxWeight+1)]\n",
    "knapsack(weight,profits,maxWeight,len(weight))"
   ]
  },
  {
   "cell_type": "markdown",
   "metadata": {},
   "source": [
    "##### <font face='comic sans ms' color ='blue'>question 2</font>"
   ]
  },
  {
   "cell_type": "code",
   "execution_count": 41,
   "metadata": {},
   "outputs": [
    {
     "data": {
      "text/plain": [
       "220"
      ]
     },
     "execution_count": 41,
     "metadata": {},
     "output_type": "execute_result"
    }
   ],
   "source": [
    "weight=[10,20,30]\n",
    "profits=[60, 100,120]\n",
    "maxWeight=50\n",
    "array=[[-1 for _ in range(len(weight)+1)] for _ in range(maxWeight+1)]\n",
    "knapsack(weight,profits,maxWeight,len(weight))"
   ]
  },
  {
   "cell_type": "code",
   "execution_count": 43,
   "metadata": {},
   "outputs": [],
   "source": [
    "# array"
   ]
  },
  {
   "cell_type": "code",
   "execution_count": null,
   "metadata": {},
   "outputs": [],
   "source": []
  },
  {
   "cell_type": "code",
   "execution_count": null,
   "metadata": {},
   "outputs": [],
   "source": []
  },
  {
   "cell_type": "code",
   "execution_count": null,
   "metadata": {},
   "outputs": [],
   "source": []
  },
  {
   "cell_type": "markdown",
   "metadata": {},
   "source": [
    "##### <font face='comic sans ms' color ='blue'>using dictionary</font>"
   ]
  },
  {
   "cell_type": "code",
   "execution_count": 98,
   "metadata": {},
   "outputs": [],
   "source": [
    "\n",
    "def knapsack(weight:list,value:list,W:int,n:int)->int:\n",
    "    global hashmap,c\n",
    "    c+=1\n",
    "    if n==0 or W==0:    # base condition: minimum valid input\n",
    "        return 0\n",
    "\n",
    "    if (W,n) in hashmap:\n",
    "        return hashmap[(W,n)]\n",
    "\n",
    "    if weight[n-1]<=W:\n",
    "        hashmap[(W,n)]=max(value[n-1]+knapsack(weight,value,W-weight[n-1],n-1),knapsack(weight,value,W,n-1))\n",
    "        return hashmap[(W,n)]\n",
    "    else:\n",
    "        hashmap[(W,n)]=knapsack(weight,value,W,n-1)\n",
    "        return hashmap[(W,n)]\n",
    "    "
   ]
  },
  {
   "cell_type": "markdown",
   "metadata": {},
   "source": [
    "###### <font face='comic sans ms' color ='yellow'>question 1</font>"
   ]
  },
  {
   "cell_type": "code",
   "execution_count": 94,
   "metadata": {},
   "outputs": [
    {
     "name": "stdout",
     "output_type": "stream",
     "text": [
      "220\n",
      "no. of iterations 13\n"
     ]
    }
   ],
   "source": [
    "c=0\n",
    "weight=[10,20,30]\n",
    "profits=[60, 100,120]\n",
    "maxWeight=50\n",
    "hashmap={}\n",
    "print(knapsack(weight,profits,maxWeight,len(weight)))\n",
    "print('no. of iterations',c)"
   ]
  },
  {
   "cell_type": "markdown",
   "metadata": {},
   "source": [
    "###### <font face='comic sans ms' color ='yellow'>question 2</font>"
   ]
  },
  {
   "cell_type": "code",
   "execution_count": 99,
   "metadata": {},
   "outputs": [
    {
     "name": "stdout",
     "output_type": "stream",
     "text": [
      "7\n",
      "no. of iterations 40\n"
     ]
    }
   ],
   "source": [
    "weight=[7,9,5,12,14,6,12]\n",
    "profits=[3,4,2,6,7,3,5]\n",
    "maxWeight=15\n",
    "c=0\n",
    "hashmap={}\n",
    "print(knapsack(weight,profits,maxWeight,len(weight)))\n",
    "print('no. of iterations',c)"
   ]
  },
  {
   "cell_type": "markdown",
   "metadata": {},
   "source": [
    "### <font face='comic sans ms' color ='yellow'>Using Top Down Approach</font>"
   ]
  },
  {
   "cell_type": "code",
   "execution_count": 26,
   "metadata": {},
   "outputs": [
    {
     "name": "stdout",
     "output_type": "stream",
     "text": [
      "7\n"
     ]
    }
   ],
   "source": [
    "weight=[7,9,5,12,14,6,12]\n",
    "profits=[3,4,2,6,7,3,5]\n",
    "maxWeight=15\n",
    "\n",
    "n=len(weight)\n",
    "array=[[None for _ in range(maxWeight+1)] for _ in weight+[1]] \n",
    "for i in range(len(weight)+1):\n",
    "    for j in range(maxWeight+1):\n",
    "        if i==0 or j==0: array[i][j]=0 # we are filling with zero for base condition\n",
    "\n",
    "\n",
    "for i in range(1,len(weight)+1): # n : no of items          (rows)\n",
    "    for j in range(1,maxWeight+1): # W : maximum weight     (columns)\n",
    "        if weight[i-1]<=j:\n",
    "            array[i][j]=max(profits[i-1]+array[i-1][j-weight[i-1]],array[i-1][j])\n",
    "        else:\n",
    "            array[i][j]=array[i-1][j]\n",
    "\n",
    "print(array[-1][-1])"
   ]
  },
  {
   "cell_type": "markdown",
   "metadata": {},
   "source": [
    "# <font face='comic sans ms' color ='PaleTurquoise'>Subset Sum Type - 2</font>"
   ]
  },
  {
   "cell_type": "markdown",
   "metadata": {},
   "source": [
    "### <font face='comic sans ms' color ='yellow'>Using Recursion Approach</font>"
   ]
  },
  {
   "cell_type": "markdown",
   "metadata": {},
   "source": [
    "##### <font face='comic sans ms' color ='yellow'>is sum possible</font>"
   ]
  },
  {
   "cell_type": "code",
   "execution_count": 107,
   "metadata": {},
   "outputs": [],
   "source": [
    "def subsetSum(array,sum1,n):\n",
    "    if sum1==0:             # base condition\n",
    "        return True\n",
    "    elif n==0:\n",
    "        return False\n",
    "    \n",
    "    if sum1>=array[n-1]:\n",
    "        return subsetSum(array,sum1-array[n-1],n-1) or subsetSum(array,sum1,n-1)\n",
    "    else:\n",
    "        return subsetSum(array,sum1,n-1)"
   ]
  },
  {
   "cell_type": "code",
   "execution_count": 108,
   "metadata": {},
   "outputs": [
    {
     "data": {
      "text/plain": [
       "True"
      ]
     },
     "execution_count": 108,
     "metadata": {},
     "output_type": "execute_result"
    }
   ],
   "source": [
    "nums=[2,3,5,9,10]\n",
    "sum1=11\n",
    "subsetSum(nums,sum1,len(nums))"
   ]
  },
  {
   "cell_type": "markdown",
   "metadata": {},
   "source": [
    "### <font face='comic sans ms' color ='yellow'>Using Top Down Approach</font>"
   ]
  },
  {
   "cell_type": "markdown",
   "metadata": {},
   "source": [
    "##### <font face='comic sans ms' color ='yellow'>is sum possible</font>"
   ]
  },
  {
   "cell_type": "code",
   "execution_count": 104,
   "metadata": {},
   "outputs": [
    {
     "name": "stdout",
     "output_type": "stream",
     "text": [
      "True\n"
     ]
    }
   ],
   "source": [
    "nums=[2,3,5,9,10]\n",
    "sum1=11\n",
    "array=[[False for _ in range(sum1+1)] for _ in range(len(nums)+1)]\n",
    "for i in range(len(nums)+1):\n",
    "    array[i][0]=True\n",
    "\n",
    "for i in range(1,len(nums)+1): # n : row -->  i\n",
    "    for j in range(1,sum1+1): # sums : col -> j\n",
    "        if nums[i-1]<=j:\n",
    "            array[i][j]=array[i-1][j-nums[i-1]] or array[i-1][j]\n",
    "        else:\n",
    "            array[i][j]=array[i-1][j]\n",
    "print(array[-1][-1])\n"
   ]
  },
  {
   "cell_type": "code",
   "execution_count": null,
   "metadata": {},
   "outputs": [],
   "source": []
  },
  {
   "cell_type": "markdown",
   "metadata": {},
   "source": [
    "# <font face='comic sans ms' color ='PaleTurquoise'>Equal Sum Partition Type -3 </font>"
   ]
  },
  {
   "cell_type": "code",
   "execution_count": 112,
   "metadata": {},
   "outputs": [
    {
     "name": "stdout",
     "output_type": "stream",
     "text": [
      "True\n",
      "False\n"
     ]
    }
   ],
   "source": [
    "def isEqualSumPart(array):\n",
    "    sum1=sum(array)\n",
    "    if sum1%2!=0:\n",
    "        return False\n",
    "    \n",
    "    return subsetSum(array,sum1/2,len(array))\n",
    "\n",
    "print(isEqualSumPart([12,3,4,5]))\n",
    "print(isEqualSumPart([12,3,4,15]))"
   ]
  },
  {
   "cell_type": "markdown",
   "metadata": {},
   "source": [
    "# <font face='comic sans ms' color ='blue'>Testing</font>"
   ]
  },
  {
   "cell_type": "code",
   "execution_count": 57,
   "metadata": {},
   "outputs": [],
   "source": [
    "def fibonaci1(n):\n",
    "    if n==0 or n==1:\n",
    "        return n\n",
    "    return fibonaci1(n-2)+fibonaci1(n-1)"
   ]
  },
  {
   "cell_type": "code",
   "execution_count": 58,
   "metadata": {},
   "outputs": [
    {
     "data": {
      "text/plain": [
       "24157817"
      ]
     },
     "execution_count": 58,
     "metadata": {},
     "output_type": "execute_result"
    }
   ],
   "source": [
    "fibonaci1(37)"
   ]
  },
  {
   "cell_type": "code",
   "execution_count": null,
   "metadata": {},
   "outputs": [],
   "source": []
  },
  {
   "cell_type": "code",
   "execution_count": 59,
   "metadata": {},
   "outputs": [],
   "source": [
    "def fibonaci2(n):\n",
    "    global array\n",
    "    if n==0 or n==1:\n",
    "        return n\n",
    "    if array[n]!=-1:\n",
    "        return array[n]\n",
    "    \n",
    "    array[n]= fibonaci2(n-2)+fibonaci2(n-1)\n",
    "    return array[n]"
   ]
  },
  {
   "cell_type": "code",
   "execution_count": 61,
   "metadata": {},
   "outputs": [
    {
     "data": {
      "text/plain": [
       "24157817"
      ]
     },
     "execution_count": 61,
     "metadata": {},
     "output_type": "execute_result"
    }
   ],
   "source": [
    "n=37\n",
    "array=[-1 for _ in range(n+1)]\n",
    "fibonaci2(n)"
   ]
  },
  {
   "cell_type": "code",
   "execution_count": 113,
   "metadata": {},
   "outputs": [
    {
     "name": "stdout",
     "output_type": "stream",
     "text": [
      "True\n"
     ]
    }
   ],
   "source": [
    "def subsetSum2(nums,sum1):\n",
    "    array=[[False for _ in range(sum1+1)] for _ in range(len(nums)+1)]\n",
    "    for i in range(len(nums)+1):\n",
    "        array[i][0]=True\n",
    "\n",
    "    for i in range(1,len(nums)+1): # n : row -->  i\n",
    "        for j in range(1,sum1+1): # sums : col -> j\n",
    "            if nums[i-1]<=j:\n",
    "                array[i][j]=array[i-1][j-nums[i-1]] or array[i-1][j]\n",
    "            else:\n",
    "                array[i][j]=array[i-1][j]\n",
    "    print(array[-1][-1])\n",
    "\n",
    "def main():\n",
    "    nums=[2,3,5,9,10]\n",
    "    sum1=11\n",
    "    subsetSum2(nums,sum1)\n",
    "\n",
    "if __name__ == '__main__':\n",
    "    main()"
   ]
  },
  {
   "cell_type": "code",
   "execution_count": 115,
   "metadata": {},
   "outputs": [
    {
     "name": "stdout",
     "output_type": "stream",
     "text": [
      "True\n"
     ]
    }
   ],
   "source": [
    "def subsetSum1(array,sum1,n):\n",
    "    if sum1==0:             # base condition\n",
    "        return True\n",
    "    elif n==0:\n",
    "        return False\n",
    "    \n",
    "    if sum1>=array[n-1]:\n",
    "        return subsetSum(array,sum1-array[n-1],n-1) or subsetSum(array,sum1,n-1)\n",
    "    else:\n",
    "        return subsetSum(array,sum1,n-1)\n",
    "\n",
    "nums=[2,3,5,9,10]\n",
    "sum1=11\n",
    "print(subsetSum1(nums,sum1,len(nums)))"
   ]
  },
  {
   "cell_type": "code",
   "execution_count": 3,
   "metadata": {},
   "outputs": [],
   "source": [
    "# without using memoization\n",
    "def fibonaci1(n):\n",
    "    if n==0 or n==1:\n",
    "        return n\n",
    "    return fibonaci1(n-2)+fibonaci1(n-1)\n",
    "# print(fibonaci1(37))\n",
    "\n"
   ]
  },
  {
   "cell_type": "code",
   "execution_count": 9,
   "metadata": {},
   "outputs": [
    {
     "data": {
      "text/plain": [
       "39088169"
      ]
     },
     "execution_count": 9,
     "metadata": {},
     "output_type": "execute_result"
    }
   ],
   "source": [
    "fibonaci1(38)"
   ]
  },
  {
   "cell_type": "code",
   "execution_count": 10,
   "metadata": {},
   "outputs": [
    {
     "name": "stdout",
     "output_type": "stream",
     "text": [
      "39088169\n"
     ]
    }
   ],
   "source": [
    "\n",
    "# with memoization\n",
    "def fibonaci2(n):\n",
    "    global array\n",
    "    if n==0 or n==1:\n",
    "        return n\n",
    "    if array[n]!=-1:\n",
    "        return array[n]\n",
    "    \n",
    "    array[n]= fibonaci2(n-2)+fibonaci2(n-1)\n",
    "    return array[n]\n",
    "\n",
    "n=38\n",
    "array=[-1 for _ in range(n+1)]\n",
    "print(fibonaci2(n))"
   ]
  },
  {
   "cell_type": "code",
   "execution_count": null,
   "metadata": {},
   "outputs": [],
   "source": []
  }
 ],
 "metadata": {
  "kernelspec": {
   "display_name": "Python 3.9.7 ('base')",
   "language": "python",
   "name": "python3"
  },
  "language_info": {
   "codemirror_mode": {
    "name": "ipython",
    "version": 3
   },
   "file_extension": ".py",
   "mimetype": "text/x-python",
   "name": "python",
   "nbconvert_exporter": "python",
   "pygments_lexer": "ipython3",
   "version": "3.9.7"
  },
  "orig_nbformat": 4,
  "vscode": {
   "interpreter": {
    "hash": "649e9a488baa9f755be1bd774174f13c00c6eb61d6f5988e2904ab6e22ac3fc0"
   }
  }
 },
 "nbformat": 4,
 "nbformat_minor": 2
}
