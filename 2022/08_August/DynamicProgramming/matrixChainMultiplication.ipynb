{
 "cells": [
  {
   "cell_type": "markdown",
   "metadata": {},
   "source": [
    "# <font face='comic sans ms' color ='PaleTurquoise'>Introduction plus Format</font>"
   ]
  },
  {
   "cell_type": "code",
   "execution_count": 1,
   "metadata": {},
   "outputs": [],
   "source": [
    "def solve(array,i,j):\n",
    "    # base condition, this time we take minimum invalid input\n",
    "    if i>j:\n",
    "        return 0 #depends on question what we have to return\n",
    "    \n",
    "    # now we divide array into k parts\n",
    "    for k in range(i,j):\n",
    "        tempAns=solve(array,i,k)+solve(array,k+1,j) # here we get bunch of temporary ans, here + depends on que\n",
    "        ans=fun(tempAns)    # using all the temporary ans we find actual answer\n",
    "    return ans"
   ]
  },
  {
   "cell_type": "markdown",
   "metadata": {},
   "source": [
    "# <font face='comic sans ms' color ='PaleTurquoise'>Matrix Chain Multiplication</font>"
   ]
  },
  {
   "cell_type": "code",
   "execution_count": 1,
   "metadata": {},
   "outputs": [],
   "source": [
    "# arr=[2,3,4,5,6] : orders of matrices : like 2*3,3*4,..\n",
    "# order of mat1=arr[i-1]*arr[i] i.e. starting point of i is 1\n",
    "# order of last matrix=arr[j-1]*arr[j] so starting position of j is len(arr)-1"
   ]
  },
  {
   "cell_type": "code",
   "execution_count": 1,
   "metadata": {},
   "outputs": [],
   "source": [
    "# import sys\n",
    "def minCost(arr,i,j):\n",
    "    if i>=j:\n",
    "        return 0\n",
    "    minVal=sys.maxsize\n",
    "    for k in range(i,j):\n",
    "        tempVal=minCost(arr,i,k)+minCost(arr,k+1,j)+arr[i-1]*arr[k]*arr[j]\n",
    "        if tempVal<minVal:minVal=tempVal\n",
    "    return minVal"
   ]
  },
  {
   "cell_type": "code",
   "execution_count": 2,
   "metadata": {},
   "outputs": [
    {
     "data": {
      "text/plain": [
       "18"
      ]
     },
     "execution_count": 2,
     "metadata": {},
     "output_type": "execute_result"
    }
   ],
   "source": [
    "# arr=[40,20,30,10,30]\n",
    "arr = [1, 2, 3, 4]\n",
    "i,j=1,len(arr)-1\n",
    "minCost(arr,i,j)"
   ]
  },
  {
   "cell_type": "markdown",
   "metadata": {},
   "source": [
    "##### <font face='comic sans ms' color ='blue'>using memoization</font>"
   ]
  },
  {
   "cell_type": "code",
   "execution_count": 26,
   "metadata": {},
   "outputs": [],
   "source": [
    "import sys\n",
    "def mcm(arr):\n",
    "    i,j=1,len(arr)-1\n",
    "    table=[[-1 for _ in range(len(arr)+1)] for _ in range(len(arr)+1)]\n",
    "    def minCost(arr,i,j):\n",
    "        if i>=j:\n",
    "            return 0\n",
    "        if table[i][j]!=-1:\n",
    "            return table[i][j]\n",
    "        minVal=sys.maxsize\n",
    "        for k in range(i,j):\n",
    "            tempVal=minCost(arr,i,k)+minCost(arr,k+1,j)+arr[i-1]*arr[k]*arr[j]\n",
    "            if tempVal<minVal:minVal=tempVal\n",
    "        table[i][j]=minVal\n",
    "        return minVal\n",
    "    return minCost(arr,i,j)"
   ]
  },
  {
   "cell_type": "code",
   "execution_count": 27,
   "metadata": {},
   "outputs": [
    {
     "data": {
      "text/plain": [
       "18"
      ]
     },
     "execution_count": 27,
     "metadata": {},
     "output_type": "execute_result"
    }
   ],
   "source": [
    "mcm(arr)"
   ]
  },
  {
   "cell_type": "markdown",
   "metadata": {},
   "source": [
    "# <font face='comic sans ms' color ='PaleTurquoise'>Palindrome Partitioning</font>"
   ]
  },
  {
   "cell_type": "markdown",
   "metadata": {},
   "source": [
    "Given a string, a partitioning of the string is a palindrome partitioning if every substring of the partition is a palindrome. For example, “aba|b|bbabb|a|b|aba” is a palindrome partitioning of “ababbbabbababa”. Determine the fewest cuts needed for a palindrome partitioning of a given string. For example, minimum of 3 cuts are needed for “ababbbabbababa”. The three cuts are “a|babbbab|b|ababa”. If a string is a palindrome, then minimum 0 cuts are needed. If a string of length n containing all different characters, then minimum n-1 cuts are needed."
   ]
  },
  {
   "cell_type": "code",
   "execution_count": 4,
   "metadata": {},
   "outputs": [],
   "source": [
    "def isPalindrome(str1,i,j):\n",
    "    while i<j:\n",
    "        if str1[i]!=str1[j]:return False\n",
    "        i+=1\n",
    "        j-=1\n",
    "    return True"
   ]
  },
  {
   "cell_type": "code",
   "execution_count": 5,
   "metadata": {},
   "outputs": [],
   "source": [
    "import sys\n",
    "def minPart(str1,i,j):\n",
    "    minVal=sys.maxsize\n",
    "    if i>=j:\n",
    "        return 0\n",
    "    if isPalindrome(str1,i,j):\n",
    "        return 0\n",
    "    for k in range(i,j):\n",
    "        tempVal=minPart(str1,i,k)+minPart(str1,k+1,j)+1\n",
    "        if tempVal<minVal: minVal=tempVal\n",
    "    return minVal\n"
   ]
  },
  {
   "cell_type": "code",
   "execution_count": 6,
   "metadata": {},
   "outputs": [
    {
     "data": {
      "text/plain": [
       "3"
      ]
     },
     "execution_count": 6,
     "metadata": {},
     "output_type": "execute_result"
    }
   ],
   "source": [
    "str1=\"ababbbabbababa\"\n",
    "minPart(str1,0,len(str1)-1)"
   ]
  },
  {
   "cell_type": "code",
   "execution_count": 7,
   "metadata": {},
   "outputs": [
    {
     "data": {
      "text/plain": [
       "0"
      ]
     },
     "execution_count": 7,
     "metadata": {},
     "output_type": "execute_result"
    }
   ],
   "source": [
    "str1=\"nitin\"\n",
    "minPart(str1,0,len(str1)-1)"
   ]
  },
  {
   "cell_type": "code",
   "execution_count": null,
   "metadata": {},
   "outputs": [],
   "source": []
  },
  {
   "cell_type": "markdown",
   "metadata": {},
   "source": [
    "##### <font face='comic sans ms' color ='blue'>using memoization</font>"
   ]
  },
  {
   "cell_type": "code",
   "execution_count": 8,
   "metadata": {},
   "outputs": [],
   "source": [
    "def minPalinPart(str1):\n",
    "    import sys\n",
    "    i,j=0,len(str1)-1\n",
    "    table=[[-1 for _ in range(len(str1)+1)]for _ in range(len(str1)+1)]\n",
    "    def minPart(str1,i,j):\n",
    "        if table[i][j]!=-1: return table[i][j]\n",
    "        minVal=sys.maxsize\n",
    "        if i>=j:\n",
    "            return 0\n",
    "        if isPalindrome(str1,i,j):\n",
    "            return 0\n",
    "        for k in range(i,j):\n",
    "            tempVal=minPart(str1,i,k)+minPart(str1,k+1,j)+1\n",
    "            if tempVal<minVal: minVal=tempVal\n",
    "        table[i][j]=minVal\n",
    "        return minVal\n",
    "    return minPart(str1,i,j)"
   ]
  },
  {
   "cell_type": "code",
   "execution_count": 9,
   "metadata": {},
   "outputs": [
    {
     "data": {
      "text/plain": [
       "3"
      ]
     },
     "execution_count": 9,
     "metadata": {},
     "output_type": "execute_result"
    }
   ],
   "source": [
    "str1=\"ababbbabbababa\"\n",
    "minPalinPart(str1)"
   ]
  },
  {
   "cell_type": "markdown",
   "metadata": {},
   "source": [
    "# <font face='comic sans ms' color ='PaleTurquoise'>Evaluate Expression to True  Boolean Parenthesization</font>"
   ]
  },
  {
   "cell_type": "code",
   "execution_count": 12,
   "metadata": {},
   "outputs": [],
   "source": [
    "# expn='T&F|T' : how many ways we can make this true by putting brackets\n",
    "# eg: (T)&(F|T) -> T\n",
    "#     (T&F)|(T) -> T    so there are two ways to make the exp true\n",
    "\n",
    "# Tricks:\n",
    "# exp1 , exp2 , no. of way exp1 to be true is x1, false is y1 and similarly for exp2 is x2, y2\n",
    "#  then no. of ways to make expn true is x1*x2 for '&' operation (both T gives True else False)\n",
    "# and for 'or' operation no. of ways = x1*x2 + x1*y2 + y1*x2  (any 1 T gives True)\n",
    "# and for '^' operation no. of ways = x1*y2 + x2*y1 (T,F and F,T gives True)"
   ]
  },
  {
   "cell_type": "code",
   "execution_count": 152,
   "metadata": {},
   "outputs": [],
   "source": [
    "def evaluate(exp,i,j,isTrue):\n",
    "    if i>j: return 0\n",
    "    if i==j:\n",
    "        if exp[i]=='T': return int(isTrue==True)\n",
    "        else: return int(isTrue==False)\n",
    "    ans=0\n",
    "    for k in range(i+1,j,2):\n",
    "        lt=evaluate(exp,i,k-1,True)  # lt -> left true   x1\n",
    "        lf=evaluate(exp,i,k-1,False) # lf -> left false  y1\n",
    "        rt=evaluate(exp,k+1,j,True)  # rt -> right true  x2\n",
    "        rf=evaluate(exp,k+1,j,False) # rf -> right false y2\n",
    "        \n",
    "        if exp[k]=='&':\n",
    "            if isTrue: ans += lt*rt   # for true\n",
    "            else: ans += lt*rf + lf*rt + lf*rf # for false\n",
    "        elif exp[k]=='|':\n",
    "            if isTrue: ans += lt*rt + lf*rt + lt*rf \n",
    "            else: ans += lf*rf # for false in or both need to br false\n",
    "        elif exp[k]=='^':\n",
    "            if isTrue: ans += lt*rf + lf*rt # in xor opposite bool gives true\n",
    "            else: ans += lf*rf + lt*rt # same bool gives false\n",
    "    return ans \n",
    "\n"
   ]
  },
  {
   "cell_type": "code",
   "execution_count": 153,
   "metadata": {},
   "outputs": [
    {
     "data": {
      "text/plain": [
       "4"
      ]
     },
     "execution_count": 153,
     "metadata": {},
     "output_type": "execute_result"
    }
   ],
   "source": [
    "exp='T|T&F^T'\n",
    "evaluate(exp,0,len(exp)-1,True)"
   ]
  },
  {
   "cell_type": "markdown",
   "metadata": {},
   "source": [
    "##### <font face='comic sans ms' color ='blue'>using memoization or bottom up</font>"
   ]
  },
  {
   "cell_type": "code",
   "execution_count": 154,
   "metadata": {},
   "outputs": [],
   "source": [
    "def evaluateExpression(exp,isTrue):\n",
    "    i,j=0,len(exp)-1\n",
    "    table=[[[-1 for _ in range(2)] for _ in range(len(exp)+1)]  for _ in range(len(exp)+1)]\n",
    "\n",
    "    def evaluate(exp,i,j,isTrue):\n",
    "        if table[i][j][isTrue]!=-1: return table[i][j][isTrue]\n",
    "        if i>j: return 0\n",
    "        if i==j:\n",
    "            if exp[i]=='T': return int(isTrue==True)\n",
    "            else: return int(isTrue==False)\n",
    "        ans=0\n",
    "        for k in range(i+1,j,2):\n",
    "            lt=evaluate(exp,i,k-1,True)  # lt -> left true   x1\n",
    "            lf=evaluate(exp,i,k-1,False) # lf -> left false  y1\n",
    "            rt=evaluate(exp,k+1,j,True)  # rt -> right true  x2\n",
    "            rf=evaluate(exp,k+1,j,False) # rf -> right false y2\n",
    "            \n",
    "            if exp[k]=='&':\n",
    "                if isTrue: ans += lt*rt   # for true\n",
    "                else: ans += lt*rf + lf*rt + lf*rf # for false\n",
    "            elif exp[k]=='|':\n",
    "                if isTrue: ans += lt*rt + lf*rt + lt*rf \n",
    "                else: ans += lf*rf # for false in or both need to br false\n",
    "            else:\n",
    "                if isTrue: ans += lt*rf + lf*rt # in xor opposite bool gives true\n",
    "                else: ans += lf*rf + lt*rt # same bool gives false\n",
    "        table[i][j][isTrue]=ans\n",
    "        return ans \n",
    "    \n",
    "    return evaluate(exp,i,j,isTrue)\n",
    "\n"
   ]
  },
  {
   "cell_type": "code",
   "execution_count": 114,
   "metadata": {},
   "outputs": [
    {
     "data": {
      "text/plain": [
       "5"
      ]
     },
     "execution_count": 114,
     "metadata": {},
     "output_type": "execute_result"
    }
   ],
   "source": [
    "exp='T|F^F&T|F^F^F^T|T&T^T|F^T^F&F^T|T^F' # 638\n",
    "evaluateExpression(exp,True)"
   ]
  },
  {
   "cell_type": "markdown",
   "metadata": {},
   "source": [
    "# <font face='comic sans ms' color ='PaleTurquoise'>Scrambled Text</font>"
   ]
  },
  {
   "cell_type": "code",
   "execution_count": 168,
   "metadata": {},
   "outputs": [],
   "source": [
    "# ab cd , wx yz\n",
    "# two conditions to be compared\n",
    "# if ab is scrambled of wx and cd is scrambled of yz then return true\n",
    "# or ab is scrambled of yz and cd is scrambled of wx then return true"
   ]
  },
  {
   "cell_type": "code",
   "execution_count": 2,
   "metadata": {},
   "outputs": [],
   "source": [
    "hashtable={}\n",
    "def isScrambled(str1,str2):\n",
    "    global hashtable\n",
    "    if (str1+str2) in hashtable: return hashtable[str1+str2]\n",
    "    if len(str1)!=len(str2): return False\n",
    "    if str1==str2: return True\n",
    "\n",
    "    for i in range(1,len(str1)):\n",
    "        if (isScrambled(str1[0:i],str2[0:i]) and isScrambled(str1[i:],str2[i:])) or (isScrambled(str1[0:i],str2[i:]) and isScrambled(str1[i:],str2[:i])):\n",
    "            hashtable[str1+str2]=True\n",
    "            return True\n",
    "    hashtable[str1+str2]=False\n",
    "    return False\n"
   ]
  },
  {
   "cell_type": "code",
   "execution_count": 4,
   "metadata": {},
   "outputs": [
    {
     "data": {
      "text/plain": [
       "True"
      ]
     },
     "execution_count": 4,
     "metadata": {},
     "output_type": "execute_result"
    }
   ],
   "source": []
  },
  {
   "cell_type": "code",
   "execution_count": 189,
   "metadata": {},
   "outputs": [
    {
     "data": {
      "text/plain": [
       "True"
      ]
     },
     "execution_count": 189,
     "metadata": {},
     "output_type": "execute_result"
    }
   ],
   "source": [
    "str1='great'\n",
    "str2='rgeat'\n",
    "isScrambled(str1,str2)"
   ]
  },
  {
   "cell_type": "code",
   "execution_count": 4,
   "metadata": {},
   "outputs": [
    {
     "data": {
      "text/plain": [
       "False"
      ]
     },
     "execution_count": 4,
     "metadata": {},
     "output_type": "execute_result"
    }
   ],
   "source": [
    "str1='balibabuchauhanbalibabuchauhan'\n",
    "str2='bubaahicaabluhnbubaahicaabluhn'\n",
    "isScrambled(str1,str2)"
   ]
  },
  {
   "cell_type": "markdown",
   "metadata": {},
   "source": [
    "# <font face='comic sans ms' color ='PaleTurquoise'>Egg Droping Problem</font>"
   ]
  },
  {
   "cell_type": "code",
   "execution_count": 8,
   "metadata": {},
   "outputs": [],
   "source": [
    "# find minimum attempts from (worst case to find threshold floor)\n",
    "# floor-> 1,2,...,k,...f  \n",
    "# in any attempts at k:\n",
    "#   if egg breaks: we check remaing attempts with (e-1) eggs and  remaining (k-1) floors\n",
    "#   if egg don't break: we check remainng attempts with 'e' eggs and remaining (f-k) floors"
   ]
  },
  {
   "cell_type": "code",
   "execution_count": 14,
   "metadata": {},
   "outputs": [],
   "source": [
    "def minAttempts(e,f): #no. of eggs->e and floors->f\n",
    "    if e==1: return f \n",
    "    if f==0 or f==1: return f \n",
    "\n",
    "    minVal=sys.maxsize\n",
    "    for k in range(1,f+1):\n",
    "        temp=1+max(minAttempts(e-1,k-1),minAttempts(e,f-k))\n",
    "        minVal=min(temp,minVal)\n",
    "    return minVal"
   ]
  },
  {
   "cell_type": "code",
   "execution_count": 15,
   "metadata": {},
   "outputs": [
    {
     "data": {
      "text/plain": [
       "3"
      ]
     },
     "execution_count": 15,
     "metadata": {},
     "output_type": "execute_result"
    }
   ],
   "source": [
    "minAttempts(3,5)"
   ]
  },
  {
   "cell_type": "markdown",
   "metadata": {},
   "source": [
    "##### <font face='comic sans ms' color ='blue'>memoization</font>"
   ]
  },
  {
   "cell_type": "code",
   "execution_count": 11,
   "metadata": {},
   "outputs": [],
   "source": [
    "def eggDroping(eggs,floors):\n",
    "    table=[[-1 for _ in range(floors+1)] for _ in range(eggs+1)]\n",
    "    def minAttempts(e,f): #no. of eggs->e and floors->f\n",
    "        if table[e][f]!=-1: return table[e][f]\n",
    "        if e==1: return f \n",
    "        if f==0 or f==1: return f \n",
    "\n",
    "        minVal=sys.maxsize\n",
    "        for k in range(1,f+1):\n",
    "            temp=1+max(minAttempts(e-1,k-1),minAttempts(e,f-k))\n",
    "            minVal=min(temp,minVal)\n",
    "        table[e][f]=minVal\n",
    "        return minVal\n",
    "    return minAttempts(eggs,floors)"
   ]
  },
  {
   "cell_type": "code",
   "execution_count": 23,
   "metadata": {},
   "outputs": [
    {
     "data": {
      "text/plain": [
       "5"
      ]
     },
     "execution_count": 23,
     "metadata": {},
     "output_type": "execute_result"
    }
   ],
   "source": [
    "eggDroping(15,17)"
   ]
  },
  {
   "cell_type": "code",
   "execution_count": 21,
   "metadata": {},
   "outputs": [
    {
     "data": {
      "text/plain": [
       "5"
      ]
     },
     "execution_count": 21,
     "metadata": {},
     "output_type": "execute_result"
    }
   ],
   "source": [
    "minAttempts(15,17)"
   ]
  },
  {
   "cell_type": "markdown",
   "metadata": {},
   "source": [
    "# <font face='comic sans ms' color ='PaleTurquoise'>Testing</font>"
   ]
  },
  {
   "cell_type": "code",
   "execution_count": 95,
   "metadata": {},
   "outputs": [
    {
     "data": {
      "text/plain": [
       "99632640"
      ]
     },
     "execution_count": 95,
     "metadata": {},
     "output_type": "execute_result"
    }
   ],
   "source": [
    "evaluateExpression(exp,True)"
   ]
  },
  {
   "cell_type": "code",
   "execution_count": 121,
   "metadata": {},
   "outputs": [
    {
     "data": {
      "text/plain": [
       "0"
      ]
     },
     "execution_count": 121,
     "metadata": {},
     "output_type": "execute_result"
    }
   ],
   "source": [
    "evaluate(exp,0,len(exp),True)"
   ]
  },
  {
   "cell_type": "code",
   "execution_count": 107,
   "metadata": {},
   "outputs": [
    {
     "name": "stdout",
     "output_type": "stream",
     "text": [
      "27761168\n"
     ]
    }
   ],
   "source": [
    "# Returns count of all possible\n",
    "# parenthesizations that lead to\n",
    "# result true for a boolean\n",
    "# expression with symbols like\n",
    "# true and false and operators\n",
    "# like &, | and ^ filled between symbols\n",
    "\n",
    "\n",
    "def countParenth(symb, oper, n):\n",
    "\tF = [[0 for i in range(n + 1)]\n",
    "\t\tfor i in range(n + 1)]\n",
    "\tT = [[0 for i in range(n + 1)]\n",
    "\t\tfor i in range(n + 1)]\n",
    "\n",
    "\t# Fill diagonal entries first\n",
    "\t# All diagonal entries in\n",
    "\t# T[i][i] are 1 if symbol[i]\n",
    "\t# is T (true). Similarly, all\n",
    "\t# F[i][i] entries are 1 if\n",
    "\t# symbol[i] is F (False)\n",
    "\tfor i in range(n):\n",
    "\t\tif symb[i] == 'F':\n",
    "\t\t\tF[i][i] = 1\n",
    "\t\telse:\n",
    "\t\t\tF[i][i] = 0\n",
    "\n",
    "\t\tif symb[i] == 'T':\n",
    "\t\t\tT[i][i] = 1\n",
    "\t\telse:\n",
    "\t\t\tT[i][i] = 0\n",
    "\n",
    "\t# Now fill T[i][i+1], T[i][i+2],\n",
    "\t# T[i][i+3]... in order And\n",
    "\t# F[i][i+1], F[i][i+2],\n",
    "\t# F[i][i+3]... in order\n",
    "\tfor gap in range(1, n):\n",
    "\t\ti = 0\n",
    "\t\tfor j in range(gap, n):\n",
    "\t\t\tT[i][j] = F[i][j] = 0\n",
    "\t\t\tfor g in range(gap):\n",
    "\n",
    "\t\t\t\t# Find place of parenthesization\n",
    "\t\t\t\t# using current value of gap\n",
    "\t\t\t\tk = i + g\n",
    "\n",
    "\t\t\t\t# Store Total[i][k] and Total[k+1][j]\n",
    "\t\t\t\ttik = T[i][k] + F[i][k]\n",
    "\t\t\t\ttkj = T[k + 1][j] + F[k + 1][j]\n",
    "\n",
    "\t\t\t\t# Follow the recursive formulas\n",
    "\t\t\t\t# according to the current operator\n",
    "\t\t\t\tif oper[k] == '&':\n",
    "\t\t\t\t\tT[i][j] += T[i][k] * T[k + 1][j]\n",
    "\t\t\t\t\tF[i][j] += (tik * tkj - T[i][k] *\n",
    "\t\t\t\t\t\t\t\tT[k + 1][j])\n",
    "\t\t\t\tif oper[k] == '|':\n",
    "\t\t\t\t\tF[i][j] += F[i][k] * F[k + 1][j]\n",
    "\t\t\t\t\tT[i][j] += (tik * tkj - F[i][k] *\n",
    "\t\t\t\t\t\t\t\tF[k + 1][j])\n",
    "\t\t\t\tif oper[k] == '^':\n",
    "\t\t\t\t\tT[i][j] += (F[i][k] * T[k + 1][j] +\n",
    "\t\t\t\t\t\t\t\tT[i][k] * F[k + 1][j])\n",
    "\t\t\t\t\tF[i][j] += (T[i][k] * T[k + 1][j] +\n",
    "\t\t\t\t\t\t\t\tF[i][k] * F[k + 1][j])\n",
    "\t\t\ti += 1\n",
    "\treturn T[0][n - 1]\n",
    "\n",
    "\n",
    "# Driver Code\n",
    "symbols = 'TFFTFFFTTTTFTFFTT'\n",
    "operators = '|^&|^^^|&^|^^&^|^'\n",
    "n = len(symbols)\n",
    "\n",
    "# There are 4 ways\n",
    "# ((T|T)&(F^T)), (T|(T&(F^T))),\n",
    "# (((T|T)&F)^T) and (T|((T&F)^T))\n",
    "print(countParenth(symbols, operators, n))\n",
    "\n",
    "# This code is contributed by\n",
    "# sahil shelangia\n"
   ]
  },
  {
   "cell_type": "code",
   "execution_count": 161,
   "metadata": {},
   "outputs": [],
   "source": [
    "exp='T|F^F&T|F^F^F^T|T&T^T|F^T^F&F^T|T^F' # 638"
   ]
  },
  {
   "cell_type": "code",
   "execution_count": 162,
   "metadata": {},
   "outputs": [],
   "source": [
    "# evaluate(exp,0,len(exp)-1,True)"
   ]
  },
  {
   "cell_type": "code",
   "execution_count": 167,
   "metadata": {},
   "outputs": [
    {
     "data": {
      "text/plain": [
       "30012150"
      ]
     },
     "execution_count": 167,
     "metadata": {},
     "output_type": "execute_result"
    }
   ],
   "source": [
    "evaluateExpression(exp,True)"
   ]
  },
  {
   "cell_type": "code",
   "execution_count": 164,
   "metadata": {},
   "outputs": [],
   "source": [
    "e1,e2='',''\n",
    "for i in range(0,len(exp)-1,2):\n",
    "    e1+=exp[i]\n",
    "    e2+=exp[i+1]\n",
    "e1+=exp[-1]"
   ]
  },
  {
   "cell_type": "code",
   "execution_count": 165,
   "metadata": {},
   "outputs": [
    {
     "data": {
      "text/plain": [
       "'TFFTFFFTTTTFTFFTTF'"
      ]
     },
     "execution_count": 165,
     "metadata": {},
     "output_type": "execute_result"
    }
   ],
   "source": [
    "e1"
   ]
  },
  {
   "cell_type": "code",
   "execution_count": 166,
   "metadata": {},
   "outputs": [
    {
     "data": {
      "text/plain": [
       "'|^&|^^^|&^|^^&^|^'"
      ]
     },
     "execution_count": 166,
     "metadata": {},
     "output_type": "execute_result"
    }
   ],
   "source": [
    "e2"
   ]
  },
  {
   "cell_type": "code",
   "execution_count": null,
   "metadata": {},
   "outputs": [],
   "source": []
  },
  {
   "cell_type": "code",
   "execution_count": 185,
   "metadata": {},
   "outputs": [
    {
     "name": "stdout",
     "output_type": "stream",
     "text": [
      "No\n"
     ]
    }
   ],
   "source": [
    "# Declaring unordered map globally\n",
    "map={}\n",
    "# Python3 program to check if a\n",
    "# given string is a scrambled\n",
    "# form of another string\n",
    "def isScramble(S1: str, S2: str):\n",
    "\t\n",
    "\t# Strings of non-equal length\n",
    "\t# cant' be scramble strings\n",
    "\tif len(S1) != len(S2):\n",
    "\t\treturn False\n",
    "\n",
    "\tn = len(S1)\n",
    "\n",
    "\t# Empty strings are scramble strings\n",
    "\tif not n:\n",
    "\t\treturn True\n",
    "\n",
    "\t# Equal strings are scramble strings\n",
    "\tif S1 == S2:\n",
    "\t\treturn True\n",
    "\n",
    "\t# Check for the condition of anagram\n",
    "\tif sorted(S1) != sorted(S2):\n",
    "\t\treturn False\n",
    "\t\n",
    "\t# Checking if both Substrings are in\n",
    "\t# map or are already calculated or not\n",
    "\tif(S1+' '+S2 in map):\n",
    "\t\treturn map[S1+' '+S2]\n",
    "\t\n",
    "\t# Declaring a flag variable\n",
    "\tflag = False\n",
    "\n",
    "\tfor i in range(1, n):\n",
    "\t\t\n",
    "\t\t# Check if S2[0...i] is a scrambled\n",
    "\t\t# string of S1[0...i] and if S2[i+1...n]\n",
    "\t\t# is a scrambled string of S1[i+1...n]\n",
    "\t\tif (isScramble(S1[:i], S2[:i]) and\n",
    "\t\t\tisScramble(S1[i:], S2[i:])):\n",
    "\t\t\tflag = True\n",
    "\t\t\treturn True\n",
    "\n",
    "\t\t# Check if S2[0...i] is a scrambled\n",
    "\t\t# string of S1[n-i...n] and S2[i+1...n]\n",
    "\t\t# is a scramble string of S1[0...n-i-1]\n",
    "\t\tif (isScramble(S1[-i:], S2[:i]) and\n",
    "\t\t\tisScramble(S1[:-i], S2[i:])):\n",
    "\t\t\tflag = True\n",
    "\t\t\treturn True\n",
    "\t\n",
    "\t# Storing calculated value to map\n",
    "\tmap[S1+\" \"+S2] = flag\n",
    "\t\n",
    "\t# If none of the above\n",
    "\t# conditions are satisfied\n",
    "\treturn False\n",
    "\n",
    "# Driver Code\n",
    "if __name__ == \"__main__\":\n",
    "\t\n",
    "\tS1 = \"balibabuchauhanbalibabuchauhan\"\n",
    "\tS2 = \"bubaahicaabluhnbubaahicaabluhn\"\n",
    "\t\n",
    "\tif (isScramble(S1, S2)):\n",
    "\t\tprint(\"Yes\")\n",
    "\telse:\n",
    "\t\tprint(\"No\")\n"
   ]
  },
  {
   "cell_type": "code",
   "execution_count": null,
   "metadata": {},
   "outputs": [],
   "source": []
  }
 ],
 "metadata": {
  "kernelspec": {
   "display_name": "Python 3.9.7 ('base')",
   "language": "python",
   "name": "python3"
  },
  "language_info": {
   "codemirror_mode": {
    "name": "ipython",
    "version": 3
   },
   "file_extension": ".py",
   "mimetype": "text/x-python",
   "name": "python",
   "nbconvert_exporter": "python",
   "pygments_lexer": "ipython3",
   "version": "3.9.7"
  },
  "orig_nbformat": 4,
  "vscode": {
   "interpreter": {
    "hash": "649e9a488baa9f755be1bd774174f13c00c6eb61d6f5988e2904ab6e22ac3fc0"
   }
  }
 },
 "nbformat": 4,
 "nbformat_minor": 2
}
