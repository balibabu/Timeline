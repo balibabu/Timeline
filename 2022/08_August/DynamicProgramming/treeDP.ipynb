{
 "cells": [
  {
   "cell_type": "markdown",
   "metadata": {},
   "source": [
    "# <font face='comic sans ms' color ='PaleTurquoise'>Diameter of Binary Tree</font>"
   ]
  },
  {
   "cell_type": "code",
   "execution_count": 1,
   "metadata": {},
   "outputs": [],
   "source": [
    "class Node:\n",
    "    def __init__(self):\n",
    "        self.left=None\n",
    "        self.right=None\n",
    "        self.data=1"
   ]
  },
  {
   "cell_type": "markdown",
   "metadata": {},
   "source": [
    "##### <font face='comic sans ms' color ='blue'>Input</font>"
   ]
  },
  {
   "cell_type": "code",
   "execution_count": 2,
   "metadata": {},
   "outputs": [],
   "source": [
    "root=Node()\n",
    "root.left=Node()\n",
    "root.right=Node()\n",
    "\n",
    "root.left.left=Node()\n",
    "root.left.right=Node()\n",
    "\n",
    "root.left.right.left=Node()\n",
    "root.left.right.right=Node()\n",
    "\n",
    "root.right.left=Node()\n",
    "root.right.right=Node()"
   ]
  },
  {
   "cell_type": "code",
   "execution_count": 44,
   "metadata": {},
   "outputs": [],
   "source": [
    "res=-sys.maxsize\n",
    "def solve(root:Node):\n",
    "    global res  #answer will be stored in result\n",
    "\n",
    "    # base condition\n",
    "    if root==None:\n",
    "        return 0\n",
    "\n",
    "    # hypothesis\n",
    "    left=solve(root.left)\n",
    "    right=solve(root.right)\n",
    "\n",
    "    # induction\n",
    "    temp=max(left,right)+1\n",
    "    ans=max(temp,1+left+right)\n",
    "    res=max(res,ans)\n",
    "\n",
    "    return temp"
   ]
  },
  {
   "cell_type": "code",
   "execution_count": 45,
   "metadata": {},
   "outputs": [
    {
     "name": "stdout",
     "output_type": "stream",
     "text": [
      "6\n"
     ]
    }
   ],
   "source": [
    "solve(root)\n",
    "print(res)"
   ]
  },
  {
   "cell_type": "markdown",
   "metadata": {},
   "source": [
    "# <font face='comic sans ms' color ='PaleTurquoise'>maximum path sum from any node to any node</font>"
   ]
  },
  {
   "cell_type": "code",
   "execution_count": 3,
   "metadata": {},
   "outputs": [],
   "source": [
    "res=-sys.maxsize\n",
    "def maxSum(root:Node):\n",
    "    global res\n",
    "    if root==None:      # base condtion changes with question\n",
    "        return 0\n",
    "\n",
    "    # hypothesis         # remains same for all problem\n",
    "    left=maxSum(root.left)\n",
    "    right=maxSum(root.right)\n",
    "\n",
    "    # induction\n",
    "    temp=max(max(left,right)+root.data,root.data)\n",
    "    ans=max(temp,left+right+root.data)\n",
    "    res=max(res,ans)\n",
    "    return temp"
   ]
  },
  {
   "cell_type": "code",
   "execution_count": 4,
   "metadata": {},
   "outputs": [
    {
     "name": "stdout",
     "output_type": "stream",
     "text": [
      "6\n"
     ]
    }
   ],
   "source": [
    "maxSum(root)\n",
    "print(res)"
   ]
  },
  {
   "cell_type": "markdown",
   "metadata": {},
   "source": [
    "# <font face='comic sans ms' color ='PaleTurquoise'>maximum path sum from leaf node to leaf node</font>"
   ]
  },
  {
   "cell_type": "code",
   "execution_count": null,
   "metadata": {},
   "outputs": [],
   "source": [
    "res=-sys.maxsize\n"
   ]
  }
 ],
 "metadata": {
  "kernelspec": {
   "display_name": "Python 3.9.7 ('base')",
   "language": "python",
   "name": "python3"
  },
  "language_info": {
   "codemirror_mode": {
    "name": "ipython",
    "version": 3
   },
   "file_extension": ".py",
   "mimetype": "text/x-python",
   "name": "python",
   "nbconvert_exporter": "python",
   "pygments_lexer": "ipython3",
   "version": "3.9.7"
  },
  "orig_nbformat": 4,
  "vscode": {
   "interpreter": {
    "hash": "649e9a488baa9f755be1bd774174f13c00c6eb61d6f5988e2904ab6e22ac3fc0"
   }
  }
 },
 "nbformat": 4,
 "nbformat_minor": 2
}
