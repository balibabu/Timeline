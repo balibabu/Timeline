{
 "cells": [
  {
   "cell_type": "code",
   "execution_count": 1,
   "metadata": {},
   "outputs": [],
   "source": [
    "class Solution:\n",
    "    # @param A : list of integers\n",
    "    # @return an integer\n",
    "    def findOmegas(self, A):\n",
    "        total=0\n",
    "        def isOmega(n):\n",
    "            for i in range(2,n//2):\n",
    "                rt=pow(i,1/2)\n",
    "                if int(rt*rt)==i:\n",
    "                    if n%i==0:\n",
    "                        return 0\n",
    "            return 1\n",
    "    \n",
    "        def canFormOmega(subset):\n",
    "            a=1\n",
    "            for i in subset:\n",
    "                a*=i\n",
    "            return isOmega(a)\n",
    "            \n",
    "        def getSubset(arr,n,subset,arraylist):\n",
    "            if n==0:\n",
    "                arraylist.append(canFormOmega(subset))\n",
    "                return\n",
    "            subset.append(arr[n-1])\n",
    "            getSubset(arr,n-1,subset,arraylist)\n",
    "            subset.pop()\n",
    "            getSubset(arr,n-1,subset,arraylist)\n",
    "            \n",
    "        list1=[]\n",
    "        for n in A:\n",
    "            if isOmega(n):\n",
    "                list1.append(n)\n",
    "                \n",
    "        subset=[]\n",
    "        arraylist=[]\n",
    "        getSubset(list1,len(list1),subset,arraylist)\n",
    "        return len(arraylist)\n",
    "            \n",
    "            "
   ]
  },
  {
   "cell_type": "code",
   "execution_count": 6,
   "metadata": {},
   "outputs": [
    {
     "data": {
      "text/plain": [
       "9"
      ]
     },
     "execution_count": 6,
     "metadata": {},
     "output_type": "execute_result"
    }
   ],
   "source": [
    "a=Solution()\n",
    "a.findOmegas([4,2,3])"
   ]
  },
  {
   "cell_type": "code",
   "execution_count": null,
   "metadata": {},
   "outputs": [],
   "source": []
  }
 ],
 "metadata": {
  "kernelspec": {
   "display_name": "Python 3.9.12 ('base')",
   "language": "python",
   "name": "python3"
  },
  "language_info": {
   "codemirror_mode": {
    "name": "ipython",
    "version": 3
   },
   "file_extension": ".py",
   "mimetype": "text/x-python",
   "name": "python",
   "nbconvert_exporter": "python",
   "pygments_lexer": "ipython3",
   "version": "3.9.12"
  },
  "orig_nbformat": 4,
  "vscode": {
   "interpreter": {
    "hash": "649e9a488baa9f755be1bd774174f13c00c6eb61d6f5988e2904ab6e22ac3fc0"
   }
  }
 },
 "nbformat": 4,
 "nbformat_minor": 2
}
