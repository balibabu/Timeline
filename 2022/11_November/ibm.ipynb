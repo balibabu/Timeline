{
 "cells": [
  {
   "cell_type": "markdown",
   "metadata": {},
   "source": [
    "## <font face='comic sans ms' color ='yellow'>Shivam gupta</font>"
   ]
  },
  {
   "cell_type": "code",
   "execution_count": 11,
   "metadata": {},
   "outputs": [],
   "source": [
    "def perform(op,a,b):\n",
    "    if op=='+': return a+b\n",
    "    elif op=='-': return a-b\n",
    "    elif op=='*': return a*b\n",
    "    elif op=='/': return a/b\n",
    "\n",
    "def fun(op,value,arr):\n",
    "    lis=[]\n",
    "    for i in range(len(arr)):\n",
    "        for j in range(i,len(arr)):\n",
    "            if i!=j:\n",
    "                if perform(op,arr[i],arr[j])==value: \n",
    "                    temp=[arr[i],arr[j]]\n",
    "                    if not temp in lis:\n",
    "                        lis.append(temp)\n",
    "    print('[',end='')\n",
    "    for i in range(len(lis)-1):\n",
    "        print(lis[i],end=',\\n')\n",
    "    print(lis[-1],end=']')"
   ]
  },
  {
   "cell_type": "code",
   "execution_count": 12,
   "metadata": {},
   "outputs": [
    {
     "name": "stdout",
     "output_type": "stream",
     "text": [
      "[[2, 6],\n",
      "[3, 5],\n",
      "[8, 0]]"
     ]
    }
   ],
   "source": [
    "fun('+',8,[2,3,5,8,0,6])"
   ]
  },
  {
   "cell_type": "code",
   "execution_count": null,
   "metadata": {},
   "outputs": [],
   "source": []
  }
 ],
 "metadata": {
  "kernelspec": {
   "display_name": "Python 3.9.12 ('base')",
   "language": "python",
   "name": "python3"
  },
  "language_info": {
   "codemirror_mode": {
    "name": "ipython",
    "version": 3
   },
   "file_extension": ".py",
   "mimetype": "text/x-python",
   "name": "python",
   "nbconvert_exporter": "python",
   "pygments_lexer": "ipython3",
   "version": "3.9.12"
  },
  "orig_nbformat": 4,
  "vscode": {
   "interpreter": {
    "hash": "649e9a488baa9f755be1bd774174f13c00c6eb61d6f5988e2904ab6e22ac3fc0"
   }
  }
 },
 "nbformat": 4,
 "nbformat_minor": 2
}
