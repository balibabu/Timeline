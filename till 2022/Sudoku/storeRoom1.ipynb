{
 "cells": [
  {
   "cell_type": "code",
   "execution_count": 7,
   "metadata": {
    "ExecuteTime": {
     "end_time": "2020-08-08T06:54:55.658278Z",
     "start_time": "2020-08-08T06:54:44.501833Z"
    }
   },
   "outputs": [],
   "source": [
    "import cv2\n",
    "from numpy import *\n",
    "img=cv2.imread('ImgSud3.png',0)\n",
    "_,th=cv2.threshold(img,120,255,cv2.THRESH_BINARY)\n",
    "kernal=ones([3,3],uint8)\n",
    "erosion=cv2.erode(th,kernal)\n",
    "cv2.imshow('original',img)\n",
    "cv2.imshow('th',th)\n",
    "cv2.imshow('erode',erosion)\n",
    "cv2.waitKey(0)\n",
    "cv2.destroyAllWindows()"
   ]
  },
  {
   "cell_type": "code",
   "execution_count": 8,
   "metadata": {
    "ExecuteTime": {
     "end_time": "2020-08-08T06:55:16.991060Z",
     "start_time": "2020-08-08T06:55:04.955741Z"
    }
   },
   "outputs": [],
   "source": [
    "temp=zeros([699,699],uint8)\n",
    "temp[:]=255\n",
    "edge=cv2.Canny(erosion,108,22,apertureSize=3)\n",
    "lines=cv2.HoughLines(edge,1,pi/180,200)\n",
    "for line in lines:\n",
    "    rho,theta=line[0]\n",
    "    a=cos(theta)\n",
    "    b=sin(theta)\n",
    "    x0=a*rho\n",
    "    y0=b*rho\n",
    "    x1=int(x0+1000*(-b))\n",
    "    y1=int(y0+1000*a)\n",
    "    x2=int(x0-1000*(-b))\n",
    "    y2=int(y0-1000*a)\n",
    "    cv2.line(temp,(x1,y1),(x2,y2),0,2)\n",
    "cv2.imshow('lines',temp)\n",
    "cv2.imshow('corner',edge)\n",
    "cv2.waitKey(0)\n",
    "cv2.destroyAllWindows()"
   ]
  },
  {
   "cell_type": "code",
   "execution_count": 9,
   "metadata": {
    "ExecuteTime": {
     "end_time": "2020-08-08T06:55:52.456846Z",
     "start_time": "2020-08-08T06:55:18.882404Z"
    }
   },
   "outputs": [
    {
     "name": "stdout",
     "output_type": "stream",
     "text": [
      "(694, 137) (25, 137) (696, 1001) (475, 1001) (251, 1001) (27, 1001) (622, 1000) (547, 1000) (398, 1000) (323, 1000) (174, 1000) (99, 1000) (624, 806) (549, 806) (477, 806) (400, 806) (325, 806) (253, 806) (176, 806) (101, 806) (694, 736) (25, 736) (694, 661) (25, 661) (694, 589) (25, 589) (694, 512) (25, 512) (694, 437) (25, 437) (694, 365) (25, 365) (694, 288) (25, 288) (694, 213) (25, 213) (624, 137) (549, 137) (477, 137) (400, 137) (325, 137) (253, 137) (176, 137) (101, 137) (694, 114) (25, 114) (624, 736) (549, 736) (477, 736) (400, 736) (325, 736) (253, 736) (176, 736) (101, 736) (624, 661) (549, 661) (477, 661) (400, 661) (325, 661) (253, 661) (176, 661) (101, 661) (624, 589) (549, 589) (477, 589) (400, 589) (325, 589) (253, 589) (176, 589) (101, 589) (624, 512) (549, 512) (477, 512) (400, 512) (325, 512) (253, 512) (176, 512) (101, 512) (624, 437) (549, 437) (477, 437) (400, 437) (325, 437) (253, 437) (176, 437) (101, 437) (624, 365) (549, 365) (477, 365) (400, 365) (325, 365) (253, 365) (176, 365) (101, 365) (624, 288) (549, 288) (477, 288) (400, 288) (325, 288) (253, 288) (176, 288) (101, 288) (624, 213) (549, 213) (477, 213) 150\n",
      "107\n"
     ]
    }
   ],
   "source": [
    "temp=zeros([img.shape[0],img.shape[1]],uint8)\n",
    "temp[:]=255\n",
    "edge=cv2.Canny(erosion,108,22,apertureSize=3)\n",
    "lines=cv2.HoughLines(edge,1,pi/180,200)\n",
    "for line in lines:\n",
    "    rho,theta=line[0]\n",
    "    a=cos(theta)\n",
    "    b=sin(theta)\n",
    "    x0=a*rho\n",
    "    y0=b*rho\n",
    "    x1=int(x0+1000*(-b))\n",
    "    y1=int(y0+1000*a)\n",
    "    x2=int(x0-1000*(-b))\n",
    "    y2=int(y0-1000*a)\n",
    "    cv2.line(temp,(x1,y1),(x2,y2),0,2)\n",
    "\n",
    "def distance(points,checkPoint):\n",
    "    for point in points:\n",
    "        d=((point[0]-checkPoint[0])**2+(point[1]-checkPoint[1])**2)**0.5\n",
    "        if d<15:\n",
    "            return False\n",
    "    return True\n",
    "\n",
    "def detect():\n",
    "    corners=cv2.goodFeaturesToTrack(temp,150,0.01,10)\n",
    "    corners =int0(corners)\n",
    "    effectivePoints=[]\n",
    "    points=[]\n",
    "    for i in corners:\n",
    "        x,y=i.ravel()\n",
    "        if len(points)>1:\n",
    "            if distance(points,(x,y)):\n",
    "                cv2.circle(temp,(x,y),4,255,-1)\n",
    "                print((x,y),end=' ')\n",
    "                effectivePoints.append((x,y))\n",
    "        else:\n",
    "            cv2.circle(temp,(x,y),4,255,-1)\n",
    "            effectivePoints.append((x,y))\n",
    "        points.append((x,y))\n",
    "        \n",
    "        \n",
    "    points.sort()\n",
    "    print(len(points))\n",
    "    print(len(effectivePoints))\n",
    "\n",
    "detect()\n",
    "cv2.imshow('corner',temp)\n",
    "cv2.waitKey(0)\n",
    "cv2.destroyAllWindows()"
   ]
  },
  {
   "cell_type": "code",
   "execution_count": 65,
   "metadata": {
    "ExecuteTime": {
     "end_time": "2020-08-08T00:28:34.937366Z",
     "start_time": "2020-08-08T00:28:16.482882Z"
    }
   },
   "outputs": [
    {
     "name": "stdout",
     "output_type": "stream",
     "text": [
      "(684, 13) (15, 13) (614, 682) (539, 682) (467, 682) (455, 682) (390, 682) (315, 682) (243, 682) (231, 682) (166, 682) (91, 682) (684, 612) (15, 612) (684, 537) (15, 537) (684, 465) (15, 465) (684, 453) (15, 453) (684, 388) (15, 388) (684, 313) (15, 313) (684, 241) (15, 241) (684, 229) (15, 229) (684, 164) (15, 164) (684, 89) (15, 89) (614, 13) (539, 13) (467, 13) (455, 13) (390, 13) (315, 13) (243, 13) (231, 13) (166, 13) (91, 13) (614, 612) (539, 612) (467, 612) (455, 612) (390, 612) (315, 612) (243, 612) (231, 612) (166, 612) (91, 612) (614, 537) (539, 537) (467, 537) (455, 537) (390, 537) (315, 537) (243, 537) (231, 537) (166, 537) (91, 537) (614, 465) (539, 465) (467, 465) (455, 465) (390, 465) (315, 465) (243, 465) (231, 465) (166, 465) (91, 465) (607, 457) (532, 457) (383, 457) (308, 457) (159, 457) (84, 457) (467, 453) (455, 453) (243, 453) (231, 453) (614, 388) (539, 388) (467, 388) (455, 388) (390, 388) (315, 388) (243, 388) (231, 388) (166, 388) (91, 388) (614, 313) (539, 313) (467, 313) (455, 313) (390, 313) (315, 313) (243, 313) (231, 313) (166, 313) (91, 313) (614, 241) (539, 241) (467, 241) (455, 241) (390, 241) (315, 241) (243, 241) (231, 241) (166, 241) (91, 241) (607, 233) (532, 233) (383, 233) (308, 233) (159, 233) (84, 233) (467, 229) (455, 229) (243, 229) (231, 229) (614, 164) (539, 164) (467, 164) (455, 164) (390, 164) (315, 164) (243, 164) (231, 164) (166, 164) (91, 164) (614, 89) (539, 89) (467, 89) (455, 89) (390, 89) (315, 89) (243, 89) (231, 89) (166, 89) (91, 89) 144\n"
     ]
    }
   ],
   "source": [
    "detect()\n",
    "cv2.imshow('corner',temp)\n",
    "cv2.waitKey(0)\n",
    "cv2.destroyAllWindows()"
   ]
  },
  {
   "cell_type": "code",
   "execution_count": 25,
   "metadata": {
    "ExecuteTime": {
     "end_time": "2020-08-07T23:51:57.131071Z",
     "start_time": "2020-08-07T23:51:55.086384Z"
    }
   },
   "outputs": [],
   "source": [
    "temp=zeros([699,699],uint8)\n",
    "temp[:]=255\n",
    "edge=cv2.Canny(erosion,108,22,apertureSize=3)\n",
    "lines=cv2.HoughLinesP(edge,1,pi/180,600,600,20)\n",
    "for line in lines:\n",
    "    for x1,y1,x2,y2 in line:\n",
    "        cv2.line(temp,(x1,y1),(x2,y2),0,2)\n",
    "cv2.imshow('lines',temp)\n",
    "cv2.imshow('corner',edge)\n",
    "cv2.waitKey(0)\n",
    "cv2.destroyAllWindows()"
   ]
  },
  {
   "cell_type": "code",
   "execution_count": null,
   "metadata": {
    "ExecuteTime": {
     "end_time": "2020-08-07T10:39:58.514297Z",
     "start_time": "2020-08-07T10:39:58.207720Z"
    }
   },
   "outputs": [],
   "source": [
    "def drawLine(image,lines):\n",
    "    blank_img=zeros([image.shape[0],image.shape[1],3],uint8)\n",
    "    for line in lines:\n",
    "        for x1,y1,x2,y2 in line:\n",
    "            cv2.line(blank_img,(x1,y1),(x2,y2),(0,255,0),3)\n",
    "    image=cv2.addWeighted(image,0.8,blank_img,1,0.0)\n",
    "    return image\n",
    "\n",
    "lines = cv2.HoughLinesP(erosion,rho=6,theta=pi/60,threshold=160,lines=40,minLineLength=100,maxLineGap=10)\n",
    "finalImg=drawLine(erosion,lines)\n",
    "cv2.imshow('corner',finalImg)\n",
    "cv2.waitKey(0)\n",
    "cv2.destroyAllWindows()"
   ]
  },
  {
   "cell_type": "code",
   "execution_count": 47,
   "metadata": {
    "ExecuteTime": {
     "end_time": "2020-08-07T10:52:16.530872Z",
     "start_time": "2020-08-07T10:52:01.263968Z"
    }
   },
   "outputs": [],
   "source": [
    "import cv2\n",
    "from numpy import *\n",
    "temp=zeros([699,699],uint8)\n",
    "temp[:]=255\n",
    "img=cv2.imread('ImgSud.jpg',0)\n",
    "cv2.imshow('img',img)\n",
    "edge=cv2.Canny(img,108,22,apertureSize=3)\n",
    "lines=cv2.HoughLinesP(edge,1,pi/180,100,100,20)\n",
    "for line in lines:\n",
    "    for x1,y1,x2,y2 in line:\n",
    "        cv2.line(temp,(x1,y1),(x2,y2),0,2)\n",
    "cv2.imshow('lines',temp)\n",
    "cv2.imshow('corner',edge)\n",
    "cv2.waitKey(0)\n",
    "cv2.destroyAllWindows()"
   ]
  },
  {
   "cell_type": "code",
   "execution_count": 55,
   "metadata": {
    "ExecuteTime": {
     "end_time": "2020-08-08T00:18:43.427760Z",
     "start_time": "2020-08-08T00:18:43.411774Z"
    }
   },
   "outputs": [
    {
     "name": "stdout",
     "output_type": "stream",
     "text": [
      "2.0\n"
     ]
    }
   ],
   "source": [
    "print(4**0.5)"
   ]
  },
  {
   "cell_type": "code",
   "execution_count": null,
   "metadata": {},
   "outputs": [],
   "source": []
  }
 ],
 "metadata": {
  "kernelspec": {
   "display_name": "Python 3",
   "language": "python",
   "name": "python3"
  },
  "language_info": {
   "codemirror_mode": {
    "name": "ipython",
    "version": 3
   },
   "file_extension": ".py",
   "mimetype": "text/x-python",
   "name": "python",
   "nbconvert_exporter": "python",
   "pygments_lexer": "ipython3",
   "version": "3.7.6"
  }
 },
 "nbformat": 4,
 "nbformat_minor": 4
}
