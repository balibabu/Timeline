{
 "cells": [
  {
   "cell_type": "code",
   "execution_count": 51,
   "metadata": {
    "ExecuteTime": {
     "end_time": "2020-08-07T09:19:18.479798Z",
     "start_time": "2020-08-07T09:19:15.731340Z"
    }
   },
   "outputs": [],
   "source": [
    "import cv2\n",
    "from numpy import *\n",
    "def formate():\n",
    "    img[:]=255\n",
    "    cv2.rectangle(img,(0,0),(495,495),0,5)\n",
    "    for i in range(55,495,55):\n",
    "        cv2.line(img,(i,0),(i,495),0,1)\n",
    "        cv2.line(img,(0,i),(495,i),0,1)\n",
    "    for i in range(165,495,165):\n",
    "        cv2.line(img,(i,0),(i,495),0,5)\n",
    "        cv2.line(img,(0,i),(495,i),0,5)\n",
    "\n",
    "    \n",
    "    \n",
    "img=zeros([495,495],uint8)\n",
    "formate()\n",
    "cv2.putText(img,'5',(10+55*(0),45+55*(0)),cv2.FONT_HERSHEY_SIMPLEX,1.5,0,5)\n",
    "cv2.imshow('showing',img)\n",
    "cv2.waitKey(0)\n",
    "cv2.destroyAllWindows()"
   ]
  },
  {
   "cell_type": "code",
   "execution_count": null,
   "metadata": {},
   "outputs": [],
   "source": []
  }
 ],
 "metadata": {
  "kernelspec": {
   "display_name": "Python 3",
   "language": "python",
   "name": "python3"
  },
  "language_info": {
   "codemirror_mode": {
    "name": "ipython",
    "version": 3
   },
   "file_extension": ".py",
   "mimetype": "text/x-python",
   "name": "python",
   "nbconvert_exporter": "python",
   "pygments_lexer": "ipython3",
   "version": "3.7.6"
  }
 },
 "nbformat": 4,
 "nbformat_minor": 4
}
