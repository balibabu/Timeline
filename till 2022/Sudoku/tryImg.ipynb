{
 "cells": [
  {
   "cell_type": "code",
   "execution_count": 60,
   "metadata": {
    "ExecuteTime": {
     "end_time": "2020-08-08T04:39:35.285966Z",
     "start_time": "2020-08-08T04:38:06.310940Z"
    },
    "code_folding": [
     2,
     14,
     27,
     45
    ],
    "scrolled": true
   },
   "outputs": [
    {
     "name": "stdout",
     "output_type": "stream",
     "text": [
      "144 100\n",
      "[[6, 7, 0, 0, 4, 0, 0, 0, 5], [0, 0, 0, 0, 5, 6, 0, 0, 0], [0, 3, 5, 0, 9, 0, 0, 0, 0], [0, 0, 3, 2, 0, 1, 7, 4, 0], [0, 1, 4, 0, 3, 0, 2, 0, 0], [0, 0, 2, 7, 6, 0, 0, 0, 1], [0, 0, 1, 0, 0, 9, 5, 0, 3], [0, 9, 0, 0, 1, 0, 8, 0, 4], [0, 0, 6, 0, 7, 8, 1, 9, 0]]\n",
      "(10, 11) (679, 680)\n"
     ]
    }
   ],
   "source": [
    "import cv2\n",
    "from numpy import *\n",
    "def Number(roi):\n",
    "    for i in range(1,10):\n",
    "        template=cv2.imread('s{}.jpg'.format(i),0)\n",
    "        gray=cv2.cvtColor(roi,cv2.COLOR_BGR2GRAY)\n",
    "        res=cv2.matchTemplate(gray,template,cv2.TM_CCOEFF_NORMED)\n",
    "        threshold=0.9\n",
    "        loc=where(res>=threshold)\n",
    "        w,h=template.shape[::-1]\n",
    "        for pt in zip(*loc[::-1]):\n",
    "            return i\n",
    "    return 0\n",
    "\n",
    "def distance(points,checkPoint):\n",
    "    for point in points:\n",
    "        d=((point[0]-checkPoint[0])**2+(point[1]-checkPoint[1])**2)**0.5\n",
    "        if d<15:\n",
    "            return False\n",
    "    return True\n",
    "\n",
    "def clearImage():\n",
    "    _,th=cv2.threshold(img,120,255,cv2.THRESH_BINARY)\n",
    "    kernal=ones([3,3],uint8)\n",
    "    erosion=cv2.erode(th,kernal)\n",
    "    return erosion\n",
    "\n",
    "def detect(temp):\n",
    "    corners=cv2.goodFeaturesToTrack(temp,150,0.01,10)\n",
    "    corners =int0(corners)\n",
    "    effectivePoints=[]\n",
    "    points=[]\n",
    "    for i in corners:\n",
    "        x,y=i.ravel()\n",
    "        if len(points)>1:\n",
    "            if distance(points,(x,y)):\n",
    "                cv2.circle(temp,(x,y),4,255,-1)\n",
    "                effectivePoints.append((x,y))\n",
    "        else:\n",
    "            cv2.circle(temp,(x,y),4,255,-1)\n",
    "            effectivePoints.append((x,y))\n",
    "        points.append((x,y))\n",
    "    print(len(points),len(effectivePoints))\n",
    "    return min(effectivePoints),max(effectivePoints)\n",
    "\n",
    "def getPoints(erosion):\n",
    "    temp=zeros([img.shape[0],img.shape[1]],uint8)\n",
    "    temp[:]=255\n",
    "    edge=cv2.Canny(erosion,108,22,apertureSize=3)\n",
    "    lines=cv2.HoughLines(edge,1,pi/180,200)\n",
    "    for line in lines:\n",
    "        rho,theta=line[0]\n",
    "        a=cos(theta)\n",
    "        b=sin(theta)\n",
    "        x0=a*rho\n",
    "        y0=b*rho\n",
    "        x1=int(x0+1000*(-b))\n",
    "        y1=int(y0+1000*a)\n",
    "        x2=int(x0-1000*(-b))\n",
    "        y2=int(y0-1000*a)\n",
    "        cv2.line(temp,(x1,y1),(x2,y2),0,2)\n",
    "    return detect(temp)\n",
    "    \n",
    "def getArray(img,p1,p2):\n",
    "    f1=(p2[0]-p1[0])//9\n",
    "    f2=(p2[1]-p1[1])//9\n",
    "    array=[[0 for i in range(9)] for i in range(9)]\n",
    "    for i in range(9):\n",
    "        for j in range(9):\n",
    "            image=img[(p1[0]+f1*i):(p1[0]+f1*(i+1)), (p1[1]+f2*j):(p1[1]+f2*(j+1))]\n",
    "            array[i][j]=Number(image)\n",
    "    return array\n",
    "    \n",
    "img=cv2.imread('ImgSud2.jpg',1)\n",
    "erosion=clearImage()\n",
    "p1,p2=getPoints(erosion)\n",
    "print(getArray(img,p1,p2))\n",
    "print(p1,p2)\n",
    "cv2.circle(img,p1,5,255,-1)\n",
    "cv2.circle(img,p2,5,255,-1)\n",
    "\n",
    "cv2.imshow('erode',img)\n",
    "cv2.waitKey(0)\n",
    "cv2.destroyAllWindows()"
   ]
  },
  {
   "cell_type": "code",
   "execution_count": 58,
   "metadata": {
    "ExecuteTime": {
     "end_time": "2020-08-08T04:35:50.336783Z",
     "start_time": "2020-08-08T04:35:50.312801Z"
    }
   },
   "outputs": [
    {
     "name": "stdout",
     "output_type": "stream",
     "text": [
      "74\n"
     ]
    }
   ],
   "source": [
    "f1=(p2[0]-p1[0])//9\n",
    "print(f1)"
   ]
  },
  {
   "cell_type": "code",
   "execution_count": null,
   "metadata": {},
   "outputs": [],
   "source": []
  }
 ],
 "metadata": {
  "kernelspec": {
   "display_name": "Python 3",
   "language": "python",
   "name": "python3"
  },
  "language_info": {
   "codemirror_mode": {
    "name": "ipython",
    "version": 3
   },
   "file_extension": ".py",
   "mimetype": "text/x-python",
   "name": "python",
   "nbconvert_exporter": "python",
   "pygments_lexer": "ipython3",
   "version": "3.7.6"
  }
 },
 "nbformat": 4,
 "nbformat_minor": 4
}
