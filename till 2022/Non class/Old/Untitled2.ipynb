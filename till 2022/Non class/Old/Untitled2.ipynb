{
 "cells": [
  {
   "cell_type": "code",
   "execution_count": 12,
   "metadata": {},
   "outputs": [
    {
     "name": "stdout",
     "output_type": "stream",
     "text": [
      "2523573227392 [1 6 3 4 5]\n",
      "2523573227072 [1 6 3 4 5]\n"
     ]
    }
   ],
   "source": [
    "from numpy import *\n",
    "arr1=array([1,2,3,4,5])\n",
    "arr2=arr1.view()\n",
    "arr1[1]=6\n",
    "print(id(arr1),arr1)\n",
    "print(id(arr2),arr2)"
   ]
  },
  {
   "cell_type": "code",
   "execution_count": 22,
   "metadata": {},
   "outputs": [
    {
     "name": "stdout",
     "output_type": "stream",
     "text": [
      "[[[ 1  2  3]\n",
      "  [ 4  1  4]]\n",
      "\n",
      " [[ 9 16  1]\n",
      "  [ 8 27 64]]]\n"
     ]
    }
   ],
   "source": [
    "arr=array([[1,2,3,4],[1,4,9,16],[1,8,27,64]])\n",
    "arr3=arr.flatten()\n",
    "arr4=arr3.reshape(2,2,3)\n",
    "print(arr4)"
   ]
  },
  {
   "cell_type": "code",
   "execution_count": 26,
   "metadata": {},
   "outputs": [
    {
     "name": "stdout",
     "output_type": "stream",
     "text": [
      "[[1 2 3 4 5]\n",
      " [6 7 8 9 0]]\n"
     ]
    }
   ],
   "source": [
    "m=matrix('1 2 3 4 5;6 7 8 9 0')\n",
    "print(m)"
   ]
  },
  {
   "cell_type": "code",
   "execution_count": null,
   "metadata": {},
   "outputs": [],
   "source": []
  }
 ],
 "metadata": {
  "kernelspec": {
   "display_name": "Python 3",
   "language": "python",
   "name": "python3"
  },
  "language_info": {
   "codemirror_mode": {
    "name": "ipython",
    "version": 3
   },
   "file_extension": ".py",
   "mimetype": "text/x-python",
   "name": "python",
   "nbconvert_exporter": "python",
   "pygments_lexer": "ipython3",
   "version": "3.7.6"
  }
 },
 "nbformat": 4,
 "nbformat_minor": 4
}
