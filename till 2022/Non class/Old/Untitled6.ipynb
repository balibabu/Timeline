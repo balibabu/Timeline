{
 "cells": [
  {
   "cell_type": "code",
   "execution_count": 12,
   "metadata": {},
   "outputs": [
    {
     "name": "stdout",
     "output_type": "stream",
     "text": [
      "this program print the sum of first nth term\n",
      "1-3+5-7+9-..\n",
      "enter the value of n  :4\n",
      "the sum is  -4\n"
     ]
    }
   ],
   "source": [
    "print('this program print the sum of first nth term\\n1-3+5-7+9-..')\n",
    "n=int(input('enter the value of n  :'))\n",
    "t=1\n",
    "s=0\n",
    "for i in range(n):\n",
    "    s+=t*(-1)**i\n",
    "    t=(t+2)\n",
    "\n",
    "print('the sum is ',s)\n"
   ]
  }
 ],
 "metadata": {
  "kernelspec": {
   "display_name": "Python 3",
   "language": "python",
   "name": "python3"
  },
  "language_info": {
   "codemirror_mode": {
    "name": "ipython",
    "version": 3
   },
   "file_extension": ".py",
   "mimetype": "text/x-python",
   "name": "python",
   "nbconvert_exporter": "python",
   "pygments_lexer": "ipython3",
   "version": "3.7.6"
  }
 },
 "nbformat": 4,
 "nbformat_minor": 4
}
