{
 "cells": [
  {
   "cell_type": "code",
   "execution_count": 1,
   "metadata": {},
   "outputs": [
    {
     "name": "stdout",
     "output_type": "stream",
     "text": [
      "enter the value of x 30\n",
      "0.4999999918690232\n"
     ]
    }
   ],
   "source": [
    "from numpy import *\n",
    "x=radians(int(input('enter the value of x ')))\n",
    "s=x\n",
    "t=x\n",
    "c=1\n",
    "while abs(sin(x)-s)>0.0000001:\n",
    "    c+=2\n",
    "    t=-t*x*x/(c*(c-1))\n",
    "    s+=t\n",
    "print(s)"
   ]
  },
  {
   "cell_type": "code",
   "execution_count": null,
   "metadata": {},
   "outputs": [],
   "source": []
  }
 ],
 "metadata": {
  "kernelspec": {
   "display_name": "Python 3",
   "language": "python",
   "name": "python3"
  },
  "language_info": {
   "codemirror_mode": {
    "name": "ipython",
    "version": 3
   },
   "file_extension": ".py",
   "mimetype": "text/x-python",
   "name": "python",
   "nbconvert_exporter": "python",
   "pygments_lexer": "ipython3",
   "version": "3.7.6"
  }
 },
 "nbformat": 4,
 "nbformat_minor": 4
}
