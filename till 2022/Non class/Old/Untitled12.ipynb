{
 "cells": [
  {
   "cell_type": "code",
   "execution_count": 6,
   "metadata": {},
   "outputs": [
    {
     "name": "stdout",
     "output_type": "stream",
     "text": [
      "enter a number9\n",
      "0  1  1  2  3  5  8  13  21  "
     ]
    }
   ],
   "source": [
    "n=int(input('enter a number'))\n",
    "if n>0:\n",
    "    a=0\n",
    "    b=1\n",
    "    print(a,end='  ')\n",
    "    for i in range(n-1):\n",
    "        print(b,end='  ')\n",
    "        a,b=b,a+b\n",
    "else:\n",
    "    print('wrong input')"
   ]
  }
 ],
 "metadata": {
  "kernelspec": {
   "display_name": "Python 3",
   "language": "python",
   "name": "python3"
  },
  "language_info": {
   "codemirror_mode": {
    "name": "ipython",
    "version": 3
   },
   "file_extension": ".py",
   "mimetype": "text/x-python",
   "name": "python",
   "nbconvert_exporter": "python",
   "pygments_lexer": "ipython3",
   "version": "3.7.6"
  }
 },
 "nbformat": 4,
 "nbformat_minor": 4
}
