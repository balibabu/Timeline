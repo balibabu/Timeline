{
 "cells": [
  {
   "cell_type": "code",
   "execution_count": 2,
   "metadata": {},
   "outputs": [
    {
     "name": "stdout",
     "output_type": "stream",
     "text": [
      "how many values you have4\n",
      "enter the data\n",
      "10\n",
      "12\n",
      "16\n",
      "8\n",
      "harmonic mean is  10.786516853932584\n"
     ]
    }
   ],
   "source": [
    "n=int(input('how many values you have'))\n",
    "s=0\n",
    "print('enter the data')\n",
    "for i in range(n):\n",
    "    a=int(input())\n",
    "    s+=1/a\n",
    "print('harmonic mean is ',n/s)\n"
   ]
  },
  {
   "cell_type": "code",
   "execution_count": null,
   "metadata": {},
   "outputs": [],
   "source": []
  }
 ],
 "metadata": {
  "kernelspec": {
   "display_name": "Python 3",
   "language": "python",
   "name": "python3"
  },
  "language_info": {
   "codemirror_mode": {
    "name": "ipython",
    "version": 3
   },
   "file_extension": ".py",
   "mimetype": "text/x-python",
   "name": "python",
   "nbconvert_exporter": "python",
   "pygments_lexer": "ipython3",
   "version": "3.7.6"
  }
 },
 "nbformat": 4,
 "nbformat_minor": 4
}
