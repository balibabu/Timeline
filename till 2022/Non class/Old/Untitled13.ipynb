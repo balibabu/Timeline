{
 "cells": [
  {
   "cell_type": "code",
   "execution_count": 6,
   "metadata": {},
   "outputs": [
    {
     "name": "stdout",
     "output_type": "stream",
     "text": [
      "enter a number 9\n",
      "0  1  1  2  3  5  8  13  21  \n",
      "bye bye\n"
     ]
    }
   ],
   "source": [
    "n=int(input('enter a number '))\n",
    "a=0\n",
    "b=1\n",
    "while True:\n",
    "    if n>0:\n",
    "        print(a,end='  ')\n",
    "        n-=1\n",
    "    if n>0:\n",
    "        print(b,end='  ')\n",
    "        n-=1\n",
    "    else:\n",
    "        break\n",
    "    a=a+b\n",
    "    b=b+a\n",
    "print('\\nbye bye')"
   ]
  },
  {
   "cell_type": "code",
   "execution_count": null,
   "metadata": {},
   "outputs": [],
   "source": []
  }
 ],
 "metadata": {
  "kernelspec": {
   "display_name": "Python 3",
   "language": "python",
   "name": "python3"
  },
  "language_info": {
   "codemirror_mode": {
    "name": "ipython",
    "version": 3
   },
   "file_extension": ".py",
   "mimetype": "text/x-python",
   "name": "python",
   "nbconvert_exporter": "python",
   "pygments_lexer": "ipython3",
   "version": "3.7.6"
  }
 },
 "nbformat": 4,
 "nbformat_minor": 4
}
