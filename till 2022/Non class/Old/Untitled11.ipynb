{
 "cells": [
  {
   "cell_type": "code",
   "execution_count": 6,
   "metadata": {},
   "outputs": [
    {
     "name": "stdout",
     "output_type": "stream",
     "text": [
      "enter value of x9\n",
      "value of e^x is  8103.083927253322\n"
     ]
    }
   ],
   "source": [
    "x=float(input('enter value of x'))\n",
    "s=1\n",
    "t=1\n",
    "c=1\n",
    "while t>0.000001:\n",
    "    t=t*x/c\n",
    "    s+=t\n",
    "    c+=1\n",
    "print('value of e^x is ',s)"
   ]
  },
  {
   "cell_type": "code",
   "execution_count": null,
   "metadata": {},
   "outputs": [],
   "source": []
  }
 ],
 "metadata": {
  "kernelspec": {
   "display_name": "Python 3",
   "language": "python",
   "name": "python3"
  },
  "language_info": {
   "codemirror_mode": {
    "name": "ipython",
    "version": 3
   },
   "file_extension": ".py",
   "mimetype": "text/x-python",
   "name": "python",
   "nbconvert_exporter": "python",
   "pygments_lexer": "ipython3",
   "version": "3.7.6"
  }
 },
 "nbformat": 4,
 "nbformat_minor": 4
}
