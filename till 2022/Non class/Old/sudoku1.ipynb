{
 "cells": [
  {
   "cell_type": "code",
   "execution_count": 16,
   "metadata": {},
   "outputs": [
    {
     "name": "stdout",
     "output_type": "stream",
     "text": [
      "0 6 2   5 0 4   0 7 0   \n",
      "0 8 0   0 0 0   4 0 9   \n",
      "0 0 0   0 2 0   0 0 1   \n",
      "\n",
      "0 0 1   0 0 6   0 8 4   \n",
      "0 0 9   0 0 8   0 0 7   \n",
      "8 0 7   9 0 0   0 0 3   \n",
      "\n",
      "0 0 0   7 0 0   8 3 0   \n",
      "2 0 0   6 0 3   0 0 0   \n",
      "7 0 0   0 0 0   0 0 0   \n",
      "\n",
      "no\n"
     ]
    }
   ],
   "source": [
    "from numpy import *\n",
    "def show(arr):\n",
    "    for i in range(9):\n",
    "        for j in range(9):\n",
    "            print(arr[i][j],end=' ')\n",
    "            if (j+1)%3==0:\n",
    "                print(' ',end=' ')\n",
    "        print()\n",
    "        if (i+1)%3==0:\n",
    "            print()\n",
    "\n",
    "def rules(value,x,y):\n",
    "    for i in range(9):\n",
    "        if value==data[x][i] or value==data[i][y]:\n",
    "            return False\n",
    "    r1=(x//3)*3\n",
    "    r2=(y//3)*3\n",
    "    for i in range(r1,r1+3):\n",
    "        for j in range(r2,r2+3):\n",
    "            if value==data[i][j]:\n",
    "                return False\n",
    "    return True\n",
    "\n",
    "def getInput():\n",
    "    global data\n",
    "    data=[[0,6,2,5,0,4,0,7,0],\n",
    "    [0,8,0,0,0,0,4,0,9],\n",
    "    [0,0,0,0,2,0,0,0,1],\n",
    "    [0,0,1,0,0,6,0,8,4],\n",
    "    [0,0,9,0,0,8,0,0,7],\n",
    "    [8,0,7,9,0,0,0,0,3],\n",
    "    [0,0,0,7,0,0,8,3,0],\n",
    "    [2,0,0,6,0,3,0,0,0],\n",
    "    [7,0,0,0,0,0,0,0,0]]\n",
    "    \n",
    "def filled():\n",
    "    given=[]\n",
    "    for i in range(9):\n",
    "        for j in range(9):\n",
    "            if data[i][j]!=0:\n",
    "                given.append((i,j))\n",
    "    return given\n",
    "\n",
    "def isVacant(a):\n",
    "    for i in given:\n",
    "        if a==i:\n",
    "            return False\n",
    "    return True\n",
    "\n",
    "def solve(data,x=0,y=0):\n",
    "    if isVacant((x,y)):\n",
    "        for i in range(1,10):\n",
    "            if rules(i,x,y):\n",
    "                data[x][y]=i\n",
    "                \n",
    "        \n",
    "data=array([[0 for x in range(9)] for y in range(9)])\n",
    "getInput()\n",
    "given=filled()\n",
    "show(data)\n",
    "solve(data,0,1)"
   ]
  },
  {
   "cell_type": "code",
   "execution_count": null,
   "metadata": {},
   "outputs": [],
   "source": []
  }
 ],
 "metadata": {
  "kernelspec": {
   "display_name": "Python 3",
   "language": "python",
   "name": "python3"
  },
  "language_info": {
   "codemirror_mode": {
    "name": "ipython",
    "version": 3
   },
   "file_extension": ".py",
   "mimetype": "text/x-python",
   "name": "python",
   "nbconvert_exporter": "python",
   "pygments_lexer": "ipython3",
   "version": "3.7.6"
  }
 },
 "nbformat": 4,
 "nbformat_minor": 4
}
