{
 "cells": [
  {
   "cell_type": "code",
   "execution_count": 10,
   "metadata": {},
   "outputs": [
    {
     "name": "stdout",
     "output_type": "stream",
     "text": [
      "enter value in degree60\n",
      "the vlaue of cosx is  0.500000433432915\n"
     ]
    }
   ],
   "source": [
    "from numpy import *\n",
    "x=radians(int(input('enter value in degree')))\n",
    "s=1\n",
    "t=1\n",
    "c=0\n",
    "while abs(cos(x)-s)>0.000001:\n",
    "    c+=2\n",
    "    t=-t*x*x/(c*(c-1))\n",
    "    s+=t\n",
    "print('the vlaue of cosx is ',s)"
   ]
  },
  {
   "cell_type": "code",
   "execution_count": null,
   "metadata": {},
   "outputs": [],
   "source": []
  }
 ],
 "metadata": {
  "kernelspec": {
   "display_name": "Python 3",
   "language": "python",
   "name": "python3"
  },
  "language_info": {
   "codemirror_mode": {
    "name": "ipython",
    "version": 3
   },
   "file_extension": ".py",
   "mimetype": "text/x-python",
   "name": "python",
   "nbconvert_exporter": "python",
   "pygments_lexer": "ipython3",
   "version": "3.7.6"
  }
 },
 "nbformat": 4,
 "nbformat_minor": 4
}
