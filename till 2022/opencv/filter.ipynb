{
 "cells": [
  {
   "cell_type": "markdown",
   "metadata": {},
   "source": [
    "gaussian filter is used for high noise\n",
    "median filter is used for salt and pepper noise\n",
    "bilateral filter is used for blurring keeping the edge sharp"
   ]
  },
  {
   "cell_type": "markdown",
   "metadata": {},
   "source": [
    "# takes lot of time for these filter\n",
    "frame=cv2.fastNlMeansDenoisingColored(frame,None,10,10,7,21) for colored image noise filter\n",
    " gray=cv2.fastNlMeansDenoising(gray,gray,3,7,21) for gray image noise filter"
   ]
  },
  {
   "cell_type": "code",
   "execution_count": 1,
   "metadata": {
    "ExecuteTime": {
     "end_time": "2022-04-16T13:23:12.465689Z",
     "start_time": "2022-04-16T13:21:50.475470Z"
    }
   },
   "outputs": [],
   "source": [
    "import cv2\n",
    "from numpy import *\n",
    "img=cv2.imread('noise.png',-1)\n",
    "kernal=ones([4,4],float32)/16\n",
    "dst=cv2.filter2D(img,-1,kernal)\n",
    "blur=cv2.blur(img,(5,5))\n",
    "gblur=cv2.GaussianBlur(img,(5,5),0)\n",
    "median=cv2.medianBlur(img,5)\n",
    "bfilter=cv2.bilateralFilter(img,9,75,75)\n",
    "titles=['original','2d convolution','blur','gussian blur','median','bilatral filter']\n",
    "image=[img,dst,blur,gblur,median,bfilter]\n",
    "for i in range(6):\n",
    "    cv2.imshow(titles[i],image[i])\n",
    "cv2.waitKey(0)\n",
    "cv2.destroyAllWindows()"
   ]
  },
  {
   "cell_type": "code",
   "execution_count": 2,
   "metadata": {
    "ExecuteTime": {
     "end_time": "2022-04-16T13:23:37.062267Z",
     "start_time": "2022-04-16T13:23:19.943241Z"
    }
   },
   "outputs": [],
   "source": [
    "img1=cv2.imread('img1.jpeg',1)\n",
    "img2=cv2.imread('img2.jpeg',1)\n",
    "diff=cv2.imread('logo.png',1)\n",
    "gray=cv2.cvtColor(diff,cv2.COLOR_BGR2GRAY)\n",
    "blur=cv2.GaussianBlur(gray,(5,5),0)\n",
    "_,thresh=cv2.threshold(blur,50,255,cv2.THRESH_BINARY)\n",
    "dilated=cv2.dilate(thresh,None,iterations=1)\n",
    "cv2.imshow('gray',gray)\n",
    "cv2.imshow('blur',blur)\n",
    "cv2.imshow('thresh',thresh)\n",
    "cv2.imshow('dilated',dilated)\n",
    "cv2.imshow('diff',diff)\n",
    "cv2.waitKey(0)\n",
    "cv2.destroyAllWindows()"
   ]
  },
  {
   "cell_type": "code",
   "execution_count": null,
   "metadata": {},
   "outputs": [],
   "source": []
  },
  {
   "cell_type": "code",
   "execution_count": null,
   "metadata": {},
   "outputs": [],
   "source": []
  }
 ],
 "metadata": {
  "kernelspec": {
   "display_name": "Python 3 (ipykernel)",
   "language": "python",
   "name": "python3"
  },
  "language_info": {
   "codemirror_mode": {
    "name": "ipython",
    "version": 3
   },
   "file_extension": ".py",
   "mimetype": "text/x-python",
   "name": "python",
   "nbconvert_exporter": "python",
   "pygments_lexer": "ipython3",
   "version": "3.9.7"
  },
  "varInspector": {
   "cols": {
    "lenName": 16,
    "lenType": 16,
    "lenVar": 40
   },
   "kernels_config": {
    "python": {
     "delete_cmd_postfix": "",
     "delete_cmd_prefix": "del ",
     "library": "var_list.py",
     "varRefreshCmd": "print(var_dic_list())"
    },
    "r": {
     "delete_cmd_postfix": ") ",
     "delete_cmd_prefix": "rm(",
     "library": "var_list.r",
     "varRefreshCmd": "cat(var_dic_list()) "
    }
   },
   "types_to_exclude": [
    "module",
    "function",
    "builtin_function_or_method",
    "instance",
    "_Feature"
   ],
   "window_display": false
  }
 },
 "nbformat": 4,
 "nbformat_minor": 4
}
