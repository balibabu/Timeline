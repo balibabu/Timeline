{
 "cells": [
  {
   "cell_type": "markdown",
   "metadata": {},
   "source": [
    "# to detect template in image follow these steps:\n",
    "1: load img\n",
    "2.load template and gray image of img\n",
    "3.use matchTemplate function of cv2 and store in result\n",
    "4.take threshold value between 0 & 1\n",
    "5.use where function of numpy if result>threshold and store it in loc\n",
    "6.find point from loc using loop and draw rectangle using it"
   ]
  },
  {
   "cell_type": "code",
   "execution_count": 2,
   "metadata": {},
   "outputs": [
    {
     "name": "stdout",
     "output_type": "stream",
     "text": [
      "(array([82], dtype=int64), array([217], dtype=int64))\n"
     ]
    }
   ],
   "source": [
    "import cv2\n",
    "from numpy import *\n",
    "img=cv2.imread('messi5.jpg',1)\n",
    "template=cv2.imread('template.jpg',0)\n",
    "gray=cv2.cvtColor(img,cv2.COLOR_BGR2GRAY)\n",
    "w,h=template.shape[::-1]\n",
    "res=cv2.matchTemplate(gray,template,cv2.TM_CCOEFF_NORMED)\n",
    "threshold=0.96\n",
    "loc=where(res>=threshold)\n",
    "print(loc)\n",
    "for pt in zip(*loc[::-1]):\n",
    "    cv2.rectangle(img,pt,(pt[0]+w,pt[1]+h),(0,255,0),2)\n",
    "cv2.imshow('img',img)\n",
    "cv2.imshow('template',template)\n",
    "cv2.waitKey(0)\n",
    "cv2.destroyAllWindows()"
   ]
  },
  {
   "cell_type": "code",
   "execution_count": 6,
   "metadata": {},
   "outputs": [],
   "source": [
    "import cv2\n",
    "from numpy import *\n",
    "img=cv2.imread('penfox.png',1)\n",
    "#img=img.resize((1080,720))\n",
    "gray=cv2.cvtColor(img,cv2.COLOR_BGR2GRAY)\n",
    "fox=cv2.imread('fox.png',0)\n",
    "pen=cv2.imread('pen.png',0)\n",
    "res=cv2.matchTemplate(gray,fox,cv2.TM_CCOEFF_NORMED)\n",
    "threshold=0.8\n",
    "loc=where(res>=threshold)\n",
    "for pt in zip(*loc[::-1]):\n",
    "    cv2.putText(img,'Fox',pt,cv2.FONT_HERSHEY_SIMPLEX,3,(0,255,0),10)\n",
    "    break\n",
    "res=cv2.matchTemplate(gray,pen,cv2.TM_CCOEFF_NORMED)\n",
    "threshold=0.6\n",
    "loc=where(res>=threshold)\n",
    "for pt in zip(*loc[::-1]):\n",
    "    cv2.putText(img,'Penguine',(pt[0]-100,pt[1]),cv2.FONT_HERSHEY_SIMPLEX,2,(0,255,0),5)\n",
    "    break\n",
    "cv2.imshow('display',img)\n",
    "cv2.waitKey(0)\n",
    "cv2.destroyAllWindows()"
   ]
  },
  {
   "cell_type": "code",
   "execution_count": null,
   "metadata": {},
   "outputs": [],
   "source": []
  }
 ],
 "metadata": {
  "kernelspec": {
   "display_name": "Python 3",
   "language": "python",
   "name": "python3"
  },
  "language_info": {
   "codemirror_mode": {
    "name": "ipython",
    "version": 3
   },
   "file_extension": ".py",
   "mimetype": "text/x-python",
   "name": "python",
   "nbconvert_exporter": "python",
   "pygments_lexer": "ipython3",
   "version": "3.7.6"
  }
 },
 "nbformat": 4,
 "nbformat_minor": 4
}
