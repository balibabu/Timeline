{
 "cells": [
  {
   "cell_type": "code",
   "execution_count": 10,
   "metadata": {},
   "outputs": [],
   "source": [
    "import cv2"
   ]
  },
  {
   "cell_type": "code",
   "execution_count": 17,
   "metadata": {
    "ExecuteTime": {
     "end_time": "2022-04-16T13:15:13.691311Z",
     "start_time": "2022-04-16T13:15:13.663753Z"
    }
   },
   "outputs": [],
   "source": [
    "def design(img):\n",
    "    img=cv2.circle(img,(320,240),240,(randint(0,256),randint(0,256),randint(0,256)),-1)\n",
    "    img=cv2.circle(img,(320,240),10,(randint(0,256),randint(0,256),randint(0,256)),-1)\n",
    "    img=cv2.line(img,(320,0),(320,15),(randint(0,256),randint(0,256),randint(0,256)),10)\n",
    "    img=cv2.line(img,(545,240),(560,240),(randint(0,256),randint(0,256),randint(0,256)),10)\n",
    "    img=cv2.line(img,(320,465),(320,480),(randint(0,256),randint(0,256),randint(0,256)),10)\n",
    "    img=cv2.line(img,(80,240),(95,240),(randint(0,256),randint(0,256),randint(0,256)),10)\n",
    "    for i in range(12):\n",
    "        img=cv2.circle(img,(320+int(240*cos(radians(i*30-90))),240+int(240*sin(radians(i*30-90)))),5,(0,0,0),-1)\n",
    "    return img"
   ]
  },
  {
   "cell_type": "code",
   "execution_count": 21,
   "metadata": {
    "ExecuteTime": {
     "end_time": "2022-04-16T13:15:14.460247Z",
     "start_time": "2022-04-16T13:15:14.089261Z"
    }
   },
   "outputs": [],
   "source": [
    "from random import *\n",
    "from time import sleep\n",
    "from cv2 import *\n",
    "from numpy import *\n",
    "from math import *\n",
    "h=0\n",
    "i=0\n",
    "while True:\n",
    "    img=zeros([480,640,3],uint8)\n",
    "    img[:]=[randint(0,256),randint(0,256),randint(0,256)]\n",
    "    img=design(img)\n",
    "    if (i)%60==0 and i!=0:\n",
    "        h+=1\n",
    "    img=cv2.arrowedLine(img,(320,240),(320+int(150*cos(radians(h*6-90))),240+int(150*sin(radians(h*6-90)))),(randint(0,256),randint(0,256),randint(0,256)),5)\n",
    "    img=cv2.arrowedLine(img,(320,240),(320+int(200*cos(radians(i*6-90))),240+int(200*sin(radians(i*6-90)))),(randint(0,256),randint(0,256),randint(0,256)),5)\n",
    "    cv2.imshow('display',img)\n",
    "    key=cv2.waitKey(1) & 0xFF\n",
    "    if key==27:\n",
    "        break\n",
    "    i+=1\n",
    "    sleep(.5)\n",
    "cv2.destroyAllWindows()"
   ]
  },
  {
   "cell_type": "code",
   "execution_count": null,
   "metadata": {},
   "outputs": [],
   "source": []
  },
  {
   "cell_type": "code",
   "execution_count": null,
   "metadata": {},
   "outputs": [],
   "source": []
  }
 ],
 "metadata": {
  "kernelspec": {
   "display_name": "Python 3.9.12 ('base')",
   "language": "python",
   "name": "python3"
  },
  "language_info": {
   "codemirror_mode": {
    "name": "ipython",
    "version": 3
   },
   "file_extension": ".py",
   "mimetype": "text/x-python",
   "name": "python",
   "nbconvert_exporter": "python",
   "pygments_lexer": "ipython3",
   "version": "3.9.12"
  },
  "varInspector": {
   "cols": {
    "lenName": 16,
    "lenType": 16,
    "lenVar": 40
   },
   "kernels_config": {
    "python": {
     "delete_cmd_postfix": "",
     "delete_cmd_prefix": "del ",
     "library": "var_list.py",
     "varRefreshCmd": "print(var_dic_list())"
    },
    "r": {
     "delete_cmd_postfix": ") ",
     "delete_cmd_prefix": "rm(",
     "library": "var_list.r",
     "varRefreshCmd": "cat(var_dic_list()) "
    }
   },
   "types_to_exclude": [
    "module",
    "function",
    "builtin_function_or_method",
    "instance",
    "_Feature"
   ],
   "window_display": false
  },
  "vscode": {
   "interpreter": {
    "hash": "649e9a488baa9f755be1bd774174f13c00c6eb61d6f5988e2904ab6e22ac3fc0"
   }
  }
 },
 "nbformat": 4,
 "nbformat_minor": 4
}
