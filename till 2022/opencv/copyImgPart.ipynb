{
 "cells": [
  {
   "cell_type": "code",
   "execution_count": 2,
   "metadata": {},
   "outputs": [
    {
     "name": "stdout",
     "output_type": "stream",
     "text": [
      "(480, 640, 3)\n",
      "921600\n",
      "uint8\n"
     ]
    }
   ],
   "source": [
    "import cv2\n",
    "from numpy import *\n",
    "img=cv2.imread('bali.jpg',1)\n",
    "print(img.shape) #returns a tuple of no. of rows,columns and channels\n",
    "print(img.size) #returns total no. of pixels in the image including * b,g,r\n",
    "print(img.dtype) #returns image datatype\n",
    "b,g,r=cv2.split(img) #this splits img in three colors\n",
    "img=cv2.merge((b,g,r)) #this merge three colors in a image\n",
    "cv2.imshow('showing',img)\n",
    "cv2.waitKey(0)\n",
    "cv2.destroyAllWindows()"
   ]
  },
  {
   "cell_type": "markdown",
   "metadata": {},
   "source": [
    "copying image and pasting somewhere"
   ]
  },
  {
   "cell_type": "code",
   "execution_count": 3,
   "metadata": {},
   "outputs": [],
   "source": [
    "img=cv2.imread('messi5.jpg',1)\n",
    "ball=img[280:340, 330:390]\n",
    "img[273:333, 100:160]=ball\n",
    "cv2.imshow('displaying',img)\n",
    "cv2.waitKey(0)\n",
    "cv2.destroyAllWindows()"
   ]
  },
  {
   "cell_type": "code",
   "execution_count": 4,
   "metadata": {},
   "outputs": [],
   "source": [
    "img2=cv2.imread('lena.jpg',1)\n",
    "img1=cv2.imread('bali.jpg',1)\n",
    "img2=cv2.resize(img2,(640,480))\n",
    "img3=cv2.add(img2,img1)\n",
    "cv2.imshow('displaying',img3)\n",
    "cv2.waitKey(0)\n",
    "cv2.destroyAllWindows()"
   ]
  },
  {
   "cell_type": "code",
   "execution_count": null,
   "metadata": {},
   "outputs": [],
   "source": []
  }
 ],
 "metadata": {
  "kernelspec": {
   "display_name": "Python 3",
   "language": "python",
   "name": "python3"
  },
  "language_info": {
   "codemirror_mode": {
    "name": "ipython",
    "version": 3
   },
   "file_extension": ".py",
   "mimetype": "text/x-python",
   "name": "python",
   "nbconvert_exporter": "python",
   "pygments_lexer": "ipython3",
   "version": "3.7.6"
  }
 },
 "nbformat": 4,
 "nbformat_minor": 4
}
