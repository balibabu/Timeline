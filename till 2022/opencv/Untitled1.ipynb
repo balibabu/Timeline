{
 "cells": [
  {
   "cell_type": "code",
   "execution_count": 1,
   "metadata": {
    "ExecuteTime": {
     "end_time": "2022-04-15T14:54:22.271822Z",
     "start_time": "2022-04-15T14:54:06.057091Z"
    }
   },
   "outputs": [],
   "source": [
    "import cv2\n",
    "from numpy import *\n",
    "def match(gray,template,threshold,string):\n",
    "    res=cv2.matchTemplate(gray,template,cv2.TM_CCOEFF_NORMED)\n",
    "    loc=where(res>=threshold)\n",
    "    for pt in zip(*loc[::-1]):\n",
    "        cv2.putText(img,string,(pt[0],pt[1]),cv2.FONT_HERSHEY_SIMPLEX,1,(0,255,0),3)\n",
    "        return True\n",
    "    return False\n",
    "\n",
    "img=cv2.imread('penfox.png',1)\n",
    "gray=cv2.cvtColor(img,cv2.COLOR_BGR2GRAY)\n",
    "fox=cv2.imread('fox.png',0)\n",
    "pen=cv2.imread('pen.png',0)\n",
    "_=match(gray,fox,0.6,'fox')\n",
    "_=match(gray,pen,0.8,'penguine')\n",
    "cv2.imshow('display',img)\n",
    "cv2.waitKey(0)\n",
    "cv2.destroyAllWindows()"
   ]
  },
  {
   "cell_type": "code",
   "execution_count": 2,
   "metadata": {},
   "outputs": [],
   "source": [
    "cap=cv2.VideoCapture('meme.mp4')\n",
    "fox=cv2.imread('data1.png',0)\n",
    "pen=cv2.imread('pen1.png',0)\n",
    "while cap.isOpened():\n",
    "    ret,img=cap.read()\n",
    "    if ret==True:\n",
    "        gray=cv2.cvtColor(img,cv2.COLOR_BGR2GRAY)\n",
    "        _=match(gray,pen,0.5,'pen')\n",
    "        cv2.imshow('video',img)\n",
    "        if cv2.waitKey(1) & 0xFF==27:\n",
    "            break\n",
    "    else:\n",
    "        break\n",
    "cap.release()\n",
    "cv2.destroyAllWindows()"
   ]
  },
  {
   "cell_type": "code",
   "execution_count": 53,
   "metadata": {},
   "outputs": [],
   "source": [
    "cap=cv2.VideoCapture('meme.mp4')\n",
    "fox=cv2.imread('fox1.png',0)\n",
    "while cap.isOpened():\n",
    "    ret,img=cap.read()\n",
    "    if ret==True:\n",
    "        gray=cv2.cvtColor(img,cv2.COLOR_BGR2GRAY)\n",
    "        x=1\n",
    "        while match(gray,fox,0.5,'fox')==False and x<6:\n",
    "            x+=1\n",
    "            file='data{}.png'.format(x)\n",
    "            fox=cv2.imread(file,0)\n",
    "            \n",
    "        cv2.imshow('video',img)\n",
    "        if cv2.waitKey(1) & 0xFF==27:\n",
    "            break\n",
    "    else:\n",
    "        break\n",
    "cap.release()\n",
    "cv2.destroyAllWindows()"
   ]
  },
  {
   "cell_type": "code",
   "execution_count": null,
   "metadata": {},
   "outputs": [],
   "source": []
  }
 ],
 "metadata": {
  "kernelspec": {
   "display_name": "Python 3 (ipykernel)",
   "language": "python",
   "name": "python3"
  },
  "language_info": {
   "codemirror_mode": {
    "name": "ipython",
    "version": 3
   },
   "file_extension": ".py",
   "mimetype": "text/x-python",
   "name": "python",
   "nbconvert_exporter": "python",
   "pygments_lexer": "ipython3",
   "version": "3.9.7"
  },
  "varInspector": {
   "cols": {
    "lenName": 16,
    "lenType": 16,
    "lenVar": 40
   },
   "kernels_config": {
    "python": {
     "delete_cmd_postfix": "",
     "delete_cmd_prefix": "del ",
     "library": "var_list.py",
     "varRefreshCmd": "print(var_dic_list())"
    },
    "r": {
     "delete_cmd_postfix": ") ",
     "delete_cmd_prefix": "rm(",
     "library": "var_list.r",
     "varRefreshCmd": "cat(var_dic_list()) "
    }
   },
   "types_to_exclude": [
    "module",
    "function",
    "builtin_function_or_method",
    "instance",
    "_Feature"
   ],
   "window_display": false
  }
 },
 "nbformat": 4,
 "nbformat_minor": 4
}
