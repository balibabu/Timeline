{
 "cells": [
  {
   "cell_type": "code",
   "execution_count": 2,
   "metadata": {
    "ExecuteTime": {
     "end_time": "2022-04-16T13:13:41.573647Z",
     "start_time": "2022-04-16T13:13:41.548251Z"
    }
   },
   "outputs": [
    {
     "ename": "NameError",
     "evalue": "name 'VideoCapture' is not defined",
     "output_type": "error",
     "traceback": [
      "\u001b[1;31m---------------------------------------------------------------------------\u001b[0m",
      "\u001b[1;31mNameError\u001b[0m                                 Traceback (most recent call last)",
      "\u001b[1;32m~\\AppData\\Local\\Temp/ipykernel_8936/2266527279.py\u001b[0m in \u001b[0;36m<module>\u001b[1;34m\u001b[0m\n\u001b[0;32m      3\u001b[0m \u001b[1;32mdef\u001b[0m \u001b[0mnothing\u001b[0m\u001b[1;33m(\u001b[0m\u001b[0mx\u001b[0m\u001b[1;33m)\u001b[0m\u001b[1;33m:\u001b[0m\u001b[1;33m\u001b[0m\u001b[1;33m\u001b[0m\u001b[0m\n\u001b[0;32m      4\u001b[0m     \u001b[1;32mpass\u001b[0m\u001b[1;33m\u001b[0m\u001b[1;33m\u001b[0m\u001b[0m\n\u001b[1;32m----> 5\u001b[1;33m \u001b[0mcap\u001b[0m\u001b[1;33m=\u001b[0m\u001b[0mVideoCapture\u001b[0m\u001b[1;33m(\u001b[0m\u001b[1;36m0\u001b[0m\u001b[1;33m)\u001b[0m\u001b[1;33m;\u001b[0m\u001b[1;33m\u001b[0m\u001b[1;33m\u001b[0m\u001b[0m\n\u001b[0m\u001b[0;32m      6\u001b[0m \u001b[0mnamedWindow\u001b[0m\u001b[1;33m(\u001b[0m\u001b[1;34m'trackbar'\u001b[0m\u001b[1;33m)\u001b[0m\u001b[1;33m\u001b[0m\u001b[1;33m\u001b[0m\u001b[0m\n\u001b[0;32m      7\u001b[0m \u001b[0mcreateTrackbar\u001b[0m\u001b[1;33m(\u001b[0m\u001b[1;34m\"LH\"\u001b[0m\u001b[1;33m,\u001b[0m\u001b[1;34m'trackbar'\u001b[0m\u001b[1;33m,\u001b[0m\u001b[1;36m0\u001b[0m\u001b[1;33m,\u001b[0m\u001b[1;36m255\u001b[0m\u001b[1;33m,\u001b[0m\u001b[0mnothing\u001b[0m\u001b[1;33m)\u001b[0m\u001b[1;33m\u001b[0m\u001b[1;33m\u001b[0m\u001b[0m\n",
      "\u001b[1;31mNameError\u001b[0m: name 'VideoCapture' is not defined"
     ]
    }
   ],
   "source": [
    "from cv2 import*\n",
    "from numpy import *\n",
    "def nothing(x):\n",
    "    pass\n",
    "cap=VideoCapture(0);\n",
    "namedWindow('trackbar')\n",
    "createTrackbar(\"LH\",'trackbar',0,255,nothing)\n",
    "createTrackbar('LS','trackbar',0,255,nothing)\n",
    "createTrackbar('LV','trackbar',0,255,nothing)\n",
    "createTrackbar('UH','trackbar',0,255,nothing)\n",
    "createTrackbar('US','trackbar',0,255,nothing)\n",
    "createTrackbar('UV','trackbar',0,255,nothing)\n",
    "\n",
    "while True:\n",
    "    _, img=cap.read()\n",
    "    hsv=cvtColor(img,COLOR_BGR2HSV)\n",
    "    l_h=getTrackbarPos('LH','trackbar')\n",
    "    l_s=getTrackbarPos('LS','trackbar')\n",
    "    l_v=getTrackbarPos('LV','trackbar')\n",
    "    u_h=getTrackbarPos('UH','trackbar')\n",
    "    u_s=getTrackbarPos('US','trackbar')\n",
    "    u_v=getTrackbarPos('UV','trackbar')\n",
    "    l_b=array([l_h,l_s,l_v])\n",
    "    u_b=array([u_h,u_s,u_v])\n",
    "    mask=inRange(hsv,l_b,u_b)\n",
    "    res=cv2.bitwise_and(img,img, mask=mask)\n",
    "    imshow('mask',mask)\n",
    "    imshow('image',img)\n",
    "    imshow('result',res)\n",
    "    k=waitKey(1)\n",
    "    if k==27:\n",
    "        break\n",
    "cap.release()\n",
    "destroyAllWindows()"
   ]
  },
  {
   "cell_type": "code",
   "execution_count": 3,
   "metadata": {
    "ExecuteTime": {
     "end_time": "2022-04-16T13:13:49.880964Z",
     "start_time": "2022-04-16T13:13:49.849907Z"
    }
   },
   "outputs": [
    {
     "ename": "NameError",
     "evalue": "name 'namedWindow' is not defined",
     "output_type": "error",
     "traceback": [
      "\u001b[1;31m---------------------------------------------------------------------------\u001b[0m",
      "\u001b[1;31mNameError\u001b[0m                                 Traceback (most recent call last)",
      "\u001b[1;32m~\\AppData\\Local\\Temp/ipykernel_8936/937356699.py\u001b[0m in \u001b[0;36m<module>\u001b[1;34m\u001b[0m\n\u001b[0;32m      3\u001b[0m \u001b[1;32mdef\u001b[0m \u001b[0mnothing\u001b[0m\u001b[1;33m(\u001b[0m\u001b[0mx\u001b[0m\u001b[1;33m)\u001b[0m\u001b[1;33m:\u001b[0m\u001b[1;33m\u001b[0m\u001b[1;33m\u001b[0m\u001b[0m\n\u001b[0;32m      4\u001b[0m     \u001b[1;32mpass\u001b[0m\u001b[1;33m\u001b[0m\u001b[1;33m\u001b[0m\u001b[0m\n\u001b[1;32m----> 5\u001b[1;33m \u001b[0mnamedWindow\u001b[0m\u001b[1;33m(\u001b[0m\u001b[1;34m'trackbar'\u001b[0m\u001b[1;33m)\u001b[0m\u001b[1;33m\u001b[0m\u001b[1;33m\u001b[0m\u001b[0m\n\u001b[0m\u001b[0;32m      6\u001b[0m \u001b[0mcreateTrackbar\u001b[0m\u001b[1;33m(\u001b[0m\u001b[1;34m\"LH\"\u001b[0m\u001b[1;33m,\u001b[0m\u001b[1;34m'trackbar'\u001b[0m\u001b[1;33m,\u001b[0m\u001b[1;36m0\u001b[0m\u001b[1;33m,\u001b[0m\u001b[1;36m255\u001b[0m\u001b[1;33m,\u001b[0m\u001b[0mnothing\u001b[0m\u001b[1;33m)\u001b[0m\u001b[1;33m\u001b[0m\u001b[1;33m\u001b[0m\u001b[0m\n\u001b[0;32m      7\u001b[0m \u001b[0mcreateTrackbar\u001b[0m\u001b[1;33m(\u001b[0m\u001b[1;34m'LS'\u001b[0m\u001b[1;33m,\u001b[0m\u001b[1;34m'trackbar'\u001b[0m\u001b[1;33m,\u001b[0m\u001b[1;36m0\u001b[0m\u001b[1;33m,\u001b[0m\u001b[1;36m255\u001b[0m\u001b[1;33m,\u001b[0m\u001b[0mnothing\u001b[0m\u001b[1;33m)\u001b[0m\u001b[1;33m\u001b[0m\u001b[1;33m\u001b[0m\u001b[0m\n",
      "\u001b[1;31mNameError\u001b[0m: name 'namedWindow' is not defined"
     ]
    }
   ],
   "source": [
    "from cv2 import*\n",
    "from numpy import *\n",
    "def nothing(x):\n",
    "    pass\n",
    "namedWindow('trackbar')\n",
    "createTrackbar(\"LH\",'trackbar',0,255,nothing)\n",
    "createTrackbar('LS','trackbar',0,255,nothing)\n",
    "createTrackbar('LV','trackbar',0,255,nothing)\n",
    "createTrackbar('UH','trackbar',255,255,nothing)\n",
    "createTrackbar('US','trackbar',255,255,nothing)\n",
    "createTrackbar('UV','trackbar',255,255,nothing)\n",
    "\n",
    "while True:\n",
    "    img=imread('colors.jpeg')\n",
    "    hsv=cvtColor(img,COLOR_BGR2HSV)\n",
    "    l_h=getTrackbarPos('LH','trackbar')\n",
    "    l_s=getTrackbarPos('LS','trackbar')\n",
    "    l_v=getTrackbarPos('LV','trackbar')\n",
    "    u_h=getTrackbarPos('UH','trackbar')\n",
    "    u_s=getTrackbarPos('US','trackbar')\n",
    "    u_v=getTrackbarPos('UV','trackbar')\n",
    "    l_b=array([l_h,l_s,l_v])\n",
    "    u_b=array([u_h,u_s,u_v])\n",
    "    mask=inRange(hsv,l_b,u_b)\n",
    "    res=cv2.bitwise_and(img,img, mask=mask)\n",
    "    imshow('mask',mask)\n",
    "    imshow('image',img)\n",
    "    imshow('result',res)\n",
    "    k=waitKey(1)\n",
    "    if k==27:\n",
    "        break\n",
    "destroyAllWindows()"
   ]
  },
  {
   "cell_type": "code",
   "execution_count": null,
   "metadata": {},
   "outputs": [],
   "source": []
  },
  {
   "cell_type": "code",
   "execution_count": null,
   "metadata": {},
   "outputs": [],
   "source": []
  }
 ],
 "metadata": {
  "kernelspec": {
   "display_name": "Python 3 (ipykernel)",
   "language": "python",
   "name": "python3"
  },
  "language_info": {
   "codemirror_mode": {
    "name": "ipython",
    "version": 3
   },
   "file_extension": ".py",
   "mimetype": "text/x-python",
   "name": "python",
   "nbconvert_exporter": "python",
   "pygments_lexer": "ipython3",
   "version": "3.9.7"
  },
  "varInspector": {
   "cols": {
    "lenName": 16,
    "lenType": 16,
    "lenVar": 40
   },
   "kernels_config": {
    "python": {
     "delete_cmd_postfix": "",
     "delete_cmd_prefix": "del ",
     "library": "var_list.py",
     "varRefreshCmd": "print(var_dic_list())"
    },
    "r": {
     "delete_cmd_postfix": ") ",
     "delete_cmd_prefix": "rm(",
     "library": "var_list.r",
     "varRefreshCmd": "cat(var_dic_list()) "
    }
   },
   "types_to_exclude": [
    "module",
    "function",
    "builtin_function_or_method",
    "instance",
    "_Feature"
   ],
   "window_display": false
  }
 },
 "nbformat": 4,
 "nbformat_minor": 4
}
