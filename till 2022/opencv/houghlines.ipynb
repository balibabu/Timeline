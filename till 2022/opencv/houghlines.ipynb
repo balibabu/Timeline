{
 "cells": [
  {
   "cell_type": "markdown",
   "metadata": {},
   "source": [
    "# houghLines method to detect and draw lines"
   ]
  },
  {
   "cell_type": "code",
   "execution_count": 1,
   "metadata": {
    "ExecuteTime": {
     "end_time": "2022-04-16T13:26:02.197581Z",
     "start_time": "2022-04-16T13:25:22.436834Z"
    }
   },
   "outputs": [],
   "source": [
    "import cv2\n",
    "from numpy import *\n",
    "img=cv2.imread('sudoku.png',1)\n",
    "gray=cv2.cvtColor(img,cv2.COLOR_BGR2GRAY)\n",
    "edge=cv2.Canny(gray,108,22,apertureSize=3)\n",
    "lines=cv2.HoughLines(edge,1,pi/180,200)\n",
    "for line in lines:\n",
    "    rho,theta=line[0]\n",
    "    a=cos(theta)\n",
    "    b=sin(theta)\n",
    "    x0=a*rho\n",
    "    y0=b*rho\n",
    "    x1=int(x0+1000*(-b))\n",
    "    y1=int(y0+1000*a)\n",
    "    x2=int(x0-1000*(-b))\n",
    "    y2=int(y0-1000*a)\n",
    "    cv2.line(img,(x1,y1),(x2,y2),(0,255,0),2)\n",
    "    \n",
    "cv2.imshow('original',img)\n",
    "cv2.imshow('edge',edge)\n",
    "cv2.waitKey(0)\n",
    "cv2.destroyAllWindows()"
   ]
  },
  {
   "cell_type": "markdown",
   "metadata": {},
   "source": [
    "# houghLinesP method (probablistic method)"
   ]
  },
  {
   "cell_type": "code",
   "execution_count": 2,
   "metadata": {
    "ExecuteTime": {
     "end_time": "2022-04-15T17:03:52.343649Z",
     "start_time": "2022-04-15T17:03:40.235927Z"
    }
   },
   "outputs": [],
   "source": [
    "import cv2\n",
    "from numpy import *\n",
    "def roi(img,vertices):\n",
    "    mask=zeros_like(img)\n",
    "    match_mask_color=255\n",
    "    cv2.fillPoly(mask,vertices,match_mask_color)\n",
    "    masked_image=cv2.bitwise_and(img,mask)\n",
    "    return masked_image\n",
    "def drawLine(image,lines):\n",
    "    blank_img=zeros([image.shape[0],image.shape[1],3],uint8)\n",
    "    for line in lines:\n",
    "        for x1,y1,x2,y2 in line:\n",
    "            cv2.line(blank_img,(x1,y1),(x2,y2),(0,255,0),3)\n",
    "    image=cv2.addWeighted(image,0.8,blank_img,1,0.0)\n",
    "    return image\n",
    "\n",
    "img=cv2.imread('road.jpg',1)\n",
    "height=img.shape[0]\n",
    "width=img.shape[1]\n",
    "ro_vertices=[(0,height),(width/2,3*height/5),(width,height)]\n",
    "gray=cv2.cvtColor(img,cv2.COLOR_BGR2GRAY)\n",
    "edge=cv2.Canny(gray,255,255)\n",
    "croped_img=roi(edge,array([ro_vertices],int32))\n",
    "lines = cv2.HoughLinesP(edge,rho=6,theta=pi/60,threshold=160,lines=40,minLineLength=100,maxLineGap=10)\n",
    "finalImg=drawLine(img,lines)\n",
    "cv2.imshow('croped_img',finalImg)\n",
    "cv2.waitKey(0)\n",
    "cv2.destroyAllWindows()"
   ]
  },
  {
   "cell_type": "code",
   "execution_count": 3,
   "metadata": {
    "ExecuteTime": {
     "end_time": "2022-04-15T17:03:55.388690Z",
     "start_time": "2022-04-15T17:03:55.367687Z"
    }
   },
   "outputs": [],
   "source": [
    "lines = cv2.HoughLinesP(edge,rho=6,theta=pi/60,threshold=160,lines=40,minLineLength=100,maxLineGap=10)\n",
    "for line in lines:\n",
    "    x1,y1,x2,y2=line[0]\n",
    "    cv2.line(img,(x1,y1),(x2,y2),(0,255,0),2)"
   ]
  },
  {
   "cell_type": "code",
   "execution_count": null,
   "metadata": {},
   "outputs": [],
   "source": []
  }
 ],
 "metadata": {
  "kernelspec": {
   "display_name": "Python 3 (ipykernel)",
   "language": "python",
   "name": "python3"
  },
  "language_info": {
   "codemirror_mode": {
    "name": "ipython",
    "version": 3
   },
   "file_extension": ".py",
   "mimetype": "text/x-python",
   "name": "python",
   "nbconvert_exporter": "python",
   "pygments_lexer": "ipython3",
   "version": "3.9.7"
  },
  "varInspector": {
   "cols": {
    "lenName": 16,
    "lenType": 16,
    "lenVar": 40
   },
   "kernels_config": {
    "python": {
     "delete_cmd_postfix": "",
     "delete_cmd_prefix": "del ",
     "library": "var_list.py",
     "varRefreshCmd": "print(var_dic_list())"
    },
    "r": {
     "delete_cmd_postfix": ") ",
     "delete_cmd_prefix": "rm(",
     "library": "var_list.r",
     "varRefreshCmd": "cat(var_dic_list()) "
    }
   },
   "types_to_exclude": [
    "module",
    "function",
    "builtin_function_or_method",
    "instance",
    "_Feature"
   ],
   "window_display": false
  }
 },
 "nbformat": 4,
 "nbformat_minor": 4
}
