{
 "cells": [
  {
   "cell_type": "markdown",
   "metadata": {},
   "source": [
    "there are 4 technique of background subtractor"
   ]
  },
  {
   "cell_type": "code",
   "execution_count": 2,
   "metadata": {
    "ExecuteTime": {
     "end_time": "2022-04-15T09:26:37.870633Z",
     "start_time": "2022-04-15T09:26:28.021087Z"
    }
   },
   "outputs": [],
   "source": [
    "import cv2\n",
    "from numpy import *\n",
    "cap=cv2.VideoCapture('vtest.avi')\n",
    "fgbg=cv2.createBackgroundSubtractorMOG2()\n",
    "while cap.isOpened():\n",
    "    ret,frame=cap.read()\n",
    "    if ret:\n",
    "        cv2.imshow('frame',frame)\n",
    "        fgmask=fgbg.apply(frame)\n",
    "        fgmask=cv2.medianBlur(fgmask,5)\n",
    "        cv2.imshow('fgbg',fgmask)\n",
    "        if cv2.waitKey(1) & 0xFF ==27:\n",
    "            break\n",
    "    else:\n",
    "        break\n",
    "cap.release()\n",
    "cv2.destroyAllWindows()\n"
   ]
  },
  {
   "cell_type": "markdown",
   "metadata": {},
   "source": [
    "background subtractor made by myself"
   ]
  },
  {
   "cell_type": "code",
   "execution_count": 24,
   "metadata": {},
   "outputs": [],
   "source": [
    "import cv2\n",
    "from numpy import *\n",
    "cap=cv2.VideoCapture('vtest.avi')\n",
    "ret,frame1=cap.read()\n",
    "ret,frame2=cap.read()\n",
    "kernal=ones([3,3],uint8)\n",
    "while cap.isOpened():\n",
    "    if ret:\n",
    "        frame=cv2.absdiff(frame1,frame2)\n",
    "        gray=cv2.cvtColor(frame,cv2.COLOR_BGR2GRAY)\n",
    "        _,thres=cv2.threshold(gray,20,255,cv2.THRESH_BINARY)\n",
    "        dilation=cv2.dilate(thres,kernal,iterations=3)\n",
    "        cv2.imshow('frame',dilation)\n",
    "        if cv2.waitKey(1) & 0xFF ==27:\n",
    "            break\n",
    "        frame1=frame2\n",
    "        ret,frame2=cap.read()\n",
    "    else:\n",
    "        break\n",
    "cap.release()\n",
    "cv2.destroyAllWindows()\n"
   ]
  }
 ],
 "metadata": {
  "kernelspec": {
   "display_name": "Python 3 (ipykernel)",
   "language": "python",
   "name": "python3"
  },
  "language_info": {
   "codemirror_mode": {
    "name": "ipython",
    "version": 3
   },
   "file_extension": ".py",
   "mimetype": "text/x-python",
   "name": "python",
   "nbconvert_exporter": "python",
   "pygments_lexer": "ipython3",
   "version": "3.9.7"
  },
  "varInspector": {
   "cols": {
    "lenName": 16,
    "lenType": 16,
    "lenVar": 40
   },
   "kernels_config": {
    "python": {
     "delete_cmd_postfix": "",
     "delete_cmd_prefix": "del ",
     "library": "var_list.py",
     "varRefreshCmd": "print(var_dic_list())"
    },
    "r": {
     "delete_cmd_postfix": ") ",
     "delete_cmd_prefix": "rm(",
     "library": "var_list.r",
     "varRefreshCmd": "cat(var_dic_list()) "
    }
   },
   "types_to_exclude": [
    "module",
    "function",
    "builtin_function_or_method",
    "instance",
    "_Feature"
   ],
   "window_display": false
  }
 },
 "nbformat": 4,
 "nbformat_minor": 4
}
