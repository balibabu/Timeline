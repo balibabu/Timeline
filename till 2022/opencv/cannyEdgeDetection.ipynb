{
 "cells": [
  {
   "cell_type": "code",
   "execution_count": 1,
   "metadata": {
    "ExecuteTime": {
     "end_time": "2022-04-16T13:09:00.762326Z",
     "start_time": "2022-04-16T13:08:51.084669Z"
    }
   },
   "outputs": [],
   "source": [
    "import cv2\n",
    "from numpy import *\n",
    "def nothing(x):\n",
    "    pass\n",
    "img=cv2.imread('road.jpg',0)\n",
    "cv2.namedWindow('trackbar')\n",
    "cv2.createTrackbar('th1','trackbar',0,255,nothing)\n",
    "cv2.createTrackbar('th2','trackbar',0,255,nothing)\n",
    "while True:\n",
    "    thres1=cv2.getTrackbarPos('th1','trackbar')\n",
    "    thres2=cv2.getTrackbarPos('th2','trackbar')\n",
    "    canny=cv2.Canny(img,thres1,thres2)\n",
    "    cv2.imshow('original',img)\n",
    "    cv2.imshow('edgecanny',canny)\n",
    "    if cv2.waitKey(1) & 0xFF == 27:\n",
    "        break\n",
    "cv2.destroyAllWindows()"
   ]
  },
  {
   "cell_type": "code",
   "execution_count": null,
   "metadata": {},
   "outputs": [],
   "source": []
  }
 ],
 "metadata": {
  "kernelspec": {
   "display_name": "Python 3 (ipykernel)",
   "language": "python",
   "name": "python3"
  },
  "language_info": {
   "codemirror_mode": {
    "name": "ipython",
    "version": 3
   },
   "file_extension": ".py",
   "mimetype": "text/x-python",
   "name": "python",
   "nbconvert_exporter": "python",
   "pygments_lexer": "ipython3",
   "version": "3.9.7"
  },
  "varInspector": {
   "cols": {
    "lenName": 16,
    "lenType": 16,
    "lenVar": 40
   },
   "kernels_config": {
    "python": {
     "delete_cmd_postfix": "",
     "delete_cmd_prefix": "del ",
     "library": "var_list.py",
     "varRefreshCmd": "print(var_dic_list())"
    },
    "r": {
     "delete_cmd_postfix": ") ",
     "delete_cmd_prefix": "rm(",
     "library": "var_list.r",
     "varRefreshCmd": "cat(var_dic_list()) "
    }
   },
   "types_to_exclude": [
    "module",
    "function",
    "builtin_function_or_method",
    "instance",
    "_Feature"
   ],
   "window_display": false
  }
 },
 "nbformat": 4,
 "nbformat_minor": 4
}
