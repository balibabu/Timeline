{
 "cells": [
  {
   "cell_type": "code",
   "execution_count": 2,
   "metadata": {},
   "outputs": [
    {
     "name": "stdout",
     "output_type": "stream",
     "text": [
      "[[240 239 238 ... 173 187 188]\n",
      " [239 239 239 ... 178 181 185]\n",
      " [239 239 239 ... 179 175 181]\n",
      " ...\n",
      " [157 159 161 ... 140 140 138]\n",
      " [156 164 159 ... 136 135 138]\n",
      " [165 165 143 ... 133 132 137]]\n"
     ]
    },
    {
     "data": {
      "text/plain": [
       "True"
      ]
     },
     "execution_count": 2,
     "metadata": {},
     "output_type": "execute_result"
    }
   ],
   "source": [
    "#reading and writing image\n",
    "import cv2\n",
    "img=cv2.imread('bali.jpg',0)\n",
    "print(img)\n",
    "cv2.imshow('window name',img)\n",
    "cv2.waitKey(3000)\n",
    "cv2.destroyAllWindows()\n",
    "cv2.imwrite('bali_copy1.png',img)\n",
    "cv2.imwrite('bali_copy2.png',(img-10))"
   ]
  },
  {
   "cell_type": "code",
   "execution_count": 2,
   "metadata": {},
   "outputs": [
    {
     "name": "stdout",
     "output_type": "stream",
     "text": [
      "640.0\n",
      "480.0\n"
     ]
    }
   ],
   "source": [
    "#capturing video from camera\n",
    "cap=cv2.VideoCapture(0);\n",
    "print(cap.get(cv2.CAP_PROP_FRAME_WIDTH))\n",
    "print(cap.get(cv2.CAP_PROP_FRAME_HEIGHT))\n",
    "while True:\n",
    "    ret,frame=cap.read()\n",
    "    cv2.imshow('capturing',frame)\n",
    "    if cv2.waitKey(1) & 0xFF == ord('q'):\n",
    "        break\n",
    "cap.release()\n",
    "cv2.destroyAllWindows()"
   ]
  },
  {
   "cell_type": "code",
   "execution_count": 23,
   "metadata": {},
   "outputs": [],
   "source": [
    "#saving video from camera\n",
    "cap=cv2.VideoCapture(0);\n",
    "fourcc=cv2.VideoWriter_fourcc(*'XVID')\n",
    "out=cv2.VideoWriter('cam.avi',fourcc,20.0,(640,480))\n",
    "while True:\n",
    "    ret,frame=cap.read()\n",
    "    cv2.imshow('recording...',frame)\n",
    "    out.write(frame)\n",
    "    if cv2.waitKey(1) & 0xFF == ord('q'):\n",
    "        break\n",
    "cap.release()\n",
    "out.release()\n",
    "cv2.destroyAllWindows()"
   ]
  },
  {
   "cell_type": "code",
   "execution_count": 8,
   "metadata": {},
   "outputs": [
    {
     "name": "stdout",
     "output_type": "stream",
     "text": [
      "640.0\n",
      "480.0\n",
      "160.0\n",
      "120.0\n"
     ]
    }
   ],
   "source": [
    "#capturing video from camera\n",
    "cap=cv2.VideoCapture(0);\n",
    "print(cap.get(cv2.CAP_PROP_FRAME_WIDTH))\n",
    "print(cap.get(cv2.CAP_PROP_FRAME_HEIGHT))\n",
    "cap.set(3,30)\n",
    "cap.set(4,30)\n",
    "print(cap.get(3))\n",
    "print(cap.get(4))\n",
    "while True:\n",
    "    ret,frame=cap.read()\n",
    "    cv2.imshow('capturing',frame)\n",
    "    if cv2.waitKey(1) & 0xFF == ord('q'):\n",
    "        break\n",
    "cap.release()\n",
    "cv2.destroyAllWindows()"
   ]
  },
  {
   "cell_type": "code",
   "execution_count": 8,
   "metadata": {},
   "outputs": [
    {
     "name": "stdout",
     "output_type": "stream",
     "text": [
      "640.0\n",
      "480.0\n"
     ]
    }
   ],
   "source": [
    "#capturing video from camera\n",
    "cap=cv2.VideoCapture(0);\n",
    "print(cap.get(cv2.CAP_PROP_FRAME_WIDTH))\n",
    "print(cap.get(cv2.CAP_PROP_FRAME_HEIGHT))\n",
    "while True:\n",
    "    ret,frame=cap.read()\n",
    "    font=cv2.FONT_HERSHEY_SIMPLEX\n",
    "    text='Width:'+str(int(cap.get(3)))+' Heigth:'+str(int(cap.get(4)))\n",
    "    frame=cv2.putText(frame,text,(5,25),font,1,(0,255,0),2,cv2.LINE_AA)\n",
    "    cv2.imshow('capturing',frame)\n",
    "    if cv2.waitKey(1) & 0xFF == ord('q'):\n",
    "        break\n",
    "cap.release()\n",
    "cv2.destroyAllWindows()"
   ]
  },
  {
   "cell_type": "code",
   "execution_count": 24,
   "metadata": {},
   "outputs": [
    {
     "name": "stdout",
     "output_type": "stream",
     "text": [
      "640.0\n",
      "480.0\n"
     ]
    }
   ],
   "source": [
    "from datetime import *\n",
    "cap=cv2.VideoCapture(0);\n",
    "print(cap.get(cv2.CAP_PROP_FRAME_WIDTH))\n",
    "print(cap.get(cv2.CAP_PROP_FRAME_HEIGHT))\n",
    "while True:\n",
    "    ret,frame=cap.read()\n",
    "    font=cv2.FONT_HERSHEY_SIMPLEX\n",
    "    tayem=str(datetime.now())\n",
    "    frame=cv2.putText(frame,tayem,(5,25),font,1,(0,255,0),2,cv2.LINE_AA)\n",
    "    cv2.imshow('capturing',frame)\n",
    "    if cv2.waitKey(1) & 0xFF == ord('q'):\n",
    "        break\n",
    "cap.release()\n",
    "cv2.destroyAllWindows()"
   ]
  },
  {
   "cell_type": "code",
   "execution_count": null,
   "metadata": {},
   "outputs": [],
   "source": []
  }
 ],
 "metadata": {
  "kernelspec": {
   "display_name": "Python 3",
   "language": "python",
   "name": "python3"
  },
  "language_info": {
   "codemirror_mode": {
    "name": "ipython",
    "version": 3
   },
   "file_extension": ".py",
   "mimetype": "text/x-python",
   "name": "python",
   "nbconvert_exporter": "python",
   "pygments_lexer": "ipython3",
   "version": "3.7.6"
  }
 },
 "nbformat": 4,
 "nbformat_minor": 4
}
