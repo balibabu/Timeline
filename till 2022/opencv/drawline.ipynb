{
 "cells": [
  {
   "cell_type": "code",
   "execution_count": 1,
   "metadata": {
    "ExecuteTime": {
     "end_time": "2022-04-16T13:14:17.551314Z",
     "start_time": "2022-04-16T13:14:14.063312Z"
    }
   },
   "outputs": [],
   "source": [
    "import cv2\n",
    "img=cv2.imread('bali.jpg',1)\n",
    "img=cv2.line(img,(0,0),(200,300),(0,255,0),2)\n",
    "img=cv2.arrowedLine(img,(0,0),(320,240),(255,0,0),5)\n",
    "img=cv2.rectangle(img,(500,0),(640,140),(0,0,255),3)\n",
    "cv2.imshow('display',img)\n",
    "cv2.waitKey(3000)\n",
    "cv2.destroyAllWindows()"
   ]
  },
  {
   "cell_type": "code",
   "execution_count": 2,
   "metadata": {
    "ExecuteTime": {
     "end_time": "2022-04-16T13:14:26.438063Z",
     "start_time": "2022-04-16T13:14:23.323879Z"
    }
   },
   "outputs": [],
   "source": [
    "img=cv2.imread('bali.jpg',1)\n",
    "img=cv2.line(img,(0,0),(200,300),(0,255,0),2)\n",
    "img=cv2.arrowedLine(img,(0,0),(320,240),(255,0,0),5)\n",
    "img=cv2.rectangle(img,(500,0),(640,140),(0,0,255),-1)\n",
    "cv2.imshow('display',img)\n",
    "cv2.waitKey(3000)\n",
    "cv2.destroyAllWindows()"
   ]
  },
  {
   "cell_type": "code",
   "execution_count": 3,
   "metadata": {
    "ExecuteTime": {
     "end_time": "2022-04-16T13:14:32.970771Z",
     "start_time": "2022-04-16T13:14:29.824587Z"
    }
   },
   "outputs": [],
   "source": [
    "img=cv2.imread('bali.jpg',1)\n",
    "img=cv2.line(img,(0,0),(200,300),(0,255,0),2)\n",
    "img=cv2.arrowedLine(img,(0,0),(320,240),(255,0,0),5)\n",
    "img=cv2.rectangle(img,(500,0),(640,140),(0,0,255),3)\n",
    "img=cv2.circle(img,(570,70),70,(255,255,0),-1)\n",
    "font=cv2.FONT_HERSHEY_SIMPLEX\n",
    "img=cv2.putText(img,'OpenCv',(323,243),font,4,(0,255,255),5,cv2.LINE_AA)\n",
    "cv2.imshow('display',img)\n",
    "cv2.waitKey(3000)\n",
    "cv2.destroyAllWindows()"
   ]
  },
  {
   "cell_type": "code",
   "execution_count": 4,
   "metadata": {
    "ExecuteTime": {
     "end_time": "2022-04-16T13:14:39.543222Z",
     "start_time": "2022-04-16T13:14:36.442312Z"
    }
   },
   "outputs": [],
   "source": [
    "from numpy import *\n",
    "img=zeros([480,640,3],uint8)\n",
    "img=cv2.line(img,(0,0),(200,300),(0,255,0),2)\n",
    "img=cv2.arrowedLine(img,(0,0),(320,240),(255,0,0),5)\n",
    "img=cv2.rectangle(img,(500,0),(640,140),(0,0,255),3)\n",
    "img=cv2.circle(img,(570,70),70,(255,255,0),-1)\n",
    "font=cv2.FONT_HERSHEY_SIMPLEX\n",
    "img=cv2.putText(img,'OpenCv',(0,400),font,4,(0,255,255),5,cv2.LINE_AA)\n",
    "cv2.imshow('display',img)\n",
    "cv2.waitKey(3000)\n",
    "cv2.destroyAllWindows()"
   ]
  },
  {
   "cell_type": "code",
   "execution_count": null,
   "metadata": {},
   "outputs": [],
   "source": []
  },
  {
   "cell_type": "code",
   "execution_count": null,
   "metadata": {},
   "outputs": [],
   "source": []
  }
 ],
 "metadata": {
  "kernelspec": {
   "display_name": "Python 3 (ipykernel)",
   "language": "python",
   "name": "python3"
  },
  "language_info": {
   "codemirror_mode": {
    "name": "ipython",
    "version": 3
   },
   "file_extension": ".py",
   "mimetype": "text/x-python",
   "name": "python",
   "nbconvert_exporter": "python",
   "pygments_lexer": "ipython3",
   "version": "3.9.7"
  },
  "varInspector": {
   "cols": {
    "lenName": 16,
    "lenType": 16,
    "lenVar": 40
   },
   "kernels_config": {
    "python": {
     "delete_cmd_postfix": "",
     "delete_cmd_prefix": "del ",
     "library": "var_list.py",
     "varRefreshCmd": "print(var_dic_list())"
    },
    "r": {
     "delete_cmd_postfix": ") ",
     "delete_cmd_prefix": "rm(",
     "library": "var_list.r",
     "varRefreshCmd": "cat(var_dic_list()) "
    }
   },
   "types_to_exclude": [
    "module",
    "function",
    "builtin_function_or_method",
    "instance",
    "_Feature"
   ],
   "window_display": false
  }
 },
 "nbformat": 4,
 "nbformat_minor": 4
}
