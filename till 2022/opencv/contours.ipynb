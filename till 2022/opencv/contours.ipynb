{
 "cells": [
  {
   "cell_type": "code",
   "execution_count": 2,
   "metadata": {
    "ExecuteTime": {
     "end_time": "2022-04-16T13:48:34.737866Z",
     "start_time": "2022-04-16T13:48:32.746939Z"
    }
   },
   "outputs": [
    {
     "name": "stdout",
     "output_type": "stream",
     "text": [
      "10\n"
     ]
    }
   ],
   "source": [
    "import cv2\n",
    "from numpy import *\n",
    "img=cv2.imread('logo2.png',-1)\n",
    "gray=cv2.cvtColor(img,cv2.COLOR_BGR2GRAY)\n",
    "mask=zeros([739,600,3],uint8)\n",
    "ret, thres=cv2.threshold(gray,250,255,0)\n",
    "contours, hierarchy =cv2.findContours(thres,cv2.RETR_TREE,cv2.CHAIN_APPROX_NONE)\n",
    "cv2.drawContours(mask,contours,-1,(255,255,0),2)\n",
    "cv2.drawContours(img,contours,-1,(255,255,0),2)\n",
    "print(len(contours))\n",
    "cv2.imshow('color',img)\n",
    "cv2.imshow('gray',thres)\n",
    "cv2.imshow('mask',mask)\n",
    "cv2.waitKey(0)\n",
    "cv2.destroyAllWindows()"
   ]
  },
  {
   "cell_type": "code",
   "execution_count": 3,
   "metadata": {
    "ExecuteTime": {
     "end_time": "2022-04-16T13:48:43.762835Z",
     "start_time": "2022-04-16T13:48:37.066934Z"
    }
   },
   "outputs": [],
   "source": [
    "cap=cv2.VideoCapture(0)\n",
    "def nothing(x):\n",
    "    pass\n",
    "cv2.namedWindow('trackbar')\n",
    "cv2.createTrackbar('thres','trackbar',0,255,nothing)\n",
    "while True:\n",
    "    ret, frame=cap.read()\n",
    "    gray=cv2.cvtColor(frame,cv2.COLOR_BGR2GRAY)\n",
    "    blur=cv2.GaussianBlur(gray,(5,5),0)\n",
    "    th=cv2.getTrackbarPos('thres','trackbar')\n",
    "    _,thresh=cv2.threshold(blur,th,255,0)\n",
    "    dilated=cv2.dilate(thresh,None,iterations=3)\n",
    "    contour, hierarchy=cv2.findContours(dilated,cv2.RETR_TREE,cv2.CHAIN_APPROX_NONE)\n",
    "    cv2.drawContours(frame,contour,-1,(0,255,0),2)\n",
    "    cv2.imshow('capturing',frame)\n",
    "    if cv2.waitKey(1) & 0xFF == 27:\n",
    "        break\n",
    "cap.release()\n",
    "cv2.destroyAllWindows()"
   ]
  },
  {
   "cell_type": "code",
   "execution_count": null,
   "metadata": {},
   "outputs": [],
   "source": []
  },
  {
   "cell_type": "code",
   "execution_count": null,
   "metadata": {},
   "outputs": [],
   "source": []
  }
 ],
 "metadata": {
  "kernelspec": {
   "display_name": "Python 3 (ipykernel)",
   "language": "python",
   "name": "python3"
  },
  "language_info": {
   "codemirror_mode": {
    "name": "ipython",
    "version": 3
   },
   "file_extension": ".py",
   "mimetype": "text/x-python",
   "name": "python",
   "nbconvert_exporter": "python",
   "pygments_lexer": "ipython3",
   "version": "3.9.7"
  },
  "varInspector": {
   "cols": {
    "lenName": 16,
    "lenType": 16,
    "lenVar": 40
   },
   "kernels_config": {
    "python": {
     "delete_cmd_postfix": "",
     "delete_cmd_prefix": "del ",
     "library": "var_list.py",
     "varRefreshCmd": "print(var_dic_list())"
    },
    "r": {
     "delete_cmd_postfix": ") ",
     "delete_cmd_prefix": "rm(",
     "library": "var_list.r",
     "varRefreshCmd": "cat(var_dic_list()) "
    }
   },
   "types_to_exclude": [
    "module",
    "function",
    "builtin_function_or_method",
    "instance",
    "_Feature"
   ],
   "window_display": false
  }
 },
 "nbformat": 4,
 "nbformat_minor": 4
}
