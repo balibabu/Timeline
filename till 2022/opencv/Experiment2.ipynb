{
 "cells": [
  {
   "cell_type": "code",
   "execution_count": 1,
   "metadata": {
    "ExecuteTime": {
     "end_time": "2022-04-16T13:17:34.106668Z",
     "start_time": "2022-04-16T13:16:10.130256Z"
    }
   },
   "outputs": [],
   "source": [
    "import cv2\n",
    "from numpy import *\n",
    "cap=cv2.VideoCapture(0)\n",
    "\n",
    "while cap.isOpened():\n",
    "    ret,frame=cap.read()\n",
    "    gray=cv2.cvtColor(frame,cv2.COLOR_BGR2GRAY)\n",
    "    gblur=cv2.GaussianBlur(gray,(5,5),0)\n",
    "    salt=cv2.medianBlur(gblur,5)\n",
    "    _,thresh=cv2.threshold(salt,108,255,0)\n",
    "    contours,_=cv2.findContours(thresh,cv2.RETR_TREE,cv2.CHAIN_APPROX_NONE)\n",
    "    for contour in contours:\n",
    "        approx=cv2.approxPolyDP(contour,0.03*cv2.arcLength(contour,True),True)\n",
    "        cv2.drawContours(frame,[approx],-1,(0,255,0),1)\n",
    "        x=approx.ravel()[0]\n",
    "        y=approx.ravel()[1]-5\n",
    "        if len(approx)==4:\n",
    "            x1,y1,w,h=cv2.boundingRect(approx)\n",
    "            aspectRatio=float(w)/h\n",
    "            if aspectRatio>=0.95 and aspectRatio<=1.05:\n",
    "                cv2.putText(frame,'square',(x,y),cv2.FONT_HERSHEY_COMPLEX,.7,(0,0,255),2)\n",
    "            else:\n",
    "                cv2.putText(frame,'rectangle',(x,y),cv2.FONT_HERSHEY_COMPLEX,.7,(0,0,255),2)\n",
    "        elif len(approx)==3:\n",
    "            cv2.putText(frame,'triangle',(x,y),cv2.FONT_HERSHEY_COMPLEX,.7,(0,0,255),2)\n",
    "        else:\n",
    "            cv2.putText(frame,'circle',(x,y),cv2.FONT_HERSHEY_COMPLEX,.7,(0,0,255),2)\n",
    "\n",
    "    cv2.imshow('displaying',frame)\n",
    "    if cv2.waitKey(1)==27:\n",
    "        break\n",
    "cap.release()\n",
    "cv2.destroyAllWindows()"
   ]
  },
  {
   "cell_type": "code",
   "execution_count": null,
   "metadata": {},
   "outputs": [],
   "source": []
  },
  {
   "cell_type": "code",
   "execution_count": null,
   "metadata": {},
   "outputs": [],
   "source": []
  }
 ],
 "metadata": {
  "kernelspec": {
   "display_name": "Python 3 (ipykernel)",
   "language": "python",
   "name": "python3"
  },
  "language_info": {
   "codemirror_mode": {
    "name": "ipython",
    "version": 3
   },
   "file_extension": ".py",
   "mimetype": "text/x-python",
   "name": "python",
   "nbconvert_exporter": "python",
   "pygments_lexer": "ipython3",
   "version": "3.9.7"
  },
  "varInspector": {
   "cols": {
    "lenName": 16,
    "lenType": 16,
    "lenVar": 40
   },
   "kernels_config": {
    "python": {
     "delete_cmd_postfix": "",
     "delete_cmd_prefix": "del ",
     "library": "var_list.py",
     "varRefreshCmd": "print(var_dic_list())"
    },
    "r": {
     "delete_cmd_postfix": ") ",
     "delete_cmd_prefix": "rm(",
     "library": "var_list.r",
     "varRefreshCmd": "cat(var_dic_list()) "
    }
   },
   "types_to_exclude": [
    "module",
    "function",
    "builtin_function_or_method",
    "instance",
    "_Feature"
   ],
   "window_display": false
  }
 },
 "nbformat": 4,
 "nbformat_minor": 4
}
