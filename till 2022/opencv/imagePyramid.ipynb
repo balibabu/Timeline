{
 "cells": [
  {
   "cell_type": "code",
   "execution_count": 6,
   "metadata": {},
   "outputs": [],
   "source": [
    "import cv2\n",
    "from numpy import *\n",
    "img=cv2.imread('lena.jpg',1)\n",
    "layer=img.copy()\n",
    "gp=[layer]\n",
    "for i in range(6):\n",
    "    layer=cv2.pyrDown(layer)\n",
    "    gp.append(layer)\n",
    "    #cv2.imshow(str(i),layer)\n",
    "\n",
    "layer=gp[5]\n",
    "cv2.imshow('upper level gaussian pyramid',layer)\n",
    "lp=[layer]\n",
    "for i in range(5,0,-1):\n",
    "    gaussian_extended= cv2.pyrUp(gp[i])\n",
    "    laplacian=cv2.subtract(gp[i-1],gaussian_extended)\n",
    "    cv2.imshow(str(i),laplacian)\n",
    "cv2.imshow('original image',img)\n",
    "cv2.waitKey(0)\n",
    "cv2.destroyAllWindows()"
   ]
  },
  {
   "cell_type": "code",
   "execution_count": null,
   "metadata": {},
   "outputs": [],
   "source": []
  }
 ],
 "metadata": {
  "kernelspec": {
   "display_name": "Python 3",
   "language": "python",
   "name": "python3"
  },
  "language_info": {
   "codemirror_mode": {
    "name": "ipython",
    "version": 3
   },
   "file_extension": ".py",
   "mimetype": "text/x-python",
   "name": "python",
   "nbconvert_exporter": "python",
   "pygments_lexer": "ipython3",
   "version": "3.7.6"
  }
 },
 "nbformat": 4,
 "nbformat_minor": 4
}
