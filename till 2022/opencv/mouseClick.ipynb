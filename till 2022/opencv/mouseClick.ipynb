{
 "cells": [
  {
   "cell_type": "markdown",
   "metadata": {},
   "source": [
    "we are going to use mouse event"
   ]
  },
  {
   "cell_type": "code",
   "execution_count": 1,
   "metadata": {},
   "outputs": [
    {
     "name": "stdout",
     "output_type": "stream",
     "text": [
      "['EVENT_FLAG_ALTKEY', 'EVENT_FLAG_CTRLKEY', 'EVENT_FLAG_LBUTTON', 'EVENT_FLAG_MBUTTON', 'EVENT_FLAG_RBUTTON', 'EVENT_FLAG_SHIFTKEY', 'EVENT_LBUTTONDBLCLK', 'EVENT_LBUTTONDOWN', 'EVENT_LBUTTONUP', 'EVENT_MBUTTONDBLCLK', 'EVENT_MBUTTONDOWN', 'EVENT_MBUTTONUP', 'EVENT_MOUSEHWHEEL', 'EVENT_MOUSEMOVE', 'EVENT_MOUSEWHEEL', 'EVENT_RBUTTONDBLCLK', 'EVENT_RBUTTONDOWN', 'EVENT_RBUTTONUP']\n"
     ]
    }
   ],
   "source": [
    "import cv2\n",
    "events=[i for i in dir(cv2) if 'EVENT' in i]\n",
    "print(events)"
   ]
  },
  {
   "cell_type": "markdown",
   "metadata": {},
   "source": [
    "the below code is used for getting pixel co-ordinate by left mouse click and rgb value of that pixel by right click of mouse"
   ]
  },
  {
   "cell_type": "code",
   "execution_count": 2,
   "metadata": {},
   "outputs": [
    {
     "name": "stdout",
     "output_type": "stream",
     "text": [
      "465 , 173\n",
      "465 , 238\n",
      "526 , 172\n",
      "61 , 180\n"
     ]
    }
   ],
   "source": [
    "from numpy import *\n",
    "def click_event(event,x,y,flags,param):\n",
    "    try:\n",
    "        if event==cv2.EVENT_FLAG_LBUTTON:\n",
    "            print(x,',',y)\n",
    "            font=cv2.FONT_HERSHEY_SIMPLEX\n",
    "            strXY=str(x)+','+str(y)\n",
    "            cv2.putText(img,strXY,(x,y),font,.4,(0,0,255),1)\n",
    "            cv2.imshow('image',img)\n",
    "        if event==cv2.EVENT_FLAG_RBUTTON:\n",
    "            blue=img[y,x,0]\n",
    "            green=img[y,x,1]\n",
    "            red=img[y,x,2]\n",
    "            font=cv2.FONT_HERSHEY_SIMPLEX\n",
    "            strBGR=str(blue)+','+str(green)+','+str(red)\n",
    "            cv2.putText(img,strBGR,(x,y),font,.4,(0,0,255),1)\n",
    "            cv2.imshow('image',img)\n",
    "    except Exception as e:\n",
    "        print(e)\n",
    "\n",
    "img=cv2.imread('bali.jpg',1)\n",
    "cv2.imshow('image',img)\n",
    "cv2.setMouseCallback('image',click_event)\n",
    "cv2.waitKey(0)\n",
    "cv2.destroyAllWindows()"
   ]
  },
  {
   "cell_type": "code",
   "execution_count": 8,
   "metadata": {},
   "outputs": [],
   "source": [
    "from random import *\n",
    "def click_event(event,x,y,flags,param):\n",
    "    try:\n",
    "        if event==cv2.EVENT_FLAG_LBUTTON:\n",
    "            cv2.circle(img,(x,y),3,(randint(0,256),randint(0,256),randint(0,256)),-1)\n",
    "            points.append((x,y))\n",
    "            if len(points)>=2:\n",
    "                cv2.line(img,points[-1],points[-2],(randint(0,256),randint(0,256),randint(0,256)),5)\n",
    "            cv2.imshow('image',img)\n",
    "    except Exception as e:\n",
    "        print(e)\n",
    "\n",
    "img=cv2.imread('bali.jpg',1)\n",
    "cv2.imshow('image',img)\n",
    "points=[]\n",
    "cv2.setMouseCallback('image',click_event)\n",
    "cv2.waitKey(0)\n",
    "cv2.destroyAllWindows()"
   ]
  },
  {
   "cell_type": "code",
   "execution_count": 6,
   "metadata": {},
   "outputs": [],
   "source": [
    "def click_event(event,x,y,flags,param):\n",
    "    try:\n",
    "        if event==cv2.EVENT_FLAG_LBUTTON:\n",
    "            blue=img[y,x,0]\n",
    "            green=img[y,x,1]\n",
    "            red=img[y,x,2]\n",
    "            cv2.circle(img,(x,y),3,(0,0,255),-1)\n",
    "            mycolorimg=zeros([480,640,3],uint8)\n",
    "            mycolorimg[:]=[blue,green,red]\n",
    "            cv2.imshow('color windows',mycolorimg)\n",
    "    except Exception as e:\n",
    "        print(e)\n",
    "\n",
    "img=cv2.imread('bali.jpg',1)\n",
    "cv2.imshow('image',img)\n",
    "points=[]\n",
    "cv2.setMouseCallback('image',click_event)\n",
    "cv2.waitKey(0)\n",
    "cv2.destroyAllWindows()"
   ]
  },
  {
   "cell_type": "code",
   "execution_count": null,
   "metadata": {},
   "outputs": [],
   "source": []
  }
 ],
 "metadata": {
  "kernelspec": {
   "display_name": "Python 3",
   "language": "python",
   "name": "python3"
  },
  "language_info": {
   "codemirror_mode": {
    "name": "ipython",
    "version": 3
   },
   "file_extension": ".py",
   "mimetype": "text/x-python",
   "name": "python",
   "nbconvert_exporter": "python",
   "pygments_lexer": "ipython3",
   "version": "3.7.6"
  }
 },
 "nbformat": 4,
 "nbformat_minor": 4
}
