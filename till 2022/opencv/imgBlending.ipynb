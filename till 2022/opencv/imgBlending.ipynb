{
 "cells": [
  {
   "cell_type": "markdown",
   "metadata": {},
   "source": [
    "# process of blending two image\n",
    "1. load the images of apple and orange.\n",
    "2. find the gaussian pyramids for apple and orange (in this particular eg, no. of levels is 6\n",
    "3. from gaussian pyramids, find their laplacian pyramids.\n",
    "4. now join the left half of apple and right half of orange in each levels of laplacian pyramids.\n",
    "5. finally from this point image pyramids, reconstruct the original image."
   ]
  },
  {
   "cell_type": "code",
   "execution_count": 16,
   "metadata": {},
   "outputs": [],
   "source": [
    "import cv2\n",
    "from numpy import *\n",
    "apple=cv2.imread('apple.jpg')\n",
    "orange=cv2.imread('orange.jpg')\n",
    "#direct adding\n",
    "apple_orange=hstack((apple[:, :256], orange[:,256:]))\n",
    "\n",
    "#finding gaussian pyramids for apple\n",
    "apple_copy=apple.copy()\n",
    "gp_apple=[apple_copy]\n",
    "for i in range(6):\n",
    "    apple_copy=cv2.pyrDown(apple_copy)\n",
    "    gp_apple.append(apple_copy)\n",
    "\n",
    "#finding gaussian pyramids for orange\n",
    "orange_copy=orange.copy()\n",
    "gp_orange=[orange_copy]\n",
    "for i in range(6):\n",
    "    orange_copy=cv2.pyrDown(orange_copy)\n",
    "    gp_orange.append(orange_copy)\n",
    "\n",
    "#finding laplacian pyramid for apple\n",
    "apple_copy=gp_apple[5]\n",
    "lp_apple=[apple_copy]\n",
    "for i in range(5,0,-1):\n",
    "    gaussian_extend=cv2.pyrUp(gp_apple[i])\n",
    "    laplacian=cv2.subtract(gp_apple[i-1],gaussian_extend)\n",
    "    lp_apple.append(laplacian)\n",
    "\n",
    "#finding laplacian pyramid for orange\n",
    "orange_copy=gp_orange[5]\n",
    "lp_orange=[orange_copy]\n",
    "for i in range(5,0,-1):\n",
    "    gaussian_extend=cv2.pyrUp(gp_orange[i])\n",
    "    laplacian=cv2.subtract(gp_orange[i-1],gaussian_extend)\n",
    "    lp_orange.append(laplacian)\n",
    "\n",
    "#joining half of each lp images from each levels\n",
    "apple_orange_pyramid=[]\n",
    "n=0\n",
    "for apple_lap, orange_lap in zip(lp_apple,lp_orange):\n",
    "    n=n+1\n",
    "    col, row, typ=apple_lap.shape\n",
    "    laplacian=hstack((apple_lap[:, :int(col/2)], orange_lap[:, int(col/2):]))\n",
    "    apple_orange_pyramid.append(laplacian)\n",
    "\n",
    "#reconstructing image from lp of apple and orange\n",
    "apple_orange_reconstruct=apple_orange_pyramid[0]\n",
    "for i in range(1,6):\n",
    "    apple_orange_reconstruct=cv2.pyrUp(apple_orange_reconstruct)\n",
    "    apple_orange_reconstruct=cv2.add(apple_orange_reconstruct,apple_orange_pyramid[i])\n",
    "\n",
    "\n",
    "cv2.imshow('apple',apple)\n",
    "cv2.imshow('orange',orange)\n",
    "cv2.imshow('apple_orange',apple_orange)\n",
    "cv2.imshow('apple_orange_reconstruct',apple_orange_reconstruct)\n",
    "cv2.waitKey(0)\n",
    "cv2.destroyAllWindows()"
   ]
  },
  {
   "cell_type": "code",
   "execution_count": null,
   "metadata": {},
   "outputs": [],
   "source": []
  },
  {
   "cell_type": "code",
   "execution_count": null,
   "metadata": {},
   "outputs": [],
   "source": []
  }
 ],
 "metadata": {
  "kernelspec": {
   "display_name": "Python 3",
   "language": "python",
   "name": "python3"
  },
  "language_info": {
   "codemirror_mode": {
    "name": "ipython",
    "version": 3
   },
   "file_extension": ".py",
   "mimetype": "text/x-python",
   "name": "python",
   "nbconvert_exporter": "python",
   "pygments_lexer": "ipython3",
   "version": "3.7.6"
  }
 },
 "nbformat": 4,
 "nbformat_minor": 4
}
