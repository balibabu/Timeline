{
 "cells": [
  {
   "cell_type": "code",
   "execution_count": 1,
   "metadata": {},
   "outputs": [],
   "source": [
    "import cv2\n",
    "from numpy import *\n",
    "cap=cv2.VideoCapture('Megamind.avi')\n",
    "mega=cv2.imread('megamind.png',0)\n",
    "ritchi=cv2.imread('ritchi.png',0)\n",
    "while cap.isOpened():\n",
    "    ret,frame=cap.read()\n",
    "    if ret==True:\n",
    "        gray=cv2.cvtColor(frame,cv2.COLOR_BGR2GRAY)\n",
    "        res=cv2.matchTemplate(gray,mega,cv2.TM_CCOEFF_NORMED)\n",
    "        threshold=0.7\n",
    "        loc=where(res>=threshold)\n",
    "        if len(loc[0]):\n",
    "            for pt in zip(*loc[::-1]):\n",
    "                cv2.putText(frame,'Megamind',(pt[0]+100,pt[1]+110),cv2.FONT_HERSHEY_COMPLEX,1,(255,255,255),2)\n",
    "                \n",
    "                break\n",
    "        else:\n",
    "            res=cv2.matchTemplate(gray,ritchi,cv2.TM_CCOEFF_NORMED)\n",
    "            threshold=0.6\n",
    "            loc=where(res>=threshold)\n",
    "            if loc:\n",
    "                for pt in zip(*loc[::-1]):\n",
    "                    cv2.putText(frame,'Roxanne Ritchi',(pt[0]+100,pt[1]+110),cv2.FONT_HERSHEY_COMPLEX,1,(255,255,255),2)\n",
    "                    break\n",
    "        cv2.imshow('displaying',frame)\n",
    "        if cv2.waitKey(1) & 0xFF==27:\n",
    "            break\n",
    "    else:\n",
    "        break\n",
    "cap.release()\n",
    "cv2.destroyAllWindows()"
   ]
  },
  {
   "cell_type": "code",
   "execution_count": 2,
   "metadata": {},
   "outputs": [
    {
     "name": "stdout",
     "output_type": "stream",
     "text": [
      "868\n"
     ]
    }
   ],
   "source": [
    "import cv2\n",
    "from numpy import *\n",
    "cap=cv2.VideoCapture('meme.mp4')\n",
    "x=0\n",
    "while cap.isOpened():\n",
    "    ret,frame=cap.read()\n",
    "    if ret==True:\n",
    "        x+=1\n",
    "        cv2.imshow('displaying',frame)\n",
    "        if cv2.waitKey(1) & 0xFF==27:\n",
    "            break\n",
    "    else:\n",
    "        break\n",
    "cap.release()\n",
    "cv2.destroyAllWindows()\n",
    "print(x)"
   ]
  },
  {
   "cell_type": "code",
   "execution_count": null,
   "metadata": {},
   "outputs": [],
   "source": []
  }
 ],
 "metadata": {
  "kernelspec": {
   "display_name": "Python 3",
   "language": "python",
   "name": "python3"
  },
  "language_info": {
   "codemirror_mode": {
    "name": "ipython",
    "version": 3
   },
   "file_extension": ".py",
   "mimetype": "text/x-python",
   "name": "python",
   "nbconvert_exporter": "python",
   "pygments_lexer": "ipython3",
   "version": "3.7.6"
  }
 },
 "nbformat": 4,
 "nbformat_minor": 4
}
