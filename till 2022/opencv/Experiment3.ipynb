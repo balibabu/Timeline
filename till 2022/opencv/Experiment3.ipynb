{
 "cells": [
  {
   "cell_type": "code",
   "execution_count": 3,
   "metadata": {
    "ExecuteTime": {
     "end_time": "2022-04-16T13:19:15.441909Z",
     "start_time": "2022-04-16T13:18:55.262838Z"
    }
   },
   "outputs": [],
   "source": [
    "import cv2\n",
    "from numpy import *\n",
    "cap=cv2.VideoCapture(0)\n",
    "template=cv2.imread('bali_face2.jpg',0)\n",
    "template2=cv2.imread('bali_face3.jpg',0)\n",
    "template3=cv2.imread('bali_face4.jpg',0)\n",
    "while cap.isOpened():\n",
    "    ret,frame=cap.read()\n",
    "    cv2.imshow('original',frame)\n",
    "    gray=cv2.cvtColor(frame,cv2.COLOR_BGR2GRAY)\n",
    "    w,h=template.shape[::-1]\n",
    "    res=cv2.matchTemplate(gray,template,cv2.TM_CCOEFF_NORMED)\n",
    "    threshold=0.7\n",
    "    loc=where(res>=threshold)\n",
    "    if loc:\n",
    "        for pt in zip(*loc[::-1]):\n",
    "            cv2.rectangle(frame,pt,(pt[0]+w,pt[1]+h),(0,255,0),2)\n",
    "            break\n",
    "        cv2.imshow('showing',frame)\n",
    "    else:\n",
    "        res=cv2.matchTemplate(gray,template2,cv2.TM_CCOEFF_NORMED)\n",
    "        threshold=0.7\n",
    "        loc=where(res>=threshold)\n",
    "        if loc:\n",
    "            for pt in zip(*loc[::-1]):\n",
    "                cv2.rectangle(frame,pt,(pt[0]+w,pt[1]+h),(0,255,0),2)\n",
    "                break\n",
    "            cv2.imshow('showing',frame)\n",
    "        else:\n",
    "            res=cv2.matchTemplate(gray,template3,cv2.TM_CCOEFF_NORMED)\n",
    "            threshold=0.7\n",
    "            loc=where(res>=threshold)\n",
    "            for pt in zip(*loc[::-1]):\n",
    "                cv2.rectangle(frame,pt,(pt[0]+w,pt[1]+h),(0,255,0),2)\n",
    "                break\n",
    "            cv2.imshow('detecting',frame)\n",
    "    if cv2.waitKey(1) & 0xFF==27:\n",
    "        break\n",
    "cap.release()\n",
    "cv2.destroyAllWindows()"
   ]
  },
  {
   "cell_type": "code",
   "execution_count": 2,
   "metadata": {
    "ExecuteTime": {
     "end_time": "2022-04-16T13:18:51.242190Z",
     "start_time": "2022-04-16T13:18:36.182661Z"
    }
   },
   "outputs": [],
   "source": [
    "import cv2\n",
    "from numpy import *\n",
    "def nothing(x):\n",
    "    pass\n",
    "cap=cv2.VideoCapture('meme.mp4')\n",
    "fox=cv2.imread('fox.png',0)\n",
    "pen=cv2.imread('pen.png',0)\n",
    "cv2.namedWindow('trackbar')\n",
    "cv2.createTrackbar('th','trackbar',50,80,nothing)\n",
    "while cap.isOpened():\n",
    "    ret,frame=cap.read()\n",
    "    if ret==True:\n",
    "        \n",
    "        gray=cv2.cvtColor(frame,cv2.COLOR_BGR2GRAY)\n",
    "        res=cv2.matchTemplate(gray,pen,cv2.TM_CCOEFF_NORMED)\n",
    "        thres=float(cv2.getTrackbarPos('th','trackbar'))/100\n",
    "        loc=where(res>=thres)\n",
    "        for pt in zip(*loc[::-1]):\n",
    "            cv2.putText(frame,'pen',pt,cv2.FONT_HERSHEY_COMPLEX,1,(0,255,0),2)\n",
    "            break\n",
    "        \n",
    "        \n",
    "        \n",
    "        cv2.imshow('displaying',frame)\n",
    "        if cv2.waitKey(1) & 0xFF==27:\n",
    "            break\n",
    "    else:\n",
    "        break\n",
    "cap.release()\n",
    "cv2.destroyAllWindows()"
   ]
  },
  {
   "cell_type": "code",
   "execution_count": null,
   "metadata": {},
   "outputs": [],
   "source": []
  }
 ],
 "metadata": {
  "kernelspec": {
   "display_name": "Python 3 (ipykernel)",
   "language": "python",
   "name": "python3"
  },
  "language_info": {
   "codemirror_mode": {
    "name": "ipython",
    "version": 3
   },
   "file_extension": ".py",
   "mimetype": "text/x-python",
   "name": "python",
   "nbconvert_exporter": "python",
   "pygments_lexer": "ipython3",
   "version": "3.9.7"
  },
  "varInspector": {
   "cols": {
    "lenName": 16,
    "lenType": 16,
    "lenVar": 40
   },
   "kernels_config": {
    "python": {
     "delete_cmd_postfix": "",
     "delete_cmd_prefix": "del ",
     "library": "var_list.py",
     "varRefreshCmd": "print(var_dic_list())"
    },
    "r": {
     "delete_cmd_postfix": ") ",
     "delete_cmd_prefix": "rm(",
     "library": "var_list.r",
     "varRefreshCmd": "cat(var_dic_list()) "
    }
   },
   "types_to_exclude": [
    "module",
    "function",
    "builtin_function_or_method",
    "instance",
    "_Feature"
   ],
   "window_display": false
  }
 },
 "nbformat": 4,
 "nbformat_minor": 4
}
