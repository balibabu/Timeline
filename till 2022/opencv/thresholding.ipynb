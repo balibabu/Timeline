{
 "cells": [
  {
   "cell_type": "markdown",
   "metadata": {},
   "source": [
    "# this is simple thresholding"
   ]
  },
  {
   "cell_type": "code",
   "execution_count": 1,
   "metadata": {},
   "outputs": [],
   "source": [
    "import cv2\n",
    "from numpy import *\n",
    "img=cv2.imread('gradient.png',0)\n",
    "_, th1=cv2.threshold(img,127,255,cv2.THRESH_BINARY)\n",
    "_,th2=cv2.threshold(img,127,255,cv2.THRESH_BINARY_INV)\n",
    "_,th3=cv2.threshold(img,127,255,cv2.THRESH_TRUNC)\n",
    "_,th4=cv2.threshold(img,127,255,cv2.THRESH_TOZERO)\n",
    "_,th5=cv2.threshold(img,127,255,cv2.THRESH_TOZERO_INV)\n",
    "cv2.imshow('original',img)\n",
    "cv2.imshow('THRESH_BINARY',th1)\n",
    "cv2.imshow('THRESH_BINARY_INV',th2)\n",
    "cv2.imshow('THRESH_TRUNC',th3)\n",
    "cv2.imshow('THRESH_TOZERO',th4)\n",
    "cv2.imshow('THRESH_TOZERO_INV',th5)\n",
    "cv2.waitKey(0)\n",
    "cv2.destroyAllWindows()"
   ]
  },
  {
   "cell_type": "markdown",
   "metadata": {},
   "source": [
    "# this is adaptive thresholding"
   ]
  },
  {
   "cell_type": "code",
   "execution_count": 5,
   "metadata": {},
   "outputs": [],
   "source": [
    "import cv2\n",
    "from numpy import *\n",
    "img=cv2.imread('sudoku.png',0)\n",
    "_,th1=cv2.threshold(img,50,255,cv2.THRESH_BINARY)\n",
    "th2=cv2.adaptiveThreshold(img,255,cv2.ADAPTIVE_THRESH_MEAN_C,cv2.THRESH_BINARY,11,10)\n",
    "th3=cv2.adaptiveThreshold(img,255,cv2.ADAPTIVE_THRESH_GAUSSIAN_C,cv2.THRESH_BINARY,11,5)\n",
    "cv2.imshow('original',img)\n",
    "cv2.imshow('THRESH_BINARY',th1)\n",
    "cv2.imshow('ADAPTIVE_THRESH_MEAN_C',th2)\n",
    "cv2.imshow('ADAPTIVE_THRESH_GAUSSIAN_C',th3)\n",
    "cv2.waitKey(0)\n",
    "cv2.destroyAllWindows()"
   ]
  },
  {
   "cell_type": "code",
   "execution_count": null,
   "metadata": {},
   "outputs": [],
   "source": []
  }
 ],
 "metadata": {
  "kernelspec": {
   "display_name": "Python 3",
   "language": "python",
   "name": "python3"
  },
  "language_info": {
   "codemirror_mode": {
    "name": "ipython",
    "version": 3
   },
   "file_extension": ".py",
   "mimetype": "text/x-python",
   "name": "python",
   "nbconvert_exporter": "python",
   "pygments_lexer": "ipython3",
   "version": "3.7.6"
  }
 },
 "nbformat": 4,
 "nbformat_minor": 4
}
