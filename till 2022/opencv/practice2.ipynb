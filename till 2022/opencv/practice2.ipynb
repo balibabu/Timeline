{
 "cells": [
  {
   "cell_type": "code",
   "execution_count": 1,
   "metadata": {},
   "outputs": [],
   "source": [
    "import cv2\n",
    "from numpy import *\n",
    "img1=zeros([360,480],uint8)\n",
    "img2=zeros([360,480],uint8)\n",
    "img1=cv2.rectangle(img1,(240,0),(480,360),(255),-1)\n",
    "img2=cv2.rectangle(img2,(160,0),(320,120),(255),-1)\n",
    "img3=cv2.bitwise_and(img1,img2)\n",
    "cv2.imshow('img1',img1)\n",
    "cv2.imshow('img2',img2)\n",
    "cv2.imshow('and',img3)\n",
    "cv2.waitKey(0)\n",
    "cv2.destroyAllWindows()"
   ]
  },
  {
   "cell_type": "code",
   "execution_count": 2,
   "metadata": {},
   "outputs": [],
   "source": [
    "img1=zeros([512,512,3])\n",
    "img2=zeros([512,512,3])\n",
    "img1[:]=[255,255,0]\n",
    "img2[:]=[0,255,255]\n",
    "img3=cv2.bitwise_and(img1,img2)\n",
    "cv2.imshow('img1',img1)\n",
    "cv2.imshow('img2',img2)\n",
    "cv2.imshow('and',img3)\n",
    "cv2.waitKey(0)\n",
    "cv2.destroyAllWindows()"
   ]
  },
  {
   "cell_type": "code",
   "execution_count": 38,
   "metadata": {},
   "outputs": [
    {
     "name": "stdout",
     "output_type": "stream",
     "text": [
      "[[[  5 128 132]]]\n"
     ]
    }
   ],
   "source": [
    "img=cv2.imread('bali.jpg',-1)\n",
    "b,g,r=img[400,300]\n",
    "pixel=uint8([[[b,g,r]]])\n",
    "hsv=cv2.cvtColor(pixel,cv2.COLOR_BGR2HSV)\n",
    "#print(img)\n",
    "print(hsv)"
   ]
  },
  {
   "cell_type": "code",
   "execution_count": 1,
   "metadata": {},
   "outputs": [],
   "source": [
    "import cv2\n",
    "from numpy import *\n",
    "img=cv2.imread('group.jpg',1)\n",
    "template=cv2.imread('bali_face.jpg',0)\n",
    "gray=cv2.cvtColor(img,cv2.COLOR_BGR2GRAY)\n",
    "res=cv2.matchTemplate(gray,template,cv2.TM_CCOEFF_NORMED)\n",
    "threshold=0.9\n",
    "loc=where(res>=threshold)\n",
    "w,h=template.shape[::-1]\n",
    "for pt in zip(*loc[::-1]):\n",
    "    cv2.rectangle(img,pt,(pt[0]+w,pt[1]+h),(0,255,0),2)\n",
    "cv2.imshow('img',img)\n",
    "#cv2.imshow('template',template)\n",
    "cv2.waitKey(0)\n",
    "cv2.destroyAllWindows()"
   ]
  },
  {
   "cell_type": "code",
   "execution_count": null,
   "metadata": {},
   "outputs": [],
   "source": []
  }
 ],
 "metadata": {
  "kernelspec": {
   "display_name": "Python 3",
   "language": "python",
   "name": "python3"
  },
  "language_info": {
   "codemirror_mode": {
    "name": "ipython",
    "version": 3
   },
   "file_extension": ".py",
   "mimetype": "text/x-python",
   "name": "python",
   "nbconvert_exporter": "python",
   "pygments_lexer": "ipython3",
   "version": "3.7.6"
  }
 },
 "nbformat": 4,
 "nbformat_minor": 4
}
