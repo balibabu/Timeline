{
 "cells": [
  {
   "cell_type": "code",
   "execution_count": 10,
   "metadata": {},
   "outputs": [],
   "source": [
    "import cv2\n",
    "from numpy import *\n",
    "def match(gray,template,threshold,string):\n",
    "    res=cv2.matchTemplate(gray,template,cv2.TM_CCOEFF_NORMED)\n",
    "    loc=where(res>=threshold)\n",
    "    for pt in zip(*loc[::-1]):\n",
    "        cv2.putText(img,string,(pt[0],pt[1]),cv2.FONT_HERSHEY_SIMPLEX,1,(0,255,0),3)\n",
    "        return True\n",
    "    return False"
   ]
  }
 ],
 "metadata": {
  "kernelspec": {
   "display_name": "Python 3",
   "language": "python",
   "name": "python3"
  },
  "language_info": {
   "codemirror_mode": {
    "name": "ipython",
    "version": 3
   },
   "file_extension": ".py",
   "mimetype": "text/x-python",
   "name": "python",
   "nbconvert_exporter": "python",
   "pygments_lexer": "ipython3",
   "version": "3.7.6"
  }
 },
 "nbformat": 4,
 "nbformat_minor": 4
}
