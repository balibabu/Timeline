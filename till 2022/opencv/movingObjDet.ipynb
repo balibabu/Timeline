{
 "cells": [
  {
   "cell_type": "code",
   "execution_count": 2,
   "metadata": {
    "ExecuteTime": {
     "end_time": "2022-04-15T15:04:05.036361Z",
     "start_time": "2022-04-15T15:04:01.567218Z"
    }
   },
   "outputs": [],
   "source": [
    "import cv2\n",
    "from numpy import *\n",
    "cap=cv2.VideoCapture('vtest.avi')\n",
    "ret,frame1=cap.read()\n",
    "ret,frame2=cap.read()\n",
    "while cap.isOpened():\n",
    "    if ret==True:\n",
    "        diff=cv2.absdiff(frame1,frame2)\n",
    "        cv2.imshow('diff',diff)\n",
    "        gray=cv2.cvtColor(diff,cv2.COLOR_BGR2GRAY)\n",
    "        blur=cv2.GaussianBlur(gray,(5,5),0)\n",
    "        _,thresh=cv2.threshold(blur,50,255,cv2.THRESH_BINARY)\n",
    "        dilated=cv2.dilate(thresh,None,iterations=3)\n",
    "        contours,_=cv2.findContours(dilated,cv2.RETR_TREE,cv2.CHAIN_APPROX_SIMPLE)\n",
    "\n",
    "        for contour in contours:\n",
    "            x,y,w,h=cv2.boundingRect(contour)\n",
    "            if cv2.contourArea(contour)<600:\n",
    "                continue\n",
    "            cv2.rectangle(frame1,(x,y),(x+w,y+h),(0,255,0),2)\n",
    "            cv2.putText(frame1,'status: movement',(10,20),cv2.FONT_HERSHEY_SIMPLEX,1,(0,0,255),2)\n",
    "\n",
    "        #cv2.drawContours(frame1,contours,-1,(0,255,0),2)\n",
    "        cv2.imshow('feed',frame1)\n",
    "        frame1=frame2\n",
    "        ret,frame2=cap.read()\n",
    "    else:\n",
    "        break\n",
    "    if cv2.waitKey(1) & 0xFF == 27:\n",
    "        break\n",
    "cv2.destroyAllWindows()"
   ]
  },
  {
   "cell_type": "code",
   "execution_count": null,
   "metadata": {},
   "outputs": [],
   "source": []
  },
  {
   "cell_type": "code",
   "execution_count": null,
   "metadata": {},
   "outputs": [],
   "source": []
  }
 ],
 "metadata": {
  "kernelspec": {
   "display_name": "Python 3 (ipykernel)",
   "language": "python",
   "name": "python3"
  },
  "language_info": {
   "codemirror_mode": {
    "name": "ipython",
    "version": 3
   },
   "file_extension": ".py",
   "mimetype": "text/x-python",
   "name": "python",
   "nbconvert_exporter": "python",
   "pygments_lexer": "ipython3",
   "version": "3.9.7"
  },
  "varInspector": {
   "cols": {
    "lenName": 16,
    "lenType": 16,
    "lenVar": 40
   },
   "kernels_config": {
    "python": {
     "delete_cmd_postfix": "",
     "delete_cmd_prefix": "del ",
     "library": "var_list.py",
     "varRefreshCmd": "print(var_dic_list())"
    },
    "r": {
     "delete_cmd_postfix": ") ",
     "delete_cmd_prefix": "rm(",
     "library": "var_list.r",
     "varRefreshCmd": "cat(var_dic_list()) "
    }
   },
   "types_to_exclude": [
    "module",
    "function",
    "builtin_function_or_method",
    "instance",
    "_Feature"
   ],
   "window_display": false
  }
 },
 "nbformat": 4,
 "nbformat_minor": 4
}
