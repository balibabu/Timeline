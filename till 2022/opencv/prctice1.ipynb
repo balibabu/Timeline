{
 "cells": [
  {
   "cell_type": "code",
   "execution_count": 2,
   "metadata": {
    "ExecuteTime": {
     "end_time": "2022-04-15T09:28:56.782718Z",
     "start_time": "2022-04-15T09:28:16.164329Z"
    }
   },
   "outputs": [
    {
     "name": "stdout",
     "output_type": "stream",
     "text": [
      "320.0\n",
      "240.0\n"
     ]
    }
   ],
   "source": [
    "import cv2\n",
    "cap=cv2.VideoCapture(0)\n",
    "fourcc=cv2.VideoWriter_fourcc(*'XVID')\n",
    "output=cv2.VideoWriter('record.avi',fourcc,60,(120,160))\n",
    "cap.set(3,30)\n",
    "cap.set(4,40)\n",
    "print(cap.get(3))\n",
    "print(cap.get(4))\n",
    "while True:\n",
    "    ret, frame=cap.read()\n",
    "    cv2.imshow('recording',frame)\n",
    "    output.write(frame)\n",
    "    if cv2.waitKey(1) & 0xFF ==27:\n",
    "        break\n",
    "cap.release()\n",
    "cv2.destroyAllWindows()"
   ]
  },
  {
   "cell_type": "code",
   "execution_count": 4,
   "metadata": {
    "ExecuteTime": {
     "end_time": "2022-04-15T09:31:05.886279Z",
     "start_time": "2022-04-15T09:31:04.649439Z"
    }
   },
   "outputs": [
    {
     "name": "stdout",
     "output_type": "stream",
     "text": [
      "played\n"
     ]
    }
   ],
   "source": [
    "import cv2\n",
    "cap=cv2.VideoCapture('video.mp4')\n",
    "while cap.isOpened():\n",
    "    ret, frame=cap.read()\n",
    "    if ret==True:\n",
    "        cv2.imshow('playing',frame)\n",
    "    else:\n",
    "        break\n",
    "    if cv2.waitKey(1) & 0xFF ==27:\n",
    "        break\n",
    "cap.release()\n",
    "cv2.destroyAllWindows()\n",
    "print('played')"
   ]
  },
  {
   "cell_type": "code",
   "execution_count": 5,
   "metadata": {
    "ExecuteTime": {
     "end_time": "2022-04-15T09:32:40.217518Z",
     "start_time": "2022-04-15T09:32:17.703371Z"
    }
   },
   "outputs": [
    {
     "name": "stdout",
     "output_type": "stream",
     "text": [
      "348,69\n",
      "30,29\n",
      "19,17\n",
      "16,16\n",
      "646,453\n",
      "524,101\n",
      "478,141\n",
      "625,0\n"
     ]
    }
   ],
   "source": [
    "from numpy import *\n",
    "def click_event(event,x,y,flag,param):\n",
    "    if event==cv2.EVENT_FLAG_LBUTTON:\n",
    "        text=str(x)+','+str(y)\n",
    "        print(text)\n",
    "        font=cv2.FONT_HERSHEY_SIMPLEX\n",
    "        cv2.putText(img,text,(x,y),font,.4,(0,0,0),1)\n",
    "        cv2.imshow('image',img)\n",
    "    if event==cv2.EVENT_FLAG_RBUTTON:\n",
    "        b,g,r=img[x,y]\n",
    "        text=str(b)+','+str(g)+','+str(r)\n",
    "        font=cv2.FONT_HERSHEY_SIMPLEX\n",
    "        cv2.putText(img,text,(x,y),font,.4,(255,0,255),1)\n",
    "        cv2.imshow('image',img)\n",
    "\n",
    "img=cv2.imread('colors.jpeg',-1)\n",
    "cv2.imshow('image',img)\n",
    "cv2.setMouseCallback('image',click_event)\n",
    "cv2.waitKey(0)\n",
    "cv2.destroyAllWindows()\n"
   ]
  },
  {
   "cell_type": "code",
   "execution_count": 2,
   "metadata": {
    "ExecuteTime": {
     "end_time": "2022-04-16T14:52:33.014998Z",
     "start_time": "2022-04-16T14:52:28.225055Z"
    }
   },
   "outputs": [],
   "source": [
    "import cv2\n",
    "from numpy import *\n",
    "img=cv2.imread('bali.jpg',-1)\n",
    "switch=img[167:240, 456:534]\n",
    "img[175:248, 69:147]=switch\n",
    "cv2.imshow('hd',switch)\n",
    "cv2.imshow('image',img)\n",
    "cv2.waitKey(0)\n",
    "cv2.destroyAllWindows()"
   ]
  },
  {
   "cell_type": "code",
   "execution_count": 3,
   "metadata": {
    "ExecuteTime": {
     "end_time": "2022-04-16T14:52:43.414901Z",
     "start_time": "2022-04-16T14:52:35.031421Z"
    }
   },
   "outputs": [],
   "source": [
    "def nothing(x):\n",
    "    pass\n",
    "def click_event(event,x,y,flag,param):\n",
    "    if event==cv2.EVENT_FLAG_LBUTTON:\n",
    "        points.append((x,y))\n",
    "        if len(points)>1:\n",
    "            b=cv2.getTrackbarPos('B','trackbar')\n",
    "            g=cv2.getTrackbarPos('G','trackbar')\n",
    "            r=cv2.getTrackbarPos('R','trackbar')\n",
    "            t=cv2.getTrackbarPos('thick','trackbar')\n",
    "            cv2.line(img2,points[-1],points[-2],(b,g,r),t)\n",
    "        cv2.imshow('painting',img2)\n",
    "img=zeros([120,330,3],uint8)\n",
    "img2=zeros([480,640,3],uint8)\n",
    "img2[:]=255\n",
    "points=[]\n",
    "cv2.namedWindow('trackbar')\n",
    "cv2.createTrackbar('B','trackbar',0,255,nothing)\n",
    "cv2.createTrackbar('G','trackbar',0,255,nothing)\n",
    "cv2.createTrackbar('R','trackbar',0,255,nothing)\n",
    "cv2.createTrackbar('thick','trackbar',1,10,nothing)\n",
    "cv2.createTrackbar('switch:[on/of]','trackbar',0,1,nothing)\n",
    "cv2.imshow('painting',img2)\n",
    "while True:\n",
    "    if cv2.waitKey(1) & 0xFF == 27:\n",
    "        break\n",
    "    b=cv2.getTrackbarPos('B','trackbar')\n",
    "    g=cv2.getTrackbarPos('G','trackbar')\n",
    "    r=cv2.getTrackbarPos('R','trackbar')\n",
    "    s=cv2.getTrackbarPos('switch:[on/of]','trackbar')\n",
    "    if s==0:\n",
    "        img[:]=0\n",
    "        cv2.imshow('trackbar',img)\n",
    "    else:\n",
    "        img[:]=[b,g,r]\n",
    "        cv2.imshow('trackbar',img)\n",
    "    cv2.setMouseCallback('painting',click_event)\n",
    "cv2.destroyAllWindows()"
   ]
  },
  {
   "cell_type": "code",
   "execution_count": null,
   "metadata": {},
   "outputs": [],
   "source": []
  }
 ],
 "metadata": {
  "kernelspec": {
   "display_name": "Python 3 (ipykernel)",
   "language": "python",
   "name": "python3"
  },
  "language_info": {
   "codemirror_mode": {
    "name": "ipython",
    "version": 3
   },
   "file_extension": ".py",
   "mimetype": "text/x-python",
   "name": "python",
   "nbconvert_exporter": "python",
   "pygments_lexer": "ipython3",
   "version": "3.9.7"
  },
  "varInspector": {
   "cols": {
    "lenName": 16,
    "lenType": 16,
    "lenVar": 40
   },
   "kernels_config": {
    "python": {
     "delete_cmd_postfix": "",
     "delete_cmd_prefix": "del ",
     "library": "var_list.py",
     "varRefreshCmd": "print(var_dic_list())"
    },
    "r": {
     "delete_cmd_postfix": ") ",
     "delete_cmd_prefix": "rm(",
     "library": "var_list.r",
     "varRefreshCmd": "cat(var_dic_list()) "
    }
   },
   "types_to_exclude": [
    "module",
    "function",
    "builtin_function_or_method",
    "instance",
    "_Feature"
   ],
   "window_display": false
  }
 },
 "nbformat": 4,
 "nbformat_minor": 4
}
