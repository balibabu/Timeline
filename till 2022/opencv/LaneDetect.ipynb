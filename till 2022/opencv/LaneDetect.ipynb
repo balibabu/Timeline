{
 "cells": [
  {
   "cell_type": "code",
   "execution_count": 1,
   "metadata": {},
   "outputs": [],
   "source": [
    "import cv2\n",
    "from numpy import *\n",
    "def region_of_interest(img,vertices):\n",
    "    mask=zeros_like(img)\n",
    "    match_mask_color=255\n",
    "    cv2.fillPoly(mask,vertices,match_mask_color)\n",
    "    masked_image=cv2.bitwise_and(img,mask)\n",
    "    return masked_image\n",
    "def draw_the_lines(img,lines):\n",
    "    blank_image=zeros((img.shape[0],img.shape[1],3),uint8)\n",
    "    for line in lines:\n",
    "        for x1,y1,x2,y2 in line:\n",
    "            cv2.line(blank_image,(x1,y1),(x2,y2),(0,255,0),5)\n",
    "    img=cv2.addWeighted(img,0.8,blank_image,1,0.0)\n",
    "    return img\n",
    "\n",
    "image=cv2.imread('road.jpg',1)\n",
    "height=image.shape[0]\n",
    "weidth=image.shape[1]\n",
    "region_of_interest_vertices=[\n",
    "    (0,height),(weidth/2,2.9*height/5),(weidth,height)\n",
    "]\n",
    "gray_image=cv2.cvtColor(image,cv2.COLOR_BGR2GRAY)\n",
    "canny_image=cv2.Canny(gray_image,255,255)\n",
    "cropped_image=region_of_interest(canny_image,array([region_of_interest_vertices],int32),)\n",
    "lines=cv2.HoughLinesP(cropped_image,6,pi/60,160,array([]),100,25)\n",
    "image_with_lines=draw_the_lines(image,lines)\n",
    "cv2.imshow('bali',image_with_lines)\n",
    "cv2.waitKey(0)\n",
    "cv2.destroyAllWindows()"
   ]
  },
  {
   "cell_type": "code",
   "execution_count": 2,
   "metadata": {},
   "outputs": [],
   "source": [
    "cap=cv2.VideoCapture('Lane.mp4')\n",
    "while cap.isOpened():\n",
    "    ret,image=cap.read()\n",
    "    if ret:\n",
    "        \n",
    "        \n",
    "        height=image.shape[0]\n",
    "        weidth=image.shape[1]\n",
    "        region_of_interest_vertices=[\n",
    "            (0,height),(weidth/2,3.5*height/5),(weidth,height)\n",
    "        ]\n",
    "        gray_image=cv2.cvtColor(image,cv2.COLOR_BGR2GRAY)\n",
    "        canny_image=cv2.Canny(gray_image,200,255)\n",
    "        cropped_image=region_of_interest(canny_image,array([region_of_interest_vertices],int32),)\n",
    "        lines=cv2.HoughLinesP(cropped_image,rho=6,theta=pi/60,threshold=50,lines=array([]),minLineLength=0,maxLineGap=25)\n",
    "        image_with_lines=draw_the_lines(image,lines)\n",
    "        \n",
    "        \n",
    "        cv2.imshow('frame',image_with_lines)\n",
    "        if cv2.waitKey(1) & 0xFF==27:\n",
    "            break\n",
    "    else:\n",
    "        break\n",
    "cap.release()\n",
    "cv2.destroyAllWindows()"
   ]
  },
  {
   "cell_type": "code",
   "execution_count": null,
   "metadata": {},
   "outputs": [],
   "source": []
  }
 ],
 "metadata": {
  "kernelspec": {
   "display_name": "Python 3",
   "language": "python",
   "name": "python3"
  },
  "language_info": {
   "codemirror_mode": {
    "name": "ipython",
    "version": 3
   },
   "file_extension": ".py",
   "mimetype": "text/x-python",
   "name": "python",
   "nbconvert_exporter": "python",
   "pygments_lexer": "ipython3",
   "version": "3.7.6"
  }
 },
 "nbformat": 4,
 "nbformat_minor": 4
}
