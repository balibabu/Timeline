{
 "cells": [
  {
   "cell_type": "code",
   "execution_count": 1,
   "metadata": {
    "ExecuteTime": {
     "end_time": "2022-04-15T15:00:03.108754Z",
     "start_time": "2022-04-15T14:59:50.665242Z"
    }
   },
   "outputs": [
    {
     "name": "stdout",
     "output_type": "stream",
     "text": [
      "(512, 512, 3)\n",
      "786432\n",
      "uint8\n"
     ]
    }
   ],
   "source": [
    "import cv2\n",
    "img=cv2.imread('lena.jpg',-1)\n",
    "print(img.shape)\n",
    "print(img.size)\n",
    "print(img.dtype)\n",
    "cv2.imshow('color',img)\n",
    "cv2.waitKey(0)\n",
    "cv2.destroyAllWindows()"
   ]
  },
  {
   "cell_type": "markdown",
   "metadata": {},
   "source": [
    "# to get the bgr value of a pixel"
   ]
  },
  {
   "cell_type": "code",
   "execution_count": 2,
   "metadata": {
    "ExecuteTime": {
     "end_time": "2022-04-15T15:00:13.597655Z",
     "start_time": "2022-04-15T15:00:09.537619Z"
    }
   },
   "outputs": [
    {
     "name": "stdout",
     "output_type": "stream",
     "text": [
      "90 48 131\n"
     ]
    }
   ],
   "source": [
    "(b,g,r)=img[200,200]\n",
    "print(b,g,r)\n",
    "img[:]=[b,g,r]\n",
    "cv2.imshow('color',img)\n",
    "cv2.waitKey(0)\n",
    "cv2.destroyAllWindows()"
   ]
  },
  {
   "cell_type": "markdown",
   "metadata": {},
   "source": [
    "# copy paste technique"
   ]
  },
  {
   "cell_type": "code",
   "execution_count": 3,
   "metadata": {
    "ExecuteTime": {
     "end_time": "2022-04-15T15:00:29.339698Z",
     "start_time": "2022-04-15T15:00:19.388729Z"
    }
   },
   "outputs": [],
   "source": [
    "img=cv2.imread('lena.jpg',-1)\n",
    "top_left_corner=img[0:150, 0:300]\n",
    "img[362:512, 212:512]=top_left_corner\n",
    "cv2.imshow('color',top_left_corner)\n",
    "cv2.imshow('copy',img)\n",
    "cv2.waitKey(0)\n",
    "cv2.destroyAllWindows()"
   ]
  },
  {
   "cell_type": "code",
   "execution_count": 4,
   "metadata": {
    "ExecuteTime": {
     "end_time": "2022-04-15T15:00:36.799831Z",
     "start_time": "2022-04-15T15:00:36.794849Z"
    }
   },
   "outputs": [
    {
     "name": "stdout",
     "output_type": "stream",
     "text": [
      "157\n"
     ]
    }
   ],
   "source": [
    "#getting intensity of pixel\n",
    "import cv2\n",
    "img=cv2.imread('lena.jpg',0)\n",
    "i=img[20,20]\n",
    "print(i)"
   ]
  },
  {
   "cell_type": "markdown",
   "metadata": {},
   "source": [
    "# adding two images and concatenating"
   ]
  },
  {
   "cell_type": "code",
   "execution_count": 6,
   "metadata": {
    "ExecuteTime": {
     "end_time": "2022-04-15T15:01:26.728467Z",
     "start_time": "2022-04-15T15:01:20.714385Z"
    }
   },
   "outputs": [],
   "source": [
    "import cv2\n",
    "from numpy import *\n",
    "img=cv2.imread('lena.jpg',1)\n",
    "img2=cv2.imread('bali.jpg',1)\n",
    "img2=cv2.resize(img2,(512,512))\n",
    "img3=cv2.add(img,img2)\n",
    "img4=concatenate((img,img2),axis=1)\n",
    "cv2.imshow('bali',img2)\n",
    "cv2.imshow('copy',img)\n",
    "cv2.imshow('add',img3)\n",
    "cv2.imshow('concatenate',img4)\n",
    "cv2.waitKey(0)\n",
    "cv2.destroyAllWindows()"
   ]
  },
  {
   "cell_type": "code",
   "execution_count": 8,
   "metadata": {
    "ExecuteTime": {
     "end_time": "2022-04-15T15:02:18.952522Z",
     "start_time": "2022-04-15T15:01:43.197175Z"
    }
   },
   "outputs": [
    {
     "name": "stdout",
     "output_type": "stream",
     "text": [
      "640.0 480.0\n"
     ]
    }
   ],
   "source": [
    "import cv2\n",
    "capture=cv2.VideoCapture(0)\n",
    "width=capture.get(cv2.CAP_PROP_FRAME_WIDTH)\n",
    "height=capture.get(cv2.CAP_PROP_FRAME_HEIGHT)\n",
    "print(width,height)\n",
    "while capture.isOpened():\n",
    "    ret, frame=capture.read()\n",
    "    cv2.imshow('camera',frame)\n",
    "    if cv2.waitKey(1) & 0xFF == 27:\n",
    "        break\n",
    "capture.release()\n",
    "cv2.destroyAllWindows()"
   ]
  },
  {
   "cell_type": "code",
   "execution_count": null,
   "metadata": {},
   "outputs": [],
   "source": []
  }
 ],
 "metadata": {
  "kernelspec": {
   "display_name": "Python 3 (ipykernel)",
   "language": "python",
   "name": "python3"
  },
  "language_info": {
   "codemirror_mode": {
    "name": "ipython",
    "version": 3
   },
   "file_extension": ".py",
   "mimetype": "text/x-python",
   "name": "python",
   "nbconvert_exporter": "python",
   "pygments_lexer": "ipython3",
   "version": "3.9.7"
  },
  "varInspector": {
   "cols": {
    "lenName": 16,
    "lenType": 16,
    "lenVar": 40
   },
   "kernels_config": {
    "python": {
     "delete_cmd_postfix": "",
     "delete_cmd_prefix": "del ",
     "library": "var_list.py",
     "varRefreshCmd": "print(var_dic_list())"
    },
    "r": {
     "delete_cmd_postfix": ") ",
     "delete_cmd_prefix": "rm(",
     "library": "var_list.r",
     "varRefreshCmd": "cat(var_dic_list()) "
    }
   },
   "types_to_exclude": [
    "module",
    "function",
    "builtin_function_or_method",
    "instance",
    "_Feature"
   ],
   "window_display": false
  }
 },
 "nbformat": 4,
 "nbformat_minor": 4
}
