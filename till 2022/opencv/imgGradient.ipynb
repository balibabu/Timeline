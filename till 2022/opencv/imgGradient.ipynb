{
 "cells": [
  {
   "cell_type": "code",
   "execution_count": 10,
   "metadata": {},
   "outputs": [],
   "source": [
    "import cv2\n",
    "from numpy import *\n",
    "img=cv2.imread('sudoku.png',0)\n",
    "lap=cv2.Laplacian(img,cv2.CV_64F,ksize=3)\n",
    "lap=uint8(absolute(lap))\n",
    "sobelX=cv2.Sobel(img,cv2.CV_64F,1,0)\n",
    "sobelY=cv2.Sobel(img,cv2.CV_64F,0,1)\n",
    "sobelX=uint8(absolute(sobelX))\n",
    "sobelY=uint8(absolute(sobelY))\n",
    "sobelcomb=cv2.bitwise_or(sobelX,sobelY)\n",
    "notsob=cv2.bitwise_not(sobelcomb)\n",
    "titles=['original','laplacian','sobelX','sobelY','sobelcomb','not']\n",
    "image=[img,lap,sobelX,sobelY,sobelcomb,notsob]\n",
    "for i in range(6):\n",
    "    cv2.imshow(titles[i],image[i])\n",
    "cv2.waitKey(0)\n",
    "cv2.destroyAllWindows()"
   ]
  },
  {
   "cell_type": "code",
   "execution_count": null,
   "metadata": {},
   "outputs": [],
   "source": []
  }
 ],
 "metadata": {
  "kernelspec": {
   "display_name": "Python 3",
   "language": "python",
   "name": "python3"
  },
  "language_info": {
   "codemirror_mode": {
    "name": "ipython",
    "version": 3
   },
   "file_extension": ".py",
   "mimetype": "text/x-python",
   "name": "python",
   "nbconvert_exporter": "python",
   "pygments_lexer": "ipython3",
   "version": "3.7.6"
  }
 },
 "nbformat": 4,
 "nbformat_minor": 4
}
