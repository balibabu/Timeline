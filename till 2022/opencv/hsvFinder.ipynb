{
 "cells": [
  {
   "cell_type": "code",
   "execution_count": 28,
   "metadata": {},
   "outputs": [
    {
     "name": "stdout",
     "output_type": "stream",
     "text": [
      "enter the image name bali.jpg\n",
      "[[[120  91  95]]]\n",
      "[[[111  86  59]]]\n",
      "[[[ 0 37 41]]]\n",
      "[[[177  57  40]]]\n",
      "[[[ 25   7 214]]]\n"
     ]
    }
   ],
   "source": [
    "import cv2\n",
    "from numpy import *\n",
    "def click_event(event,x,y,flags,param):\n",
    "    pixel=uint8([[[0,0,0]]])\n",
    "    if event == cv2.EVENT_FLAG_LBUTTON:\n",
    "        try:\n",
    "            b,g,r=img[y,x]\n",
    "            pixel=uint8([[[b,g,r]]])\n",
    "            hsv=cv2.cvtColor(pixel,cv2.COLOR_BGR2HSV)\n",
    "            print(hsv)\n",
    "            text=str(hsv)\n",
    "            font=cv2.FONT_HERSHEY_SIMPLEX\n",
    "            cv2.putText(img,text,(x,y),font,.4,(255-int(b),255-int(g),255-int(r)),1)\n",
    "            cv2.imshow('photo',img)\n",
    "        except Exception as e:\n",
    "            print(e)\n",
    "        \n",
    "\n",
    "\n",
    "img=cv2.imread(input('enter the image name '),1)\n",
    "cv2.imshow('photo',img)\n",
    "cv2.setMouseCallback('photo',click_event)\n",
    "cv2.waitKey(0)\n",
    "cv2.destroyAllWindows()"
   ]
  },
  {
   "cell_type": "code",
   "execution_count": null,
   "metadata": {},
   "outputs": [],
   "source": []
  }
 ],
 "metadata": {
  "kernelspec": {
   "display_name": "Python 3",
   "language": "python",
   "name": "python3"
  },
  "language_info": {
   "codemirror_mode": {
    "name": "ipython",
    "version": 3
   },
   "file_extension": ".py",
   "mimetype": "text/x-python",
   "name": "python",
   "nbconvert_exporter": "python",
   "pygments_lexer": "ipython3",
   "version": "3.7.6"
  }
 },
 "nbformat": 4,
 "nbformat_minor": 4
}
