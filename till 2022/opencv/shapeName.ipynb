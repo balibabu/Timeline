{
 "cells": [
  {
   "cell_type": "code",
   "execution_count": 16,
   "metadata": {},
   "outputs": [],
   "source": [
    "import cv2\n",
    "from numpy import *\n",
    "img=cv2.imread('shapes.png',1)\n",
    "gray=cv2.cvtColor(img,cv2.COLOR_BGR2GRAY)\n",
    "#cv2.imshow('gray',gray)\n",
    "blur=cv2.GaussianBlur(gray,(5,5),0)\n",
    "#cv2.imshow('blur',blur)\n",
    "_,thresh=cv2.threshold(blur,240,255,0)\n",
    "#cv2.imshow('thresh',thresh)\n",
    "dilated=cv2.dilate(thresh,None)\n",
    "#cv2.imshow('dilated',dilated)\n",
    "contours,_=cv2.findContours(dilated,cv2.RETR_TREE,cv2.CHAIN_APPROX_NONE)\n",
    "for contour in contours:\n",
    "    approx=cv2.approxPolyDP(contour,0.01*cv2.arcLength(contour,True),True)\n",
    "    cv2.drawContours(img,[approx],0,(0,0,0),2)\n",
    "    x=approx.ravel()[0]\n",
    "    y=approx.ravel()[1]-5\n",
    "    if len(approx)==3:\n",
    "        cv2.putText(img,'triangle',(x,y),cv2.FONT_HERSHEY_SIMPLEX,0.5,(0,0,0))\n",
    "    elif len(approx)==4:\n",
    "        x1,y1,w,h=cv2.boundingRect(approx)\n",
    "        aspectRatio=float(w)/h\n",
    "        if aspectRatio>=0.95 and aspectRatio<=1.05:\n",
    "            cv2.putText(img,'square',(x,y),cv2.FONT_HERSHEY_SIMPLEX,0.5,(0,0,0))\n",
    "        else:\n",
    "            cv2.putText(img,'rectangle',(x,y),cv2.FONT_HERSHEY_SIMPLEX,0.5,(0,0,0))\n",
    "    elif len(approx)==5:\n",
    "        cv2.putText(img,'pentagone',(x,y),cv2.FONT_HERSHEY_SIMPLEX,0.5,(0,0,0))\n",
    "    elif len(approx)==10:\n",
    "        cv2.putText(img,'star',(x,y),cv2.FONT_HERSHEY_SIMPLEX,0.5,(0,0,0))\n",
    "    else:\n",
    "        cv2.putText(img,'circle',(x,y),cv2.FONT_HERSHEY_SIMPLEX,0.5,(0,0,0))\n",
    "    \n",
    "cv2.imshow('shapes',img)\n",
    "cv2.waitKey(0)\n",
    "cv2.destroyAllWindows()"
   ]
  },
  {
   "cell_type": "code",
   "execution_count": null,
   "metadata": {},
   "outputs": [],
   "source": []
  }
 ],
 "metadata": {
  "kernelspec": {
   "display_name": "Python 3",
   "language": "python",
   "name": "python3"
  },
  "language_info": {
   "codemirror_mode": {
    "name": "ipython",
    "version": 3
   },
   "file_extension": ".py",
   "mimetype": "text/x-python",
   "name": "python",
   "nbconvert_exporter": "python",
   "pygments_lexer": "ipython3",
   "version": "3.7.6"
  }
 },
 "nbformat": 4,
 "nbformat_minor": 4
}
