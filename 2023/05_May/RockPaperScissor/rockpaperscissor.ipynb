{
 "cells": [
  {
   "cell_type": "markdown",
   "metadata": {},
   "source": [
    "## <font face='comic sans ms' color ='yellow'>Level 1</font>"
   ]
  },
  {
   "cell_type": "code",
   "execution_count": 10,
   "metadata": {},
   "outputs": [],
   "source": [
    "data=open('Inputs/level1_1.in')\n",
    "lines=data.readlines()"
   ]
  },
  {
   "cell_type": "code",
   "execution_count": 15,
   "metadata": {},
   "outputs": [],
   "source": [
    "numOfInputs=int(lines[0])"
   ]
  },
  {
   "cell_type": "code",
   "execution_count": 32,
   "metadata": {},
   "outputs": [],
   "source": [
    "def getWinner(styles):\n",
    "    if styles[0]==styles[1]: return styles[0]\n",
    "    winner={'RP':'P','PR':'P','PS':'S','SP':'S','SR':'R','RS':'R'}\n",
    "    return winner[styles]"
   ]
  },
  {
   "cell_type": "code",
   "execution_count": 33,
   "metadata": {},
   "outputs": [],
   "source": [
    "str1=''\n",
    "for i in range(numOfInputs):\n",
    "    styles=lines[i+1][:2]\n",
    "    str1+=getWinner(styles)+'\\n'"
   ]
  },
  {
   "cell_type": "code",
   "execution_count": 36,
   "metadata": {},
   "outputs": [],
   "source": [
    "file1=open('output.txt','w')\n",
    "file1.write(str1)\n",
    "file1.close()"
   ]
  },
  {
   "cell_type": "markdown",
   "metadata": {},
   "source": [
    "## <font face='comic sans ms' color ='yellow'>Level 2</font>"
   ]
  },
  {
   "cell_type": "code",
   "execution_count": 1,
   "metadata": {},
   "outputs": [],
   "source": [
    "def getFinnale(styles):\n",
    "    if len(styles)==2: return getWinner(styles)\n",
    "    return getFinnale(getFinnale(styles[:len(styles)//2])+getFinnale(styles[len(styles)//2:]))"
   ]
  },
  {
   "cell_type": "code",
   "execution_count": 19,
   "metadata": {},
   "outputs": [],
   "source": [
    "def getWinner(styles):\n",
    "    if styles[0]==styles[1]: return styles[0]\n",
    "    winner={'RP':'P','PR':'P','PS':'S','SP':'S','SR':'R','RS':'R'}\n",
    "    return winner[styles]\n",
    "\n",
    "data=open('Inputs/level2_1.in')\n",
    "lines=data.readlines()\n",
    "numOfInputs=int(lines[0].split()[0])\n",
    "str1=''\n",
    "for i in range(numOfInputs):\n",
    "    styles=lines[i+1][:-1]\n",
    "    str1+=getFinnale(styles[:len(styles)//2])+getFinnale(styles[len(styles)//2:])+'\\n'\n",
    "\n",
    "file1=open('output.txt','w')\n",
    "file1.write(str1)\n",
    "file1.close()"
   ]
  },
  {
   "cell_type": "code",
   "execution_count": 5,
   "metadata": {},
   "outputs": [
    {
     "data": {
      "text/plain": [
       "'S'"
      ]
     },
     "execution_count": 5,
     "metadata": {},
     "output_type": "execute_result"
    }
   ],
   "source": [
    "getFinnale()"
   ]
  },
  {
   "cell_type": "code",
   "execution_count": 29,
   "metadata": {},
   "outputs": [
    {
     "data": {
      "text/plain": [
       "'PS'"
      ]
     },
     "execution_count": 29,
     "metadata": {},
     "output_type": "execute_result"
    }
   ],
   "source": [
    "a='RRPPRPSRRRPRSPRSPPPSRPRSRSPPSSRP'\n",
    "def secondFinale(styles):\n",
    "    return getFinnale(styles[:len(styles)//2])+getFinnale(styles[len(styles)//2:])\n",
    "secondFinale(a)"
   ]
  },
  {
   "cell_type": "code",
   "execution_count": null,
   "metadata": {},
   "outputs": [],
   "source": []
  }
 ],
 "metadata": {
  "kernelspec": {
   "display_name": "base",
   "language": "python",
   "name": "python3"
  },
  "language_info": {
   "codemirror_mode": {
    "name": "ipython",
    "version": 3
   },
   "file_extension": ".py",
   "mimetype": "text/x-python",
   "name": "python",
   "nbconvert_exporter": "python",
   "pygments_lexer": "ipython3",
   "version": "3.9.12"
  },
  "orig_nbformat": 4
 },
 "nbformat": 4,
 "nbformat_minor": 2
}
