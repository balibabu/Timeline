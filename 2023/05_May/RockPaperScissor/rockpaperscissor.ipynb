{
 "cells": [
  {
   "cell_type": "markdown",
   "metadata": {},
   "source": [
    "## <font face='comic sans ms' color ='yellow'>Level 1</font>"
   ]
  },
  {
   "cell_type": "code",
   "execution_count": 10,
   "metadata": {},
   "outputs": [],
   "source": [
    "data=open('Inputs/level1_1.in')\n",
    "lines=data.readlines()"
   ]
  },
  {
   "cell_type": "code",
   "execution_count": 15,
   "metadata": {},
   "outputs": [],
   "source": [
    "numOfInputs=int(lines[0])"
   ]
  },
  {
   "cell_type": "code",
   "execution_count": 32,
   "metadata": {},
   "outputs": [],
   "source": [
    "def getWinner(styles):\n",
    "    if styles[0]==styles[1]: return styles[0]\n",
    "    winner={'RP':'P','PR':'P','PS':'S','SP':'S','SR':'R','RS':'R'}\n",
    "    return winner[styles]"
   ]
  },
  {
   "cell_type": "code",
   "execution_count": 33,
   "metadata": {},
   "outputs": [],
   "source": [
    "str1=''\n",
    "for i in range(numOfInputs):\n",
    "    styles=lines[i+1][:2]\n",
    "    str1+=getWinner(styles)+'\\n'"
   ]
  },
  {
   "cell_type": "code",
   "execution_count": 36,
   "metadata": {},
   "outputs": [],
   "source": [
    "file1=open('output.txt','w')\n",
    "file1.write(str1)\n",
    "file1.close()"
   ]
  },
  {
   "cell_type": "markdown",
   "metadata": {},
   "source": [
    "## <font face='comic sans ms' color ='yellow'>Level 2</font>"
   ]
  },
  {
   "cell_type": "code",
   "execution_count": 3,
   "metadata": {},
   "outputs": [],
   "source": [
    "def getWinner(styles):\n",
    "    if styles[0]==styles[1]: return styles[0]\n",
    "    winner={'RP':'P','PR':'P','PS':'S','SP':'S','SR':'R','RS':'R'}\n",
    "    return winner[styles]"
   ]
  },
  {
   "cell_type": "code",
   "execution_count": 4,
   "metadata": {},
   "outputs": [],
   "source": [
    "def afterOneRound(styles):\n",
    "    remain=''\n",
    "    for i in range(0,len(styles),2):\n",
    "        remain+=getWinner(styles[i:i+2])\n",
    "    return remain"
   ]
  },
  {
   "cell_type": "code",
   "execution_count": 6,
   "metadata": {},
   "outputs": [],
   "source": [
    "data=open('Inputs/level2_1.in')\n",
    "lines=data.readlines()\n",
    "numOfInputs=int(lines[0].split()[0])\n",
    "str1=''\n",
    "for i in range(numOfInputs):\n",
    "    styles=lines[i+1][:-1]\n",
    "    str1+=afterOneRound(afterOneRound(styles))+'\\n'\n",
    "\n",
    "file1=open('output.txt','w')\n",
    "file1.write(str1)\n",
    "file1.close()"
   ]
  },
  {
   "attachments": {},
   "cell_type": "markdown",
   "metadata": {},
   "source": [
    "## <font face='comic sans ms' color ='magenta'>Level 3</font>"
   ]
  },
  {
   "cell_type": "code",
   "execution_count": 79,
   "metadata": {},
   "outputs": [],
   "source": [
    "def getStyles(terms):\n",
    "    rock=int(terms[0][:-1])\n",
    "    paper=int(terms[1][:-1])\n",
    "    scissor=int(terms[2][:-1])\n",
    "    str1=''\n",
    "    if rock<paper:\n",
    "        str1+='R'.join('P'*(rock+1))\n",
    "        paper=paper-rock-1\n",
    "        rock=0\n",
    "    elif rock>paper:\n",
    "        str1+='P'.join('R'*(paper+1))\n",
    "        rock=rock-paper-1\n",
    "        paper=0\n",
    "    else:\n",
    "        str1+='P'.join('R'*(rock+1))[:-1]\n",
    "        rock=0\n",
    "        paper=0\n",
    "    str1='R'*rock+str1+'P'*paper+'S'*scissor\n",
    "    return str1"
   ]
  },
  {
   "cell_type": "code",
   "execution_count": 84,
   "metadata": {},
   "outputs": [],
   "source": [
    "data=open('Inputs/level3_1.in')\n",
    "lines=data.readlines()\n",
    "numOfInputs=int(lines[0].split()[0])"
   ]
  },
  {
   "cell_type": "code",
   "execution_count": 96,
   "metadata": {},
   "outputs": [],
   "source": [
    "output=''\n",
    "for i in range(1,len(lines)):\n",
    "    terms=lines[i].split()\n",
    "    output+=getStyles(terms)+'\\n'\n",
    "    # print(winner(getStyles(terms)))\n",
    "file1=open('output.txt','w')\n",
    "file1.write(output)\n",
    "file1.close()\n"
   ]
  },
  {
   "cell_type": "code",
   "execution_count": 62,
   "metadata": {},
   "outputs": [
    {
     "data": {
      "text/plain": [
       "('RPRPRPRPRPR', 11)"
      ]
     },
     "execution_count": 62,
     "metadata": {},
     "output_type": "execute_result"
    }
   ],
   "source": [
    "rock=int(terms[0][:-1])\n",
    "paper=int(terms[1][:-1])\n",
    "scissor=int(terms[2][:-1])\n",
    "str1=''\n",
    "if rock<paper:\n",
    "    str1+='R'.join('P'*(rock+1))\n",
    "    paper=paper-rock-1\n",
    "    rock=0\n",
    "elif rock>paper:\n",
    "    str1+='P'.join('R'*(paper+1))\n",
    "    rock=rock-paper-1\n",
    "    paper=0\n",
    "else:\n",
    "    str1+='P'.join('R'*(rock+1))[:-1]\n",
    "    rock=0\n",
    "    paper=0\n",
    "str1,len(str1)"
   ]
  },
  {
   "cell_type": "code",
   "execution_count": 68,
   "metadata": {},
   "outputs": [
    {
     "data": {
      "text/plain": [
       "(8, 5, 32)"
      ]
     },
     "execution_count": 68,
     "metadata": {},
     "output_type": "execute_result"
    }
   ],
   "source": [
    "str1.count('R'),str1.count('P'),len(str1)"
   ]
  },
  {
   "cell_type": "code",
   "execution_count": 64,
   "metadata": {},
   "outputs": [
    {
     "data": {
      "text/plain": [
       "(2, 0)"
      ]
     },
     "execution_count": 64,
     "metadata": {},
     "output_type": "execute_result"
    }
   ],
   "source": [
    "rock,paper"
   ]
  },
  {
   "cell_type": "code",
   "execution_count": 65,
   "metadata": {},
   "outputs": [],
   "source": [
    "str1='R'*rock+str1+'P'*paper+'S'*scissor"
   ]
  },
  {
   "cell_type": "code",
   "execution_count": 82,
   "metadata": {},
   "outputs": [],
   "source": [
    "def winner(str1):\n",
    "    while len(str1)!=1:\n",
    "        str1=afterOneRound(str1)\n",
    "    return str1"
   ]
  },
  {
   "cell_type": "code",
   "execution_count": 74,
   "metadata": {},
   "outputs": [],
   "source": [
    "str1='RPRRSSPP'"
   ]
  },
  {
   "cell_type": "code",
   "execution_count": null,
   "metadata": {},
   "outputs": [],
   "source": [
    "str1=''\n",
    "for i in range(numOfInputs):\n",
    "    styles=lines[i+1][:-1]\n",
    "    str1+=afterOneRound(afterOneRound(styles))+'\\n'\n",
    "\n",
    "file1=open('output.txt','w')\n",
    "file1.write(str1)\n",
    "file1.close()"
   ]
  },
  {
   "cell_type": "code",
   "execution_count": 16,
   "metadata": {},
   "outputs": [
    {
     "data": {
      "text/plain": [
       "'a123b123c'"
      ]
     },
     "execution_count": 16,
     "metadata": {},
     "output_type": "execute_result"
    }
   ],
   "source": [
    "'123'.join('abc')"
   ]
  },
  {
   "cell_type": "code",
   "execution_count": 17,
   "metadata": {},
   "outputs": [
    {
     "data": {
      "text/plain": [
       "'RPRPRPRPRPRPRPR'"
      ]
     },
     "execution_count": 17,
     "metadata": {},
     "output_type": "execute_result"
    }
   ],
   "source": [
    "'P'.join('RRRRRRRR')"
   ]
  },
  {
   "cell_type": "code",
   "execution_count": 20,
   "metadata": {},
   "outputs": [
    {
     "data": {
      "text/plain": [
       "7"
      ]
     },
     "execution_count": 20,
     "metadata": {},
     "output_type": "execute_result"
    }
   ],
   "source": [
    "'RPRPRPRPRPRPRPR'.count('P')"
   ]
  },
  {
   "cell_type": "code",
   "execution_count": 144,
   "metadata": {},
   "outputs": [
    {
     "data": {
      "text/plain": [
       "'RPPRSSSS'"
      ]
     },
     "execution_count": 144,
     "metadata": {},
     "output_type": "execute_result"
    }
   ],
   "source": [
    "afterOneRound(afterOneRound('RRRRRPRRPRRPRRPSSSSSSSSSSSSSSSSS'))"
   ]
  },
  {
   "cell_type": "code",
   "execution_count": 100,
   "metadata": {},
   "outputs": [
    {
     "data": {
      "text/plain": [
       "(8, 21, 3)"
      ]
     },
     "execution_count": 100,
     "metadata": {},
     "output_type": "execute_result"
    }
   ],
   "source": [
    "terms=lines[5].split()\n",
    "rock=int(terms[0][:-1])\n",
    "paper=int(terms[1][:-1])\n",
    "scissor=int(terms[2][:-1])\n",
    "rock,paper,scissor"
   ]
  },
  {
   "cell_type": "code",
   "execution_count": 137,
   "metadata": {},
   "outputs": [
    {
     "data": {
      "text/plain": [
       "'RPRPRPRP'"
      ]
     },
     "execution_count": 137,
     "metadata": {},
     "output_type": "execute_result"
    }
   ],
   "source": [
    "'RP'*4"
   ]
  },
  {
   "cell_type": "code",
   "execution_count": 138,
   "metadata": {},
   "outputs": [
    {
     "data": {
      "text/plain": [
       "'RRPRRPRRPRRP'"
      ]
     },
     "execution_count": 138,
     "metadata": {},
     "output_type": "execute_result"
    }
   ],
   "source": [
    "'RPRPRPRP'.replace('R','RR')"
   ]
  },
  {
   "cell_type": "code",
   "execution_count": 143,
   "metadata": {},
   "outputs": [
    {
     "data": {
      "text/plain": [
       "4"
      ]
     },
     "execution_count": 143,
     "metadata": {},
     "output_type": "execute_result"
    }
   ],
   "source": [
    "'RRRRRPRRPRRPRRPSSSSSSSSSSSSSSSSS'.count('P')"
   ]
  },
  {
   "cell_type": "code",
   "execution_count": 142,
   "metadata": {},
   "outputs": [
    {
     "data": {
      "text/plain": [
       "'SSSSSSSSSSSSSSSSS'"
      ]
     },
     "execution_count": 142,
     "metadata": {},
     "output_type": "execute_result"
    }
   ],
   "source": [
    "'S'*17"
   ]
  },
  {
   "cell_type": "code",
   "execution_count": null,
   "metadata": {},
   "outputs": [],
   "source": [
    "RRPPRRS\n",
    "SSSSSSSSSSSSSSSS"
   ]
  }
 ],
 "metadata": {
  "kernelspec": {
   "display_name": "base",
   "language": "python",
   "name": "python3"
  },
  "language_info": {
   "codemirror_mode": {
    "name": "ipython",
    "version": 3
   },
   "file_extension": ".py",
   "mimetype": "text/x-python",
   "name": "python",
   "nbconvert_exporter": "python",
   "pygments_lexer": "ipython3",
   "version": "3.9.12"
  },
  "orig_nbformat": 4
 },
 "nbformat": 4,
 "nbformat_minor": 2
}
