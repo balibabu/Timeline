{
 "cells": [
  {
   "attachments": {},
   "cell_type": "markdown",
   "metadata": {},
   "source": [
    "## <font face='comic sans ms' color ='yellow'>Level 1</font>"
   ]
  },
  {
   "cell_type": "code",
   "execution_count": 10,
   "metadata": {},
   "outputs": [],
   "source": [
    "data=open('Inputs/level1_1.in')\n",
    "lines=data.readlines()"
   ]
  },
  {
   "cell_type": "code",
   "execution_count": 15,
   "metadata": {},
   "outputs": [],
   "source": [
    "numOfInputs=int(lines[0])"
   ]
  },
  {
   "cell_type": "code",
   "execution_count": 32,
   "metadata": {},
   "outputs": [],
   "source": [
    "def getWinner(styles):\n",
    "    if styles[0]==styles[1]: return styles[0]\n",
    "    winner={'RP':'P','PR':'P','PS':'S','SP':'S','SR':'R','RS':'R'}\n",
    "    return winner[styles]"
   ]
  },
  {
   "cell_type": "code",
   "execution_count": 33,
   "metadata": {},
   "outputs": [],
   "source": [
    "str1=''\n",
    "for i in range(numOfInputs):\n",
    "    styles=lines[i+1][:2]\n",
    "    str1+=getWinner(styles)+'\\n'"
   ]
  },
  {
   "cell_type": "code",
   "execution_count": 36,
   "metadata": {},
   "outputs": [],
   "source": [
    "file1=open('output.txt','w')\n",
    "file1.write(str1)\n",
    "file1.close()"
   ]
  },
  {
   "attachments": {},
   "cell_type": "markdown",
   "metadata": {},
   "source": [
    "## <font face='comic sans ms' color ='yellow'>Level 2</font>"
   ]
  },
  {
   "cell_type": "code",
   "execution_count": 8,
   "metadata": {},
   "outputs": [],
   "source": [
    "def getWinner(styles):\n",
    "    if styles[0]==styles[1]: return styles[0]\n",
    "    winner={'RP':'P','PR':'P','PS':'S','SP':'S','SR':'R','RS':'R'}\n",
    "    return winner[styles]\n",
    "    \n",
    "def afterOneRound(styles):\n",
    "    remain=''\n",
    "    for i in range(0,len(styles),2):\n",
    "        remain+=getWinner(styles[i:i+2])\n",
    "    return remain"
   ]
  },
  {
   "cell_type": "code",
   "execution_count": 6,
   "metadata": {},
   "outputs": [],
   "source": [
    "data=open('Inputs/level2_1.in')\n",
    "lines=data.readlines()\n",
    "numOfInputs=int(lines[0].split()[0])\n",
    "str1=''\n",
    "for i in range(numOfInputs):\n",
    "    styles=lines[i+1][:-1]\n",
    "    str1+=afterOneRound(afterOneRound(styles))+'\\n'\n",
    "\n",
    "file1=open('output.txt','w')\n",
    "file1.write(str1)\n",
    "file1.close()"
   ]
  },
  {
   "attachments": {},
   "cell_type": "markdown",
   "metadata": {},
   "source": [
    "## <font face='comic sans ms' color ='magenta'>Level 3</font>"
   ]
  },
  {
   "cell_type": "code",
   "execution_count": 10,
   "metadata": {},
   "outputs": [],
   "source": [
    "def getStyles(terms):\n",
    "    rock=int(terms[0][:-1])\n",
    "    paper=int(terms[1][:-1])\n",
    "    scissor=int(terms[2][:-1])\n",
    "    str1=''\n",
    "    if paper>=rock:\n",
    "        str1='RP'*rock+'P'*(paper-rock)+'S'*scissor\n",
    "    else:\n",
    "        r=rock//3\n",
    "        r2=rock%3\n",
    "        str1='RRRP'*r\n",
    "        if r2==0: str1+='P'*(paper-r)\n",
    "        elif r2==1: str1+='R'+'P'*(paper-r)\n",
    "        else: str1+='RPR'+'P'*(paper-r-1)\n",
    "        str1+='S'*scissor\n",
    "    return str1\n",
    "        "
   ]
  },
  {
   "cell_type": "code",
   "execution_count": 6,
   "metadata": {},
   "outputs": [],
   "source": [
    "data=open('Inputs/level4_1.in')\n",
    "lines=data.readlines()\n",
    "numOfInputs=int(lines[0].split()[0])"
   ]
  },
  {
   "cell_type": "code",
   "execution_count": 21,
   "metadata": {},
   "outputs": [
    {
     "name": "stdout",
     "output_type": "stream",
     "text": [
      "S   20R 3P 9S\n",
      "\n",
      "S   1R 13P 18S\n",
      "\n",
      "P   25R 5P 2S\n",
      "\n",
      "S   3R 4P 25S\n",
      "\n",
      "P   24R 5P 3S\n",
      "\n",
      "S   6R 7P 19S\n",
      "\n",
      "P   25R 4P 3S\n",
      "\n",
      "S   16R 10P 6S\n",
      "\n",
      "S   16R 8P 8S\n",
      "\n",
      "P   21R 8P 3S\n",
      "\n",
      "S   1R 17P 14S\n",
      "\n",
      "S   3R 5P 24S\n",
      "\n",
      "S   8R 1P 23S\n",
      "\n",
      "P   19R 10P 3S\n",
      "\n",
      "P   26R 4P 2S\n",
      "\n",
      "S   9R 13P 10S\n",
      "\n",
      "R   11R 1P 20S\n",
      "\n",
      "S   11R 19P 2S\n",
      "\n",
      "S   3R 12P 17S\n",
      "\n",
      "S   24R 4P 4S\n",
      "\n",
      "S   10R 18P 4S\n",
      "\n",
      "S   17R 5P 10S\n",
      "\n",
      "P   19R 3P 10S\n",
      "\n",
      "S   12R 19P 1S\n",
      "\n",
      "S   17R 13P 2S\n",
      "\n",
      "S   23R 3P 6S\n",
      "\n",
      "S   14R 14P 4S\n",
      "\n",
      "P   21R 10P 1S\n",
      "\n",
      "S   11R 15P 6S\n",
      "\n",
      "S   14R 7P 11S\n",
      "\n",
      "S   16R 5P 11S\n",
      "\n",
      "P   20R 5P 7S\n",
      "\n",
      "S   9R 7P 16S\n",
      "\n",
      "P   19R 3P 10S\n",
      "\n",
      "P   15R 14P 3S\n",
      "\n",
      "S   5R 22P 5S\n",
      "\n",
      "S   5R 17P 10S\n",
      "\n",
      "S   10R 21P 1S\n",
      "\n",
      "P   16R 13P 3S\n",
      "\n",
      "P   19R 3P 10S\n",
      "\n",
      "S   15R 1P 16S\n",
      "\n",
      "S   11R 20P 1S\n",
      "\n",
      "S   19R 5P 8S\n",
      "\n",
      "S   16R 4P 12S\n",
      "\n",
      "S   21R 6P 5S\n",
      "\n",
      "P   20R 2P 10S\n",
      "\n",
      "S   15R 5P 12S\n",
      "\n",
      "S   2R 20P 10S\n",
      "\n",
      "S   13R 3P 16S\n",
      "\n",
      "P   20R 9P 3S\n",
      "\n"
     ]
    }
   ],
   "source": [
    "output=''\n",
    "for i in range(1,len(lines)):\n",
    "    terms=lines[i].split()\n",
    "    output+=getStyles(terms)+'\\n'\n",
    "    print(getFinalWinner(getStyles(terms)),' ',lines[i])\n",
    "file1=open('output.txt','w')\n",
    "file1.write(output)\n",
    "file1.close()\n"
   ]
  },
  {
   "attachments": {},
   "cell_type": "markdown",
   "metadata": {},
   "source": [
    "## <font face='comic sans ms' color ='yellow'>Level 4</font>"
   ]
  },
  {
   "cell_type": "code",
   "execution_count": 1,
   "metadata": {},
   "outputs": [],
   "source": [
    "def getFinalWinner(styles):\n",
    "    a=afterOneRound(styles)\n",
    "    while len(a)!=1:\n",
    "        a=afterOneRound(a)\n",
    "    return a\n",
    "def getWinner(styles):\n",
    "    if styles[0]==styles[1]: return styles[0]\n",
    "    winner={'RP':'P','PR':'P','PS':'S','SP':'S','SR':'R','RS':'R'}\n",
    "    return winner[styles]\n",
    "    \n",
    "def afterOneRound(styles):\n",
    "    remain=''\n",
    "    for i in range(0,len(styles),2):\n",
    "        remain+=getWinner(styles[i:i+2])\n",
    "    return remain"
   ]
  },
  {
   "cell_type": "code",
   "execution_count": 31,
   "metadata": {},
   "outputs": [],
   "source": [
    "import math\n",
    "def generateStyle(terms):\n",
    "    def method1(rock,paper,scissor,attempt=1):\n",
    "        if scissor==1: attempt=0\n",
    "        str1='S'*scissor\n",
    "        p=0\n",
    "        if scissor%2==1:\n",
    "            str1+='P'\n",
    "            p=1\n",
    "        while p!=paper:\n",
    "            p+=1\n",
    "            r=int(pow(2,p+attempt)-1)\n",
    "            if rock>r:\n",
    "                str1+='P'+'R'*r \n",
    "                rock-=r \n",
    "            else:\n",
    "                str1+='P'+'R'*rock+'P'*(paper-p)\n",
    "                rock=0\n",
    "                break\n",
    "        str1+='R'*rock\n",
    "        return str1\n",
    "\n",
    "    # def method(rock,paper,scissor,attempt=1):\n",
    "    #     p=0\n",
    "    #     if scissor%2==1:\n",
    "    #         str1='S'*(scissor-1)\n",
    "    #     while p!=paper:\n",
    "    #         p+=1\n",
    "    #         r=int(pow(2,p+attempt)-1)\n",
    "    #         if rock>r:\n",
    "    #             str1+='P'+'R'*r \n",
    "    #             rock-=r \n",
    "    #         else:\n",
    "    #             str1+='P'+'R'*rock+'P'*(paper-p)\n",
    "    #             rock=0\n",
    "    #             break\n",
    "    #     str1+='R'*rock\n",
    "    #     return str1\n",
    "\n",
    "    def method2(rock,paper,scissor):\n",
    "        r=int(math.log2(scissor))-1\n",
    "        str1='S'*scissor\n",
    "        r1=int(pow(2,r))\n",
    "        while paper>0 and rock>r1:\n",
    "            str1+='R'*r1+'P'\n",
    "            paper-=1\n",
    "            rock-=r1\n",
    "        str1+='P'*paper+'R'*rock\n",
    "        return str1\n",
    "\n",
    "    rock=int(terms[0][:-1])\n",
    "    paper=int(terms[1][:-1])\n",
    "    scissor=int(terms[2][:-1])\n",
    "    str1=''\n",
    "    if paper>=rock:\n",
    "        str1='RP'*rock+'P'*(paper-rock)+'S'*scissor\n",
    "        return str1\n",
    "    if scissor>rock:\n",
    "        str1='S'*scissor+'R'*rock+'P'*paper\n",
    "        return str1\n",
    "    str1=method1(rock,paper,scissor)\n",
    "    if getFinalWinner(str1)=='S': return str1\n",
    "    # str1=method1(rock,paper,scissor,attempt=1)\n",
    "    # if getFinalWinner(str1)=='S': return str1\n",
    "    return method2(rock,paper,scissor)\n",
    "        "
   ]
  },
  {
   "cell_type": "code",
   "execution_count": 32,
   "metadata": {},
   "outputs": [],
   "source": [
    "data=open('Inputs/level4_1.in')\n",
    "lines=data.readlines()\n",
    "numOfInputs=int(lines[0].split()[0])"
   ]
  },
  {
   "cell_type": "code",
   "execution_count": null,
   "metadata": {},
   "outputs": [],
   "source": [
    "output=''\n",
    "for i in range(1,len(lines)):\n",
    "    terms=lines[i].split()\n",
    "    output+=generateStyle(terms)+'\\n'\n",
    "    print(getFinalWinner(generateStyle(terms)))\n",
    "file1=open('output.txt','w')\n",
    "file1.write(output)\n",
    "file1.close()\n"
   ]
  },
  {
   "cell_type": "code",
   "execution_count": 183,
   "metadata": {},
   "outputs": [
    {
     "data": {
      "text/plain": [
       "6"
      ]
     },
     "execution_count": 183,
     "metadata": {},
     "output_type": "execute_result"
    }
   ],
   "source": [
    "getFinalWinner"
   ]
  },
  {
   "cell_type": "code",
   "execution_count": 169,
   "metadata": {},
   "outputs": [
    {
     "data": {
      "text/plain": [
       "'SSSSSSPRRPRRPRRRRRRRRRRRRRRRRRRR'"
      ]
     },
     "execution_count": 169,
     "metadata": {},
     "output_type": "execute_result"
    }
   ],
   "source": [
    "generateStyle(['23R','3P','6S'])"
   ]
  },
  {
   "cell_type": "code",
   "execution_count": 2,
   "metadata": {},
   "outputs": [],
   "source": [
    "def expand(str1):\n",
    "    i=0\n",
    "    exp=''\n",
    "    num=''\n",
    "    while i!=len(str1):\n",
    "        if '0'<=str1[i]<='9':\n",
    "            num+=str1[i]\n",
    "        else:\n",
    "            if num=='': exp+=str1[i]\n",
    "            else:   exp+=str1[i]*int(num)\n",
    "            num=''\n",
    "        i+=1\n",
    "    return exp\n"
   ]
  },
  {
   "cell_type": "code",
   "execution_count": null,
   "metadata": {},
   "outputs": [],
   "source": [
    "['788R', '7P', '229S']"
   ]
  },
  {
   "cell_type": "code",
   "execution_count": 4,
   "metadata": {},
   "outputs": [
    {
     "data": {
      "text/plain": [
       "('RRRRRRRRRRRRRRRRRRRRRRRRRRRRRRRRRRRRRRRRRRRRRRRRRRRRRRRRRRRRRRRRRRRRRRRRRRRRRRRRRRRRRRRRRRRRRRRRRRRRRRRRRRRRRRRRRRRRRRRRRRRRRRRRRRRRRRRRRRRRRRRRRRRRRRRRRRRRRRRRRRRRRRRRRRRRRRRRRRRRRRRRRRRRRRRRRRRRRRRRRRRRRRRRRRRRRRRRRRRRRRRRRRRRRRRRRRRRRRRRRRRRRRRRRRRRRRRRRRRRRRRRRRRRRRRRRRRRRRRRRRRRRRRRRRRRRRRRRRRRRRRRRRRRRRRRRRRRRRRRRRRRRRRRRRRRRRRRRRRRRRRRRRRRRRRRRRRRRRRRRRRRRRRRRRRRRRRRRRRRRRRRRRRRRRRRRRRRRRRRRRRRRRRRRRRRRRRRRRRRRRRRRRRRRRRRRRRRRRRRRRRRRRRRRRRRRRRRRRRRRRRRRRRRRRRRRRRRRRRRRRRRRRRRRRRRRRRRRRRRRRRRRRRRRRRRRRRRRRRRRRRRRRRRRRRRRRRRRRRRRRRRRRRRRRRRRRRRRRRRRRRRRRRRRRRRRRRRRRRRRRRRRRRRRRRRRRRRRRRRRRRRRRRRRRRRRRRRRRRRRRRRRRRRRRRRRRRRRRRRRRRRRRRRRRRRRRRRRRRRRRRRRRRRRRRRRRRRRRRRRRRRRRRRRRRRRRRRRRRRRRRRRRRRRRRRRRRRRRRRRRRRRRRRRRRRRRRRRRRRRRRRRRRRRRRRRRRRRRRRRRRRRRRRRRRRRRRRRRRRRRRRRRRRPPPPPPPSSSSSSSSSSSSSSSSSSSSSSSSSSSSSSSSSSSSSSSSSSSSSSSSSSSSSSSSSSSSSSSSSSSSSSSSSSSSSSSSSSSSSSSSSSSSSSSSSSSSSSSSSSSSSSSSSSSSSSSSSSSSSSSSSSSSSSSSSSSSSSSSSSSSSSSSSSSSSSSSSSSSSSSSSSSSSSSSSSSSSSSSSSSSSSSSSSSSSSSSSSSSSSSSSSSSSSSSSSSSSSSSSSSSS',\n",
       " 'R',\n",
       " 1024)"
      ]
     },
     "execution_count": 4,
     "metadata": {},
     "output_type": "execute_result"
    }
   ],
   "source": [
    "a=expand('788R7P229S')\n",
    "a,getFinalWinner(a),len(a)"
   ]
  },
  {
   "cell_type": "code",
   "execution_count": 3,
   "metadata": {},
   "outputs": [],
   "source": [
    "di={'S':['SS','SP'],'P':['PP','PR'],'R':['RR','RS']}\n",
    "def fun1(r,p,s):#s>p\n",
    "    st='S'\n",
    "    while len(st)!=(r+p+s):\n",
    "        st2=''\n",
    "        for i in range(len(st)):\n",
    "            st2+=di[st[i]][1]\n",
    "        st=st2\n",
    "    return st "
   ]
  },
  {
   "cell_type": "code",
   "execution_count": null,
   "metadata": {},
   "outputs": [],
   "source": [
    "fun1(3,2,3)"
   ]
  },
  {
   "cell_type": "code",
   "execution_count": 53,
   "metadata": {},
   "outputs": [],
   "source": [
    "def method1(rock,paper,scissor):\n",
    "    str1='S'*scissor\n",
    "    p=0\n",
    "    starting=1\n",
    "    if scissor==1:\n",
    "        str1+='P'\n",
    "        p=1\n",
    "        starting=0\n",
    "    elif scissor%2==1:\n",
    "        str1+='R'\n",
    "        rock-=1\n",
    "    while p!=paper:\n",
    "        p+=1\n",
    "        r=int(pow(2,p+starting)-1)\n",
    "        if rock>r:\n",
    "            str1+='P'+'R'*r \n",
    "            rock-=r \n",
    "        else:\n",
    "            str1+='P'+'R'*rock+'P'*(paper-p)\n",
    "            rock=0\n",
    "            break\n",
    "    str1+='R'*rock\n",
    "    return str1"
   ]
  },
  {
   "cell_type": "code",
   "execution_count": 54,
   "metadata": {},
   "outputs": [],
   "source": [
    "def method11(rock,paper,scissor):\n",
    "    str1='S'*scissor\n",
    "    p=0\n",
    "    if scissor%2==1:\n",
    "        str1+='P'\n",
    "        p=1\n",
    "\n",
    "    starting=int(math.log2(len(str1)))-1\n",
    "    while p!=paper:\n",
    "        p+=1\n",
    "        r=int(pow(2,p+starting)-1)\n",
    "        if rock>r:\n",
    "            str1+='P'+'R'*r \n",
    "            rock-=r \n",
    "        else:\n",
    "            str1+='P'+'R'*rock+'P'*(paper-p)\n",
    "            rock=0\n",
    "            break\n",
    "    str1+='R'*rock\n",
    "    return str1"
   ]
  },
  {
   "cell_type": "code",
   "execution_count": 55,
   "metadata": {},
   "outputs": [],
   "source": [
    "def method2(rock,paper,scissor):\n",
    "    str1='S'*scissor\n",
    "    p=0\n",
    "    starting=1\n",
    "    if scissor==1:\n",
    "        str1+='P'\n",
    "        p=1\n",
    "        starting=0\n",
    "    while p!=paper:\n",
    "        p+=1\n",
    "        r=int(pow(2,p+starting)-1)\n",
    "        if rock>r:\n",
    "            str1+='P'+'R'*r \n",
    "            rock-=r \n",
    "        else:\n",
    "            str1+='P'+'R'*rock+'P'*(paper-p)\n",
    "            rock=0\n",
    "            break\n",
    "    str1+='R'*rock\n",
    "    return str1"
   ]
  },
  {
   "cell_type": "code",
   "execution_count": 56,
   "metadata": {},
   "outputs": [],
   "source": [
    "def method3(rock,paper,scissor):\n",
    "    str1='S'*scissor\n",
    "    r=int(pow(2,int(math.log2(scissor)-1)))\n",
    "    while rock>=r and paper>0:\n",
    "        str1+=('R'*r+'P')\n",
    "        rock-=r\n",
    "        paper-=1\n",
    "    str1+='R'*rock+'P'*paper\n",
    "    return str1"
   ]
  },
  {
   "cell_type": "code",
   "execution_count": 57,
   "metadata": {},
   "outputs": [],
   "source": [
    "def method4(rock,paper,scissor,attempt=0):\n",
    "    str1='S'*scissor\n",
    "    p=0\n",
    "    # attempt=int(math.log2(len(str1)))-2\n",
    "    while p!=paper:\n",
    "        p+=1\n",
    "        r=int(pow(2,p+attempt)-1)\n",
    "        if rock>r:\n",
    "            str1+='R'*r + 'P'\n",
    "            rock-=r \n",
    "        else:\n",
    "            str1+='R'*rock+'P'+'P'*(paper-p)\n",
    "            rock=0\n",
    "            break\n",
    "    str1+='R'*rock\n",
    "    return str1\n"
   ]
  },
  {
   "cell_type": "code",
   "execution_count": 58,
   "metadata": {},
   "outputs": [],
   "source": [
    "def method5(rock,paper,scissor):\n",
    "    return method2(rock,paper,scissor-1)+'S'"
   ]
  },
  {
   "cell_type": "code",
   "execution_count": 59,
   "metadata": {},
   "outputs": [],
   "source": [
    "def method6(rock,paper,scissor):\n",
    "    str1='S'*scissor\n",
    "    if scissor%2==1:\n",
    "        str1+='RP'\n",
    "    start=math.ceil(math.log2(len(str1)))-1\n",
    "    p=str1.count('P')\n",
    "    rock-=str1.count('R')\n",
    "    while p!=paper:\n",
    "        r=int(pow(2,p+start-1)-1)\n",
    "        p+=1\n",
    "        if rock>r:\n",
    "            str1+='P'+'R'*r \n",
    "            rock-=r \n",
    "        else:\n",
    "            str1+='P'+'R'*rock+'P'*(paper-p)\n",
    "            rock=0\n",
    "            break\n",
    "    str1+='R'*rock\n",
    "    return str1\n"
   ]
  },
  {
   "cell_type": "code",
   "execution_count": 60,
   "metadata": {},
   "outputs": [],
   "source": [
    "def method7(rock,paper,scissor):\n",
    "    a=math.ceil(math.log2(rock/paper))\n",
    "    r=pow(2,a)-1\n",
    "    str1=''\n",
    "    while paper>0 and rock>0:\n",
    "        str1+='P'+'R'*r \n",
    "        rock-=r \n",
    "        paper-=1\n",
    "        if rock<r:\n",
    "            str1+='P'*paper+'R'*rock\n",
    "            break\n",
    "    str1+='S'*scissor\n",
    "    return str1"
   ]
  },
  {
   "cell_type": "code",
   "execution_count": 61,
   "metadata": {},
   "outputs": [
    {
     "data": {
      "text/plain": [
       "'P'"
      ]
     },
     "execution_count": 61,
     "metadata": {},
     "output_type": "execute_result"
    }
   ],
   "source": [
    "['889R', '3P', '132S']\n",
    "getFinalWinner(method7(889,3,132))"
   ]
  },
  {
   "cell_type": "code",
   "execution_count": 78,
   "metadata": {},
   "outputs": [],
   "source": [
    "import math\n",
    "def getStyle(terms):\n",
    "    rock=int(terms[0][:-1])\n",
    "    paper=int(terms[1][:-1])\n",
    "    scissor=int(terms[2][:-1])\n",
    "\n",
    "    if paper>=rock:\n",
    "        str1='RP'*rock+'P'*(paper-rock)+'S'*scissor\n",
    "        return str1\n",
    "    \n",
    "    # str1=method1(rock,paper,scissor)\n",
    "    # if getFinalWinner(str1)=='S': return str1\n",
    "\n",
    "    str1=method11(rock,paper,scissor)\n",
    "    if getFinalWinner(str1)=='S': return str1\n",
    "\n",
    "    # str1=method2(rock,paper,scissor)\n",
    "    # if getFinalWinner(str1)=='S': return str1\n",
    "\n",
    "    # str1=method3(rock,paper,scissor)\n",
    "    # if getFinalWinner(str1)=='S': return str1\n",
    "\n",
    "    str1=method4(rock,paper,scissor)\n",
    "    if getFinalWinner(str1)=='S': return str1\n",
    "    \n",
    "    # str1=method5(rock,paper,scissor)\n",
    "    # if getFinalWinner(str1)=='S': return str1\n",
    "    str1=method4(rock,paper,scissor,attempt=int(math.log2(scissor)-2))\n",
    "    if getFinalWinner(str1)=='S': return str1\n",
    "\n",
    "    # str1=method6(rock,paper,scissor)\n",
    "    # if getFinalWinner(str1)=='S': return str1\n",
    "\n",
    "    return methodAllRounder(rock,paper,scissor)"
   ]
  },
  {
   "cell_type": "code",
   "execution_count": 81,
   "metadata": {},
   "outputs": [],
   "source": [
    "data=open('Inputs/level4_3.in')\n",
    "lines=data.readlines()\n",
    "output = ''\n",
    "for i in range(1, len(lines)):\n",
    "    terms = lines[i].split()\n",
    "    styles=getStyle(terms)\n",
    "    output += styles+'\\n'\n",
    "    # print(getFinalWinner(styles))\n",
    "    if len(styles)==1: print(terms)\n",
    "file1 = open('out1.txt', 'w')\n",
    "file1.write(output)\n",
    "file1.close()"
   ]
  },
  {
   "cell_type": "code",
   "execution_count": null,
   "metadata": {},
   "outputs": [],
   "source": [
    "['73R', '2P', '53S']\n",
    "['98R', '4P', '26S']"
   ]
  },
  {
   "attachments": {},
   "cell_type": "markdown",
   "metadata": {},
   "source": []
  },
  {
   "cell_type": "code",
   "execution_count": 113,
   "metadata": {},
   "outputs": [
    {
     "name": "stdout",
     "output_type": "stream",
     "text": [
      "128 SSSSSSSSSSSSSSSSSSSSSSSSSSSSSSSSSSSSSSSSSSSSSSSSSSSSSPRRRRRRRRRRRRRRRRRRRRRRRRRRRRRRRPRRRRRRRRRRRRRRRRRRRRRRRRRRRRRRRRRRRRRRRRRR\n"
     ]
    },
    {
     "data": {
      "text/plain": [
       "'P'"
      ]
     },
     "execution_count": 113,
     "metadata": {},
     "output_type": "execute_result"
    }
   ],
   "source": [
    "a=expand('53SP31RP31R11R')\n",
    "print(len(a),a)\n",
    "getFinalWinner(a)"
   ]
  },
  {
   "cell_type": "code",
   "execution_count": 107,
   "metadata": {},
   "outputs": [
    {
     "data": {
      "text/plain": [
       "['950R', '4P', '70S']"
      ]
     },
     "execution_count": 107,
     "metadata": {},
     "output_type": "execute_result"
    }
   ],
   "source": [
    "['788R', '7P', '229S']\n",
    "['889R', '3P', '132S']\n",
    "['844R', '3P', '177S']\n",
    "['950R', '4P', '70S']"
   ]
  },
  {
   "cell_type": "code",
   "execution_count": 50,
   "metadata": {},
   "outputs": [
    {
     "data": {
      "text/plain": [
       "(1024,\n",
       " 'P',\n",
       " 'PRRRRRRRRRRRRRRRRRRRRRRRRRRRRRRRRRRRRRRRRRRRRRRRRRRRRRRRRRRRRRRRRRRRRRRRRRRRRRRRRRRRRRRRRRRRRRRRRRRRRRRRRRRRRRRRRRRRRRRRRRRRRRRRRRRRRRRRRRRRRRRRRRRRRRRRRRRRRRRRRRRRRRRRRRRRRRRRRRRRRRRRRRRRRRRRRRRRRRRRRRRRRRRRRRRRRRRRRRRRRRRRRRRRRRRRRRRRRRRRRRRRRRRRRRRRRRRRPRRRRRRRRRRRRRRRRRRRRRRRRRRRRRRRRRRRRRRRRRRRRRRRRRRRRRRRRRRRRRRRRRRRRRRRRRRRRRRRRRRRRRRRRRRRRRRRRRRRRRRRRRRRRRRRRRRRRRRRRRRRRRRRRRRRRRRRRRRRRRRRRRRRRRRRRRRRRRRRRRRRRRRRRRRRRRRRRRRRRRRRRRRRRRRRRRRRRRRRRRRRRRRRRRRRRRRRRRRRRRRRRRRRRRRRRRRRRRRRRRRRRRRRRRRRRRRRPRRRRRRRRRRRRRRRRRRRRRRRRRRRRRRRRRRRRRRRRRRRRRRRRRRRRRRRRRRRRRRRRRRRRRRRRRRRRRRRRRRRRRRRRRRRRRRRRRRRRRRRRRRRRRRRRRRRRRRRRRRRRRRRRRRRRRRRRRRRRRRRRRRRRRRRRRRRRRRRRRRRRRRRRRRRRRRRRRRRRRRRRRRRRRRRRRRRRRRRRRRRRRRRRRRRRRRRRRRRRRRRRRRRRRRRRRRRRRRRRRRRRRRRRRRRRRRRRRRRRRRRRRRRRRRRRRRRRRRRRRRRRRRRRRRRRRRRRRRRRRRRRRRRRRRRRRRRRRRRRRRRRRRRRRRRRRRRRRRRRRRRRRRRRRRRRRRRRRRRRRRRRRRRRRRRRRRRRRRRSSSSSSSSSSSSSSSSSSSSSSSSSSSSSSSSSSSSSSSSSSSSSSSSSSSSSSSSSSSSSSSSSSSSSSSSSSSSSSSSSSSSSSSSSSSSSSSSSSSSSSSSSSSSSSSSSSSSSSSSSSSSSSSSSSSS')"
      ]
     },
     "execution_count": 50,
     "metadata": {},
     "output_type": "execute_result"
    }
   ],
   "source": [
    "a=expand('P255RP255RP255R124R132S')\n",
    "len(a),getFinalWinner(a),a"
   ]
  },
  {
   "cell_type": "code",
   "execution_count": 40,
   "metadata": {},
   "outputs": [],
   "source": [
    "def methodAllRounder(rock,paper,scissor):\n",
    "    gap=rock//paper\n",
    "    for i in range(1,gap):\n",
    "        # print('hi')\n",
    "        s1=('P_r_R'*(paper-1)).replace('_r_',str(i))\n",
    "        s3='S'*scissor\n",
    "        a=rock-i*(paper-1)\n",
    "        for j in range(a+1):\n",
    "            s2=f'{j}R'+'P'+f'{a-j}R'\n",
    "            str1=expand(s3+s2+s1)\n",
    "            if getFinalWinner(str1) == 'S': return str1\n",
    "    return 'idk'"
   ]
  },
  {
   "cell_type": "code",
   "execution_count": 50,
   "metadata": {},
   "outputs": [],
   "source": [
    "import math\n",
    "def getStyle(terms):\n",
    "    rock=int(terms[0][:-1])\n",
    "    paper=int(terms[1][:-1])\n",
    "    scissor=int(terms[2][:-1])\n",
    "    if paper>=rock:\n",
    "        str1='RP'*rock+'P'*(paper-rock)+'S'*scissor\n",
    "        return str1\n",
    "        \n",
    "    str1=method11(rock,paper,scissor)\n",
    "    if getFinalWinner(str1)=='S': return str1\n",
    "\n",
    "    return methodAllRounder(rock,paper,scissor)\n",
    "\n",
    "data=open('Inputs/level4_2.in')\n",
    "lines=data.readlines()\n",
    "output = ''\n",
    "for i in range(1, len(lines)):\n",
    "    terms = lines[i].split()\n",
    "    styles=getStyle(terms)\n",
    "    output += styles+'\\n'\n",
    "    # print(getFinalWinner(styles))\n",
    "    if len(styles)==1: print(terms)\n",
    "file1 = open('output.txt', 'w')\n",
    "file1.write(output)\n",
    "file1.close()"
   ]
  },
  {
   "cell_type": "code",
   "execution_count": 39,
   "metadata": {},
   "outputs": [
    {
     "data": {
      "text/plain": [
       "'SSSSSSSSSSSSSSSSSSSSSSSSSSRRPRRRRRRRRRRRRRRRRRRRRRRRRRRRRRRRRRPRRRRRRRRRRRRRRRRRRRRRPRRRRRRRRRRRRRRRRRRRRRPRRRRRRRRRRRRRRRRRRRRR'"
      ]
     },
     "execution_count": 39,
     "metadata": {},
     "output_type": "execute_result"
    }
   ],
   "source": [
    "methodAllRounder(98,4,26)"
   ]
  },
  {
   "cell_type": "code",
   "execution_count": null,
   "metadata": {},
   "outputs": [],
   "source": [
    "['73R', '2P', '53S']\n",
    "['98R', '4P', '26S']"
   ]
  },
  {
   "cell_type": "code",
   "execution_count": null,
   "metadata": {},
   "outputs": [],
   "source": [
    "rock=889\n",
    "for q in range(1,rock//2):\n",
    "    s1=f'P{q}RP{q}R'\n",
    "    s3='132S'\n",
    "    a=889-q*2\n",
    "    for i in range(a+1):\n",
    "        s2=f'{i}R'+'P'+f'{a-i}R'\n",
    "        # print(s1+s2+s3)\n",
    "        # print(len(expand(s1+s2+s3)))\n",
    "        # break\n",
    "        if getFinalWinner(expand(s3+s2+s1)) in 'S':\n",
    "            print('S')\n",
    "            break"
   ]
  },
  {
   "cell_type": "code",
   "execution_count": 54,
   "metadata": {},
   "outputs": [
    {
     "name": "stdout",
     "output_type": "stream",
     "text": [
      "-RRRRR\n",
      "R-RRRR\n",
      "RR-RRR\n",
      "RRR-RR\n",
      "RRRR-R\n",
      "RRRRR-\n"
     ]
    }
   ],
   "source": [
    "for i in range(5+1):\n",
    "    print('R'*i+'-'+'R'*(5-i))"
   ]
  },
  {
   "cell_type": "code",
   "execution_count": 68,
   "metadata": {},
   "outputs": [
    {
     "data": {
      "text/plain": [
       "994"
      ]
     },
     "execution_count": 68,
     "metadata": {},
     "output_type": "execute_result"
    }
   ],
   "source": [
    "len(expand('P255RP255RP255R124R132S'))"
   ]
  },
  {
   "cell_type": "code",
   "execution_count": 23,
   "metadata": {},
   "outputs": [
    {
     "data": {
      "text/plain": [
       "'P5RP5R'"
      ]
     },
     "execution_count": 23,
     "metadata": {},
     "output_type": "execute_result"
    }
   ],
   "source": [
    "'P_r_RP_r_R'.replace('_r_','5')"
   ]
  },
  {
   "attachments": {},
   "cell_type": "markdown",
   "metadata": {},
   "source": [
    "## <font face='comic sans ms' color ='yellow'>Level 5</font>"
   ]
  },
  {
   "cell_type": "code",
   "execution_count": 2,
   "metadata": {},
   "outputs": [],
   "source": [
    "def fight(style):\n",
    "    rule={'R':'SL','P':'RY','S':'PL','Y':'RS','L':'PY'}\n",
    "    if style[1] in rule[style[0]]: \n",
    "        return style[0]\n",
    "    return style[1]"
   ]
  },
  {
   "cell_type": "code",
   "execution_count": 3,
   "metadata": {},
   "outputs": [
    {
     "data": {
      "text/plain": [
       "'P'"
      ]
     },
     "execution_count": 3,
     "metadata": {},
     "output_type": "execute_result"
    }
   ],
   "source": [
    "fight('RP')"
   ]
  },
  {
   "cell_type": "code",
   "execution_count": null,
   "metadata": {},
   "outputs": [],
   "source": []
  }
 ],
 "metadata": {
  "kernelspec": {
   "display_name": "base",
   "language": "python",
   "name": "python3"
  },
  "language_info": {
   "codemirror_mode": {
    "name": "ipython",
    "version": 3
   },
   "file_extension": ".py",
   "mimetype": "text/x-python",
   "name": "python",
   "nbconvert_exporter": "python",
   "pygments_lexer": "ipython3",
   "version": "3.9.12"
  },
  "orig_nbformat": 4
 },
 "nbformat": 4,
 "nbformat_minor": 2
}
