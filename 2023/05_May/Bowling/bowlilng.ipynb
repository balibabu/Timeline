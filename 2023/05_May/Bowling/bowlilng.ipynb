{
 "cells": [
  {
   "cell_type": "markdown",
   "metadata": {},
   "source": [
    "## <font face='comic sans ms' color ='yellow'>Level 1</font>"
   ]
  },
  {
   "cell_type": "code",
   "execution_count": 16,
   "metadata": {},
   "outputs": [],
   "source": [
    "data=input().split(':')\n",
    "rounds=int(data[0])\n",
    "pins=data[1].split(',')"
   ]
  },
  {
   "cell_type": "code",
   "execution_count": 17,
   "metadata": {},
   "outputs": [
    {
     "name": "stdout",
     "output_type": "stream",
     "text": [
      "['3', '3,4,10,1,2']\n",
      "3\n",
      "['3', '4', '10', '1', '2']\n"
     ]
    }
   ],
   "source": [
    "print(data)\n",
    "print(rounds)\n",
    "print(pins)"
   ]
  },
  {
   "cell_type": "code",
   "execution_count": null,
   "metadata": {},
   "outputs": [],
   "source": [
    "prevScore=0\n",
    "for i in range(0,rounds*2,2):\n",
    "    score=int(pins[i])\n",
    "    if score==10:\n",
    "        score=int(pins[i+1])+int(pins[i+2])+int(pins[i+3])\n",
    "    elif (score+int(pins[i+1]))==10:\n",
    "        score+=int(pins[i+1])+int(pins[i+2])\n",
    "    else:\n",
    "        score+=int(pins[i+1])\n",
    "    prevScore+=score\n",
    "    if i==rounds*2-2:\n",
    "        print(prevScore)\n",
    "    else:\n",
    "        print(prevScore,end=',')\n"
   ]
  },
  {
   "cell_type": "markdown",
   "metadata": {},
   "source": [
    "## <font face='comic sans ms' color ='yellow'>Level 2</font>"
   ]
  },
  {
   "cell_type": "code",
   "execution_count": null,
   "metadata": {},
   "outputs": [],
   "source": []
  },
  {
   "cell_type": "code",
   "execution_count": 27,
   "metadata": {},
   "outputs": [
    {
     "name": "stdout",
     "output_type": "stream",
     "text": [
      "9,25,40,60,80,97,113,133,153,169\n"
     ]
    }
   ],
   "source": [
    "data=input().split(':')\n",
    "rounds=int(data[0])\n",
    "pins=data[1].split(',')\n",
    "prevScore=0\n",
    "i=0\n",
    "while i<len(pins):\n",
    "    rounds-=1\n",
    "    score=0\n",
    "    if int(pins[i])==10:\n",
    "        score=int(pins[i+1])+int(pins[i+2])+10\n",
    "        i+=1\n",
    "    elif (int(pins[i])+int(pins[i+1]))==10:\n",
    "        score=int(pins[i+2])+10\n",
    "        i+=2\n",
    "    else:\n",
    "        score=int(pins[i])+int(pins[i+1])\n",
    "        i+=2\n",
    "\n",
    "    prevScore+=score\n",
    "\n",
    "    if rounds==0:\n",
    "        print(prevScore)\n",
    "        break\n",
    "    else:\n",
    "        print(prevScore,end=',')\n"
   ]
  },
  {
   "cell_type": "code",
   "execution_count": null,
   "metadata": {},
   "outputs": [],
   "source": [
    "5,14,29,49,60,61,77,97,117,133"
   ]
  }
 ],
 "metadata": {
  "kernelspec": {
   "display_name": "base",
   "language": "python",
   "name": "python3"
  },
  "language_info": {
   "codemirror_mode": {
    "name": "ipython",
    "version": 3
   },
   "file_extension": ".py",
   "mimetype": "text/x-python",
   "name": "python",
   "nbconvert_exporter": "python",
   "pygments_lexer": "ipython3",
   "version": "3.9.12"
  },
  "orig_nbformat": 4
 },
 "nbformat": 4,
 "nbformat_minor": 2
}
