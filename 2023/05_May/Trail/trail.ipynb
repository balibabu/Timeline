{
 "cells": [
  {
   "cell_type": "markdown",
   "metadata": {},
   "source": [
    "## <font face='comic sans ms' color ='yellow'>Level 1</font>"
   ]
  },
  {
   "cell_type": "code",
   "execution_count": null,
   "metadata": {},
   "outputs": [],
   "source": [
    "9 F 6 R 1 F 4 RFF 2 LFF 1 LFFFR 1 F 2 R 1 F 5"
   ]
  },
  {
   "cell_type": "code",
   "execution_count": 92,
   "metadata": {},
   "outputs": [
    {
     "name": "stdout",
     "output_type": "stream",
     "text": [
      "['9', 'F', '6', 'R', '1', 'F', '4', 'RFF', '2', 'LFF', '1', 'LFFFR', '1', 'F', '2', 'R', '1', 'F', '5']\n"
     ]
    }
   ],
   "source": [
    "trails=input()\n",
    "steps=trails.split()\n",
    "print(steps)"
   ]
  },
  {
   "cell_type": "code",
   "execution_count": 93,
   "metadata": {},
   "outputs": [
    {
     "data": {
      "text/plain": [
       "26"
      ]
     },
     "execution_count": 93,
     "metadata": {},
     "output_type": "execute_result"
    }
   ],
   "source": [
    "distance=0\n",
    "for i in range(1,len(steps),2):\n",
    "    n=steps[i].count('F')\n",
    "    distance+=int(n)*int(steps[i+1])\n",
    "distance"
   ]
  },
  {
   "cell_type": "markdown",
   "metadata": {},
   "source": [
    "## <font face='comic sans ms' color ='yellow'>Level 2</font>"
   ]
  },
  {
   "cell_type": "code",
   "execution_count": 94,
   "metadata": {},
   "outputs": [
    {
     "data": {
      "text/plain": [
       "'FFFFFFRFFFFRFFRFFLFFLFFFRFFRFFFFF'"
      ]
     },
     "execution_count": 94,
     "metadata": {},
     "output_type": "execute_result"
    }
   ],
   "source": [
    "allSteps=''\n",
    "for i in range(1,len(steps),2):\n",
    "    allSteps+=steps[i]*int(steps[i+1])\n",
    "allSteps"
   ]
  },
  {
   "cell_type": "code",
   "execution_count": 95,
   "metadata": {},
   "outputs": [],
   "source": [
    "direc=0\n",
    "northSteps=[0]\n",
    "eastSteps=[0]\n",
    "for step in allSteps:\n",
    "    if step in 'RL':\n",
    "        direc+=1 if step=='R' else -1\n",
    "    else:\n",
    "        if direc%2==0:\n",
    "            di=1 if direc%4==0 else -1\n",
    "            northSteps.append(northSteps[-1]+di)\n",
    "        else:\n",
    "            di=1 if (direc-1)%4==0 else -1\n",
    "            eastSteps.append(eastSteps[-1]+di)"
   ]
  },
  {
   "cell_type": "code",
   "execution_count": 96,
   "metadata": {},
   "outputs": [
    {
     "name": "stdout",
     "output_type": "stream",
     "text": [
      "26 30\n"
     ]
    }
   ],
   "source": [
    "area=(max(northSteps)-min(northSteps))*(max(eastSteps)-min(eastSteps))\n",
    "print(allSteps.count('F'),area)"
   ]
  },
  {
   "cell_type": "code",
   "execution_count": 97,
   "metadata": {},
   "outputs": [
    {
     "name": "stdout",
     "output_type": "stream",
     "text": [
      "[0, 1, 2, 3, 4, 5, 6, 5, 4, 3, 2, 1, 0]\n",
      "[0, 1, 2, 3, 4, 3, 2, 3, 4, 5, 4, 3, 2, 1, 0]\n"
     ]
    }
   ],
   "source": [
    "print(northSteps)\n",
    "print(eastSteps)"
   ]
  },
  {
   "cell_type": "markdown",
   "metadata": {},
   "source": [
    "## <font face='comic sans ms' color ='yellow'>Level 3</font>"
   ]
  },
  {
   "cell_type": "code",
   "execution_count": 98,
   "metadata": {},
   "outputs": [],
   "source": [
    "direc=0\n",
    "northSteps=[0]\n",
    "eastSteps=[0]\n",
    "edgePoints=[]\n",
    "for step in allSteps:\n",
    "    if step in 'RL':\n",
    "        direc+=1 if step=='R' else -1\n",
    "    else:\n",
    "        edgePoints.append((eastSteps[-1],northSteps[-1]))\n",
    "        if direc%2==0:\n",
    "            di=1 if direc%4==0 else -1\n",
    "            northSteps.append(northSteps[-1]+di)\n",
    "        else:\n",
    "            di=1 if (direc-1)%4==0 else -1\n",
    "            eastSteps.append(eastSteps[-1]+di)\n"
   ]
  },
  {
   "cell_type": "code",
   "execution_count": 99,
   "metadata": {},
   "outputs": [
    {
     "name": "stdout",
     "output_type": "stream",
     "text": [
      "[(0, 0), (0, 1), (0, 2), (0, 3), (0, 4), (0, 5), (0, 6), (1, 6), (2, 6), (3, 6), (4, 6), (4, 5), (4, 4), (3, 4), (2, 4), (2, 3), (2, 2), (3, 2), (4, 2), (5, 2), (5, 1), (5, 0), (4, 0), (3, 0), (2, 0), (1, 0)]\n"
     ]
    }
   ],
   "source": [
    "print(edgePoints)"
   ]
  },
  {
   "cell_type": "code",
   "execution_count": 100,
   "metadata": {},
   "outputs": [],
   "source": [
    "def isPointInside(point,edgePoints):\n",
    "    x=max(edgePoints)[0]\n",
    "    count=0\n",
    "    for i in range(point[0],x+1):\n",
    "        if (i,point[1]) in edgePoints:  count+=1\n",
    "    if count==1: return True\n",
    "    if count==0: return False\n",
    "\n",
    "    y=max([y for _,y in edgePoints])\n",
    "    count=0\n",
    "    for i in range(point[1],y+1):\n",
    "        if (point[0],i) in edgePoints:  count+=1\n",
    "    return count%2==1"
   ]
  },
  {
   "cell_type": "code",
   "execution_count": 101,
   "metadata": {},
   "outputs": [],
   "source": [
    "enclosedPoints=[]\n",
    "for i in range(min(eastSteps),max(eastSteps)+1):\n",
    "    for j in range(min(northSteps),max(northSteps)+1):\n",
    "        if ((i,j) not in edgePoints) and isPointInside((i,j),edgePoints): enclosedPoints.append((i,j))"
   ]
  },
  {
   "cell_type": "code",
   "execution_count": 102,
   "metadata": {},
   "outputs": [
    {
     "name": "stdout",
     "output_type": "stream",
     "text": [
      "[(1, 1), (1, 2), (1, 3), (1, 4), (1, 5), (2, 1), (2, 5), (3, 1), (3, 5), (4, 1)]\n"
     ]
    },
    {
     "data": {
      "text/plain": [
       "(10, None)"
      ]
     },
     "execution_count": 102,
     "metadata": {},
     "output_type": "execute_result"
    }
   ],
   "source": [
    "len(enclosedPoints),print(enclosedPoints)"
   ]
  },
  {
   "cell_type": "code",
   "execution_count": 103,
   "metadata": {},
   "outputs": [
    {
     "data": {
      "text/plain": [
       "36"
      ]
     },
     "execution_count": 103,
     "metadata": {},
     "output_type": "execute_result"
    }
   ],
   "source": [
    "len(edgePoints)+len(enclosedPoints)"
   ]
  },
  {
   "cell_type": "code",
   "execution_count": 104,
   "metadata": {},
   "outputs": [],
   "source": [
    "def calculateArea(edgePoints,enclosedPoints):\n",
    "    points=edgePoints+enclosedPoints\n",
    "    points.sort()\n",
    "    print(len(points))\n",
    "    area=0\n",
    "    while len(points)!=0:\n",
    "        x,y=points.pop()\n",
    "        possibleAreaPoints=[(x+1,y),(x,y+1),(x+1,y+1),(x-1,y),(x,y-1),(x-1,y-1)]\n",
    "        c=0\n",
    "        for i in possibleAreaPoints:\n",
    "            if i in points: c+=1\n",
    "        if c>=3: area+=1\n",
    "    return area"
   ]
  },
  {
   "cell_type": "code",
   "execution_count": 105,
   "metadata": {},
   "outputs": [
    {
     "name": "stdout",
     "output_type": "stream",
     "text": [
      "36\n"
     ]
    },
    {
     "data": {
      "text/plain": [
       "22"
      ]
     },
     "execution_count": 105,
     "metadata": {},
     "output_type": "execute_result"
    }
   ],
   "source": [
    "calculateArea(edgePoints,enclosedPoints)"
   ]
  },
  {
   "cell_type": "code",
   "execution_count": 68,
   "metadata": {},
   "outputs": [
    {
     "name": "stdout",
     "output_type": "stream",
     "text": [
      "[(0, 0), (0, 1), (0, 2), (0, 3), (1, 3), (2, 3), (3, 3), (3, 2), (3, 1), (3, 0), (2, 0), (1, 0)]\n"
     ]
    }
   ],
   "source": [
    "print(edgePoints)"
   ]
  },
  {
   "cell_type": "code",
   "execution_count": 50,
   "metadata": {},
   "outputs": [],
   "source": [
    "ls=[(0, 0), (0, 1), (0, 2), (0, 3), (0, 4)]"
   ]
  },
  {
   "cell_type": "code",
   "execution_count": 53,
   "metadata": {},
   "outputs": [
    {
     "data": {
      "text/plain": [
       "(0, 0)"
      ]
     },
     "execution_count": 53,
     "metadata": {},
     "output_type": "execute_result"
    }
   ],
   "source": [
    "ls.pop(0)"
   ]
  },
  {
   "cell_type": "code",
   "execution_count": 75,
   "metadata": {},
   "outputs": [
    {
     "data": {
      "text/plain": [
       "1"
      ]
     },
     "execution_count": 75,
     "metadata": {},
     "output_type": "execute_result"
    }
   ],
   "source": [
    "a={1,2,3}\n",
    "a.pop()"
   ]
  },
  {
   "cell_type": "code",
   "execution_count": null,
   "metadata": {},
   "outputs": [],
   "source": []
  }
 ],
 "metadata": {
  "kernelspec": {
   "display_name": "base",
   "language": "python",
   "name": "python3"
  },
  "language_info": {
   "codemirror_mode": {
    "name": "ipython",
    "version": 3
   },
   "file_extension": ".py",
   "mimetype": "text/x-python",
   "name": "python",
   "nbconvert_exporter": "python",
   "pygments_lexer": "ipython3",
   "version": "3.9.12"
  },
  "orig_nbformat": 4
 },
 "nbformat": 4,
 "nbformat_minor": 2
}
