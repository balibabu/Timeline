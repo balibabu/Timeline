{
 "cells": [
  {
   "attachments": {},
   "cell_type": "markdown",
   "metadata": {},
   "source": [
    "# <font face='comic sans ms' color ='PaleTurquoise'>Level 1</font>"
   ]
  },
  {
   "attachments": {},
   "cell_type": "markdown",
   "metadata": {},
   "source": [
    "Input: s,{b,g}: s is the initial price, followed by a list\n",
    "of bids consisting of the bidder‘s name (b), and\n",
    "the maximum bid (g, integer value).\n",
    "Input: 1,A,5,B,10,A,8,A,17,B,17\n",
    "Output: b,p: b the name of the highest bidder, p is\n",
    "the auction price at which b wins the auction.\n",
    "Result of the example above (see also table below): \n",
    "Output: A,17"
   ]
  },
  {
   "cell_type": "code",
   "execution_count": 13,
   "metadata": {},
   "outputs": [
    {
     "name": "stdout",
     "output_type": "stream",
     "text": [
      "['15', 'urtyp', '17', 'neuli', '16', 'schlurchi', '25', 'tokay', '75', 'horni', '35', 'sue', '60', 'sue', '70']\n"
     ]
    }
   ],
   "source": [
    "data=input().split(',')\n",
    "print(data)"
   ]
  },
  {
   "cell_type": "code",
   "execution_count": 14,
   "metadata": {},
   "outputs": [
    {
     "name": "stdout",
     "output_type": "stream",
     "text": [
      "tokay,71\n"
     ]
    }
   ],
   "source": [
    "visualPrice=data[0]\n",
    "maxBid=0\n",
    "winner=[None,maxBid]\n",
    "for i in range(1,len(data),2):\n",
    "    bidder,bidValue=data[i],int(data[i+1])\n",
    "    if bidValue > winner[1]:\n",
    "        visualPrice=winner[1]+1\n",
    "        winner=[bidder,bidValue]\n",
    "    elif bidValue < winner[1]:\n",
    "        visualPrice=bidValue+1\n",
    "    else:\n",
    "        visualPrice=winner[1]\n",
    "    #print(bidder,bidValue,visualPrice)\n",
    "\n",
    "print(winner[0],end=',')\n",
    "print(visualPrice)"
   ]
  },
  {
   "attachments": {},
   "cell_type": "markdown",
   "metadata": {},
   "source": [
    "# <font face='comic sans ms' color ='PaleTurquoise'>Level 2</font>"
   ]
  },
  {
   "cell_type": "code",
   "execution_count": 29,
   "metadata": {},
   "outputs": [
    {
     "name": "stdout",
     "output_type": "stream",
     "text": [
      "['1', 'nepper', '15', 'hamster', '24', 'philipp', '30', 'mmautne', '31', 'hamster', '49', 'hamster', '55', 'thebenil', '57', 'fliegimandi', '59', 'ev', '61', 'philipp', '64', 'philipp', '65', 'ev', '74', 'philipp', '69', 'philipp', '71', 'fliegimandi', '78', 'hamster', '78', 'mio', '95', 'hamster', '103', 'macquereauxpl', '135']\n"
     ]
    }
   ],
   "source": [
    "data=input().split(',')\n",
    "print(data)"
   ]
  },
  {
   "cell_type": "code",
   "execution_count": 19,
   "metadata": {},
   "outputs": [
    {
     "name": "stdout",
     "output_type": "stream",
     "text": [
      "A 5 1\n",
      "B 10 1\n",
      "A 8 9\n",
      "A 14 9\n",
      "A 17 9\n",
      "B 17 17\n",
      "A,17\n"
     ]
    }
   ],
   "source": [
    "visualPrice=data[0]\n",
    "maxBid=0\n",
    "winner=[None,maxBid]\n",
    "for i in range(1,len(data),2):\n",
    "    bidder,bidValue=data[i],int(data[i+1])\n",
    "    if bidValue > winner[1]:\n",
    "        winner=[bidder,bidValue]\n",
    "        if bidder != winner[0]:\n",
    "            visualPrice=winner[1]+1\n",
    "    elif bidValue < winner[1]:\n",
    "        visualPrice=bidValue+1\n",
    "    else:\n",
    "        visualPrice=winner[1]\n",
    "    print(bidder,bidValue,visualPrice)\n",
    "\n",
    "print(winner[0],end=',')\n",
    "print(visualPrice)"
   ]
  },
  {
   "cell_type": "code",
   "execution_count": 16,
   "metadata": {},
   "outputs": [
    {
     "data": {
      "text/plain": [
       "False"
      ]
     },
     "execution_count": 16,
     "metadata": {},
     "output_type": "execute_result"
    }
   ],
   "source": [
    "'a'=='ab'"
   ]
  },
  {
   "cell_type": "code",
   "execution_count": 20,
   "metadata": {},
   "outputs": [
    {
     "name": "stdout",
     "output_type": "stream",
     "text": [
      "{'a': 2, 'b': 2, 'c': 2}\n"
     ]
    }
   ],
   "source": [
    "a={}\n",
    "for i in 'abc':\n",
    "    a[i]=2\n",
    "print(a)"
   ]
  },
  {
   "cell_type": "code",
   "execution_count": 21,
   "metadata": {},
   "outputs": [],
   "source": [
    "a['b']=1"
   ]
  },
  {
   "cell_type": "code",
   "execution_count": 59,
   "metadata": {},
   "outputs": [
    {
     "name": "stdout",
     "output_type": "stream",
     "text": [
      "['100', 'C', '100', 'C', '115', 'C', '119', 'C', '121', 'C', '144', 'C', '154', 'C', '157', 'G', '158', 'C', '171', 'C', '179', 'C', '194', 'C', '206', 'C', '214', 'C', '227', 'C', '229', 'C', '231', 'C', '298']\n"
     ]
    }
   ],
   "source": [
    "data=input().split(',')\n",
    "print(data)"
   ]
  },
  {
   "cell_type": "code",
   "execution_count": 60,
   "metadata": {},
   "outputs": [
    {
     "name": "stdout",
     "output_type": "stream",
     "text": [
      "['C', 159]\n"
     ]
    }
   ],
   "source": [
    "bidders={data[1]:int(data[2])}\n",
    "winner=[data[1],data[0]]\n",
    "for i in range(3,len(data),2):\n",
    "    bidder,bidValue=data[i],int(data[i+1])\n",
    "    maxBidderValue=getMax(bidders)\n",
    "\n",
    "    if bidValue > maxBidderValue[1]:\n",
    "        if maxBidderValue[0]==bidder:\n",
    "            bidders[bidder]=bidValue\n",
    "        else:\n",
    "            winner=[bidder,maxBidderValue[1]+1]\n",
    "            bidders[bidder]=bidValue\n",
    "\n",
    "    elif bidValue < maxBidderValue[1]:\n",
    "        winner[1]=bidValue+1\n",
    "        bidders[bidder]=bidValue\n",
    "    \n",
    "    else:\n",
    "        winner[1]=bidValue\n",
    "        bidders[bidder]=bidValue\n",
    "\n",
    "\n",
    "        \n",
    "    # bidders[bidder]=bidValue\n",
    "    #print(data[i],data[i+1])\n",
    "print(winner)"
   ]
  },
  {
   "cell_type": "code",
   "execution_count": 54,
   "metadata": {},
   "outputs": [],
   "source": [
    "def getMax(dic):\n",
    "    keyValues=list(dic.items())\n",
    "    maxKeyValue=keyValues[0]\n",
    "    for key,value in keyValues:\n",
    "        if value > maxKeyValue[1]:\n",
    "            maxKeyValue=key,value\n",
    "    return maxKeyValue"
   ]
  },
  {
   "attachments": {},
   "cell_type": "markdown",
   "metadata": {},
   "source": [
    "# <font face='comic sans ms' color ='PaleTurquoise'>Level 3</font>"
   ]
  },
  {
   "cell_type": "code",
   "execution_count": 68,
   "metadata": {},
   "outputs": [
    {
     "data": {
      "text/plain": [
       "(1, 4)"
      ]
     },
     "execution_count": 68,
     "metadata": {},
     "output_type": "execute_result"
    }
   ],
   "source": [
    "stack=[]\n",
    "stack.append((1,2))\n",
    "stack.append((1,1))\n",
    "stack.append((1,4))\n",
    "stack.pop()"
   ]
  },
  {
   "cell_type": "code",
   "execution_count": 92,
   "metadata": {},
   "outputs": [],
   "source": [
    "def getMax(dic):\n",
    "    keyValues=list(dic.items())\n",
    "    maxKeyValue=keyValues[0]\n",
    "    for key,value in keyValues:\n",
    "        if value > maxKeyValue[1]:\n",
    "            maxKeyValue=key,value\n",
    "    return maxKeyValue\n",
    "\n",
    "\n",
    "data=input().split(',')\n",
    "bidders={data[1]:int(data[2])}\n",
    "winner=[data[1],int(data[0])]\n",
    "list1=[winner]\n",
    "for i in range(3,len(data),2):\n",
    "    bidder,bidValue=data[i],int(data[i+1])\n",
    "    maxBidderValue=getMax(bidders)\n",
    "\n",
    "    if bidValue > maxBidderValue[1]:\n",
    "        if maxBidderValue[0]==bidder:\n",
    "            bidders[bidder]=bidValue\n",
    "        else:\n",
    "            winner=[bidder,maxBidderValue[1]+1]\n",
    "            bidders[bidder]=bidValue\n",
    "\n",
    "    elif bidValue < maxBidderValue[1]:\n",
    "        winner[1]=bidValue+1\n",
    "        bidders[bidder]=bidValue\n",
    "    \n",
    "    else:\n",
    "        winner[1]=bidValue\n",
    "        bidders[bidder]=bidValue\n",
    "    list1.append([winner[0],winner[1]])\n",
    "\n",
    "# print(winner[0],end=',')\n",
    "# print(winner[1])\n",
    "\n",
    "# printing(list1)"
   ]
  },
  {
   "cell_type": "code",
   "execution_count": 86,
   "metadata": {},
   "outputs": [],
   "source": [
    "def printing(list1):\n",
    "    printed=[]\n",
    "    for i in range(len(list1)-1):\n",
    "        bid=list1[i]\n",
    "        if bid not in printed:\n",
    "            print('%s,%d,'%(bid[0],bid[1]),end='')\n",
    "            printed.append(bid)\n",
    "    bid=list1[-1]\n",
    "    if bid not in printed:\n",
    "        print('%s,%d'%(bid[0],bid[1]))"
   ]
  },
  {
   "cell_type": "code",
   "execution_count": 80,
   "metadata": {},
   "outputs": [
    {
     "name": "stdout",
     "output_type": "stream",
     "text": [
      "0,1,2,3,4,"
     ]
    }
   ],
   "source": [
    "for i in range(5):\n",
    "    print(i,end=',')\n"
   ]
  },
  {
   "cell_type": "code",
   "execution_count": 87,
   "metadata": {},
   "outputs": [
    {
     "name": "stdout",
     "output_type": "stream",
     "text": [
      "A,1,B,6,B,9,A,11,A,17\n"
     ]
    }
   ],
   "source": []
  },
  {
   "cell_type": "code",
   "execution_count": 93,
   "metadata": {},
   "outputs": [
    {
     "data": {
      "text/plain": [
       "16"
      ]
     },
     "execution_count": 93,
     "metadata": {},
     "output_type": "execute_result"
    }
   ],
   "source": [
    "len(list1)"
   ]
  },
  {
   "cell_type": "code",
   "execution_count": 94,
   "metadata": {},
   "outputs": [],
   "source": [
    "printed=[]\n",
    "for i in list1:\n",
    "    if i not in printed:\n",
    "        printed.append(i)"
   ]
  },
  {
   "attachments": {},
   "cell_type": "markdown",
   "metadata": {},
   "source": [
    "# <font face='comic sans ms' color ='PaleTurquoise'>Level 4</font>"
   ]
  },
  {
   "cell_type": "code",
   "execution_count": 25,
   "metadata": {},
   "outputs": [],
   "source": [
    "def getMax(dic):\n",
    "    keyValues=list(dic.items())\n",
    "    maxKeyValue=keyValues[0]\n",
    "    for key,value in keyValues:\n",
    "        if value > maxKeyValue[1]:\n",
    "            maxKeyValue=key,value\n",
    "    return maxKeyValue\n",
    "\n",
    "def printing(list1):\n",
    "    printed=[]\n",
    "    for i in list1:\n",
    "        if i not in printed:\n",
    "            printed.append(i)\n",
    "    for i in range(len(printed)-1):\n",
    "        print('%s,%d,'%(printed[i][0],printed[i][1]),end='')\n",
    "    print('%s,%d'%(printed[-1][0],printed[-1][1]),end='')\n"
   ]
  },
  {
   "cell_type": "code",
   "execution_count": 23,
   "metadata": {},
   "outputs": [],
   "source": [
    "data=input().split(',')\n",
    "startbid=int(data[0])\n",
    "buyNowBid=int(data[1])\n",
    "maz=int(data[3])\n",
    "topay=int(data[0])\n",
    "highestBidder=data[2]\n",
    "array=[[highestBidder,topay]]\n",
    "for i in range(4,len(data),2):\n",
    "    # print('%s %s'%(data[i],data[i+1]))\n",
    "    bidder,bidValue=data[i],int(data[i+1])\n",
    "    if bidValue<maz:\n",
    "        topay=bidValue+1\n",
    "    elif bidValue>maz:\n",
    "        if bidder!=highestBidder:\n",
    "            topay=maz+1\n",
    "            highestBidder=bidder\n",
    "        maz=bidValue\n",
    "    else:\n",
    "        topay=bidValue\n",
    "        \n",
    "    if topay>=buyNowBid:\n",
    "        array.append([highestBidder,buyNowBid])\n",
    "        break\n",
    "    array.append([highestBidder,topay])"
   ]
  },
  {
   "cell_type": "code",
   "execution_count": null,
   "metadata": {},
   "outputs": [],
   "source": [
    "1,120,6a,17,kl,5,kl,10,kl,15,cs,28,kl,20,kl,25,hr,35,hr,40,hr,41,hl,42,hr,43,hr,44,hl,44,hl,49,hr,47"
   ]
  },
  {
   "cell_type": "code",
   "execution_count": null,
   "metadata": {},
   "outputs": [],
   "source": [
    "1,47,6a,17,kl,5,kl,10,kl,15,cs,28,kl,20,kl,25,hr,35,hr,40,hr,41,hl,42,hr,43,hr,44,hl,44,hl,49,hr,47"
   ]
  },
  {
   "cell_type": "code",
   "execution_count": 26,
   "metadata": {},
   "outputs": [
    {
     "name": "stdout",
     "output_type": "stream",
     "text": [
      "6a,1,6a,6,6a,11,6a,16,cs,18,cs,21,cs,26,hr,29,hl,42,hr,43,hr,44,hl,45,hl,47"
     ]
    }
   ],
   "source": [
    "printing(array)"
   ]
  },
  {
   "cell_type": "code",
   "execution_count": 24,
   "metadata": {},
   "outputs": [
    {
     "name": "stdout",
     "output_type": "stream",
     "text": [
      "['6a', 1]\n",
      "['6a', 6]\n",
      "['6a', 11]\n",
      "['6a', 16]\n",
      "['cs', 18]\n",
      "['cs', 21]\n",
      "['cs', 26]\n",
      "['hr', 29]\n",
      "['hr', 29]\n",
      "['hr', 29]\n",
      "['hl', 42]\n",
      "['hr', 43]\n",
      "['hr', 43]\n",
      "['hr', 44]\n",
      "['hl', 45]\n",
      "['hl', 47]\n"
     ]
    }
   ],
   "source": [
    "for i in array:\n",
    "    print(i)"
   ]
  },
  {
   "cell_type": "code",
   "execution_count": 21,
   "metadata": {},
   "outputs": [],
   "source": []
  },
  {
   "cell_type": "code",
   "execution_count": null,
   "metadata": {},
   "outputs": [],
   "source": [
    "-,1,6a,1,6a,6,6a,11,6a,16,cs,18,cs,21,cs,26,hr,29,hl,42,hr,43,hr,44,hl,45,hl,47"
   ]
  },
  {
   "attachments": {},
   "cell_type": "markdown",
   "metadata": {},
   "source": [
    "1,6a,17,kl,5,kl,10,kl,15,cs,28,kl,20,kl,25,hr,35,hr,40,hr,41,hl,42,hr,43,hr,44,hl,44,hl,49,hr,47"
   ]
  },
  {
   "cell_type": "code",
   "execution_count": 27,
   "metadata": {},
   "outputs": [
    {
     "data": {
      "text/plain": [
       "True"
      ]
     },
     "execution_count": 27,
     "metadata": {},
     "output_type": "execute_result"
    }
   ],
   "source": [
    "'6a,1,6a,6,6a,11,6a,16,cs,18,cs,21,cs,26,hr,29,hl,42,hr,43,hr,44,hl,45,hl,47'=='6a,1,6a,6,6a,11,6a,16,cs,18,cs,21,cs,26,hr,29,hl,42,hr,43,hr,44,hl,45,hl,47'"
   ]
  },
  {
   "cell_type": "code",
   "execution_count": null,
   "metadata": {},
   "outputs": [],
   "source": []
  }
 ],
 "metadata": {
  "kernelspec": {
   "display_name": "base",
   "language": "python",
   "name": "python3"
  },
  "language_info": {
   "codemirror_mode": {
    "name": "ipython",
    "version": 3
   },
   "file_extension": ".py",
   "mimetype": "text/x-python",
   "name": "python",
   "nbconvert_exporter": "python",
   "pygments_lexer": "ipython3",
   "version": "3.9.12"
  },
  "orig_nbformat": 4,
  "vscode": {
   "interpreter": {
    "hash": "649e9a488baa9f755be1bd774174f13c00c6eb61d6f5988e2904ab6e22ac3fc0"
   }
  }
 },
 "nbformat": 4,
 "nbformat_minor": 2
}
