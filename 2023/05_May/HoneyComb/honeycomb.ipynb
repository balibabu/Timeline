{
 "cells": [
  {
   "attachments": {},
   "cell_type": "markdown",
   "metadata": {},
   "source": [
    "## <font face='comic sans ms' color ='yellow'>level 1</font>"
   ]
  },
  {
   "cell_type": "code",
   "execution_count": null,
   "metadata": {},
   "outputs": [],
   "source": [
    "data=open('level1/level1_1.in')\n",
    "lines=data.readlines()\n",
    "num=0\n",
    "for line in lines:\n",
    "    num+=len(line)//2\n",
    "    # print(len(line)//2)\n",
    "print(num)"
   ]
  },
  {
   "cell_type": "code",
   "execution_count": null,
   "metadata": {},
   "outputs": [],
   "source": [
    "file=open('output.txt','w')\n",
    "file.write(str(num))\n",
    "file.close()"
   ]
  },
  {
   "cell_type": "code",
   "execution_count": null,
   "metadata": {},
   "outputs": [],
   "source": [
    "data=open('level1/level1_5.in')\n",
    "lines=data.readlines()\n",
    "num=0\n",
    "for line in lines:\n",
    "    num+=len(line)//2\n",
    "file=open('output.txt','w')\n",
    "file.write(str(num))\n",
    "file.close()"
   ]
  },
  {
   "attachments": {},
   "cell_type": "markdown",
   "metadata": {},
   "source": [
    "## <font face='comic sans ms' color ='yellow'>level 2</font>"
   ]
  },
  {
   "cell_type": "code",
   "execution_count": null,
   "metadata": {},
   "outputs": [],
   "source": [
    "data=open('level2/level2_example.in')\n",
    "lines=data.read().split('\\n\\n')"
   ]
  },
  {
   "cell_type": "code",
   "execution_count": null,
   "metadata": {},
   "outputs": [],
   "source": [
    "str1=''\n",
    "for i in range(int(lines[0])):\n",
    "    que1=lines[i+1]\n",
    "    mat=getMatrix(que1)\n",
    "    str1+='%d\\n'%(countSpace(mat))\n",
    "print(str1)"
   ]
  },
  {
   "cell_type": "code",
   "execution_count": null,
   "metadata": {},
   "outputs": [],
   "source": [
    "que1=lines[2].split('\\n')\n",
    "print(que1)"
   ]
  },
  {
   "cell_type": "code",
   "execution_count": null,
   "metadata": {},
   "outputs": [],
   "source": [
    "que1[0].split('-')"
   ]
  },
  {
   "cell_type": "code",
   "execution_count": null,
   "metadata": {},
   "outputs": [],
   "source": [
    "matrix=[]\n",
    "for i in range(len(que1)):\n",
    "    if i%2==0:\n",
    "        list1=que1[i].split('-')[:-1]\n",
    "    else:\n",
    "        list1=que1[i].split('-')[1:]\n",
    "    matrix.append(list1)\n",
    "matrix"
   ]
  },
  {
   "cell_type": "code",
   "execution_count": null,
   "metadata": {},
   "outputs": [],
   "source": [
    "countSpace(matrix)"
   ]
  },
  {
   "cell_type": "code",
   "execution_count": null,
   "metadata": {},
   "outputs": [],
   "source": [
    "def getPosition(matrix):\n",
    "    for i in range(len(matrix)):\n",
    "        for j in range(len(matrix[i])):\n",
    "            if matrix[i][j]=='W':\n",
    "                return (i,j)\n",
    "    return None\n",
    "\n",
    "def countSpace(matrix):\n",
    "    count=0\n",
    "    i,j=getPosition(matrix)\n",
    "    list1=[(i-1,j-1),(i-1,j+1),(i,j-2),(i,j+2),(i+1,j-1),(i+1,j+1)]\n",
    "    for i,j in list1:\n",
    "        try:\n",
    "            if i>=0 and j>=0 and matrix[i][j]=='O': count+=1\n",
    "        except:\n",
    "            pass\n",
    "    return count \n",
    "    \n",
    "def getMatrix(que1):\n",
    "    matrix=que1.split('\\n')\n",
    "    return matrix"
   ]
  },
  {
   "cell_type": "code",
   "execution_count": null,
   "metadata": {},
   "outputs": [],
   "source": [
    "countSpace(matrix)"
   ]
  },
  {
   "cell_type": "code",
   "execution_count": null,
   "metadata": {},
   "outputs": [],
   "source": [
    "X - O - O - O - X -\n",
    "- O - X - X - X - X\n",
    "O - O - O - O - X -\n",
    "- X - W - O - O - X\n",
    "O - X - X - O - X -"
   ]
  },
  {
   "cell_type": "code",
   "execution_count": null,
   "metadata": {},
   "outputs": [],
   "source": [
    "O - X - X - O - X -\n",
    "- O - O - O - X - O \n",
    "X - O - W - O - O -\n",
    "- O - X - X - X - X\n",
    "O - X - X - O - O -"
   ]
  },
  {
   "cell_type": "code",
   "execution_count": null,
   "metadata": {},
   "outputs": [],
   "source": [
    "mat=['X-O-O-O-X-', '-O-X-X-X-X', 'O-O-O-O-X-', '-X-W-O-O-X', 'O-X-X-O-X-']"
   ]
  },
  {
   "cell_type": "code",
   "execution_count": null,
   "metadata": {},
   "outputs": [],
   "source": [
    "countSpace(mat)"
   ]
  },
  {
   "cell_type": "code",
   "execution_count": null,
   "metadata": {},
   "outputs": [],
   "source": [
    "ma=getMatrix(lines[3])"
   ]
  },
  {
   "cell_type": "code",
   "execution_count": null,
   "metadata": {},
   "outputs": [],
   "source": [
    "countSpace(ma)"
   ]
  },
  {
   "cell_type": "code",
   "execution_count": null,
   "metadata": {},
   "outputs": [],
   "source": [
    "def getPosition(matrix):\n",
    "    for i in range(len(matrix)):\n",
    "        for j in range(len(matrix[i])):\n",
    "            if matrix[i][j]=='W':\n",
    "                return (i,j)\n",
    "    return None\n",
    "\n",
    "def countSpace(matrix):\n",
    "    count=0\n",
    "    i,j=getPosition(matrix)\n",
    "    list1=[(i-1,j-1),(i-1,j+1),(i,j-2),(i,j+2),(i+1,j-1),(i+1,j+1)]\n",
    "    for i,j in list1:\n",
    "        try:\n",
    "            if i>=0 and j>=0 and matrix[i][j]=='O': count+=1\n",
    "        except:\n",
    "            pass\n",
    "    return count \n",
    "    \n",
    "def getMatrix(que1):\n",
    "    matrix=que1.split('\\n')\n",
    "    return matrix\n",
    "\n",
    "data=open('level2/level2_5.in')\n",
    "lines=data.read().split('\\n\\n')\n",
    "\n",
    "str1=''\n",
    "for i in range(int(lines[0])):\n",
    "    que1=lines[i+1]\n",
    "    mat=getMatrix(que1)\n",
    "    str1+='%d\\n'%(countSpace(mat))\n",
    "\n",
    "file=open('output.txt','w')\n",
    "file.write(str1)\n",
    "file.close()"
   ]
  },
  {
   "attachments": {},
   "cell_type": "markdown",
   "metadata": {},
   "source": [
    "## <font face='comic sans ms' color ='yellow'>Level 3</font>"
   ]
  },
  {
   "cell_type": "code",
   "execution_count": null,
   "metadata": {},
   "outputs": [],
   "source": [
    "O - X - X - O - X -\n",
    "- O - O - O - X - O \n",
    "X - O - W - O - O -\n",
    "- O - X - X - X - X\n",
    "O - X - X - O - O -"
   ]
  },
  {
   "cell_type": "code",
   "execution_count": null,
   "metadata": {},
   "outputs": [],
   "source": [
    "X - O - O - O - X -\n",
    "- O - X - X - X - X\n",
    "O - O - O - O - X -\n",
    "- X - W - O - O - X\n",
    "O - X - X - O - X -"
   ]
  },
  {
   "cell_type": "code",
   "execution_count": null,
   "metadata": {},
   "outputs": [],
   "source": [
    "def canEscape(mat):\n",
    "    i,j=getPosition(mat)\n",
    "    check=0\n",
    "    for ii in range(min(i,j)):\n",
    "        if mat[i-ii-1][j-ii-1]=='X':\n",
    "            check=1\n",
    "            break\n",
    "    if check==0: return True\n",
    "    \n",
    "    check=0\n",
    "    for ii in range(min(len(mat)-i,len(mat[0])-j)):\n",
    "        if mat[i+ii][j+ii]=='X':\n",
    "            check=1\n",
    "            break\n",
    "    if check==0: return True\n",
    "\n",
    "    check=0\n",
    "    for ii in range(min(i,len(mat[0])-j-1)):\n",
    "        if mat[i-ii-1][j+ii+1]=='X':\n",
    "            check=1\n",
    "            break\n",
    "    if check==0: return True\n",
    "\n",
    "    check=0\n",
    "    for ii in range(1,min(len(mat)-i,j+1)):\n",
    "        if mat[i+ii][j-ii]=='X':\n",
    "            check=1\n",
    "            break\n",
    "    if check==0: return True\n",
    "\n",
    "    check=0\n",
    "    for ii in range(2,j+1,2):\n",
    "        if mat[i][j-ii]=='X':\n",
    "            check=1\n",
    "            break\n",
    "    if check==0: return True\n",
    "\n",
    "    check=0\n",
    "    for ii in range(j+2,len(mat[0]),2):\n",
    "        if mat[i][ii]=='X':\n",
    "            check=1\n",
    "            break\n",
    "    if check==0: return True\n",
    "    \n",
    "    return False"
   ]
  },
  {
   "cell_type": "code",
   "execution_count": 2,
   "metadata": {},
   "outputs": [
    {
     "name": "stdout",
     "output_type": "stream",
     "text": [
      "X - O - X - X - X - O - O - O - \n",
      "- X - W - O - X - X - X - O - O \n",
      "X - O - O - O - O - X - X - X - \n",
      "- O - X - X - O - X - X - O - X \n",
      "X - X - X - O - X - X - X - X - \n",
      "- X - X - O - X - X - X - O - O \n",
      "X - X - X - X - X - X - O - O - \n",
      "- X - X - O - X - O - O - O - O \n"
     ]
    }
   ],
   "source": [
    "a='''X-O-X-X-X-O-O-O-\n",
    "-X-W-O-X-X-X-O-O\n",
    "X-O-O-O-O-X-X-X-\n",
    "-O-X-X-O-X-X-O-X\n",
    "X-X-X-O-X-X-X-X-\n",
    "-X-X-O-X-X-X-O-O\n",
    "X-X-X-X-X-X-O-O-\n",
    "-X-X-O-X-O-O-O-O'''\n",
    "mat=a.split('\\n')\n",
    "for i in mat:\n",
    "    for j in i:\n",
    "        print(j,end=' ')\n",
    "    print()"
   ]
  },
  {
   "cell_type": "code",
   "execution_count": null,
   "metadata": {},
   "outputs": [],
   "source": [
    "canEscape(mat)"
   ]
  },
  {
   "cell_type": "code",
   "execution_count": null,
   "metadata": {},
   "outputs": [],
   "source": [
    "def printing(mat):\n",
    "    for i in mat:\n",
    "        for j in i:\n",
    "            print(j,end=' ')\n",
    "        print()"
   ]
  },
  {
   "cell_type": "code",
   "execution_count": 1,
   "metadata": {},
   "outputs": [],
   "source": [
    "def getPosition(matrix):\n",
    "    for i in range(len(matrix)):\n",
    "        for j in range(len(matrix[i])):\n",
    "            if matrix[i][j]=='W':\n",
    "                return (i,j)\n",
    "    return None"
   ]
  },
  {
   "cell_type": "code",
   "execution_count": null,
   "metadata": {},
   "outputs": [],
   "source": [
    "def getMatrix(que1):\n",
    "    matrix=que1.split('\\n')\n",
    "    return matrix\n",
    "\n",
    "data=open('500.txt')\n",
    "lines=data.read().split('\\n\\n')\n",
    "\n",
    "str1=''\n",
    "for i in range(int(lines[0])):\n",
    "    que1=lines[i+1]\n",
    "    mat=que1.split('\\n')\n",
    "    trap='FREE' if canEscape(mat) else 'TRAPPED'\n",
    "    print(i+1,trap)\n",
    "    printing(mat)\n",
    "    str1+='%s\\n'%(trap)\n"
   ]
  },
  {
   "cell_type": "code",
   "execution_count": null,
   "metadata": {},
   "outputs": [],
   "source": [
    "\n",
    "file=open('output.txt','w')\n",
    "file.write(str1)\n",
    "file.close()"
   ]
  },
  {
   "cell_type": "code",
   "execution_count": null,
   "metadata": {},
   "outputs": [],
   "source": [
    "X - X - X - X - X - O - O - O - \n",
    "- X - W - O - X - X - X - O - O \n",
    "X - O - O - O - O - X - X - X - \n",
    "- O - X - X - O - X - X - O - X \n",
    "X - X - X - O - X - X - X - X - \n",
    "- X - X - O - X - X - X - O - O \n",
    "X - X - X - X - X - X - O - O - \n",
    "- X - X - O - X - O - O - O - O"
   ]
  },
  {
   "cell_type": "code",
   "execution_count": 3,
   "metadata": {},
   "outputs": [],
   "source": [
    "def uniDirEscape(mat):\n",
    "    i,j=getPosition(mat)\n",
    "    while i!=0 and j!=0:\n",
    "        i,j=i-1,j-1\n",
    "        if mat[i][j]=='X': \n",
    "            return False\n",
    "    return True"
   ]
  },
  {
   "cell_type": "code",
   "execution_count": 9,
   "metadata": {},
   "outputs": [
    {
     "data": {
      "text/plain": [
       "True"
      ]
     },
     "execution_count": 9,
     "metadata": {},
     "output_type": "execute_result"
    }
   ],
   "source": [
    "uniDirEscape(mat)"
   ]
  },
  {
   "cell_type": "code",
   "execution_count": 5,
   "metadata": {},
   "outputs": [
    {
     "data": {
      "text/plain": [
       "['X-O-X-X-X-O-O-O-',\n",
       " '-X-W-O-X-X-X-O-O',\n",
       " 'X-O-O-O-O-X-X-X-',\n",
       " '-O-X-X-O-X-X-O-X',\n",
       " 'X-X-X-O-X-X-X-X-',\n",
       " '-X-X-O-X-X-X-O-O',\n",
       " 'X-X-X-X-X-X-O-O-',\n",
       " '-X-X-O-X-O-O-O-O']"
      ]
     },
     "execution_count": 5,
     "metadata": {},
     "output_type": "execute_result"
    }
   ],
   "source": [
    "mat"
   ]
  },
  {
   "cell_type": "code",
   "execution_count": null,
   "metadata": {},
   "outputs": [],
   "source": []
  }
 ],
 "metadata": {
  "kernelspec": {
   "display_name": "base",
   "language": "python",
   "name": "python3"
  },
  "language_info": {
   "codemirror_mode": {
    "name": "ipython",
    "version": 3
   },
   "file_extension": ".py",
   "mimetype": "text/x-python",
   "name": "python",
   "nbconvert_exporter": "python",
   "pygments_lexer": "ipython3",
   "version": "3.9.12"
  },
  "orig_nbformat": 4
 },
 "nbformat": 4,
 "nbformat_minor": 2
}
