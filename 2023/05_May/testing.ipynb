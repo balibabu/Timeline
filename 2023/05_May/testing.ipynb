{
 "cells": [
  {
   "cell_type": "code",
   "execution_count": null,
   "metadata": {},
   "outputs": [],
   "source": [
    "F 1 386 F 2 963 F 3 374 F 4 371 F 5 685 F 6 47 F 7 132 F 8 909 F 9 433 \n",
    "B 1 386 B 2 963 B 3 374 B 4 371 B 5 685 B 6 47 B 7 132 B 8 909 B 9 71"
   ]
  },
  {
   "cell_type": "code",
   "execution_count": null,
   "metadata": {},
   "outputs": [],
   "source": [
    "F 1 439 F 2 605 F 3 476 F 4 765 F 5 382 F 6 599 F 7 732 F 8 21 F 9 617 \n",
    "B 1 248 B 2 605 B 3 476 B 4 765 B 5 382 B 6 599 B 7 732 B 8 21 B 9 617"
   ]
  },
  {
   "cell_type": "code",
   "execution_count": null,
   "metadata": {},
   "outputs": [],
   "source": [
    "F 1 52 F 2 746 F 3 866 F 4 12 F 5 892 F 6 918 F 7 514 F 8 794 F 9 385 \n",
    "B 1 52 B 2 746 B 3 13 B 4 7 B 5 892 B 6 918 B 7 514 B 8 794 B 9 385"
   ]
  },
  {
   "cell_type": "code",
   "execution_count": null,
   "metadata": {},
   "outputs": [],
   "source": [
    "F 1 111 F 2 143 F 3 827 F 4 987 F 5 507 F 6 694 F 7 702 F 8 51 F 9 830 \n",
    "B 1 111 B 2 143 B 3 827 B 4 987 B 5 507 B 6 526 B 7 702 B 8 27 B 9 403"
   ]
  },
  {
   "cell_type": "markdown",
   "metadata": {},
   "source": [
    "### <font face='comic sans ms' color ='magenta'>Fibbonacci</font>"
   ]
  },
  {
   "cell_type": "code",
   "execution_count": 34,
   "metadata": {},
   "outputs": [
    {
     "name": "stdout",
     "output_type": "stream",
     "text": [
      "39088169\n"
     ]
    }
   ],
   "source": [
    "def getFibbo(n):\n",
    "    if n<=1: return n\n",
    "    a,b=0,1\n",
    "    for i in range(1,n):\n",
    "        c=a+b \n",
    "        a=b\n",
    "        b=c\n",
    "    return c\n",
    "data=int(input())\n",
    "print(getFibbo(data))"
   ]
  },
  {
   "cell_type": "code",
   "execution_count": 30,
   "metadata": {},
   "outputs": [
    {
     "data": {
      "text/plain": [
       "8"
      ]
     },
     "execution_count": 30,
     "metadata": {},
     "output_type": "execute_result"
    }
   ],
   "source": [
    "getFibbo(6)"
   ]
  },
  {
   "cell_type": "code",
   "execution_count": 29,
   "metadata": {},
   "outputs": [
    {
     "data": {
      "text/plain": [
       "1"
      ]
     },
     "execution_count": 29,
     "metadata": {},
     "output_type": "execute_result"
    }
   ],
   "source": [
    "getFibbo(1)\n"
   ]
  },
  {
   "cell_type": "code",
   "execution_count": null,
   "metadata": {},
   "outputs": [],
   "source": []
  }
 ],
 "metadata": {
  "kernelspec": {
   "display_name": "base",
   "language": "python",
   "name": "python3"
  },
  "language_info": {
   "codemirror_mode": {
    "name": "ipython",
    "version": 3
   },
   "file_extension": ".py",
   "mimetype": "text/x-python",
   "name": "python",
   "nbconvert_exporter": "python",
   "pygments_lexer": "ipython3",
   "version": "3.9.12"
  },
  "orig_nbformat": 4
 },
 "nbformat": 4,
 "nbformat_minor": 2
}
