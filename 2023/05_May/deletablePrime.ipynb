{
 "cells": [
  {
   "cell_type": "code",
   "execution_count": 13,
   "metadata": {},
   "outputs": [],
   "source": [
    "def dividable(a,nums):\n",
    "    for i in nums:\n",
    "        if a%i==0:\n",
    "            return True\n",
    "    return False\n",
    "\n",
    "primeList=[]\n",
    "for i in range(2,1000000):\n",
    "    if not dividable(i,primeList):\n",
    "        primeList.append(i)"
   ]
  },
  {
   "cell_type": "code",
   "execution_count": 99,
   "metadata": {},
   "outputs": [],
   "source": [
    "def isPrime(num):\n",
    "    if num==1: return False\n",
    "    for i in range(2,int(pow(num,0.5))+1):\n",
    "        if num%i==0:\n",
    "            return False\n",
    "    return True"
   ]
  },
  {
   "cell_type": "code",
   "execution_count": 111,
   "metadata": {},
   "outputs": [
    {
     "data": {
      "text/plain": [
       "121"
      ]
     },
     "execution_count": 111,
     "metadata": {},
     "output_type": "execute_result"
    }
   ],
   "source": [
    "data=input()\n",
    "def calculate(data):\n",
    "    if len(data)==1:\n",
    "        return 1 if isPrime(int(data)) else 0\n",
    "    \n",
    "    a=0\n",
    "    for i in range(len(data)):\n",
    "        newNum=data[:i]+data[i+1:]\n",
    "        if isPrime(int(newNum)):\n",
    "            # print(data[:i]+data[i+1:])\n",
    "            a+=calculate(newNum)\n",
    "    return a\n",
    "calculate(data)"
   ]
  },
  {
   "cell_type": "code",
   "execution_count": null,
   "metadata": {},
   "outputs": [],
   "source": [
    "        #print(data[:i]+data[i+1:])\n"
   ]
  }
 ],
 "metadata": {
  "kernelspec": {
   "display_name": "base",
   "language": "python",
   "name": "python3"
  },
  "language_info": {
   "codemirror_mode": {
    "name": "ipython",
    "version": 3
   },
   "file_extension": ".py",
   "mimetype": "text/x-python",
   "name": "python",
   "nbconvert_exporter": "python",
   "pygments_lexer": "ipython3",
   "version": "3.9.12"
  },
  "orig_nbformat": 4
 },
 "nbformat": 4,
 "nbformat_minor": 2
}
