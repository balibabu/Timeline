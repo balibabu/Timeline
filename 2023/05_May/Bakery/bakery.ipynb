{
 "cells": [
  {
   "cell_type": "markdown",
   "metadata": {},
   "source": [
    "# <font face='comic sans ms' color ='PaleTurquoise'>Monday 2023-05-22</font>"
   ]
  },
  {
   "cell_type": "markdown",
   "metadata": {},
   "source": [
    "## <font face='comic sans ms' color ='yellow'>Level 1</font>"
   ]
  },
  {
   "cell_type": "code",
   "execution_count": null,
   "metadata": {},
   "outputs": [],
   "source": [
    "data=input().split()"
   ]
  },
  {
   "cell_type": "code",
   "execution_count": null,
   "metadata": {},
   "outputs": [],
   "source": [
    "for i in range(0,len(data)//2,3):\n",
    "    print(data[i],data[i+1],data[i+2],data[len(data)//2+i],data[len(data)//2+i+1],data[len(data)//2+i+2])\n",
    "    # print(data[len(data)//2+i],data[len(data)//2+i+1],data[len(data)//2+i+2])"
   ]
  },
  {
   "cell_type": "code",
   "execution_count": null,
   "metadata": {},
   "outputs": [],
   "source": [
    "stack=''\n",
    "for i in range(0,len(data)//2,3):\n",
    "    if data[i+2]!=data[len(data)//2+i+2]:\n",
    "        stack+=data[i+1]+' '\n",
    "print(stack)"
   ]
  },
  {
   "cell_type": "markdown",
   "metadata": {},
   "source": [
    "## <font face='comic sans ms' color ='yellow'>Level 2</font>"
   ]
  },
  {
   "cell_type": "code",
   "execution_count": null,
   "metadata": {},
   "outputs": [],
   "source": [
    "data=input().split()"
   ]
  },
  {
   "cell_type": "code",
   "execution_count": null,
   "metadata": {},
   "outputs": [],
   "source": [
    "amount=[]\n",
    "payment=[]\n",
    "for i in range(0,len(data),3):\n",
    "    geld=(data[i+1],data[i+2])\n",
    "    if data[i]=='F':\n",
    "        amount.append(geld)\n",
    "    else:\n",
    "        payment.append(geld)"
   ]
  },
  {
   "cell_type": "code",
   "execution_count": null,
   "metadata": {},
   "outputs": [],
   "source": [
    "amount"
   ]
  },
  {
   "cell_type": "code",
   "execution_count": null,
   "metadata": {},
   "outputs": [],
   "source": [
    "print(payment)"
   ]
  },
  {
   "cell_type": "code",
   "execution_count": null,
   "metadata": {},
   "outputs": [],
   "source": [
    "totalAmt=0\n",
    "for i,j in amount:\n",
    "    totalAmt+=int(j)\n",
    "totalAmt"
   ]
  },
  {
   "cell_type": "code",
   "execution_count": null,
   "metadata": {},
   "outputs": [],
   "source": [
    "totalPayment=0\n",
    "for i,j in payment:\n",
    "    totalPayment+=int(j)\n",
    "totalPayment"
   ]
  },
  {
   "cell_type": "code",
   "execution_count": null,
   "metadata": {},
   "outputs": [],
   "source": [
    "netAmt=totalAmt-totalPayment\n",
    "netAmt"
   ]
  },
  {
   "cell_type": "code",
   "execution_count": null,
   "metadata": {},
   "outputs": [],
   "source": [
    "stack=''\n",
    "for i in range(len(amount)-1,-1,-1):\n",
    "    netAmt-=int(amount[i][1])\n",
    "    stack+=amount[i][0]\n",
    "    if netAmt<=0:\n",
    "        break\n",
    "print(stack)"
   ]
  },
  {
   "cell_type": "markdown",
   "metadata": {},
   "source": [
    "# <font face='comic sans ms' color ='PaleTurquoise'>Tuesday 2023-05-23</font>"
   ]
  },
  {
   "cell_type": "markdown",
   "metadata": {},
   "source": [
    "## <font face='comic sans ms' color ='yellow'>Level 3</font>"
   ]
  },
  {
   "cell_type": "markdown",
   "metadata": {},
   "source": [
    "F 1 209 F 2 254 F 3 895 F 4 439 B 1 104 B 2 127 B 3 74 B 3 447 B 4 127 B 4 219 B 5 448 B 6 220"
   ]
  },
  {
   "cell_type": "code",
   "execution_count": 1,
   "metadata": {},
   "outputs": [],
   "source": [
    "data=input().split()"
   ]
  },
  {
   "cell_type": "code",
   "execution_count": 2,
   "metadata": {},
   "outputs": [
    {
     "name": "stdout",
     "output_type": "stream",
     "text": [
      "[('1', '367'), ('2', '38'), ('3', '602'), ('4', '624')]\n",
      "[('1', '183'), ('2', '19'), ('3', '184'), ('3', '301'), ('4', '19'), ('4', '312'), ('5', '64'), ('6', '312')]\n"
     ]
    }
   ],
   "source": [
    "amount=[]\n",
    "payment=[]\n",
    "for i in range(0,len(data),3):\n",
    "    geld=(data[i+1],data[i+2])\n",
    "    if data[i]=='F':\n",
    "        amount.append(geld)\n",
    "    else:\n",
    "        payment.append(geld)\n",
    "\n",
    "print(amount)\n",
    "print(payment)"
   ]
  },
  {
   "cell_type": "code",
   "execution_count": null,
   "metadata": {},
   "outputs": [],
   "source": [
    "array=[int(j) for i,j in payment]\n",
    "array"
   ]
  },
  {
   "cell_type": "code",
   "execution_count": 6,
   "metadata": {},
   "outputs": [],
   "source": [
    "def composed(array,i,amt):\n",
    "    if amt==0: return True \n",
    "    elif i==len(array): return False\n",
    "\n",
    "    if amt>=array[i]:\n",
    "        return composed(array,i+1,amt-array[i]) or composed(array,i+1,amt)\n",
    "    else:\n",
    "        return False\n",
    "    "
   ]
  },
  {
   "cell_type": "code",
   "execution_count": null,
   "metadata": {},
   "outputs": [],
   "source": [
    "def composed1(array,i,amt,list1):\n",
    "    if amt==0: return True \n",
    "    elif i==len(array): return False\n",
    "\n",
    "    if amt>=array[i]:\n",
    "        taken=composed1(array,i+1,amt-array[i],list1)\n",
    "        notTaken=composed1(array,i+1,amt,list1)\n",
    "        if taken: list1.append(i)\n",
    "        return taken or notTaken\n",
    "    else:\n",
    "        return False"
   ]
  },
  {
   "cell_type": "code",
   "execution_count": null,
   "metadata": {},
   "outputs": [],
   "source": [
    "lis=[]\n",
    "composed1(array,0,209,lis)\n",
    "lis"
   ]
  },
  {
   "cell_type": "code",
   "execution_count": null,
   "metadata": {},
   "outputs": [],
   "source": [
    "array"
   ]
  },
  {
   "cell_type": "code",
   "execution_count": 31,
   "metadata": {},
   "outputs": [],
   "source": [
    "def composed1(array,i,amt,list1):\n",
    "    if amt==0: return True \n",
    "    elif i==len(array): return False\n",
    "\n",
    "    if amt>=array[i]:\n",
    "        taken=composed1(array,i+1,amt-array[i],list1)\n",
    "        notTaken=composed1(array,i+1,amt,list1)\n",
    "        if taken: list1.append(i)\n",
    "        return taken or notTaken\n",
    "    else:\n",
    "        return composed1(array,i+1,amt,list1)\n"
   ]
  },
  {
   "cell_type": "code",
   "execution_count": 32,
   "metadata": {},
   "outputs": [],
   "source": [
    "\n",
    "\n",
    "data=input().split()\n",
    "amount=[]\n",
    "payment=[]\n",
    "for i in range(0,len(data),3):\n",
    "    geld=(data[i+1],data[i+2])\n",
    "    if data[i]=='F':\n",
    "        amount.append(geld)\n",
    "    else:\n",
    "        payment.append(geld)\n",
    "        \n"
   ]
  },
  {
   "cell_type": "code",
   "execution_count": 33,
   "metadata": {},
   "outputs": [],
   "source": [
    "array=[int(j) for i,j in payment]"
   ]
  },
  {
   "cell_type": "code",
   "execution_count": 34,
   "metadata": {},
   "outputs": [
    {
     "name": "stdout",
     "output_type": "stream",
     "text": [
      "1 2 8 15 "
     ]
    }
   ],
   "source": [
    "for i,j in amount:\n",
    "    indexes=[]\n",
    "    composed1(array,0,int(j),indexes)\n",
    "    if 0<len(indexes)<=4:\n",
    "        indexes.sort(reverse=True)\n",
    "        for index in indexes:\n",
    "            array.pop(index)\n",
    "    else:\n",
    "        print(i,end=' ')"
   ]
  },
  {
   "cell_type": "code",
   "execution_count": 15,
   "metadata": {},
   "outputs": [
    {
     "data": {
      "text/plain": [
       "[301, 64]"
      ]
     },
     "execution_count": 15,
     "metadata": {},
     "output_type": "execute_result"
    }
   ],
   "source": [
    "array"
   ]
  },
  {
   "cell_type": "code",
   "execution_count": 19,
   "metadata": {},
   "outputs": [
    {
     "name": "stdout",
     "output_type": "stream",
     "text": [
      "[123395, 488034, 78861, 200882, 102517, 49658, 201804, 247860, 356333, 163982, 351283, 305592, 443860, 111094, 216152, 220897, 184823, 438974, 464208]\n"
     ]
    }
   ],
   "source": [
    "print([int(i) for _,i in amount])"
   ]
  },
  {
   "cell_type": "code",
   "execution_count": 20,
   "metadata": {},
   "outputs": [
    {
     "name": "stdout",
     "output_type": "stream",
     "text": [
      "[61697, 9577, 244017, 30849, 39430, 244017, 19716, 100441, 19715, 51258, 100441, 25630, 24829, 25629, 100902, 24829, 123930, 100902, 61965, 178166, 61965, 89084, 81991, 89083, 175641, 81991, 152796, 175642, 76398, 221930, 76398, 110965, 55547, 110965, 27774, 108076, 73709, 46206, 110448, 27773, 92411, 110449, 116052, 219487, 46206, 232104, 219487, 116052]\n"
     ]
    }
   ],
   "source": [
    "print([int(i) for _,i in payment])"
   ]
  },
  {
   "cell_type": "code",
   "execution_count": 21,
   "metadata": {},
   "outputs": [],
   "source": [
    "l=[]\n",
    "a=[61697, 9577, 244017, 30849, 39430, 244017, 19716, 100441, 19715, 51258, 100441, 25630, 24829, 25629, 100902, 24829, 123930, 100902, 61965, 178166, 61965, 89084, 81991, 89083, 175641, 81991, 152796, 175642, 76398, 221930, 76398, 110965, 55547, 110965, 27774, 108076, 73709, 46206, 110448, 27773, 92411, 110449, 116052, 219487, 46206, 232104, 219487, 116052]"
   ]
  },
  {
   "cell_type": "code",
   "execution_count": 23,
   "metadata": {},
   "outputs": [],
   "source": [
    "def fun1(array,amt,n,l):\n",
    "    if amt==0: return True\n",
    "    elif n==0: return False\n",
    "\n",
    "    if amt>=array[n-1]:\n",
    "        taken=fun1(array,amt-array[n-1],n-1,l)\n",
    "        if taken: l.append(n-1)\n",
    "        nottaken=fun1(array,amt,n-1,l)\n",
    "        return taken or nottaken\n",
    "    else:\n",
    "        return fun1(array,amt,n-1,l)\n"
   ]
  },
  {
   "cell_type": "code",
   "execution_count": 35,
   "metadata": {},
   "outputs": [
    {
     "data": {
      "text/plain": [
       "(True, [5, 2, 4, 6, 8, 4, 6, 8])"
      ]
     },
     "execution_count": 35,
     "metadata": {},
     "output_type": "execute_result"
    }
   ],
   "source": [
    "fun1(a,78861,len(a),l),l"
   ]
  },
  {
   "cell_type": "code",
   "execution_count": 25,
   "metadata": {},
   "outputs": [
    {
     "data": {
      "text/plain": [
       "[0, 2]"
      ]
     },
     "execution_count": 25,
     "metadata": {},
     "output_type": "execute_result"
    }
   ],
   "source": [
    "l"
   ]
  },
  {
   "cell_type": "code",
   "execution_count": 27,
   "metadata": {},
   "outputs": [],
   "source": [
    "b=[5, 2, 4, 6, 8]"
   ]
  },
  {
   "cell_type": "code",
   "execution_count": 30,
   "metadata": {},
   "outputs": [
    {
     "data": {
      "text/plain": [
       "[8, 6, 5, 4, 2]"
      ]
     },
     "execution_count": 30,
     "metadata": {},
     "output_type": "execute_result"
    }
   ],
   "source": [
    "b.sort(reverse=True)\n",
    "b"
   ]
  },
  {
   "cell_type": "code",
   "execution_count": null,
   "metadata": {},
   "outputs": [],
   "source": []
  }
 ],
 "metadata": {
  "kernelspec": {
   "display_name": "base",
   "language": "python",
   "name": "python3"
  },
  "language_info": {
   "codemirror_mode": {
    "name": "ipython",
    "version": 3
   },
   "file_extension": ".py",
   "mimetype": "text/x-python",
   "name": "python",
   "nbconvert_exporter": "python",
   "pygments_lexer": "ipython3",
   "version": "3.9.12"
  },
  "orig_nbformat": 4
 },
 "nbformat": 4,
 "nbformat_minor": 2
}
