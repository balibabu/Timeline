{
 "cells": [
  {
   "attachments": {},
   "cell_type": "markdown",
   "metadata": {},
   "source": [
    "# <font face='comic sans ms' color ='PaleTurquoise'>Monday 2023-05-22</font>"
   ]
  },
  {
   "attachments": {},
   "cell_type": "markdown",
   "metadata": {},
   "source": [
    "## <font face='comic sans ms' color ='yellow'>Level 1</font>"
   ]
  },
  {
   "cell_type": "code",
   "execution_count": null,
   "metadata": {},
   "outputs": [],
   "source": [
    "data=input().split()"
   ]
  },
  {
   "cell_type": "code",
   "execution_count": null,
   "metadata": {},
   "outputs": [],
   "source": [
    "for i in range(0,len(data)//2,3):\n",
    "    print(data[i],data[i+1],data[i+2],data[len(data)//2+i],data[len(data)//2+i+1],data[len(data)//2+i+2])\n",
    "    # print(data[len(data)//2+i],data[len(data)//2+i+1],data[len(data)//2+i+2])"
   ]
  },
  {
   "cell_type": "code",
   "execution_count": null,
   "metadata": {},
   "outputs": [],
   "source": [
    "stack=''\n",
    "for i in range(0,len(data)//2,3):\n",
    "    if data[i+2]!=data[len(data)//2+i+2]:\n",
    "        stack+=data[i+1]+' '\n",
    "print(stack)"
   ]
  },
  {
   "attachments": {},
   "cell_type": "markdown",
   "metadata": {},
   "source": [
    "## <font face='comic sans ms' color ='yellow'>Level 2</font>"
   ]
  },
  {
   "cell_type": "code",
   "execution_count": null,
   "metadata": {},
   "outputs": [],
   "source": [
    "data=input().split()"
   ]
  },
  {
   "cell_type": "code",
   "execution_count": null,
   "metadata": {},
   "outputs": [],
   "source": [
    "amount=[]\n",
    "payment=[]\n",
    "for i in range(0,len(data),3):\n",
    "    geld=(data[i+1],data[i+2])\n",
    "    if data[i]=='F':\n",
    "        amount.append(geld)\n",
    "    else:\n",
    "        payment.append(geld)"
   ]
  },
  {
   "cell_type": "code",
   "execution_count": null,
   "metadata": {},
   "outputs": [],
   "source": [
    "amount"
   ]
  },
  {
   "cell_type": "code",
   "execution_count": null,
   "metadata": {},
   "outputs": [],
   "source": [
    "print(payment)"
   ]
  },
  {
   "cell_type": "code",
   "execution_count": null,
   "metadata": {},
   "outputs": [],
   "source": [
    "totalAmt=0\n",
    "for i,j in amount:\n",
    "    totalAmt+=int(j)\n",
    "totalAmt"
   ]
  },
  {
   "cell_type": "code",
   "execution_count": null,
   "metadata": {},
   "outputs": [],
   "source": [
    "totalPayment=0\n",
    "for i,j in payment:\n",
    "    totalPayment+=int(j)\n",
    "totalPayment"
   ]
  },
  {
   "cell_type": "code",
   "execution_count": null,
   "metadata": {},
   "outputs": [],
   "source": [
    "netAmt=totalAmt-totalPayment\n",
    "netAmt"
   ]
  },
  {
   "cell_type": "code",
   "execution_count": null,
   "metadata": {},
   "outputs": [],
   "source": [
    "stack=''\n",
    "for i in range(len(amount)-1,-1,-1):\n",
    "    netAmt-=int(amount[i][1])\n",
    "    stack+=amount[i][0]\n",
    "    if netAmt<=0:\n",
    "        break\n",
    "print(stack)"
   ]
  },
  {
   "attachments": {},
   "cell_type": "markdown",
   "metadata": {},
   "source": [
    "# <font face='comic sans ms' color ='PaleTurquoise'>Tuesday 2023-05-23</font>"
   ]
  },
  {
   "attachments": {},
   "cell_type": "markdown",
   "metadata": {},
   "source": [
    "## <font face='comic sans ms' color ='yellow'>Level 3</font>"
   ]
  },
  {
   "attachments": {},
   "cell_type": "markdown",
   "metadata": {},
   "source": [
    "F 1 209 F 2 254 F 3 895 F 4 439 B 1 104 B 2 127 B 3 74 B 3 447 B 4 127 B 4 219 B 5 448 B 6 220"
   ]
  },
  {
   "cell_type": "code",
   "execution_count": null,
   "metadata": {},
   "outputs": [],
   "source": [
    "data=input().split()"
   ]
  },
  {
   "cell_type": "code",
   "execution_count": null,
   "metadata": {},
   "outputs": [],
   "source": [
    "amount=[]\n",
    "payment=[]\n",
    "for i in range(0,len(data),3):\n",
    "    geld=(data[i+1],data[i+2])\n",
    "    if data[i]=='F':\n",
    "        amount.append(geld)\n",
    "    else:\n",
    "        payment.append(geld)\n",
    "\n",
    "print(amount)\n",
    "print(payment)"
   ]
  },
  {
   "cell_type": "code",
   "execution_count": null,
   "metadata": {},
   "outputs": [],
   "source": [
    "array=[int(j) for i,j in payment]\n",
    "array"
   ]
  },
  {
   "cell_type": "code",
   "execution_count": null,
   "metadata": {},
   "outputs": [],
   "source": [
    "def composed(array,i,amt):\n",
    "    if amt==0: return True \n",
    "    elif i==len(array): return False\n",
    "\n",
    "    if amt>=array[i]:\n",
    "        return composed(array,i+1,amt-array[i]) or composed(array,i+1,amt)\n",
    "    else:\n",
    "        return False"
   ]
  },
  {
   "cell_type": "code",
   "execution_count": null,
   "metadata": {},
   "outputs": [],
   "source": [
    "def composed1(array,i,amt,list1):\n",
    "    if amt==0: return True \n",
    "    elif i==len(array): return False\n",
    "\n",
    "    if amt>=array[i]:\n",
    "        taken=composed1(array,i+1,amt-array[i],list1)\n",
    "        notTaken=composed1(array,i+1,amt,list1)\n",
    "        if taken: list1.append(i)\n",
    "        return taken or notTaken\n",
    "    else:\n",
    "        return False"
   ]
  },
  {
   "cell_type": "code",
   "execution_count": null,
   "metadata": {},
   "outputs": [],
   "source": [
    "lis=[]\n",
    "composed1(array,0,209,lis)\n",
    "lis"
   ]
  },
  {
   "cell_type": "code",
   "execution_count": null,
   "metadata": {},
   "outputs": [],
   "source": [
    "array"
   ]
  },
  {
   "cell_type": "code",
   "execution_count": null,
   "metadata": {},
   "outputs": [],
   "source": [
    "def composed1(array,i,amt,list1):\n",
    "    if amt==0: return True \n",
    "    elif i==len(array): return False\n",
    "\n",
    "    if amt>=array[i]:\n",
    "        taken=composed1(array,i+1,amt-array[i],list1)\n",
    "        notTaken=composed1(array,i+1,amt,list1)\n",
    "        if taken: list1.append(i)\n",
    "        return taken or notTaken\n",
    "    else:\n",
    "        return composed1(array,i+1,amt,list1)\n"
   ]
  },
  {
   "cell_type": "code",
   "execution_count": null,
   "metadata": {},
   "outputs": [],
   "source": [
    "data=input().split()\n",
    "amount=[]\n",
    "payment=[]\n",
    "for i in range(0,len(data),3):\n",
    "    geld=(data[i+1],data[i+2])\n",
    "    if data[i]=='F':\n",
    "        amount.append(geld)\n",
    "    else:\n",
    "        payment.append(geld)\n",
    "        \n"
   ]
  },
  {
   "cell_type": "code",
   "execution_count": null,
   "metadata": {},
   "outputs": [],
   "source": [
    "array=[int(j) for i,j in payment]\n",
    "for i,j in amount:\n",
    "    indexes=[]\n",
    "    composed1(array,0,int(j),indexes)\n",
    "    if 0<len(indexes)<=4:\n",
    "        indexes.sort(reverse=True)\n",
    "        for index in indexes:\n",
    "            array.pop(index)\n",
    "    else:\n",
    "        print(i,end=' ')"
   ]
  },
  {
   "cell_type": "code",
   "execution_count": null,
   "metadata": {},
   "outputs": [],
   "source": [
    "array"
   ]
  },
  {
   "cell_type": "code",
   "execution_count": null,
   "metadata": {},
   "outputs": [],
   "source": [
    "print([int(i) for _,i in amount])"
   ]
  },
  {
   "cell_type": "code",
   "execution_count": null,
   "metadata": {},
   "outputs": [],
   "source": [
    "print([int(i) for _,i in payment])"
   ]
  },
  {
   "cell_type": "code",
   "execution_count": null,
   "metadata": {},
   "outputs": [],
   "source": [
    "l=[]\n",
    "a=[61697, 9577, 244017, 30849, 39430, 244017, 19716, 100441, 19715, 51258, 100441, 25630, 24829, 25629, 100902, 24829, 123930, 100902, 61965, 178166, 61965, 89084, 81991, 89083, 175641, 81991, 152796, 175642, 76398, 221930, 76398, 110965, 55547, 110965, 27774, 108076, 73709, 46206, 110448, 27773, 92411, 110449, 116052, 219487, 46206, 232104, 219487, 116052]"
   ]
  },
  {
   "cell_type": "code",
   "execution_count": null,
   "metadata": {},
   "outputs": [],
   "source": [
    "def fun1(array,amt,n,l):\n",
    "    if amt==0: return True\n",
    "    elif n==0: return False\n",
    "\n",
    "    if amt>=array[n-1]:\n",
    "        taken=fun1(array,amt-array[n-1],n-1,l)\n",
    "        if taken: l.append(n-1)\n",
    "        nottaken=fun1(array,amt,n-1,l)\n",
    "        return taken or nottaken\n",
    "    else:\n",
    "        return fun1(array,amt,n-1,l)\n"
   ]
  },
  {
   "cell_type": "code",
   "execution_count": null,
   "metadata": {},
   "outputs": [],
   "source": [
    "fun1(a,78861,len(a),l),l"
   ]
  },
  {
   "cell_type": "code",
   "execution_count": null,
   "metadata": {},
   "outputs": [],
   "source": [
    "l"
   ]
  },
  {
   "cell_type": "code",
   "execution_count": null,
   "metadata": {},
   "outputs": [],
   "source": [
    "b=[5, 2, 4, 6, 8]"
   ]
  },
  {
   "cell_type": "code",
   "execution_count": null,
   "metadata": {},
   "outputs": [],
   "source": [
    "b.sort(reverse=True)\n",
    "b"
   ]
  },
  {
   "cell_type": "markdown",
   "metadata": {},
   "source": [
    "# <font face='comic sans ms' color ='PaleTurquoise'>Wednesday 2023-05-24</font>"
   ]
  },
  {
   "cell_type": "code",
   "execution_count": null,
   "metadata": {},
   "outputs": [],
   "source": [
    "def find_combination(target, nums):\n",
    "    def backtrack(start, curr_sum, path):\n",
    "        if curr_sum == target:\n",
    "            return path[:]\n",
    "        if curr_sum > target:\n",
    "            return None\n",
    "\n",
    "        for i in range(start, len(nums)):\n",
    "            path.append(i)\n",
    "            result = backtrack(i + 1, curr_sum + nums[i], path)\n",
    "            if result:\n",
    "                return result\n",
    "            path.pop()\n",
    "\n",
    "    return backtrack(0, 0, [])"
   ]
  },
  {
   "cell_type": "code",
   "execution_count": null,
   "metadata": {},
   "outputs": [],
   "source": [
    "data=input().split()\n",
    "amount=[]\n",
    "payment=[]\n",
    "for i in range(0,len(data),3):\n",
    "    geld=(data[i+1],data[i+2])\n",
    "    if data[i]=='F':\n",
    "        amount.append(geld)\n",
    "    else:\n",
    "        payment.append(geld)"
   ]
  },
  {
   "cell_type": "code",
   "execution_count": null,
   "metadata": {},
   "outputs": [],
   "source": [
    "array=[int(j) for i,j in payment]"
   ]
  },
  {
   "cell_type": "code",
   "execution_count": null,
   "metadata": {},
   "outputs": [],
   "source": [
    "\n",
    "for i,j in amount:\n",
    "    indexes=find_combination(int(j),array)\n",
    "    if indexes and len(indexes)<=4:\n",
    "        indexes.sort(reverse=True)\n",
    "        for index in indexes:\n",
    "            array.pop(index)\n",
    "    else:\n",
    "        print(i,end=' ')\n"
   ]
  },
  {
   "cell_type": "code",
   "execution_count": null,
   "metadata": {},
   "outputs": [],
   "source": [
    "print(amount)\n",
    "print(payment)"
   ]
  },
  {
   "cell_type": "code",
   "execution_count": null,
   "metadata": {},
   "outputs": [],
   "source": [
    "len(array)"
   ]
  },
  {
   "cell_type": "code",
   "execution_count": null,
   "metadata": {},
   "outputs": [],
   "source": [
    "a=[[1,2],[5],[2,1]]"
   ]
  },
  {
   "cell_type": "code",
   "execution_count": null,
   "metadata": {},
   "outputs": [],
   "source": [
    "a.sort()"
   ]
  },
  {
   "cell_type": "code",
   "execution_count": null,
   "metadata": {},
   "outputs": [],
   "source": [
    "a"
   ]
  },
  {
   "cell_type": "code",
   "execution_count": null,
   "metadata": {},
   "outputs": [],
   "source": [
    "def find_combination(target, nums):\n",
    "    def backtrack(start, curr_sum, path):\n",
    "        if curr_sum == target:\n",
    "            return path[:]\n",
    "        if curr_sum > target or len(path) >= 4:\n",
    "            return None\n",
    "\n",
    "        for i in range(start, len(nums)):\n",
    "            path.append(i)\n",
    "            result = backtrack(i + 1, curr_sum + nums[i], path)\n",
    "            if result:\n",
    "                return result\n",
    "            path.pop()\n",
    "\n",
    "    return backtrack(0, 0, [])\n"
   ]
  },
  {
   "cell_type": "code",
   "execution_count": null,
   "metadata": {},
   "outputs": [],
   "source": [
    "find_combination(488034,array)"
   ]
  },
  {
   "cell_type": "markdown",
   "metadata": {},
   "source": [
    "# <font face='comic sans ms' color ='PaleTurquoise'>Friday 2023-06-02</font>"
   ]
  },
  {
   "cell_type": "markdown",
   "metadata": {},
   "source": [
    "## <font face='comic sans ms' color ='yellow'>level 3</font>"
   ]
  },
  {
   "cell_type": "code",
   "execution_count": null,
   "metadata": {},
   "outputs": [],
   "source": [
    "data=input().split()"
   ]
  },
  {
   "cell_type": "code",
   "execution_count": null,
   "metadata": {},
   "outputs": [],
   "source": [
    "earning={}\n",
    "payment=dict()\n",
    "for i in range(0,len(data),3):\n",
    "    date=int(data[i+1])\n",
    "    geld=int(data[i+2])\n",
    "    if data[i]=='F':\n",
    "        earning[date]=geld\n",
    "    else:\n",
    "        if date not in payment.keys(): payment[date]=[geld]\n",
    "        else: payment[date].append(geld)\n",
    "\n",
    "print(earning)\n",
    "print(payment)"
   ]
  },
  {
   "cell_type": "code",
   "execution_count": null,
   "metadata": {},
   "outputs": [],
   "source": [
    "def removeValue(num,nums,startPos):\n",
    "    while startPos in nums.keys():\n",
    "        if num in nums[startPos]:\n",
    "            nums[startPos].remove(num)\n",
    "            return\n",
    "        startPos+=1"
   ]
  },
  {
   "cell_type": "code",
   "execution_count": null,
   "metadata": {},
   "outputs": [],
   "source": [
    "for i in earning:\n",
    "    eligibleList=[]\n",
    "    j=i\n",
    "    while j in payment.keys():\n",
    "        eligibleList+=payment[j]\n",
    "        j+=1\n",
    "    pos=find_combination(earning[i],eligibleList)\n",
    "    if pos:\n",
    "        for p in pos:\n",
    "            removeValue(eligibleList[p],payment,i)\n",
    "    else:\n",
    "        print(i,end=' ')\n",
    "# for i in earning:\n",
    "#     if len(payment[i])!=0: print(i,end=' ')"
   ]
  },
  {
   "cell_type": "code",
   "execution_count": 22,
   "metadata": {},
   "outputs": [],
   "source": [
    "def find_combination(target, nums):\n",
    "    def backtrack(start, curr_sum, path):\n",
    "        if curr_sum == target:\n",
    "            return path[:]\n",
    "        if curr_sum > target or len(path) >= 4:\n",
    "            return None\n",
    "\n",
    "        for i in range(start, len(nums)):\n",
    "            path.append(i)\n",
    "            result = backtrack(i + 1, curr_sum + nums[i], path)\n",
    "            if result:\n",
    "                return result\n",
    "            path.pop()\n",
    "\n",
    "    return backtrack(0, 0, [])"
   ]
  },
  {
   "cell_type": "markdown",
   "metadata": {},
   "source": [
    "## <font face='comic sans ms' color ='yellow'>Level 4</font>"
   ]
  },
  {
   "cell_type": "code",
   "execution_count": 26,
   "metadata": {},
   "outputs": [],
   "source": [
    "def removeValue(num,nums,startPos,stopPos):\n",
    "    while startPos in nums.keys() and startPos<stopPos:\n",
    "        if num in nums[startPos]:\n",
    "            nums[startPos].remove(num)\n",
    "            return\n",
    "        startPos+=1"
   ]
  },
  {
   "cell_type": "code",
   "execution_count": 45,
   "metadata": {},
   "outputs": [],
   "source": [
    "data=input().split()    # F 1 2 150 F 2 4 170 F 3 4 150 B 4 150 B 2 10 B 3 90"
   ]
  },
  {
   "cell_type": "code",
   "execution_count": 46,
   "metadata": {},
   "outputs": [],
   "source": [
    "earning={}\n",
    "payment={}\n",
    "while len(data)!=0:\n",
    "    intension=data.pop(0)\n",
    "    date=int(data.pop(0))\n",
    "    if intension=='F':\n",
    "        duration=int(data.pop(0))\n",
    "        amt=int(data.pop(0))\n",
    "        earning[date]=[duration,amt]\n",
    "    else:\n",
    "        amt=int(data.pop(0))\n",
    "        if date in payment.keys(): payment[date].append(amt)\n",
    "        else: payment[date]=[amt]"
   ]
  },
  {
   "cell_type": "code",
   "execution_count": 47,
   "metadata": {},
   "outputs": [
    {
     "name": "stdout",
     "output_type": "stream",
     "text": [
      "{1: [4, 2357], 2: [4, 9353], 3: [4, 8627], 4: [4, 487], 5: [4, 3887], 6: [4, 7146], 7: [4, 6135], 8: [4, 1982], 9: [4, 5183], 10: [4, 8717], 11: [4, 7707], 12: [4, 4786], 13: [4, 6902], 14: [4, 852], 15: [4, 5589], 17: [4, 2139], 16: [4, 4851], 19: [4, 1817], 18: [4, 2593], 21: [4, 1163], 20: [4, 7962], 23: [4, 4457], 22: [4, 6636], 25: [4, 4406], 24: [4, 3412], 27: [4, 6239], 26: [4, 2004], 29: [4, 7435], 28: [4, 1651], 31: [4, 2545], 30: [4, 1847], 34: [4, 8705], 35: [4, 8783], 32: [4, 6008], 33: [4, 5504], 38: [4, 6374], 39: [4, 8840], 36: [4, 7527], 37: [4, 1184]}\n",
      "{1: [1178], 2: [590, 4676], 3: [4313], 4: [4677, 243], 5: [4314, 122, 1943], 6: [589, 122, 972, 3573], 7: [972, 3067], 8: [3573, 1534, 991], 9: [1534, 2591], 10: [991, 4358], 11: [2592, 3853], 12: [4359, 2393], 13: [1936, 3451], 14: [2393, 1726, 426], 15: [1725, 2794], 17: [1397, 1213, 1069], 16: [426, 1398, 2425], 19: [535, 908], 18: [1213, 535, 1296], 21: [454, 581], 20: [1297, 455, 3981], 23: [582, 2228], 22: [3981, 3318], 25: [1114, 2203], 24: [3318, 1026, 1706], 27: [1101, 3119], 26: [1706, 1102, 1002], 29: [3120, 413, 3717], 28: [1002, 825], 31: [1859, 1272], 30: [413, 1859, 923], 34: [1502, 4352], 35: [2752, 2177, 4391], 32: [924, 3004], 33: [1273, 1502, 2752], 38: [1882, 296, 3187], 39: [296, 1594, 4420], 36: [2176, 2196, 3763], 37: [2196, 159, 592], 40: [1593], 41: [4420]}\n"
     ]
    }
   ],
   "source": [
    "print(earning)\n",
    "print(payment)"
   ]
  },
  {
   "cell_type": "code",
   "execution_count": 48,
   "metadata": {},
   "outputs": [
    {
     "name": "stdout",
     "output_type": "stream",
     "text": [
      "1 11 23 36 "
     ]
    }
   ],
   "source": [
    "for day in earning:\n",
    "    eligibleList=[]\n",
    "    j=day\n",
    "    while j in payment.keys() and j<(day+earning[day][0]):\n",
    "        eligibleList+=payment[j]\n",
    "        j+=1\n",
    "    pos=find_combination(earning[day][1],eligibleList)\n",
    "    if pos:\n",
    "        for p in pos:\n",
    "            removeValue(eligibleList[p],payment,day,day+earning[day][0])\n",
    "    else:\n",
    "        print(day,end=' ')\n",
    "    # print(eligibleList)"
   ]
  },
  {
   "cell_type": "markdown",
   "metadata": {},
   "source": [
    "## <font face='comic sans ms' color ='yellow'>level 5</font>"
   ]
  },
  {
   "cell_type": "code",
   "execution_count": 90,
   "metadata": {},
   "outputs": [],
   "source": [
    "a='F 1 1 2 305517 F 1 2 2 365415 F 1 3 2 360606 F 1 4 2 72756 F 2 1 2 384041 F 2 2 2 372450 F 2 3 2 383375 F 2 4 2 323634 F 3 1 2 77477 F 3 2 2 121856 F 3 3 2 265482 F 3 4 2 15471 F 4 1 2 84358 F 4 2 2 173377 F 4 3 2 25382 F 4 4 2 60144 F 5 1 2 346571 F 5 2 2 107302 F 5 3 2 47122 F 5 4 2 54274 F 6 1 2 106312 F 6 2 2 234202 F 6 3 2 153353 F 6 4 2 201285 F 7 1 2 101866 F 7 2 2 170833 F 7 3 2 253479 F 7 4 2 86552 F 8 1 2 211061 F 8 2 2 238532 F 8 3 2 37138 F 8 4 2 5664 F 9 1 2 378937 F 9 2 2 318373 F 9 3 2 233545 F 9 4 2 152662 F 10 1 2 196238 F 10 2 2 8783 F 10 3 2 287955 F 10 4 2 71041 F 11 1 2 384568 F 11 2 2 135199 F 11 3 2 237506 F 11 4 2 106658 F 12 1 2 59273 F 12 2 2 304880 F 12 3 2 37513 F 12 4 2 47501 F 13 1 2 334092 F 13 2 2 397160 F 13 3 2 124874 F 13 4 2 303213 F 14 1 2 261504 F 14 2 2 4353 F 14 3 2 219085 F 14 4 2 51220 F 15 1 2 163662 F 15 2 2 232629 F 15 3 2 152912 F 15 4 2 58918 F 17 1 2 69067 F 17 2 2 280835 F 17 3 2 24461 F 17 4 2 207547 F 16 1 2 21752 F 16 2 2 99364 F 16 3 2 140062 F 16 4 2 39670 F 19 1 2 5252 F 19 2 2 392098 F 19 3 2 394878 F 19 4 2 299715 F 18 1 2 290560 F 18 2 2 115509 F 18 3 2 47671 F 18 4 2 52638 F 21 1 2 330149 F 21 2 2 323368 F 21 3 2 259842 F 21 4 2 201185 F 20 1 2 186702 F 20 2 2 33499 F 20 3 2 144284 F 20 4 2 376419 F 23 1 2 37388 F 23 2 2 55491 F 23 3 2 199117 F 23 4 2 383462 F 22 1 2 26134 F 22 2 2 324966 F 22 3 2 318524 F 22 4 2 178976 F 25 1 2 16210 F 25 2 2 383535 F 25 3 2 343289 F 25 4 2 284223 F 24 1 2 220841 F 24 2 2 248312 F 24 3 2 258300 F 24 4 2 150250 F 27 1 2 169907 F 27 2 2 306961 F 27 3 2 295032 F 27 4 2 27665 F 26 1 2 359104 F 26 2 2 99176 F 26 3 2 18294 F 26 4 2 332528 F 29 1 2 20490 F 29 2 2 325237 F 29 3 2 383987 F 29 4 2 128086 F 28 1 2 322692 F 28 2 2 248533 F 28 3 2 389395 F 28 4 2 351524 F 31 1 2 96266 F 31 2 2 150489 F 31 3 2 138606 F 31 4 2 109321 F 30 1 2 13048 F 30 2 2 21786 F 30 3 2 362044 F 30 4 2 380617 F 34 1 2 336471 F 34 2 2 79320 F 34 3 2 316699 F 34 4 2 14722 F 35 1 2 29906 F 35 2 2 43783 F 35 3 2 343392 F 35 4 2 246633 F 32 1 2 138717 F 32 2 2 22705 F 32 3 2 135874 F 32 4 2 83342 F 33 1 2 388471 F 33 2 2 110383 F 33 3 2 256623 F 33 4 2 246846 F 38 1 2 243342 F 38 2 2 68291 F 38 3 2 123302 F 38 4 2 49966 F 39 1 2 100754 F 39 2 2 280191 F 39 3 2 234055 F 39 4 2 92168 F 36 1 2 280537 F 36 2 2 32682 F 36 3 2 321297 F 36 4 2 390264 F 37 1 2 119519 F 37 2 2 52592 F 37 3 2 46599 F 37 4 2 105822 B 1 152758 B 1 182707 B 1 180303 B 1 36378 B 2 192020 B 2 186225 B 2 191687 B 2 161817 B 3 152759 B 3 182708 B 3 180303 B 3 36378 B 3 38738 B 3 60928 B 3 132741 B 3 7735 B 4 192021 B 4 186225 B 4 191688 B 4 161817 B 4 42179 B 4 86688 B 4 12691 B 4 30072 B 5 38739 B 5 60928 B 5 132741 B 5 7736 B 5 173285 B 5 53651 B 5 23561 B 5 27137 B 6 42179 B 6 45420 B 6 12691 B 6 30072 B 6 53156 B 6 117101 B 6 76676 B 6 100642 B 7 173286 B 7 53651 B 7 23561 B 7 27137 B 7 50933 B 7 85416 B 7 126739 B 7 43276 B 8 39220 B 8 117101 B 8 76677 B 8 100643 B 8 105530 B 8 119266 B 8 18569 B 8 2832 B 9 50933 B 9 85417 B 9 126740 B 9 43276 B 9 189468 B 9 159186 B 9 116772 B 9 76331 B 10 105531 B 10 119266 B 10 18569 B 10 2832 B 10 98119 B 10 4391 B 10 143977 B 10 35520 B 11 189469 B 11 159187 B 11 116773 B 11 76331 B 11 192284 B 11 67599 B 11 118753 B 11 53329 B 12 98119 B 12 4041 B 12 143978 B 12 35521 B 12 29636 B 12 152440 B 12 18756 B 12 23750 B 13 192284 B 13 67600 B 13 118753 B 13 53329 B 13 167046 B 13 198580 B 13 62437 B 13 151606 B 14 29637 B 14 152440 B 14 18757 B 14 23751 B 14 130752 B 14 2176 B 14 109542 B 14 25610 B 15 167046 B 15 198580 B 15 62437 B 15 151607 B 15 81831 B 15 116314 B 15 76456 B 15 29459 B 17 81831 B 17 116315 B 17 76456 B 17 17153 B 17 34533 B 17 140417 B 17 12230 B 17 103773 B 16 130752 B 16 2177 B 16 109543 B 16 25610 B 16 10876 B 16 49682 B 16 70031 B 16 19835 B 19 34534 B 19 140418 B 19 12231 B 19 103774 B 19 2626 B 19 196049 B 19 197439 B 19 149857 B 18 10876 B 18 49682 B 18 70031 B 18 19835 B 18 145280 B 18 57754 B 18 23835 B 18 26319 B 21 2626 B 21 196049 B 21 197439 B 21 149858 B 21 165074 B 21 161684 B 21 129921 B 21 100592 B 20 145280 B 20 57755 B 20 23836 B 20 26319 B 20 93351 B 20 16749 B 20 72142 B 20 188209 B 23 165075 B 23 161684 B 23 129921 B 23 100593 B 23 18694 B 23 27745 B 23 99558 B 23 191731 B 22 93351 B 22 16750 B 22 72142 B 22 188210 B 22 13067 B 22 162483 B 22 159262 B 22 89488 B 25 18694 B 25 27746 B 25 99559 B 25 191731 B 25 8105 B 25 191767 B 25 171644 B 25 142111 B 24 13067 B 24 162483 B 24 159262 B 24 77811 B 24 110420 B 24 124156 B 24 129150 B 24 75125 B 27 8105 B 27 191768 B 27 171645 B 27 142112 B 27 84953 B 27 153480 B 27 147516 B 27 13832 B 26 110421 B 26 124156 B 26 129150 B 26 75125 B 26 179552 B 26 49588 B 26 9147 B 26 166264 B 29 84954 B 29 153481 B 29 147516 B 29 13833 B 29 10245 B 29 162618 B 29 191993 B 29 64043 B 28 179552 B 28 49588 B 28 9147 B 28 166264 B 28 161346 B 28 124266 B 28 194697 B 28 175762 B 31 10245 B 31 162619 B 31 191994 B 31 64043 B 31 48133 B 31 75244 B 31 69303 B 31 54660 B 30 161346 B 30 124267 B 30 194698 B 30 175762 B 30 6524 B 30 10893 B 30 181022 B 30 190308 B 34 69359 B 34 11353 B 34 67937 B 34 41671 B 34 168235 B 34 39660 B 34 158349 B 34 7361 B 35 194236 B 35 55192 B 35 128312 B 35 123423 B 35 14953 B 35 21891 B 35 171696 B 35 123316 B 32 6524 B 32 10893 B 32 181022 B 32 190309 B 32 69358 B 32 11352 B 32 67937 B 32 41671 B 33 48133 B 33 75245 B 33 69303 B 33 54661 B 33 194235 B 33 55191 B 33 128311 B 33 123423 B 38 140269 B 38 16341 B 38 160649 B 38 195132 B 38 121671 B 38 34145 B 38 61651 B 38 24983 B 39 59760 B 39 26296 B 39 23300 B 39 52911 B 39 50377 B 39 140095 B 39 117027 B 39 46084 B 36 168236 B 36 39660 B 36 158350 B 36 7361 B 36 140268 B 36 16341 B 36 160648 B 36 195132 B 37 14953 B 37 21892 B 37 171696 B 37 72889 B 37 59759 B 37 26296 B 37 23299 B 37 52911 B 40 121671 B 40 34146 B 40 61651 B 40 24983 B 41 50377 B 41 140096 B 41 117028 B 41 46084'"
   ]
  },
  {
   "cell_type": "code",
   "execution_count": 92,
   "metadata": {},
   "outputs": [
    {
     "name": "stdout",
     "output_type": "stream",
     "text": [
      "F 1 1 2 305517 F 1 2 2 365415 F 1 3 2 360606 F 1 4 2 72756 F 2 1 2 384041 F 2 2 2 372450 F 2 3 2 383375 F 2 4 2 323634 F 3 1 2 77477 F 3 2 2 121856 F 3 3 2 265482 F 3 4 2 15471 F 4 1 2 84358 F 4 2 2 173377 F 4 3 2 25382 F 4 4 2 60144 F 5 1 2 346571 F 5 2 2 107302 F 5 3 2 47122 F 5 4 2 54274 F 6 1 2 106312 F 6 2 2 234202 F 6 3 2 153353 F 6 4 2 201285 F 7 1 2 101866 F 7 2 2 170833 F 7 3 2 253479 F 7 4 2 86552 F 8 1 2 211061 F 8 2 2 238532 F 8 3 2 37138 F 8 4 2 5664 F 9 1 2 378937 F 9 2 2 318373 F 9 3 2 233545 F 9 4 2 152662 F 10 1 2 196238 F 10 2 2 8783 F 10 3 2 287955 F 10 4 2 71041 F 11 1 2 384568 F 11 2 2 135199 F 11 3 2 237506 F 11 4 2 106658 F 12 1 2 59273 F 12 2 2 304880 F 12 3 2 37513 F 12 4 2 47501 F 13 1 2 334092 F 13 2 2 397160 F 13 3 2 124874 F 13 4 2 303213 F 14 1 2 261504 F 14 2 2 4353 F 14 3 2 219085 F 14 4 2 51220 F 15 1 2 163662 F 15 2 2 232629 F 15 3 2 152912 F 15 4 2 58918 F 17 1 2 69067 F 17 2 2 280835 F 17 3 2 24461 F 17 4 2 207547 F 16 1 2 21752 F 16 2 2 99364 F 16 3 2 140062 F 16 4 2 39670 F 19 1 2 5252 F 19 2 2 392098 F 19 3 2 394878 F 19 4 2 299715 F 18 1 2 290560 F 18 2 2 115509 F 18 3 2 47671 F 18 4 2 52638 F 21 1 2 330149 F 21 2 2 323368 F 21 3 2 259842 F 21 4 2 201185 F 20 1 2 186702 F 20 2 2 33499 F 20 3 2 144284 F 20 4 2 376419 F 23 1 2 37388 F 23 2 2 55491 F 23 3 2 199117 F 23 4 2 383462 F 22 1 2 26134 F 22 2 2 324966 F 22 3 2 318524 F 22 4 2 178976 F 25 1 2 16210 F 25 2 2 383535 F 25 3 2 343289 F 25 4 2 284223 F 24 1 2 220841 F 24 2 2 248312 F 24 3 2 258300 F 24 4 2 150250 F 27 1 2 169907 F 27 2 2 306961 F 27 3 2 295032 F 27 4 2 27665 F 26 1 2 359104 F 26 2 2 99176 F 26 3 2 18294 F 26 4 2 332528 F 29 1 2 20490 F 29 2 2 325237 F 29 3 2 383987 F 29 4 2 128086 F 28 1 2 322692 F 28 2 2 248533 F 28 3 2 389395 F 28 4 2 351524 F 31 1 2 96266 F 31 2 2 150489 F 31 3 2 138606 F 31 4 2 109321 F 30 1 2 13048 F 30 2 2 21786 F 30 3 2 362044 F 30 4 2 380617 F 34 1 2 336471 F 34 2 2 79320 F 34 3 2 316699 F 34 4 2 14722 F 35 1 2 29906 F 35 2 2 43783 F 35 3 2 343392 F 35 4 2 246633 F 32 1 2 138717 F 32 2 2 22705 F 32 3 2 135874 F 32 4 2 83342 F 33 1 2 388471 F 33 2 2 110383 F 33 3 2 256623 F 33 4 2 246846 F 38 1 2 243342 F 38 2 2 68291 F 38 3 2 123302 F 38 4 2 49966 F 39 1 2 100754 F 39 2 2 280191 F 39 3 2 234055 F 39 4 2 92168 F 36 1 2 280537 F 36 2 2 32682 F 36 3 2 321297 F 36 4 2 390264 F 37 1 2 119519 F 37 2 2 52592 F 37 3 2 46599 F 37 4 2 105822 B 1 152758 B 1 182707 B 1 180303 B 1 36378 B 2 192020 B 2 186225 B 2 191687 B 2 161817 B 3 152759 B 3 182708 B 3 180303 B 3 36378 B 3 38738 B 3 60928 B 3 132741 B 3 7735 B 4 192021 B 4 186225 B 4 191688 B 4 161817 B 4 42179 B 4 86688 B 4 12691 B 4 30072 B 5 38739 B 5 60928 B 5 132741 B 5 7736 B 5 173285 B 5 53651 B 5 23561 B 5 27137 B 6 42179 B 6 45420 B 6 12691 B 6 30072 B 6 53156 B 6 117101 B 6 76676 B 6 100642 B 7 173286 B 7 53651 B 7 23561 B 7 27137 B 7 50933 B 7 85416 B 7 126739 B 7 43276 B 8 39220 B 8 117101 B 8 76677 B 8 100643 B 8 105530 B 8 119266 B 8 18569 B 8 2832 B 9 50933 B 9 85417 B 9 126740 B 9 43276 B 9 189468 B 9 159186 B 9 116772 B 9 76331 B 10 105531 B 10 119266 B 10 18569 B 10 2832 B 10 98119 B 10 4391 B 10 143977 B 10 35520 B 11 189469 B 11 159187 B 11 116773 B 11 76331 B 11 192284 B 11 67599 B 11 118753 B 11 53329 B 12 98119 B 12 4041 B 12 143978 B 12 35521 B 12 29636 B 12 152440 B 12 18756 B 12 23750 B 13 192284 B 13 67600 B 13 118753 B 13 53329 B 13 167046 B 13 198580 B 13 62437 B 13 151606 B 14 29637 B 14 152440 B 14 18757 B 14 23751 B 14 130752 B 14 2176 B 14 109542 B 14 25610 B 15 167046 B 15 198580 B 15 62437 B 15 151607 B 15 81831 B 15 116314 B 15 76456 B 15 29459 B 17 81831 B 17 116315 B 17 76456 B 17 17153 B 17 34533 B 17 140417 B 17 12230 B 17 103773 B 16 130752 B 16 2177 B 16 109543 B 16 25610 B 16 10876 B 16 49682 B 16 70031 B 16 19835 B 19 34534 B 19 140418 B 19 12231 B 19 103774 B 19 2626 B 19 196049 B 19 197439 B 19 149857 B 18 10876 B 18 49682 B 18 70031 B 18 19835 B 18 145280 B 18 57754 B 18 23835 B 18 26319 B 21 2626 B 21 196049 B 21 197439 B 21 149858 B 21 165074 B 21 161684 B 21 129921 B 21 100592 B 20 145280 B 20 57755 B 20 23836 B 20 26319 B 20 93351 B 20 16749 B 20 72142 B 20 188209 B 23 165075 B 23 161684 B 23 129921 B 23 100593 B 23 18694 B 23 27745 B 23 99558 B 23 191731 B 22 93351 B 22 16750 B 22 72142 B 22 188210 B 22 13067 B 22 162483 B 22 159262 B 22 89488 B 25 18694 B 25 27746 B 25 99559 B 25 191731 B 25 8105 B 25 191767 B 25 171644 B 25 142111 B 24 13067 B 24 162483 B 24 159262 B 24 77811 B 24 110420 B 24 124156 B 24 129150 B 24 75125 B 27 8105 B 27 191768 B 27 171645 B 27 142112 B 27 84953 B 27 153480 B 27 147516 B 27 13832 B 26 110421 B 26 124156 B 26 129150 B 26 75125 B 26 179552 B 26 49588 B 26 9147 B 26 166264 B 29 84954 B 29 153481 B 29 147516 B 29 13833 B 29 10245 B 29 162618 B 29 191993 B 29 64043 B 28 179552 B 28 49588 B 28 9147 B 28 166264 B 28 161346 B 28 124266 B 28 194697 B 28 175762 B 31 10245 B 31 162619 B 31 191994 B 31 64043 B 31 48133 B 31 75244 B 31 69303 B 31 54660 B 30 161346 B 30 124267 B 30 194698 B 30 175762 B 30 6524 B 30 10893 B 30 181022 B 30 190308 B 34 69359 B 34 11353 B 34 67937 B 34 41671 B 34 168235 B 34 39660 B 34 158349 B 34 7361 B 35 194236 B 35 55192 B 35 128312 B 35 123423 B 35 14953 B 35 21891 B 35 171696 B 35 123316 B 32 6524 B 32 10893 B 32 181022 B 32 190309 B 32 69358 B 32 11352 B 32 67937 B 32 41671 B 33 48133 B 33 75245 B 33 69303 B 33 54661 B 33 194235 B 33 55191 B 33 128311 B 33 123423 B 38 140269 B 38 16341 B 38 160649 B 38 195132 B 38 121671 B 38 34145 B 38 61651 B 38 24983 B 39 59760 B 39 26296 B 39 23300 B 39 52911 B 39 50377 B 39 140095 B 39 117027 B 39 46084 B 36 168236 B 36 39660 B 36 158350 B 36 7361 B 36 140268 B 36 16341 B 36 160648 B 36 195132 B 37 14953 B 37 21892 B 37 171696 B 37 72889 B 37 59759 B 37 26296 B 37 23299 B 37 52911 B 40 121671 B 40 34146 B 40 61651 B 40 24983 B 41 50377 B 41 140096 B 41 117028 B 41 46084\n"
     ]
    }
   ],
   "source": [
    "print(a)"
   ]
  },
  {
   "cell_type": "code",
   "execution_count": 83,
   "metadata": {},
   "outputs": [],
   "source": [
    "data=input().split()    \n",
    "earning={}\n",
    "payment={}\n",
    "while len(data)!=0:\n",
    "    intension=data.pop(0)\n",
    "    date=int(data.pop(0))\n",
    "    if intension=='F':\n",
    "        driver=int(data.pop(0))\n",
    "        duration=int(data.pop(0))\n",
    "        amt=int(data.pop(0))\n",
    "        if date in earning.keys(): earning[date].append([driver,duration,amt])\n",
    "        else: earning[date]=[[driver,duration,amt]]\n",
    "    else:\n",
    "        amt=int(data.pop(0))\n",
    "        if date in payment.keys(): payment[date].append(amt)\n",
    "        else: payment[date]=[amt]"
   ]
  },
  {
   "cell_type": "code",
   "execution_count": 84,
   "metadata": {},
   "outputs": [
    {
     "name": "stdout",
     "output_type": "stream",
     "text": [
      "{1: [[1, 2, 186596], [2, 2, 311272], [3, 2, 322636], [4, 2, 345583]], 2: [[1, 2, 341965], [2, 2, 245160], [3, 2, 250009], [4, 2, 53829]], 3: [[1, 2, 364477], [2, 2, 291393], [3, 2, 92170], [4, 2, 261738]], 4: [[1, 2, 221102], [2, 2, 175282], [3, 2, 183684], [4, 2, 18007]], 5: [[1, 2, 12476], [2, 2, 196521], [3, 2, 65083], [4, 2, 33541]], 6: [[1, 2, 270565], [2, 2, 346521], [3, 2, 246035], [4, 2, 12559]], 7: [[1, 2, 71783], [2, 2, 25222], [3, 2, 93888], [4, 2, 119648]], 8: [[1, 2, 54790], [2, 2, 227011], [3, 2, 99553], [4, 2, 303373]], 9: [[1, 2, 64205], [2, 2, 228741], [3, 2, 202891], [4, 2, 132907]], 10: [[1, 2, 232483], [2, 2, 53847], [3, 2, 220371], [4, 2, 3533]], 11: [[1, 2, 131250], [2, 2, 15237], [3, 2, 60690], [4, 2, 253426]], 12: [[1, 2, 230076], [2, 2, 296198], [3, 2, 8973], [4, 2, 17376]], 13: [[1, 2, 225165], [2, 2, 324992], [3, 2, 276833], [4, 2, 254733]], 14: [[1, 2, 365554], [2, 2, 2990], [3, 2, 380891], [4, 2, 37153]], 15: [[1, 2, 148911], [2, 2, 15101], [3, 2, 287643], [4, 2, 260624]], 17: [[1, 2, 396736], [2, 2, 350916], [3, 2, 393034], [4, 2, 162602]], 16: [[1, 2, 150213], [2, 2, 7772], [3, 2, 154800], [4, 2, 79922]], 19: [[1, 2, 309753], [2, 2, 324704], [3, 2, 189529], [4, 2, 5708]], 18: [[1, 2, 161054], [2, 2, 176005], [3, 2, 293112], [4, 2, 148921]], 21: [[1, 2, 172981], [2, 2, 296170], [3, 2, 164733], [4, 2, 159990]], 20: [[1, 2, 30679], [2, 2, 105387], [3, 2, 373985], [4, 2, 351885]], 23: [[1, 2, 337231], [2, 2, 325789], [3, 2, 87594], [4, 2, 321916]], 22: [[1, 2, 183711], [2, 2, 175382], [3, 2, 166398], [4, 2, 192158]], 25: [[1, 2, 365767], [2, 2, 176369], [3, 2, 154269], [4, 2, 182793]], 24: [[1, 2, 121905], [2, 2, 13716], [3, 2, 5223], [4, 2, 49253]], 27: [[1, 2, 364971], [2, 2, 291886], [3, 2, 348148], [4, 2, 392177]], 26: [[1, 2, 64893], [2, 2, 219050], [3, 2, 244810], [4, 2, 192208]], 29: [[1, 2, 31667], [2, 2, 215942], [3, 2, 344906], [4, 2, 161086]], 28: [[1, 2, 153009], [2, 2, 167960], [3, 2, 91048], [4, 2, 270835]], 31: [[1, 2, 378779], [2, 2, 244923], [3, 2, 326028], [4, 2, 321285]], 30: [[1, 2, 172450], [2, 2, 322242], [3, 2, 67135], [4, 2, 75538]], 34: [[1, 2, 280869], [2, 2, 132291], [3, 2, 270652], [4, 2, 317311]], 35: [[1, 2, 348138], [2, 2, 10949], [3, 2, 135703], [4, 2, 165165]], 32: [[1, 2, 274492], [2, 2, 244860], [3, 2, 335443], [4, 2, 320553]], 33: [[1, 2, 301415], [2, 2, 114827], [3, 2, 384558], [4, 2, 26677]], 38: [[1, 2, 317632], [2, 2, 287027], [3, 2, 213767], [4, 2, 239527]], 39: [[1, 2, 312840], [2, 2, 247208], [3, 2, 34840], [4, 2, 8990]], 36: [[1, 2, 193886], [2, 2, 100680], [3, 2, 123627], [4, 2, 1668]], 37: [[1, 2, 106796], [2, 2, 171712], [3, 2, 131087], [4, 2, 153096]]}\n",
      "{1: [93298, 155636, 161318, 172791], 2: [170982, 122580, 125004, 26914], 3: [93298, 155636, 161318, 172792, 182238, 145696, 46085, 130869], 4: [170983, 122580, 125005, 4823, 110551, 87641, 91842, 9003], 5: [182239, 145697, 46085, 130869, 6238, 98260, 32541, 16770], 6: [110551, 87641, 91842, 9004, 135282, 173260, 123017, 6279], 7: [6238, 98261, 3718, 16771, 35891, 12611, 46944, 59824], 8: [135283, 173261, 123018, 6280, 27395, 113505, 49776, 151686], 9: [35892, 12611, 46944, 59824, 32102, 114370, 101445, 66453], 10: [27395, 113506, 49777, 151687, 116241, 26923, 110185, 1766], 11: [32103, 114371, 101446, 5764, 65625, 7618, 30345, 126713], 12: [76916, 26924, 110186, 1767, 115038, 148099, 4486, 8688], 13: [65625, 7619, 30345, 126713, 112582, 162496, 138416, 127366], 14: [115038, 148099, 4487, 8688, 182777, 1495, 190445, 18576], 15: [112583, 162496, 138417, 127367, 74455, 7550, 143821, 130312], 17: [74456, 7551, 143822, 130312, 198368, 175458, 196517, 81301], 16: [182777, 1495, 190446, 18577, 75106, 3886, 77400, 39961], 19: [198368, 175458, 196517, 81301, 154876, 162352, 94764, 2854], 18: [75107, 3886, 77400, 39961, 80527, 88002, 146556, 74460], 21: [154877, 162352, 45433, 2854, 86490, 148085, 82366, 79995], 20: [80527, 88003, 52458, 74461, 15339, 52693, 186992, 175942], 23: [70456, 148085, 82367, 79995, 168615, 162894, 43797, 160958], 22: [15340, 45339, 186993, 175943, 91855, 87691, 83199, 96079], 25: [168616, 162895, 43797, 160958, 182883, 88184, 77134, 91396], 24: [91856, 87691, 83199, 96079, 60952, 6858, 2611, 24626], 27: [182884, 88185, 77135, 91397, 182485, 145943, 174074, 196088], 26: [60953, 6858, 2612, 24627, 32446, 109525, 122405, 96104], 29: [182486, 145943, 174074, 196089, 15833, 107971, 172453, 80543], 28: [32447, 109525, 122405, 96104, 76504, 83980, 45524, 135417], 31: [9074, 107971, 96906, 80543, 189389, 122461, 163014, 160642], 30: [76505, 83980, 3136, 135418, 86225, 161121, 33567, 37769], 34: [137246, 122430, 167722, 160277, 140434, 66145, 135326, 158655], 35: [150708, 57414, 192279, 13339, 174069, 5474, 67851, 82582], 32: [86225, 161121, 33568, 37769, 137246, 122430, 167721, 160276], 33: [189390, 122462, 163014, 160643, 150707, 57413, 192279, 13338], 38: [96943, 50340, 61814, 130, 158816, 143513, 106883, 119763], 39: [53398, 85856, 65544, 76548, 156420, 123604, 17420, 4495], 36: [140435, 66146, 54621, 158656, 96943, 50340, 61813, 834], 37: [174069, 5475, 67852, 82583, 53398, 85856, 65543, 76548], 40: [158816, 143514, 106884, 119764], 41: [145964, 123604, 17420, 4495]}\n"
     ]
    }
   ],
   "source": [
    "print(earning)  # day => driver,duration,payment\n",
    "print(payment)  # day => payments"
   ]
  },
  {
   "cell_type": "code",
   "execution_count": 85,
   "metadata": {},
   "outputs": [],
   "source": [
    "notPaidDay={}\n",
    "for day in earning:\n",
    "    for driver, duration, paidAmt in earning[day]:\n",
    "        pDay=day\n",
    "        eligibleList=[]\n",
    "        while pDay in payment.keys() and pDay<(day+duration+1):\n",
    "            eligibleList+=payment[pDay]\n",
    "            pDay+=1\n",
    "        pos=find_combination(paidAmt,eligibleList)\n",
    "        # break\n",
    "        if pos:\n",
    "            for p in pos:\n",
    "                removeValue(eligibleList[p],payment,day,day+duration+1)\n",
    "        else:\n",
    "            if day in notPaidDay.keys(): notPaidDay[day].append(driver)\n",
    "            else: notPaidDay[day]=[driver]\n",
    "            # print(f'{day}:{driver}',end=' ')\n",
    "        # print(pos)\n",
    "    # break"
   ]
  },
  {
   "cell_type": "code",
   "execution_count": 86,
   "metadata": {},
   "outputs": [
    {
     "name": "stdout",
     "output_type": "stream",
     "text": [
      "{2: [4], 5: [3], 9: [4], 10: [1], 19: [3], 18: [3], 21: [1], 20: [2], 29: [1, 3], 28: [3], 34: [3], 39: [1], 36: [4]}\n"
     ]
    }
   ],
   "source": [
    "print(notPaidDay)"
   ]
  },
  {
   "cell_type": "code",
   "execution_count": 89,
   "metadata": {},
   "outputs": [
    {
     "name": "stdout",
     "output_type": "stream",
     "text": [
      "2:4 5:3 9:4 10:1 18:3 19:3 20:2 21:1 28:3 29:1 29:3 34:3 36:4 39:1 "
     ]
    }
   ],
   "source": [
    "for _day in range(min(notPaidDay),max(notPaidDay)+1):\n",
    "    if _day in notPaidDay.keys():\n",
    "        for _driver in notPaidDay[_day]:\n",
    "            print(f'{_day}:{_driver}',end=' ')"
   ]
  },
  {
   "cell_type": "code",
   "execution_count": 78,
   "metadata": {},
   "outputs": [],
   "source": [
    "a={1:2, 4:1, 3:1}"
   ]
  },
  {
   "cell_type": "code",
   "execution_count": 82,
   "metadata": {},
   "outputs": [
    {
     "data": {
      "text/plain": [
       "[1, 3, 4]"
      ]
     },
     "execution_count": 82,
     "metadata": {},
     "output_type": "execute_result"
    }
   ],
   "source": [
    "l=list(a)\n",
    "l.sort()\n",
    "l"
   ]
  },
  {
   "cell_type": "code",
   "execution_count": null,
   "metadata": {},
   "outputs": [],
   "source": [
    "4:2 6:1 10:2 15:4 22:4 35:4"
   ]
  }
 ],
 "metadata": {
  "kernelspec": {
   "display_name": "base",
   "language": "python",
   "name": "python3"
  },
  "language_info": {
   "codemirror_mode": {
    "name": "ipython",
    "version": 3
   },
   "file_extension": ".py",
   "mimetype": "text/x-python",
   "name": "python",
   "nbconvert_exporter": "python",
   "pygments_lexer": "ipython3",
   "version": "3.9.12"
  },
  "orig_nbformat": 4
 },
 "nbformat": 4,
 "nbformat_minor": 2
}
