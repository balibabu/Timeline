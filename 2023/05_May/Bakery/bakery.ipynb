{
 "cells": [
  {
   "attachments": {},
   "cell_type": "markdown",
   "metadata": {},
   "source": [
    "# <font face='comic sans ms' color ='PaleTurquoise'>Monday 2023-05-22</font>"
   ]
  },
  {
   "attachments": {},
   "cell_type": "markdown",
   "metadata": {},
   "source": [
    "## <font face='comic sans ms' color ='yellow'>Level 1</font>"
   ]
  },
  {
   "cell_type": "code",
   "execution_count": null,
   "metadata": {},
   "outputs": [],
   "source": [
    "data=input().split()"
   ]
  },
  {
   "cell_type": "code",
   "execution_count": null,
   "metadata": {},
   "outputs": [],
   "source": [
    "for i in range(0,len(data)//2,3):\n",
    "    print(data[i],data[i+1],data[i+2],data[len(data)//2+i],data[len(data)//2+i+1],data[len(data)//2+i+2])\n",
    "    # print(data[len(data)//2+i],data[len(data)//2+i+1],data[len(data)//2+i+2])"
   ]
  },
  {
   "cell_type": "code",
   "execution_count": null,
   "metadata": {},
   "outputs": [],
   "source": [
    "stack=''\n",
    "for i in range(0,len(data)//2,3):\n",
    "    if data[i+2]!=data[len(data)//2+i+2]:\n",
    "        stack+=data[i+1]+' '\n",
    "print(stack)"
   ]
  },
  {
   "attachments": {},
   "cell_type": "markdown",
   "metadata": {},
   "source": [
    "## <font face='comic sans ms' color ='yellow'>Level 2</font>"
   ]
  },
  {
   "cell_type": "code",
   "execution_count": null,
   "metadata": {},
   "outputs": [],
   "source": [
    "data=input().split()"
   ]
  },
  {
   "cell_type": "code",
   "execution_count": null,
   "metadata": {},
   "outputs": [],
   "source": [
    "amount=[]\n",
    "payment=[]\n",
    "for i in range(0,len(data),3):\n",
    "    geld=(data[i+1],data[i+2])\n",
    "    if data[i]=='F':\n",
    "        amount.append(geld)\n",
    "    else:\n",
    "        payment.append(geld)"
   ]
  },
  {
   "cell_type": "code",
   "execution_count": null,
   "metadata": {},
   "outputs": [],
   "source": [
    "amount"
   ]
  },
  {
   "cell_type": "code",
   "execution_count": null,
   "metadata": {},
   "outputs": [],
   "source": [
    "print(payment)"
   ]
  },
  {
   "cell_type": "code",
   "execution_count": null,
   "metadata": {},
   "outputs": [],
   "source": [
    "totalAmt=0\n",
    "for i,j in amount:\n",
    "    totalAmt+=int(j)\n",
    "totalAmt"
   ]
  },
  {
   "cell_type": "code",
   "execution_count": null,
   "metadata": {},
   "outputs": [],
   "source": [
    "totalPayment=0\n",
    "for i,j in payment:\n",
    "    totalPayment+=int(j)\n",
    "totalPayment"
   ]
  },
  {
   "cell_type": "code",
   "execution_count": null,
   "metadata": {},
   "outputs": [],
   "source": [
    "netAmt=totalAmt-totalPayment\n",
    "netAmt"
   ]
  },
  {
   "cell_type": "code",
   "execution_count": null,
   "metadata": {},
   "outputs": [],
   "source": [
    "stack=''\n",
    "for i in range(len(amount)-1,-1,-1):\n",
    "    netAmt-=int(amount[i][1])\n",
    "    stack+=amount[i][0]\n",
    "    if netAmt<=0:\n",
    "        break\n",
    "print(stack)"
   ]
  },
  {
   "attachments": {},
   "cell_type": "markdown",
   "metadata": {},
   "source": [
    "# <font face='comic sans ms' color ='PaleTurquoise'>Tuesday 2023-05-23</font>"
   ]
  },
  {
   "attachments": {},
   "cell_type": "markdown",
   "metadata": {},
   "source": [
    "## <font face='comic sans ms' color ='yellow'>Level 3</font>"
   ]
  },
  {
   "attachments": {},
   "cell_type": "markdown",
   "metadata": {},
   "source": [
    "F 1 209 F 2 254 F 3 895 F 4 439 B 1 104 B 2 127 B 3 74 B 3 447 B 4 127 B 4 219 B 5 448 B 6 220"
   ]
  },
  {
   "cell_type": "code",
   "execution_count": 1,
   "metadata": {},
   "outputs": [],
   "source": [
    "data=input().split()"
   ]
  },
  {
   "cell_type": "code",
   "execution_count": 2,
   "metadata": {},
   "outputs": [
    {
     "name": "stdout",
     "output_type": "stream",
     "text": [
      "[('1', '367'), ('2', '38'), ('3', '602'), ('4', '624')]\n",
      "[('1', '183'), ('2', '19'), ('3', '184'), ('3', '301'), ('4', '19'), ('4', '312'), ('5', '64'), ('6', '312')]\n"
     ]
    }
   ],
   "source": [
    "amount=[]\n",
    "payment=[]\n",
    "for i in range(0,len(data),3):\n",
    "    geld=(data[i+1],data[i+2])\n",
    "    if data[i]=='F':\n",
    "        amount.append(geld)\n",
    "    else:\n",
    "        payment.append(geld)\n",
    "\n",
    "print(amount)\n",
    "print(payment)"
   ]
  },
  {
   "cell_type": "code",
   "execution_count": null,
   "metadata": {},
   "outputs": [],
   "source": [
    "array=[int(j) for i,j in payment]\n",
    "array"
   ]
  },
  {
   "cell_type": "code",
   "execution_count": 6,
   "metadata": {},
   "outputs": [],
   "source": [
    "def composed(array,i,amt):\n",
    "    if amt==0: return True \n",
    "    elif i==len(array): return False\n",
    "\n",
    "    if amt>=array[i]:\n",
    "        return composed(array,i+1,amt-array[i]) or composed(array,i+1,amt)\n",
    "    else:\n",
    "        return False"
   ]
  },
  {
   "cell_type": "code",
   "execution_count": null,
   "metadata": {},
   "outputs": [],
   "source": [
    "def composed1(array,i,amt,list1):\n",
    "    if amt==0: return True \n",
    "    elif i==len(array): return False\n",
    "\n",
    "    if amt>=array[i]:\n",
    "        taken=composed1(array,i+1,amt-array[i],list1)\n",
    "        notTaken=composed1(array,i+1,amt,list1)\n",
    "        if taken: list1.append(i)\n",
    "        return taken or notTaken\n",
    "    else:\n",
    "        return False"
   ]
  },
  {
   "cell_type": "code",
   "execution_count": null,
   "metadata": {},
   "outputs": [],
   "source": [
    "lis=[]\n",
    "composed1(array,0,209,lis)\n",
    "lis"
   ]
  },
  {
   "cell_type": "code",
   "execution_count": null,
   "metadata": {},
   "outputs": [],
   "source": [
    "array"
   ]
  },
  {
   "cell_type": "code",
   "execution_count": 31,
   "metadata": {},
   "outputs": [],
   "source": [
    "def composed1(array,i,amt,list1):\n",
    "    if amt==0: return True \n",
    "    elif i==len(array): return False\n",
    "\n",
    "    if amt>=array[i]:\n",
    "        taken=composed1(array,i+1,amt-array[i],list1)\n",
    "        notTaken=composed1(array,i+1,amt,list1)\n",
    "        if taken: list1.append(i)\n",
    "        return taken or notTaken\n",
    "    else:\n",
    "        return composed1(array,i+1,amt,list1)\n"
   ]
  },
  {
   "cell_type": "code",
   "execution_count": 32,
   "metadata": {},
   "outputs": [],
   "source": [
    "data=input().split()\n",
    "amount=[]\n",
    "payment=[]\n",
    "for i in range(0,len(data),3):\n",
    "    geld=(data[i+1],data[i+2])\n",
    "    if data[i]=='F':\n",
    "        amount.append(geld)\n",
    "    else:\n",
    "        payment.append(geld)\n",
    "        \n"
   ]
  },
  {
   "cell_type": "code",
   "execution_count": 33,
   "metadata": {},
   "outputs": [],
   "source": [
    "array=[int(j) for i,j in payment]\n",
    "for i,j in amount:\n",
    "    indexes=[]\n",
    "    composed1(array,0,int(j),indexes)\n",
    "    if 0<len(indexes)<=4:\n",
    "        indexes.sort(reverse=True)\n",
    "        for index in indexes:\n",
    "            array.pop(index)\n",
    "    else:\n",
    "        print(i,end=' ')"
   ]
  },
  {
   "cell_type": "code",
   "execution_count": 15,
   "metadata": {},
   "outputs": [
    {
     "data": {
      "text/plain": [
       "[301, 64]"
      ]
     },
     "execution_count": 15,
     "metadata": {},
     "output_type": "execute_result"
    }
   ],
   "source": [
    "array"
   ]
  },
  {
   "cell_type": "code",
   "execution_count": 19,
   "metadata": {},
   "outputs": [
    {
     "name": "stdout",
     "output_type": "stream",
     "text": [
      "[123395, 488034, 78861, 200882, 102517, 49658, 201804, 247860, 356333, 163982, 351283, 305592, 443860, 111094, 216152, 220897, 184823, 438974, 464208]\n"
     ]
    }
   ],
   "source": [
    "print([int(i) for _,i in amount])"
   ]
  },
  {
   "cell_type": "code",
   "execution_count": 20,
   "metadata": {},
   "outputs": [
    {
     "name": "stdout",
     "output_type": "stream",
     "text": [
      "[61697, 9577, 244017, 30849, 39430, 244017, 19716, 100441, 19715, 51258, 100441, 25630, 24829, 25629, 100902, 24829, 123930, 100902, 61965, 178166, 61965, 89084, 81991, 89083, 175641, 81991, 152796, 175642, 76398, 221930, 76398, 110965, 55547, 110965, 27774, 108076, 73709, 46206, 110448, 27773, 92411, 110449, 116052, 219487, 46206, 232104, 219487, 116052]\n"
     ]
    }
   ],
   "source": [
    "print([int(i) for _,i in payment])"
   ]
  },
  {
   "cell_type": "code",
   "execution_count": 21,
   "metadata": {},
   "outputs": [],
   "source": [
    "l=[]\n",
    "a=[61697, 9577, 244017, 30849, 39430, 244017, 19716, 100441, 19715, 51258, 100441, 25630, 24829, 25629, 100902, 24829, 123930, 100902, 61965, 178166, 61965, 89084, 81991, 89083, 175641, 81991, 152796, 175642, 76398, 221930, 76398, 110965, 55547, 110965, 27774, 108076, 73709, 46206, 110448, 27773, 92411, 110449, 116052, 219487, 46206, 232104, 219487, 116052]"
   ]
  },
  {
   "cell_type": "code",
   "execution_count": 23,
   "metadata": {},
   "outputs": [],
   "source": [
    "def fun1(array,amt,n,l):\n",
    "    if amt==0: return True\n",
    "    elif n==0: return False\n",
    "\n",
    "    if amt>=array[n-1]:\n",
    "        taken=fun1(array,amt-array[n-1],n-1,l)\n",
    "        if taken: l.append(n-1)\n",
    "        nottaken=fun1(array,amt,n-1,l)\n",
    "        return taken or nottaken\n",
    "    else:\n",
    "        return fun1(array,amt,n-1,l)\n"
   ]
  },
  {
   "cell_type": "code",
   "execution_count": 35,
   "metadata": {},
   "outputs": [
    {
     "data": {
      "text/plain": [
       "(True, [5, 2, 4, 6, 8, 4, 6, 8])"
      ]
     },
     "execution_count": 35,
     "metadata": {},
     "output_type": "execute_result"
    }
   ],
   "source": [
    "fun1(a,78861,len(a),l),l"
   ]
  },
  {
   "cell_type": "code",
   "execution_count": 25,
   "metadata": {},
   "outputs": [
    {
     "data": {
      "text/plain": [
       "[0, 2]"
      ]
     },
     "execution_count": 25,
     "metadata": {},
     "output_type": "execute_result"
    }
   ],
   "source": [
    "l"
   ]
  },
  {
   "cell_type": "code",
   "execution_count": 27,
   "metadata": {},
   "outputs": [],
   "source": [
    "b=[5, 2, 4, 6, 8]"
   ]
  },
  {
   "cell_type": "code",
   "execution_count": 30,
   "metadata": {},
   "outputs": [
    {
     "data": {
      "text/plain": [
       "[8, 6, 5, 4, 2]"
      ]
     },
     "execution_count": 30,
     "metadata": {},
     "output_type": "execute_result"
    }
   ],
   "source": [
    "b.sort(reverse=True)\n",
    "b"
   ]
  },
  {
   "cell_type": "markdown",
   "metadata": {},
   "source": [
    "# <font face='comic sans ms' color ='PaleTurquoise'>Wednesday 2023-05-24</font>"
   ]
  },
  {
   "cell_type": "code",
   "execution_count": 15,
   "metadata": {},
   "outputs": [],
   "source": [
    "def find_combination(target, nums):\n",
    "    def backtrack(start, curr_sum, path):\n",
    "        if curr_sum == target:\n",
    "            return path[:]\n",
    "        if curr_sum > target:\n",
    "            return None\n",
    "\n",
    "        for i in range(start, len(nums)):\n",
    "            path.append(i)\n",
    "            result = backtrack(i + 1, curr_sum + nums[i], path)\n",
    "            if result:\n",
    "                return result\n",
    "            path.pop()\n",
    "\n",
    "    return backtrack(0, 0, [])"
   ]
  },
  {
   "cell_type": "code",
   "execution_count": 1,
   "metadata": {},
   "outputs": [],
   "source": [
    "data=input().split()\n",
    "amount=[]\n",
    "payment=[]\n",
    "for i in range(0,len(data),3):\n",
    "    geld=(data[i+1],data[i+2])\n",
    "    if data[i]=='F':\n",
    "        amount.append(geld)\n",
    "    else:\n",
    "        payment.append(geld)"
   ]
  },
  {
   "cell_type": "code",
   "execution_count": 46,
   "metadata": {},
   "outputs": [],
   "source": [
    "array=[int(j) for i,j in payment]"
   ]
  },
  {
   "cell_type": "code",
   "execution_count": 47,
   "metadata": {},
   "outputs": [
    {
     "name": "stdout",
     "output_type": "stream",
     "text": [
      "1 10 12 14 15 "
     ]
    }
   ],
   "source": [
    "\n",
    "for i,j in amount:\n",
    "    indexes=find_combination(int(j),array)\n",
    "    if indexes and len(indexes)<=4:\n",
    "        indexes.sort(reverse=True)\n",
    "        for index in indexes:\n",
    "            array.pop(index)\n",
    "    else:\n",
    "        print(i,end=' ')\n"
   ]
  },
  {
   "cell_type": "code",
   "execution_count": 3,
   "metadata": {},
   "outputs": [
    {
     "name": "stdout",
     "output_type": "stream",
     "text": [
      "[('1', '123395'), ('2', '488034'), ('3', '78861'), ('4', '200882'), ('5', '102517'), ('6', '49658'), ('7', '201804'), ('8', '247860'), ('9', '356333'), ('10', '163982'), ('11', '351283'), ('12', '305592'), ('13', '443860'), ('14', '111094'), ('15', '216152'), ('17', '220897'), ('16', '184823'), ('19', '438974'), ('18', '464208')]\n",
      "[('1', '61697'), ('2', '9577'), ('2', '244017'), ('3', '30849'), ('3', '39430'), ('4', '244017'), ('4', '19716'), ('4', '100441'), ('5', '19715'), ('5', '51258'), ('6', '100441'), ('6', '25630'), ('6', '24829'), ('7', '25629'), ('7', '100902'), ('8', '24829'), ('8', '123930'), ('9', '100902'), ('9', '61965'), ('9', '178166'), ('10', '61965'), ('10', '89084'), ('10', '81991'), ('11', '89083'), ('11', '175641'), ('12', '81991'), ('12', '152796'), ('13', '175642'), ('13', '76398'), ('13', '221930'), ('14', '76398'), ('14', '110965'), ('14', '55547'), ('15', '110965'), ('15', '27774'), ('15', '108076'), ('17', '73709'), ('17', '46206'), ('17', '110448'), ('16', '27773'), ('16', '92411'), ('19', '110449'), ('19', '116052'), ('19', '219487'), ('18', '46206'), ('18', '232104'), ('21', '219487'), ('20', '116052')]\n"
     ]
    }
   ],
   "source": [
    "print(amount)\n",
    "print(payment)"
   ]
  },
  {
   "cell_type": "code",
   "execution_count": 50,
   "metadata": {},
   "outputs": [
    {
     "data": {
      "text/plain": [
       "12"
      ]
     },
     "execution_count": 50,
     "metadata": {},
     "output_type": "execute_result"
    }
   ],
   "source": [
    "len(array)"
   ]
  },
  {
   "cell_type": "code",
   "execution_count": 36,
   "metadata": {},
   "outputs": [],
   "source": [
    "a=[[1,2],[5],[2,1]]"
   ]
  },
  {
   "cell_type": "code",
   "execution_count": 37,
   "metadata": {},
   "outputs": [],
   "source": [
    "a.sort()"
   ]
  },
  {
   "cell_type": "code",
   "execution_count": 38,
   "metadata": {},
   "outputs": [
    {
     "data": {
      "text/plain": [
       "[[1, 2], [2, 1], [5]]"
      ]
     },
     "execution_count": 38,
     "metadata": {},
     "output_type": "execute_result"
    }
   ],
   "source": [
    "a"
   ]
  },
  {
   "cell_type": "code",
   "execution_count": 44,
   "metadata": {},
   "outputs": [],
   "source": [
    "def find_combination(target, nums):\n",
    "    def backtrack(start, curr_sum, path):\n",
    "        if curr_sum == target:\n",
    "            return path[:]\n",
    "        if curr_sum > target or len(path) >= 4:\n",
    "            return None\n",
    "\n",
    "        for i in range(start, len(nums)):\n",
    "            path.append(i)\n",
    "            result = backtrack(i + 1, curr_sum + nums[i], path)\n",
    "            if result:\n",
    "                return result\n",
    "            path.pop()\n",
    "\n",
    "    return backtrack(0, 0, [])\n"
   ]
  },
  {
   "cell_type": "code",
   "execution_count": 42,
   "metadata": {},
   "outputs": [
    {
     "data": {
      "text/plain": [
       "[2, 5]"
      ]
     },
     "execution_count": 42,
     "metadata": {},
     "output_type": "execute_result"
    }
   ],
   "source": [
    "find_combination(488034,array)"
   ]
  },
  {
   "cell_type": "code",
   "execution_count": null,
   "metadata": {},
   "outputs": [],
   "source": []
  }
 ],
 "metadata": {
  "kernelspec": {
   "display_name": "base",
   "language": "python",
   "name": "python3"
  },
  "language_info": {
   "codemirror_mode": {
    "name": "ipython",
    "version": 3
   },
   "file_extension": ".py",
   "mimetype": "text/x-python",
   "name": "python",
   "nbconvert_exporter": "python",
   "pygments_lexer": "ipython3",
   "version": "3.9.12"
  },
  "orig_nbformat": 4
 },
 "nbformat": 4,
 "nbformat_minor": 2
}
