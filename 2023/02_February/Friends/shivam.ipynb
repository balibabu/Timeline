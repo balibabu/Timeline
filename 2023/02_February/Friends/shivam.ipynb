{
 "cells": [
  {
   "cell_type": "markdown",
   "metadata": {},
   "source": [
    "Armstrong number"
   ]
  },
  {
   "cell_type": "code",
   "execution_count": 1,
   "metadata": {},
   "outputs": [],
   "source": [
    "def is_armstrong(n):\n",
    "    temp=n \n",
    "    arm=0\n",
    "    while n:\n",
    "        arm+=pow(n%10,3)\n",
    "        n=n//10\n",
    "    return temp==arm"
   ]
  },
  {
   "cell_type": "code",
   "execution_count": 6,
   "metadata": {},
   "outputs": [
    {
     "data": {
      "text/plain": [
       "True"
      ]
     },
     "execution_count": 6,
     "metadata": {},
     "output_type": "execute_result"
    }
   ],
   "source": [
    "is_armstrong(407)"
   ]
  },
  {
   "cell_type": "markdown",
   "metadata": {},
   "source": [
    "longest substring without repeating"
   ]
  },
  {
   "cell_type": "code",
   "execution_count": 2,
   "metadata": {},
   "outputs": [],
   "source": [
    "def get_lcsTD(str1,str2):\n",
    "    n,m=len(str1),len(str2)\n",
    "    table=[[-1 for _ in range(m+1)] for _ in range(n+1)]\n",
    "\n",
    "    for i in range(len(table)):\n",
    "        table[i][0]=0\n",
    "    for j in range(len(table[0])):\n",
    "        table[0][j]=0\n",
    "    \n",
    "    for i in range(1,len(table)):\n",
    "        for j in range(1,len(table[0])):\n",
    "            if str1[i-1]==str2[j-1]:\n",
    "                table[i][j]=1+table[i-1][j-1]\n",
    "            else:\n",
    "                table[i][j]=max(table[i-1][j],table[i][j-1])\n",
    "    \n",
    "    # ectracting string\n",
    "    string=''\n",
    "    while(n>0 and m>0):\n",
    "        if str1[n-1]==str2[m-1]:\n",
    "            string=str1[n-1]+string\n",
    "            n-=1\n",
    "            m-=1\n",
    "        elif table[n][m-1]>table[n-1][m]:\n",
    "            m-=1\n",
    "        else:\n",
    "            n-=1\n",
    "    return string"
   ]
  },
  {
   "cell_type": "code",
   "execution_count": 4,
   "metadata": {},
   "outputs": [
    {
     "data": {
      "text/plain": [
       "'abcdabc'"
      ]
     },
     "execution_count": 4,
     "metadata": {},
     "output_type": "execute_result"
    }
   ],
   "source": [
    "get_lcsTD('abcdabc','abcdabc')"
   ]
  },
  {
   "cell_type": "code",
   "execution_count": 9,
   "metadata": {},
   "outputs": [
    {
     "data": {
      "text/plain": [
       "'BALI'"
      ]
     },
     "execution_count": 9,
     "metadata": {},
     "output_type": "execute_result"
    }
   ],
   "source": [
    "'bali'.upper()"
   ]
  },
  {
   "cell_type": "code",
   "execution_count": null,
   "metadata": {},
   "outputs": [],
   "source": [
    "def compress(s):\n",
    "    for c in s:\n",
    "        "
   ]
  }
 ],
 "metadata": {
  "kernelspec": {
   "display_name": "base",
   "language": "python",
   "name": "python3"
  },
  "language_info": {
   "codemirror_mode": {
    "name": "ipython",
    "version": 3
   },
   "file_extension": ".py",
   "mimetype": "text/x-python",
   "name": "python",
   "nbconvert_exporter": "python",
   "pygments_lexer": "ipython3",
   "version": "3.9.12"
  },
  "orig_nbformat": 4,
  "vscode": {
   "interpreter": {
    "hash": "649e9a488baa9f755be1bd774174f13c00c6eb61d6f5988e2904ab6e22ac3fc0"
   }
  }
 },
 "nbformat": 4,
 "nbformat_minor": 2
}
