{
 "cells": [
  {
   "cell_type": "code",
   "execution_count": 1,
   "metadata": {},
   "outputs": [],
   "source": [
    "import cv2\n",
    "import numpy as np\n",
    "class Visualize:\n",
    "    def __init__(self,length=1820,breadth=1000,factor=30):\n",
    "        self.factor=factor\n",
    "        self.image = np.zeros((length,breadth, 1), dtype=\"uint8\")\n",
    "        # self.image = np.zeros((length*self.factor, breadth*self.factor, 1), dtype=\"uint8\")\n",
    "        self.thickness=2\n",
    "\n",
    "    def setThickness(self,thick):\n",
    "        self.thickness=thick\n",
    "\n",
    "    def drawALine(self,point1,point2,point):\n",
    "        point1=point1[0]*self.factor,point1[1]*self.factor\n",
    "        point2=point2[0]*self.factor,point2[1]*self.factor\n",
    "        cv2.line(self.image, point1, point2, 150, thickness=self.thickness)\n",
    "        cv2.circle(self.image, center=point2, radius=self.thickness, color=255, thickness=-1) # a dot do know length\n",
    "        cv2.putText(self.image, f'{(point)}', (point1[0]+10,point1[1]+15), cv2.FONT_HERSHEY_SIMPLEX,.3, 200, 1, cv2.LINE_AA)\n",
    "\n",
    "    def drawLines(self,edges):\n",
    "        min_x=min([x for x,_ in edges])-1\n",
    "        min_y=min([y for _,y in edges])-1\n",
    "\n",
    "        for i in range(-1,len(edges)-1):\n",
    "            point1=edges[i][0]-min_x, edges[i][1]-min_y\n",
    "            point2=edges[i+1][0]-min_x, edges[i+1][1]-min_y\n",
    "            self.drawALine(point1,point2,edges[i])\n",
    "    \n",
    "    def show(self):\n",
    "        cv2.imshow(\"Line\", self.image)\n",
    "        cv2.waitKey(0)\n",
    "        cv2.destroyAllWindows()\n",
    "    \n",
    "    def save(self,filename='image',path=''):\n",
    "        cv2.imwrite(path+filename+'.jpg', self.image)"
   ]
  },
  {
   "cell_type": "code",
   "execution_count": 2,
   "metadata": {},
   "outputs": [],
   "source": [
    "def getDistance(steps):\n",
    "    return steps.count('F')"
   ]
  },
  {
   "cell_type": "code",
   "execution_count": 3,
   "metadata": {},
   "outputs": [],
   "source": [
    "def getSteps(data):\n",
    "    steps=''\n",
    "    for i in range(1,len(data),2):\n",
    "        steps+=data[i]*int(data[i+1])\n",
    "    return steps"
   ]
  },
  {
   "cell_type": "code",
   "execution_count": 4,
   "metadata": {},
   "outputs": [],
   "source": [
    "def getMaxArea(edges,xyRanges=[]):\n",
    "    x_points=[x for x,_ in edges]\n",
    "    y_points=[y for _,y in edges]\n",
    "    max_x=max(x_points)\n",
    "    min_x=min(x_points)\n",
    "    max_y=max(y_points)\n",
    "    min_y=min(y_points)\n",
    "    xyRanges.append((min_x,max_x))\n",
    "    xyRanges.append((min_y,max_y))\n",
    "    return (max_x-min_x)*(max_y-min_y)"
   ]
  },
  {
   "cell_type": "code",
   "execution_count": 5,
   "metadata": {},
   "outputs": [],
   "source": [
    "def getEdges(steps):\n",
    "    direc=0\n",
    "    northSteps=[0]\n",
    "    eastSteps=[0]\n",
    "    edgePoints=[]\n",
    "    for step in steps:\n",
    "        if step in 'RL':\n",
    "            direc+=1 if step=='R' else -1\n",
    "        else:\n",
    "            edgePoints.append((eastSteps[-1],northSteps[-1]))\n",
    "            if direc%2==0:\n",
    "                di=1 if direc%4==0 else -1\n",
    "                northSteps.append(northSteps[-1]+di)\n",
    "            else:\n",
    "                di=1 if (direc-1)%4==0 else -1\n",
    "                eastSteps.append(eastSteps[-1]+di)\n",
    "    return edgePoints"
   ]
  },
  {
   "attachments": {},
   "cell_type": "markdown",
   "metadata": {},
   "source": [
    "#### <font face='comic sans ms' color ='yellow'>Reusable</font>"
   ]
  },
  {
   "cell_type": "code",
   "execution_count": 14,
   "metadata": {},
   "outputs": [],
   "source": [
    "trails=input()\n",
    "data=trails.split()\n",
    "steps=getSteps(data)\n",
    "edges=getEdges(steps)"
   ]
  },
  {
   "cell_type": "code",
   "execution_count": 15,
   "metadata": {},
   "outputs": [],
   "source": [
    "xyRanges=[]\n",
    "maxArea=getMaxArea(edges,xyRanges)\n",
    "minX,maxX=xyRanges[0]\n",
    "minY,maxY=xyRanges[1]\n",
    "factor=60\n",
    "v=Visualize((maxY-minY+10)*factor,(maxX-minX+10)*factor,factor)  #hight, width\n",
    "# v=Visualize(factor=factor)  #row=y und col=x\n",
    "v.setThickness(4)\n",
    "v.drawLines(edges)"
   ]
  },
  {
   "cell_type": "code",
   "execution_count": 16,
   "metadata": {},
   "outputs": [],
   "source": [
    "v.show()"
   ]
  },
  {
   "cell_type": "code",
   "execution_count": 8,
   "metadata": {},
   "outputs": [],
   "source": [
    "v.save('que')"
   ]
  },
  {
   "cell_type": "code",
   "execution_count": 94,
   "metadata": {},
   "outputs": [
    {
     "name": "stdout",
     "output_type": "stream",
     "text": [
      "5000\n",
      "\n"
     ]
    }
   ],
   "source": [
    "minX,maxX=xyRanges[0]\n",
    "minY,maxY=xyRanges[1]\n",
    "print((maxX-minX)*1000)\n",
    "print()"
   ]
  },
  {
   "cell_type": "code",
   "execution_count": 22,
   "metadata": {},
   "outputs": [],
   "source": [
    "def getSegment(edges,window):\n",
    "    segments=[]\n",
    "    i=0\n",
    "    einSegment=[window[i]]\n",
    "    point2=[]\n",
    "    while i<len(window)-1:\n",
    "        pos=edges.index(window[i])\n",
    "        if window[i+1] in [edges[(pos-1)%len(edges)],edges[(pos+1)%len(edges)]]:\n",
    "            point2=window[i+1]\n",
    "        else:\n",
    "            if point2:\n",
    "                einSegment.append(point2)\n",
    "                segments.append(einSegment)\n",
    "            einSegment=[window[i+1]]\n",
    "            point2=[]\n",
    "        i+=1\n",
    "    if point2:\n",
    "        einSegment.append(point2)\n",
    "        segments.append(einSegment)\n",
    "    return segments\n",
    "        "
   ]
  },
  {
   "cell_type": "code",
   "execution_count": 29,
   "metadata": {},
   "outputs": [
    {
     "data": {
      "text/plain": [
       "[[(-5, -7), (-5, 5)]]"
      ]
     },
     "execution_count": 29,
     "metadata": {},
     "output_type": "execute_result"
    }
   ],
   "source": [
    "getSegment(edges,window)"
   ]
  },
  {
   "cell_type": "code",
   "execution_count": 27,
   "metadata": {},
   "outputs": [],
   "source": [
    "window=[]\n",
    "for i in range(minY,maxY+1):\n",
    "    if (minX,i) in edges:\n",
    "        window.append((minX,i))"
   ]
  },
  {
   "cell_type": "code",
   "execution_count": 28,
   "metadata": {},
   "outputs": [
    {
     "name": "stdout",
     "output_type": "stream",
     "text": [
      "[(-5, -7), (-5, -6), (-5, -5), (-5, -4), (-5, -3), (-5, -2), (-5, -1), (-5, 0), (-5, 1), (-5, 2), (-5, 3), (-5, 4), (-5, 5)]\n",
      "[(0, 0), (-1, 0), (-1, 1), (-1, 2), (-1, 3), (-1, 4), (-1, 5), (-2, 5), (-3, 5), (-4, 5), (-5, 5), (-5, 4), (-5, 3), (-5, 2), (-5, 1), (-5, 0), (-5, -1), (-5, -2), (-5, -3), (-5, -4), (-5, -5), (-5, -6), (-5, -7), (-4, -7), (-3, -7), (-2, -7), (-1, -7), (0, -7), (1, -7), (2, -7), (3, -7), (4, -7), (5, -7), (6, -7), (7, -7), (7, -6), (7, -5), (7, -4), (7, -3), (7, -2), (7, -1), (7, 0), (7, 1), (7, 2), (7, 3), (7, 4), (7, 5), (6, 5), (5, 5), (4, 5), (3, 5), (3, 4), (3, 3), (3, 2), (3, 1), (3, 0), (3, -1), (3, -2), (3, -3), (2, -3), (1, -3), (0, -3), (0, -2), (0, -1)]\n"
     ]
    }
   ],
   "source": [
    "print(window)\n",
    "print(edges)"
   ]
  },
  {
   "attachments": {},
   "cell_type": "markdown",
   "metadata": {},
   "source": [
    "#### <font face='comic sans ms' color ='teal'>Dumpster</font>"
   ]
  },
  {
   "cell_type": "code",
   "execution_count": 15,
   "metadata": {},
   "outputs": [
    {
     "data": {
      "text/plain": [
       "12"
      ]
     },
     "execution_count": 15,
     "metadata": {},
     "output_type": "execute_result"
    }
   ],
   "source": [
    "window.index((-5,5))"
   ]
  },
  {
   "cell_type": "code",
   "execution_count": 60,
   "metadata": {},
   "outputs": [],
   "source": [
    "v.show()"
   ]
  },
  {
   "cell_type": "code",
   "execution_count": 44,
   "metadata": {},
   "outputs": [],
   "source": [
    "v.save('img')"
   ]
  },
  {
   "cell_type": "code",
   "execution_count": 157,
   "metadata": {},
   "outputs": [],
   "source": [
    "v.show()"
   ]
  },
  {
   "cell_type": "code",
   "execution_count": 155,
   "metadata": {},
   "outputs": [
    {
     "data": {
      "text/plain": [
       "1300"
      ]
     },
     "execution_count": 155,
     "metadata": {},
     "output_type": "execute_result"
    }
   ],
   "source": [
    "useful=[]\n",
    "getMaxArea(edges,useful)"
   ]
  },
  {
   "cell_type": "code",
   "execution_count": 180,
   "metadata": {},
   "outputs": [
    {
     "data": {
      "text/plain": [
       "1"
      ]
     },
     "execution_count": 180,
     "metadata": {},
     "output_type": "execute_result"
    }
   ],
   "source": [
    "round(0.53)"
   ]
  },
  {
   "cell_type": "code",
   "execution_count": null,
   "metadata": {},
   "outputs": [
    {
     "name": "stdout",
     "output_type": "stream",
     "text": [
      "Distace=64  MaxArea=144  ActualArea=115\n"
     ]
    }
   ],
   "source": [
    "14 L 1 FR 1 FFFFFL 1 FFFFL 1 F 12 L 1 F 12 L 1 F 12 L 1 FFFFL 1 FFFFFFFFR 1 FFFR 1 FFFL 1"
   ]
  },
  {
   "cell_type": "code",
   "execution_count": 35,
   "metadata": {},
   "outputs": [],
   "source": [
    "trails=input()\n",
    "data=trails.split()"
   ]
  },
  {
   "cell_type": "code",
   "execution_count": 36,
   "metadata": {},
   "outputs": [],
   "source": [
    "steps=getSteps(data)"
   ]
  },
  {
   "cell_type": "code",
   "execution_count": 37,
   "metadata": {},
   "outputs": [
    {
     "data": {
      "text/plain": [
       "64"
      ]
     },
     "execution_count": 37,
     "metadata": {},
     "output_type": "execute_result"
    }
   ],
   "source": [
    "getDistance(steps)"
   ]
  },
  {
   "cell_type": "code",
   "execution_count": 38,
   "metadata": {},
   "outputs": [],
   "source": [
    "edges=getEdges(steps)"
   ]
  },
  {
   "cell_type": "code",
   "execution_count": 39,
   "metadata": {},
   "outputs": [
    {
     "data": {
      "text/plain": [
       "144"
      ]
     },
     "execution_count": 39,
     "metadata": {},
     "output_type": "execute_result"
    }
   ],
   "source": [
    "getMaxArea(edges)"
   ]
  },
  {
   "cell_type": "code",
   "execution_count": null,
   "metadata": {},
   "outputs": [],
   "source": []
  }
 ],
 "metadata": {
  "kernelspec": {
   "display_name": "base",
   "language": "python",
   "name": "python3"
  },
  "language_info": {
   "codemirror_mode": {
    "name": "ipython",
    "version": 3
   },
   "file_extension": ".py",
   "mimetype": "text/x-python",
   "name": "python",
   "nbconvert_exporter": "python",
   "pygments_lexer": "ipython3",
   "version": "3.9.12"
  },
  "orig_nbformat": 4
 },
 "nbformat": 4,
 "nbformat_minor": 2
}
