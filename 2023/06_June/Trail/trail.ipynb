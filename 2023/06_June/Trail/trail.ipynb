{
 "cells": [
  {
   "cell_type": "code",
   "execution_count": 7,
   "metadata": {},
   "outputs": [],
   "source": [
    "import cv2\n",
    "import numpy as np\n",
    "class Visualize:\n",
    "    def __init__(self,length=1820,breadth=1000,factor=30):\n",
    "        self.factor=factor\n",
    "        # self.image = np.zeros((breadth,length, 1), dtype=\"uint8\")\n",
    "        self.image = np.zeros((length*self.factor, breadth*self.factor, 1), dtype=\"uint8\")\n",
    "        self.thickness=2\n",
    "\n",
    "    def setThickness(self,thick):\n",
    "        self.thickness=thick\n",
    "\n",
    "    def drawALine(self,point1,point2):\n",
    "        point1=point1[0]*self.factor,point1[1]*self.factor\n",
    "        point2=point2[0]*self.factor,point2[1]*self.factor\n",
    "        cv2.line(self.image, point1, point2, 150, thickness=self.thickness)\n",
    "        cv2.circle(self.image, center=point2, radius=self.thickness, color=255, thickness=-1) # a dot do know length\n",
    "\n",
    "    def drawLines(self,edges):\n",
    "        min_x=min([x for x,_ in edges])-1\n",
    "        min_y=min([y for _,y in edges])-1\n",
    "\n",
    "        for i in range(-1,len(edges)-1):\n",
    "            point1=edges[i][0]-min_x, edges[i][1]-min_y\n",
    "            point2=edges[i+1][0]-min_x, edges[i+1][1]-min_y\n",
    "            self.drawALine(point1,point2)\n",
    "    \n",
    "    def show(self):\n",
    "        cv2.imshow(\"Line\", self.image)\n",
    "        cv2.waitKey(0)\n",
    "        cv2.destroyAllWindows()\n",
    "    \n",
    "    def save(self,filename='image',path=''):\n",
    "        cv2.imwrite(path+filename+'.jpg', self.image)"
   ]
  },
  {
   "cell_type": "code",
   "execution_count": 1,
   "metadata": {},
   "outputs": [],
   "source": [
    "def getDistance(steps):\n",
    "    return steps.count('F')"
   ]
  },
  {
   "cell_type": "code",
   "execution_count": 2,
   "metadata": {},
   "outputs": [],
   "source": [
    "def getSteps(data):\n",
    "    steps=''\n",
    "    for i in range(1,len(data),2):\n",
    "        steps+=data[i]*int(data[i+1])\n",
    "    return steps"
   ]
  },
  {
   "cell_type": "code",
   "execution_count": 3,
   "metadata": {},
   "outputs": [],
   "source": [
    "def getMaxArea(edges,xyRanges=[]):\n",
    "    x_points=[x for x,_ in edges]\n",
    "    y_points=[y for _,y in edges]\n",
    "    max_x=max(x_points)\n",
    "    min_x=min(x_points)\n",
    "    max_y=max(y_points)\n",
    "    min_y=min(y_points)\n",
    "    xyRanges.append((min_x,max_x))\n",
    "    xyRanges.append((min_y,max_y))\n",
    "    return (max_x-min_x)*(max_y-min_y)"
   ]
  },
  {
   "cell_type": "code",
   "execution_count": 4,
   "metadata": {},
   "outputs": [],
   "source": [
    "def getEdges(steps):\n",
    "    direc=0\n",
    "    northSteps=[0]\n",
    "    eastSteps=[0]\n",
    "    edgePoints=[]\n",
    "    for step in steps:\n",
    "        if step in 'RL':\n",
    "            direc+=1 if step=='R' else -1\n",
    "        else:\n",
    "            edgePoints.append((eastSteps[-1],northSteps[-1]))\n",
    "            if direc%2==0:\n",
    "                di=1 if direc%4==0 else -1\n",
    "                northSteps.append(northSteps[-1]+di)\n",
    "            else:\n",
    "                di=1 if (direc-1)%4==0 else -1\n",
    "                eastSteps.append(eastSteps[-1]+di)\n",
    "    return edgePoints"
   ]
  },
  {
   "attachments": {},
   "cell_type": "markdown",
   "metadata": {},
   "source": [
    "#### <font face='comic sans ms' color ='yellow'>Reusable</font>"
   ]
  },
  {
   "cell_type": "code",
   "execution_count": 5,
   "metadata": {},
   "outputs": [],
   "source": [
    "trails=input()\n",
    "data=trails.split()\n",
    "steps=getSteps(data)\n",
    "edges=getEdges(steps)"
   ]
  },
  {
   "cell_type": "code",
   "execution_count": 8,
   "metadata": {},
   "outputs": [],
   "source": [
    "xyRanges=[]\n",
    "maxArea=getMaxArea(edges,xyRanges)\n",
    "minX,maxX=xyRanges[0]\n",
    "minY,maxY=xyRanges[1]\n",
    "factor=1080//(2*(maxY-minY+2))\n",
    "v=Visualize((maxY-minY+2),(maxX-minX+2),factor)  #row=y und col=x\n",
    "# v=Visualize(factor=factor)  #row=y und col=x\n",
    "v.setThickness(4)\n",
    "v.drawLines(edges)"
   ]
  },
  {
   "cell_type": "code",
   "execution_count": null,
   "metadata": {},
   "outputs": [],
   "source": [
    "def getSegment(edges,window):\n",
    "    segments=[]\n",
    "    i=0\n",
    "    einSegment=[window[0]]\n",
    "    while i<len(window):\n",
    "        if \n",
    "        "
   ]
  },
  {
   "cell_type": "code",
   "execution_count": 10,
   "metadata": {},
   "outputs": [],
   "source": [
    "window=[]\n",
    "for i in range(minY,maxY+1):\n",
    "    if (minX,i) in edges:\n",
    "        window.append((minX,i))"
   ]
  },
  {
   "cell_type": "code",
   "execution_count": 16,
   "metadata": {},
   "outputs": [
    {
     "data": {
      "text/plain": [
       "13"
      ]
     },
     "execution_count": 16,
     "metadata": {},
     "output_type": "execute_result"
    }
   ],
   "source": [
    "len(window)"
   ]
  },
  {
   "attachments": {},
   "cell_type": "markdown",
   "metadata": {},
   "source": [
    "#### <font face='comic sans ms' color ='teal'>Dumpster</font>"
   ]
  },
  {
   "cell_type": "code",
   "execution_count": 15,
   "metadata": {},
   "outputs": [
    {
     "data": {
      "text/plain": [
       "12"
      ]
     },
     "execution_count": 15,
     "metadata": {},
     "output_type": "execute_result"
    }
   ],
   "source": [
    "window.index((-5,5))"
   ]
  },
  {
   "cell_type": "code",
   "execution_count": 9,
   "metadata": {},
   "outputs": [],
   "source": [
    "v.show()"
   ]
  },
  {
   "cell_type": "code",
   "execution_count": 225,
   "metadata": {},
   "outputs": [],
   "source": [
    "v.save('que5')"
   ]
  },
  {
   "cell_type": "code",
   "execution_count": 157,
   "metadata": {},
   "outputs": [],
   "source": [
    "v.show()"
   ]
  },
  {
   "cell_type": "code",
   "execution_count": 155,
   "metadata": {},
   "outputs": [
    {
     "data": {
      "text/plain": [
       "1300"
      ]
     },
     "execution_count": 155,
     "metadata": {},
     "output_type": "execute_result"
    }
   ],
   "source": [
    "useful=[]\n",
    "getMaxArea(edges,useful)"
   ]
  },
  {
   "cell_type": "code",
   "execution_count": 180,
   "metadata": {},
   "outputs": [
    {
     "data": {
      "text/plain": [
       "1"
      ]
     },
     "execution_count": 180,
     "metadata": {},
     "output_type": "execute_result"
    }
   ],
   "source": [
    "round(0.53)"
   ]
  },
  {
   "cell_type": "code",
   "execution_count": null,
   "metadata": {},
   "outputs": [
    {
     "name": "stdout",
     "output_type": "stream",
     "text": [
      "Distace=64  MaxArea=144  ActualArea=115\n"
     ]
    }
   ],
   "source": [
    "14 L 1 FR 1 FFFFFL 1 FFFFL 1 F 12 L 1 F 12 L 1 F 12 L 1 FFFFL 1 FFFFFFFFR 1 FFFR 1 FFFL 1"
   ]
  },
  {
   "cell_type": "code",
   "execution_count": 35,
   "metadata": {},
   "outputs": [],
   "source": [
    "trails=input()\n",
    "data=trails.split()"
   ]
  },
  {
   "cell_type": "code",
   "execution_count": 36,
   "metadata": {},
   "outputs": [],
   "source": [
    "steps=getSteps(data)"
   ]
  },
  {
   "cell_type": "code",
   "execution_count": 37,
   "metadata": {},
   "outputs": [
    {
     "data": {
      "text/plain": [
       "64"
      ]
     },
     "execution_count": 37,
     "metadata": {},
     "output_type": "execute_result"
    }
   ],
   "source": [
    "getDistance(steps)"
   ]
  },
  {
   "cell_type": "code",
   "execution_count": 38,
   "metadata": {},
   "outputs": [],
   "source": [
    "edges=getEdges(steps)"
   ]
  },
  {
   "cell_type": "code",
   "execution_count": 39,
   "metadata": {},
   "outputs": [
    {
     "data": {
      "text/plain": [
       "144"
      ]
     },
     "execution_count": 39,
     "metadata": {},
     "output_type": "execute_result"
    }
   ],
   "source": [
    "getMaxArea(edges)"
   ]
  },
  {
   "cell_type": "code",
   "execution_count": null,
   "metadata": {},
   "outputs": [],
   "source": []
  }
 ],
 "metadata": {
  "kernelspec": {
   "display_name": "base",
   "language": "python",
   "name": "python3"
  },
  "language_info": {
   "codemirror_mode": {
    "name": "ipython",
    "version": 3
   },
   "file_extension": ".py",
   "mimetype": "text/x-python",
   "name": "python",
   "nbconvert_exporter": "python",
   "pygments_lexer": "ipython3",
   "version": "3.9.12"
  },
  "orig_nbformat": 4
 },
 "nbformat": 4,
 "nbformat_minor": 2
}
