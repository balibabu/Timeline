{
 "cells": [
  {
   "cell_type": "code",
   "execution_count": 31,
   "metadata": {},
   "outputs": [],
   "source": [
    "def isNebor(edges,point1,point2):\n",
    "    if point1 not in edges: return False\n",
    "    ind=edges.index(point1)\n",
    "    if point2 in [edges[ind-1],edges[(ind+1)%len(edges)]]:\n",
    "        return True\n",
    "    return False"
   ]
  },
  {
   "cell_type": "code",
   "execution_count": 32,
   "metadata": {},
   "outputs": [],
   "source": [
    "def getCrossSections(edges,xyRanges):\n",
    "    xMin,yMin=xyRanges[0]\n",
    "    xMax,yMax=xyRanges[1]\n",
    "    css=[]\n",
    "    for x in range(xMin,xMax+1):\n",
    "        cs=[]\n",
    "        for y in range(yMin,yMax):\n",
    "            if isNebor(edges,(x,y),(x,y+1)):\n",
    "                cs.append(1)\n",
    "            else:\n",
    "                cs.append(0)\n",
    "        css.append(cs)\n",
    "    return css"
   ]
  },
  {
   "cell_type": "code",
   "execution_count": 36,
   "metadata": {},
   "outputs": [],
   "source": [
    "def xorSegments(window,segments):\n",
    "    for i in range(len(window)):\n",
    "        window[i]=window[i]^segments[i]"
   ]
  },
  {
   "cell_type": "code",
   "execution_count": 49,
   "metadata": {},
   "outputs": [],
   "source": [
    "def getArea(edges,xyRanges):\n",
    "    xMin,yMin=xyRanges[0]\n",
    "    xMax,yMax=xyRanges[1]\n",
    "    window=[0 for _ in range(yMin,yMax)]\n",
    "    css=getCrossSections(edges,xyRanges)\n",
    "    area=0\n",
    "    for cs in css:\n",
    "        xorSegments(window,cs)\n",
    "        area+=sum(window)\n",
    "    return area "
   ]
  },
  {
   "cell_type": "code",
   "execution_count": 59,
   "metadata": {},
   "outputs": [
    {
     "data": {
      "text/plain": [
       "2190"
      ]
     },
     "execution_count": 59,
     "metadata": {},
     "output_type": "execute_result"
    }
   ],
   "source": [
    "getArea(edges,xyRanges)"
   ]
  },
  {
   "attachments": {},
   "cell_type": "markdown",
   "metadata": {},
   "source": [
    "## <font face='comic sans ms' color ='yellow'>Old</font>"
   ]
  },
  {
   "cell_type": "code",
   "execution_count": 1,
   "metadata": {},
   "outputs": [],
   "source": [
    "def getDistance(steps):\n",
    "    return steps.count('F')"
   ]
  },
  {
   "cell_type": "code",
   "execution_count": 2,
   "metadata": {},
   "outputs": [],
   "source": [
    "def getSteps(data):\n",
    "    steps=''\n",
    "    for i in range(1,len(data),2):\n",
    "        steps+=data[i]*int(data[i+1])\n",
    "    return steps"
   ]
  },
  {
   "cell_type": "code",
   "execution_count": 3,
   "metadata": {},
   "outputs": [],
   "source": [
    "def getMaxArea(xyRanges):\n",
    "    min_x=xyRanges[0][0]\n",
    "    min_y=xyRanges[0][1]\n",
    "    max_x=xyRanges[1][0]\n",
    "    max_y=xyRanges[1][1]\n",
    "    return (max_x-min_x)*(max_y-min_y)"
   ]
  },
  {
   "cell_type": "code",
   "execution_count": 4,
   "metadata": {},
   "outputs": [],
   "source": [
    "def getXYranges(edges):\n",
    "    xyRanges=[]\n",
    "    x_points=[x for x,_ in edges]\n",
    "    y_points=[y for _,y in edges]\n",
    "    max_x=max(x_points)\n",
    "    min_x=min(x_points)\n",
    "    max_y=max(y_points)\n",
    "    min_y=min(y_points)\n",
    "    xyRanges.append((min_x,min_y))\n",
    "    xyRanges.append((max_x,max_y))\n",
    "    return xyRanges"
   ]
  },
  {
   "cell_type": "code",
   "execution_count": 5,
   "metadata": {},
   "outputs": [],
   "source": [
    "def getEdges(steps):\n",
    "    direc=0\n",
    "    northSteps=[0]\n",
    "    eastSteps=[0]\n",
    "    edgePoints=[]\n",
    "    for step in steps:\n",
    "        if step in 'RL':\n",
    "            direc+=1 if step=='R' else -1\n",
    "        else:\n",
    "            edgePoints.append((eastSteps[-1],northSteps[-1]))\n",
    "            if direc%2==0:\n",
    "                di=1 if direc%4==0 else -1\n",
    "                northSteps.append(northSteps[-1]+di)\n",
    "            else:\n",
    "                di=1 if (direc-1)%4==0 else -1\n",
    "                eastSteps.append(eastSteps[-1]+di)\n",
    "    return edgePoints"
   ]
  },
  {
   "cell_type": "code",
   "execution_count": 6,
   "metadata": {},
   "outputs": [],
   "source": [
    "def getCrossSection(edges,xyRanges):\n",
    "    xMin,yMin=xyRanges[0]\n",
    "    xMax,yMax=xyRanges[1]\n",
    "    csa=[]\n",
    "    for x in range(xMin,xMax+1):\n",
    "        aCsa=[]\n",
    "        for y in range(yMin,yMax+1):\n",
    "            if (x,y) in edges:\n",
    "                aCsa.append((x,y))\n",
    "        csa.append(aCsa)\n",
    "    return csa "
   ]
  },
  {
   "cell_type": "code",
   "execution_count": 7,
   "metadata": {},
   "outputs": [],
   "source": [
    "def getSegments(edges,csa):\n",
    "    segments=[]\n",
    "    for i in range(len(csa)-1):\n",
    "        x=edges.index(csa[i])\n",
    "        if csa[i+1] in [edges[x-1],edges[(x+1)%len(edges)]]:\n",
    "            segments.append([csa[i],csa[i+1]])\n",
    "    return segments"
   ]
  },
  {
   "cell_type": "code",
   "execution_count": 8,
   "metadata": {},
   "outputs": [],
   "source": [
    "def xorSegments(window,segments):\n",
    "    for segment in segments:\n",
    "        if segment in window:\n",
    "            window.remove(segment)\n",
    "        elif ([segment[1],segment[0]]) in window:\n",
    "            window.remove([segment[1],segment[0]])\n",
    "        else:\n",
    "            window.append(segment)"
   ]
  },
  {
   "cell_type": "code",
   "execution_count": 9,
   "metadata": {},
   "outputs": [],
   "source": [
    "def moveWindow(window):\n",
    "    for i in range(len(window)):\n",
    "        [(x1,y1),(x2,y2)]=window[i]\n",
    "        window[i]=[(x1+1,y1),(x2+1,y2)]"
   ]
  },
  {
   "cell_type": "code",
   "execution_count": 85,
   "metadata": {},
   "outputs": [],
   "source": [
    "def getArea(edges,xyRanges):\n",
    "    csa=getCrossSection(edges,xyRanges)\n",
    "    window=[]\n",
    "    antiWin=[[(xyRanges[0][0],i),(xyRanges[0][0],i+1)] for i in range(xyRanges[0][1],xyRanges[1][1])]\n",
    "    area=0\n",
    "    pocketArea=0\n",
    "    # print(antiWin)\n",
    "    for cs in csa:\n",
    "        xorSegments(window,getSegments(edges,cs))\n",
    "        xorSegments(antiWin,getSegments(edges,cs))\n",
    "        pocketArea+=getPoketArea(edges,antiWin,xyRanges)\n",
    "        # print(antiWin)\n",
    "        moveWindow(antiWin)\n",
    "        moveWindow(window)\n",
    "        area+=len(window)\n",
    "    return area,pocketArea"
   ]
  },
  {
   "cell_type": "code",
   "execution_count": 86,
   "metadata": {},
   "outputs": [],
   "source": [
    "def getPoketArea(edges,antiWin,xyRanges):\n",
    "    c=0\n",
    "    for segment in antiWin:\n",
    "        if isSegmentInPocket(edges,segment,xyRanges):\n",
    "            c+=1\n",
    "    return c"
   ]
  },
  {
   "cell_type": "code",
   "execution_count": 102,
   "metadata": {},
   "outputs": [],
   "source": [
    "trails=input()\n",
    "data=trails.split()\n",
    "steps=getSteps(data)\n",
    "edges=getEdges(steps)"
   ]
  },
  {
   "cell_type": "code",
   "execution_count": 103,
   "metadata": {},
   "outputs": [
    {
     "data": {
      "text/plain": [
       "[(-18, -55), (30, 19)]"
      ]
     },
     "execution_count": 103,
     "metadata": {},
     "output_type": "execute_result"
    }
   ],
   "source": [
    "xyRanges=getXYranges(edges)\n",
    "xyRanges"
   ]
  },
  {
   "cell_type": "code",
   "execution_count": 104,
   "metadata": {},
   "outputs": [
    {
     "data": {
      "text/plain": [
       "344"
      ]
     },
     "execution_count": 104,
     "metadata": {},
     "output_type": "execute_result"
    }
   ],
   "source": [
    "getDistance(steps)"
   ]
  },
  {
   "cell_type": "code",
   "execution_count": 105,
   "metadata": {},
   "outputs": [
    {
     "data": {
      "text/plain": [
       "3552"
      ]
     },
     "execution_count": 105,
     "metadata": {},
     "output_type": "execute_result"
    }
   ],
   "source": [
    "getMaxArea(xyRanges)"
   ]
  },
  {
   "cell_type": "code",
   "execution_count": 106,
   "metadata": {},
   "outputs": [
    {
     "data": {
      "text/plain": [
       "(2190, 111)"
      ]
     },
     "execution_count": 106,
     "metadata": {},
     "output_type": "execute_result"
    }
   ],
   "source": [
    "getArea(edges,xyRanges)"
   ]
  },
  {
   "cell_type": "code",
   "execution_count": 83,
   "metadata": {},
   "outputs": [],
   "source": [
    "def isSegmentInPocket(edges,segment,xyRanges):\n",
    "    xMin,yMin=xyRanges[0]\n",
    "    xMax,yMax=xyRanges[1]\n",
    "    [(x1,y1),(x2,y2)]=segment\n",
    "    # checking North and South (up & down)\n",
    "    c=0\n",
    "    for i in range(y1,yMin-1,-1):\n",
    "        if (x1,i) in edges and (x1+1,i) in edges:\n",
    "            c+=1\n",
    "            break\n",
    "    for i in range(y2,yMax+1):\n",
    "        if (x2,i) in edges and (x2+1,i) in edges:\n",
    "            c+=1\n",
    "            break\n",
    "    if c==2: return True\n",
    "    \n",
    "    # checking for East and west\n",
    "    c=0\n",
    "    for i in range(x1+1,xMax+1):\n",
    "        if (i,y1) in edges and (i,y2) in edges:\n",
    "            c+=1\n",
    "            break\n",
    "    for i in range(xMin,x1):\n",
    "        if (i,y1) in edges and (i,y2) in edges:\n",
    "            c+=1\n",
    "            break\n",
    "    if c==2: return True\n",
    "    return False    "
   ]
  },
  {
   "cell_type": "code",
   "execution_count": 84,
   "metadata": {},
   "outputs": [
    {
     "data": {
      "text/plain": [
       "False"
      ]
     },
     "execution_count": 84,
     "metadata": {},
     "output_type": "execute_result"
    }
   ],
   "source": [
    "isSegmentInPocket(edges,[(-5, 2), (-5, 3)],xyRanges)"
   ]
  },
  {
   "cell_type": "code",
   "execution_count": 41,
   "metadata": {},
   "outputs": [],
   "source": [
    "ls=[[],\n",
    "[],\n",
    "[[(2, 2), (2, 3)], [(2, 3), (2, 4)]],\n",
    "[[(3, 2), (3, 3)], [(3, 3), (3, 4)]],\n",
    "[[(4, 2), (4, 3)], [(4, 3), (4, 4)], [(4, 4), (4, 5)], [(4, 5), (4, 6)]],\n",
    "[[(5, 2), (5, 3)], [(5, 3), (5, 4)], [(5, 4), (5, 5)], [(5, 5), (5, 6)], [(5, 0), (5, 1)], [(5, 1), (5, 2)]]]"
   ]
  },
  {
   "cell_type": "code",
   "execution_count": 16,
   "metadata": {},
   "outputs": [],
   "source": [
    "ls=[[],\n",
    "[],\n",
    "[],\n",
    "[],\n",
    "[[(-1, 0), (-1, 1)], [(-1, 1), (-1, 2)], [(-1, 2), (-1, 3)], [(-1, 3), (-1, 4)], [(-1, 4), (-1, 5)]],\n",
    "[[(0, 0), (0, 1)], [(0, 1), (0, 2)], [(0, 2), (0, 3)], [(0, 3), (0, 4)], [(0, 4), (0, 5)], [(0, -3), (0, -2)], [(0, -2), (0, -1)], [(0, -1), (0, 0)]],\n",
    "[[(1, 0), (1, 1)], [(1, 1), (1, 2)], [(1, 2), (1, 3)], [(1, 3), (1, 4)], [(1, 4), (1, 5)], [(1, -3), (1, -2)], [(1, -2), (1, -1)], [(1, -1), (1, 0)]],\n",
    "[[(2, 0), (2, 1)], [(2, 1), (2, 2)], [(2, 2), (2, 3)], [(2, 3), (2, 4)], [(2, 4), (2, 5)], [(2, -3), (2, -2)], [(2, -2), (2, -1)], [(2, -1), (2, 0)]],\n",
    "[],\n",
    "[],\n",
    "[],\n",
    "[],\n",
    "[[(7, -7), (7, -6)], [(7, -6), (7, -5)], [(7, -5), (7, -4)], [(7, -4), (7, -3)], [(7, -3), (7, -2)], [(7, -2), (7, -1)], [(7, -1), (7, 0)], [(7, 0), (7, 1)], [(7, 1), (7, 2)], [(7, 2), (7, 3)], [(7, 3), (7, 4)], [(7, 4), (7, 5)]]]"
   ]
  },
  {
   "cell_type": "code",
   "execution_count": 17,
   "metadata": {},
   "outputs": [
    {
     "name": "stdout",
     "output_type": "stream",
     "text": [
      "True [(-1, 0), (-1, 1)]\n",
      "True [(-1, 1), (-1, 2)]\n",
      "True [(-1, 2), (-1, 3)]\n",
      "True [(-1, 3), (-1, 4)]\n",
      "True [(-1, 4), (-1, 5)]\n",
      "True [(0, 0), (0, 1)]\n",
      "True [(0, 1), (0, 2)]\n",
      "True [(0, 2), (0, 3)]\n",
      "True [(0, 3), (0, 4)]\n",
      "True [(0, 4), (0, 5)]\n",
      "True [(0, -3), (0, -2)]\n",
      "True [(0, -2), (0, -1)]\n",
      "True [(0, -1), (0, 0)]\n",
      "True [(1, 0), (1, 1)]\n",
      "True [(1, 1), (1, 2)]\n",
      "True [(1, 2), (1, 3)]\n",
      "True [(1, 3), (1, 4)]\n",
      "True [(1, 4), (1, 5)]\n",
      "True [(1, -3), (1, -2)]\n",
      "True [(1, -2), (1, -1)]\n",
      "True [(1, -1), (1, 0)]\n",
      "True [(2, 0), (2, 1)]\n",
      "True [(2, 1), (2, 2)]\n",
      "True [(2, 2), (2, 3)]\n",
      "True [(2, 3), (2, 4)]\n",
      "True [(2, 4), (2, 5)]\n",
      "True [(2, -3), (2, -2)]\n",
      "True [(2, -2), (2, -1)]\n",
      "True [(2, -1), (2, 0)]\n",
      "False [(7, -7), (7, -6)]\n",
      "False [(7, -6), (7, -5)]\n",
      "False [(7, -5), (7, -4)]\n",
      "False [(7, -4), (7, -3)]\n",
      "False [(7, -3), (7, -2)]\n",
      "False [(7, -2), (7, -1)]\n",
      "False [(7, -1), (7, 0)]\n",
      "False [(7, 0), (7, 1)]\n",
      "False [(7, 1), (7, 2)]\n",
      "False [(7, 2), (7, 3)]\n",
      "False [(7, 3), (7, 4)]\n",
      "False [(7, 4), (7, 5)]\n"
     ]
    }
   ],
   "source": [
    "for i in ls:\n",
    "    # if i:\n",
    "    for j in i:\n",
    "        print(isSegmentInPocket(edges,j,xyRanges),j)"
   ]
  },
  {
   "cell_type": "code",
   "execution_count": 15,
   "metadata": {},
   "outputs": [
    {
     "data": {
      "text/plain": [
       "True"
      ]
     },
     "execution_count": 15,
     "metadata": {},
     "output_type": "execute_result"
    }
   ],
   "source": [
    "isSegmentInPocket(edges,[(1,0),(1,-1)],xyRanges)"
   ]
  },
  {
   "cell_type": "code",
   "execution_count": 22,
   "metadata": {},
   "outputs": [
    {
     "name": "stdout",
     "output_type": "stream",
     "text": [
      "[[(-5, -7), (-5, -6)], [(-5, -6), (-5, -5)], [(-5, -5), (-5, -4)], [(-5, -4), (-5, -3)], [(-5, -3), (-5, -2)], [(-5, -2), (-5, -1)], [(-5, -1), (-5, 0)], [(-5, 0), (-5, 1)], [(-5, 1), (-5, 2)], [(-5, 2), (-5, 3)], [(-5, 3), (-5, 4)], [(-5, 4), (-5, 5)]]\n",
      "[]\n",
      "[]\n",
      "[]\n",
      "[]\n",
      "[[(-1, 0), (-1, 1)], [(-1, 1), (-1, 2)], [(-1, 2), (-1, 3)], [(-1, 3), (-1, 4)], [(-1, 4), (-1, 5)]]\n",
      "[[(0, 0), (0, 1)], [(0, 1), (0, 2)], [(0, 2), (0, 3)], [(0, 3), (0, 4)], [(0, 4), (0, 5)], [(0, -3), (0, -2)], [(0, -2), (0, -1)], [(0, -1), (0, 0)]]\n",
      "[[(1, 0), (1, 1)], [(1, 1), (1, 2)], [(1, 2), (1, 3)], [(1, 3), (1, 4)], [(1, 4), (1, 5)], [(1, -3), (1, -2)], [(1, -2), (1, -1)], [(1, -1), (1, 0)]]\n",
      "[[(2, 0), (2, 1)], [(2, 1), (2, 2)], [(2, 2), (2, 3)], [(2, 3), (2, 4)], [(2, 4), (2, 5)], [(2, -3), (2, -2)], [(2, -2), (2, -1)], [(2, -1), (2, 0)]]\n",
      "[]\n",
      "[]\n",
      "[]\n",
      "[]\n",
      "[[(7, -7), (7, -6)], [(7, -6), (7, -5)], [(7, -5), (7, -4)], [(7, -4), (7, -3)], [(7, -3), (7, -2)], [(7, -2), (7, -1)], [(7, -1), (7, 0)], [(7, 0), (7, 1)], [(7, 1), (7, 2)], [(7, 2), (7, 3)], [(7, 3), (7, 4)], [(7, 4), (7, 5)]]\n"
     ]
    },
    {
     "data": {
      "text/plain": [
       "115"
      ]
     },
     "execution_count": 22,
     "metadata": {},
     "output_type": "execute_result"
    }
   ],
   "source": [
    "getArea(edges,xyRanges)"
   ]
  },
  {
   "cell_type": "code",
   "execution_count": null,
   "metadata": {},
   "outputs": [],
   "source": [
    "for i in getSegments(edges,csa):\n",
    "    print(i)"
   ]
  },
  {
   "cell_type": "code",
   "execution_count": null,
   "metadata": {},
   "outputs": [],
   "source": [
    "a=[1,2,3,2,1]\n",
    "a.remove(2)"
   ]
  },
  {
   "cell_type": "code",
   "execution_count": null,
   "metadata": {},
   "outputs": [],
   "source": [
    "a=[{1,2},{3,4},{1,2}]"
   ]
  },
  {
   "cell_type": "code",
   "execution_count": null,
   "metadata": {},
   "outputs": [],
   "source": [
    "a.remove({4,3})\n",
    "a"
   ]
  },
  {
   "cell_type": "code",
   "execution_count": null,
   "metadata": {},
   "outputs": [],
   "source": [
    "window=[[(5, 2),(5, 1)]]\n",
    "xorSegments(window,[[(5, 0), (5, 1)],[(5, 1), (5, 2)]])"
   ]
  },
  {
   "cell_type": "code",
   "execution_count": null,
   "metadata": {},
   "outputs": [],
   "source": [
    "window"
   ]
  },
  {
   "cell_type": "code",
   "execution_count": null,
   "metadata": {},
   "outputs": [],
   "source": []
  },
  {
   "cell_type": "code",
   "execution_count": null,
   "metadata": {},
   "outputs": [],
   "source": []
  }
 ],
 "metadata": {
  "kernelspec": {
   "display_name": "base",
   "language": "python",
   "name": "python3"
  },
  "language_info": {
   "codemirror_mode": {
    "name": "ipython",
    "version": 3
   },
   "file_extension": ".py",
   "mimetype": "text/x-python",
   "name": "python",
   "nbconvert_exporter": "python",
   "pygments_lexer": "ipython3",
   "version": "3.9.12"
  },
  "orig_nbformat": 4
 },
 "nbformat": 4,
 "nbformat_minor": 2
}
