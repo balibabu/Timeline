{
 "cells": [
  {
   "cell_type": "code",
   "execution_count": 16,
   "metadata": {},
   "outputs": [],
   "source": [
    "def expand(str1):\n",
    "    i=0\n",
    "    exp=''\n",
    "    num=''\n",
    "    while i!=len(str1):\n",
    "        if '0'<=str1[i]<='9':\n",
    "            num+=str1[i]\n",
    "        else:\n",
    "            if num=='': exp+=str1[i]\n",
    "            else:   exp+=str1[i]*int(num)\n",
    "            num=''\n",
    "        i+=1\n",
    "    return exp.upper()\n"
   ]
  },
  {
   "cell_type": "code",
   "execution_count": 17,
   "metadata": {},
   "outputs": [],
   "source": [
    "def fight(style):\n",
    "    style=style.upper()\n",
    "    rule={'R':'SL','P':'RY','S':'PL','Y':'RS','L':'PY'}\n",
    "    if style[1] in rule[style[0]]: \n",
    "        return style[0]\n",
    "    return style[1]"
   ]
  },
  {
   "cell_type": "code",
   "execution_count": 18,
   "metadata": {},
   "outputs": [],
   "source": [
    "def finalWinner(style):\n",
    "    while len(style)!=1:\n",
    "        temp=''\n",
    "        for i in range(0,len(style),2):\n",
    "            temp+=fight(style[i:i+2])\n",
    "        style=temp\n",
    "    return style"
   ]
  },
  {
   "cell_type": "code",
   "execution_count": 19,
   "metadata": {},
   "outputs": [],
   "source": [
    "def afterOneRound(styles):\n",
    "    remain=''\n",
    "    for i in range(0,len(styles),2):\n",
    "        remain+=fight(styles[i:i+2])\n",
    "    return remain"
   ]
  },
  {
   "attachments": {},
   "cell_type": "markdown",
   "metadata": {},
   "source": [
    "### <font face='comic sans ms' color ='magenta'>Method 1</font>"
   ]
  },
  {
   "cell_type": "code",
   "execution_count": 20,
   "metadata": {},
   "outputs": [],
   "source": [
    "def nextCombination(arr):\n",
    "    if arr.count(2)==len(arr): return False\n",
    "    i=len(arr)-1\n",
    "    while i>=0:\n",
    "        if arr[i]<2:\n",
    "            arr[i]+=1\n",
    "            break\n",
    "        else:\n",
    "            arr[i]=0\n",
    "            i-=1\n",
    "    return True"
   ]
  },
  {
   "cell_type": "code",
   "execution_count": 21,
   "metadata": {},
   "outputs": [],
   "source": [
    "def mapper(style,arr):\n",
    "    style=style.upper()\n",
    "    possibility={'S':['SS','SP','SL'],'R':['RR', 'RS', 'RL'],'P':['PP', 'PR', 'PY'],'L':['LL', 'LY', 'LP'],'Y':['YY','YR','YS']}\n",
    "    newstr=''\n",
    "    for i,j in zip(style,arr):\n",
    "        newstr+=possibility[i][j]\n",
    "    return newstr"
   ]
  },
  {
   "cell_type": "code",
   "execution_count": 22,
   "metadata": {},
   "outputs": [],
   "source": [
    "def checkConditions(style,amount): # R,P,S,L,Y\n",
    "    style=style.upper()\n",
    "    if style.count('R')!=amount[0]: return False\n",
    "    if style.count('P')!=amount[1]: return False\n",
    "    if style.count('S')!=amount[2]: return False\n",
    "    if style.count('L')!=amount[3]: return False\n",
    "    if style.count('Y')!=amount[4]: return False\n",
    "    return True"
   ]
  },
  {
   "cell_type": "code",
   "execution_count": 23,
   "metadata": {},
   "outputs": [],
   "source": [
    "def checkOverFlow(style,amount): # R,P,S,L,Y\n",
    "    style=style.upper()\n",
    "    if style.count('R')>amount[0]: return True\n",
    "    if style.count('P')>amount[1]: return True\n",
    "    if style.count('S')>amount[2]: return True\n",
    "    if style.count('L')>amount[3]: return True\n",
    "    if style.count('Y')>amount[4]: return True\n",
    "    return False"
   ]
  },
  {
   "cell_type": "code",
   "execution_count": 32,
   "metadata": {},
   "outputs": [],
   "source": [
    "def generate(style,amount):\n",
    "    arr=[0 for _ in style]\n",
    "    while True:\n",
    "        newStyle=mapper(style,arr)\n",
    "        if not checkOverFlow(newStyle,amount):\n",
    "            if len(newStyle)==sum(amount):\n",
    "                if checkConditions(newStyle,amount): \n",
    "                    return newStyle\n",
    "                else: return False\n",
    "            else:\n",
    "                temp=generate(newStyle,amount)\n",
    "                if temp: return temp\n",
    "\n",
    "        if not nextCombination(arr): break\n",
    "    return False"
   ]
  },
  {
   "attachments": {},
   "cell_type": "markdown",
   "metadata": {},
   "source": [
    "### <font face='comic sans ms' color ='magenta'>Reuable Code</font>"
   ]
  },
  {
   "cell_type": "code",
   "execution_count": 41,
   "metadata": {},
   "outputs": [
    {
     "name": "stdout",
     "output_type": "stream",
     "text": [
      "[8, 0, 2, 6, 16]\n"
     ]
    }
   ],
   "source": [
    "data=input().split()\n",
    "rock=int(data[0][:-1])\n",
    "paper=int(data[1][:-1])\n",
    "scissor=int(data[2][:-1])\n",
    "spock=int(data[3][:-1])\n",
    "lizard=int(data[4][:-1])\n",
    "req=[rock,paper,scissor,lizard,spock]\n",
    "print(req)"
   ]
  },
  {
   "cell_type": "code",
   "execution_count": 42,
   "metadata": {},
   "outputs": [
    {
     "ename": "KeyboardInterrupt",
     "evalue": "",
     "output_type": "error",
     "traceback": [
      "\u001b[1;31m---------------------------------------------------------------------------\u001b[0m",
      "\u001b[1;31mKeyboardInterrupt\u001b[0m                         Traceback (most recent call last)",
      "\u001b[1;32md:\\Works_Space\\Timeline\\2023\\06_June\\RockPaperScissor\\rockpaperscissor.ipynb Cell 13\u001b[0m in \u001b[0;36m<cell line: 1>\u001b[1;34m()\u001b[0m\n\u001b[1;32m----> <a href='vscode-notebook-cell:/d%3A/Works_Space/Timeline/2023/06_June/RockPaperScissor/rockpaperscissor.ipynb#X16sZmlsZQ%3D%3D?line=0'>1</a>\u001b[0m a\u001b[39m=\u001b[39mgenerate(\u001b[39m'\u001b[39;49m\u001b[39mS\u001b[39;49m\u001b[39m'\u001b[39;49m,req) \u001b[39m#r,p,s,l,y\u001b[39;00m\n\u001b[0;32m      <a href='vscode-notebook-cell:/d%3A/Works_Space/Timeline/2023/06_June/RockPaperScissor/rockpaperscissor.ipynb#X16sZmlsZQ%3D%3D?line=1'>2</a>\u001b[0m \u001b[39m# print(finalWinner(a))\u001b[39;00m\n\u001b[0;32m      <a href='vscode-notebook-cell:/d%3A/Works_Space/Timeline/2023/06_June/RockPaperScissor/rockpaperscissor.ipynb#X16sZmlsZQ%3D%3D?line=2'>3</a>\u001b[0m a\n",
      "\u001b[1;32md:\\Works_Space\\Timeline\\2023\\06_June\\RockPaperScissor\\rockpaperscissor.ipynb Cell 13\u001b[0m in \u001b[0;36mgenerate\u001b[1;34m(style, amount)\u001b[0m\n\u001b[0;32m      <a href='vscode-notebook-cell:/d%3A/Works_Space/Timeline/2023/06_June/RockPaperScissor/rockpaperscissor.ipynb#X16sZmlsZQ%3D%3D?line=8'>9</a>\u001b[0m         \u001b[39melse\u001b[39;00m: \u001b[39mreturn\u001b[39;00m \u001b[39mFalse\u001b[39;00m\n\u001b[0;32m     <a href='vscode-notebook-cell:/d%3A/Works_Space/Timeline/2023/06_June/RockPaperScissor/rockpaperscissor.ipynb#X16sZmlsZQ%3D%3D?line=9'>10</a>\u001b[0m     \u001b[39melse\u001b[39;00m:\n\u001b[1;32m---> <a href='vscode-notebook-cell:/d%3A/Works_Space/Timeline/2023/06_June/RockPaperScissor/rockpaperscissor.ipynb#X16sZmlsZQ%3D%3D?line=10'>11</a>\u001b[0m         temp\u001b[39m=\u001b[39mgenerate(newStyle,amount)\n\u001b[0;32m     <a href='vscode-notebook-cell:/d%3A/Works_Space/Timeline/2023/06_June/RockPaperScissor/rockpaperscissor.ipynb#X16sZmlsZQ%3D%3D?line=11'>12</a>\u001b[0m         \u001b[39mif\u001b[39;00m temp: \u001b[39mreturn\u001b[39;00m temp\n\u001b[0;32m     <a href='vscode-notebook-cell:/d%3A/Works_Space/Timeline/2023/06_June/RockPaperScissor/rockpaperscissor.ipynb#X16sZmlsZQ%3D%3D?line=13'>14</a>\u001b[0m \u001b[39mif\u001b[39;00m \u001b[39mnot\u001b[39;00m nextCombination(arr): \u001b[39mbreak\u001b[39;00m\n",
      "\u001b[1;32md:\\Works_Space\\Timeline\\2023\\06_June\\RockPaperScissor\\rockpaperscissor.ipynb Cell 13\u001b[0m in \u001b[0;36mgenerate\u001b[1;34m(style, amount)\u001b[0m\n\u001b[0;32m      <a href='vscode-notebook-cell:/d%3A/Works_Space/Timeline/2023/06_June/RockPaperScissor/rockpaperscissor.ipynb#X16sZmlsZQ%3D%3D?line=8'>9</a>\u001b[0m         \u001b[39melse\u001b[39;00m: \u001b[39mreturn\u001b[39;00m \u001b[39mFalse\u001b[39;00m\n\u001b[0;32m     <a href='vscode-notebook-cell:/d%3A/Works_Space/Timeline/2023/06_June/RockPaperScissor/rockpaperscissor.ipynb#X16sZmlsZQ%3D%3D?line=9'>10</a>\u001b[0m     \u001b[39melse\u001b[39;00m:\n\u001b[1;32m---> <a href='vscode-notebook-cell:/d%3A/Works_Space/Timeline/2023/06_June/RockPaperScissor/rockpaperscissor.ipynb#X16sZmlsZQ%3D%3D?line=10'>11</a>\u001b[0m         temp\u001b[39m=\u001b[39mgenerate(newStyle,amount)\n\u001b[0;32m     <a href='vscode-notebook-cell:/d%3A/Works_Space/Timeline/2023/06_June/RockPaperScissor/rockpaperscissor.ipynb#X16sZmlsZQ%3D%3D?line=11'>12</a>\u001b[0m         \u001b[39mif\u001b[39;00m temp: \u001b[39mreturn\u001b[39;00m temp\n\u001b[0;32m     <a href='vscode-notebook-cell:/d%3A/Works_Space/Timeline/2023/06_June/RockPaperScissor/rockpaperscissor.ipynb#X16sZmlsZQ%3D%3D?line=13'>14</a>\u001b[0m \u001b[39mif\u001b[39;00m \u001b[39mnot\u001b[39;00m nextCombination(arr): \u001b[39mbreak\u001b[39;00m\n",
      "    \u001b[1;31m[... skipping similar frames: generate at line 11 (1 times)]\u001b[0m\n",
      "\u001b[1;32md:\\Works_Space\\Timeline\\2023\\06_June\\RockPaperScissor\\rockpaperscissor.ipynb Cell 13\u001b[0m in \u001b[0;36mgenerate\u001b[1;34m(style, amount)\u001b[0m\n\u001b[0;32m      <a href='vscode-notebook-cell:/d%3A/Works_Space/Timeline/2023/06_June/RockPaperScissor/rockpaperscissor.ipynb#X16sZmlsZQ%3D%3D?line=8'>9</a>\u001b[0m         \u001b[39melse\u001b[39;00m: \u001b[39mreturn\u001b[39;00m \u001b[39mFalse\u001b[39;00m\n\u001b[0;32m     <a href='vscode-notebook-cell:/d%3A/Works_Space/Timeline/2023/06_June/RockPaperScissor/rockpaperscissor.ipynb#X16sZmlsZQ%3D%3D?line=9'>10</a>\u001b[0m     \u001b[39melse\u001b[39;00m:\n\u001b[1;32m---> <a href='vscode-notebook-cell:/d%3A/Works_Space/Timeline/2023/06_June/RockPaperScissor/rockpaperscissor.ipynb#X16sZmlsZQ%3D%3D?line=10'>11</a>\u001b[0m         temp\u001b[39m=\u001b[39mgenerate(newStyle,amount)\n\u001b[0;32m     <a href='vscode-notebook-cell:/d%3A/Works_Space/Timeline/2023/06_June/RockPaperScissor/rockpaperscissor.ipynb#X16sZmlsZQ%3D%3D?line=11'>12</a>\u001b[0m         \u001b[39mif\u001b[39;00m temp: \u001b[39mreturn\u001b[39;00m temp\n\u001b[0;32m     <a href='vscode-notebook-cell:/d%3A/Works_Space/Timeline/2023/06_June/RockPaperScissor/rockpaperscissor.ipynb#X16sZmlsZQ%3D%3D?line=13'>14</a>\u001b[0m \u001b[39mif\u001b[39;00m \u001b[39mnot\u001b[39;00m nextCombination(arr): \u001b[39mbreak\u001b[39;00m\n",
      "\u001b[1;32md:\\Works_Space\\Timeline\\2023\\06_June\\RockPaperScissor\\rockpaperscissor.ipynb Cell 13\u001b[0m in \u001b[0;36mgenerate\u001b[1;34m(style, amount)\u001b[0m\n\u001b[0;32m      <a href='vscode-notebook-cell:/d%3A/Works_Space/Timeline/2023/06_June/RockPaperScissor/rockpaperscissor.ipynb#X16sZmlsZQ%3D%3D?line=1'>2</a>\u001b[0m arr\u001b[39m=\u001b[39m[\u001b[39m0\u001b[39m \u001b[39mfor\u001b[39;00m _ \u001b[39min\u001b[39;00m style]\n\u001b[0;32m      <a href='vscode-notebook-cell:/d%3A/Works_Space/Timeline/2023/06_June/RockPaperScissor/rockpaperscissor.ipynb#X16sZmlsZQ%3D%3D?line=2'>3</a>\u001b[0m \u001b[39mwhile\u001b[39;00m \u001b[39mTrue\u001b[39;00m:\n\u001b[1;32m----> <a href='vscode-notebook-cell:/d%3A/Works_Space/Timeline/2023/06_June/RockPaperScissor/rockpaperscissor.ipynb#X16sZmlsZQ%3D%3D?line=3'>4</a>\u001b[0m     newStyle\u001b[39m=\u001b[39mmapper(style,arr)\n\u001b[0;32m      <a href='vscode-notebook-cell:/d%3A/Works_Space/Timeline/2023/06_June/RockPaperScissor/rockpaperscissor.ipynb#X16sZmlsZQ%3D%3D?line=4'>5</a>\u001b[0m     \u001b[39mif\u001b[39;00m \u001b[39mnot\u001b[39;00m checkOverFlow(newStyle,amount):\n\u001b[0;32m      <a href='vscode-notebook-cell:/d%3A/Works_Space/Timeline/2023/06_June/RockPaperScissor/rockpaperscissor.ipynb#X16sZmlsZQ%3D%3D?line=5'>6</a>\u001b[0m         \u001b[39mif\u001b[39;00m \u001b[39mlen\u001b[39m(newStyle)\u001b[39m==\u001b[39m\u001b[39msum\u001b[39m(amount):\n",
      "\u001b[1;32md:\\Works_Space\\Timeline\\2023\\06_June\\RockPaperScissor\\rockpaperscissor.ipynb Cell 13\u001b[0m in \u001b[0;36mmapper\u001b[1;34m(style, arr)\u001b[0m\n\u001b[0;32m      <a href='vscode-notebook-cell:/d%3A/Works_Space/Timeline/2023/06_June/RockPaperScissor/rockpaperscissor.ipynb#X16sZmlsZQ%3D%3D?line=2'>3</a>\u001b[0m possibility\u001b[39m=\u001b[39m{\u001b[39m'\u001b[39m\u001b[39mS\u001b[39m\u001b[39m'\u001b[39m:[\u001b[39m'\u001b[39m\u001b[39mSS\u001b[39m\u001b[39m'\u001b[39m,\u001b[39m'\u001b[39m\u001b[39mSP\u001b[39m\u001b[39m'\u001b[39m,\u001b[39m'\u001b[39m\u001b[39mSL\u001b[39m\u001b[39m'\u001b[39m],\u001b[39m'\u001b[39m\u001b[39mR\u001b[39m\u001b[39m'\u001b[39m:[\u001b[39m'\u001b[39m\u001b[39mRR\u001b[39m\u001b[39m'\u001b[39m, \u001b[39m'\u001b[39m\u001b[39mRS\u001b[39m\u001b[39m'\u001b[39m, \u001b[39m'\u001b[39m\u001b[39mRL\u001b[39m\u001b[39m'\u001b[39m],\u001b[39m'\u001b[39m\u001b[39mP\u001b[39m\u001b[39m'\u001b[39m:[\u001b[39m'\u001b[39m\u001b[39mPP\u001b[39m\u001b[39m'\u001b[39m, \u001b[39m'\u001b[39m\u001b[39mPR\u001b[39m\u001b[39m'\u001b[39m, \u001b[39m'\u001b[39m\u001b[39mPY\u001b[39m\u001b[39m'\u001b[39m],\u001b[39m'\u001b[39m\u001b[39mL\u001b[39m\u001b[39m'\u001b[39m:[\u001b[39m'\u001b[39m\u001b[39mLL\u001b[39m\u001b[39m'\u001b[39m, \u001b[39m'\u001b[39m\u001b[39mLY\u001b[39m\u001b[39m'\u001b[39m, \u001b[39m'\u001b[39m\u001b[39mLP\u001b[39m\u001b[39m'\u001b[39m],\u001b[39m'\u001b[39m\u001b[39mY\u001b[39m\u001b[39m'\u001b[39m:[\u001b[39m'\u001b[39m\u001b[39mYY\u001b[39m\u001b[39m'\u001b[39m,\u001b[39m'\u001b[39m\u001b[39mYR\u001b[39m\u001b[39m'\u001b[39m,\u001b[39m'\u001b[39m\u001b[39mYS\u001b[39m\u001b[39m'\u001b[39m]}\n\u001b[0;32m      <a href='vscode-notebook-cell:/d%3A/Works_Space/Timeline/2023/06_June/RockPaperScissor/rockpaperscissor.ipynb#X16sZmlsZQ%3D%3D?line=3'>4</a>\u001b[0m newstr\u001b[39m=\u001b[39m\u001b[39m'\u001b[39m\u001b[39m'\u001b[39m\n\u001b[1;32m----> <a href='vscode-notebook-cell:/d%3A/Works_Space/Timeline/2023/06_June/RockPaperScissor/rockpaperscissor.ipynb#X16sZmlsZQ%3D%3D?line=4'>5</a>\u001b[0m \u001b[39mfor\u001b[39;00m i,j \u001b[39min\u001b[39;00m \u001b[39mzip\u001b[39;49m(style,arr):\n\u001b[0;32m      <a href='vscode-notebook-cell:/d%3A/Works_Space/Timeline/2023/06_June/RockPaperScissor/rockpaperscissor.ipynb#X16sZmlsZQ%3D%3D?line=5'>6</a>\u001b[0m     newstr\u001b[39m+\u001b[39m\u001b[39m=\u001b[39mpossibility[i][j]\n\u001b[0;32m      <a href='vscode-notebook-cell:/d%3A/Works_Space/Timeline/2023/06_June/RockPaperScissor/rockpaperscissor.ipynb#X16sZmlsZQ%3D%3D?line=6'>7</a>\u001b[0m \u001b[39mreturn\u001b[39;00m newstr\n",
      "\u001b[1;31mKeyboardInterrupt\u001b[0m: "
     ]
    }
   ],
   "source": [
    "a=generate('S',req) #r,p,s,l,y\n",
    "# print(finalWinner(a))\n",
    "a"
   ]
  },
  {
   "attachments": {},
   "cell_type": "markdown",
   "metadata": {},
   "source": [
    "### <font face='comic sans ms' color ='yellow'>Testing Arena</font>"
   ]
  },
  {
   "cell_type": "code",
   "execution_count": 37,
   "metadata": {},
   "outputs": [],
   "source": [
    "b='SPPPPPPRSPPRPRPRSLPRPRPRPRPRPRPY'"
   ]
  },
  {
   "cell_type": "code",
   "execution_count": 40,
   "metadata": {},
   "outputs": [
    {
     "data": {
      "text/plain": [
       "'SSSP'"
      ]
     },
     "execution_count": 40,
     "metadata": {},
     "output_type": "execute_result"
    }
   ],
   "source": [
    "b=afterOneRound(b)\n",
    "b"
   ]
  },
  {
   "cell_type": "code",
   "execution_count": 12,
   "metadata": {},
   "outputs": [
    {
     "data": {
      "text/plain": [
       "False"
      ]
     },
     "execution_count": 12,
     "metadata": {},
     "output_type": "execute_result"
    }
   ],
   "source": [
    "a"
   ]
  },
  {
   "cell_type": "code",
   "execution_count": 200,
   "metadata": {},
   "outputs": [
    {
     "data": {
      "text/plain": [
       "False"
      ]
     },
     "execution_count": 200,
     "metadata": {},
     "output_type": "execute_result"
    }
   ],
   "source": [
    "checkConditions('SS',[2,0,0,0,0])"
   ]
  },
  {
   "cell_type": "code",
   "execution_count": 179,
   "metadata": {},
   "outputs": [
    {
     "data": {
      "text/plain": [
       "['LL', 'LY', 'LP']"
      ]
     },
     "execution_count": 179,
     "metadata": {},
     "output_type": "execute_result"
    }
   ],
   "source": [
    "19R 2P 1S 6Y 4L"
   ]
  },
  {
   "cell_type": "code",
   "execution_count": 159,
   "metadata": {},
   "outputs": [],
   "source": [
    "a=[0,0]"
   ]
  },
  {
   "cell_type": "code",
   "execution_count": 168,
   "metadata": {},
   "outputs": [
    {
     "name": "stdout",
     "output_type": "stream",
     "text": [
      "False\n"
     ]
    },
    {
     "data": {
      "text/plain": [
       "[2, 2]"
      ]
     },
     "execution_count": 168,
     "metadata": {},
     "output_type": "execute_result"
    }
   ],
   "source": [
    "print(nextCombination(a))\n",
    "a"
   ]
  },
  {
   "cell_type": "code",
   "execution_count": 94,
   "metadata": {},
   "outputs": [
    {
     "data": {
      "text/plain": [
       "3"
      ]
     },
     "execution_count": 94,
     "metadata": {},
     "output_type": "execute_result"
    }
   ],
   "source": [
    "a.count(2)"
   ]
  },
  {
   "cell_type": "code",
   "execution_count": null,
   "metadata": {},
   "outputs": [],
   "source": [
    "3R 1P 5S 5Y 2L"
   ]
  },
  {
   "cell_type": "code",
   "execution_count": 15,
   "metadata": {},
   "outputs": [
    {
     "data": {
      "text/plain": [
       "'yryryr'"
      ]
     },
     "execution_count": 15,
     "metadata": {},
     "output_type": "execute_result"
    }
   ],
   "source": [
    "3*'yr'"
   ]
  },
  {
   "cell_type": "code",
   "execution_count": 16,
   "metadata": {},
   "outputs": [
    {
     "data": {
      "text/plain": [
       "'prprpr'"
      ]
     },
     "execution_count": 16,
     "metadata": {},
     "output_type": "execute_result"
    }
   ],
   "source": [
    "3*'pr'"
   ]
  },
  {
   "cell_type": "code",
   "execution_count": 19,
   "metadata": {},
   "outputs": [],
   "source": [
    "class ABC:\n",
    "    def setLength(self,l):\n",
    "        self.l=l\n",
    "    @property\n",
    "    def value(self):\n",
    "        return 4*self.l"
   ]
  },
  {
   "cell_type": "code",
   "execution_count": 20,
   "metadata": {},
   "outputs": [
    {
     "data": {
      "text/plain": [
       "20"
      ]
     },
     "execution_count": 20,
     "metadata": {},
     "output_type": "execute_result"
    }
   ],
   "source": [
    "obj=ABC()\n",
    "obj.setLength(5)\n",
    "obj.value"
   ]
  },
  {
   "cell_type": "code",
   "execution_count": 21,
   "metadata": {},
   "outputs": [
    {
     "data": {
      "text/plain": [
       "24"
      ]
     },
     "execution_count": 21,
     "metadata": {},
     "output_type": "execute_result"
    }
   ],
   "source": [
    "obj.setLength(6)\n",
    "obj.value"
   ]
  },
  {
   "cell_type": "markdown",
   "metadata": {},
   "source": [
    "## <font face='comic sans ms' color ='yellow'>Answers</font>"
   ]
  },
  {
   "cell_type": "code",
   "execution_count": null,
   "metadata": {},
   "outputs": [],
   "source": [
    "1R 16P 1S 14Y 0L\n",
    "[1, 16, 1, 0, 14]\n",
    "SPPRPYPYPYPYPYPYPYPYPYPYPYPYPYPY"
   ]
  }
 ],
 "metadata": {
  "kernelspec": {
   "display_name": "base",
   "language": "python",
   "name": "python3"
  },
  "language_info": {
   "codemirror_mode": {
    "name": "ipython",
    "version": 3
   },
   "file_extension": ".py",
   "mimetype": "text/x-python",
   "name": "python",
   "nbconvert_exporter": "python",
   "pygments_lexer": "ipython3",
   "version": "3.9.12"
  },
  "orig_nbformat": 4
 },
 "nbformat": 4,
 "nbformat_minor": 2
}
