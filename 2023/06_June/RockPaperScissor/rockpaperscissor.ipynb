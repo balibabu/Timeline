{
 "cells": [
  {
   "cell_type": "code",
   "execution_count": 1,
   "metadata": {},
   "outputs": [],
   "source": [
    "def expand(str1):\n",
    "    i=0\n",
    "    exp=''\n",
    "    num=''\n",
    "    while i!=len(str1):\n",
    "        if '0'<=str1[i]<='9':\n",
    "            num+=str1[i]\n",
    "        else:\n",
    "            if num=='': exp+=str1[i]\n",
    "            else:   exp+=str1[i]*int(num)\n",
    "            num=''\n",
    "        i+=1\n",
    "    return exp.upper()\n"
   ]
  },
  {
   "cell_type": "code",
   "execution_count": 2,
   "metadata": {},
   "outputs": [],
   "source": [
    "def fight(style):\n",
    "    style=style.upper()\n",
    "    rule={'R':'SL','P':'RY','S':'PL','Y':'RS','L':'PY'}\n",
    "    if style[1] in rule[style[0]]: \n",
    "        return style[0]\n",
    "    return style[1]"
   ]
  },
  {
   "cell_type": "code",
   "execution_count": 3,
   "metadata": {},
   "outputs": [],
   "source": [
    "def finalWinner(style):\n",
    "    while len(style)!=1:\n",
    "        temp=''\n",
    "        for i in range(0,len(style),2):\n",
    "            temp+=fight(style[i:i+2])\n",
    "        style=temp\n",
    "    return style"
   ]
  },
  {
   "attachments": {},
   "cell_type": "markdown",
   "metadata": {},
   "source": [
    "### <font face='comic sans ms' color ='magenta'>Reuable Code</font>"
   ]
  },
  {
   "cell_type": "code",
   "execution_count": 4,
   "metadata": {},
   "outputs": [
    {
     "data": {
      "text/plain": [
       "'SSSSSLL'"
      ]
     },
     "execution_count": 4,
     "metadata": {},
     "output_type": "execute_result"
    }
   ],
   "source": [
    "expand('5s2l')"
   ]
  },
  {
   "cell_type": "code",
   "execution_count": 242,
   "metadata": {},
   "outputs": [
    {
     "data": {
      "text/plain": [
       "'Y'"
      ]
     },
     "execution_count": 242,
     "metadata": {},
     "output_type": "execute_result"
    }
   ],
   "source": [
    "finalWinner('yy')"
   ]
  },
  {
   "attachments": {},
   "cell_type": "markdown",
   "metadata": {},
   "source": [
    "### <font face='comic sans ms' color ='magenta'>Method 1</font>"
   ]
  },
  {
   "cell_type": "code",
   "execution_count": 4,
   "metadata": {},
   "outputs": [],
   "source": [
    "def nextCombination(arr):\n",
    "    if arr.count(2)==len(arr): return False\n",
    "    i=len(arr)-1\n",
    "    while i>=0:\n",
    "        if arr[i]<2:\n",
    "            arr[i]+=1\n",
    "            break\n",
    "        else:\n",
    "            arr[i]=0\n",
    "            i-=1\n",
    "    return True"
   ]
  },
  {
   "cell_type": "code",
   "execution_count": 5,
   "metadata": {},
   "outputs": [],
   "source": [
    "def mapper(style,arr):\n",
    "    style=style.upper()\n",
    "    possibility={'S':['SS','PS','SL'],'R':['RR', 'RS', 'RL'],'P':['PP', 'RP', 'PY'],'L':['LL', 'LY', 'LP'],'Y':['YY','YR','YS']}\n",
    "    newstr=''\n",
    "    for i,j in zip(style,arr):\n",
    "        newstr+=possibility[i][j]\n",
    "    return newstr"
   ]
  },
  {
   "cell_type": "code",
   "execution_count": 6,
   "metadata": {},
   "outputs": [],
   "source": [
    "def checkConditions(style,amount): # R,P,S,L,Y\n",
    "    style=style.upper()\n",
    "    if style.count('R')!=amount[0]: return False\n",
    "    if style.count('P')!=amount[1]: return False\n",
    "    if style.count('S')!=amount[2]: return False\n",
    "    if style.count('L')!=amount[3]: return False\n",
    "    if style.count('Y')!=amount[4]: return False\n",
    "    return True"
   ]
  },
  {
   "cell_type": "code",
   "execution_count": 7,
   "metadata": {},
   "outputs": [],
   "source": [
    "def checkOverFlow(style,amount): # R,P,S,L,Y\n",
    "    style=style.upper()\n",
    "    if style.count('R')>amount[0]: return True\n",
    "    if style.count('P')>amount[1]: return True\n",
    "    if style.count('S')>amount[2]: return True\n",
    "    if style.count('L')>amount[3]: return True\n",
    "    if style.count('Y')>amount[4]: return True\n",
    "    return False"
   ]
  },
  {
   "cell_type": "code",
   "execution_count": 8,
   "metadata": {},
   "outputs": [],
   "source": [
    "def generate(style,amount):\n",
    "    arr=[0 for _ in style]\n",
    "    newStyle=mapper(style,arr)\n",
    "    while nextCombination(arr):\n",
    "        if not checkOverFlow(newStyle,amount):\n",
    "            if len(newStyle)==sum(amount):\n",
    "                if checkConditions(newStyle,amount): \n",
    "                    return newStyle\n",
    "                else: return False\n",
    "            else:\n",
    "                temp=generate(newStyle,amount)\n",
    "                if temp: return temp\n",
    "\n",
    "        newStyle=mapper(style,arr)\n",
    "    return False"
   ]
  },
  {
   "attachments": {},
   "cell_type": "markdown",
   "metadata": {},
   "source": [
    "### <font face='comic sans ms' color ='yellow'>Testing Arena</font>"
   ]
  },
  {
   "cell_type": "code",
   "execution_count": 9,
   "metadata": {},
   "outputs": [
    {
     "name": "stdout",
     "output_type": "stream",
     "text": [
      "S\n"
     ]
    },
    {
     "data": {
      "text/plain": [
       "'RRRRRRRPRRRRRRRPSLLYLYYRLYYRYRRR'"
      ]
     },
     "execution_count": 9,
     "metadata": {},
     "output_type": "execute_result"
    }
   ],
   "source": [
    "a=generate('S',[19,2,1,4,6])\n",
    "print(finalWinner(a))\n",
    "a"
   ]
  },
  {
   "cell_type": "code",
   "execution_count": 197,
   "metadata": {},
   "outputs": [
    {
     "data": {
      "text/plain": [
       "'RSPYPSPS'"
      ]
     },
     "execution_count": 197,
     "metadata": {},
     "output_type": "execute_result"
    }
   ],
   "source": [
    "mapper('RPSs',[1,2,1,1,0])"
   ]
  },
  {
   "cell_type": "code",
   "execution_count": 200,
   "metadata": {},
   "outputs": [
    {
     "data": {
      "text/plain": [
       "False"
      ]
     },
     "execution_count": 200,
     "metadata": {},
     "output_type": "execute_result"
    }
   ],
   "source": [
    "checkConditions('SS',[2,0,0,0,0])"
   ]
  },
  {
   "cell_type": "code",
   "execution_count": 179,
   "metadata": {},
   "outputs": [
    {
     "data": {
      "text/plain": [
       "['LL', 'LY', 'LP']"
      ]
     },
     "execution_count": 179,
     "metadata": {},
     "output_type": "execute_result"
    }
   ],
   "source": [
    "19R 2P 1S 6Y 4L"
   ]
  },
  {
   "cell_type": "code",
   "execution_count": 159,
   "metadata": {},
   "outputs": [],
   "source": [
    "a=[0,0]"
   ]
  },
  {
   "cell_type": "code",
   "execution_count": 168,
   "metadata": {},
   "outputs": [
    {
     "name": "stdout",
     "output_type": "stream",
     "text": [
      "False\n"
     ]
    },
    {
     "data": {
      "text/plain": [
       "[2, 2]"
      ]
     },
     "execution_count": 168,
     "metadata": {},
     "output_type": "execute_result"
    }
   ],
   "source": [
    "print(nextCombination(a))\n",
    "a"
   ]
  },
  {
   "cell_type": "code",
   "execution_count": 94,
   "metadata": {},
   "outputs": [
    {
     "data": {
      "text/plain": [
       "3"
      ]
     },
     "execution_count": 94,
     "metadata": {},
     "output_type": "execute_result"
    }
   ],
   "source": [
    "a.count(2)"
   ]
  },
  {
   "cell_type": "code",
   "execution_count": null,
   "metadata": {},
   "outputs": [],
   "source": [
    "3R 1P 5S 5Y 2L"
   ]
  },
  {
   "cell_type": "code",
   "execution_count": 15,
   "metadata": {},
   "outputs": [
    {
     "data": {
      "text/plain": [
       "'yryryr'"
      ]
     },
     "execution_count": 15,
     "metadata": {},
     "output_type": "execute_result"
    }
   ],
   "source": [
    "3*'yr'"
   ]
  },
  {
   "cell_type": "code",
   "execution_count": 16,
   "metadata": {},
   "outputs": [
    {
     "data": {
      "text/plain": [
       "'prprpr'"
      ]
     },
     "execution_count": 16,
     "metadata": {},
     "output_type": "execute_result"
    }
   ],
   "source": [
    "3*'pr'"
   ]
  },
  {
   "cell_type": "code",
   "execution_count": 19,
   "metadata": {},
   "outputs": [],
   "source": [
    "class ABC:\n",
    "    def setLength(self,l):\n",
    "        self.l=l\n",
    "    @property\n",
    "    def value(self):\n",
    "        return 4*self.l"
   ]
  },
  {
   "cell_type": "code",
   "execution_count": 20,
   "metadata": {},
   "outputs": [
    {
     "data": {
      "text/plain": [
       "20"
      ]
     },
     "execution_count": 20,
     "metadata": {},
     "output_type": "execute_result"
    }
   ],
   "source": [
    "obj=ABC()\n",
    "obj.setLength(5)\n",
    "obj.value"
   ]
  },
  {
   "cell_type": "code",
   "execution_count": 21,
   "metadata": {},
   "outputs": [
    {
     "data": {
      "text/plain": [
       "24"
      ]
     },
     "execution_count": 21,
     "metadata": {},
     "output_type": "execute_result"
    }
   ],
   "source": [
    "obj.setLength(6)\n",
    "obj.value"
   ]
  },
  {
   "cell_type": "code",
   "execution_count": null,
   "metadata": {},
   "outputs": [],
   "source": []
  }
 ],
 "metadata": {
  "kernelspec": {
   "display_name": "base",
   "language": "python",
   "name": "python3"
  },
  "language_info": {
   "codemirror_mode": {
    "name": "ipython",
    "version": 3
   },
   "file_extension": ".py",
   "mimetype": "text/x-python",
   "name": "python",
   "nbconvert_exporter": "python",
   "pygments_lexer": "ipython3",
   "version": "3.9.12"
  },
  "orig_nbformat": 4
 },
 "nbformat": 4,
 "nbformat_minor": 2
}
