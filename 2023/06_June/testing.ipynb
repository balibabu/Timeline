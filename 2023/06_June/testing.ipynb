{
 "cells": [
  {
   "cell_type": "code",
   "execution_count": 6,
   "metadata": {},
   "outputs": [],
   "source": [
    "import cv2\n",
    "import numpy as np\n",
    "\n",
    "# Create a black image\n",
    "image = np.zeros((512, 512, 3), dtype=\"uint8\")\n",
    "\n",
    "# Set the starting and ending points of the line\n",
    "start_point = (0, 0)\n",
    "end_point = (512, 512)\n",
    "point1=(100,100)\n",
    "# Draw the line on the image\n",
    "cv2.line(image, start_point, end_point, (0, 0, 255), thickness=3)\n",
    "cv2.putText(image, f'{(point1)}', point1, cv2.FONT_HERSHEY_SIMPLEX,.3, 200, 1, cv2.LINE_AA)\n",
    "\n",
    "# Display the image\n",
    "cv2.imshow(\"Line\", image)\n",
    "cv2.waitKey(0)\n",
    "cv2.destroyAllWindows()"
   ]
  },
  {
   "cell_type": "code",
   "execution_count": null,
   "metadata": {},
   "outputs": [],
   "source": []
  }
 ],
 "metadata": {
  "kernelspec": {
   "display_name": "base",
   "language": "python",
   "name": "python3"
  },
  "language_info": {
   "codemirror_mode": {
    "name": "ipython",
    "version": 3
   },
   "file_extension": ".py",
   "mimetype": "text/x-python",
   "name": "python",
   "nbconvert_exporter": "python",
   "pygments_lexer": "ipython3",
   "version": "3.9.12"
  },
  "orig_nbformat": 4
 },
 "nbformat": 4,
 "nbformat_minor": 2
}
