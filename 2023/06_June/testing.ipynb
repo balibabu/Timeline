{
 "cells": [
  {
   "cell_type": "code",
   "execution_count": 6,
   "metadata": {},
   "outputs": [],
   "source": [
    "import cv2\n",
    "import numpy as np\n",
    "\n",
    "# Create a black image\n",
    "image = np.zeros((512, 512, 3), dtype=\"uint8\")\n",
    "\n",
    "# Set the starting and ending points of the line\n",
    "start_point = (0, 0)\n",
    "end_point = (512, 512)\n",
    "point1=(100,100)\n",
    "# Draw the line on the image\n",
    "cv2.line(image, start_point, end_point, (0, 0, 255), thickness=3)\n",
    "cv2.putText(image, f'{(point1)}', point1, cv2.FONT_HERSHEY_SIMPLEX,.3, 200, 1, cv2.LINE_AA)\n",
    "\n",
    "# Display the image\n",
    "cv2.imshow(\"Line\", image)\n",
    "cv2.waitKey(0)\n",
    "cv2.destroyAllWindows()"
   ]
  },
  {
   "cell_type": "code",
   "execution_count": 9,
   "metadata": {},
   "outputs": [
    {
     "data": {
      "text/plain": [
       "1994"
      ]
     },
     "execution_count": 9,
     "metadata": {},
     "output_type": "execute_result"
    }
   ],
   "source": [
    "1*2+2*4+3*8+4*16+5*32+6*64+7*128+8*57"
   ]
  },
  {
   "cell_type": "code",
   "execution_count": 7,
   "metadata": {},
   "outputs": [
    {
     "data": {
      "text/plain": [
       "456"
      ]
     },
     "execution_count": 7,
     "metadata": {},
     "output_type": "execute_result"
    }
   ],
   "source": [
    "1994-1538"
   ]
  },
  {
   "cell_type": "code",
   "execution_count": 8,
   "metadata": {},
   "outputs": [
    {
     "data": {
      "text/plain": [
       "57.0"
      ]
     },
     "execution_count": 8,
     "metadata": {},
     "output_type": "execute_result"
    }
   ],
   "source": [
    "456/8"
   ]
  },
  {
   "cell_type": "code",
   "execution_count": 16,
   "metadata": {},
   "outputs": [
    {
     "data": {
      "text/plain": [
       "13.000000000000002"
      ]
     },
     "execution_count": 16,
     "metadata": {},
     "output_type": "execute_result"
    }
   ],
   "source": [
    "rt5=pow(5,.5)\n",
    "n=7\n",
    "(1/rt5)*(pow((1+rt5)/2,n)-pow((1-rt5)/2,n))"
   ]
  },
  {
   "cell_type": "code",
   "execution_count": 3,
   "metadata": {},
   "outputs": [
    {
     "name": "stdout",
     "output_type": "stream",
     "text": [
      "5\n",
      "1 6\n",
      "2 6\n",
      "3 6\n",
      "4 7\n",
      "5 6\n"
     ]
    }
   ],
   "source": [
    "def calculate_bill(start, end, prices, power):\n",
    "    bill = 0\n",
    "    for i in range(start, end+1):\n",
    "        bill += prices[i] * power\n",
    "    return bill\n",
    "\n",
    "\n",
    "maxPower = int(input())\n",
    "maxElectricityBill = int(input())\n",
    "N = int(input())\n",
    "prices = [int(input()) for _ in range(N)]\n",
    "M = int(input())\n",
    "\n",
    "output = []\n",
    "\n",
    "for _ in range(M):\n",
    "    taskId, power, startInterval, endInterval = map(int, input().split())\n",
    "\n",
    "    minBill = float('inf')\n",
    "    minMinutes = []\n",
    "\n",
    "    for i in range(startInterval, endInterval+1):\n",
    "        for j in range(i, endInterval+1):\n",
    "            bill = calculate_bill(i, j, prices, power)\n",
    "            if bill <= maxElectricityBill and bill < minBill:\n",
    "                minBill = bill\n",
    "                minMinutes = [x for x in range(i, j+1)]\n",
    "\n",
    "    output.append([taskId] + minMinutes)\n",
    "\n",
    "print(len(output))\n",
    "for task in output:\n",
    "    print(' '.join(map(str, task)))\n"
   ]
  },
  {
   "cell_type": "code",
   "execution_count": null,
   "metadata": {},
   "outputs": [],
   "source": [
    "def calculate_bill(start, end, prices, power):\n",
    "    bill = 0\n",
    "    for i in range(start, end + 1):\n",
    "        bill += prices[i] * power\n",
    "    return bill\n",
    "\n",
    "\n",
    "maxPower = int(input())\n",
    "maxElectricityBill = int(input())\n",
    "N = int(input())\n",
    "prices = [int(input()) for _ in range(N)]\n",
    "M = int(input())\n",
    "\n",
    "output = []\n",
    "\n",
    "for _ in range(M):\n",
    "    taskId, power, startInterval, endInterval = map(int, input().split())\n",
    "\n",
    "    minBill = float('inf')\n",
    "    minMinutes = []\n",
    "\n",
    "    for i in range(startInterval, endInterval + 1):\n",
    "        for j in range(i, endInterval + 1):\n",
    "            bill = calculate_bill(i - 1, j - 1, prices, power)  # Adjusted indices for 0-based indexing\n",
    "            if bill <= maxElectricityBill and bill < minBill:\n",
    "                minBill = bill\n",
    "                minMinutes = [x for x in range(i, j + 1)]\n",
    "\n",
    "    output.append([taskId] + minMinutes)\n",
    "\n",
    "print(len(output))\n",
    "for task in output:\n",
    "    print(' '.join(map(str, task)))\n"
   ]
  }
 ],
 "metadata": {
  "kernelspec": {
   "display_name": "base",
   "language": "python",
   "name": "python3"
  },
  "language_info": {
   "codemirror_mode": {
    "name": "ipython",
    "version": 3
   },
   "file_extension": ".py",
   "mimetype": "text/x-python",
   "name": "python",
   "nbconvert_exporter": "python",
   "pygments_lexer": "ipython3",
   "version": "3.9.12"
  },
  "orig_nbformat": 4
 },
 "nbformat": 4,
 "nbformat_minor": 2
}
