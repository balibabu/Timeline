{
 "cells": [
  {
   "cell_type": "code",
   "execution_count": 1,
   "metadata": {},
   "outputs": [],
   "source": [
    "import cv2\n",
    "import numpy as np\n",
    "import copy\n",
    "\n",
    "class Visualize:\n",
    "\n",
    "    def __init__(self,mat):\n",
    "        self.mat=mat\n",
    "        self.row=len(mat)\n",
    "        self.col=len(mat[0])\n",
    "        self.image=np.zeros((self.row*50,2*(self.col*50)//3, 1), dtype=\"uint8\")\n",
    "        self.radius=28\n",
    "        self.drawHexArray()\n",
    "    \n",
    "    def show(self,wait=0):\n",
    "        cv2.imshow('imaging',self.image)\n",
    "        cv2.waitKey(wait)\n",
    "        cv2.destroyAllWindows()\n",
    "\n",
    "    def drawHexagone(self,center):\n",
    "        vertices = []\n",
    "        for i in range(6):\n",
    "            x = int(center[0] + self.radius * np.cos(np.radians(i * 60 + 30)))\n",
    "            y = int(center[1] + self.radius * np.sin(np.radians(i * 60 + 30)))\n",
    "            vertices.append((x, y))\n",
    "        pts = np.array(vertices, np.int32)\n",
    "        pts = pts.reshape((-1, 1, 2))\n",
    "        cv2.polylines(self.image, [pts], isClosed=True, color=150, thickness=2)\n",
    "\n",
    "    def refactorPoint(self,i,j):\n",
    "        gap=25 if i%2==0 else 50\n",
    "        center=(gap+50*j,self.radius+i*40)\n",
    "        return center\n",
    "\n",
    "    def drawHexArray(self):\n",
    "        newMat=[]\n",
    "        for row in self.mat:\n",
    "            col=row.split('-')\n",
    "            while '' in col: col.remove('')\n",
    "            newMat.append(col)\n",
    "        n,m=len(newMat),len(newMat[0])\n",
    "        for i in range(n):\n",
    "            for j in range(m):\n",
    "                center=self.refactorPoint(i,j)\n",
    "                self.drawHexagone(center)\n",
    "                org=center[0]-12,center[1]+7\n",
    "                cv2.putText(self.image, newMat[i][j], org, cv2.FONT_HERSHEY_SIMPLEX, fontScale=.8, color=200, thickness=2)\n",
    "\n",
    "    def showPath(self,list1,speed=200):\n",
    "        copied_image = copy.deepcopy(self.image)\n",
    "        for i in range(len(list1)-1):\n",
    "            x1,y1=list1[i][0],list1[i][1]//2\n",
    "            x2,y2=list1[i+1][0],list1[i+1][1]//2\n",
    "            start=self.refactorPoint(x1,y1)\n",
    "            end=self.refactorPoint(x2,y2)\n",
    "            cv2.line(self.image, start, end, color=250, thickness=4)\n",
    "            cv2.imshow('imaging',self.image)\n",
    "            cv2.waitKey(speed)\n",
    "        self.image=copied_image\n",
    "        cv2.destroyAllWindows()"
   ]
  },
  {
   "cell_type": "code",
   "execution_count": 2,
   "metadata": {},
   "outputs": [],
   "source": [
    "mat=['O-X-X-X-X-X-O-',\n",
    " '-X-O-W-O-X-O-O',\n",
    " 'O-O-O-O-O-O-X-',\n",
    " '-O-O-O-X-O-O-O',\n",
    " 'O-O-X-O-X-O-O-',\n",
    " '-O-X-X-X-O-O-X']"
   ]
  },
  {
   "cell_type": "code",
   "execution_count": 3,
   "metadata": {},
   "outputs": [
    {
     "name": "stdout",
     "output_type": "stream",
     "text": [
      "free nebors of wasp: [(1, 3), (1, 7), (2, 6), (2, 4)]\n"
     ]
    }
   ],
   "source": [
    "from hive import Hive\n",
    "hive=Hive(mat)\n",
    "wasp=hive.getWaspPosition()\n",
    "fNebors=hive.freeNeibors(*wasp)\n",
    "edges=hive.getEdges()\n",
    "print('free nebors of wasp:',fNebors)"
   ]
  },
  {
   "cell_type": "code",
   "execution_count": 4,
   "metadata": {},
   "outputs": [],
   "source": [
    "def difference(list1,list2):\n",
    "    newList=[]\n",
    "    for item in list1:\n",
    "        if item not in list2:\n",
    "            newList.append(item)\n",
    "    return newList"
   ]
  },
  {
   "cell_type": "code",
   "execution_count": 5,
   "metadata": {},
   "outputs": [],
   "source": [
    "def barrierPath(hive,barrier,path,endPoint,placedBarriers,oldNebors=[]): # path should contain atleast starting point\n",
    "    if barrier<0: return False\n",
    "    \n",
    "    \n",
    "    nebors=hive.blockedNeibors(*path[-1])\n",
    "    nebors=difference(nebors,oldNebors)\n",
    "    for nebor in nebors:\n",
    "        path.append(nebor)\n",
    "        oldNebors.append(nebor)\n",
    "        if barrierPath(hive,barrier,path,endPoint,placedBarriers,oldNebors):\n",
    "            return True\n",
    "        path.pop()\n",
    "\n",
    "    freeNebors=hive.freeNeibors(*path[-1])\n",
    "    barrier-=1\n",
    "    for nebor in freeNebors:\n",
    "        path.append(nebor)\n",
    "        oldNebors.append(nebor)\n",
    "        placedBarriers.append(nebor)\n",
    "        if barrierPath(hive,barrier,path,endPoint,placedBarriers,oldNebors):\n",
    "            return True\n",
    "        path.pop()\n",
    "        oldNebors.pop()\n",
    "        placedBarriers.pop()\n",
    "    return False"
   ]
  },
  {
   "cell_type": "code",
   "execution_count": 6,
   "metadata": {},
   "outputs": [
    {
     "data": {
      "text/plain": [
       "False"
      ]
     },
     "execution_count": 6,
     "metadata": {},
     "output_type": "execute_result"
    }
   ],
   "source": [
    "barrier=3\n",
    "path=[(0,4)]\n",
    "endPoint=(0,2)\n",
    "oldNebors=[(0,2),(0,4)]\n",
    "placedBarriers=[]\n",
    "barrierPath(hive,barrier,path,endPoint,placedBarriers,oldNebors)"
   ]
  },
  {
   "cell_type": "code",
   "execution_count": 7,
   "metadata": {},
   "outputs": [
    {
     "data": {
      "text/plain": [
       "[(0, 4), (1, 1)]"
      ]
     },
     "execution_count": 7,
     "metadata": {},
     "output_type": "execute_result"
    }
   ],
   "source": [
    "hive.blockedNeibors(0,2)"
   ]
  },
  {
   "cell_type": "code",
   "execution_count": null,
   "metadata": {},
   "outputs": [],
   "source": []
  },
  {
   "cell_type": "code",
   "execution_count": null,
   "metadata": {},
   "outputs": [],
   "source": []
  }
 ],
 "metadata": {
  "kernelspec": {
   "display_name": "base",
   "language": "python",
   "name": "python3"
  },
  "language_info": {
   "codemirror_mode": {
    "name": "ipython",
    "version": 3
   },
   "file_extension": ".py",
   "mimetype": "text/x-python",
   "name": "python",
   "nbconvert_exporter": "python",
   "pygments_lexer": "ipython3",
   "version": "3.9.12"
  },
  "orig_nbformat": 4
 },
 "nbformat": 4,
 "nbformat_minor": 2
}
