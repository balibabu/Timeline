{
 "cells": [
  {
   "cell_type": "code",
   "execution_count": 2,
   "metadata": {},
   "outputs": [],
   "source": [
    "class Hive:\n",
    "\n",
    "    def __init__(self,hive):\n",
    "        self.hive=hive\n",
    "        self.rows=len(hive)\n",
    "        self.cols=len(hive[0])\n",
    "    \n",
    "    def getWaspPosition(self):\n",
    "        for i in range(self.rows):\n",
    "            for j in range(self.cols):\n",
    "                if self.hive[i][j]=='W':\n",
    "                    return (i,j)\n",
    "        return None\n",
    "\n",
    "    def getNeibors(self,i,j):\n",
    "        neibors=[(i-1,j-1),(i+1,j-1),(i-1,j+1),(i+1,j+1),(i,j-2),(i,j+2)]\n",
    "        i=0\n",
    "        while i<len(neibors):\n",
    "            x,y=neibors[i]\n",
    "            if x<0 or x>=self.rows or y<0 or y>=self.cols:#checking validity\n",
    "                neibors.pop(i)\n",
    "            else:\n",
    "                i+=1\n",
    "        return neibors\n",
    "\n",
    "    def freeNeibors(self,i,j):\n",
    "        neibors=self.getNeibors(i,j)\n",
    "        fNeibors=[]\n",
    "        for x,y in neibors:\n",
    "            if self.hive[x][y]=='O': fNeibors.append((x,y))\n",
    "        return fNeibors\n",
    "\n",
    "    def getEdges(self):\n",
    "        edges=[]\n",
    "        for i in range(0,self.cols,2):\n",
    "            edges.append((0,i))\n",
    "            edges.append((self.rows-1,i+1))\n",
    "        for i in range(1,self.rows-1):\n",
    "            edges.append((i,int(i%2==1)))\n",
    "            edges.append((i,self.cols-int(i%2==0)-1))\n",
    "        return edges\n",
    "                "
   ]
  },
  {
   "attachments": {},
   "cell_type": "markdown",
   "metadata": {},
   "source": [
    "## <font face='comic sans ms' color ='yellow'>Level 3</font>"
   ]
  },
  {
   "cell_type": "code",
   "execution_count": null,
   "metadata": {},
   "outputs": [],
   "source": [
    "def getPosition(matrix):\n",
    "    for i in range(len(matrix)):\n",
    "        for j in range(len(matrix[i])):\n",
    "            if matrix[i][j]=='W':\n",
    "                return (i,j)\n",
    "    return None"
   ]
  },
  {
   "cell_type": "code",
   "execution_count": null,
   "metadata": {},
   "outputs": [],
   "source": [
    "def uniDirEscape(mat,xstep,ystep):\n",
    "    i,j=getPosition(mat)\n",
    "    while True:\n",
    "        i,j=i+xstep,j+ystep\n",
    "        if i<0 or i>=len(mat) or j<0 or j>=len(mat[0]): break\n",
    "        if mat[i][j]=='X': \n",
    "            return False\n",
    "    return True"
   ]
  },
  {
   "cell_type": "code",
   "execution_count": null,
   "metadata": {},
   "outputs": [],
   "source": [
    "a='''X-X-X-X-X-O-O-O-\n",
    "-X-W-O-O-O-O-O-O\n",
    "X-O-O-O-O-X-X-X-\n",
    "-O-X-X-O-X-X-O-X\n",
    "X-X-X-O-X-X-X-X-\n",
    "-X-X-O-X-X-X-O-O\n",
    "X-X-X-X-X-X-O-O-\n",
    "-X-X-O-X-O-O-O-O'''\n",
    "mat=a.split('\\n')\n",
    "for i in mat:\n",
    "    for j in i:\n",
    "        print(j,end=' ')\n",
    "    print()"
   ]
  },
  {
   "cell_type": "code",
   "execution_count": null,
   "metadata": {},
   "outputs": [],
   "source": [
    "uniDirEscape(mat,0,2)"
   ]
  },
  {
   "cell_type": "code",
   "execution_count": null,
   "metadata": {},
   "outputs": [],
   "source": [
    "def canEscape(mat):\n",
    "    if uniDirEscape(mat,-1,-1): return True\n",
    "    if uniDirEscape(mat,1,-1): return True\n",
    "    if uniDirEscape(mat,-1,1): return True\n",
    "    if uniDirEscape(mat,1,1): return True\n",
    "    if uniDirEscape(mat,0,-2): return True\n",
    "    if uniDirEscape(mat,0,2): return True\n",
    "    return False"
   ]
  },
  {
   "cell_type": "code",
   "execution_count": null,
   "metadata": {},
   "outputs": [],
   "source": [
    "data=open('level3_5.in')\n",
    "lines=data.read().split('\\n\\n')\n",
    "\n",
    "str1=''\n",
    "for i in range(int(lines[0])):\n",
    "    que1=lines[i+1]\n",
    "    mat=que1.split('\\n')\n",
    "    trap='FREE' if canEscape(mat) else 'TRAPPED'\n",
    "    print(i+1,trap)\n",
    "    # printing(mat)\n",
    "    str1+='%s\\n'%(trap)\n"
   ]
  },
  {
   "cell_type": "code",
   "execution_count": null,
   "metadata": {},
   "outputs": [],
   "source": [
    "file=open('output.txt','w')\n",
    "file.write(str1)\n",
    "file.close()"
   ]
  },
  {
   "cell_type": "code",
   "execution_count": null,
   "metadata": {},
   "outputs": [],
   "source": [
    "file1=open('level3_5.out')\n",
    "file2=open('output.txt')\n",
    "content1=file1.readlines()\n",
    "content2=file2.readlines()\n",
    "for i,j in zip(content1,content2):\n",
    "    if i==j : print(i,j)"
   ]
  },
  {
   "attachments": {},
   "cell_type": "markdown",
   "metadata": {},
   "source": [
    "## <font face='comic sans ms' color ='yellow'>level 4</font>"
   ]
  },
  {
   "cell_type": "code",
   "execution_count": null,
   "metadata": {},
   "outputs": [],
   "source": [
    "def getPosition(matrix):\n",
    "    for i in range(len(matrix)):\n",
    "        for j in range(len(matrix[i])):\n",
    "            if matrix[i][j]=='W':\n",
    "                return (i,j)\n",
    "    return None"
   ]
  },
  {
   "cell_type": "code",
   "execution_count": null,
   "metadata": {},
   "outputs": [],
   "source": [
    "\n",
    "def uniDirEscape(mat,xstep,ystep):\n",
    "    i,j=getPosition(mat)\n",
    "    while True:\n",
    "        i,j=i+xstep,j+ystep\n",
    "        if i<0 or i>=len(mat) or j<0 or j>=len(mat[0]): break\n",
    "        if mat[i][j]=='X': \n",
    "            return False\n",
    "    return True\n",
    "\n",
    "def canEscape(mat):\n",
    "    if uniDirEscape(mat,-1,-1): return True\n",
    "    if uniDirEscape(mat,1,-1): return True\n",
    "    if uniDirEscape(mat,-1,1): return True\n",
    "    if uniDirEscape(mat,1,1): return True\n",
    "    if uniDirEscape(mat,0,-2): return True\n",
    "    if uniDirEscape(mat,0,2): return True\n",
    "    return False"
   ]
  },
  {
   "cell_type": "code",
   "execution_count": null,
   "metadata": {},
   "outputs": [],
   "source": [
    "data=open('level4/level4_3.in')\n",
    "lines=data.read().split('\\n\\n')"
   ]
  },
  {
   "cell_type": "code",
   "execution_count": null,
   "metadata": {},
   "outputs": [],
   "source": [
    "\n",
    "str1=''\n",
    "for i in range(int(lines[0])):\n",
    "    que1=lines[i+1]\n",
    "    mat=que1.split('\\n')\n",
    "    trap='FREE' if canEscape(mat) else 'TRAPPED'\n",
    "    str1+='%s\\n'%(trap)\n",
    "\n",
    "file=open('output.txt','w')\n",
    "file.write(str1)\n",
    "file.close()"
   ]
  },
  {
   "cell_type": "code",
   "execution_count": null,
   "metadata": {},
   "outputs": [],
   "source": [
    "def escape(hive,wasp,edges,neibors=[]):\n",
    "    if wasp in edges: return True\n",
    "    nebors=hive.freeNeibors(wasp[0],wasp[1])\n",
    "    new_nebors=[]\n",
    "    for nebor in nebors:\n",
    "        if nebor not in neibors: \n",
    "            new_nebors.append(nebor)\n",
    "    \n",
    "    for nebor in new_nebors:\n",
    "        if escape(hive,nebor,edges,neibors+new_nebors):\n",
    "            return True\n",
    "    return False\n",
    "        "
   ]
  },
  {
   "cell_type": "code",
   "execution_count": null,
   "metadata": {},
   "outputs": [],
   "source": [
    "mat=lines[-1].strip().split('\\n')\n",
    "for i in mat:\n",
    "    for j in i:\n",
    "        print(j,end=' ')\n",
    "    print()"
   ]
  },
  {
   "attachments": {},
   "cell_type": "markdown",
   "metadata": {},
   "source": [
    "## <font face='comic sans ms' color ='yellow'>Level 5</font>"
   ]
  },
  {
   "cell_type": "code",
   "execution_count": null,
   "metadata": {},
   "outputs": [],
   "source": [
    "def method1(mat,neibors):\n",
    "    for x,y in neibors:\n",
    "        chars=[i for i in mat[x]]\n",
    "        chars[y]='X'\n",
    "        mat[x]=''.join(chars)"
   ]
  },
  {
   "cell_type": "code",
   "execution_count": 76,
   "metadata": {},
   "outputs": [],
   "source": [
    "def method2(mat,hive,wasp,edges,barrier):\n",
    "    freeNebors=hive.freeNeibors(*wasp)\n",
    "    blocker=[]\n",
    "    while escape(hive,wasp,edges,blocker) and barrier!=0:\n",
    "        barrier-=1\n",
    "        for point in blocker:\n",
    "            fN=hive.freeNeibors(*point)\n",
    "            nebors=set(fN).difference(set(freeNebors))\n",
    "            if len(nebors)==1:\n",
    "                method1(mat,[point])\n",
    "                break\n",
    "        blocker=[]"
   ]
  },
  {
   "cell_type": "code",
   "execution_count": null,
   "metadata": {},
   "outputs": [],
   "source": [
    "hive=Hive(mat)\n",
    "wasp=hive.getWaspPosition()\n",
    "fNebors=hive.freeNeibors(*wasp)\n",
    "edges=hive.getEdges()\n",
    "blocker=[]\n"
   ]
  },
  {
   "cell_type": "code",
   "execution_count": null,
   "metadata": {},
   "outputs": [],
   "source": [
    "escape(hive,wasp,edges,blocker)"
   ]
  },
  {
   "cell_type": "code",
   "execution_count": null,
   "metadata": {},
   "outputs": [],
   "source": [
    "method1(mat,[(11,15)])"
   ]
  },
  {
   "cell_type": "code",
   "execution_count": null,
   "metadata": {},
   "outputs": [],
   "source": [
    "{(1,2),(3,4)}.difference({(3,4),(5,1)})"
   ]
  },
  {
   "cell_type": "code",
   "execution_count": 77,
   "metadata": {},
   "outputs": [],
   "source": [
    "def applyBarrier(mat,barrier):\n",
    "    hive=Hive(mat)\n",
    "    wasp=hive.getWaspPosition()\n",
    "    fNebors=hive.freeNeibors(*wasp)\n",
    "\n",
    "    if len(fNebors)==barrier:\n",
    "        method1(mat,fNebors)\n",
    "        return\n",
    "\n",
    "    edges=hive.getEdges()\n",
    "    edgeNeibors=[]\n",
    "    for point in fNebors:\n",
    "        if point in edges:\n",
    "            edgeNeibors.append(point)\n",
    "    barrier-=len(edgeNeibors)\n",
    "    method1(mat,edgeNeibors)\n",
    "    if barrier==0: return\n",
    "    method2(mat,hive,wasp,edges,barrier)"
   ]
  },
  {
   "cell_type": "code",
   "execution_count": 61,
   "metadata": {},
   "outputs": [],
   "source": [
    "def escape(hive,wasp,edges,blocker,neibors=[]):\n",
    "    if wasp in edges: return True\n",
    "    nebors=hive.freeNeibors(*wasp)\n",
    "    new_nebors=[]\n",
    "    for nebor in nebors:\n",
    "        if nebor not in neibors: \n",
    "            new_nebors.append(nebor)\n",
    "    \n",
    "    for nebor in new_nebors:\n",
    "        if escape(hive,nebor,edges,blocker,neibors+new_nebors):\n",
    "            blocker.insert(0,nebor)\n",
    "            return True\n",
    "    return False\n",
    "        "
   ]
  },
  {
   "cell_type": "code",
   "execution_count": 4,
   "metadata": {},
   "outputs": [
    {
     "data": {
      "text/plain": [
       "'2'"
      ]
     },
     "execution_count": 4,
     "metadata": {},
     "output_type": "execute_result"
    }
   ],
   "source": [
    "q=lines[2].split('\\n')\n",
    "mat=q[1:]\n",
    "q[0]"
   ]
  },
  {
   "cell_type": "code",
   "execution_count": 7,
   "metadata": {},
   "outputs": [
    {
     "ename": "NameError",
     "evalue": "name 'printing' is not defined",
     "output_type": "error",
     "traceback": [
      "\u001b[1;31m---------------------------------------------------------------------------\u001b[0m",
      "\u001b[1;31mNameError\u001b[0m                                 Traceback (most recent call last)",
      "\u001b[1;32md:\\Works_Space\\Timeline\\2023\\06_June\\HoneyComb\\honey.ipynb Cell 28\u001b[0m in \u001b[0;36m<cell line: 1>\u001b[1;34m()\u001b[0m\n\u001b[1;32m----> <a href='vscode-notebook-cell:/d%3A/Works_Space/Timeline/2023/06_June/HoneyComb/honey.ipynb#X32sZmlsZQ%3D%3D?line=0'>1</a>\u001b[0m printing(mat)\n",
      "\u001b[1;31mNameError\u001b[0m: name 'printing' is not defined"
     ]
    }
   ],
   "source": [
    "printing(mat)"
   ]
  },
  {
   "cell_type": "code",
   "execution_count": 80,
   "metadata": {},
   "outputs": [],
   "source": [
    "applyBarrier(mat,int(q[0]))"
   ]
  },
  {
   "cell_type": "code",
   "execution_count": 54,
   "metadata": {},
   "outputs": [
    {
     "name": "stdout",
     "output_type": "stream",
     "text": [
      "[(7, 11), (6, 10)]\n"
     ]
    }
   ],
   "source": [
    "hive=Hive(mat)\n",
    "wasp=hive.getWaspPosition()\n",
    "fNebors=hive.freeNeibors(*wasp)\n",
    "print(fNebors)"
   ]
  },
  {
   "cell_type": "code",
   "execution_count": 3,
   "metadata": {},
   "outputs": [],
   "source": [
    "data=open('level5/level5_example.in')\n",
    "lines=data.read().split('\\n\\n')"
   ]
  },
  {
   "cell_type": "code",
   "execution_count": 64,
   "metadata": {},
   "outputs": [
    {
     "name": "stdout",
     "output_type": "stream",
     "text": [
      "que no.1 3\n",
      "O - O - X - X - X - O - X - X - O - O - \n",
      "- O - O - X - X - O - O - O - X - X - X \n",
      "X - X - X - X - O - X - X - O - O - O - \n",
      "- O - O - X - O - O - O - X - X - O - X \n",
      "X - O - O - X - O - O - O - O - X - O - \n",
      "- O - X - W - O - O - O - O - X - O - O \n",
      "O - O - X - O - O - X - X - O - O - O - \n",
      "- X - X - X - O - X - O - X - X - O - X \n",
      "X - O - X - X - O - X - X - X - O - X - \n",
      "- O - X - O - X - X - X - X - O - X - O \n",
      "O - X - X - O - O - X - O - O - X - O - \n",
      "- X - X - O - O - O - X - X - O - X - O \n",
      "\n",
      "que no.2 0\n",
      "O - X - O - O - O - X - X - X - O - X - \n",
      "- X - X - X - O - O - X - O - O - X - O \n",
      "O - O - X - O - X - X - O - X - X - X - \n",
      "- X - O - X - O - X - X - O - O - O - O \n",
      "O - X - O - X - X - O - O - O - O - O - \n",
      "- X - X - O - O - X - X - X - O - X - O \n",
      "O - O - O - X - O - O - O - X - X - X - \n",
      "- O - X - O - X - X - X - X - O - X - X \n",
      "O - O - O - X - O - O - X - X - W - X - \n",
      "- X - O - O - X - O - X - O - X - X - O \n",
      "X - X - X - X - O - X - O - O - O - O - \n",
      "- X - X - X - X - X - X - X - X - X - X \n",
      "\n",
      "que no.3 3\n",
      "O - O - O - X - X - X - X - X - X - X - \n",
      "- O - X - O - O - O - O - O - X - X - O \n",
      "O - O - O - O - O - O - X - O - X - O - \n",
      "- O - X - X - X - O - O - X - O - O - O \n",
      "O - X - O - X - O - X - O - X - X - X - \n",
      "- X - O - O - O - X - O - X - X - O - O \n",
      "O - X - O - X - X - X - X - O - O - X - \n",
      "- O - O - O - X - X - O - O - X - O - O \n",
      "X - X - X - O - X - X - X - X - O - X - \n",
      "- O - O - O - X - O - O - X - O - W - X \n",
      "O - O - O - O - X - X - X - X - O - O - \n",
      "- X - X - O - O - X - O - O - O - X - X \n",
      "\n",
      "que no.4 4\n",
      "O - O - X - X - O - O - X - O - O - O - \n",
      "- O - O - O - O - X - X - X - O - O - O \n",
      "O - X - X - X - O - X - O - O - O - O - \n",
      "- O - O - O - O - O - X - O - O - X - X \n",
      "O - O - O - X - O - O - O - X - O - X - \n",
      "- O - X - X - O - X - X - X - X - O - O \n",
      "X - O - X - O - O - O - O - O - O - O - \n",
      "- O - X - O - O - O - X - O - O - O - O \n",
      "X - O - X - X - O - X - O - X - O - X - \n",
      "- O - X - X - O - O - X - O - X - O - O \n",
      "X - O - W - O - O - X - O - O - X - O - \n",
      "- O - O - O - O - X - X - X - O - O - O \n",
      "\n",
      "que no.5 4\n",
      "O - O - X - O - O - X - O - O - O - O - \n",
      "- O - X - O - O - O - O - O - O - O - O \n",
      "X - O - O - O - O - O - O - O - X - O - \n",
      "- O - O - X - O - O - X - X - O - O - O \n",
      "O - O - O - O - X - O - O - O - O - O - \n",
      "- O - O - O - O - O - O - O - X - X - X \n",
      "O - X - O - O - X - O - X - O - X - O - \n",
      "- O - O - O - O - O - O - O - O - X - O \n",
      "X - O - O - O - X - O - W - X - X - O - \n",
      "- X - X - O - O - O - X - O - X - O - O \n",
      "X - O - X - X - O - O - X - O - O - O - \n",
      "- O - X - X - X - O - O - O - O - O - X \n",
      "\n",
      "que no.6 3\n",
      "X - O - O - X - O - O - O - X - O - X - \n",
      "- O - X - X - O - O - X - O - X - O - X \n",
      "O - O - X - X - X - X - O - X - O - X - \n",
      "- X - O - O - X - X - O - X - X - O - O \n",
      "X - O - O - O - O - X - X - O - O - X - \n",
      "- X - O - X - O - X - X - O - X - X - X \n",
      "X - O - O - O - O - X - X - X - X - O - \n",
      "- X - O - X - O - X - O - O - O - X - X \n",
      "X - O - O - X - O - O - X - X - X - O - \n",
      "- O - O - O - X - O - X - O - X - X - O \n",
      "X - X - O - X - X - W - X - O - X - X - \n",
      "- X - O - X - X - O - O - X - O - X - O \n",
      "\n",
      "que no.7 4\n",
      "O - X - O - O - O - X - O - O - X - O - \n",
      "- X - O - O - O - O - X - O - O - O - X \n",
      "O - O - X - O - O - O - O - O - O - X - \n",
      "- X - X - X - X - O - O - O - O - O - O \n",
      "O - O - O - O - X - O - X - O - O - O - \n",
      "- O - O - X - O - O - O - X - O - X - O \n",
      "X - X - O - O - O - X - O - O - O - X - \n",
      "- O - O - O - O - O - O - O - O - O - O \n",
      "O - X - O - O - O - X - O - X - O - O - \n",
      "- X - O - X - O - O - O - O - O - X - O \n",
      "O - X - O - O - X - X - W - O - O - O - \n",
      "- O - O - O - O - O - X - O - X - X - O \n",
      "\n",
      "que no.8 5\n",
      "X - O - O - X - X - O - X - X - O - O - \n",
      "- O - O - O - O - O - W - O - O - X - O \n",
      "O - O - O - O - X - O - O - O - O - O - \n",
      "- X - O - X - O - O - X - O - O - O - X \n",
      "O - O - O - O - O - X - O - X - O - O - \n",
      "- X - O - O - O - O - O - O - O - O - O \n",
      "O - O - X - O - O - O - O - O - O - O - \n",
      "- O - O - O - O - O - X - O - O - X - O \n",
      "O - X - X - O - O - O - O - O - O - O - \n",
      "- O - O - O - O - O - O - X - O - O - O \n",
      "X - O - O - O - X - O - O - O - O - O - \n",
      "- O - O - X - X - X - O - O - O - O - X \n",
      "\n",
      "que no.9 0\n",
      "X - X - X - O - X - O - X - X - X - X - \n",
      "- X - X - X - X - X - X - O - X - O - X \n",
      "X - X - X - X - X - X - X - O - O - X - \n",
      "- O - X - X - X - X - X - X - X - X - X \n",
      "X - X - O - O - X - X - O - X - X - O - \n",
      "- X - O - X - X - X - X - X - X - O - X \n",
      "X - O - X - X - O - O - O - X - O - X - \n",
      "- O - O - X - X - X - W - X - O - O - X \n",
      "X - O - X - X - O - O - X - X - X - X - \n",
      "- X - O - O - X - O - X - X - X - X - X \n",
      "O - O - O - X - O - O - X - O - X - X - \n",
      "- O - X - X - X - X - X - X - O - O - X \n",
      "\n",
      "que no.10 3\n",
      "X - X - O - X - X - X - O - O - O - O - \n",
      "- X - O - X - X - X - X - O - X - O - O \n",
      "X - O - O - O - X - O - X - W - O - X - \n",
      "- O - X - X - O - O - X - X - O - O - O \n",
      "X - O - X - O - O - X - O - X - O - X - \n",
      "- O - X - X - O - O - X - X - X - X - X \n",
      "O - X - O - X - X - O - O - O - X - X - \n",
      "- X - O - X - X - O - X - O - X - O - X \n",
      "O - O - O - O - O - X - O - O - X - O - \n",
      "- X - O - O - O - O - O - O - X - X - X \n",
      "X - O - X - O - X - O - O - O - O - X - \n",
      "- X - X - O - X - X - O - X - O - O - X \n",
      "\n",
      "que no.11 2\n",
      "O - X - O - X - X - X - X - O - O - O - \n",
      "- O - X - O - O - X - O - O - O - O - X \n",
      "O - O - X - O - X - X - X - X - O - O - \n",
      "- O - O - O - O - X - O - X - X - O - O \n",
      "O - X - O - X - O - O - X - W - O - X - \n",
      "- X - O - O - X - X - O - O - X - X - O \n",
      "O - O - O - O - O - X - O - X - O - X - \n",
      "- X - O - O - X - O - X - X - O - X - O \n",
      "X - X - X - O - O - O - O - O - X - O - \n",
      "- O - X - O - O - O - O - X - O - X - O \n",
      "O - O - O - O - O - O - X - X - X - X - \n",
      "- O - X - X - O - O - X - O - X - O - O \n",
      "\n",
      "que no.12 5\n",
      "X - X - O - O - X - O - O - X - X - O - \n",
      "- O - X - O - X - O - W - O - X - O - O \n",
      "O - O - O - O - O - O - O - O - O - X - \n",
      "- O - O - O - O - O - O - X - O - O - O \n",
      "O - X - X - O - O - X - O - X - O - O - \n",
      "- O - O - O - O - X - X - X - O - O - X \n",
      "X - X - O - O - O - O - X - O - X - O - \n",
      "- X - O - O - O - X - O - O - O - O - O \n",
      "X - O - O - O - O - O - O - X - X - O - \n",
      "- O - X - O - O - O - O - O - X - O - O \n",
      "O - X - X - O - X - O - X - O - O - X - \n",
      "- O - O - O - O - X - O - O - O - X - O \n",
      "\n"
     ]
    },
    {
     "ename": "KeyboardInterrupt",
     "evalue": "",
     "output_type": "error",
     "traceback": [
      "\u001b[1;31m---------------------------------------------------------------------------\u001b[0m",
      "\u001b[1;31mKeyboardInterrupt\u001b[0m                         Traceback (most recent call last)",
      "\u001b[1;32md:\\Works_Space\\Timeline\\2023\\06_June\\HoneyComb\\honey.ipynb Cell 32\u001b[0m in \u001b[0;36m<cell line: 2>\u001b[1;34m()\u001b[0m\n\u001b[0;32m      <a href='vscode-notebook-cell:/d%3A/Works_Space/Timeline/2023/06_June/HoneyComb/honey.ipynb#X36sZmlsZQ%3D%3D?line=6'>7</a>\u001b[0m \u001b[39mprint\u001b[39m(\u001b[39mf\u001b[39m\u001b[39m'\u001b[39m\u001b[39mque no.\u001b[39m\u001b[39m{\u001b[39;00mi\u001b[39m+\u001b[39m\u001b[39m1\u001b[39m\u001b[39m}\u001b[39;00m\u001b[39m'\u001b[39m,noBariers)\n\u001b[0;32m      <a href='vscode-notebook-cell:/d%3A/Works_Space/Timeline/2023/06_June/HoneyComb/honey.ipynb#X36sZmlsZQ%3D%3D?line=7'>8</a>\u001b[0m printing(mat)\n\u001b[1;32m----> <a href='vscode-notebook-cell:/d%3A/Works_Space/Timeline/2023/06_June/HoneyComb/honey.ipynb#X36sZmlsZQ%3D%3D?line=8'>9</a>\u001b[0m applyBarrier(mat,noBariers)\n\u001b[0;32m     <a href='vscode-notebook-cell:/d%3A/Works_Space/Timeline/2023/06_June/HoneyComb/honey.ipynb#X36sZmlsZQ%3D%3D?line=9'>10</a>\u001b[0m \u001b[39mfor\u001b[39;00m line \u001b[39min\u001b[39;00m mat:\n\u001b[0;32m     <a href='vscode-notebook-cell:/d%3A/Works_Space/Timeline/2023/06_June/HoneyComb/honey.ipynb#X36sZmlsZQ%3D%3D?line=10'>11</a>\u001b[0m     str1\u001b[39m+\u001b[39m\u001b[39m=\u001b[39mline\u001b[39m+\u001b[39m\u001b[39m'\u001b[39m\u001b[39m\\n\u001b[39;00m\u001b[39m'\u001b[39m\n",
      "\u001b[1;32md:\\Works_Space\\Timeline\\2023\\06_June\\HoneyComb\\honey.ipynb Cell 32\u001b[0m in \u001b[0;36mapplyBarrier\u001b[1;34m(mat, barrier)\u001b[0m\n\u001b[0;32m     <a href='vscode-notebook-cell:/d%3A/Works_Space/Timeline/2023/06_June/HoneyComb/honey.ipynb#X36sZmlsZQ%3D%3D?line=16'>17</a>\u001b[0m method1(mat,edgeNeibors)\n\u001b[0;32m     <a href='vscode-notebook-cell:/d%3A/Works_Space/Timeline/2023/06_June/HoneyComb/honey.ipynb#X36sZmlsZQ%3D%3D?line=17'>18</a>\u001b[0m \u001b[39mif\u001b[39;00m barrier\u001b[39m==\u001b[39m\u001b[39m0\u001b[39m: \u001b[39mreturn\u001b[39;00m\n\u001b[1;32m---> <a href='vscode-notebook-cell:/d%3A/Works_Space/Timeline/2023/06_June/HoneyComb/honey.ipynb#X36sZmlsZQ%3D%3D?line=18'>19</a>\u001b[0m method2(mat,hive,wasp,edges,barrier)\n",
      "\u001b[1;32md:\\Works_Space\\Timeline\\2023\\06_June\\HoneyComb\\honey.ipynb Cell 32\u001b[0m in \u001b[0;36mmethod2\u001b[1;34m(mat, hive, wasp, edges, barrier)\u001b[0m\n\u001b[0;32m      <a href='vscode-notebook-cell:/d%3A/Works_Space/Timeline/2023/06_June/HoneyComb/honey.ipynb#X36sZmlsZQ%3D%3D?line=1'>2</a>\u001b[0m freeNebors\u001b[39m=\u001b[39mhive\u001b[39m.\u001b[39mfreeNeibors(\u001b[39m*\u001b[39mwasp)\n\u001b[0;32m      <a href='vscode-notebook-cell:/d%3A/Works_Space/Timeline/2023/06_June/HoneyComb/honey.ipynb#X36sZmlsZQ%3D%3D?line=2'>3</a>\u001b[0m blocker\u001b[39m=\u001b[39m[]\n\u001b[1;32m----> <a href='vscode-notebook-cell:/d%3A/Works_Space/Timeline/2023/06_June/HoneyComb/honey.ipynb#X36sZmlsZQ%3D%3D?line=3'>4</a>\u001b[0m \u001b[39mwhile\u001b[39;00m escape(hive,wasp,edges,blocker):\n\u001b[0;32m      <a href='vscode-notebook-cell:/d%3A/Works_Space/Timeline/2023/06_June/HoneyComb/honey.ipynb#X36sZmlsZQ%3D%3D?line=4'>5</a>\u001b[0m     \u001b[39mfor\u001b[39;00m point \u001b[39min\u001b[39;00m blocker:\n\u001b[0;32m      <a href='vscode-notebook-cell:/d%3A/Works_Space/Timeline/2023/06_June/HoneyComb/honey.ipynb#X36sZmlsZQ%3D%3D?line=5'>6</a>\u001b[0m         fN\u001b[39m=\u001b[39mhive\u001b[39m.\u001b[39mfreeNeibors(\u001b[39m*\u001b[39mpoint)\n",
      "\u001b[1;32md:\\Works_Space\\Timeline\\2023\\06_June\\HoneyComb\\honey.ipynb Cell 32\u001b[0m in \u001b[0;36mescape\u001b[1;34m(hive, wasp, edges, blocker, neibors)\u001b[0m\n\u001b[0;32m      <a href='vscode-notebook-cell:/d%3A/Works_Space/Timeline/2023/06_June/HoneyComb/honey.ipynb#X36sZmlsZQ%3D%3D?line=6'>7</a>\u001b[0m         new_nebors\u001b[39m.\u001b[39mappend(nebor)\n\u001b[0;32m      <a href='vscode-notebook-cell:/d%3A/Works_Space/Timeline/2023/06_June/HoneyComb/honey.ipynb#X36sZmlsZQ%3D%3D?line=8'>9</a>\u001b[0m \u001b[39mfor\u001b[39;00m nebor \u001b[39min\u001b[39;00m new_nebors:\n\u001b[1;32m---> <a href='vscode-notebook-cell:/d%3A/Works_Space/Timeline/2023/06_June/HoneyComb/honey.ipynb#X36sZmlsZQ%3D%3D?line=9'>10</a>\u001b[0m     \u001b[39mif\u001b[39;00m escape(hive,nebor,edges,blocker,neibors\u001b[39m+\u001b[39;49mnew_nebors):\n\u001b[0;32m     <a href='vscode-notebook-cell:/d%3A/Works_Space/Timeline/2023/06_June/HoneyComb/honey.ipynb#X36sZmlsZQ%3D%3D?line=10'>11</a>\u001b[0m         blocker\u001b[39m.\u001b[39minsert(\u001b[39m0\u001b[39m,nebor)\n\u001b[0;32m     <a href='vscode-notebook-cell:/d%3A/Works_Space/Timeline/2023/06_June/HoneyComb/honey.ipynb#X36sZmlsZQ%3D%3D?line=11'>12</a>\u001b[0m         \u001b[39mreturn\u001b[39;00m \u001b[39mTrue\u001b[39;00m\n",
      "\u001b[1;32md:\\Works_Space\\Timeline\\2023\\06_June\\HoneyComb\\honey.ipynb Cell 32\u001b[0m in \u001b[0;36mescape\u001b[1;34m(hive, wasp, edges, blocker, neibors)\u001b[0m\n\u001b[0;32m      <a href='vscode-notebook-cell:/d%3A/Works_Space/Timeline/2023/06_June/HoneyComb/honey.ipynb#X36sZmlsZQ%3D%3D?line=6'>7</a>\u001b[0m         new_nebors\u001b[39m.\u001b[39mappend(nebor)\n\u001b[0;32m      <a href='vscode-notebook-cell:/d%3A/Works_Space/Timeline/2023/06_June/HoneyComb/honey.ipynb#X36sZmlsZQ%3D%3D?line=8'>9</a>\u001b[0m \u001b[39mfor\u001b[39;00m nebor \u001b[39min\u001b[39;00m new_nebors:\n\u001b[1;32m---> <a href='vscode-notebook-cell:/d%3A/Works_Space/Timeline/2023/06_June/HoneyComb/honey.ipynb#X36sZmlsZQ%3D%3D?line=9'>10</a>\u001b[0m     \u001b[39mif\u001b[39;00m escape(hive,nebor,edges,blocker,neibors\u001b[39m+\u001b[39;49mnew_nebors):\n\u001b[0;32m     <a href='vscode-notebook-cell:/d%3A/Works_Space/Timeline/2023/06_June/HoneyComb/honey.ipynb#X36sZmlsZQ%3D%3D?line=10'>11</a>\u001b[0m         blocker\u001b[39m.\u001b[39minsert(\u001b[39m0\u001b[39m,nebor)\n\u001b[0;32m     <a href='vscode-notebook-cell:/d%3A/Works_Space/Timeline/2023/06_June/HoneyComb/honey.ipynb#X36sZmlsZQ%3D%3D?line=11'>12</a>\u001b[0m         \u001b[39mreturn\u001b[39;00m \u001b[39mTrue\u001b[39;00m\n",
      "    \u001b[1;31m[... skipping similar frames: escape at line 10 (6 times)]\u001b[0m\n",
      "\u001b[1;32md:\\Works_Space\\Timeline\\2023\\06_June\\HoneyComb\\honey.ipynb Cell 32\u001b[0m in \u001b[0;36mescape\u001b[1;34m(hive, wasp, edges, blocker, neibors)\u001b[0m\n\u001b[0;32m      <a href='vscode-notebook-cell:/d%3A/Works_Space/Timeline/2023/06_June/HoneyComb/honey.ipynb#X36sZmlsZQ%3D%3D?line=6'>7</a>\u001b[0m         new_nebors\u001b[39m.\u001b[39mappend(nebor)\n\u001b[0;32m      <a href='vscode-notebook-cell:/d%3A/Works_Space/Timeline/2023/06_June/HoneyComb/honey.ipynb#X36sZmlsZQ%3D%3D?line=8'>9</a>\u001b[0m \u001b[39mfor\u001b[39;00m nebor \u001b[39min\u001b[39;00m new_nebors:\n\u001b[1;32m---> <a href='vscode-notebook-cell:/d%3A/Works_Space/Timeline/2023/06_June/HoneyComb/honey.ipynb#X36sZmlsZQ%3D%3D?line=9'>10</a>\u001b[0m     \u001b[39mif\u001b[39;00m escape(hive,nebor,edges,blocker,neibors\u001b[39m+\u001b[39;49mnew_nebors):\n\u001b[0;32m     <a href='vscode-notebook-cell:/d%3A/Works_Space/Timeline/2023/06_June/HoneyComb/honey.ipynb#X36sZmlsZQ%3D%3D?line=10'>11</a>\u001b[0m         blocker\u001b[39m.\u001b[39minsert(\u001b[39m0\u001b[39m,nebor)\n\u001b[0;32m     <a href='vscode-notebook-cell:/d%3A/Works_Space/Timeline/2023/06_June/HoneyComb/honey.ipynb#X36sZmlsZQ%3D%3D?line=11'>12</a>\u001b[0m         \u001b[39mreturn\u001b[39;00m \u001b[39mTrue\u001b[39;00m\n",
      "\u001b[1;32md:\\Works_Space\\Timeline\\2023\\06_June\\HoneyComb\\honey.ipynb Cell 32\u001b[0m in \u001b[0;36mescape\u001b[1;34m(hive, wasp, edges, blocker, neibors)\u001b[0m\n\u001b[0;32m      <a href='vscode-notebook-cell:/d%3A/Works_Space/Timeline/2023/06_June/HoneyComb/honey.ipynb#X36sZmlsZQ%3D%3D?line=0'>1</a>\u001b[0m \u001b[39mdef\u001b[39;00m \u001b[39mescape\u001b[39m(hive,wasp,edges,blocker,neibors\u001b[39m=\u001b[39m[]):\n\u001b[0;32m      <a href='vscode-notebook-cell:/d%3A/Works_Space/Timeline/2023/06_June/HoneyComb/honey.ipynb#X36sZmlsZQ%3D%3D?line=1'>2</a>\u001b[0m     \u001b[39mif\u001b[39;00m wasp \u001b[39min\u001b[39;00m edges: \u001b[39mreturn\u001b[39;00m \u001b[39mTrue\u001b[39;00m\n\u001b[1;32m----> <a href='vscode-notebook-cell:/d%3A/Works_Space/Timeline/2023/06_June/HoneyComb/honey.ipynb#X36sZmlsZQ%3D%3D?line=2'>3</a>\u001b[0m     nebors\u001b[39m=\u001b[39mhive\u001b[39m.\u001b[39;49mfreeNeibors(\u001b[39m*\u001b[39;49mwasp)\n\u001b[0;32m      <a href='vscode-notebook-cell:/d%3A/Works_Space/Timeline/2023/06_June/HoneyComb/honey.ipynb#X36sZmlsZQ%3D%3D?line=3'>4</a>\u001b[0m     new_nebors\u001b[39m=\u001b[39m[]\n\u001b[0;32m      <a href='vscode-notebook-cell:/d%3A/Works_Space/Timeline/2023/06_June/HoneyComb/honey.ipynb#X36sZmlsZQ%3D%3D?line=4'>5</a>\u001b[0m     \u001b[39mfor\u001b[39;00m nebor \u001b[39min\u001b[39;00m nebors:\n",
      "\u001b[1;32md:\\Works_Space\\Timeline\\2023\\06_June\\HoneyComb\\honey.ipynb Cell 32\u001b[0m in \u001b[0;36mHive.freeNeibors\u001b[1;34m(self, i, j)\u001b[0m\n\u001b[0;32m     <a href='vscode-notebook-cell:/d%3A/Works_Space/Timeline/2023/06_June/HoneyComb/honey.ipynb#X36sZmlsZQ%3D%3D?line=25'>26</a>\u001b[0m \u001b[39mdef\u001b[39;00m \u001b[39mfreeNeibors\u001b[39m(\u001b[39mself\u001b[39m,i,j):\n\u001b[1;32m---> <a href='vscode-notebook-cell:/d%3A/Works_Space/Timeline/2023/06_June/HoneyComb/honey.ipynb#X36sZmlsZQ%3D%3D?line=26'>27</a>\u001b[0m     neibors\u001b[39m=\u001b[39m\u001b[39mself\u001b[39;49m\u001b[39m.\u001b[39;49mgetNeibors(i,j)\n\u001b[0;32m     <a href='vscode-notebook-cell:/d%3A/Works_Space/Timeline/2023/06_June/HoneyComb/honey.ipynb#X36sZmlsZQ%3D%3D?line=27'>28</a>\u001b[0m     fNeibors\u001b[39m=\u001b[39m[]\n\u001b[0;32m     <a href='vscode-notebook-cell:/d%3A/Works_Space/Timeline/2023/06_June/HoneyComb/honey.ipynb#X36sZmlsZQ%3D%3D?line=28'>29</a>\u001b[0m     \u001b[39mfor\u001b[39;00m x,y \u001b[39min\u001b[39;00m neibors:\n",
      "\u001b[1;32md:\\Works_Space\\Timeline\\2023\\06_June\\HoneyComb\\honey.ipynb Cell 32\u001b[0m in \u001b[0;36mHive.getNeibors\u001b[1;34m(self, i, j)\u001b[0m\n\u001b[0;32m     <a href='vscode-notebook-cell:/d%3A/Works_Space/Timeline/2023/06_June/HoneyComb/honey.ipynb#X36sZmlsZQ%3D%3D?line=16'>17</a>\u001b[0m i\u001b[39m=\u001b[39m\u001b[39m0\u001b[39m\n\u001b[0;32m     <a href='vscode-notebook-cell:/d%3A/Works_Space/Timeline/2023/06_June/HoneyComb/honey.ipynb#X36sZmlsZQ%3D%3D?line=17'>18</a>\u001b[0m \u001b[39mwhile\u001b[39;00m i\u001b[39m<\u001b[39m\u001b[39mlen\u001b[39m(neibors):\n\u001b[1;32m---> <a href='vscode-notebook-cell:/d%3A/Works_Space/Timeline/2023/06_June/HoneyComb/honey.ipynb#X36sZmlsZQ%3D%3D?line=18'>19</a>\u001b[0m     x,y\u001b[39m=\u001b[39mneibors[i]\n\u001b[0;32m     <a href='vscode-notebook-cell:/d%3A/Works_Space/Timeline/2023/06_June/HoneyComb/honey.ipynb#X36sZmlsZQ%3D%3D?line=19'>20</a>\u001b[0m     \u001b[39mif\u001b[39;00m x\u001b[39m<\u001b[39m\u001b[39m0\u001b[39m \u001b[39mor\u001b[39;00m x\u001b[39m>\u001b[39m\u001b[39m=\u001b[39m\u001b[39mself\u001b[39m\u001b[39m.\u001b[39mrows \u001b[39mor\u001b[39;00m y\u001b[39m<\u001b[39m\u001b[39m0\u001b[39m \u001b[39mor\u001b[39;00m y\u001b[39m>\u001b[39m\u001b[39m=\u001b[39m\u001b[39mself\u001b[39m\u001b[39m.\u001b[39mcols:\u001b[39m#checking validity\u001b[39;00m\n\u001b[0;32m     <a href='vscode-notebook-cell:/d%3A/Works_Space/Timeline/2023/06_June/HoneyComb/honey.ipynb#X36sZmlsZQ%3D%3D?line=20'>21</a>\u001b[0m         neibors\u001b[39m.\u001b[39mpop(i)\n",
      "\u001b[1;31mKeyboardInterrupt\u001b[0m: "
     ]
    }
   ],
   "source": [
    "\n",
    "str1=lines[0]+'\\n\\n'\n",
    "for i in range(int(lines[0])):\n",
    "    que1=lines[i+1]\n",
    "    mat=que1.strip().split('\\n')\n",
    "    noBariers=int(mat[0])\n",
    "    mat=mat[1:]\n",
    "    print(f'que no.{i+1}',noBariers)\n",
    "    printing(mat)\n",
    "    applyBarrier(mat,noBariers)\n",
    "    for line in mat:\n",
    "        str1+=line+'\\n'\n",
    "    str1+='\\n'"
   ]
  },
  {
   "attachments": {},
   "cell_type": "markdown",
   "metadata": {},
   "source": [
    "## <font face='comic sans ms' color ='magenta'>Dumper</font>"
   ]
  },
  {
   "cell_type": "code",
   "execution_count": 18,
   "metadata": {},
   "outputs": [],
   "source": [
    "def escape(hive,wasp,edges,blocker,neibors=[]):\n",
    "    if wasp in edges: return True\n",
    "    nebors=hive.freeNeibors(*wasp)\n",
    "    new_nebors=set(nebors).difference(set(neibors))\n",
    "    \n",
    "    for nebor in new_nebors:\n",
    "        if escape(hive,nebor,edges,blocker,neibors+list(new_nebors)):\n",
    "            blocker.insert(0,nebor)\n",
    "            return True\n",
    "\n",
    "    return False\n",
    "        "
   ]
  },
  {
   "cell_type": "code",
   "execution_count": 19,
   "metadata": {},
   "outputs": [
    {
     "data": {
      "text/plain": [
       "True"
      ]
     },
     "execution_count": 19,
     "metadata": {},
     "output_type": "execute_result"
    }
   ],
   "source": [
    "hive=Hive(mat)\n",
    "wasp=hive.getWaspPosition()\n",
    "fNebors=hive.freeNeibors(*wasp)\n",
    "edges=hive.getEdges()\n",
    "blocker=[]\n",
    "blockers=[]\n",
    "escape(hive,wasp,edges,blocker)"
   ]
  },
  {
   "cell_type": "code",
   "execution_count": 21,
   "metadata": {},
   "outputs": [
    {
     "data": {
      "text/plain": [
       "[(2, 2), (1, 1)]"
      ]
     },
     "execution_count": 21,
     "metadata": {},
     "output_type": "execute_result"
    }
   ],
   "source": [
    "blocker"
   ]
  },
  {
   "cell_type": "code",
   "execution_count": 13,
   "metadata": {},
   "outputs": [
    {
     "name": "stdout",
     "output_type": "stream",
     "text": [
      "X - O - O - O - X - \n",
      "- O - X - X - X - X \n",
      "O - O - O - O - X - \n",
      "- X - W - O - O - X \n",
      "O - X - X - O - X - \n",
      "\n"
     ]
    }
   ],
   "source": [
    "printing(mat)"
   ]
  },
  {
   "cell_type": "code",
   "execution_count": null,
   "metadata": {},
   "outputs": [],
   "source": [
    "file=open('output.txt','w')\n",
    "file.write(str1.strip())\n",
    "file.close()"
   ]
  },
  {
   "cell_type": "code",
   "execution_count": 11,
   "metadata": {},
   "outputs": [],
   "source": [
    "def printing(mat):\n",
    "    for i in mat:\n",
    "        for j in i:\n",
    "            print(j,end=' ')\n",
    "        print()\n",
    "    print()"
   ]
  },
  {
   "cell_type": "code",
   "execution_count": null,
   "metadata": {},
   "outputs": [],
   "source": [
    "' ba li '.strip()"
   ]
  },
  {
   "cell_type": "code",
   "execution_count": null,
   "metadata": {},
   "outputs": [],
   "source": [
    "hive=Hive(mat)\n",
    "wasp=hive.getWaspPosition()\n",
    "hive.freeNeibors(*wasp)"
   ]
  },
  {
   "cell_type": "code",
   "execution_count": null,
   "metadata": {},
   "outputs": [],
   "source": [
    "escape(hive,wasp,edges)"
   ]
  },
  {
   "cell_type": "code",
   "execution_count": null,
   "metadata": {},
   "outputs": [],
   "source": [
    "canEscape(mat)"
   ]
  },
  {
   "cell_type": "code",
   "execution_count": null,
   "metadata": {},
   "outputs": [],
   "source": [
    "if 5 not in [1,2,3]: print('hi')"
   ]
  },
  {
   "cell_type": "code",
   "execution_count": null,
   "metadata": {},
   "outputs": [],
   "source": [
    "p=hive.getEdges()"
   ]
  },
  {
   "cell_type": "code",
   "execution_count": null,
   "metadata": {},
   "outputs": [],
   "source": [
    "p.sort()\n",
    "for i,j in p:\n",
    "    print(mat[i][j],end=' ')"
   ]
  },
  {
   "cell_type": "code",
   "execution_count": null,
   "metadata": {},
   "outputs": [],
   "source": [
    "X - O - O - O - X - X - X - O - \n",
    "- X - X - O - O - O - X - X - O \n",
    "O - O - X - X - X - X - O - X - \n",
    "- X - O - X - O - X - X - X - O \n",
    "X - X - O - X - W - X - X - O - \n",
    "- X - O - X - X - X - X - X - O \n",
    "X - X - X - X - X - X - O - O - \n",
    "- O - X - O - X - X - X - X - O"
   ]
  },
  {
   "cell_type": "code",
   "execution_count": null,
   "metadata": {},
   "outputs": [],
   "source": [
    "len(p)"
   ]
  },
  {
   "cell_type": "code",
   "execution_count": null,
   "metadata": {},
   "outputs": [],
   "source": [
    "l1=[[1,2],[1,3]]\n",
    "l2=l1[1]"
   ]
  },
  {
   "cell_type": "code",
   "execution_count": null,
   "metadata": {},
   "outputs": [],
   "source": [
    "l2=[9,1]"
   ]
  },
  {
   "cell_type": "code",
   "execution_count": null,
   "metadata": {},
   "outputs": [],
   "source": [
    "l2.insert(0,3)"
   ]
  },
  {
   "cell_type": "code",
   "execution_count": null,
   "metadata": {},
   "outputs": [],
   "source": [
    "l2"
   ]
  },
  {
   "attachments": {},
   "cell_type": "markdown",
   "metadata": {},
   "source": [
    "## <font face='comic sans ms' color =''>Problems</font>"
   ]
  },
  {
   "cell_type": "code",
   "execution_count": null,
   "metadata": {},
   "outputs": [],
   "source": [
    "3\n",
    "X-X-O-X-O-O-O-X-O-O-O-O-O-X-O-O-\n",
    "-O-O-X-X-X-X-O-O-X-X-O-O-X-O-O-O\n",
    "X-O-O-O-O-O-X-X-W-O-X-O-O-O-O-O-\n",
    "-O-O-X-X-X-O-O-O-O-X-X-X-O-X-O-O"
   ]
  }
 ],
 "metadata": {
  "kernelspec": {
   "display_name": "base",
   "language": "python",
   "name": "python3"
  },
  "language_info": {
   "codemirror_mode": {
    "name": "ipython",
    "version": 3
   },
   "file_extension": ".py",
   "mimetype": "text/x-python",
   "name": "python",
   "nbconvert_exporter": "python",
   "pygments_lexer": "ipython3",
   "version": "3.9.12"
  },
  "orig_nbformat": 4
 },
 "nbformat": 4,
 "nbformat_minor": 2
}
