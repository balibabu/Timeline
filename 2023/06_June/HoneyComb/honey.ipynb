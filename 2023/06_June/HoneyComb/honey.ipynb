{
 "cells": [
  {
   "attachments": {},
   "cell_type": "markdown",
   "metadata": {},
   "source": [
    "## <font face='comic sans ms' color ='yellow'>Level 3</font>"
   ]
  },
  {
   "cell_type": "code",
   "execution_count": null,
   "metadata": {},
   "outputs": [],
   "source": [
    "def getPosition(matrix):\n",
    "    for i in range(len(matrix)):\n",
    "        for j in range(len(matrix[i])):\n",
    "            if matrix[i][j]=='W':\n",
    "                return (i,j)\n",
    "    return None"
   ]
  },
  {
   "cell_type": "code",
   "execution_count": null,
   "metadata": {},
   "outputs": [],
   "source": [
    "def uniDirEscape(mat,xstep,ystep):\n",
    "    i,j=getPosition(mat)\n",
    "    while True:\n",
    "        i,j=i+xstep,j+ystep\n",
    "        if i<0 or i>=len(mat) or j<0 or j>=len(mat[0]): break\n",
    "        if mat[i][j]=='X': \n",
    "            return False\n",
    "    return True"
   ]
  },
  {
   "cell_type": "code",
   "execution_count": null,
   "metadata": {},
   "outputs": [],
   "source": [
    "a='''X-X-X-X-X-O-O-O-\n",
    "-X-W-O-O-O-O-O-O\n",
    "X-O-O-O-O-X-X-X-\n",
    "-O-X-X-O-X-X-O-X\n",
    "X-X-X-O-X-X-X-X-\n",
    "-X-X-O-X-X-X-O-O\n",
    "X-X-X-X-X-X-O-O-\n",
    "-X-X-O-X-O-O-O-O'''\n",
    "mat=a.split('\\n')\n",
    "for i in mat:\n",
    "    for j in i:\n",
    "        print(j,end=' ')\n",
    "    print()"
   ]
  },
  {
   "cell_type": "code",
   "execution_count": null,
   "metadata": {},
   "outputs": [],
   "source": [
    "uniDirEscape(mat,0,2)"
   ]
  },
  {
   "cell_type": "code",
   "execution_count": null,
   "metadata": {},
   "outputs": [],
   "source": [
    "def canEscape(mat):\n",
    "    if uniDirEscape(mat,-1,-1): return True\n",
    "    if uniDirEscape(mat,1,-1): return True\n",
    "    if uniDirEscape(mat,-1,1): return True\n",
    "    if uniDirEscape(mat,1,1): return True\n",
    "    if uniDirEscape(mat,0,-2): return True\n",
    "    if uniDirEscape(mat,0,2): return True\n",
    "    return False"
   ]
  },
  {
   "cell_type": "code",
   "execution_count": null,
   "metadata": {},
   "outputs": [],
   "source": [
    "data=open('level3_5.in')\n",
    "lines=data.read().split('\\n\\n')\n",
    "\n",
    "str1=''\n",
    "for i in range(int(lines[0])):\n",
    "    que1=lines[i+1]\n",
    "    mat=que1.split('\\n')\n",
    "    trap='FREE' if canEscape(mat) else 'TRAPPED'\n",
    "    print(i+1,trap)\n",
    "    # printing(mat)\n",
    "    str1+='%s\\n'%(trap)\n"
   ]
  },
  {
   "cell_type": "code",
   "execution_count": null,
   "metadata": {},
   "outputs": [],
   "source": [
    "file=open('output.txt','w')\n",
    "file.write(str1)\n",
    "file.close()"
   ]
  },
  {
   "cell_type": "code",
   "execution_count": null,
   "metadata": {},
   "outputs": [],
   "source": [
    "file1=open('level3_5.out')\n",
    "file2=open('output.txt')\n",
    "content1=file1.readlines()\n",
    "content2=file2.readlines()\n",
    "for i,j in zip(content1,content2):\n",
    "    if i==j : print(i,j)"
   ]
  },
  {
   "attachments": {},
   "cell_type": "markdown",
   "metadata": {},
   "source": [
    "## <font face='comic sans ms' color ='yellow'>level 4</font>"
   ]
  },
  {
   "cell_type": "code",
   "execution_count": 93,
   "metadata": {},
   "outputs": [],
   "source": [
    "def getPosition(matrix):\n",
    "    for i in range(len(matrix)):\n",
    "        for j in range(len(matrix[i])):\n",
    "            if matrix[i][j]=='W':\n",
    "                return (i,j)\n",
    "    return None"
   ]
  },
  {
   "cell_type": "code",
   "execution_count": 111,
   "metadata": {},
   "outputs": [],
   "source": [
    "\n",
    "def uniDirEscape(mat,xstep,ystep):\n",
    "    i,j=getPosition(mat)\n",
    "    while True:\n",
    "        i,j=i+xstep,j+ystep\n",
    "        if i<0 or i>=len(mat) or j<0 or j>=len(mat[0]): break\n",
    "        if mat[i][j]=='X': \n",
    "            return False\n",
    "    return True\n",
    "\n",
    "def canEscape(mat):\n",
    "    if uniDirEscape(mat,-1,-1): return True\n",
    "    if uniDirEscape(mat,1,-1): return True\n",
    "    if uniDirEscape(mat,-1,1): return True\n",
    "    if uniDirEscape(mat,1,1): return True\n",
    "    if uniDirEscape(mat,0,-2): return True\n",
    "    if uniDirEscape(mat,0,2): return True\n",
    "    return False"
   ]
  },
  {
   "cell_type": "code",
   "execution_count": 129,
   "metadata": {},
   "outputs": [],
   "source": [
    "data=open('level4/level4_3.in')\n",
    "lines=data.read().split('\\n\\n')"
   ]
  },
  {
   "cell_type": "code",
   "execution_count": null,
   "metadata": {},
   "outputs": [],
   "source": [
    "\n",
    "str1=''\n",
    "for i in range(int(lines[0])):\n",
    "    que1=lines[i+1]\n",
    "    mat=que1.split('\\n')\n",
    "    trap='FREE' if canEscape(mat) else 'TRAPPED'\n",
    "    str1+='%s\\n'%(trap)\n",
    "\n",
    "file=open('output.txt','w')\n",
    "file.write(str1)\n",
    "file.close()"
   ]
  },
  {
   "cell_type": "code",
   "execution_count": 10,
   "metadata": {},
   "outputs": [],
   "source": [
    "class Hive:\n",
    "\n",
    "    def __init__(self,hive):\n",
    "        self.hive=hive\n",
    "        self.rows=len(hive)\n",
    "        self.cols=len(hive[0])\n",
    "    \n",
    "    def getWaspPosition(self):\n",
    "        for i in range(self.rows):\n",
    "            for j in range(self.cols):\n",
    "                if self.hive[i][j]=='W':\n",
    "                    return (i,j)\n",
    "        return None\n",
    "\n",
    "    def getNeibors(self,i,j):\n",
    "        neibors=[(i-1,j-1),(i+1,j-1),(i-1,j+1),(i+1,j+1),(i,j-2),(i,j+2)]\n",
    "        i=0\n",
    "        while i<len(neibors):\n",
    "            x,y=neibors[i]\n",
    "            if x<0 or x>=self.rows or y<0 or y>=self.cols:#checking validity\n",
    "                neibors.pop(i)\n",
    "            else:\n",
    "                i+=1\n",
    "        return neibors\n",
    "\n",
    "    def freeNeibors(self,i,j):\n",
    "        neibors=self.getNeibors(i,j)\n",
    "        fNeibors=[]\n",
    "        for x,y in neibors:\n",
    "            if self.hive[x][y]=='O': fNeibors.append((x,y))\n",
    "        return fNeibors\n",
    "\n",
    "    def getEdges(self):\n",
    "        edges=[]\n",
    "        for i in range(0,self.cols,2):\n",
    "            edges.append((0,i))\n",
    "            edges.append((self.rows-1,i+1))\n",
    "        for i in range(1,self.rows-1):\n",
    "            edges.append((i,int(i%2==1)))\n",
    "            edges.append((i,self.cols-int(i%2==0)-1))\n",
    "        return edges\n",
    "                "
   ]
  },
  {
   "cell_type": "code",
   "execution_count": 97,
   "metadata": {},
   "outputs": [],
   "source": [
    "def escape(hive,wasp,edges,neibors=[]):\n",
    "    if wasp in edges: return True\n",
    "    nebors=hive.freeNeibors(wasp[0],wasp[1])\n",
    "    new_nebors=[]\n",
    "    for nebor in nebors:\n",
    "        if nebor not in neibors: \n",
    "            new_nebors.append(nebor)\n",
    "    \n",
    "    for nebor in new_nebors:\n",
    "        if escape(hive,nebor,edges,neibors+new_nebors):\n",
    "            return True\n",
    "    return False\n",
    "        "
   ]
  },
  {
   "cell_type": "code",
   "execution_count": 135,
   "metadata": {},
   "outputs": [
    {
     "name": "stdout",
     "output_type": "stream",
     "text": [
      "O - X - O - O - O - O - X - X - X - X - O - X - X - O - O - X - X - O - O - X - \n",
      "- X - O - X - X - X - O - X - O - X - X - X - X - X - O - X - X - X - O - X - O \n",
      "X - X - O - O - X - X - X - O - O - X - O - X - X - O - O - X - X - X - X - X - \n",
      "- O - X - O - O - X - O - O - X - X - X - O - X - O - O - X - X - X - O - O - X \n",
      "O - O - X - X - O - O - X - O - X - X - X - X - X - X - O - X - O - X - O - O - \n",
      "- X - O - X - X - O - O - X - X - X - O - O - O - O - X - X - X - O - O - O - O \n",
      "X - X - X - X - O - O - X - X - X - O - X - X - X - O - X - O - O - X - X - X - \n",
      "- X - O - O - X - O - O - O - X - O - O - X - X - X - O - X - O - X - X - X - X \n",
      "X - O - X - O - X - X - O - O - X - O - O - O - O - O - X - X - X - O - O - O - \n",
      "- O - X - O - X - X - O - O - X - X - X - X - X - X - O - O - X - O - X - X - X \n",
      "X - O - X - X - X - X - O - O - X - X - X - X - X - O - X - O - O - O - X - O - \n",
      "- O - X - O - X - X - O - O - O - X - X - O - O - O - X - X - O - O - O - X - O \n",
      "X - X - X - O - O - X - O - O - O - X - X - X - O - X - X - O - X - X - O - O - \n",
      "- X - X - O - X - O - O - X - O - X - X - O - O - X - O - X - O - X - O - X - O \n",
      "X - X - X - X - O - X - X - X - X - X - O - O - X - X - X - O - X - O - X - O - \n",
      "- O - O - O - O - O - X - O - O - O - X - X - X - X - X - X - X - O - X - X - X \n",
      "O - X - O - O - X - X - X - O - X - O - O - O - X - X - O - X - X - O - O - O - \n",
      "- O - X - X - O - X - O - O - X - X - X - X - X - X - O - O - O - O - X - X - X \n",
      "X - X - O - X - O - O - X - O - X - X - X - X - X - O - X - O - O - X - X - O - \n",
      "- X - X - O - O - X - X - O - X - X - X - O - O - X - O - O - X - X - X - X - X \n",
      "X - O - O - O - X - X - X - X - X - X - O - O - X - O - X - O - X - X - X - X - \n",
      "- X - X - X - X - O - O - O - O - O - X - O - O - O - O - W - X - X - O - X - X \n",
      "X - O - X - X - O - X - O - X - X - X - X - X - X - X - O - X - O - O - O - X - \n",
      "- O - X - O - X - O - O - O - X - X - X - O - O - O - O - X - X - O - X - O - X \n"
     ]
    }
   ],
   "source": [
    "mat=lines[-1].strip().split('\\n')\n",
    "for i in mat:\n",
    "    for j in i:\n",
    "        print(j,end=' ')\n",
    "    print()"
   ]
  },
  {
   "attachments": {},
   "cell_type": "markdown",
   "metadata": {},
   "source": [
    "## <font face='comic sans ms' color ='yellow'>Level 5</font>"
   ]
  },
  {
   "cell_type": "code",
   "execution_count": 12,
   "metadata": {},
   "outputs": [],
   "source": [
    "def method1(mat,neibors):\n",
    "    for x,y in neibors:\n",
    "        chars=[i for i in mat[x]]\n",
    "        chars[y]='X'\n",
    "        mat[x]=''.join(chars)"
   ]
  },
  {
   "cell_type": "code",
   "execution_count": 27,
   "metadata": {},
   "outputs": [],
   "source": [
    "def method2(mat,hive,wasp,edges,barrier):\n",
    "    blocker=[]\n",
    "    while barrier>0 and escape(hive,wasp,edges,blocker) :\n",
    "        if not blocker: return\n",
    "        method1(mat,blocker[-1])\n",
    "        barrier-=1\n",
    "        # blocker=[]"
   ]
  },
  {
   "cell_type": "code",
   "execution_count": 37,
   "metadata": {},
   "outputs": [],
   "source": [
    "def applyBarrier(mat,barrier):\n",
    "    hive=Hive(mat)\n",
    "    wasp=hive.getWaspPosition()\n",
    "    fNebors=hive.freeNeibors(*wasp)\n",
    "\n",
    "    if len(fNebors)==barrier:\n",
    "        method1(mat,fNebors)\n",
    "        return\n",
    "\n",
    "    edges=hive.getEdges()\n",
    "    edgeNeibors=[]\n",
    "    for point in fNebors:\n",
    "        if point in edges:\n",
    "            edgeNeibors.append(point)\n",
    "    barrier-=len(edgeNeibors)\n",
    "    method1(mat,edgeNeibors)\n",
    "    if barrier==0: return\n",
    "    method2(mat,hive,wasp,edges,barrier)"
   ]
  },
  {
   "cell_type": "code",
   "execution_count": 18,
   "metadata": {},
   "outputs": [],
   "source": [
    "def escape(hive,wasp,edges,blocker,neibors=[]):\n",
    "    if wasp in edges: return True\n",
    "    nebors=hive.freeNeibors(*wasp)\n",
    "    new_nebors=[]\n",
    "    for nebor in nebors:\n",
    "        if nebor not in neibors: \n",
    "            new_nebors.append(nebor)\n",
    "    \n",
    "    for nebor in new_nebors:\n",
    "        if escape(hive,nebor,edges,blocker,neibors+new_nebors):\n",
    "            if len(new_nebors)==1: blocker.append(new_nebors)\n",
    "            return True\n",
    "    return False\n",
    "        "
   ]
  },
  {
   "cell_type": "code",
   "execution_count": 38,
   "metadata": {},
   "outputs": [],
   "source": [
    "mat=lines[4].split('\\n')[1:]"
   ]
  },
  {
   "cell_type": "code",
   "execution_count": 39,
   "metadata": {},
   "outputs": [
    {
     "name": "stdout",
     "output_type": "stream",
     "text": [
      "X - O - O - O - O - O - O - O - O - O - \n",
      "- O - O - X - O - O - O - O - X - X - O \n",
      "O - O - X - O - O - O - X - O - O - X - \n",
      "- O - X - O - X - O - O - O - X - O - O \n",
      "O - O - O - X - W - O - O - O - O - O - \n",
      "- O - O - O - X - O - X - O - X - O - O \n",
      "O - O - X - X - O - O - O - X - O - X - \n",
      "- O - X - X - O - O - O - O - O - X - O \n",
      "\n"
     ]
    }
   ],
   "source": [
    "printing(mat)"
   ]
  },
  {
   "cell_type": "code",
   "execution_count": 40,
   "metadata": {},
   "outputs": [],
   "source": [
    "applyBarrier(mat,3)"
   ]
  },
  {
   "cell_type": "code",
   "execution_count": 41,
   "metadata": {},
   "outputs": [
    {
     "data": {
      "text/plain": [
       "['X-O-O-O-O-O-O-O-O-O-',\n",
       " '-O-O-X-O-O-O-O-X-X-O',\n",
       " 'O-O-X-O-O-O-X-O-O-X-',\n",
       " '-O-X-O-X-X-O-O-X-O-O',\n",
       " 'O-O-O-X-W-X-O-O-O-O-',\n",
       " '-O-O-O-X-X-X-O-X-O-O',\n",
       " 'O-O-X-X-O-O-O-X-O-X-',\n",
       " '-O-X-X-O-O-O-O-O-X-O']"
      ]
     },
     "execution_count": 41,
     "metadata": {},
     "output_type": "execute_result"
    }
   ],
   "source": [
    "mat"
   ]
  },
  {
   "cell_type": "code",
   "execution_count": 47,
   "metadata": {},
   "outputs": [],
   "source": [
    "data=open('level5/level5_1.in')\n",
    "lines=data.read().split('\\n\\n')\n",
    "\n",
    "str1=lines[0]+'\\n\\n'\n",
    "for i in range(int(lines[0])):\n",
    "    que1=lines[i+1]\n",
    "    mat=que1.strip().split('\\n')\n",
    "    noBariers=int(mat[0])\n",
    "    mat=mat[1:]\n",
    "    applyBarrier(mat,noBariers)\n",
    "    for line in mat:\n",
    "        str1+=line+'\\n'\n",
    "    str1+='\\n'"
   ]
  },
  {
   "attachments": {},
   "cell_type": "markdown",
   "metadata": {},
   "source": [
    "## <font face='comic sans ms' color ='magenta'>Dumper</font>"
   ]
  },
  {
   "cell_type": "code",
   "execution_count": 48,
   "metadata": {},
   "outputs": [],
   "source": [
    "file=open('output.txt','w')\n",
    "file.write(str1.strip())\n",
    "file.close()"
   ]
  },
  {
   "cell_type": "code",
   "execution_count": 43,
   "metadata": {},
   "outputs": [
    {
     "name": "stdout",
     "output_type": "stream",
     "text": [
      "X-X-O-X-X-X-O-O-X-X-\n",
      "-X-O-X-X-X-X-X-O-O-O\n",
      "O-X-X-O-X-X-X-X-X-X-\n",
      "-X-X-X-X-X-W-O-O-X-O\n",
      "X-X-O-O-O-O-O-O-X-X-\n",
      "-O-X-O-X-X-X-X-O-X-X\n",
      "O-X-O-X-X-X-X-X-X-O-\n",
      "-X-X-X-O-O-X-X-O-X-X\n",
      "\n",
      "X-O-O-O-O-O-O-O-X-X-\n",
      "-O-X-X-O-O-O-O-X-W-X\n",
      "O-O-X-O-O-O-O-O-X-X-\n",
      "-O-O-O-O-O-X-X-O-X-X\n",
      "X-O-O-O-O-O-O-O-O-O-\n",
      "-X-O-O-X-X-O-O-O-O-O\n",
      "O-O-O-X-X-O-O-O-O-X-\n",
      "-X-O-O-O-X-X-X-X-X-X\n",
      "\n",
      "X-X-O-X-O-X-X-X-X-X-\n",
      "-X-X-O-O-X-X-X-W-X-X\n",
      "O-O-O-O-X-X-X-O-O-X-\n",
      "-X-O-O-X-O-O-X-X-X-X\n",
      "O-X-X-X-X-O-O-O-X-X-\n",
      "-X-X-O-O-O-X-X-X-X-O\n",
      "O-X-O-O-O-X-X-X-O-X-\n",
      "-O-O-X-O-X-O-X-X-O-X\n",
      "\n",
      "X-O-O-O-O-O-O-O-O-O-\n",
      "-O-O-X-O-O-O-O-X-X-O\n",
      "O-O-X-O-O-O-X-O-O-X-\n",
      "-O-X-O-X-X-O-O-X-O-O\n",
      "O-O-O-X-W-X-O-O-O-O-\n",
      "-O-O-O-X-X-X-O-X-O-O\n",
      "O-O-X-X-O-O-O-X-O-X-\n",
      "-O-X-X-O-O-O-O-O-X-O\n",
      "\n",
      "X-X-O-X-X-X-X-O-X-X-\n",
      "-X-X-X-O-X-O-O-X-X-O\n",
      "O-X-O-X-X-X-O-X-X-X-\n",
      "-X-X-X-O-O-X-X-O-X-O\n",
      "X-X-O-X-O-O-O-X-O-X-\n",
      "-X-X-X-O-O-X-O-X-X-O\n",
      "O-X-X-X-O-W-O-X-X-X-\n",
      "-X-X-X-X-X-X-X-O-O-O\n",
      "\n",
      "X-O-O-O-O-O-X-O-O-X-\n",
      "-O-X-X-X-O-O-O-X-X-O\n",
      "X-O-O-O-X-X-O-O-X-O-\n",
      "-X-X-X-X-O-O-O-O-O-O\n",
      "X-O-X-W-X-O-X-O-X-O-\n",
      "-X-O-X-X-O-X-X-O-O-X\n",
      "O-O-O-O-O-O-X-X-X-O-\n",
      "-X-O-X-O-X-X-X-O-X-X\n",
      "\n",
      "O-O-O-X-O-O-X-O-X-O-\n",
      "-O-O-X-O-O-O-O-O-X-O\n",
      "O-O-O-X-O-X-O-O-O-O-\n",
      "-O-X-X-O-O-O-X-X-O-O\n",
      "X-X-W-X-X-O-O-O-X-X-\n",
      "-O-X-X-O-O-O-O-O-O-O\n",
      "X-X-X-O-O-X-O-O-O-O-\n",
      "-O-O-O-O-X-X-O-O-O-O\n",
      "\n",
      "X-O-O-X-O-O-O-O-X-X-\n",
      "-O-X-O-O-O-X-X-X-W-X\n",
      "O-O-O-O-X-O-O-X-X-X-\n",
      "-O-O-O-X-X-O-O-O-X-O\n",
      "O-X-X-O-O-O-X-O-O-O-\n",
      "-X-O-O-X-O-O-O-O-O-X\n",
      "O-X-O-X-O-X-O-O-X-X-\n",
      "-O-O-X-O-O-O-O-O-O-O\n",
      "\n",
      "X-X-X-O-X-X-X-O-X-O-\n",
      "-O-X-X-X-O-O-X-O-X-X\n",
      "O-O-O-O-O-X-X-O-X-X-\n",
      "-X-X-X-X-X-W-X-X-X-O\n",
      "O-O-X-X-O-X-X-X-X-O-\n",
      "-O-X-X-X-X-O-X-O-X-X\n",
      "X-X-X-O-O-X-X-O-O-O-\n",
      "-X-O-X-O-O-O-X-X-X-O\n",
      "\n",
      "X-O-O-X-O-X-O-O-X-O-\n",
      "-X-X-O-X-X-X-X-O-O-O\n",
      "O-O-X-O-O-O-O-X-O-X-\n",
      "-X-O-X-X-O-O-X-X-O-O\n",
      "X-O-O-X-X-O-X-X-O-X-\n",
      "-X-X-X-O-O-X-O-O-O-O\n",
      "X-X-W-X-O-O-X-O-X-X-\n",
      "-O-X-X-X-O-X-O-X-O-O\n",
      "\n",
      "\n"
     ]
    }
   ],
   "source": [
    "print(str1)"
   ]
  },
  {
   "cell_type": "code",
   "execution_count": 3,
   "metadata": {},
   "outputs": [],
   "source": [
    "def printing(mat):\n",
    "    for i in mat:\n",
    "        for j in i:\n",
    "            print(j,end=' ')\n",
    "        print()\n",
    "    print()"
   ]
  },
  {
   "cell_type": "code",
   "execution_count": 134,
   "metadata": {},
   "outputs": [
    {
     "data": {
      "text/plain": [
       "'ba li'"
      ]
     },
     "execution_count": 134,
     "metadata": {},
     "output_type": "execute_result"
    }
   ],
   "source": [
    "' ba li '.strip()"
   ]
  },
  {
   "cell_type": "code",
   "execution_count": 36,
   "metadata": {},
   "outputs": [
    {
     "data": {
      "text/plain": [
       "[(3, 9), (5, 9), (4, 10)]"
      ]
     },
     "execution_count": 36,
     "metadata": {},
     "output_type": "execute_result"
    }
   ],
   "source": [
    "hive=Hive(mat)\n",
    "wasp=hive.getWaspPosition()\n",
    "hive.freeNeibors(*wasp)"
   ]
  },
  {
   "cell_type": "code",
   "execution_count": 122,
   "metadata": {},
   "outputs": [
    {
     "data": {
      "text/plain": [
       "True"
      ]
     },
     "execution_count": 122,
     "metadata": {},
     "output_type": "execute_result"
    }
   ],
   "source": [
    "escape(hive,wasp,edges)"
   ]
  },
  {
   "cell_type": "code",
   "execution_count": 115,
   "metadata": {},
   "outputs": [
    {
     "data": {
      "text/plain": [
       "False"
      ]
     },
     "execution_count": 115,
     "metadata": {},
     "output_type": "execute_result"
    }
   ],
   "source": [
    "canEscape(mat)"
   ]
  },
  {
   "cell_type": "code",
   "execution_count": 87,
   "metadata": {},
   "outputs": [
    {
     "name": "stdout",
     "output_type": "stream",
     "text": [
      "hi\n"
     ]
    }
   ],
   "source": [
    "if 5 not in [1,2,3]: print('hi')"
   ]
  },
  {
   "cell_type": "code",
   "execution_count": 80,
   "metadata": {},
   "outputs": [],
   "source": [
    "p=hive.getEdges()"
   ]
  },
  {
   "cell_type": "code",
   "execution_count": 71,
   "metadata": {},
   "outputs": [
    {
     "name": "stdout",
     "output_type": "stream",
     "text": [
      "X O O O X X X O X O O X X O X O X O X O O X O X X X X O "
     ]
    }
   ],
   "source": [
    "p.sort()\n",
    "for i,j in p:\n",
    "    print(mat[i][j],end=' ')"
   ]
  },
  {
   "cell_type": "code",
   "execution_count": 45,
   "metadata": {},
   "outputs": [
    {
     "name": "stdout",
     "output_type": "stream",
     "text": [
      "O X O X X X X O \n"
     ]
    }
   ],
   "source": [
    "X - O - O - O - X - X - X - O - \n",
    "- X - X - O - O - O - X - X - O \n",
    "O - O - X - X - X - X - O - X - \n",
    "- X - O - X - O - X - X - X - O \n",
    "X - X - O - X - W - X - X - O - \n",
    "- X - O - X - X - X - X - X - O \n",
    "X - X - X - X - X - X - O - O - \n",
    "- O - X - O - X - X - X - X - O"
   ]
  },
  {
   "cell_type": "code",
   "execution_count": 72,
   "metadata": {},
   "outputs": [
    {
     "data": {
      "text/plain": [
       "28"
      ]
     },
     "execution_count": 72,
     "metadata": {},
     "output_type": "execute_result"
    }
   ],
   "source": [
    "len(p)"
   ]
  },
  {
   "cell_type": "code",
   "execution_count": 81,
   "metadata": {},
   "outputs": [],
   "source": [
    "l1=[[1,2],[1,3]]\n",
    "l2=l1[1]"
   ]
  },
  {
   "cell_type": "code",
   "execution_count": 84,
   "metadata": {},
   "outputs": [],
   "source": [
    "l2=[9,1]"
   ]
  },
  {
   "cell_type": "code",
   "execution_count": 85,
   "metadata": {},
   "outputs": [
    {
     "data": {
      "text/plain": [
       "[[1, 2], [4, 3]]"
      ]
     },
     "execution_count": 85,
     "metadata": {},
     "output_type": "execute_result"
    }
   ],
   "source": [
    "l1"
   ]
  },
  {
   "attachments": {},
   "cell_type": "markdown",
   "metadata": {},
   "source": [
    "## <font face='comic sans ms' color =''>Problems</font>"
   ]
  },
  {
   "cell_type": "code",
   "execution_count": null,
   "metadata": {},
   "outputs": [],
   "source": [
    "3\n",
    "X-X-O-X-O-O-O-X-O-O-O-O-O-X-O-O-\n",
    "-O-O-X-X-X-X-O-O-X-X-O-O-X-O-O-O\n",
    "X-O-O-O-O-O-X-X-W-O-X-O-O-O-O-O-\n",
    "-O-O-X-X-X-O-O-O-O-X-X-X-O-X-O-O"
   ]
  }
 ],
 "metadata": {
  "kernelspec": {
   "display_name": "base",
   "language": "python",
   "name": "python3"
  },
  "language_info": {
   "codemirror_mode": {
    "name": "ipython",
    "version": 3
   },
   "file_extension": ".py",
   "mimetype": "text/x-python",
   "name": "python",
   "nbconvert_exporter": "python",
   "pygments_lexer": "ipython3",
   "version": "3.9.12"
  },
  "orig_nbformat": 4
 },
 "nbformat": 4,
 "nbformat_minor": 2
}
