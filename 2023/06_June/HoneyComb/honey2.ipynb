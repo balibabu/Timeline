{
 "cells": [
  {
   "cell_type": "markdown",
   "metadata": {},
   "source": [
    "### <font face='comic sans ms' color ='magenta'>Question Visualization</font>"
   ]
  },
  {
   "cell_type": "code",
   "execution_count": 2,
   "metadata": {},
   "outputs": [],
   "source": [
    "def display(level):\n",
    "    c=1\n",
    "    while True:\n",
    "        try:\n",
    "            question(level,c)\n",
    "        except:\n",
    "            break\n",
    "        c+=1"
   ]
  },
  {
   "cell_type": "code",
   "execution_count": 3,
   "metadata": {},
   "outputs": [],
   "source": [
    "def printing(mat):\n",
    "    c=0\n",
    "    for i in mat:\n",
    "        for j in i:\n",
    "            if j=='X' : c+=1\n",
    "            print(j.replace('-',' '),end=' ')\n",
    "        print()\n",
    "    print('no. of x:',c)\n",
    "    print()"
   ]
  },
  {
   "cell_type": "markdown",
   "metadata": {},
   "source": [
    "### <font face='comic sans ms' color ='magenta'>Important Methods</font>"
   ]
  },
  {
   "cell_type": "code",
   "execution_count": 4,
   "metadata": {},
   "outputs": [],
   "source": [
    "from hive import Hive"
   ]
  },
  {
   "cell_type": "code",
   "execution_count": 5,
   "metadata": {},
   "outputs": [],
   "source": [
    "def blockPath(mat,i,j,unblock='X'):\n",
    "    chars=[ch for ch in mat[i]]\n",
    "    chars[j]=unblock\n",
    "    mat[i]=''.join(chars)"
   ]
  },
  {
   "cell_type": "code",
   "execution_count": 6,
   "metadata": {},
   "outputs": [],
   "source": [
    "def escape(hive,wasp,edges,paths,path=[],oldNebors=[]):\n",
    "    if wasp in edges: \n",
    "        paths.append(path[:])\n",
    "        return True\n",
    "\n",
    "    nebors=hive.freeNeibors(*wasp)\n",
    "    new_nebors=[x for x in nebors if x not in oldNebors]\n",
    "    \n",
    "    for nebor in new_nebors:\n",
    "        path.append(nebor)\n",
    "        escape(hive,nebor,edges,paths,path,oldNebors+new_nebors)\n",
    "        path.pop()\n",
    "\n",
    "    return False"
   ]
  },
  {
   "cell_type": "code",
   "execution_count": 7,
   "metadata": {},
   "outputs": [],
   "source": [
    "def putXonEdgeNebor(fNebors,edges,mat):\n",
    "    c=0\n",
    "    for point in fNebors:\n",
    "        if point in edges:\n",
    "            blockPath(mat,*point)\n",
    "            c+=1\n",
    "    return c "
   ]
  },
  {
   "cell_type": "code",
   "execution_count": 8,
   "metadata": {},
   "outputs": [],
   "source": [
    "def commonSteps(path1,path2):\n",
    "    steps=[]\n",
    "    for step in path1:\n",
    "        if step in path2:\n",
    "            steps.append(step)\n",
    "    return steps\n",
    "\n",
    "def getUnRepeatedPathIndex(paths):\n",
    "    uniPathsIndex=[]\n",
    "    for i in range(len(paths)):\n",
    "        csteps=True\n",
    "        for j in range(len(paths)):\n",
    "            if i!=j:\n",
    "                cs=commonSteps(paths[i],paths[j])\n",
    "                if cs:\n",
    "                    csteps=False\n",
    "                    break\n",
    "        if csteps:\n",
    "            uniPathsIndex.append(i)\n",
    "    \n",
    "    return uniPathsIndex\n",
    "    "
   ]
  },
  {
   "cell_type": "code",
   "execution_count": 9,
   "metadata": {},
   "outputs": [],
   "source": [
    "def getCommonPaths(paths,excPathsInd=[]):\n",
    "\n",
    "    excPathsInd=sorted(excPathsInd,reverse=True)\n",
    "    for i in excPathsInd:\n",
    "        paths.pop(i)\n",
    "    if len(paths)==1: return [paths[0][0]]\n",
    "    paths.sort()\n",
    "\n",
    "    msteps=[]\n",
    "    steps=paths[0]\n",
    "    for i in range(len(paths)):\n",
    "        step=commonSteps(steps,paths[i])\n",
    "        if step: \n",
    "            steps=step \n",
    "        else:\n",
    "            msteps.append(steps)\n",
    "            steps=paths[i]\n",
    "    msteps.append(steps)\n",
    "    return msteps"
   ]
  },
  {
   "cell_type": "code",
   "execution_count": 10,
   "metadata": {},
   "outputs": [],
   "source": [
    "def putXonUniqueOrCommonPath(hive,wasp,edges,barrier):\n",
    "    escapePaths=[]\n",
    "    escape(hive,wasp,edges,escapePaths)\n",
    "    indices=getUnRepeatedPathIndex(escapePaths)\n",
    "    for i in indices:\n",
    "        blockPath(mat,*escapePaths[i][0])\n",
    "        barrier-=1\n",
    "    if barrier==0: return True \n",
    "\n",
    "    commonPaths=getCommonPaths(escapePaths,indices)\n",
    "    for path in commonPaths:\n",
    "        blockPath(mat,*path[0])\n",
    "        barrier-=1\n",
    "    if barrier<0: \n",
    "        return False\n",
    "    return True"
   ]
  },
  {
   "cell_type": "code",
   "execution_count": 11,
   "metadata": {},
   "outputs": [],
   "source": [
    "def applyBarrier(mat,barrier):\n",
    "    hive=Hive(mat)\n",
    "    wasp=hive.getWaspPosition()\n",
    "    fNebors=hive.freeNeibors(*wasp)\n",
    "    edges=hive.getEdges()\n",
    "    \n",
    "    # method 1\n",
    "    if not barrier: return True\n",
    "\n",
    "    #method 2\n",
    "    if len(fNebors)==barrier:\n",
    "        for i,j in fNebors:\n",
    "            blockPath(mat,i,j)\n",
    "        return True\n",
    "    \n",
    "    #method 3\n",
    "    barrier-=putXonEdgeNebor(fNebors,edges,mat)\n",
    "    if barrier==0: return True\n",
    "\n",
    "    #method 4\n",
    "    if not putXonUniqueOrCommonPath(hive,wasp,edges,barrier):\n",
    "        printing(mat)\n",
    "        return False\n",
    "    return True"
   ]
  },
  {
   "cell_type": "code",
   "execution_count": 12,
   "metadata": {},
   "outputs": [],
   "source": [
    "def question(level,qn):\n",
    "    data=open(level)\n",
    "    lines=data.read().split('\\n\\n')\n",
    "    q=lines[qn].split('\\n')\n",
    "    mat=q[1:]\n",
    "    barrier=int(q[0])\n",
    "    print('qn. no.:',qn,'barrier:',barrier)\n",
    "    printing(mat)\n",
    "    return mat,barrier"
   ]
  },
  {
   "cell_type": "code",
   "execution_count": 15,
   "metadata": {},
   "outputs": [
    {
     "name": "stdout",
     "output_type": "stream",
     "text": [
      "qn. no.: 12 barrier: 5\n",
      "X   X   O   O   X   O   O   X   X   O   \n",
      "  O   X   O   X   O   W   O   X   O   O \n",
      "O   O   O   O   O   O   O   O   O   X   \n",
      "  O   O   O   O   O   O   X   O   O   O \n",
      "O   X   X   O   O   X   O   X   O   O   \n",
      "  O   O   O   O   X   X   X   O   O   X \n",
      "X   X   O   O   O   O   X   O   X   O   \n",
      "  X   O   O   O   X   O   O   O   O   O \n",
      "X   O   O   O   O   O   O   X   X   O   \n",
      "  O   X   O   O   O   O   O   X   O   O \n",
      "O   X   X   O   X   O   X   O   O   X   \n",
      "  O   O   O   O   X   O   O   O   X   O \n",
      "no. of x: 36\n",
      "\n"
     ]
    }
   ],
   "source": [
    "mat,barrier=question('level5/level5_3.in',12)"
   ]
  },
  {
   "cell_type": "code",
   "execution_count": 16,
   "metadata": {},
   "outputs": [
    {
     "name": "stdout",
     "output_type": "stream",
     "text": [
      "X   X   O   O   X   X   X   X   X   O   \n",
      "  O   X   O   X   X   W   X   X   O   O \n",
      "O   O   O   O   O   X   X   O   O   X   \n",
      "  O   O   O   O   O   O   X   O   O   O \n",
      "O   X   X   O   O   X   O   X   O   O   \n",
      "  O   O   O   O   X   X   X   O   O   X \n",
      "X   X   O   O   O   O   X   O   X   O   \n",
      "  X   O   O   O   X   O   O   O   O   O \n",
      "X   O   O   O   O   O   O   X   X   O   \n",
      "  O   X   O   O   O   O   O   X   O   O \n",
      "O   X   X   O   X   O   X   O   O   X   \n",
      "  O   O   O   O   X   O   O   O   X   O \n",
      "no. of x: 42\n",
      "\n",
      "X   X   O   O   X   X   X   X   X   O   \n",
      "  O   X   O   X   X   W   X   X   O   O \n",
      "O   O   O   O   O   X   X   O   O   X   \n",
      "  O   O   O   O   O   O   X   O   O   O \n",
      "O   X   X   O   O   X   O   X   O   O   \n",
      "  O   O   O   O   X   X   X   O   O   X \n",
      "X   X   O   O   O   O   X   O   X   O   \n",
      "  X   O   O   O   X   O   O   O   O   O \n",
      "X   O   O   O   O   O   O   X   X   O   \n",
      "  O   X   O   O   O   O   O   X   O   O \n",
      "O   X   X   O   X   O   X   O   O   X   \n",
      "  O   O   O   O   X   O   O   O   X   O \n",
      "no. of x: 42\n",
      "\n"
     ]
    }
   ],
   "source": [
    "applyBarrier(mat,barrier)\n",
    "printing(mat)"
   ]
  },
  {
   "cell_type": "markdown",
   "metadata": {},
   "source": [
    "## <font face='comic sans ms' color ='yellow'>testing Purpose</font>"
   ]
  },
  {
   "cell_type": "code",
   "execution_count": 135,
   "metadata": {},
   "outputs": [
    {
     "name": "stdout",
     "output_type": "stream",
     "text": [
      "X   X   O   O   X   X   X   X   X   O   \n",
      "  O   X   O   X   X   W   X   X   O   O \n",
      "O   O   O   O   O   X   X   O   O   X   \n",
      "  O   O   O   O   O   O   X   O   O   O \n",
      "O   X   X   O   O   X   O   X   O   O   \n",
      "  O   O   O   O   X   X   X   O   O   X \n",
      "X   X   O   O   O   O   X   O   X   O   \n",
      "  X   O   O   O   X   O   O   O   O   O \n",
      "X   O   O   O   O   O   O   X   X   O   \n",
      "  O   X   O   O   O   O   O   X   O   O \n",
      "O   X   X   O   X   O   X   O   O   X   \n",
      "  O   O   O   O   X   O   O   O   X   O \n",
      "no. of x: 42\n",
      "\n",
      "11\n"
     ]
    }
   ],
   "source": [
    "data=open('level5/level5_3.in')\n",
    "lines=data.read().split('\\n\\n')\n",
    "\n",
    "str1=lines[0]+'\\n\\n'\n",
    "for i in range(int(lines[0])):\n",
    "    que1=lines[i+1]\n",
    "    mat=que1.strip().split('\\n')\n",
    "    noBariers=int(mat[0])\n",
    "    mat=mat[1:]\n",
    "    if not applyBarrier(mat,noBariers):\n",
    "        print(i)\n",
    "    for line in mat:\n",
    "        str1+=line+'\\n'\n",
    "    str1+='\\n'\n",
    "\n",
    "file=open('output.txt','w')\n",
    "file.write(str1.strip())\n",
    "file.close()"
   ]
  },
  {
   "cell_type": "code",
   "execution_count": 68,
   "metadata": {},
   "outputs": [
    {
     "name": "stdout",
     "output_type": "stream",
     "text": [
      "free nebors of wasp: [(2, 2), (2, 4), (3, 5)]\n"
     ]
    }
   ],
   "source": [
    "hive=Hive(mat)\n",
    "wasp=hive.getWaspPosition()\n",
    "fNebors=hive.freeNeibors(*wasp)\n",
    "edges=hive.getEdges()\n",
    "print('free nebors of wasp:',fNebors)"
   ]
  },
  {
   "cell_type": "code",
   "execution_count": 69,
   "metadata": {},
   "outputs": [
    {
     "name": "stdout",
     "output_type": "stream",
     "text": [
      "[(2, 2), (2, 0)]\n",
      "[(2, 2), (1, 1)]\n",
      "[(2, 4), (2, 6), (3, 7), (4, 6)]\n",
      "[(3, 5), (4, 6)]\n"
     ]
    }
   ],
   "source": [
    "paths=[] # escaping paths\n",
    "escape(hive,wasp,edges,paths)\n",
    "for path in paths:\n",
    "    print(path)"
   ]
  },
  {
   "cell_type": "code",
   "execution_count": 70,
   "metadata": {},
   "outputs": [
    {
     "data": {
      "text/plain": [
       "[]"
      ]
     },
     "execution_count": 70,
     "metadata": {},
     "output_type": "execute_result"
    }
   ],
   "source": [
    "getUnRepeatedPathIndex(paths)"
   ]
  },
  {
   "cell_type": "code",
   "execution_count": 106,
   "metadata": {},
   "outputs": [
    {
     "data": {
      "text/plain": [
       "[[(2, 2)], [(4, 6)]]"
      ]
     },
     "execution_count": 106,
     "metadata": {},
     "output_type": "execute_result"
    }
   ],
   "source": [
    "getCommonPaths(paths,[])"
   ]
  },
  {
   "cell_type": "code",
   "execution_count": 111,
   "metadata": {},
   "outputs": [],
   "source": [
    "paths=[[(2, 2), (1, 1)],\n",
    " [(3, 5), (4, 6)],\n",
    " [(2, 2), (2, 4),(1, 1)],\n",
    " [(2, 4), (2, 6), (3, 7), (4, 6)]]"
   ]
  },
  {
   "cell_type": "code",
   "execution_count": 112,
   "metadata": {},
   "outputs": [
    {
     "data": {
      "text/plain": [
       "[[(2, 2), (1, 1)], [(4, 6)]]"
      ]
     },
     "execution_count": 112,
     "metadata": {},
     "output_type": "execute_result"
    }
   ],
   "source": [
    "getCommonStep(paths)"
   ]
  },
  {
   "cell_type": "code",
   "execution_count": 110,
   "metadata": {},
   "outputs": [
    {
     "data": {
      "text/plain": [
       "[[(2, 2), (1, 1)],\n",
       " [(2, 2), (2, 4)],\n",
       " [(2, 4), (2, 6), (3, 7), (4, 6)],\n",
       " [(3, 5), (4, 6)]]"
      ]
     },
     "execution_count": 110,
     "metadata": {},
     "output_type": "execute_result"
    }
   ],
   "source": [
    "paths"
   ]
  },
  {
   "cell_type": "code",
   "execution_count": 86,
   "metadata": {},
   "outputs": [
    {
     "data": {
      "text/plain": [
       "[2, 3, 1]"
      ]
     },
     "execution_count": 86,
     "metadata": {},
     "output_type": "execute_result"
    }
   ],
   "source": [
    "a"
   ]
  },
  {
   "cell_type": "code",
   "execution_count": null,
   "metadata": {},
   "outputs": [],
   "source": []
  }
 ],
 "metadata": {
  "kernelspec": {
   "display_name": "base",
   "language": "python",
   "name": "python3"
  },
  "language_info": {
   "codemirror_mode": {
    "name": "ipython",
    "version": 3
   },
   "file_extension": ".py",
   "mimetype": "text/x-python",
   "name": "python",
   "nbconvert_exporter": "python",
   "pygments_lexer": "ipython3",
   "version": "3.9.12"
  },
  "orig_nbformat": 4
 },
 "nbformat": 4,
 "nbformat_minor": 2
}
