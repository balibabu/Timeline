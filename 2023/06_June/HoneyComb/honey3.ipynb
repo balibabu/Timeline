{
 "cells": [
  {
   "cell_type": "code",
   "execution_count": 1,
   "metadata": {},
   "outputs": [],
   "source": [
    "def question(level,qn):\n",
    "    data=open(level)\n",
    "    lines=data.read().split('\\n\\n')\n",
    "    q=lines[qn].split('\\n')\n",
    "    mat=q[1:]\n",
    "    barrier=int(q[0])\n",
    "    print('qn. no.:',qn,'barrier:',barrier)\n",
    "    printing(mat)\n",
    "    return mat,barrier"
   ]
  },
  {
   "cell_type": "code",
   "execution_count": 2,
   "metadata": {},
   "outputs": [],
   "source": [
    "def printing(mat):\n",
    "    c=0\n",
    "    for i in mat:\n",
    "        for j in i:\n",
    "            if j=='X' : c+=1\n",
    "            print(j.replace('-',' '),end=' ')\n",
    "        print()\n",
    "    print('no. of x:',c)\n",
    "    print()"
   ]
  },
  {
   "cell_type": "code",
   "execution_count": 4,
   "metadata": {},
   "outputs": [
    {
     "name": "stdout",
     "output_type": "stream",
     "text": [
      "qn. no.: 12 barrier: 5\n",
      "X   X   O   O   X   O   O   X   X   O   \n",
      "  O   X   O   X   O   W   O   X   O   O \n",
      "O   O   O   O   O   O   O   O   O   X   \n",
      "  O   O   O   O   O   O   X   O   O   O \n",
      "O   X   X   O   O   X   O   X   O   O   \n",
      "  O   O   O   O   X   X   X   O   O   X \n",
      "X   X   O   O   O   O   X   O   X   O   \n",
      "  X   O   O   O   X   O   O   O   O   O \n",
      "X   O   O   O   O   O   O   X   X   O   \n",
      "  O   X   O   O   O   O   O   X   O   O \n",
      "O   X   X   O   X   O   X   O   O   X   \n",
      "  O   O   O   O   X   O   O   O   X   O \n",
      "no. of x: 36\n",
      "\n"
     ]
    }
   ],
   "source": [
    "mat,barrier=question('level5/level5_3.in',12)"
   ]
  },
  {
   "cell_type": "code",
   "execution_count": 5,
   "metadata": {},
   "outputs": [
    {
     "name": "stdout",
     "output_type": "stream",
     "text": [
      "free nebors of wasp: [(1, 9), (0, 10), (0, 12), (1, 13), (2, 12), (2, 10)]\n"
     ]
    }
   ],
   "source": [
    "from hive import Hive\n",
    "hive=Hive(mat)\n",
    "wasp=hive.getWaspPosition()\n",
    "fNebors=hive.freeNeibors(*wasp)\n",
    "edges=hive.getEdges()\n",
    "print('free nebors of wasp:',fNebors)"
   ]
  },
  {
   "cell_type": "code",
   "execution_count": null,
   "metadata": {},
   "outputs": [],
   "source": []
  }
 ],
 "metadata": {
  "kernelspec": {
   "display_name": "base",
   "language": "python",
   "name": "python3"
  },
  "language_info": {
   "codemirror_mode": {
    "name": "ipython",
    "version": 3
   },
   "file_extension": ".py",
   "mimetype": "text/x-python",
   "name": "python",
   "nbconvert_exporter": "python",
   "pygments_lexer": "ipython3",
   "version": "3.9.12"
  },
  "orig_nbformat": 4
 },
 "nbformat": 4,
 "nbformat_minor": 2
}
