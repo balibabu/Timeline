{
 "cells": [
  {
   "cell_type": "code",
   "execution_count": 2,
   "metadata": {},
   "outputs": [],
   "source": [
    "def getOPList(length,permu):\n",
    "    opList=[]\n",
    "    for i in range(length):\n",
    "        for j in range(i+1,length):\n",
    "            x,y=permu[i],permu[j]\n",
    "            if (x<=0<=y or y<=0<=x) and not(x>=0 and y>=0):\n",
    "                if abs(abs(x)-abs(y))==1:\n",
    "                    opList.append((permu[i],permu[j]))\n",
    "    return opList"
   ]
  },
  {
   "cell_type": "code",
   "execution_count": 15,
   "metadata": {},
   "outputs": [],
   "source": [
    "def getInversion(arr,i,j):\n",
    "    invArr=arr[:i]\n",
    "    if arr[i]+arr[j]==1:\n",
    "        \n",
    "    else:\n",
    "\n",
    "    invArr+=arr[j+1:]\n",
    "    return invArr"
   ]
  },
  {
   "cell_type": "code",
   "execution_count": 3,
   "metadata": {},
   "outputs": [
    {
     "name": "stdout",
     "output_type": "stream",
     "text": [
      "[8, 0, 3, 1, 6, 5, -2, 4, 7]\n"
     ]
    }
   ],
   "source": [
    "data=list(map(int,input().split()))\n",
    "print(data)"
   ]
  },
  {
   "cell_type": "code",
   "execution_count": 4,
   "metadata": {},
   "outputs": [],
   "source": [
    "length=data[0]\n",
    "permu=data[1:length+1]"
   ]
  },
  {
   "attachments": {},
   "cell_type": "markdown",
   "metadata": {},
   "source": [
    "### <font face='comic sans ms' color ='magenta'>Level 1</font>"
   ]
  },
  {
   "cell_type": "code",
   "execution_count": 38,
   "metadata": {},
   "outputs": [],
   "source": [
    "opList=getOPList(length,permu)"
   ]
  },
  {
   "cell_type": "code",
   "execution_count": 39,
   "metadata": {},
   "outputs": [
    {
     "name": "stdout",
     "output_type": "stream",
     "text": [
      "2 1 -2 3 -2 "
     ]
    }
   ],
   "source": [
    "opList.sort()\n",
    "print(len(opList),end=' ')\n",
    "for x,y in opList:\n",
    "    print(x,y,end=' ')"
   ]
  },
  {
   "attachments": {},
   "cell_type": "markdown",
   "metadata": {},
   "source": [
    "### <font face='comic sans ms' color ='magenta'>Level 2</font>"
   ]
  },
  {
   "cell_type": "code",
   "execution_count": 136,
   "metadata": {},
   "outputs": [
    {
     "data": {
      "text/plain": [
       "[-45, 12, 44, 94]"
      ]
     },
     "execution_count": 136,
     "metadata": {},
     "output_type": "execute_result"
    }
   ],
   "source": [
    "inversionPairWithIndex=data[length+1:]\n",
    "inversionPairWithIndex"
   ]
  },
  {
   "cell_type": "code",
   "execution_count": 137,
   "metadata": {},
   "outputs": [],
   "source": [
    "xi,i,xj,j=inversionPairWithIndex"
   ]
  },
  {
   "cell_type": "code",
   "execution_count": 138,
   "metadata": {},
   "outputs": [],
   "source": [
    "\n",
    "if xi+xj==1:\n",
    "    loop=range(i,j)\n",
    "else:\n",
    "    loop=range(i+1,j+1)\n"
   ]
  },
  {
   "cell_type": "code",
   "execution_count": 139,
   "metadata": {},
   "outputs": [],
   "source": [
    "arr=permu[:loop[0]]\n",
    "invArr=[]\n",
    "for pos in loop:\n",
    "    invArr.append(permu[pos]*(-1))"
   ]
  },
  {
   "cell_type": "code",
   "execution_count": 140,
   "metadata": {},
   "outputs": [],
   "source": [
    "arr+=invArr[-1::-1]+permu[loop[-1]+1:]"
   ]
  },
  {
   "cell_type": "code",
   "execution_count": 16,
   "metadata": {},
   "outputs": [
    {
     "ename": "NameError",
     "evalue": "name 'arr' is not defined",
     "output_type": "error",
     "traceback": [
      "\u001b[1;31m---------------------------------------------------------------------------\u001b[0m",
      "\u001b[1;31mNameError\u001b[0m                                 Traceback (most recent call last)",
      "\u001b[1;32md:\\Works_Space\\Timeline\\2023\\06_June\\GeneticDrift\\genetic.ipynb Cell 14\u001b[0m in \u001b[0;36m<cell line: 1>\u001b[1;34m()\u001b[0m\n\u001b[1;32m----> <a href='vscode-notebook-cell:/d%3A/Works_Space/Timeline/2023/06_June/GeneticDrift/genetic.ipynb#X16sZmlsZQ%3D%3D?line=0'>1</a>\u001b[0m arr\n",
      "\u001b[1;31mNameError\u001b[0m: name 'arr' is not defined"
     ]
    }
   ],
   "source": [
    "arr"
   ]
  },
  {
   "cell_type": "code",
   "execution_count": 142,
   "metadata": {},
   "outputs": [
    {
     "data": {
      "text/plain": [
       "[(125, -124),\n",
       " (136, -137),\n",
       " (-52, 53),\n",
       " (-39, 38),\n",
       " (65, -66),\n",
       " (164, -165),\n",
       " (-28, 29),\n",
       " (72, -71),\n",
       " (77, -78),\n",
       " (169, -168),\n",
       " (86, -85),\n",
       " (96, -97),\n",
       " (153, -152)]"
      ]
     },
     "execution_count": 142,
     "metadata": {},
     "output_type": "execute_result"
    }
   ],
   "source": [
    "getOPList(length,arr)"
   ]
  },
  {
   "cell_type": "code",
   "execution_count": 143,
   "metadata": {},
   "outputs": [
    {
     "data": {
      "text/plain": [
       "13"
      ]
     },
     "execution_count": 143,
     "metadata": {},
     "output_type": "execute_result"
    }
   ],
   "source": [
    "len(getOPList(length,arr))"
   ]
  },
  {
   "cell_type": "markdown",
   "metadata": {},
   "source": [
    "### <font face='comic sans ms' color ='magenta'>Level 3</font>"
   ]
  },
  {
   "cell_type": "code",
   "execution_count": 6,
   "metadata": {},
   "outputs": [],
   "source": [
    "def getInvPairIndex(length,permu):\n",
    "    opIndices=[]\n",
    "    for i in range(length):\n",
    "        for j in range(i+1,length):\n",
    "            x,y=permu[i],permu[j]\n",
    "            if (x<=0<=y or y<=0<=x) and not(x>=0 and y>=0):\n",
    "                if abs(abs(x)-abs(y))==1:\n",
    "                    opIndices.append((i,j))\n",
    "    return opIndices"
   ]
  },
  {
   "cell_type": "code",
   "execution_count": 8,
   "metadata": {},
   "outputs": [],
   "source": [
    "def getInvPairIndexWithMaxScore(length,permu):\n",
    "    indices=getOPList(length,permu)\n",
    "    result=[0,indices[0]]\n",
    "    for index in indices:\n",
    "        invArr=getInversion(permu,*index)\n",
    "        score=len(getInvPairIndex(length,invArr))\n",
    "        if score>result[0]:\n",
    "            result=[score,index]\n",
    "    return result[1]"
   ]
  },
  {
   "cell_type": "code",
   "execution_count": 11,
   "metadata": {},
   "outputs": [
    {
     "data": {
      "text/plain": [
       "[(1, 5), (2, 5)]"
      ]
     },
     "execution_count": 11,
     "metadata": {},
     "output_type": "execute_result"
    }
   ],
   "source": [
    "getInvPairIndex(length,permu)"
   ]
  },
  {
   "cell_type": "code",
   "execution_count": 17,
   "metadata": {},
   "outputs": [
    {
     "data": {
      "text/plain": [
       "[0]"
      ]
     },
     "execution_count": 17,
     "metadata": {},
     "output_type": "execute_result"
    }
   ],
   "source": [
    "getInversion(permu,1,5)"
   ]
  },
  {
   "cell_type": "code",
   "execution_count": 20,
   "metadata": {},
   "outputs": [],
   "source": [
    "def fun(i):\n",
    "    return -i"
   ]
  },
  {
   "cell_type": "code",
   "execution_count": 25,
   "metadata": {},
   "outputs": [
    {
     "data": {
      "text/plain": [
       "[-1, -2, -3]"
      ]
     },
     "execution_count": 25,
     "metadata": {},
     "output_type": "execute_result"
    }
   ],
   "source": [
    "list(map(fun,[1,2,3]))"
   ]
  },
  {
   "cell_type": "code",
   "execution_count": null,
   "metadata": {},
   "outputs": [],
   "source": []
  }
 ],
 "metadata": {
  "kernelspec": {
   "display_name": "base",
   "language": "python",
   "name": "python3"
  },
  "language_info": {
   "codemirror_mode": {
    "name": "ipython",
    "version": 3
   },
   "file_extension": ".py",
   "mimetype": "text/x-python",
   "name": "python",
   "nbconvert_exporter": "python",
   "pygments_lexer": "ipython3",
   "version": "3.9.12"
  },
  "orig_nbformat": 4
 },
 "nbformat": 4,
 "nbformat_minor": 2
}
