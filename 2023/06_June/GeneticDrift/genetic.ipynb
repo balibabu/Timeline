{
 "cells": [
  {
   "cell_type": "code",
   "execution_count": 17,
   "metadata": {},
   "outputs": [],
   "source": [
    "def getOPList(length,permu):\n",
    "    opList=[]\n",
    "    for i in range(length):\n",
    "        for j in range(i+1,length):\n",
    "            x,y=permu[i],permu[j]\n",
    "            if (x<=0<=y or y<=0<=x) and not(x>=0 and y>=0):\n",
    "                if abs(abs(x)-abs(y))==1:\n",
    "                    opList.append((permu[i],permu[j]))\n",
    "    return opList"
   ]
  },
  {
   "cell_type": "code",
   "execution_count": 18,
   "metadata": {},
   "outputs": [],
   "source": [
    "def getInversion(arr,i,j):\n",
    "    if arr[i]+arr[j]==1:\n",
    "        inv=arr[:i]+list(map(lambda x:-x,arr[i:j][-1::-1]))+arr[j:]\n",
    "    else: \n",
    "        inv=arr[:i+1]+list(map(lambda x:-x,arr[i+1:j+1][-1::-1]))+arr[j+1:]\n",
    "    return inv"
   ]
  },
  {
   "cell_type": "code",
   "execution_count": 67,
   "metadata": {},
   "outputs": [
    {
     "name": "stdout",
     "output_type": "stream",
     "text": [
      "[193, 125, 133, 134, 135, 136, -52, -51, -50, -49, -48, -47, -46, -45, 66, 67, 68, 69, 70, 71, -38, -37, -36, -35, -34, -33, -32, -31, -30, -29, -132, -131, -130, -193, -192, -191, -190, -189, -188, -187, -186, -185, -184, -183, -182, -181, -180, -179, -178, -177, -176, -175, -174, -173, -172, -171, -170, -169, -77, -76, -75, -74, -73, -72, 18, 19, 20, 21, 22, 23, 24, 25, 26, 27, 28, -164, -163, -65, -64, -63, -62, -61, -60, -59, -58, -57, -56, -55, -54, -53, 39, 40, 41, 42, 43, 44, 159, 160, 161, 162, -17, -16, -15, -14, -13, -12, -11, -10, -9, -8, -7, -6, -5, -4, -3, -2, -1, -168, -167, -166, -165, 126, 127, 128, 129, 86, 87, 88, 89, 90, 91, 92, 93, 94, 95, 96, -124, -123, -122, -121, -120, -119, -118, -117, -116, -115, -114, -113, -112, -111, -110, -109, -108, -107, -106, -105, -104, -103, -102, -101, -100, -99, -98, -97, 153, 154, 155, 156, 157, 158, -148, -147, -146, -145, -144, -143, -142, -141, -140, -139, -138, -137, -85, -84, -83, -82, -81, -80, -79, -78, -152, -151, -150, -149]\n"
     ]
    }
   ],
   "source": [
    "data=list(map(int,input().split()))\n",
    "print(data)"
   ]
  },
  {
   "cell_type": "code",
   "execution_count": 68,
   "metadata": {},
   "outputs": [],
   "source": [
    "length=data[0]\n",
    "permu=data[1:length+1]"
   ]
  },
  {
   "attachments": {},
   "cell_type": "markdown",
   "metadata": {},
   "source": [
    "### <font face='comic sans ms' color ='magenta'>Level 1</font>"
   ]
  },
  {
   "cell_type": "code",
   "execution_count": 38,
   "metadata": {},
   "outputs": [],
   "source": [
    "opList=getOPList(length,permu)"
   ]
  },
  {
   "cell_type": "code",
   "execution_count": 39,
   "metadata": {},
   "outputs": [
    {
     "name": "stdout",
     "output_type": "stream",
     "text": [
      "2 1 -2 3 -2 "
     ]
    }
   ],
   "source": [
    "opList.sort()\n",
    "print(len(opList),end=' ')\n",
    "for x,y in opList:\n",
    "    print(x,y,end=' ')"
   ]
  },
  {
   "attachments": {},
   "cell_type": "markdown",
   "metadata": {},
   "source": [
    "### <font face='comic sans ms' color ='magenta'>Level 2</font>"
   ]
  },
  {
   "cell_type": "code",
   "execution_count": 136,
   "metadata": {},
   "outputs": [
    {
     "data": {
      "text/plain": [
       "[-45, 12, 44, 94]"
      ]
     },
     "execution_count": 136,
     "metadata": {},
     "output_type": "execute_result"
    }
   ],
   "source": [
    "inversionPairWithIndex=data[length+1:]\n",
    "inversionPairWithIndex"
   ]
  },
  {
   "cell_type": "code",
   "execution_count": 137,
   "metadata": {},
   "outputs": [],
   "source": [
    "xi,i,xj,j=inversionPairWithIndex"
   ]
  },
  {
   "cell_type": "code",
   "execution_count": 138,
   "metadata": {},
   "outputs": [],
   "source": [
    "\n",
    "if xi+xj==1:\n",
    "    loop=range(i,j)\n",
    "else:\n",
    "    loop=range(i+1,j+1)\n"
   ]
  },
  {
   "cell_type": "code",
   "execution_count": 139,
   "metadata": {},
   "outputs": [],
   "source": [
    "arr=permu[:loop[0]]\n",
    "invArr=[]\n",
    "for pos in loop:\n",
    "    invArr.append(permu[pos]*(-1))"
   ]
  },
  {
   "cell_type": "code",
   "execution_count": 140,
   "metadata": {},
   "outputs": [],
   "source": [
    "arr+=invArr[-1::-1]+permu[loop[-1]+1:]"
   ]
  },
  {
   "cell_type": "code",
   "execution_count": 16,
   "metadata": {},
   "outputs": [
    {
     "ename": "NameError",
     "evalue": "name 'arr' is not defined",
     "output_type": "error",
     "traceback": [
      "\u001b[1;31m---------------------------------------------------------------------------\u001b[0m",
      "\u001b[1;31mNameError\u001b[0m                                 Traceback (most recent call last)",
      "\u001b[1;32md:\\Works_Space\\Timeline\\2023\\06_June\\GeneticDrift\\genetic.ipynb Cell 14\u001b[0m in \u001b[0;36m<cell line: 1>\u001b[1;34m()\u001b[0m\n\u001b[1;32m----> <a href='vscode-notebook-cell:/d%3A/Works_Space/Timeline/2023/06_June/GeneticDrift/genetic.ipynb#X16sZmlsZQ%3D%3D?line=0'>1</a>\u001b[0m arr\n",
      "\u001b[1;31mNameError\u001b[0m: name 'arr' is not defined"
     ]
    }
   ],
   "source": [
    "arr"
   ]
  },
  {
   "cell_type": "code",
   "execution_count": 142,
   "metadata": {},
   "outputs": [
    {
     "data": {
      "text/plain": [
       "[(125, -124),\n",
       " (136, -137),\n",
       " (-52, 53),\n",
       " (-39, 38),\n",
       " (65, -66),\n",
       " (164, -165),\n",
       " (-28, 29),\n",
       " (72, -71),\n",
       " (77, -78),\n",
       " (169, -168),\n",
       " (86, -85),\n",
       " (96, -97),\n",
       " (153, -152)]"
      ]
     },
     "execution_count": 142,
     "metadata": {},
     "output_type": "execute_result"
    }
   ],
   "source": [
    "getOPList(length,arr)"
   ]
  },
  {
   "cell_type": "code",
   "execution_count": 143,
   "metadata": {},
   "outputs": [
    {
     "data": {
      "text/plain": [
       "13"
      ]
     },
     "execution_count": 143,
     "metadata": {},
     "output_type": "execute_result"
    }
   ],
   "source": [
    "len(getOPList(length,arr))"
   ]
  },
  {
   "cell_type": "markdown",
   "metadata": {},
   "source": [
    "### <font face='comic sans ms' color ='magenta'>Level 3</font>"
   ]
  },
  {
   "cell_type": "code",
   "execution_count": 39,
   "metadata": {},
   "outputs": [],
   "source": [
    "def getInvPairIndex(length,permu):\n",
    "    opIndices=[]\n",
    "    for i in range(length):\n",
    "        for j in range(i+1,length):\n",
    "            x,y=permu[i],permu[j]\n",
    "            if (x<=0<=y or y<=0<=x) and not(x>=0 and y>=0) and not(x<0 and y<0):\n",
    "                if abs(abs(x)-abs(y))==1:\n",
    "                    opIndices.append((i,j))\n",
    "    return opIndices"
   ]
  },
  {
   "cell_type": "code",
   "execution_count": 57,
   "metadata": {},
   "outputs": [],
   "source": [
    "def getInvPairIndexWithMaxScore(length,permu):\n",
    "    indices=getInvPairIndex(length,permu)\n",
    "    result=[0,indices[0]]\n",
    "    for index in indices:\n",
    "        invArr=getInversion(permu,*index)\n",
    "        score=len(getInvPairIndex(length,invArr))\n",
    "        if score>=result[0]:\n",
    "            result=[score,index]\n",
    "    return result[1]"
   ]
  },
  {
   "cell_type": "code",
   "execution_count": 64,
   "metadata": {},
   "outputs": [],
   "source": [
    "def getMinStepArrang(length,arr):\n",
    "    count=0\n",
    "    while not isSorted(arr):\n",
    "        pair=getInvPairIndexWithMaxScore(length,arr)\n",
    "        arr=getInversion(arr,*pair)\n",
    "        count+=1\n",
    "    return count"
   ]
  },
  {
   "cell_type": "code",
   "execution_count": 41,
   "metadata": {},
   "outputs": [],
   "source": [
    "def isSorted(arr):\n",
    "    for i in range(len(arr)-1):\n",
    "        if arr[i]>arr[i+1]: return False\n",
    "    return True"
   ]
  },
  {
   "cell_type": "code",
   "execution_count": 69,
   "metadata": {},
   "outputs": [
    {
     "data": {
      "text/plain": [
       "20"
      ]
     },
     "execution_count": 69,
     "metadata": {},
     "output_type": "execute_result"
    }
   ],
   "source": [
    "getMinStepArrang(length,permu)"
   ]
  },
  {
   "cell_type": "code",
   "execution_count": 48,
   "metadata": {},
   "outputs": [
    {
     "data": {
      "text/plain": [
       "[(0, 3), (1, 6), (2, 7), (3, 4)]"
      ]
     },
     "execution_count": 48,
     "metadata": {},
     "output_type": "execute_result"
    }
   ],
   "source": [
    "getInvPairIndex(length,[0, -5, -6, -1, 2, 3, 4, 7])"
   ]
  },
  {
   "cell_type": "code",
   "execution_count": 61,
   "metadata": {},
   "outputs": [
    {
     "data": {
      "text/plain": [
       "(1, 6)"
      ]
     },
     "execution_count": 61,
     "metadata": {},
     "output_type": "execute_result"
    }
   ],
   "source": [
    "getInvPairIndexWithMaxScore(length,[0, -5, -4, -3, -2, -1, 6, 7])"
   ]
  },
  {
   "cell_type": "code",
   "execution_count": 63,
   "metadata": {},
   "outputs": [
    {
     "data": {
      "text/plain": [
       "[0, 1, 2, 3, 4, 5, 6, 7]"
      ]
     },
     "execution_count": 63,
     "metadata": {},
     "output_type": "execute_result"
    }
   ],
   "source": [
    "getInversion([0, -5, -4, -3, -2, -1, 6, 7],*(1,6))"
   ]
  },
  {
   "cell_type": "code",
   "execution_count": 56,
   "metadata": {},
   "outputs": [
    {
     "data": {
      "text/plain": [
       "[(1, 6), (2, 7)]"
      ]
     },
     "execution_count": 56,
     "metadata": {},
     "output_type": "execute_result"
    }
   ],
   "source": [
    "getInvPairIndex(length,[0, -5, -6, 1, 2, 3, 4, 7])"
   ]
  },
  {
   "cell_type": "code",
   "execution_count": null,
   "metadata": {},
   "outputs": [],
   "source": [
    "[0, -5, -6, -1, -3, -2, 4, 7]\n",
    "[0, -5, -6, -1, 2, 3, 4, 7]\n",
    "[0, -5, -6, 1, 2, 3, 4, 7]\n",
    "[0, -5, -4, -3, -2, -1, 6, 7]\n",
    "[0, 1, 2, 3, 4, 5, 6, 7]"
   ]
  },
  {
   "cell_type": "code",
   "execution_count": 35,
   "metadata": {},
   "outputs": [
    {
     "data": {
      "text/plain": [
       "[0, 3, 1, 6, 5, -2, 4, 7]"
      ]
     },
     "execution_count": 35,
     "metadata": {},
     "output_type": "execute_result"
    }
   ],
   "source": [
    "permu"
   ]
  },
  {
   "cell_type": "code",
   "execution_count": 8,
   "metadata": {},
   "outputs": [
    {
     "data": {
      "text/plain": [
       "[4, -2, 5, 6, 1, 3]"
      ]
     },
     "execution_count": 8,
     "metadata": {},
     "output_type": "execute_result"
    }
   ],
   "source": [
    "arr1[-1::-1]"
   ]
  },
  {
   "cell_type": "code",
   "execution_count": 42,
   "metadata": {},
   "outputs": [
    {
     "data": {
      "text/plain": [
       "[]"
      ]
     },
     "execution_count": 42,
     "metadata": {},
     "output_type": "execute_result"
    }
   ],
   "source": [
    "arr1[3:-1:-1]"
   ]
  },
  {
   "cell_type": "code",
   "execution_count": 25,
   "metadata": {},
   "outputs": [
    {
     "data": {
      "text/plain": [
       "[-1, -2, -3]"
      ]
     },
     "execution_count": 25,
     "metadata": {},
     "output_type": "execute_result"
    }
   ],
   "source": [
    "list(map(fun,[1,2,3]))"
   ]
  },
  {
   "cell_type": "code",
   "execution_count": 26,
   "metadata": {},
   "outputs": [
    {
     "data": {
      "text/plain": [
       "[-1, -2, -3]"
      ]
     },
     "execution_count": 26,
     "metadata": {},
     "output_type": "execute_result"
    }
   ],
   "source": [
    "list(map(lambda i: -i, [1, 2, 3]))"
   ]
  },
  {
   "cell_type": "code",
   "execution_count": null,
   "metadata": {},
   "outputs": [],
   "source": [
    "3 1 2 -5 -6 4"
   ]
  }
 ],
 "metadata": {
  "kernelspec": {
   "display_name": "base",
   "language": "python",
   "name": "python3"
  },
  "language_info": {
   "codemirror_mode": {
    "name": "ipython",
    "version": 3
   },
   "file_extension": ".py",
   "mimetype": "text/x-python",
   "name": "python",
   "nbconvert_exporter": "python",
   "pygments_lexer": "ipython3",
   "version": "3.9.12"
  },
  "orig_nbformat": 4
 },
 "nbformat": 4,
 "nbformat_minor": 2
}
