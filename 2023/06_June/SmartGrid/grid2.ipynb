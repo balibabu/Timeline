{
 "cells": [
  {
   "cell_type": "code",
   "execution_count": 32,
   "metadata": {},
   "outputs": [],
   "source": [
    "def recursion(maxBill,tskPowStEn,tid,currPos,pricesLimit,prices):\n",
    "    if maxBill<0: return False\n",
    "    if currPos>tskPowStEn[tid-1][3]: return False # if current pos exceed end pos\n",
    "    if tskPowStEn[tid-1][1]==0: # if power is 0\n",
    "        if tid==len(tskPowStEn): return True\n",
    "        return recursion(maxBill,tskPowStEn,tid+1,tskPowStEn[tid][2],pricesLimit,prices)\n",
    "    \n",
    "    power=tskPowStEn[tid-1][1]\n",
    "    if pricesLimit[prices[currPos]]<=power:\n",
    "        tempLimit=pricesLimit[prices[currPos]]\n",
    "        bill=tempLimit*prices[currPos]\n",
    "        tskPowStEn[tid-1][1]-=tempLimit\n",
    "        pricesLimit[prices[currPos]]=0\n",
    "        while not recursion(maxBill-bill,tskPowStEn,tid,currPos+1,pricesLimit,prices):\n",
    "            pricesLimit[prices[currPos]]+=tempLimit\n",
    "            tskPowStEn[tid-1][1]+=tempLimit\n",
    "            tempLimit=0\n",
    "            bill=0\n",
    "            currPos+=1\n",
    "            print(tid,currPos)\n",
    "            if currPos>tskPowStEn[tid-1][3]: \n",
    "                tid-=1\n",
    "                currPos=\n",
    "        return True\n",
    "    else:\n",
    "        bill=power*prices[currPos]\n",
    "        pricesLimit[prices[currPos]]-=power\n",
    "        tskPowStEn[tid-1][1]-=power\n",
    "        while not recursion(maxBill-bill,tskPowStEn,tid,currPos+1,pricesLimit,prices):\n",
    "            pricesLimit[prices[currPos]]-=power\n",
    "            tskPowStEn[tid-1][1]-=power\n",
    "            power=0\n",
    "            bill=0\n",
    "            currPos+=1\n",
    "            if currPos>tskPowStEn[tid-1][3]: return False \n",
    "        return True\n"
   ]
  },
  {
   "cell_type": "code",
   "execution_count": 1,
   "metadata": {},
   "outputs": [],
   "source": [
    "def rec1(maxBill,tidpse,tid,prices,pricesLimit):\n",
    "    if tid==(tidpse[-1][0]+1) and maxBill==0: return True\n",
    "    if maxBill==0: return False\n",
    "\n",
    "    _,_,start,end=tidpse[tid-1]\n",
    "    for i in range(start,end+1):\n",
    "        # perform\n",
    "        if rec1(maxBill,tidpse,tid,prices,pricesLimit): return True\n",
    "        # undo\n"
   ]
  },
  {
   "cell_type": "code",
   "execution_count": 2,
   "metadata": {},
   "outputs": [],
   "source": [
    "prices=[6139, 6204, 5839, 6402, 7169, 9608, 9301, 9700, 8642, 8191, 8590, 8553, 8290, 7576, 7589, 7153, 7234, 7762, 8247, 7989, 8769, 8430, 8469, 8338, 7754, 8526, 6617, 7806, 7135, 5925, 5944, 4303, 4491, 3822, 2030, 3368, 4013, 2551, 1851, 3061, 3286, 3674, 4504, 4905, 5801, 6043, 6148, 6152, 6804, 8136]\n",
    "pricesLimit={x:5 for x in prices}\n",
    "maxBill=500000\n",
    "tskPowStEn=[[1, 1, 35, 39], [2, 4, 25, 34], [3, 1, 39, 47], [4, 36, 11, 49], [5, 2, 35, 41], [6, 16, 18, 47], [7, 1, 35, 48], [8, 40, 2, 42], [9, 4, 29, 47], [10, 13, 34, 49]]\n",
    "tid=1\n",
    "currPos=tskPowStEn[tid-1][2]"
   ]
  },
  {
   "cell_type": "code",
   "execution_count": 6,
   "metadata": {},
   "outputs": [
    {
     "name": "stdout",
     "output_type": "stream",
     "text": [
      "25 34\n"
     ]
    }
   ],
   "source": [
    "rec1(maxBill,tskPowStEn,2,prices,pricesLimit)"
   ]
  },
  {
   "cell_type": "code",
   "execution_count": 3,
   "metadata": {},
   "outputs": [],
   "source": [
    "# recursion(maxBill,tskPowStEn,tid,currPos,pricesLimit,prices)"
   ]
  },
  {
   "cell_type": "code",
   "execution_count": 26,
   "metadata": {},
   "outputs": [
    {
     "name": "stdout",
     "output_type": "stream",
     "text": [
      "{7428: 5, 9824: 5, 6914: 0, 9473: 0, 7666: 4, 4950: 4, 2248: 1, 3305: 4, 6439: 5, 6393: 5}\n"
     ]
    }
   ],
   "source": [
    "print(pricesLimit)"
   ]
  },
  {
   "cell_type": "code",
   "execution_count": 5,
   "metadata": {},
   "outputs": [
    {
     "ename": "NameError",
     "evalue": "name 'power' is not defined",
     "output_type": "error",
     "traceback": [
      "\u001b[1;31m---------------------------------------------------------------------------\u001b[0m",
      "\u001b[1;31mNameError\u001b[0m                                 Traceback (most recent call last)",
      "\u001b[1;32md:\\Works_Space\\Timeline\\2023\\06_June\\SmartGrid\\grid2.ipynb Cell 5\u001b[0m in \u001b[0;36m<cell line: 1>\u001b[1;34m()\u001b[0m\n\u001b[1;32m----> <a href='vscode-notebook-cell:/d%3A/Works_Space/Timeline/2023/06_June/SmartGrid/grid2.ipynb#W3sZmlsZQ%3D%3D?line=0'>1</a>\u001b[0m power\n",
      "\u001b[1;31mNameError\u001b[0m: name 'power' is not defined"
     ]
    }
   ],
   "source": [
    "power=tskPowStEn[tid-1][1]"
   ]
  },
  {
   "cell_type": "code",
   "execution_count": null,
   "metadata": {},
   "outputs": [],
   "source": [
    "def recursion(maxBill,tskPowStEn,tid,currPos,pricesLimit,prices):\n",
    "    if maxBill<0: return False\n",
    "    if currPos>tskPowStEn[tid-1][3]: return False # if current pos exceed end pos\n",
    "    if tskPowStEn[tid-1][1]==0: # if power is 0\n",
    "        if tid==len(tskPowStEn): return True\n",
    "        return recursion(maxBill,tskPowStEn,tid+1,tskPowStEn[tid][2],pricesLimit,prices)\n",
    "    \n",
    "    power=tskPowStEn[tid-1][1]\n",
    "    if pricesLimit[prices[currPos]]<=power:\n",
    "        maxBill-=pricesLimit[prices[currPos]]*prices[currPos]\n",
    "        tskPowStEn[tid-1][1]-=pricesLimit[prices[currPos]]\n",
    "        pricesLimit[prices[currPos]]=0\n",
    "        return recursion(maxBill,tskPowStEn,tid,currPos+1,pricesLimit,prices)\n",
    "    else:\n",
    "        maxBill-=power*prices[currPos]\n",
    "        pricesLimit[prices[currPos]]-=power\n",
    "        tskPowStEn[tid-1][1]-=power\n",
    "        return recursion(maxBill,tskPowStEn,tid,currPos+1,pricesLimit,prices)"
   ]
  },
  {
   "cell_type": "code",
   "execution_count": null,
   "metadata": {},
   "outputs": [],
   "source": [
    "def recursion(maxBill,tskPowStEn,tid,currPos,pricesLimit,prices):\n",
    "    if maxBill<0: return False\n",
    "    if currPos>tskPowStEn[tid-1][3]: return False # if current pos exceed end pos\n",
    "    if tskPowStEn[tid-1][1]==0: # if power is 0\n",
    "        if tid==len(tskPowStEn): return True\n",
    "        return recursion(maxBill,tskPowStEn,tid+1,tskPowStEn[tid][2],pricesLimit,prices)\n",
    "    \n",
    "    power=tskPowStEn[tid-1][1]\n",
    "    if pricesLimit[prices[currPos]]<=power:\n",
    "        tempLimit=pricesLimit[prices[currPos]]\n",
    "        bill=tempLimit*prices[currPos]\n",
    "        tskPowStEn[tid-1][1]-=tempLimit\n",
    "        pricesLimit[prices[currPos]]=0\n",
    "        while not recursion(maxBill-bill,tskPowStEn,tid,currPos+1,pricesLimit,prices):\n",
    "            pricesLimit[prices[currPos]]+=tempLimit\n",
    "            tskPowStEn[tid-1][1]+=tempLimit\n",
    "            tempLimit=0\n",
    "            bill=0\n",
    "            currPos+=1\n",
    "            if currPos>tskPowStEn[tid-1][3]: return False \n",
    "        return True\n",
    "    else:\n",
    "        maxBill-=power*prices[currPos]\n",
    "        pricesLimit[prices[currPos]]-=power\n",
    "        tskPowStEn[tid-1][1]-=power\n",
    "        return recursion(maxBill,tskPowStEn,tid,currPos+1,pricesLimit,prices)"
   ]
  }
 ],
 "metadata": {
  "kernelspec": {
   "display_name": "base",
   "language": "python",
   "name": "python3"
  },
  "language_info": {
   "codemirror_mode": {
    "name": "ipython",
    "version": 3
   },
   "file_extension": ".py",
   "mimetype": "text/x-python",
   "name": "python",
   "nbconvert_exporter": "python",
   "pygments_lexer": "ipython3",
   "version": "3.9.12"
  },
  "orig_nbformat": 4
 },
 "nbformat": 4,
 "nbformat_minor": 2
}
