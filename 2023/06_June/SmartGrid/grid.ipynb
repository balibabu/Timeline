{
 "cells": [
  {
   "cell_type": "markdown",
   "metadata": {},
   "source": [
    "### <font face='comic sans ms' color ='magenta'>Level 1</font>"
   ]
  },
  {
   "cell_type": "code",
   "execution_count": 2,
   "metadata": {},
   "outputs": [],
   "source": [
    "data=open('input/level1_1.in')\n",
    "lines=data.readlines()\n",
    "N=int(lines[0])\n",
    "prices=[int(lines[i]) for i in range(1,N+1)]"
   ]
  },
  {
   "cell_type": "code",
   "execution_count": null,
   "metadata": {},
   "outputs": [],
   "source": [
    "minPriceId=0\n",
    "for i in range(N):\n",
    "    if prices[minPriceId]>prices[i]:\n",
    "        minPriceId=i\n",
    "minPriceId"
   ]
  },
  {
   "cell_type": "markdown",
   "metadata": {},
   "source": [
    "### <font face='comic sans ms' color ='magenta'>Level 2</font>"
   ]
  },
  {
   "cell_type": "code",
   "execution_count": 24,
   "metadata": {},
   "outputs": [],
   "source": [
    "data=open('input/level2_5.in')\n",
    "lines=data.readlines()\n",
    "N=int(lines[0])\n",
    "prices=[int(lines[i]) for i in range(1,N+1)]\n",
    "M=int(lines[N+1])\n",
    "taskIdAndComplTime=[tuple(map(int,lines[i].split())) for i in range(N+2,N+2+M)]"
   ]
  },
  {
   "cell_type": "code",
   "execution_count": 25,
   "metadata": {},
   "outputs": [],
   "source": [
    "def getMinPriceStartId(N,prices,minutes):\n",
    "    startId=0\n",
    "    for i in range(0,N-minutes+1):\n",
    "        tempPriceSum=sum(prices[i:i+minutes])\n",
    "        if tempPriceSum<sum(prices[startId:startId+minutes]):\n",
    "            startId=i\n",
    "    return startId"
   ]
  },
  {
   "cell_type": "code",
   "execution_count": 23,
   "metadata": {},
   "outputs": [
    {
     "name": "stdout",
     "output_type": "stream",
     "text": [
      "200\n",
      "1 8672\n",
      "2 0\n",
      "3 2296\n",
      "4 1473\n",
      "5 1050\n",
      "6 7570\n",
      "7 8884\n",
      "8 5548\n",
      "9 0\n",
      "10 6081\n",
      "11 7949\n",
      "12 5130\n",
      "13 1889\n",
      "14 5694\n",
      "15 5496\n",
      "16 5370\n",
      "17 1641\n",
      "18 2048\n",
      "19 8747\n",
      "20 5421\n",
      "21 4423\n",
      "22 5682\n",
      "23 5326\n",
      "24 5261\n",
      "25 949\n",
      "26 2565\n",
      "27 4854\n",
      "28 3822\n",
      "29 4329\n",
      "30 4612\n",
      "31 6069\n",
      "32 4391\n",
      "33 824\n",
      "34 0\n",
      "35 5496\n",
      "36 5846\n",
      "37 7269\n",
      "38 3455\n",
      "39 0\n",
      "40 0\n",
      "41 8674\n",
      "42 2408\n",
      "43 0\n",
      "44 5498\n",
      "45 5812\n",
      "46 1265\n",
      "47 869\n",
      "48 5321\n",
      "49 5849\n",
      "50 2715\n",
      "51 5695\n",
      "52 0\n",
      "53 4966\n",
      "54 5494\n",
      "55 1660\n",
      "56 606\n",
      "57 4257\n",
      "58 7903\n",
      "59 4431\n",
      "60 1319\n",
      "61 5603\n",
      "62 8747\n",
      "63 5323\n",
      "64 5383\n",
      "65 5156\n",
      "66 4389\n",
      "67 4112\n",
      "68 5803\n",
      "69 7090\n",
      "70 0\n",
      "71 5845\n",
      "72 5373\n",
      "73 5498\n",
      "74 3389\n",
      "75 4054\n",
      "76 1114\n",
      "77 917\n",
      "78 5129\n",
      "79 0\n",
      "80 8740\n",
      "81 888\n",
      "82 3722\n",
      "83 5803\n",
      "84 7801\n",
      "85 4807\n",
      "86 4015\n",
      "87 5699\n",
      "88 5803\n",
      "89 4759\n",
      "90 2711\n",
      "91 8630\n",
      "92 912\n",
      "93 0\n",
      "94 1656\n",
      "95 7402\n",
      "96 929\n",
      "97 2367\n",
      "98 4496\n",
      "99 3199\n",
      "100 3117\n",
      "101 5803\n",
      "102 3447\n",
      "103 2978\n",
      "104 7423\n",
      "105 2696\n",
      "106 5496\n",
      "107 4336\n",
      "108 3227\n",
      "109 5494\n",
      "110 5544\n",
      "111 5686\n",
      "112 4206\n",
      "113 5436\n",
      "114 5677\n",
      "115 4872\n",
      "116 3192\n",
      "117 1032\n",
      "118 5326\n",
      "119 5070\n",
      "120 7949\n",
      "121 7281\n",
      "122 5495\n",
      "123 3686\n",
      "124 7929\n",
      "125 4019\n",
      "126 5498\n",
      "127 5496\n",
      "128 1703\n",
      "129 2091\n",
      "130 4034\n",
      "131 5939\n",
      "132 5492\n",
      "133 5806\n",
      "134 5920\n",
      "135 0\n",
      "136 1706\n",
      "137 0\n",
      "138 5441\n",
      "139 7949\n",
      "140 1050\n",
      "141 1670\n",
      "142 5070\n",
      "143 7950\n",
      "144 678\n",
      "145 665\n",
      "146 3811\n",
      "147 5695\n",
      "148 3646\n",
      "149 1\n",
      "150 8728\n",
      "151 5633\n",
      "152 7070\n",
      "153 8657\n",
      "154 2377\n",
      "155 584\n",
      "156 7781\n",
      "157 3655\n",
      "158 5964\n",
      "159 7993\n",
      "160 5134\n",
      "161 4764\n",
      "162 7713\n",
      "163 5539\n",
      "164 5370\n",
      "165 7451\n",
      "166 7604\n",
      "167 8655\n",
      "168 8719\n",
      "169 2241\n",
      "170 8701\n",
      "171 8776\n",
      "172 5496\n",
      "173 5627\n",
      "174 0\n",
      "175 4287\n",
      "176 5921\n",
      "177 5695\n",
      "178 5849\n",
      "179 8653\n",
      "180 781\n",
      "181 4425\n",
      "182 4295\n",
      "183 1201\n",
      "184 3737\n",
      "185 3686\n",
      "186 1146\n",
      "187 540\n",
      "188 894\n",
      "189 5699\n",
      "190 5565\n",
      "191 899\n",
      "192 8696\n",
      "193 7494\n",
      "194 4320\n",
      "195 1028\n",
      "196 7423\n",
      "197 4099\n",
      "198 6009\n",
      "199 1789\n",
      "200 5845\n",
      "\n"
     ]
    }
   ],
   "source": [
    "str1=f'{M}\\n'\n",
    "for task,minutes in taskIdAndComplTime:\n",
    "    startId=getMinPriceStartId(N,prices,minutes)\n",
    "    str1+=f'{task} {startId}\\n'\n"
   ]
  },
  {
   "cell_type": "markdown",
   "metadata": {},
   "source": [
    "### <font face='comic sans ms' color ='magenta'>Level 3</font>"
   ]
  },
  {
   "cell_type": "code",
   "execution_count": 24,
   "metadata": {},
   "outputs": [],
   "source": [
    "data=open('input/level3_1.in')\n",
    "lines=data.readlines()\n",
    "N=int(lines[0])\n",
    "prices=[int(lines[i]) for i in range(1,N+1)]\n",
    "M=int(lines[N+1])\n",
    "tskPowStEn=[tuple(map(int,lines[i].split())) for i in range(N+2,N+2+M)]"
   ]
  },
  {
   "cell_type": "code",
   "execution_count": 6,
   "metadata": {},
   "outputs": [
    {
     "name": "stdout",
     "output_type": "stream",
     "text": [
      "10\n",
      "9796\n",
      "8267\n",
      "5415\n",
      "8256\n",
      "6770\n",
      "3985\n",
      "2567\n",
      "2753\n",
      "5600\n",
      "5046\n",
      "5\n",
      "(1, 4, 2, 8)\n",
      "(2, 7, 1, 8)\n",
      "(3, 1, 0, 2)\n",
      "(4, 1, 7, 8)\n",
      "(5, 1, 1, 2)\n"
     ]
    }
   ],
   "source": [
    "print(N)\n",
    "for p in prices:\n",
    "    print(p)\n",
    "print(M)\n",
    "for i in tskPowStEn:\n",
    "    print(i)"
   ]
  },
  {
   "cell_type": "code",
   "execution_count": 20,
   "metadata": {},
   "outputs": [
    {
     "data": {
      "text/plain": [
       "13682"
      ]
     },
     "execution_count": 20,
     "metadata": {},
     "output_type": "execute_result"
    }
   ],
   "source": [
    "sm=sum(prices[1:2+1])\n",
    "sm"
   ]
  },
  {
   "cell_type": "code",
   "execution_count": 25,
   "metadata": {},
   "outputs": [],
   "source": [
    "str1=f'{M}\\n'\n",
    "for tskId,pw,st,ed in tskPowStEn:\n",
    "    priceId=st\n",
    "    for i in range(st,ed+1):\n",
    "        if prices[priceId]>prices[i]:\n",
    "            priceId=i\n",
    "    str1+=f'{tskId} {priceId} {pw}\\n'\n"
   ]
  },
  {
   "cell_type": "code",
   "execution_count": 26,
   "metadata": {},
   "outputs": [],
   "source": [
    "f=open('output.out','w')\n",
    "f.write(str1)\n",
    "f.close()"
   ]
  },
  {
   "cell_type": "markdown",
   "metadata": {},
   "source": [
    "### <font face='comic sans ms' color ='magenta'>Level 4</font>"
   ]
  },
  {
   "cell_type": "code",
   "execution_count": 1,
   "metadata": {},
   "outputs": [],
   "source": [
    "data=open('input/level4_example.in')\n",
    "lines=data.readlines()\n",
    "maxPow=int(lines[0])\n",
    "maxElecBill=int(lines[1])\n",
    "N=int(lines[2])\n",
    "prices=[int(lines[i]) for i in range(3,N+3)]\n",
    "M=int(lines[N+3])\n",
    "tskPowStEn=[tuple(map(int,lines[i].split())) for i in range(N+4,N+4+M)]"
   ]
  },
  {
   "cell_type": "code",
   "execution_count": 6,
   "metadata": {},
   "outputs": [
    {
     "name": "stdout",
     "output_type": "stream",
     "text": [
      "Max Power: 5\n",
      "Max Electricity Bill: 100000\n",
      "no. of prices: 10\n",
      "0. 7428\n",
      "1. 9824\n",
      "2. 6914\n",
      "3. 9473\n",
      "4. 7666\n",
      "5. 4950\n",
      "6. 2248\n",
      "7. 3305\n",
      "8. 6439\n",
      "9. 6393\n",
      "\n",
      "no. of tasks: 5\n",
      "taskID\tpower\tstartInt\tendInt\n",
      "1\t6\t2\t9\n",
      "2\t1\t5\t9\n",
      "3\t5\t2\t9\n",
      "4\t1\t7\t8\n",
      "5\t4\t2\t9\n"
     ]
    }
   ],
   "source": [
    "print('Max Power:',maxPow)\n",
    "print('Max Electricity Bill:',maxElecBill)\n",
    "print('no. of prices:',N)\n",
    "for i in range(N):\n",
    "    print(f'{i}. {prices[i]}')\n",
    "print()\n",
    "print('no. of tasks:',M)\n",
    "print('taskID\\tpower\\tstartInt\\tendInt')\n",
    "for i,j,k,l in tskPowStEn:\n",
    "    print(f'{i}\\t{j}\\t{k}\\t{l}')"
   ]
  },
  {
   "cell_type": "code",
   "execution_count": null,
   "metadata": {},
   "outputs": [],
   "source": []
  }
 ],
 "metadata": {
  "kernelspec": {
   "display_name": "base",
   "language": "python",
   "name": "python3"
  },
  "language_info": {
   "codemirror_mode": {
    "name": "ipython",
    "version": 3
   },
   "file_extension": ".py",
   "mimetype": "text/x-python",
   "name": "python",
   "nbconvert_exporter": "python",
   "pygments_lexer": "ipython3",
   "version": "3.9.12"
  },
  "orig_nbformat": 4
 },
 "nbformat": 4,
 "nbformat_minor": 2
}
