{
 "cells": [
  {
   "cell_type": "markdown",
   "metadata": {},
   "source": [
    "### <font face='comic sans ms' color ='magenta'>Level 1</font>"
   ]
  },
  {
   "cell_type": "code",
   "execution_count": 2,
   "metadata": {},
   "outputs": [],
   "source": [
    "data=open('input/level1_1.in')\n",
    "lines=data.readlines()\n",
    "N=int(lines[0])\n",
    "prices=[int(lines[i]) for i in range(1,N+1)]"
   ]
  },
  {
   "cell_type": "code",
   "execution_count": null,
   "metadata": {},
   "outputs": [],
   "source": [
    "minPriceId=0\n",
    "for i in range(N):\n",
    "    if prices[minPriceId]>prices[i]:\n",
    "        minPriceId=i\n",
    "minPriceId"
   ]
  },
  {
   "cell_type": "markdown",
   "metadata": {},
   "source": [
    "### <font face='comic sans ms' color ='magenta'>Level 2</font>"
   ]
  },
  {
   "cell_type": "code",
   "execution_count": 24,
   "metadata": {},
   "outputs": [],
   "source": [
    "data=open('input/level2_5.in')\n",
    "lines=data.readlines()\n",
    "N=int(lines[0])\n",
    "prices=[int(lines[i]) for i in range(1,N+1)]\n",
    "M=int(lines[N+1])\n",
    "taskIdAndComplTime=[tuple(map(int,lines[i].split())) for i in range(N+2,N+2+M)]"
   ]
  },
  {
   "cell_type": "code",
   "execution_count": 25,
   "metadata": {},
   "outputs": [],
   "source": [
    "def getMinPriceStartId(N,prices,minutes):\n",
    "    startId=0\n",
    "    for i in range(0,N-minutes+1):\n",
    "        tempPriceSum=sum(prices[i:i+minutes])\n",
    "        if tempPriceSum<sum(prices[startId:startId+minutes]):\n",
    "            startId=i\n",
    "    return startId"
   ]
  },
  {
   "cell_type": "code",
   "execution_count": 23,
   "metadata": {},
   "outputs": [
    {
     "name": "stdout",
     "output_type": "stream",
     "text": [
      "200\n",
      "1 8672\n",
      "2 0\n",
      "3 2296\n",
      "4 1473\n",
      "5 1050\n",
      "6 7570\n",
      "7 8884\n",
      "8 5548\n",
      "9 0\n",
      "10 6081\n",
      "11 7949\n",
      "12 5130\n",
      "13 1889\n",
      "14 5694\n",
      "15 5496\n",
      "16 5370\n",
      "17 1641\n",
      "18 2048\n",
      "19 8747\n",
      "20 5421\n",
      "21 4423\n",
      "22 5682\n",
      "23 5326\n",
      "24 5261\n",
      "25 949\n",
      "26 2565\n",
      "27 4854\n",
      "28 3822\n",
      "29 4329\n",
      "30 4612\n",
      "31 6069\n",
      "32 4391\n",
      "33 824\n",
      "34 0\n",
      "35 5496\n",
      "36 5846\n",
      "37 7269\n",
      "38 3455\n",
      "39 0\n",
      "40 0\n",
      "41 8674\n",
      "42 2408\n",
      "43 0\n",
      "44 5498\n",
      "45 5812\n",
      "46 1265\n",
      "47 869\n",
      "48 5321\n",
      "49 5849\n",
      "50 2715\n",
      "51 5695\n",
      "52 0\n",
      "53 4966\n",
      "54 5494\n",
      "55 1660\n",
      "56 606\n",
      "57 4257\n",
      "58 7903\n",
      "59 4431\n",
      "60 1319\n",
      "61 5603\n",
      "62 8747\n",
      "63 5323\n",
      "64 5383\n",
      "65 5156\n",
      "66 4389\n",
      "67 4112\n",
      "68 5803\n",
      "69 7090\n",
      "70 0\n",
      "71 5845\n",
      "72 5373\n",
      "73 5498\n",
      "74 3389\n",
      "75 4054\n",
      "76 1114\n",
      "77 917\n",
      "78 5129\n",
      "79 0\n",
      "80 8740\n",
      "81 888\n",
      "82 3722\n",
      "83 5803\n",
      "84 7801\n",
      "85 4807\n",
      "86 4015\n",
      "87 5699\n",
      "88 5803\n",
      "89 4759\n",
      "90 2711\n",
      "91 8630\n",
      "92 912\n",
      "93 0\n",
      "94 1656\n",
      "95 7402\n",
      "96 929\n",
      "97 2367\n",
      "98 4496\n",
      "99 3199\n",
      "100 3117\n",
      "101 5803\n",
      "102 3447\n",
      "103 2978\n",
      "104 7423\n",
      "105 2696\n",
      "106 5496\n",
      "107 4336\n",
      "108 3227\n",
      "109 5494\n",
      "110 5544\n",
      "111 5686\n",
      "112 4206\n",
      "113 5436\n",
      "114 5677\n",
      "115 4872\n",
      "116 3192\n",
      "117 1032\n",
      "118 5326\n",
      "119 5070\n",
      "120 7949\n",
      "121 7281\n",
      "122 5495\n",
      "123 3686\n",
      "124 7929\n",
      "125 4019\n",
      "126 5498\n",
      "127 5496\n",
      "128 1703\n",
      "129 2091\n",
      "130 4034\n",
      "131 5939\n",
      "132 5492\n",
      "133 5806\n",
      "134 5920\n",
      "135 0\n",
      "136 1706\n",
      "137 0\n",
      "138 5441\n",
      "139 7949\n",
      "140 1050\n",
      "141 1670\n",
      "142 5070\n",
      "143 7950\n",
      "144 678\n",
      "145 665\n",
      "146 3811\n",
      "147 5695\n",
      "148 3646\n",
      "149 1\n",
      "150 8728\n",
      "151 5633\n",
      "152 7070\n",
      "153 8657\n",
      "154 2377\n",
      "155 584\n",
      "156 7781\n",
      "157 3655\n",
      "158 5964\n",
      "159 7993\n",
      "160 5134\n",
      "161 4764\n",
      "162 7713\n",
      "163 5539\n",
      "164 5370\n",
      "165 7451\n",
      "166 7604\n",
      "167 8655\n",
      "168 8719\n",
      "169 2241\n",
      "170 8701\n",
      "171 8776\n",
      "172 5496\n",
      "173 5627\n",
      "174 0\n",
      "175 4287\n",
      "176 5921\n",
      "177 5695\n",
      "178 5849\n",
      "179 8653\n",
      "180 781\n",
      "181 4425\n",
      "182 4295\n",
      "183 1201\n",
      "184 3737\n",
      "185 3686\n",
      "186 1146\n",
      "187 540\n",
      "188 894\n",
      "189 5699\n",
      "190 5565\n",
      "191 899\n",
      "192 8696\n",
      "193 7494\n",
      "194 4320\n",
      "195 1028\n",
      "196 7423\n",
      "197 4099\n",
      "198 6009\n",
      "199 1789\n",
      "200 5845\n",
      "\n"
     ]
    }
   ],
   "source": [
    "str1=f'{M}\\n'\n",
    "for task,minutes in taskIdAndComplTime:\n",
    "    startId=getMinPriceStartId(N,prices,minutes)\n",
    "    str1+=f'{task} {startId}\\n'\n"
   ]
  },
  {
   "cell_type": "markdown",
   "metadata": {},
   "source": [
    "### <font face='comic sans ms' color ='magenta'>Level 3</font>"
   ]
  },
  {
   "cell_type": "code",
   "execution_count": 24,
   "metadata": {},
   "outputs": [],
   "source": [
    "data=open('input/level3_1.in')\n",
    "lines=data.readlines()\n",
    "N=int(lines[0])\n",
    "prices=[int(lines[i]) for i in range(1,N+1)]\n",
    "M=int(lines[N+1])\n",
    "tskPowStEn=[tuple(map(int,lines[i].split())) for i in range(N+2,N+2+M)]"
   ]
  },
  {
   "cell_type": "code",
   "execution_count": 6,
   "metadata": {},
   "outputs": [
    {
     "name": "stdout",
     "output_type": "stream",
     "text": [
      "10\n",
      "9796\n",
      "8267\n",
      "5415\n",
      "8256\n",
      "6770\n",
      "3985\n",
      "2567\n",
      "2753\n",
      "5600\n",
      "5046\n",
      "5\n",
      "(1, 4, 2, 8)\n",
      "(2, 7, 1, 8)\n",
      "(3, 1, 0, 2)\n",
      "(4, 1, 7, 8)\n",
      "(5, 1, 1, 2)\n"
     ]
    }
   ],
   "source": [
    "print(N)\n",
    "for p in prices:\n",
    "    print(p)\n",
    "print(M)\n",
    "for i in tskPowStEn:\n",
    "    print(i)"
   ]
  },
  {
   "cell_type": "code",
   "execution_count": 20,
   "metadata": {},
   "outputs": [
    {
     "data": {
      "text/plain": [
       "13682"
      ]
     },
     "execution_count": 20,
     "metadata": {},
     "output_type": "execute_result"
    }
   ],
   "source": [
    "sm=sum(prices[1:2+1])\n",
    "sm"
   ]
  },
  {
   "cell_type": "code",
   "execution_count": 25,
   "metadata": {},
   "outputs": [],
   "source": [
    "str1=f'{M}\\n'\n",
    "for tskId,pw,st,ed in tskPowStEn:\n",
    "    priceId=st\n",
    "    for i in range(st,ed+1):\n",
    "        if prices[priceId]>prices[i]:\n",
    "            priceId=i\n",
    "    str1+=f'{tskId} {priceId} {pw}\\n'\n"
   ]
  },
  {
   "cell_type": "code",
   "execution_count": 26,
   "metadata": {},
   "outputs": [],
   "source": [
    "f=open('output.out','w')\n",
    "f.write(str1)\n",
    "f.close()"
   ]
  },
  {
   "cell_type": "markdown",
   "metadata": {},
   "source": [
    "### <font face='comic sans ms' color ='magenta'>Level 4</font>"
   ]
  },
  {
   "cell_type": "code",
   "execution_count": 88,
   "metadata": {},
   "outputs": [],
   "source": [
    "data=open('input/level4_1.in')\n",
    "lines=data.readlines()\n",
    "maxPow=int(lines[0])\n",
    "maxElecBill=int(lines[1])\n",
    "N=int(lines[2])\n",
    "prices=[int(lines[i]) for i in range(3,N+3)]\n",
    "M=int(lines[N+3])\n",
    "tskPowStEn=[list(map(int,lines[i].split())) for i in range(N+4,N+4+M)]"
   ]
  },
  {
   "cell_type": "code",
   "execution_count": 89,
   "metadata": {},
   "outputs": [
    {
     "name": "stdout",
     "output_type": "stream",
     "text": [
      "Max Power: 10\n",
      "Max Electricity Bill: 500000\n",
      "no. of prices: 50\n",
      "0. 6139\n",
      "1. 6204\n",
      "2. 5839\n",
      "3. 6402\n",
      "4. 7169\n",
      "5. 9608\n",
      "6. 9301\n",
      "7. 9700\n",
      "8. 8642\n",
      "9. 8191\n",
      "10. 8590\n",
      "11. 8553\n",
      "12. 8290\n",
      "13. 7576\n",
      "14. 7589\n",
      "15. 7153\n",
      "16. 7234\n",
      "17. 7762\n",
      "18. 8247\n",
      "19. 7989\n",
      "20. 8769\n",
      "21. 8430\n",
      "22. 8469\n",
      "23. 8338\n",
      "24. 7754\n",
      "25. 8526\n",
      "26. 6617\n",
      "27. 7806\n",
      "28. 7135\n",
      "29. 5925\n",
      "30. 5944\n",
      "31. 4303\n",
      "32. 4491\n",
      "33. 3822\n",
      "34. 2030\n",
      "35. 3368\n",
      "36. 4013\n",
      "37. 2551\n",
      "38. 1851\n",
      "39. 3061\n",
      "40. 3286\n",
      "41. 3674\n",
      "42. 4504\n",
      "43. 4905\n",
      "44. 5801\n",
      "45. 6043\n",
      "46. 6148\n",
      "47. 6152\n",
      "48. 6804\n",
      "49. 8136\n",
      "\n",
      "no. of tasks: 10\n",
      "taskID\tpower\tstartInt\tendInt\n",
      "1\t1\t35\t39\n",
      "2\t4\t25\t34\n",
      "3\t1\t39\t47\n",
      "4\t36\t11\t49\n",
      "5\t2\t35\t41\n",
      "6\t16\t18\t47\n",
      "7\t1\t35\t48\n",
      "8\t40\t2\t42\n",
      "9\t4\t29\t47\n",
      "10\t13\t34\t49\n"
     ]
    }
   ],
   "source": [
    "print('Max Power:',maxPow)\n",
    "print('Max Electricity Bill:',maxElecBill)\n",
    "print('no. of prices:',N)\n",
    "for i in range(N):\n",
    "    print(f'{i}. {prices[i]}')\n",
    "print()\n",
    "print('no. of tasks:',M)\n",
    "print('taskID\\tpower\\tstartInt\\tendInt')\n",
    "for i,j,k,l in tskPowStEn:\n",
    "    print(f'{i}\\t{j}\\t{k}\\t{l}')"
   ]
  },
  {
   "cell_type": "code",
   "execution_count": 83,
   "metadata": {},
   "outputs": [],
   "source": [
    "pricesLimit={x:5 for x in prices}"
   ]
  },
  {
   "cell_type": "code",
   "execution_count": 76,
   "metadata": {},
   "outputs": [
    {
     "data": {
      "text/plain": [
       "50"
      ]
     },
     "execution_count": 76,
     "metadata": {},
     "output_type": "execute_result"
    }
   ],
   "source": [
    "len(pricesLimit)"
   ]
  },
  {
   "cell_type": "code",
   "execution_count": 91,
   "metadata": {},
   "outputs": [
    {
     "name": "stdout",
     "output_type": "stream",
     "text": [
      "[[1, 1, 35, 39], [2, 4, 25, 34], [3, 1, 39, 47], [4, 36, 11, 49], [5, 2, 35, 41], [6, 16, 18, 47], [7, 1, 35, 48], [8, 40, 2, 42], [9, 4, 29, 47], [10, 13, 34, 49]]\n"
     ]
    }
   ],
   "source": [
    "print(tskPowStEn)"
   ]
  },
  {
   "cell_type": "code",
   "execution_count": 78,
   "metadata": {},
   "outputs": [
    {
     "name": "stdout",
     "output_type": "stream",
     "text": [
      "1 38 1 \n",
      "5 38 2 \n",
      "3 39 1 \n",
      "2 34 4 \n",
      "7 38 1 \n",
      "10 38 1 34 1 37 5 39 4 40 2 \n",
      "9 40 3 35 1 \n",
      "6 35 4 41 5 33 5 36 2 \n",
      "4 36 3 31 5 32 5 42 5 43 5 44 5 29 5 30 3 \n",
      "8 2 5 30 2 3 5 26 5 28 5 15 5 4 5 16 5 13 3 \n"
     ]
    }
   ],
   "source": [
    "bill=0\n",
    "for tid,power,st,en in newTspe:\n",
    "    str1=''\n",
    "    temp=prices[st:en+1]\n",
    "    temp.sort()\n",
    "    for price in temp:\n",
    "        if pricesLimit[price]>0:\n",
    "            str1+=str(prices.index(price))+' '\n",
    "            if pricesLimit[price]<=power:\n",
    "                str1+=str(pricesLimit[price])\n",
    "                bill+=pricesLimit[price]*price\n",
    "                power-=pricesLimit[price]\n",
    "                pricesLimit[price]=0\n",
    "                str1+=' '\n",
    "            else:\n",
    "                bill+=power*price\n",
    "                str1+=str(power)\n",
    "                pricesLimit[price]-=power\n",
    "                power=0\n",
    "                str1+=' '\n",
    "        if power==0: break\n",
    "    print(tid,str1)"
   ]
  },
  {
   "cell_type": "code",
   "execution_count": 80,
   "metadata": {},
   "outputs": [
    {
     "data": {
      "text/plain": [
       "578118"
      ]
     },
     "execution_count": 80,
     "metadata": {},
     "output_type": "execute_result"
    }
   ],
   "source": [
    "bill"
   ]
  },
  {
   "cell_type": "code",
   "execution_count": 79,
   "metadata": {},
   "outputs": [
    {
     "name": "stdout",
     "output_type": "stream",
     "text": [
      "{6139: 5, 6204: 5, 5839: 0, 6402: 0, 7169: 0, 9608: 5, 9301: 5, 9700: 5, 8642: 5, 8191: 5, 8590: 5, 8553: 5, 8290: 5, 7576: 2, 7589: 5, 7153: 0, 7234: 0, 7762: 5, 8247: 5, 7989: 5, 8769: 5, 8430: 5, 8469: 5, 8338: 5, 7754: 5, 8526: 5, 6617: 0, 7806: 5, 7135: 0, 5925: 0, 5944: 0, 4303: 0, 4491: 0, 3822: 0, 2030: 0, 3368: 0, 4013: 0, 2551: 0, 1851: 0, 3061: 0, 3286: 0, 3674: 0, 4504: 0, 4905: 0, 5801: 0, 6043: 5, 6148: 5, 6152: 5, 6804: 5, 8136: 5}\n"
     ]
    }
   ],
   "source": [
    "print(pricesLimit)"
   ]
  },
  {
   "cell_type": "code",
   "execution_count": 68,
   "metadata": {},
   "outputs": [],
   "source": [
    "power=[x-y for _,_,y,x in tskPowStEn]"
   ]
  },
  {
   "cell_type": "code",
   "execution_count": 69,
   "metadata": {},
   "outputs": [
    {
     "data": {
      "text/plain": [
       "[4, 9, 8, 38, 6, 29, 13, 40, 18, 15]"
      ]
     },
     "execution_count": 69,
     "metadata": {},
     "output_type": "execute_result"
    }
   ],
   "source": [
    "power"
   ]
  },
  {
   "cell_type": "code",
   "execution_count": 70,
   "metadata": {},
   "outputs": [],
   "source": [
    "te=[(power[i],i) for i in range(len(power))]"
   ]
  },
  {
   "cell_type": "code",
   "execution_count": 72,
   "metadata": {},
   "outputs": [
    {
     "name": "stdout",
     "output_type": "stream",
     "text": [
      "[(4, 0), (6, 4), (8, 2), (9, 1), (13, 6), (15, 9), (18, 8), (29, 5), (38, 3), (40, 7)]\n"
     ]
    }
   ],
   "source": [
    "te.sort()\n",
    "print(te)"
   ]
  },
  {
   "cell_type": "code",
   "execution_count": 73,
   "metadata": {},
   "outputs": [],
   "source": [
    "newTspe=[]\n",
    "for _,x in te:\n",
    "    newTspe.append(tskPowStEn[x])"
   ]
  },
  {
   "cell_type": "code",
   "execution_count": 74,
   "metadata": {},
   "outputs": [
    {
     "data": {
      "text/plain": [
       "[(1, 1, 35, 39),\n",
       " (5, 2, 35, 41),\n",
       " (3, 1, 39, 47),\n",
       " (2, 4, 25, 34),\n",
       " (7, 1, 35, 48),\n",
       " (10, 13, 34, 49),\n",
       " (9, 4, 29, 47),\n",
       " (6, 16, 18, 47),\n",
       " (4, 36, 11, 49),\n",
       " (8, 40, 2, 42)]"
      ]
     },
     "execution_count": 74,
     "metadata": {},
     "output_type": "execute_result"
    }
   ],
   "source": [
    "newTspe"
   ]
  },
  {
   "cell_type": "markdown",
   "metadata": {},
   "source": [
    "### <font face='comic sans ms' color ='magenta'>Recycle Bin</font>"
   ]
  },
  {
   "cell_type": "code",
   "execution_count": 3,
   "metadata": {},
   "outputs": [],
   "source": [
    "tupPriceIndex=[(i,prices[i]) for i in range(N)]"
   ]
  },
  {
   "cell_type": "code",
   "execution_count": 4,
   "metadata": {},
   "outputs": [],
   "source": [
    "tupPriceIndex=sorted(tupPriceIndex,key=lambda x:x[1])"
   ]
  },
  {
   "cell_type": "code",
   "execution_count": 5,
   "metadata": {},
   "outputs": [
    {
     "name": "stdout",
     "output_type": "stream",
     "text": [
      "[(38, 1851), (34, 2030), (37, 2551), (39, 3061), (40, 3286), (35, 3368), (41, 3674), (33, 3822), (36, 4013), (31, 4303), (32, 4491), (42, 4504), (43, 4905), (44, 5801), (2, 5839), (29, 5925), (30, 5944), (45, 6043), (0, 6139), (46, 6148), (47, 6152), (1, 6204), (3, 6402), (26, 6617), (48, 6804), (28, 7135), (15, 7153), (4, 7169), (16, 7234), (13, 7576), (14, 7589), (24, 7754), (17, 7762), (27, 7806), (19, 7989), (49, 8136), (9, 8191), (18, 8247), (12, 8290), (23, 8338), (21, 8430), (22, 8469), (25, 8526), (11, 8553), (10, 8590), (8, 8642), (20, 8769), (6, 9301), (5, 9608), (7, 9700)]\n"
     ]
    }
   ],
   "source": [
    "print(tupPriceIndex)"
   ]
  },
  {
   "cell_type": "code",
   "execution_count": 6,
   "metadata": {},
   "outputs": [
    {
     "data": {
      "text/plain": [
       "[(1, 1, 35, 39),\n",
       " (2, 4, 25, 34),\n",
       " (3, 1, 39, 47),\n",
       " (4, 36, 11, 49),\n",
       " (5, 2, 35, 41),\n",
       " (6, 16, 18, 47),\n",
       " (7, 1, 35, 48),\n",
       " (8, 40, 2, 42),\n",
       " (9, 4, 29, 47),\n",
       " (10, 13, 34, 49)]"
      ]
     },
     "execution_count": 6,
     "metadata": {},
     "output_type": "execute_result"
    }
   ],
   "source": [
    "tskPowStEn"
   ]
  },
  {
   "cell_type": "code",
   "execution_count": 7,
   "metadata": {},
   "outputs": [],
   "source": [
    "tid,pw,st,en=tskPowStEn[0]\n",
    "ls=[]\n",
    "for i,value in tupPriceIndex:\n",
    "    if st<=i<=en:\n",
    "        pw-=1\n",
    "        ls.append(i)\n",
    "        ls.append(1)\n",
    "    if pw==0: break"
   ]
  },
  {
   "cell_type": "code",
   "execution_count": 8,
   "metadata": {},
   "outputs": [
    {
     "data": {
      "text/plain": [
       "[38, 1]"
      ]
     },
     "execution_count": 8,
     "metadata": {},
     "output_type": "execute_result"
    }
   ],
   "source": [
    "ls"
   ]
  },
  {
   "cell_type": "code",
   "execution_count": 9,
   "metadata": {},
   "outputs": [
    {
     "name": "stdout",
     "output_type": "stream",
     "text": [
      "1 "
     ]
    },
    {
     "ename": "NameError",
     "evalue": "name 'printing' is not defined",
     "output_type": "error",
     "traceback": [
      "\u001b[1;31m---------------------------------------------------------------------------\u001b[0m",
      "\u001b[1;31mNameError\u001b[0m                                 Traceback (most recent call last)",
      "\u001b[1;32md:\\Works_Space\\Timeline\\2023\\06_June\\SmartGrid\\grid.ipynb Cell 23\u001b[0m in \u001b[0;36m<cell line: 1>\u001b[1;34m()\u001b[0m\n\u001b[0;32m      <a href='vscode-notebook-cell:/d%3A/Works_Space/Timeline/2023/06_June/SmartGrid/grid.ipynb#X31sZmlsZQ%3D%3D?line=6'>7</a>\u001b[0m     \u001b[39mif\u001b[39;00m pw\u001b[39m==\u001b[39m\u001b[39m0\u001b[39m: \u001b[39mbreak\u001b[39;00m\n\u001b[0;32m      <a href='vscode-notebook-cell:/d%3A/Works_Space/Timeline/2023/06_June/SmartGrid/grid.ipynb#X31sZmlsZQ%3D%3D?line=7'>8</a>\u001b[0m \u001b[39mprint\u001b[39m(tid,end\u001b[39m=\u001b[39m\u001b[39m'\u001b[39m\u001b[39m \u001b[39m\u001b[39m'\u001b[39m)\n\u001b[1;32m----> <a href='vscode-notebook-cell:/d%3A/Works_Space/Timeline/2023/06_June/SmartGrid/grid.ipynb#X31sZmlsZQ%3D%3D?line=8'>9</a>\u001b[0m printing(ls)\n",
      "\u001b[1;31mNameError\u001b[0m: name 'printing' is not defined"
     ]
    }
   ],
   "source": [
    "for tid,pw,st,en in tskPowStEn:\n",
    "    ls=[]\n",
    "    for i,value in tupPriceIndex:\n",
    "        if st<=i<=en:\n",
    "            pw-=1\n",
    "            ls.append(i)\n",
    "        if pw==0: break\n",
    "    print(tid,end=' ')\n",
    "    printing(ls)\n",
    "    # print()"
   ]
  },
  {
   "cell_type": "code",
   "execution_count": 24,
   "metadata": {},
   "outputs": [],
   "source": [
    "def printing(ls):\n",
    "    c=1\n",
    "    i=0\n",
    "    ls.sort()\n",
    "    for i in range(len(ls)-1):\n",
    "        if (ls[i]+1)==ls[i+1]:\n",
    "            c+=1\n",
    "        else:\n",
    "            print(ls[i],c,end=' ')\n",
    "            c=1\n",
    "    \n",
    "    print(ls[i],c)"
   ]
  },
  {
   "cell_type": "code",
   "execution_count": 13,
   "metadata": {},
   "outputs": [],
   "source": [
    "a=[1,2,3,1,2,4,1]"
   ]
  },
  {
   "cell_type": "code",
   "execution_count": 18,
   "metadata": {},
   "outputs": [],
   "source": [
    "b=a[2:5]\n",
    "b.sort()"
   ]
  },
  {
   "cell_type": "code",
   "execution_count": 19,
   "metadata": {},
   "outputs": [
    {
     "data": {
      "text/plain": [
       "[1, 2, 3]"
      ]
     },
     "execution_count": 19,
     "metadata": {},
     "output_type": "execute_result"
    }
   ],
   "source": [
    "b"
   ]
  },
  {
   "cell_type": "code",
   "execution_count": null,
   "metadata": {},
   "outputs": [],
   "source": []
  },
  {
   "cell_type": "code",
   "execution_count": 56,
   "metadata": {},
   "outputs": [
    {
     "data": {
      "text/plain": [
       "567879"
      ]
     },
     "execution_count": 56,
     "metadata": {},
     "output_type": "execute_result"
    }
   ],
   "source": [
    "bill"
   ]
  }
 ],
 "metadata": {
  "kernelspec": {
   "display_name": "base",
   "language": "python",
   "name": "python3"
  },
  "language_info": {
   "codemirror_mode": {
    "name": "ipython",
    "version": 3
   },
   "file_extension": ".py",
   "mimetype": "text/x-python",
   "name": "python",
   "nbconvert_exporter": "python",
   "pygments_lexer": "ipython3",
   "version": "3.9.12"
  },
  "orig_nbformat": 4
 },
 "nbformat": 4,
 "nbformat_minor": 2
}
